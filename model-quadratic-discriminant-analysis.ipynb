{
 "cells": [
  {
   "cell_type": "code",
   "execution_count": 1,
   "id": "f1b4b33f",
   "metadata": {
    "_cell_guid": "b1076dfc-b9ad-4769-8c92-a6c4dae69d19",
    "_uuid": "8f2839f25d086af736a60e9eeb907d3b93b6e0e5",
    "execution": {
     "iopub.execute_input": "2022-10-18T21:02:32.217410Z",
     "iopub.status.busy": "2022-10-18T21:02:32.216956Z",
     "iopub.status.idle": "2022-10-18T21:02:34.108207Z",
     "shell.execute_reply": "2022-10-18T21:02:34.106774Z"
    },
    "papermill": {
     "duration": 1.906117,
     "end_time": "2022-10-18T21:02:34.111324",
     "exception": false,
     "start_time": "2022-10-18T21:02:32.205207",
     "status": "completed"
    },
    "tags": []
   },
   "outputs": [
    {
     "name": "stdout",
     "output_type": "stream",
     "text": [
      "/kaggle/input/heart-disease/heart_2020_cleaned.csv\n",
      "/kaggle/input/datosreales/DatosReales.csv\n",
      "/kaggle/input/datasetheartdisease/dataset.csv\n"
     ]
    }
   ],
   "source": [
    "## Importamos todas las librerías que vamos a utilizar\n",
    "import numpy as np \n",
    "import pandas as pd \n",
    "from sklearn.model_selection import train_test_split\n",
    "from sklearn.model_selection import StratifiedKFold\n",
    "\n",
    "from sklearn.discriminant_analysis import LinearDiscriminantAnalysis\n",
    "from sklearn.discriminant_analysis import QuadraticDiscriminantAnalysis\n",
    "from sklearn.naive_bayes import GaussianNB\n",
    "\n",
    "from collections import Counter\n",
    "\n",
    "from sklearn.preprocessing import StandardScaler\n",
    "from sklearn.metrics import precision_score,recall_score,accuracy_score,f1_score,confusion_matrix,ConfusionMatrixDisplay\n",
    "import seaborn as sns\n",
    "import matplotlib.pyplot as plt\n",
    "from imblearn.under_sampling import RandomUnderSampler \n",
    "from imblearn.over_sampling import RandomOverSampler \n",
    "from sklearn.preprocessing import LabelEncoder\n",
    "encoder = LabelEncoder()\n",
    "\n",
    "\n",
    "\n",
    "import os\n",
    "for dirname, _, filenames in os.walk('/kaggle/input'):\n",
    "    for filename in filenames:\n",
    "        print(os.path.join(dirname, filename))\n"
   ]
  },
  {
   "cell_type": "markdown",
   "id": "09021d53",
   "metadata": {
    "papermill": {
     "duration": 0.008318,
     "end_time": "2022-10-18T21:02:34.128816",
     "exception": false,
     "start_time": "2022-10-18T21:02:34.120498",
     "status": "completed"
    },
    "tags": []
   },
   "source": [
    "# Visualización inicial de los datos\n",
    "Se realiza una visualización inicial de los datos, observando que todos los datos están transfromados a datos numéricos. También eliminamos una columna que se nos creó cuando transformamos el dataset."
   ]
  },
  {
   "cell_type": "code",
   "execution_count": 2,
   "id": "d84246d9",
   "metadata": {
    "execution": {
     "iopub.execute_input": "2022-10-18T21:02:34.148164Z",
     "iopub.status.busy": "2022-10-18T21:02:34.147167Z",
     "iopub.status.idle": "2022-10-18T21:02:34.926885Z",
     "shell.execute_reply": "2022-10-18T21:02:34.925487Z"
    },
    "papermill": {
     "duration": 0.792058,
     "end_time": "2022-10-18T21:02:34.929460",
     "exception": false,
     "start_time": "2022-10-18T21:02:34.137402",
     "status": "completed"
    },
    "tags": []
   },
   "outputs": [
    {
     "data": {
      "text/html": [
       "<div>\n",
       "<style scoped>\n",
       "    .dataframe tbody tr th:only-of-type {\n",
       "        vertical-align: middle;\n",
       "    }\n",
       "\n",
       "    .dataframe tbody tr th {\n",
       "        vertical-align: top;\n",
       "    }\n",
       "\n",
       "    .dataframe thead th {\n",
       "        text-align: right;\n",
       "    }\n",
       "</style>\n",
       "<table border=\"1\" class=\"dataframe\">\n",
       "  <thead>\n",
       "    <tr style=\"text-align: right;\">\n",
       "      <th></th>\n",
       "      <th>HeartDisease</th>\n",
       "      <th>BMI</th>\n",
       "      <th>Smoking</th>\n",
       "      <th>AlcoholDrinking</th>\n",
       "      <th>Stroke</th>\n",
       "      <th>PhysicalHealth</th>\n",
       "      <th>MentalHealth</th>\n",
       "      <th>DiffWalking</th>\n",
       "      <th>Sex</th>\n",
       "      <th>AgeCategory</th>\n",
       "      <th>Diabetic</th>\n",
       "      <th>PhysicalActivity</th>\n",
       "      <th>GenHealth</th>\n",
       "      <th>SleepTime</th>\n",
       "      <th>Asthma</th>\n",
       "      <th>KidneyDisease</th>\n",
       "      <th>SkinCancer</th>\n",
       "    </tr>\n",
       "  </thead>\n",
       "  <tbody>\n",
       "    <tr>\n",
       "      <th>0</th>\n",
       "      <td>0</td>\n",
       "      <td>16.60</td>\n",
       "      <td>1</td>\n",
       "      <td>0</td>\n",
       "      <td>0</td>\n",
       "      <td>3.0</td>\n",
       "      <td>30.0</td>\n",
       "      <td>0</td>\n",
       "      <td>8</td>\n",
       "      <td>17</td>\n",
       "      <td>1</td>\n",
       "      <td>1</td>\n",
       "      <td>5</td>\n",
       "      <td>5.0</td>\n",
       "      <td>1</td>\n",
       "      <td>0</td>\n",
       "      <td>1</td>\n",
       "    </tr>\n",
       "    <tr>\n",
       "      <th>1</th>\n",
       "      <td>0</td>\n",
       "      <td>20.34</td>\n",
       "      <td>0</td>\n",
       "      <td>0</td>\n",
       "      <td>1</td>\n",
       "      <td>0.0</td>\n",
       "      <td>0.0</td>\n",
       "      <td>0</td>\n",
       "      <td>8</td>\n",
       "      <td>22</td>\n",
       "      <td>0</td>\n",
       "      <td>1</td>\n",
       "      <td>5</td>\n",
       "      <td>7.0</td>\n",
       "      <td>0</td>\n",
       "      <td>0</td>\n",
       "      <td>0</td>\n",
       "    </tr>\n",
       "    <tr>\n",
       "      <th>2</th>\n",
       "      <td>0</td>\n",
       "      <td>26.58</td>\n",
       "      <td>1</td>\n",
       "      <td>0</td>\n",
       "      <td>0</td>\n",
       "      <td>20.0</td>\n",
       "      <td>30.0</td>\n",
       "      <td>0</td>\n",
       "      <td>9</td>\n",
       "      <td>19</td>\n",
       "      <td>1</td>\n",
       "      <td>1</td>\n",
       "      <td>3</td>\n",
       "      <td>8.0</td>\n",
       "      <td>1</td>\n",
       "      <td>0</td>\n",
       "      <td>0</td>\n",
       "    </tr>\n",
       "    <tr>\n",
       "      <th>3</th>\n",
       "      <td>0</td>\n",
       "      <td>24.21</td>\n",
       "      <td>0</td>\n",
       "      <td>0</td>\n",
       "      <td>0</td>\n",
       "      <td>0.0</td>\n",
       "      <td>0.0</td>\n",
       "      <td>0</td>\n",
       "      <td>8</td>\n",
       "      <td>21</td>\n",
       "      <td>0</td>\n",
       "      <td>0</td>\n",
       "      <td>4</td>\n",
       "      <td>6.0</td>\n",
       "      <td>0</td>\n",
       "      <td>0</td>\n",
       "      <td>1</td>\n",
       "    </tr>\n",
       "    <tr>\n",
       "      <th>4</th>\n",
       "      <td>0</td>\n",
       "      <td>23.71</td>\n",
       "      <td>0</td>\n",
       "      <td>0</td>\n",
       "      <td>0</td>\n",
       "      <td>28.0</td>\n",
       "      <td>0.0</td>\n",
       "      <td>1</td>\n",
       "      <td>8</td>\n",
       "      <td>14</td>\n",
       "      <td>0</td>\n",
       "      <td>1</td>\n",
       "      <td>5</td>\n",
       "      <td>8.0</td>\n",
       "      <td>0</td>\n",
       "      <td>0</td>\n",
       "      <td>0</td>\n",
       "    </tr>\n",
       "  </tbody>\n",
       "</table>\n",
       "</div>"
      ],
      "text/plain": [
       "   HeartDisease    BMI  Smoking  AlcoholDrinking  Stroke  PhysicalHealth  \\\n",
       "0             0  16.60        1                0       0             3.0   \n",
       "1             0  20.34        0                0       1             0.0   \n",
       "2             0  26.58        1                0       0            20.0   \n",
       "3             0  24.21        0                0       0             0.0   \n",
       "4             0  23.71        0                0       0            28.0   \n",
       "\n",
       "   MentalHealth  DiffWalking  Sex  AgeCategory  Diabetic  PhysicalActivity  \\\n",
       "0          30.0            0    8           17         1                 1   \n",
       "1           0.0            0    8           22         0                 1   \n",
       "2          30.0            0    9           19         1                 1   \n",
       "3           0.0            0    8           21         0                 0   \n",
       "4           0.0            1    8           14         0                 1   \n",
       "\n",
       "   GenHealth  SleepTime  Asthma  KidneyDisease  SkinCancer  \n",
       "0          5        5.0       1              0           1  \n",
       "1          5        7.0       0              0           0  \n",
       "2          3        8.0       1              0           0  \n",
       "3          4        6.0       0              0           1  \n",
       "4          5        8.0       0              0           0  "
      ]
     },
     "execution_count": 2,
     "metadata": {},
     "output_type": "execute_result"
    }
   ],
   "source": [
    "data=pd.read_csv(\"/kaggle/input/datasetheartdisease/dataset.csv\")\n",
    "df=data.copy()\n",
    "df=df.drop([\"Unnamed: 0\"],axis=1)\n",
    "df.head()"
   ]
  },
  {
   "cell_type": "markdown",
   "id": "d3b1b8c9",
   "metadata": {
    "papermill": {
     "duration": 0.00856,
     "end_time": "2022-10-18T21:02:34.949757",
     "exception": false,
     "start_time": "2022-10-18T21:02:34.941197",
     "status": "completed"
    },
    "tags": []
   },
   "source": [
    "# Separamos los datos\n",
    "Separamos los datos de nuestro dataset, ponemos las características que vamos a utilizar para entrenar en la variable X y la variable a predecir en la varibale Y."
   ]
  },
  {
   "cell_type": "code",
   "execution_count": 3,
   "id": "1755c460",
   "metadata": {
    "execution": {
     "iopub.execute_input": "2022-10-18T21:02:34.969760Z",
     "iopub.status.busy": "2022-10-18T21:02:34.968900Z",
     "iopub.status.idle": "2022-10-18T21:02:34.989504Z",
     "shell.execute_reply": "2022-10-18T21:02:34.988037Z"
    },
    "papermill": {
     "duration": 0.033882,
     "end_time": "2022-10-18T21:02:34.992434",
     "exception": false,
     "start_time": "2022-10-18T21:02:34.958552",
     "status": "completed"
    },
    "tags": []
   },
   "outputs": [],
   "source": [
    "X=df.iloc[:,1:]\n",
    "Y=df.iloc[:,0]"
   ]
  },
  {
   "cell_type": "markdown",
   "id": "f32dda6a",
   "metadata": {
    "papermill": {
     "duration": 0.008495,
     "end_time": "2022-10-18T21:02:35.009967",
     "exception": false,
     "start_time": "2022-10-18T21:02:35.001472",
     "status": "completed"
    },
    "tags": []
   },
   "source": [
    "# Estandarización de los datos\n",
    "Usamos StandardScaler para estandarizar las caracteríticas que vamos a usar para entrenar en nuestro modelo."
   ]
  },
  {
   "cell_type": "code",
   "execution_count": 4,
   "id": "1bb9d722",
   "metadata": {
    "execution": {
     "iopub.execute_input": "2022-10-18T21:02:35.029591Z",
     "iopub.status.busy": "2022-10-18T21:02:35.029162Z",
     "iopub.status.idle": "2022-10-18T21:02:35.157264Z",
     "shell.execute_reply": "2022-10-18T21:02:35.156117Z"
    },
    "papermill": {
     "duration": 0.140878,
     "end_time": "2022-10-18T21:02:35.159839",
     "exception": false,
     "start_time": "2022-10-18T21:02:35.018961",
     "status": "completed"
    },
    "tags": []
   },
   "outputs": [
    {
     "data": {
      "text/plain": [
       "(319795, 16)"
      ]
     },
     "execution_count": 4,
     "metadata": {},
     "output_type": "execute_result"
    }
   ],
   "source": [
    "scaler=StandardScaler()\n",
    "columns=X.columns\n",
    "s=scaler.fit_transform(X)\n",
    "\n",
    "scaled_data=pd.DataFrame(s,columns=columns)\n",
    "scaled_data.head(5)\n",
    "scaled_data.shape"
   ]
  },
  {
   "cell_type": "markdown",
   "id": "15288a81",
   "metadata": {
    "papermill": {
     "duration": 0.008443,
     "end_time": "2022-10-18T21:02:35.178255",
     "exception": false,
     "start_time": "2022-10-18T21:02:35.169812",
     "status": "completed"
    },
    "tags": []
   },
   "source": [
    "# Validación cruzada\n",
    "Utilizamos StratifiedKFold para hacer la validación cruzada ya que tenemos un dataset desbalanceado. Se utilizarán 5 folds. Se entrenarán los siguientes modelos LinearDiscriminantAnalysis,QuadraticDiscriminantAnalysisy GaussianNB con el fin de encontrar cual de los tres tiene mejor rendimiento."
   ]
  },
  {
   "cell_type": "code",
   "execution_count": 5,
   "id": "bfe18e7d",
   "metadata": {
    "execution": {
     "iopub.execute_input": "2022-10-18T21:02:35.198102Z",
     "iopub.status.busy": "2022-10-18T21:02:35.197641Z",
     "iopub.status.idle": "2022-10-18T21:02:42.973975Z",
     "shell.execute_reply": "2022-10-18T21:02:42.972537Z"
    },
    "papermill": {
     "duration": 7.78947,
     "end_time": "2022-10-18T21:02:42.976652",
     "exception": false,
     "start_time": "2022-10-18T21:02:35.187182",
     "status": "completed"
    },
    "tags": []
   },
   "outputs": [
    {
     "data": {
      "text/html": [
       "<div>\n",
       "<style scoped>\n",
       "    .dataframe tbody tr th:only-of-type {\n",
       "        vertical-align: middle;\n",
       "    }\n",
       "\n",
       "    .dataframe tbody tr th {\n",
       "        vertical-align: top;\n",
       "    }\n",
       "\n",
       "    .dataframe thead th {\n",
       "        text-align: right;\n",
       "    }\n",
       "</style>\n",
       "<table border=\"1\" class=\"dataframe\">\n",
       "  <thead>\n",
       "    <tr style=\"text-align: right;\">\n",
       "      <th></th>\n",
       "      <th>modelo</th>\n",
       "      <th>F1 Socre (Mean)</th>\n",
       "      <th>F1 Socre (IC)</th>\n",
       "      <th>Sensibilidad-Recall (Mean)</th>\n",
       "      <th>Sensibilidad-Recall (IC)</th>\n",
       "      <th>Accuracy (Mean)</th>\n",
       "      <th>Accuracy (IC)</th>\n",
       "    </tr>\n",
       "  </thead>\n",
       "  <tbody>\n",
       "    <tr>\n",
       "      <th>0</th>\n",
       "      <td>&lt;class 'sklearn.discriminant_analysis.LinearDi...</td>\n",
       "      <td>0.292204</td>\n",
       "      <td>0.008643</td>\n",
       "      <td>0.220656</td>\n",
       "      <td>0.010920</td>\n",
       "      <td>0.908566</td>\n",
       "      <td>0.001350</td>\n",
       "    </tr>\n",
       "    <tr>\n",
       "      <th>1</th>\n",
       "      <td>&lt;class 'sklearn.discriminant_analysis.Quadrati...</td>\n",
       "      <td>0.341862</td>\n",
       "      <td>0.005977</td>\n",
       "      <td>0.447595</td>\n",
       "      <td>0.019739</td>\n",
       "      <td>0.852556</td>\n",
       "      <td>0.003989</td>\n",
       "    </tr>\n",
       "    <tr>\n",
       "      <th>2</th>\n",
       "      <td>&lt;class 'sklearn.naive_bayes.GaussianNB'&gt;</td>\n",
       "      <td>0.343588</td>\n",
       "      <td>0.005875</td>\n",
       "      <td>0.479598</td>\n",
       "      <td>0.020012</td>\n",
       "      <td>0.843203</td>\n",
       "      <td>0.004313</td>\n",
       "    </tr>\n",
       "  </tbody>\n",
       "</table>\n",
       "</div>"
      ],
      "text/plain": [
       "                                              modelo  F1 Socre (Mean)  \\\n",
       "0  <class 'sklearn.discriminant_analysis.LinearDi...         0.292204   \n",
       "1  <class 'sklearn.discriminant_analysis.Quadrati...         0.341862   \n",
       "2           <class 'sklearn.naive_bayes.GaussianNB'>         0.343588   \n",
       "\n",
       "   F1 Socre (IC)  Sensibilidad-Recall (Mean)  Sensibilidad-Recall (IC)  \\\n",
       "0       0.008643                    0.220656                  0.010920   \n",
       "1       0.005977                    0.447595                  0.019739   \n",
       "2       0.005875                    0.479598                  0.020012   \n",
       "\n",
       "   Accuracy (Mean)  Accuracy (IC)  \n",
       "0         0.908566       0.001350  \n",
       "1         0.852556       0.003989  \n",
       "2         0.843203       0.004313  "
      ]
     },
     "execution_count": 5,
     "metadata": {},
     "output_type": "execute_result"
    }
   ],
   "source": [
    "modelos=[LinearDiscriminantAnalysis,QuadraticDiscriminantAnalysis,GaussianNB]\n",
    "folds=5\n",
    "skf=StratifiedKFold(n_splits=folds)\n",
    "resultados=pd.DataFrame()\n",
    "idx=0\n",
    "resultados = {\n",
    "    'modelo': [],\n",
    "    'F1 Socre (Mean)': [],\n",
    "    'F1 Socre (IC)': [],\n",
    "    'Sensibilidad-Recall (Mean)': [],\n",
    "    'Sensibilidad-Recall (IC)': [],\n",
    "    'Accuracy (Mean)':[],\n",
    "    'Accuracy (IC)':[]\n",
    "}\n",
    "for model in modelos:\n",
    "    recall_temp = []\n",
    "    accuracy_temp = []\n",
    "    f1score_temp=[]\n",
    "    for train, test in skf.split(X=scaled_data,y=Y):\n",
    "        Xtrain, Xtest = scaled_data.iloc[train], scaled_data.iloc[test]\n",
    "        Ytrain, Ytest = Y[train], Y[test]\n",
    "        \n",
    "        model_train=model()\n",
    "        model_train.fit(Xtrain,Ytrain)\n",
    "        \n",
    "        Yest=model_train.predict(Xtest)\n",
    "        recall_temp.append(recall_score(Ytest,Yest))\n",
    "        f1score_temp.append(f1_score(y_true=Ytest,y_pred=Yest))\n",
    "        accuracy_temp.append(accuracy_score(Ytest,Yest))\n",
    "    resultados['modelo'].append(str(model))\n",
    "    resultados['Sensibilidad-Recall (Mean)'].append(np.mean(recall_temp))\n",
    "    resultados['Sensibilidad-Recall (IC)'].append(np.std(recall_temp))\n",
    "    resultados['F1 Socre (Mean)'].append(np.mean(f1score_temp))\n",
    "    resultados['F1 Socre (IC)'].append(np.std(f1score_temp))\n",
    "    resultados['Accuracy (Mean)'].append(np.mean(accuracy_temp))\n",
    "    resultados['Accuracy (IC)'].append(np.std(accuracy_temp))  \n",
    "\n",
    "\n",
    "resultados = pd.DataFrame(resultados)\n",
    "resultados\n",
    "\n",
    "    \n",
    "        \n",
    "        "
   ]
  },
  {
   "cell_type": "markdown",
   "id": "666e4418",
   "metadata": {
    "papermill": {
     "duration": 0.008957,
     "end_time": "2022-10-18T21:02:42.995067",
     "exception": false,
     "start_time": "2022-10-18T21:02:42.986110",
     "status": "completed"
    },
    "tags": []
   },
   "source": [
    "# Entrenamos el modelo seleccionado\n",
    "Como se está trabajando en un problema desbalanceado nos basamos en el F1 Score y el Recall para escoger el mejor modelo. En este caso escogimos el modelo GaussianNB y el QuadraticDiscriminantAnalysis"
   ]
  },
  {
   "cell_type": "markdown",
   "id": "56e45238",
   "metadata": {
    "papermill": {
     "duration": 0.008757,
     "end_time": "2022-10-18T21:02:43.013052",
     "exception": false,
     "start_time": "2022-10-18T21:02:43.004295",
     "status": "completed"
    },
    "tags": []
   },
   "source": [
    "# Partición de los datos\n",
    "Partimos los datos en train y test en una proporción 70-30. 70% de los datos para entrenar el modelo y 30% de los datos para la validación del mismo."
   ]
  },
  {
   "cell_type": "code",
   "execution_count": 6,
   "id": "d7f2863a",
   "metadata": {
    "execution": {
     "iopub.execute_input": "2022-10-18T21:02:43.033420Z",
     "iopub.status.busy": "2022-10-18T21:02:43.032999Z",
     "iopub.status.idle": "2022-10-18T21:02:43.107407Z",
     "shell.execute_reply": "2022-10-18T21:02:43.106065Z"
    },
    "papermill": {
     "duration": 0.087824,
     "end_time": "2022-10-18T21:02:43.110169",
     "exception": false,
     "start_time": "2022-10-18T21:02:43.022345",
     "status": "completed"
    },
    "tags": []
   },
   "outputs": [],
   "source": [
    "X_train,X_test,y_train,y_test=train_test_split(scaled_data,\n",
    "                                               Y,\n",
    "                                               test_size=0.3,\n",
    "                                               random_state=50)"
   ]
  },
  {
   "cell_type": "markdown",
   "id": "60801732",
   "metadata": {
    "papermill": {
     "duration": 0.009084,
     "end_time": "2022-10-18T21:02:43.128644",
     "exception": false,
     "start_time": "2022-10-18T21:02:43.119560",
     "status": "completed"
    },
    "tags": []
   },
   "source": [
    "# Cantidad de datos que hay para una clases a predecir"
   ]
  },
  {
   "cell_type": "code",
   "execution_count": 7,
   "id": "4cf67b26",
   "metadata": {
    "execution": {
     "iopub.execute_input": "2022-10-18T21:02:43.150211Z",
     "iopub.status.busy": "2022-10-18T21:02:43.149418Z",
     "iopub.status.idle": "2022-10-18T21:02:43.185699Z",
     "shell.execute_reply": "2022-10-18T21:02:43.184573Z"
    },
    "papermill": {
     "duration": 0.050012,
     "end_time": "2022-10-18T21:02:43.188215",
     "exception": false,
     "start_time": "2022-10-18T21:02:43.138203",
     "status": "completed"
    },
    "tags": []
   },
   "outputs": [
    {
     "name": "stdout",
     "output_type": "stream",
     "text": [
      "Counter({0: 204624, 1: 19232})\n"
     ]
    }
   ],
   "source": [
    "counter=Counter(y_train)\n",
    "print(counter)"
   ]
  },
  {
   "cell_type": "markdown",
   "id": "b046f333",
   "metadata": {
    "papermill": {
     "duration": 0.009233,
     "end_time": "2022-10-18T21:02:43.206818",
     "exception": false,
     "start_time": "2022-10-18T21:02:43.197585",
     "status": "completed"
    },
    "tags": []
   },
   "source": [
    "# Función para el entrenamiento de los modelos"
   ]
  },
  {
   "cell_type": "code",
   "execution_count": 8,
   "id": "0d77bef4",
   "metadata": {
    "execution": {
     "iopub.execute_input": "2022-10-18T21:02:43.227583Z",
     "iopub.status.busy": "2022-10-18T21:02:43.227153Z",
     "iopub.status.idle": "2022-10-18T21:02:43.235371Z",
     "shell.execute_reply": "2022-10-18T21:02:43.234144Z"
    },
    "papermill": {
     "duration": 0.021718,
     "end_time": "2022-10-18T21:02:43.237948",
     "exception": false,
     "start_time": "2022-10-18T21:02:43.216230",
     "status": "completed"
    },
    "tags": []
   },
   "outputs": [],
   "source": [
    "def entrenarModelo(model_train, Xtrain,Ytrain,Xtest,Ytest,Xreal,Yreal):\n",
    "    model=model_train()\n",
    "    model.fit(X=Xtrain,y=Ytrain)\n",
    "    Ypred=model.predict(Xtest)\n",
    "    ## Rendimiento del entrenamiento del modelo\n",
    "    print(\"#####################Rendimiento después del entrenamiento#########################\")\n",
    "    print(f'Model: {str(model)}')\n",
    "    print(f'Accuracy Score: {accuracy_score(Ytest,Ypred)}')\n",
    "    print(f'Precission Score: {precision_score(Ytest,Ypred)}')\n",
    "    print(f'Recall Score: {recall_score(Ytest,Ypred)}')\n",
    "    print(f'F1-Score: {f1_score(Ytest,Ypred)}')\n",
    "    ## Rendimiento del modelo con los datos reales\n",
    "    print(\"######################Rendimiento con los datos reales##############################\")\n",
    "    y_pred=model.predict(Xreal)\n",
    "    print(\"Accuracy:\",accuracy_score(Yreal, y_pred))\n",
    "    print(f'Precission Score: {precision_score(Yreal,y_pred)}')\n",
    "    print(f'Recall Score: {recall_score(Yreal,y_pred)}')\n",
    "    print(f'F1-Score: {f1_score(Yreal,y_pred)}')"
   ]
  },
  {
   "cell_type": "markdown",
   "id": "45f1223b",
   "metadata": {
    "papermill": {
     "duration": 0.009087,
     "end_time": "2022-10-18T21:02:43.256566",
     "exception": false,
     "start_time": "2022-10-18T21:02:43.247479",
     "status": "completed"
    },
    "tags": []
   },
   "source": [
    "# Función para realizar el Submuestreo de los datos"
   ]
  },
  {
   "cell_type": "code",
   "execution_count": 9,
   "id": "0c63ad55",
   "metadata": {
    "execution": {
     "iopub.execute_input": "2022-10-18T21:02:43.277456Z",
     "iopub.status.busy": "2022-10-18T21:02:43.277023Z",
     "iopub.status.idle": "2022-10-18T21:02:43.283343Z",
     "shell.execute_reply": "2022-10-18T21:02:43.282022Z"
    },
    "papermill": {
     "duration": 0.019827,
     "end_time": "2022-10-18T21:02:43.285835",
     "exception": false,
     "start_time": "2022-10-18T21:02:43.266008",
     "status": "completed"
    },
    "tags": []
   },
   "outputs": [],
   "source": [
    "def balancearClases(balanceador, X_train, y_train):\n",
    "    Xtrain_new, Ytrain_new=balanceador.fit_resample(X_train,y_train)\n",
    "    print(\"Dimensiones\")\n",
    "    print(\"Xtrain_new: \", Xtrain_new.shape)\n",
    "    print(\"Ytrain_new: \", Ytrain_new.shape)\n",
    "    return Xtrain_new,Ytrain_new\n",
    "    "
   ]
  },
  {
   "cell_type": "markdown",
   "id": "e39f0098",
   "metadata": {
    "papermill": {
     "duration": 0.009053,
     "end_time": "2022-10-18T21:02:43.304569",
     "exception": false,
     "start_time": "2022-10-18T21:02:43.295516",
     "status": "completed"
    },
    "tags": []
   },
   "source": [
    "# Cargamos la data real"
   ]
  },
  {
   "cell_type": "code",
   "execution_count": 10,
   "id": "b28c5760",
   "metadata": {
    "execution": {
     "iopub.execute_input": "2022-10-18T21:02:43.325515Z",
     "iopub.status.busy": "2022-10-18T21:02:43.325085Z",
     "iopub.status.idle": "2022-10-18T21:02:43.347211Z",
     "shell.execute_reply": "2022-10-18T21:02:43.345798Z"
    },
    "papermill": {
     "duration": 0.035782,
     "end_time": "2022-10-18T21:02:43.349828",
     "exception": false,
     "start_time": "2022-10-18T21:02:43.314046",
     "status": "completed"
    },
    "tags": []
   },
   "outputs": [
    {
     "data": {
      "text/html": [
       "<div>\n",
       "<style scoped>\n",
       "    .dataframe tbody tr th:only-of-type {\n",
       "        vertical-align: middle;\n",
       "    }\n",
       "\n",
       "    .dataframe tbody tr th {\n",
       "        vertical-align: top;\n",
       "    }\n",
       "\n",
       "    .dataframe thead th {\n",
       "        text-align: right;\n",
       "    }\n",
       "</style>\n",
       "<table border=\"1\" class=\"dataframe\">\n",
       "  <thead>\n",
       "    <tr style=\"text-align: right;\">\n",
       "      <th></th>\n",
       "      <th>HeartDisease</th>\n",
       "      <th>BMI</th>\n",
       "      <th>Smoking</th>\n",
       "      <th>AlcoholDrinking</th>\n",
       "      <th>Stroke</th>\n",
       "      <th>PhysicalHealth</th>\n",
       "      <th>MentalHealth</th>\n",
       "      <th>DiffWalking</th>\n",
       "      <th>Sex</th>\n",
       "      <th>AgeCategory</th>\n",
       "      <th>Diabetic</th>\n",
       "      <th>PhysicalActivity</th>\n",
       "      <th>GenHealth</th>\n",
       "      <th>SleepTime</th>\n",
       "      <th>Asthma</th>\n",
       "      <th>KidneyDisease</th>\n",
       "      <th>SkinCancer</th>\n",
       "    </tr>\n",
       "  </thead>\n",
       "  <tbody>\n",
       "    <tr>\n",
       "      <th>0</th>\n",
       "      <td>0</td>\n",
       "      <td>19,7</td>\n",
       "      <td>0</td>\n",
       "      <td>0</td>\n",
       "      <td>0</td>\n",
       "      <td>0</td>\n",
       "      <td>0</td>\n",
       "      <td>0</td>\n",
       "      <td>8</td>\n",
       "      <td>10</td>\n",
       "      <td>0</td>\n",
       "      <td>0</td>\n",
       "      <td>5</td>\n",
       "      <td>6</td>\n",
       "      <td>0</td>\n",
       "      <td>0</td>\n",
       "      <td>0</td>\n",
       "    </tr>\n",
       "    <tr>\n",
       "      <th>1</th>\n",
       "      <td>0</td>\n",
       "      <td>22,8</td>\n",
       "      <td>0</td>\n",
       "      <td>0</td>\n",
       "      <td>0</td>\n",
       "      <td>0</td>\n",
       "      <td>0</td>\n",
       "      <td>0</td>\n",
       "      <td>8</td>\n",
       "      <td>10</td>\n",
       "      <td>0</td>\n",
       "      <td>1</td>\n",
       "      <td>5</td>\n",
       "      <td>6</td>\n",
       "      <td>1</td>\n",
       "      <td>0</td>\n",
       "      <td>0</td>\n",
       "    </tr>\n",
       "    <tr>\n",
       "      <th>2</th>\n",
       "      <td>1</td>\n",
       "      <td>28,8</td>\n",
       "      <td>1</td>\n",
       "      <td>0</td>\n",
       "      <td>1</td>\n",
       "      <td>25</td>\n",
       "      <td>28</td>\n",
       "      <td>1</td>\n",
       "      <td>9</td>\n",
       "      <td>20</td>\n",
       "      <td>1</td>\n",
       "      <td>0</td>\n",
       "      <td>3</td>\n",
       "      <td>9</td>\n",
       "      <td>0</td>\n",
       "      <td>1</td>\n",
       "      <td>0</td>\n",
       "    </tr>\n",
       "    <tr>\n",
       "      <th>3</th>\n",
       "      <td>0</td>\n",
       "      <td>23</td>\n",
       "      <td>0</td>\n",
       "      <td>0</td>\n",
       "      <td>0</td>\n",
       "      <td>0</td>\n",
       "      <td>0</td>\n",
       "      <td>0</td>\n",
       "      <td>9</td>\n",
       "      <td>10</td>\n",
       "      <td>0</td>\n",
       "      <td>0</td>\n",
       "      <td>6</td>\n",
       "      <td>6</td>\n",
       "      <td>0</td>\n",
       "      <td>0</td>\n",
       "      <td>0</td>\n",
       "    </tr>\n",
       "    <tr>\n",
       "      <th>4</th>\n",
       "      <td>1</td>\n",
       "      <td>32,4</td>\n",
       "      <td>0</td>\n",
       "      <td>1</td>\n",
       "      <td>1</td>\n",
       "      <td>30</td>\n",
       "      <td>15</td>\n",
       "      <td>1</td>\n",
       "      <td>8</td>\n",
       "      <td>18</td>\n",
       "      <td>1</td>\n",
       "      <td>0</td>\n",
       "      <td>4</td>\n",
       "      <td>4</td>\n",
       "      <td>1</td>\n",
       "      <td>1</td>\n",
       "      <td>1</td>\n",
       "    </tr>\n",
       "  </tbody>\n",
       "</table>\n",
       "</div>"
      ],
      "text/plain": [
       "   HeartDisease   BMI  Smoking  AlcoholDrinking  Stroke  PhysicalHealth  \\\n",
       "0             0  19,7        0                0       0               0   \n",
       "1             0  22,8        0                0       0               0   \n",
       "2             1  28,8        1                0       1              25   \n",
       "3             0    23        0                0       0               0   \n",
       "4             1  32,4        0                1       1              30   \n",
       "\n",
       "   MentalHealth  DiffWalking  Sex  AgeCategory  Diabetic  PhysicalActivity  \\\n",
       "0             0            0    8           10         0                 0   \n",
       "1             0            0    8           10         0                 1   \n",
       "2            28            1    9           20         1                 0   \n",
       "3             0            0    9           10         0                 0   \n",
       "4            15            1    8           18         1                 0   \n",
       "\n",
       "   GenHealth  SleepTime  Asthma  KidneyDisease  SkinCancer  \n",
       "0          5          6       0              0           0  \n",
       "1          5          6       1              0           0  \n",
       "2          3          9       0              1           0  \n",
       "3          6          6       0              0           0  \n",
       "4          4          4       1              1           1  "
      ]
     },
     "execution_count": 10,
     "metadata": {},
     "output_type": "execute_result"
    }
   ],
   "source": [
    "data_real=pd.read_csv('/kaggle/input/datosreales/DatosReales.csv')\n",
    "data_real.head()"
   ]
  },
  {
   "cell_type": "markdown",
   "id": "6a3126a7",
   "metadata": {
    "papermill": {
     "duration": 0.009474,
     "end_time": "2022-10-18T21:02:43.369304",
     "exception": false,
     "start_time": "2022-10-18T21:02:43.359830",
     "status": "completed"
    },
    "tags": []
   },
   "source": [
    "Se paramos los datos reales en variables de entrada para el modelo y la clase a la que pertenece un conjunto de valores de las variables de entrada. Las variables de entrada estarán en la variable X_real y la clase a la que pertenecen estarán en la variable Y_real."
   ]
  },
  {
   "cell_type": "code",
   "execution_count": 11,
   "id": "24830f1b",
   "metadata": {
    "execution": {
     "iopub.execute_input": "2022-10-18T21:02:43.391431Z",
     "iopub.status.busy": "2022-10-18T21:02:43.390605Z",
     "iopub.status.idle": "2022-10-18T21:02:43.400384Z",
     "shell.execute_reply": "2022-10-18T21:02:43.399337Z"
    },
    "papermill": {
     "duration": 0.023733,
     "end_time": "2022-10-18T21:02:43.403060",
     "exception": false,
     "start_time": "2022-10-18T21:02:43.379327",
     "status": "completed"
    },
    "tags": []
   },
   "outputs": [],
   "source": [
    "X_real=data_real.iloc[:,1:]\n",
    "Y_real=data_real.iloc[:,0]\n",
    "X_real[\"BMI\"] = encoder.fit_transform(X_real[\"BMI\"])"
   ]
  },
  {
   "cell_type": "markdown",
   "id": "c775c7cf",
   "metadata": {
    "papermill": {
     "duration": 0.00927,
     "end_time": "2022-10-18T21:02:43.422160",
     "exception": false,
     "start_time": "2022-10-18T21:02:43.412890",
     "status": "completed"
    },
    "tags": []
   },
   "source": [
    "# GaussianNB"
   ]
  },
  {
   "cell_type": "markdown",
   "id": "899de347",
   "metadata": {
    "papermill": {
     "duration": 0.009134,
     "end_time": "2022-10-18T21:02:43.440897",
     "exception": false,
     "start_time": "2022-10-18T21:02:43.431763",
     "status": "completed"
    },
    "tags": []
   },
   "source": [
    "## Entrenamiento del modelo GaussianNB con UnderSampling"
   ]
  },
  {
   "cell_type": "code",
   "execution_count": 12,
   "id": "8c1c8f1c",
   "metadata": {
    "execution": {
     "iopub.execute_input": "2022-10-18T21:02:43.461904Z",
     "iopub.status.busy": "2022-10-18T21:02:43.461419Z",
     "iopub.status.idle": "2022-10-18T21:02:43.540819Z",
     "shell.execute_reply": "2022-10-18T21:02:43.538944Z"
    },
    "papermill": {
     "duration": 0.09337,
     "end_time": "2022-10-18T21:02:43.543908",
     "exception": false,
     "start_time": "2022-10-18T21:02:43.450538",
     "status": "completed"
    },
    "tags": []
   },
   "outputs": [
    {
     "name": "stdout",
     "output_type": "stream",
     "text": [
      "Dimensiones\n",
      "Xtrain_new:  (38464, 16)\n",
      "Ytrain_new:  (38464,)\n"
     ]
    }
   ],
   "source": [
    "subsample=RandomUnderSampler()\n",
    "Xtrain_new, Ytrain_new=balancearClases(subsample, X_train, y_train)"
   ]
  },
  {
   "cell_type": "code",
   "execution_count": 13,
   "id": "d38e1d0c",
   "metadata": {
    "execution": {
     "iopub.execute_input": "2022-10-18T21:02:43.565295Z",
     "iopub.status.busy": "2022-10-18T21:02:43.564868Z",
     "iopub.status.idle": "2022-10-18T21:02:43.749455Z",
     "shell.execute_reply": "2022-10-18T21:02:43.747917Z"
    },
    "papermill": {
     "duration": 0.198214,
     "end_time": "2022-10-18T21:02:43.752156",
     "exception": false,
     "start_time": "2022-10-18T21:02:43.553942",
     "status": "completed"
    },
    "tags": []
   },
   "outputs": [
    {
     "name": "stdout",
     "output_type": "stream",
     "text": [
      "#####################Rendimiento después del entrenamiento#########################\n",
      "Model: GaussianNB()\n",
      "Accuracy Score: 0.797840294353704\n",
      "Precission Score: 0.23331753554502369\n",
      "Recall Score: 0.6047168652499693\n",
      "F1-Score: 0.33671899045860265\n",
      "######################Rendimiento con los datos reales##############################\n",
      "Accuracy: 0.8666666666666667\n",
      "Precission Score: 0.8571428571428571\n",
      "Recall Score: 0.8571428571428571\n",
      "F1-Score: 0.8571428571428571\n"
     ]
    }
   ],
   "source": [
    "entrenarModelo(GaussianNB,Xtrain_new,Ytrain_new,X_test,y_test,X_real,Y_real)"
   ]
  },
  {
   "cell_type": "markdown",
   "id": "02ef8cae",
   "metadata": {
    "papermill": {
     "duration": 0.009444,
     "end_time": "2022-10-18T21:02:43.771582",
     "exception": false,
     "start_time": "2022-10-18T21:02:43.762138",
     "status": "completed"
    },
    "tags": []
   },
   "source": [
    "## Entrenamiento del modelo GaussianNB con OverSampling"
   ]
  },
  {
   "cell_type": "code",
   "execution_count": 14,
   "id": "c4d9df1c",
   "metadata": {
    "execution": {
     "iopub.execute_input": "2022-10-18T21:02:43.793410Z",
     "iopub.status.busy": "2022-10-18T21:02:43.792981Z",
     "iopub.status.idle": "2022-10-18T21:02:43.999246Z",
     "shell.execute_reply": "2022-10-18T21:02:43.997697Z"
    },
    "papermill": {
     "duration": 0.221998,
     "end_time": "2022-10-18T21:02:44.003596",
     "exception": false,
     "start_time": "2022-10-18T21:02:43.781598",
     "status": "completed"
    },
    "tags": []
   },
   "outputs": [
    {
     "name": "stdout",
     "output_type": "stream",
     "text": [
      "Dimensiones\n",
      "Xtrain_new:  (409248, 16)\n",
      "Ytrain_new:  (409248,)\n"
     ]
    }
   ],
   "source": [
    "subsample=RandomOverSampler()\n",
    "Xtrain_new, Ytrain_new=balancearClases(subsample, X_train, y_train)"
   ]
  },
  {
   "cell_type": "code",
   "execution_count": 15,
   "id": "9e37ed7b",
   "metadata": {
    "execution": {
     "iopub.execute_input": "2022-10-18T21:02:44.026254Z",
     "iopub.status.busy": "2022-10-18T21:02:44.025825Z",
     "iopub.status.idle": "2022-10-18T21:02:44.374470Z",
     "shell.execute_reply": "2022-10-18T21:02:44.372621Z"
    },
    "papermill": {
     "duration": 0.364037,
     "end_time": "2022-10-18T21:02:44.378392",
     "exception": false,
     "start_time": "2022-10-18T21:02:44.014355",
     "status": "completed"
    },
    "tags": []
   },
   "outputs": [
    {
     "name": "stdout",
     "output_type": "stream",
     "text": [
      "#####################Rendimiento después del entrenamiento#########################\n",
      "Model: GaussianNB()\n",
      "Accuracy Score: 0.7967041557656428\n",
      "Precission Score: 0.2327233381944771\n",
      "Recall Score: 0.6076649060312\n",
      "F1-Score: 0.33655350704129533\n",
      "######################Rendimiento con los datos reales##############################\n",
      "Accuracy: 0.8666666666666667\n",
      "Precission Score: 0.8571428571428571\n",
      "Recall Score: 0.8571428571428571\n",
      "F1-Score: 0.8571428571428571\n"
     ]
    }
   ],
   "source": [
    "modelo_entrenado=entrenarModelo(GaussianNB,Xtrain_new,Ytrain_new,X_test,y_test,X_real,Y_real)"
   ]
  },
  {
   "cell_type": "markdown",
   "id": "b2206c6a",
   "metadata": {
    "papermill": {
     "duration": 0.01018,
     "end_time": "2022-10-18T21:02:44.399012",
     "exception": false,
     "start_time": "2022-10-18T21:02:44.388832",
     "status": "completed"
    },
    "tags": []
   },
   "source": [
    "## Entrenamiento del modelo sin ninguna técnica de submuestreo"
   ]
  },
  {
   "cell_type": "code",
   "execution_count": 16,
   "id": "030d0bd0",
   "metadata": {
    "execution": {
     "iopub.execute_input": "2022-10-18T21:02:44.421164Z",
     "iopub.status.busy": "2022-10-18T21:02:44.420474Z",
     "iopub.status.idle": "2022-10-18T21:02:44.653970Z",
     "shell.execute_reply": "2022-10-18T21:02:44.652353Z"
    },
    "papermill": {
     "duration": 0.247784,
     "end_time": "2022-10-18T21:02:44.657016",
     "exception": false,
     "start_time": "2022-10-18T21:02:44.409232",
     "status": "completed"
    },
    "tags": []
   },
   "outputs": [
    {
     "name": "stdout",
     "output_type": "stream",
     "text": [
      "#####################Rendimiento después del entrenamiento#########################\n",
      "Model: GaussianNB()\n",
      "Accuracy Score: 0.8418578471737249\n",
      "Precission Score: 0.2629627132357899\n",
      "Recall Score: 0.4790566269500061\n",
      "F1-Score: 0.33954379244297406\n",
      "######################Rendimiento con los datos reales##############################\n",
      "Accuracy: 0.8666666666666667\n",
      "Precission Score: 0.8571428571428571\n",
      "Recall Score: 0.8571428571428571\n",
      "F1-Score: 0.8571428571428571\n"
     ]
    }
   ],
   "source": [
    "entrenarModelo(GaussianNB,X_train,y_train,X_test,y_test,X_real,Y_real)"
   ]
  },
  {
   "cell_type": "markdown",
   "id": "e9ed3557",
   "metadata": {
    "papermill": {
     "duration": 0.009652,
     "end_time": "2022-10-18T21:02:44.677289",
     "exception": false,
     "start_time": "2022-10-18T21:02:44.667637",
     "status": "completed"
    },
    "tags": []
   },
   "source": [
    "# QuadraticDiscriminantAnalysis"
   ]
  },
  {
   "cell_type": "markdown",
   "id": "91e21417",
   "metadata": {
    "papermill": {
     "duration": 0.010041,
     "end_time": "2022-10-18T21:02:44.697445",
     "exception": false,
     "start_time": "2022-10-18T21:02:44.687404",
     "status": "completed"
    },
    "tags": []
   },
   "source": [
    "## Entrenamiento del modelo QuadraticDiscriminantAnalysis con UnderSampling"
   ]
  },
  {
   "cell_type": "code",
   "execution_count": 17,
   "id": "881f9a48",
   "metadata": {
    "execution": {
     "iopub.execute_input": "2022-10-18T21:02:44.720631Z",
     "iopub.status.busy": "2022-10-18T21:02:44.719430Z",
     "iopub.status.idle": "2022-10-18T21:02:44.800536Z",
     "shell.execute_reply": "2022-10-18T21:02:44.799030Z"
    },
    "papermill": {
     "duration": 0.09658,
     "end_time": "2022-10-18T21:02:44.804091",
     "exception": false,
     "start_time": "2022-10-18T21:02:44.707511",
     "status": "completed"
    },
    "tags": []
   },
   "outputs": [
    {
     "name": "stdout",
     "output_type": "stream",
     "text": [
      "Dimensiones\n",
      "Xtrain_new:  (38464, 16)\n",
      "Ytrain_new:  (38464,)\n"
     ]
    }
   ],
   "source": [
    "subsample=RandomUnderSampler()\n",
    "Xtrain_new, Ytrain_new=balancearClases(subsample, X_train, y_train)"
   ]
  },
  {
   "cell_type": "code",
   "execution_count": 18,
   "id": "c4893393",
   "metadata": {
    "execution": {
     "iopub.execute_input": "2022-10-18T21:02:44.826686Z",
     "iopub.status.busy": "2022-10-18T21:02:44.826294Z",
     "iopub.status.idle": "2022-10-18T21:02:45.137587Z",
     "shell.execute_reply": "2022-10-18T21:02:45.136298Z"
    },
    "papermill": {
     "duration": 0.325642,
     "end_time": "2022-10-18T21:02:45.140390",
     "exception": false,
     "start_time": "2022-10-18T21:02:44.814748",
     "status": "completed"
    },
    "tags": []
   },
   "outputs": [
    {
     "name": "stdout",
     "output_type": "stream",
     "text": [
      "#####################Rendimiento después del entrenamiento#########################\n",
      "Model: QuadraticDiscriminantAnalysis()\n",
      "Accuracy Score: 0.7847173724971075\n",
      "Precission Score: 0.22822640198080013\n",
      "Recall Score: 0.6453752610244442\n",
      "F1-Score: 0.33720557088761954\n",
      "######################Rendimiento con los datos reales##############################\n",
      "Accuracy: 0.8\n",
      "Precission Score: 0.8333333333333334\n",
      "Recall Score: 0.7142857142857143\n",
      "F1-Score: 0.7692307692307692\n"
     ]
    }
   ],
   "source": [
    "entrenarModelo(QuadraticDiscriminantAnalysis,Xtrain_new,Ytrain_new,X_test,y_test,X_real,Y_real)"
   ]
  },
  {
   "cell_type": "markdown",
   "id": "bc6b3508",
   "metadata": {
    "papermill": {
     "duration": 0.010065,
     "end_time": "2022-10-18T21:02:45.161028",
     "exception": false,
     "start_time": "2022-10-18T21:02:45.150963",
     "status": "completed"
    },
    "tags": []
   },
   "source": [
    "## Entrenamiento del modelo QuadraticDiscriminantAnalysis con OverSampling"
   ]
  },
  {
   "cell_type": "code",
   "execution_count": 19,
   "id": "4780d79d",
   "metadata": {
    "execution": {
     "iopub.execute_input": "2022-10-18T21:02:45.183661Z",
     "iopub.status.busy": "2022-10-18T21:02:45.182936Z",
     "iopub.status.idle": "2022-10-18T21:02:45.387032Z",
     "shell.execute_reply": "2022-10-18T21:02:45.385466Z"
    },
    "papermill": {
     "duration": 0.218272,
     "end_time": "2022-10-18T21:02:45.389609",
     "exception": false,
     "start_time": "2022-10-18T21:02:45.171337",
     "status": "completed"
    },
    "tags": []
   },
   "outputs": [
    {
     "name": "stdout",
     "output_type": "stream",
     "text": [
      "Dimensiones\n",
      "Xtrain_new:  (409248, 16)\n",
      "Ytrain_new:  (409248,)\n"
     ]
    }
   ],
   "source": [
    "subsample=RandomOverSampler()\n",
    "Xtrain_new, Ytrain_new=balancearClases(subsample, X_train, y_train)"
   ]
  },
  {
   "cell_type": "code",
   "execution_count": 20,
   "id": "11caeaf8",
   "metadata": {
    "execution": {
     "iopub.execute_input": "2022-10-18T21:02:45.412923Z",
     "iopub.status.busy": "2022-10-18T21:02:45.411908Z",
     "iopub.status.idle": "2022-10-18T21:02:45.752133Z",
     "shell.execute_reply": "2022-10-18T21:02:45.750568Z"
    },
    "papermill": {
     "duration": 0.35484,
     "end_time": "2022-10-18T21:02:45.755012",
     "exception": false,
     "start_time": "2022-10-18T21:02:45.400172",
     "status": "completed"
    },
    "tags": []
   },
   "outputs": [
    {
     "name": "stdout",
     "output_type": "stream",
     "text": [
      "#####################Rendimiento después del entrenamiento#########################\n",
      "Model: GaussianNB()\n",
      "Accuracy Score: 0.7971627805167867\n",
      "Precission Score: 0.23300467047223664\n",
      "Recall Score: 0.6066822257707898\n",
      "F1-Score: 0.33669643465812255\n",
      "######################Rendimiento con los datos reales##############################\n",
      "Accuracy: 0.8666666666666667\n",
      "Precission Score: 0.8571428571428571\n",
      "Recall Score: 0.8571428571428571\n",
      "F1-Score: 0.8571428571428571\n"
     ]
    }
   ],
   "source": [
    "entrenarModelo(GaussianNB,Xtrain_new,Ytrain_new,X_test,y_test,X_real,Y_real)"
   ]
  },
  {
   "cell_type": "markdown",
   "id": "e699017c",
   "metadata": {
    "papermill": {
     "duration": 0.010635,
     "end_time": "2022-10-18T21:02:45.776449",
     "exception": false,
     "start_time": "2022-10-18T21:02:45.765814",
     "status": "completed"
    },
    "tags": []
   },
   "source": [
    "## Entrenamiento del modelo sin ninguna técnica de submuestreo"
   ]
  },
  {
   "cell_type": "code",
   "execution_count": 21,
   "id": "cb9f6b9a",
   "metadata": {
    "execution": {
     "iopub.execute_input": "2022-10-18T21:02:45.800064Z",
     "iopub.status.busy": "2022-10-18T21:02:45.799598Z",
     "iopub.status.idle": "2022-10-18T21:02:46.034232Z",
     "shell.execute_reply": "2022-10-18T21:02:46.032417Z"
    },
    "papermill": {
     "duration": 0.249779,
     "end_time": "2022-10-18T21:02:46.037224",
     "exception": false,
     "start_time": "2022-10-18T21:02:45.787445",
     "status": "completed"
    },
    "tags": []
   },
   "outputs": [
    {
     "name": "stdout",
     "output_type": "stream",
     "text": [
      "#####################Rendimiento después del entrenamiento#########################\n",
      "Model: GaussianNB()\n",
      "Accuracy Score: 0.8418578471737249\n",
      "Precission Score: 0.2629627132357899\n",
      "Recall Score: 0.4790566269500061\n",
      "F1-Score: 0.33954379244297406\n",
      "######################Rendimiento con los datos reales##############################\n",
      "Accuracy: 0.8666666666666667\n",
      "Precission Score: 0.8571428571428571\n",
      "Recall Score: 0.8571428571428571\n",
      "F1-Score: 0.8571428571428571\n"
     ]
    }
   ],
   "source": [
    "entrenarModelo(GaussianNB,X_train,y_train,X_test,y_test,X_real,Y_real)"
   ]
  },
  {
   "cell_type": "code",
   "execution_count": null,
   "id": "b85c441f",
   "metadata": {
    "papermill": {
     "duration": 0.010748,
     "end_time": "2022-10-18T21:02:46.058759",
     "exception": false,
     "start_time": "2022-10-18T21:02:46.048011",
     "status": "completed"
    },
    "tags": []
   },
   "outputs": [],
   "source": []
  }
 ],
 "metadata": {
  "kernelspec": {
   "display_name": "Python 3",
   "language": "python",
   "name": "python3"
  },
  "language_info": {
   "codemirror_mode": {
    "name": "ipython",
    "version": 3
   },
   "file_extension": ".py",
   "mimetype": "text/x-python",
   "name": "python",
   "nbconvert_exporter": "python",
   "pygments_lexer": "ipython3",
   "version": "3.7.12"
  },
  "papermill": {
   "default_parameters": {},
   "duration": 24.865498,
   "end_time": "2022-10-18T21:02:46.895159",
   "environment_variables": {},
   "exception": null,
   "input_path": "__notebook__.ipynb",
   "output_path": "__notebook__.ipynb",
   "parameters": {},
   "start_time": "2022-10-18T21:02:22.029661",
   "version": "2.3.4"
  }
 },
 "nbformat": 4,
 "nbformat_minor": 5
}
