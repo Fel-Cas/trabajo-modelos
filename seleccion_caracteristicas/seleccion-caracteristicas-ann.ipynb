{
 "cells": [
  {
   "cell_type": "code",
   "execution_count": 1,
   "id": "a76f3066",
   "metadata": {
    "_cell_guid": "b1076dfc-b9ad-4769-8c92-a6c4dae69d19",
    "_uuid": "8f2839f25d086af736a60e9eeb907d3b93b6e0e5",
    "execution": {
     "iopub.execute_input": "2022-10-27T16:11:38.580021Z",
     "iopub.status.busy": "2022-10-27T16:11:38.579249Z",
     "iopub.status.idle": "2022-10-27T16:11:40.384115Z",
     "shell.execute_reply": "2022-10-27T16:11:40.383206Z"
    },
    "papermill": {
     "duration": 1.820722,
     "end_time": "2022-10-27T16:11:40.387221",
     "exception": false,
     "start_time": "2022-10-27T16:11:38.566499",
     "status": "completed"
    },
    "tags": []
   },
   "outputs": [
    {
     "name": "stdout",
     "output_type": "stream",
     "text": [
      "/kaggle/input/datosreales/DatosReales.csv\n",
      "/kaggle/input/datasetheartdisease/dataset.csv\n"
     ]
    }
   ],
   "source": [
    "# This Python 3 environment comes with many helpful analytics libraries installed\n",
    "# It is defined by the kaggle/python Docker image: https://github.com/kaggle/docker-python\n",
    "# For example, here's several helpful packages to load\n",
    "\n",
    "import numpy as np # linear algebra\n",
    "import pandas as pd # data processing, CSV file I/O (e.g. pd.read_csv)\n",
    "from sklearn.preprocessing import StandardScaler\n",
    "from sklearn.model_selection import train_test_split\n",
    "from sklearn.neural_network import MLPClassifier\n",
    "from sklearn.datasets import make_classification\n",
    "from sklearn.model_selection import StratifiedKFold\n",
    "from sklearn.metrics import precision_score,recall_score,accuracy_score,f1_score,confusion_matrix,ConfusionMatrixDisplay\n",
    "import seaborn as sns\n",
    "import matplotlib.pyplot as plt\n",
    "import joblib \n",
    "import time\n",
    "from imblearn.over_sampling import RandomOverSampler\n",
    "from mlxtend.feature_selection import SequentialFeatureSelector as SFS\n",
    "from sklearn.preprocessing import LabelEncoder\n",
    "encoder = LabelEncoder()\n",
    "\n",
    "import os\n",
    "for dirname, _, filenames in os.walk('/kaggle/input'):\n",
    "    for filename in filenames:\n",
    "        print(os.path.join(dirname, filename))\n",
    "\n",
    "# You can write up to 20GB to the current directory (/kaggle/working/) that gets preserved as output when you create a version using \"Save & Run All\" \n",
    "# You can also write temporary files to /kaggle/temp/, but they won't be saved outside of the current session"
   ]
  },
  {
   "cell_type": "markdown",
   "id": "91e1152a",
   "metadata": {
    "papermill": {
     "duration": 0.009991,
     "end_time": "2022-10-27T16:11:40.407505",
     "exception": false,
     "start_time": "2022-10-27T16:11:40.397514",
     "status": "completed"
    },
    "tags": []
   },
   "source": [
    "# Visualización inicial de los datos"
   ]
  },
  {
   "cell_type": "code",
   "execution_count": 2,
   "id": "c3906908",
   "metadata": {
    "execution": {
     "iopub.execute_input": "2022-10-27T16:11:40.432280Z",
     "iopub.status.busy": "2022-10-27T16:11:40.431485Z",
     "iopub.status.idle": "2022-10-27T16:11:41.169869Z",
     "shell.execute_reply": "2022-10-27T16:11:41.168708Z"
    },
    "papermill": {
     "duration": 0.754541,
     "end_time": "2022-10-27T16:11:41.172166",
     "exception": false,
     "start_time": "2022-10-27T16:11:40.417625",
     "status": "completed"
    },
    "tags": []
   },
   "outputs": [
    {
     "data": {
      "text/html": [
       "<div>\n",
       "<style scoped>\n",
       "    .dataframe tbody tr th:only-of-type {\n",
       "        vertical-align: middle;\n",
       "    }\n",
       "\n",
       "    .dataframe tbody tr th {\n",
       "        vertical-align: top;\n",
       "    }\n",
       "\n",
       "    .dataframe thead th {\n",
       "        text-align: right;\n",
       "    }\n",
       "</style>\n",
       "<table border=\"1\" class=\"dataframe\">\n",
       "  <thead>\n",
       "    <tr style=\"text-align: right;\">\n",
       "      <th></th>\n",
       "      <th>HeartDisease</th>\n",
       "      <th>BMI</th>\n",
       "      <th>Smoking</th>\n",
       "      <th>AlcoholDrinking</th>\n",
       "      <th>Stroke</th>\n",
       "      <th>PhysicalHealth</th>\n",
       "      <th>MentalHealth</th>\n",
       "      <th>DiffWalking</th>\n",
       "      <th>Sex</th>\n",
       "      <th>AgeCategory</th>\n",
       "      <th>Diabetic</th>\n",
       "      <th>PhysicalActivity</th>\n",
       "      <th>GenHealth</th>\n",
       "      <th>SleepTime</th>\n",
       "      <th>Asthma</th>\n",
       "      <th>KidneyDisease</th>\n",
       "      <th>SkinCancer</th>\n",
       "    </tr>\n",
       "  </thead>\n",
       "  <tbody>\n",
       "    <tr>\n",
       "      <th>0</th>\n",
       "      <td>0</td>\n",
       "      <td>16.60</td>\n",
       "      <td>1</td>\n",
       "      <td>0</td>\n",
       "      <td>0</td>\n",
       "      <td>3.0</td>\n",
       "      <td>30.0</td>\n",
       "      <td>0</td>\n",
       "      <td>8</td>\n",
       "      <td>17</td>\n",
       "      <td>1</td>\n",
       "      <td>1</td>\n",
       "      <td>5</td>\n",
       "      <td>5.0</td>\n",
       "      <td>1</td>\n",
       "      <td>0</td>\n",
       "      <td>1</td>\n",
       "    </tr>\n",
       "    <tr>\n",
       "      <th>1</th>\n",
       "      <td>0</td>\n",
       "      <td>20.34</td>\n",
       "      <td>0</td>\n",
       "      <td>0</td>\n",
       "      <td>1</td>\n",
       "      <td>0.0</td>\n",
       "      <td>0.0</td>\n",
       "      <td>0</td>\n",
       "      <td>8</td>\n",
       "      <td>22</td>\n",
       "      <td>0</td>\n",
       "      <td>1</td>\n",
       "      <td>5</td>\n",
       "      <td>7.0</td>\n",
       "      <td>0</td>\n",
       "      <td>0</td>\n",
       "      <td>0</td>\n",
       "    </tr>\n",
       "    <tr>\n",
       "      <th>2</th>\n",
       "      <td>0</td>\n",
       "      <td>26.58</td>\n",
       "      <td>1</td>\n",
       "      <td>0</td>\n",
       "      <td>0</td>\n",
       "      <td>20.0</td>\n",
       "      <td>30.0</td>\n",
       "      <td>0</td>\n",
       "      <td>9</td>\n",
       "      <td>19</td>\n",
       "      <td>1</td>\n",
       "      <td>1</td>\n",
       "      <td>3</td>\n",
       "      <td>8.0</td>\n",
       "      <td>1</td>\n",
       "      <td>0</td>\n",
       "      <td>0</td>\n",
       "    </tr>\n",
       "    <tr>\n",
       "      <th>3</th>\n",
       "      <td>0</td>\n",
       "      <td>24.21</td>\n",
       "      <td>0</td>\n",
       "      <td>0</td>\n",
       "      <td>0</td>\n",
       "      <td>0.0</td>\n",
       "      <td>0.0</td>\n",
       "      <td>0</td>\n",
       "      <td>8</td>\n",
       "      <td>21</td>\n",
       "      <td>0</td>\n",
       "      <td>0</td>\n",
       "      <td>4</td>\n",
       "      <td>6.0</td>\n",
       "      <td>0</td>\n",
       "      <td>0</td>\n",
       "      <td>1</td>\n",
       "    </tr>\n",
       "    <tr>\n",
       "      <th>4</th>\n",
       "      <td>0</td>\n",
       "      <td>23.71</td>\n",
       "      <td>0</td>\n",
       "      <td>0</td>\n",
       "      <td>0</td>\n",
       "      <td>28.0</td>\n",
       "      <td>0.0</td>\n",
       "      <td>1</td>\n",
       "      <td>8</td>\n",
       "      <td>14</td>\n",
       "      <td>0</td>\n",
       "      <td>1</td>\n",
       "      <td>5</td>\n",
       "      <td>8.0</td>\n",
       "      <td>0</td>\n",
       "      <td>0</td>\n",
       "      <td>0</td>\n",
       "    </tr>\n",
       "  </tbody>\n",
       "</table>\n",
       "</div>"
      ],
      "text/plain": [
       "   HeartDisease    BMI  Smoking  AlcoholDrinking  Stroke  PhysicalHealth  \\\n",
       "0             0  16.60        1                0       0             3.0   \n",
       "1             0  20.34        0                0       1             0.0   \n",
       "2             0  26.58        1                0       0            20.0   \n",
       "3             0  24.21        0                0       0             0.0   \n",
       "4             0  23.71        0                0       0            28.0   \n",
       "\n",
       "   MentalHealth  DiffWalking  Sex  AgeCategory  Diabetic  PhysicalActivity  \\\n",
       "0          30.0            0    8           17         1                 1   \n",
       "1           0.0            0    8           22         0                 1   \n",
       "2          30.0            0    9           19         1                 1   \n",
       "3           0.0            0    8           21         0                 0   \n",
       "4           0.0            1    8           14         0                 1   \n",
       "\n",
       "   GenHealth  SleepTime  Asthma  KidneyDisease  SkinCancer  \n",
       "0          5        5.0       1              0           1  \n",
       "1          5        7.0       0              0           0  \n",
       "2          3        8.0       1              0           0  \n",
       "3          4        6.0       0              0           1  \n",
       "4          5        8.0       0              0           0  "
      ]
     },
     "execution_count": 2,
     "metadata": {},
     "output_type": "execute_result"
    }
   ],
   "source": [
    "data=pd.read_csv(\"/kaggle/input/datasetheartdisease/dataset.csv\")\n",
    "df=data.copy()\n",
    "df=df.drop([\"Unnamed: 0\"],axis=1)\n",
    "df.head()"
   ]
  },
  {
   "cell_type": "code",
   "execution_count": 3,
   "id": "4e7582d8",
   "metadata": {
    "execution": {
     "iopub.execute_input": "2022-10-27T16:11:41.194194Z",
     "iopub.status.busy": "2022-10-27T16:11:41.193508Z",
     "iopub.status.idle": "2022-10-27T16:11:41.211617Z",
     "shell.execute_reply": "2022-10-27T16:11:41.210525Z"
    },
    "papermill": {
     "duration": 0.031967,
     "end_time": "2022-10-27T16:11:41.214099",
     "exception": false,
     "start_time": "2022-10-27T16:11:41.182132",
     "status": "completed"
    },
    "tags": []
   },
   "outputs": [
    {
     "data": {
      "text/plain": [
       "(3198, 17)"
      ]
     },
     "execution_count": 3,
     "metadata": {},
     "output_type": "execute_result"
    }
   ],
   "source": [
    "df = df.sample(frac=0.01)\n",
    "df.shape"
   ]
  },
  {
   "cell_type": "markdown",
   "id": "380d774b",
   "metadata": {
    "papermill": {
     "duration": 0.009722,
     "end_time": "2022-10-27T16:11:41.233947",
     "exception": false,
     "start_time": "2022-10-27T16:11:41.224225",
     "status": "completed"
    },
    "tags": []
   },
   "source": [
    "# Separamos los datos\n",
    "Separamos los datos de nuestro dataset, ponemos las características que vamos a utilizar para entrenar en la variable X y la variable a predecir en la varibale Y."
   ]
  },
  {
   "cell_type": "code",
   "execution_count": 4,
   "id": "8c44f3d9",
   "metadata": {
    "execution": {
     "iopub.execute_input": "2022-10-27T16:11:41.255916Z",
     "iopub.status.busy": "2022-10-27T16:11:41.255527Z",
     "iopub.status.idle": "2022-10-27T16:11:41.261560Z",
     "shell.execute_reply": "2022-10-27T16:11:41.260359Z"
    },
    "papermill": {
     "duration": 0.019723,
     "end_time": "2022-10-27T16:11:41.263833",
     "exception": false,
     "start_time": "2022-10-27T16:11:41.244110",
     "status": "completed"
    },
    "tags": []
   },
   "outputs": [],
   "source": [
    "X=df.iloc[:,1:17]\n",
    "Y=df.iloc[:,0]"
   ]
  },
  {
   "cell_type": "markdown",
   "id": "46ce1791",
   "metadata": {
    "papermill": {
     "duration": 0.009759,
     "end_time": "2022-10-27T16:11:41.284430",
     "exception": false,
     "start_time": "2022-10-27T16:11:41.274671",
     "status": "completed"
    },
    "tags": []
   },
   "source": [
    "# Estandarización de los datos\n",
    "Usamos StandardScaler para estandarizar las caracteríticas que vamos a usar para entrenar en nuestro modelo."
   ]
  },
  {
   "cell_type": "code",
   "execution_count": 5,
   "id": "aef5cfd7",
   "metadata": {
    "execution": {
     "iopub.execute_input": "2022-10-27T16:11:41.306956Z",
     "iopub.status.busy": "2022-10-27T16:11:41.306241Z",
     "iopub.status.idle": "2022-10-27T16:11:41.333203Z",
     "shell.execute_reply": "2022-10-27T16:11:41.332044Z"
    },
    "papermill": {
     "duration": 0.040955,
     "end_time": "2022-10-27T16:11:41.335716",
     "exception": false,
     "start_time": "2022-10-27T16:11:41.294761",
     "status": "completed"
    },
    "tags": []
   },
   "outputs": [
    {
     "data": {
      "text/html": [
       "<div>\n",
       "<style scoped>\n",
       "    .dataframe tbody tr th:only-of-type {\n",
       "        vertical-align: middle;\n",
       "    }\n",
       "\n",
       "    .dataframe tbody tr th {\n",
       "        vertical-align: top;\n",
       "    }\n",
       "\n",
       "    .dataframe thead th {\n",
       "        text-align: right;\n",
       "    }\n",
       "</style>\n",
       "<table border=\"1\" class=\"dataframe\">\n",
       "  <thead>\n",
       "    <tr style=\"text-align: right;\">\n",
       "      <th></th>\n",
       "      <th>BMI</th>\n",
       "      <th>Smoking</th>\n",
       "      <th>AlcoholDrinking</th>\n",
       "      <th>Stroke</th>\n",
       "      <th>PhysicalHealth</th>\n",
       "      <th>MentalHealth</th>\n",
       "      <th>DiffWalking</th>\n",
       "      <th>Sex</th>\n",
       "      <th>AgeCategory</th>\n",
       "      <th>Diabetic</th>\n",
       "      <th>PhysicalActivity</th>\n",
       "      <th>GenHealth</th>\n",
       "      <th>SleepTime</th>\n",
       "      <th>Asthma</th>\n",
       "      <th>KidneyDisease</th>\n",
       "      <th>SkinCancer</th>\n",
       "    </tr>\n",
       "  </thead>\n",
       "  <tbody>\n",
       "    <tr>\n",
       "      <th>0</th>\n",
       "      <td>3.905583</td>\n",
       "      <td>1.200509</td>\n",
       "      <td>-0.275102</td>\n",
       "      <td>-0.213166</td>\n",
       "      <td>2.804882</td>\n",
       "      <td>3.367280</td>\n",
       "      <td>-0.409365</td>\n",
       "      <td>-0.942252</td>\n",
       "      <td>-1.289683</td>\n",
       "      <td>-0.386160</td>\n",
       "      <td>-1.848547</td>\n",
       "      <td>-1.551370</td>\n",
       "      <td>-0.805430</td>\n",
       "      <td>-0.390426</td>\n",
       "      <td>-0.190507</td>\n",
       "      <td>-0.32056</td>\n",
       "    </tr>\n",
       "    <tr>\n",
       "      <th>1</th>\n",
       "      <td>-0.238013</td>\n",
       "      <td>-0.832980</td>\n",
       "      <td>-0.275102</td>\n",
       "      <td>-0.213166</td>\n",
       "      <td>-0.417244</td>\n",
       "      <td>-0.485515</td>\n",
       "      <td>-0.409365</td>\n",
       "      <td>-0.942252</td>\n",
       "      <td>0.668591</td>\n",
       "      <td>-0.386160</td>\n",
       "      <td>0.540965</td>\n",
       "      <td>0.395376</td>\n",
       "      <td>-1.530181</td>\n",
       "      <td>-0.390426</td>\n",
       "      <td>-0.190507</td>\n",
       "      <td>-0.32056</td>\n",
       "    </tr>\n",
       "    <tr>\n",
       "      <th>2</th>\n",
       "      <td>0.129994</td>\n",
       "      <td>1.200509</td>\n",
       "      <td>-0.275102</td>\n",
       "      <td>-0.213166</td>\n",
       "      <td>-0.417244</td>\n",
       "      <td>0.311615</td>\n",
       "      <td>-0.409365</td>\n",
       "      <td>1.061287</td>\n",
       "      <td>0.109085</td>\n",
       "      <td>2.589599</td>\n",
       "      <td>0.540965</td>\n",
       "      <td>-0.577997</td>\n",
       "      <td>0.644072</td>\n",
       "      <td>-0.390426</td>\n",
       "      <td>5.249150</td>\n",
       "      <td>-0.32056</td>\n",
       "    </tr>\n",
       "    <tr>\n",
       "      <th>3</th>\n",
       "      <td>0.075184</td>\n",
       "      <td>-0.832980</td>\n",
       "      <td>-0.275102</td>\n",
       "      <td>-0.213166</td>\n",
       "      <td>-0.159474</td>\n",
       "      <td>0.843035</td>\n",
       "      <td>-0.409365</td>\n",
       "      <td>1.061287</td>\n",
       "      <td>-1.849189</td>\n",
       "      <td>-0.386160</td>\n",
       "      <td>0.540965</td>\n",
       "      <td>0.395376</td>\n",
       "      <td>-1.530181</td>\n",
       "      <td>-0.390426</td>\n",
       "      <td>-0.190507</td>\n",
       "      <td>-0.32056</td>\n",
       "    </tr>\n",
       "    <tr>\n",
       "      <th>4</th>\n",
       "      <td>-0.443157</td>\n",
       "      <td>1.200509</td>\n",
       "      <td>-0.275102</td>\n",
       "      <td>-0.213166</td>\n",
       "      <td>3.449308</td>\n",
       "      <td>3.500135</td>\n",
       "      <td>2.442810</td>\n",
       "      <td>-0.942252</td>\n",
       "      <td>0.668591</td>\n",
       "      <td>2.589599</td>\n",
       "      <td>0.540965</td>\n",
       "      <td>-2.524744</td>\n",
       "      <td>-0.805430</td>\n",
       "      <td>-0.390426</td>\n",
       "      <td>-0.190507</td>\n",
       "      <td>-0.32056</td>\n",
       "    </tr>\n",
       "  </tbody>\n",
       "</table>\n",
       "</div>"
      ],
      "text/plain": [
       "        BMI   Smoking  AlcoholDrinking    Stroke  PhysicalHealth  \\\n",
       "0  3.905583  1.200509        -0.275102 -0.213166        2.804882   \n",
       "1 -0.238013 -0.832980        -0.275102 -0.213166       -0.417244   \n",
       "2  0.129994  1.200509        -0.275102 -0.213166       -0.417244   \n",
       "3  0.075184 -0.832980        -0.275102 -0.213166       -0.159474   \n",
       "4 -0.443157  1.200509        -0.275102 -0.213166        3.449308   \n",
       "\n",
       "   MentalHealth  DiffWalking       Sex  AgeCategory  Diabetic  \\\n",
       "0      3.367280    -0.409365 -0.942252    -1.289683 -0.386160   \n",
       "1     -0.485515    -0.409365 -0.942252     0.668591 -0.386160   \n",
       "2      0.311615    -0.409365  1.061287     0.109085  2.589599   \n",
       "3      0.843035    -0.409365  1.061287    -1.849189 -0.386160   \n",
       "4      3.500135     2.442810 -0.942252     0.668591  2.589599   \n",
       "\n",
       "   PhysicalActivity  GenHealth  SleepTime    Asthma  KidneyDisease  SkinCancer  \n",
       "0         -1.848547  -1.551370  -0.805430 -0.390426      -0.190507    -0.32056  \n",
       "1          0.540965   0.395376  -1.530181 -0.390426      -0.190507    -0.32056  \n",
       "2          0.540965  -0.577997   0.644072 -0.390426       5.249150    -0.32056  \n",
       "3          0.540965   0.395376  -1.530181 -0.390426      -0.190507    -0.32056  \n",
       "4          0.540965  -2.524744  -0.805430 -0.390426      -0.190507    -0.32056  "
      ]
     },
     "execution_count": 5,
     "metadata": {},
     "output_type": "execute_result"
    }
   ],
   "source": [
    "scaler=StandardScaler()\n",
    "columns=X.columns\n",
    "s=scaler.fit_transform(X)\n",
    "\n",
    "X=pd.DataFrame(s,columns=columns)\n",
    "X.head(5)"
   ]
  },
  {
   "cell_type": "markdown",
   "id": "e3161721",
   "metadata": {
    "papermill": {
     "duration": 0.010138,
     "end_time": "2022-10-27T16:11:41.356497",
     "exception": false,
     "start_time": "2022-10-27T16:11:41.346359",
     "status": "completed"
    },
    "tags": []
   },
   "source": [
    "# Submuestro de los datos con Oversampling"
   ]
  },
  {
   "cell_type": "code",
   "execution_count": 6,
   "id": "0acf82e5",
   "metadata": {
    "execution": {
     "iopub.execute_input": "2022-10-27T16:11:41.379428Z",
     "iopub.status.busy": "2022-10-27T16:11:41.379020Z",
     "iopub.status.idle": "2022-10-27T16:11:41.397067Z",
     "shell.execute_reply": "2022-10-27T16:11:41.395835Z"
    },
    "papermill": {
     "duration": 0.033623,
     "end_time": "2022-10-27T16:11:41.400475",
     "exception": false,
     "start_time": "2022-10-27T16:11:41.366852",
     "status": "completed"
    },
    "tags": []
   },
   "outputs": [
    {
     "name": "stdout",
     "output_type": "stream",
     "text": [
      "Dimensiones\n",
      "Xtrain_new:  (5836, 16)\n",
      "Ytrain_new:  (5836,)\n"
     ]
    }
   ],
   "source": [
    "subsample=RandomOverSampler()\n",
    "X_new, Y_new=subsample.fit_resample(X,Y)\n",
    "print(\"Dimensiones\")\n",
    "print(\"Xtrain_new: \", X_new.shape)\n",
    "print(\"Ytrain_new: \", Y_new.shape)\n"
   ]
  },
  {
   "cell_type": "markdown",
   "id": "baba2f41",
   "metadata": {
    "papermill": {
     "duration": 0.010745,
     "end_time": "2022-10-27T16:11:41.422273",
     "exception": false,
     "start_time": "2022-10-27T16:11:41.411528",
     "status": "completed"
    },
    "tags": []
   },
   "source": [
    "# Función Selección de características\n",
    "Función utilizada para declarar Sequential Feature Selector con la cantidad de caracteristicas a selecciona y el modelo que va a utilizar"
   ]
  },
  {
   "cell_type": "code",
   "execution_count": 7,
   "id": "3690031c",
   "metadata": {
    "execution": {
     "iopub.execute_input": "2022-10-27T16:11:41.445412Z",
     "iopub.status.busy": "2022-10-27T16:11:41.445024Z",
     "iopub.status.idle": "2022-10-27T16:11:41.450758Z",
     "shell.execute_reply": "2022-10-27T16:11:41.449841Z"
    },
    "papermill": {
     "duration": 0.01979,
     "end_time": "2022-10-27T16:11:41.452941",
     "exception": false,
     "start_time": "2022-10-27T16:11:41.433151",
     "status": "completed"
    },
    "tags": []
   },
   "outputs": [],
   "source": [
    "def select_features(model,n_features,fwd):\n",
    "    sfs=SFS(\n",
    "        model,\n",
    "        k_features=n_features,\n",
    "        forward=fwd,\n",
    "        scoring='accuracy',\n",
    "        cv=0\n",
    "    )\n",
    "    return sfs"
   ]
  },
  {
   "cell_type": "markdown",
   "id": "9e2a065a",
   "metadata": {
    "papermill": {
     "duration": 0.009918,
     "end_time": "2022-10-27T16:11:41.473166",
     "exception": false,
     "start_time": "2022-10-27T16:11:41.463248",
     "status": "completed"
    },
    "tags": []
   },
   "source": [
    "# Selección de caracteríticas\n",
    "Se declara la función train_select_features que lo que hace es por medio de StratifiedKFold y un array con la cantidad de caracteríticas a seleccionar, entrena un modelo y guardar el rendimiento en un dataframe para luego seleccionar con que y cuales caracteríticas tuvo mejor rendimieto el modelo."
   ]
  },
  {
   "cell_type": "code",
   "execution_count": 8,
   "id": "4adce992",
   "metadata": {
    "execution": {
     "iopub.execute_input": "2022-10-27T16:11:41.496408Z",
     "iopub.status.busy": "2022-10-27T16:11:41.495528Z",
     "iopub.status.idle": "2022-10-27T16:11:41.506162Z",
     "shell.execute_reply": "2022-10-27T16:11:41.505024Z"
    },
    "papermill": {
     "duration": 0.025124,
     "end_time": "2022-10-27T16:11:41.508538",
     "exception": false,
     "start_time": "2022-10-27T16:11:41.483414",
     "status": "completed"
    },
    "tags": []
   },
   "outputs": [],
   "source": [
    "def train_select_features(model,folds,features,X,Y):\n",
    "    skf=StratifiedKFold(n_splits=folds)\n",
    "    resultados=pd.DataFrame()\n",
    "    idx=0\n",
    "    resultados = {\n",
    "        'Modelo': [],\n",
    "        'Features':[],\n",
    "        'Name Features':[],\n",
    "        'Index Features':[],\n",
    "        'Error':[],\n",
    "        'Tiempo':[]\n",
    "    }\n",
    "    for feature in features:\n",
    "        for train, test in skf.split(X=X,y=Y):\n",
    "            tiempo_i = time.time()\n",
    "            Xtrain, Xtest = X.iloc[train], X.iloc[test]\n",
    "            Ytrain, Ytest = Y[train], Y[test]\n",
    "            \n",
    "            model_train=select_features(model,feature,False)\n",
    "            model_train.fit(Xtrain,Ytrain)\n",
    "            tiempo_f = time.time()\n",
    "            resultados['Modelo'].append(str(model))\n",
    "            resultados['Name Features'].append(model_train.k_feature_names_)\n",
    "            resultados['Index Features'].append(model_train.k_feature_idx_)\n",
    "            resultados['Features'].append(feature)\n",
    "            resultados['Error'].append(1-model_train.k_score_)\n",
    "            resultados['Tiempo'].append(tiempo_f-tiempo_i)\n",
    "\n",
    "\n",
    "\n",
    "    return resultados"
   ]
  },
  {
   "cell_type": "code",
   "execution_count": 9,
   "id": "3624f21f",
   "metadata": {
    "execution": {
     "iopub.execute_input": "2022-10-27T16:11:41.530875Z",
     "iopub.status.busy": "2022-10-27T16:11:41.530455Z",
     "iopub.status.idle": "2022-10-27T16:11:41.536173Z",
     "shell.execute_reply": "2022-10-27T16:11:41.535053Z"
    },
    "papermill": {
     "duration": 0.019518,
     "end_time": "2022-10-27T16:11:41.538413",
     "exception": false,
     "start_time": "2022-10-27T16:11:41.518895",
     "status": "completed"
    },
    "tags": []
   },
   "outputs": [],
   "source": [
    "hidden_layer_sizes = tuple(10*[100])\n",
    "model=MLPClassifier(hidden_layer_sizes=hidden_layer_sizes,activation='tanh',max_iter=350, random_state = 1)"
   ]
  },
  {
   "cell_type": "code",
   "execution_count": 10,
   "id": "565faa8e",
   "metadata": {
    "execution": {
     "iopub.execute_input": "2022-10-27T16:11:41.561373Z",
     "iopub.status.busy": "2022-10-27T16:11:41.560917Z",
     "iopub.status.idle": "2022-10-28T03:52:44.153782Z",
     "shell.execute_reply": "2022-10-28T03:52:44.152324Z"
    },
    "papermill": {
     "duration": 42062.641263,
     "end_time": "2022-10-28T03:52:44.189948",
     "exception": false,
     "start_time": "2022-10-27T16:11:41.548685",
     "status": "completed"
    },
    "tags": []
   },
   "outputs": [
    {
     "data": {
      "text/html": [
       "<div>\n",
       "<style scoped>\n",
       "    .dataframe tbody tr th:only-of-type {\n",
       "        vertical-align: middle;\n",
       "    }\n",
       "\n",
       "    .dataframe tbody tr th {\n",
       "        vertical-align: top;\n",
       "    }\n",
       "\n",
       "    .dataframe thead th {\n",
       "        text-align: right;\n",
       "    }\n",
       "</style>\n",
       "<table border=\"1\" class=\"dataframe\">\n",
       "  <thead>\n",
       "    <tr style=\"text-align: right;\">\n",
       "      <th></th>\n",
       "      <th>Modelo</th>\n",
       "      <th>Features</th>\n",
       "      <th>Name Features</th>\n",
       "      <th>Index Features</th>\n",
       "      <th>Error</th>\n",
       "      <th>Tiempo</th>\n",
       "    </tr>\n",
       "  </thead>\n",
       "  <tbody>\n",
       "    <tr>\n",
       "      <th>0</th>\n",
       "      <td>MLPClassifier(activation='tanh',\\n            ...</td>\n",
       "      <td>4</td>\n",
       "      <td>(BMI, AgeCategory, GenHealth, SleepTime)</td>\n",
       "      <td>(0, 8, 11, 12)</td>\n",
       "      <td>0.059897</td>\n",
       "      <td>6064.146848</td>\n",
       "    </tr>\n",
       "    <tr>\n",
       "      <th>1</th>\n",
       "      <td>MLPClassifier(activation='tanh',\\n            ...</td>\n",
       "      <td>4</td>\n",
       "      <td>(BMI, Sex, AgeCategory, SleepTime)</td>\n",
       "      <td>(0, 7, 8, 12)</td>\n",
       "      <td>0.093806</td>\n",
       "      <td>6043.777</td>\n",
       "    </tr>\n",
       "    <tr>\n",
       "      <th>2</th>\n",
       "      <td>MLPClassifier(activation='tanh',\\n            ...</td>\n",
       "      <td>4</td>\n",
       "      <td>(BMI, AgeCategory, GenHealth, SleepTime)</td>\n",
       "      <td>(0, 8, 11, 12)</td>\n",
       "      <td>0.056027</td>\n",
       "      <td>6321.687587</td>\n",
       "    </tr>\n",
       "    <tr>\n",
       "      <th>3</th>\n",
       "      <td>MLPClassifier(activation='tanh',\\n            ...</td>\n",
       "      <td>8</td>\n",
       "      <td>(BMI, Smoking, Sex, AgeCategory, GenHealth, Sl...</td>\n",
       "      <td>(0, 1, 7, 8, 11, 12, 13, 15)</td>\n",
       "      <td>0.009254</td>\n",
       "      <td>4417.362694</td>\n",
       "    </tr>\n",
       "    <tr>\n",
       "      <th>4</th>\n",
       "      <td>MLPClassifier(activation='tanh',\\n            ...</td>\n",
       "      <td>8</td>\n",
       "      <td>(BMI, Smoking, DiffWalking, Sex, AgeCategory, ...</td>\n",
       "      <td>(0, 1, 6, 7, 8, 11, 12, 15)</td>\n",
       "      <td>0.012079</td>\n",
       "      <td>4758.51519</td>\n",
       "    </tr>\n",
       "    <tr>\n",
       "      <th>5</th>\n",
       "      <td>MLPClassifier(activation='tanh',\\n            ...</td>\n",
       "      <td>8</td>\n",
       "      <td>(BMI, PhysicalHealth, DiffWalking, Sex, AgeCat...</td>\n",
       "      <td>(0, 4, 6, 7, 8, 9, 11, 12)</td>\n",
       "      <td>0.014906</td>\n",
       "      <td>5397.970855</td>\n",
       "    </tr>\n",
       "    <tr>\n",
       "      <th>6</th>\n",
       "      <td>MLPClassifier(activation='tanh',\\n            ...</td>\n",
       "      <td>12</td>\n",
       "      <td>(BMI, Smoking, Stroke, PhysicalHealth, DiffWal...</td>\n",
       "      <td>(0, 1, 3, 4, 6, 7, 8, 9, 11, 12, 13, 15)</td>\n",
       "      <td>0.002828</td>\n",
       "      <td>2960.951273</td>\n",
       "    </tr>\n",
       "    <tr>\n",
       "      <th>7</th>\n",
       "      <td>MLPClassifier(activation='tanh',\\n            ...</td>\n",
       "      <td>12</td>\n",
       "      <td>(BMI, Smoking, AlcoholDrinking, PhysicalHealth...</td>\n",
       "      <td>(0, 1, 2, 4, 6, 7, 8, 9, 11, 12, 13, 15)</td>\n",
       "      <td>0.003855</td>\n",
       "      <td>3042.855758</td>\n",
       "    </tr>\n",
       "    <tr>\n",
       "      <th>8</th>\n",
       "      <td>MLPClassifier(activation='tanh',\\n            ...</td>\n",
       "      <td>12</td>\n",
       "      <td>(BMI, Stroke, PhysicalHealth, MentalHealth, Di...</td>\n",
       "      <td>(0, 3, 4, 5, 6, 7, 8, 9, 10, 11, 12, 14)</td>\n",
       "      <td>0.006425</td>\n",
       "      <td>3055.241692</td>\n",
       "    </tr>\n",
       "  </tbody>\n",
       "</table>\n",
       "</div>"
      ],
      "text/plain": [
       "                                              Modelo Features  \\\n",
       "0  MLPClassifier(activation='tanh',\\n            ...        4   \n",
       "1  MLPClassifier(activation='tanh',\\n            ...        4   \n",
       "2  MLPClassifier(activation='tanh',\\n            ...        4   \n",
       "3  MLPClassifier(activation='tanh',\\n            ...        8   \n",
       "4  MLPClassifier(activation='tanh',\\n            ...        8   \n",
       "5  MLPClassifier(activation='tanh',\\n            ...        8   \n",
       "6  MLPClassifier(activation='tanh',\\n            ...       12   \n",
       "7  MLPClassifier(activation='tanh',\\n            ...       12   \n",
       "8  MLPClassifier(activation='tanh',\\n            ...       12   \n",
       "\n",
       "                                       Name Features  \\\n",
       "0           (BMI, AgeCategory, GenHealth, SleepTime)   \n",
       "1                 (BMI, Sex, AgeCategory, SleepTime)   \n",
       "2           (BMI, AgeCategory, GenHealth, SleepTime)   \n",
       "3  (BMI, Smoking, Sex, AgeCategory, GenHealth, Sl...   \n",
       "4  (BMI, Smoking, DiffWalking, Sex, AgeCategory, ...   \n",
       "5  (BMI, PhysicalHealth, DiffWalking, Sex, AgeCat...   \n",
       "6  (BMI, Smoking, Stroke, PhysicalHealth, DiffWal...   \n",
       "7  (BMI, Smoking, AlcoholDrinking, PhysicalHealth...   \n",
       "8  (BMI, Stroke, PhysicalHealth, MentalHealth, Di...   \n",
       "\n",
       "                             Index Features     Error       Tiempo  \n",
       "0                            (0, 8, 11, 12)  0.059897  6064.146848  \n",
       "1                             (0, 7, 8, 12)  0.093806     6043.777  \n",
       "2                            (0, 8, 11, 12)  0.056027  6321.687587  \n",
       "3              (0, 1, 7, 8, 11, 12, 13, 15)  0.009254  4417.362694  \n",
       "4               (0, 1, 6, 7, 8, 11, 12, 15)  0.012079   4758.51519  \n",
       "5                (0, 4, 6, 7, 8, 9, 11, 12)  0.014906  5397.970855  \n",
       "6  (0, 1, 3, 4, 6, 7, 8, 9, 11, 12, 13, 15)  0.002828  2960.951273  \n",
       "7  (0, 1, 2, 4, 6, 7, 8, 9, 11, 12, 13, 15)  0.003855  3042.855758  \n",
       "8  (0, 3, 4, 5, 6, 7, 8, 9, 10, 11, 12, 14)  0.006425  3055.241692  "
      ]
     },
     "execution_count": 10,
     "metadata": {},
     "output_type": "execute_result"
    }
   ],
   "source": [
    "features=[4,8,12]\n",
    "resultados=train_select_features(model,3,features,X_new,Y_new)\n",
    "resultados= pd.DataFrame.from_dict(resultados, orient='index')\n",
    "resultados=resultados.transpose()\n",
    "resultados"
   ]
  },
  {
   "cell_type": "markdown",
   "id": "14df4b1c",
   "metadata": {
    "papermill": {
     "duration": 0.011057,
     "end_time": "2022-10-28T03:52:44.231638",
     "exception": false,
     "start_time": "2022-10-28T03:52:44.220581",
     "status": "completed"
    },
    "tags": []
   },
   "source": [
    "# Gráfica de los resultados obtenidos"
   ]
  },
  {
   "cell_type": "code",
   "execution_count": 11,
   "id": "12d4d383",
   "metadata": {
    "execution": {
     "iopub.execute_input": "2022-10-28T03:52:44.257924Z",
     "iopub.status.busy": "2022-10-28T03:52:44.257440Z",
     "iopub.status.idle": "2022-10-28T03:52:44.616916Z",
     "shell.execute_reply": "2022-10-28T03:52:44.614992Z"
    },
    "papermill": {
     "duration": 0.376052,
     "end_time": "2022-10-28T03:52:44.620287",
     "exception": false,
     "start_time": "2022-10-28T03:52:44.244235",
     "status": "completed"
    },
    "tags": []
   },
   "outputs": [
    {
     "data": {
      "image/png": "[encoded data removed]",
      "text/plain": [
       "<Figure size 432x288 with 1 Axes>"
      ]
     },
     "metadata": {
      "needs_background": "light"
     },
     "output_type": "display_data"
    }
   ],
   "source": [
    "sns.lineplot(data=resultados,x=\"Features\",y=\"Error\")\n",
    "plt.show()"
   ]
  },
  {
   "cell_type": "code",
   "execution_count": 12,
   "id": "46a73086",
   "metadata": {
    "execution": {
     "iopub.execute_input": "2022-10-28T03:52:44.646934Z",
     "iopub.status.busy": "2022-10-28T03:52:44.646482Z",
     "iopub.status.idle": "2022-10-28T03:52:44.670231Z",
     "shell.execute_reply": "2022-10-28T03:52:44.668701Z"
    },
    "papermill": {
     "duration": 0.040531,
     "end_time": "2022-10-28T03:52:44.672975",
     "exception": false,
     "start_time": "2022-10-28T03:52:44.632444",
     "status": "completed"
    },
    "tags": []
   },
   "outputs": [
    {
     "data": {
      "text/html": [
       "<div>\n",
       "<style scoped>\n",
       "    .dataframe tbody tr th:only-of-type {\n",
       "        vertical-align: middle;\n",
       "    }\n",
       "\n",
       "    .dataframe tbody tr th {\n",
       "        vertical-align: top;\n",
       "    }\n",
       "\n",
       "    .dataframe thead th {\n",
       "        text-align: right;\n",
       "    }\n",
       "</style>\n",
       "<table border=\"1\" class=\"dataframe\">\n",
       "  <thead>\n",
       "    <tr style=\"text-align: right;\">\n",
       "      <th></th>\n",
       "      <th>Modelo</th>\n",
       "      <th>Features</th>\n",
       "      <th>Name Features</th>\n",
       "      <th>Index Features</th>\n",
       "      <th>Error</th>\n",
       "      <th>Tiempo</th>\n",
       "    </tr>\n",
       "  </thead>\n",
       "  <tbody>\n",
       "    <tr>\n",
       "      <th>6</th>\n",
       "      <td>MLPClassifier(activation='tanh',\\n            ...</td>\n",
       "      <td>12</td>\n",
       "      <td>(BMI, Smoking, Stroke, PhysicalHealth, DiffWal...</td>\n",
       "      <td>(0, 1, 3, 4, 6, 7, 8, 9, 11, 12, 13, 15)</td>\n",
       "      <td>0.002828</td>\n",
       "      <td>2960.951273</td>\n",
       "    </tr>\n",
       "    <tr>\n",
       "      <th>7</th>\n",
       "      <td>MLPClassifier(activation='tanh',\\n            ...</td>\n",
       "      <td>12</td>\n",
       "      <td>(BMI, Smoking, AlcoholDrinking, PhysicalHealth...</td>\n",
       "      <td>(0, 1, 2, 4, 6, 7, 8, 9, 11, 12, 13, 15)</td>\n",
       "      <td>0.003855</td>\n",
       "      <td>3042.855758</td>\n",
       "    </tr>\n",
       "    <tr>\n",
       "      <th>8</th>\n",
       "      <td>MLPClassifier(activation='tanh',\\n            ...</td>\n",
       "      <td>12</td>\n",
       "      <td>(BMI, Stroke, PhysicalHealth, MentalHealth, Di...</td>\n",
       "      <td>(0, 3, 4, 5, 6, 7, 8, 9, 10, 11, 12, 14)</td>\n",
       "      <td>0.006425</td>\n",
       "      <td>3055.241692</td>\n",
       "    </tr>\n",
       "    <tr>\n",
       "      <th>3</th>\n",
       "      <td>MLPClassifier(activation='tanh',\\n            ...</td>\n",
       "      <td>8</td>\n",
       "      <td>(BMI, Smoking, Sex, AgeCategory, GenHealth, Sl...</td>\n",
       "      <td>(0, 1, 7, 8, 11, 12, 13, 15)</td>\n",
       "      <td>0.009254</td>\n",
       "      <td>4417.362694</td>\n",
       "    </tr>\n",
       "    <tr>\n",
       "      <th>4</th>\n",
       "      <td>MLPClassifier(activation='tanh',\\n            ...</td>\n",
       "      <td>8</td>\n",
       "      <td>(BMI, Smoking, DiffWalking, Sex, AgeCategory, ...</td>\n",
       "      <td>(0, 1, 6, 7, 8, 11, 12, 15)</td>\n",
       "      <td>0.012079</td>\n",
       "      <td>4758.51519</td>\n",
       "    </tr>\n",
       "    <tr>\n",
       "      <th>5</th>\n",
       "      <td>MLPClassifier(activation='tanh',\\n            ...</td>\n",
       "      <td>8</td>\n",
       "      <td>(BMI, PhysicalHealth, DiffWalking, Sex, AgeCat...</td>\n",
       "      <td>(0, 4, 6, 7, 8, 9, 11, 12)</td>\n",
       "      <td>0.014906</td>\n",
       "      <td>5397.970855</td>\n",
       "    </tr>\n",
       "    <tr>\n",
       "      <th>2</th>\n",
       "      <td>MLPClassifier(activation='tanh',\\n            ...</td>\n",
       "      <td>4</td>\n",
       "      <td>(BMI, AgeCategory, GenHealth, SleepTime)</td>\n",
       "      <td>(0, 8, 11, 12)</td>\n",
       "      <td>0.056027</td>\n",
       "      <td>6321.687587</td>\n",
       "    </tr>\n",
       "    <tr>\n",
       "      <th>0</th>\n",
       "      <td>MLPClassifier(activation='tanh',\\n            ...</td>\n",
       "      <td>4</td>\n",
       "      <td>(BMI, AgeCategory, GenHealth, SleepTime)</td>\n",
       "      <td>(0, 8, 11, 12)</td>\n",
       "      <td>0.059897</td>\n",
       "      <td>6064.146848</td>\n",
       "    </tr>\n",
       "    <tr>\n",
       "      <th>1</th>\n",
       "      <td>MLPClassifier(activation='tanh',\\n            ...</td>\n",
       "      <td>4</td>\n",
       "      <td>(BMI, Sex, AgeCategory, SleepTime)</td>\n",
       "      <td>(0, 7, 8, 12)</td>\n",
       "      <td>0.093806</td>\n",
       "      <td>6043.777</td>\n",
       "    </tr>\n",
       "  </tbody>\n",
       "</table>\n",
       "</div>"
      ],
      "text/plain": [
       "                                              Modelo Features  \\\n",
       "6  MLPClassifier(activation='tanh',\\n            ...       12   \n",
       "7  MLPClassifier(activation='tanh',\\n            ...       12   \n",
       "8  MLPClassifier(activation='tanh',\\n            ...       12   \n",
       "3  MLPClassifier(activation='tanh',\\n            ...        8   \n",
       "4  MLPClassifier(activation='tanh',\\n            ...        8   \n",
       "5  MLPClassifier(activation='tanh',\\n            ...        8   \n",
       "2  MLPClassifier(activation='tanh',\\n            ...        4   \n",
       "0  MLPClassifier(activation='tanh',\\n            ...        4   \n",
       "1  MLPClassifier(activation='tanh',\\n            ...        4   \n",
       "\n",
       "                                       Name Features  \\\n",
       "6  (BMI, Smoking, Stroke, PhysicalHealth, DiffWal...   \n",
       "7  (BMI, Smoking, AlcoholDrinking, PhysicalHealth...   \n",
       "8  (BMI, Stroke, PhysicalHealth, MentalHealth, Di...   \n",
       "3  (BMI, Smoking, Sex, AgeCategory, GenHealth, Sl...   \n",
       "4  (BMI, Smoking, DiffWalking, Sex, AgeCategory, ...   \n",
       "5  (BMI, PhysicalHealth, DiffWalking, Sex, AgeCat...   \n",
       "2           (BMI, AgeCategory, GenHealth, SleepTime)   \n",
       "0           (BMI, AgeCategory, GenHealth, SleepTime)   \n",
       "1                 (BMI, Sex, AgeCategory, SleepTime)   \n",
       "\n",
       "                             Index Features     Error       Tiempo  \n",
       "6  (0, 1, 3, 4, 6, 7, 8, 9, 11, 12, 13, 15)  0.002828  2960.951273  \n",
       "7  (0, 1, 2, 4, 6, 7, 8, 9, 11, 12, 13, 15)  0.003855  3042.855758  \n",
       "8  (0, 3, 4, 5, 6, 7, 8, 9, 10, 11, 12, 14)  0.006425  3055.241692  \n",
       "3              (0, 1, 7, 8, 11, 12, 13, 15)  0.009254  4417.362694  \n",
       "4               (0, 1, 6, 7, 8, 11, 12, 15)  0.012079   4758.51519  \n",
       "5                (0, 4, 6, 7, 8, 9, 11, 12)  0.014906  5397.970855  \n",
       "2                            (0, 8, 11, 12)  0.056027  6321.687587  \n",
       "0                            (0, 8, 11, 12)  0.059897  6064.146848  \n",
       "1                             (0, 7, 8, 12)  0.093806     6043.777  "
      ]
     },
     "execution_count": 12,
     "metadata": {},
     "output_type": "execute_result"
    }
   ],
   "source": [
    "resultados.sort_values(by ='Error', ascending =True).head(10)"
   ]
  },
  {
   "cell_type": "code",
   "execution_count": 13,
   "id": "1a8e24ec",
   "metadata": {
    "execution": {
     "iopub.execute_input": "2022-10-28T03:52:44.699949Z",
     "iopub.status.busy": "2022-10-28T03:52:44.699511Z",
     "iopub.status.idle": "2022-10-28T03:52:45.025087Z",
     "shell.execute_reply": "2022-10-28T03:52:45.023596Z"
    },
    "papermill": {
     "duration": 0.342466,
     "end_time": "2022-10-28T03:52:45.027972",
     "exception": false,
     "start_time": "2022-10-28T03:52:44.685506",
     "status": "completed"
    },
    "tags": []
   },
   "outputs": [
    {
     "data": {
      "image/png": "[encoded data removed]",
      "text/plain": [
       "<Figure size 432x288 with 1 Axes>"
      ]
     },
     "metadata": {
      "needs_background": "light"
     },
     "output_type": "display_data"
    }
   ],
   "source": [
    "sns.lineplot(data=resultados,x=\"Features\",y=\"Tiempo\")\n",
    "plt.show()"
   ]
  },
  {
   "cell_type": "code",
   "execution_count": 14,
   "id": "5117a366",
   "metadata": {
    "execution": {
     "iopub.execute_input": "2022-10-28T03:52:45.055679Z",
     "iopub.status.busy": "2022-10-28T03:52:45.055202Z",
     "iopub.status.idle": "2022-10-28T03:52:45.080518Z",
     "shell.execute_reply": "2022-10-28T03:52:45.078797Z"
    },
    "papermill": {
     "duration": 0.042518,
     "end_time": "2022-10-28T03:52:45.083322",
     "exception": false,
     "start_time": "2022-10-28T03:52:45.040804",
     "status": "completed"
    },
    "tags": []
   },
   "outputs": [
    {
     "data": {
      "text/html": [
       "<div>\n",
       "<style scoped>\n",
       "    .dataframe tbody tr th:only-of-type {\n",
       "        vertical-align: middle;\n",
       "    }\n",
       "\n",
       "    .dataframe tbody tr th {\n",
       "        vertical-align: top;\n",
       "    }\n",
       "\n",
       "    .dataframe thead th {\n",
       "        text-align: right;\n",
       "    }\n",
       "</style>\n",
       "<table border=\"1\" class=\"dataframe\">\n",
       "  <thead>\n",
       "    <tr style=\"text-align: right;\">\n",
       "      <th></th>\n",
       "      <th>Modelo</th>\n",
       "      <th>Features</th>\n",
       "      <th>Name Features</th>\n",
       "      <th>Index Features</th>\n",
       "      <th>Error</th>\n",
       "      <th>Tiempo</th>\n",
       "    </tr>\n",
       "  </thead>\n",
       "  <tbody>\n",
       "    <tr>\n",
       "      <th>6</th>\n",
       "      <td>MLPClassifier(activation='tanh',\\n            ...</td>\n",
       "      <td>12</td>\n",
       "      <td>(BMI, Smoking, Stroke, PhysicalHealth, DiffWal...</td>\n",
       "      <td>(0, 1, 3, 4, 6, 7, 8, 9, 11, 12, 13, 15)</td>\n",
       "      <td>0.002828</td>\n",
       "      <td>2960.951273</td>\n",
       "    </tr>\n",
       "    <tr>\n",
       "      <th>7</th>\n",
       "      <td>MLPClassifier(activation='tanh',\\n            ...</td>\n",
       "      <td>12</td>\n",
       "      <td>(BMI, Smoking, AlcoholDrinking, PhysicalHealth...</td>\n",
       "      <td>(0, 1, 2, 4, 6, 7, 8, 9, 11, 12, 13, 15)</td>\n",
       "      <td>0.003855</td>\n",
       "      <td>3042.855758</td>\n",
       "    </tr>\n",
       "    <tr>\n",
       "      <th>8</th>\n",
       "      <td>MLPClassifier(activation='tanh',\\n            ...</td>\n",
       "      <td>12</td>\n",
       "      <td>(BMI, Stroke, PhysicalHealth, MentalHealth, Di...</td>\n",
       "      <td>(0, 3, 4, 5, 6, 7, 8, 9, 10, 11, 12, 14)</td>\n",
       "      <td>0.006425</td>\n",
       "      <td>3055.241692</td>\n",
       "    </tr>\n",
       "    <tr>\n",
       "      <th>3</th>\n",
       "      <td>MLPClassifier(activation='tanh',\\n            ...</td>\n",
       "      <td>8</td>\n",
       "      <td>(BMI, Smoking, Sex, AgeCategory, GenHealth, Sl...</td>\n",
       "      <td>(0, 1, 7, 8, 11, 12, 13, 15)</td>\n",
       "      <td>0.009254</td>\n",
       "      <td>4417.362694</td>\n",
       "    </tr>\n",
       "    <tr>\n",
       "      <th>4</th>\n",
       "      <td>MLPClassifier(activation='tanh',\\n            ...</td>\n",
       "      <td>8</td>\n",
       "      <td>(BMI, Smoking, DiffWalking, Sex, AgeCategory, ...</td>\n",
       "      <td>(0, 1, 6, 7, 8, 11, 12, 15)</td>\n",
       "      <td>0.012079</td>\n",
       "      <td>4758.51519</td>\n",
       "    </tr>\n",
       "    <tr>\n",
       "      <th>5</th>\n",
       "      <td>MLPClassifier(activation='tanh',\\n            ...</td>\n",
       "      <td>8</td>\n",
       "      <td>(BMI, PhysicalHealth, DiffWalking, Sex, AgeCat...</td>\n",
       "      <td>(0, 4, 6, 7, 8, 9, 11, 12)</td>\n",
       "      <td>0.014906</td>\n",
       "      <td>5397.970855</td>\n",
       "    </tr>\n",
       "    <tr>\n",
       "      <th>1</th>\n",
       "      <td>MLPClassifier(activation='tanh',\\n            ...</td>\n",
       "      <td>4</td>\n",
       "      <td>(BMI, Sex, AgeCategory, SleepTime)</td>\n",
       "      <td>(0, 7, 8, 12)</td>\n",
       "      <td>0.093806</td>\n",
       "      <td>6043.777</td>\n",
       "    </tr>\n",
       "    <tr>\n",
       "      <th>0</th>\n",
       "      <td>MLPClassifier(activation='tanh',\\n            ...</td>\n",
       "      <td>4</td>\n",
       "      <td>(BMI, AgeCategory, GenHealth, SleepTime)</td>\n",
       "      <td>(0, 8, 11, 12)</td>\n",
       "      <td>0.059897</td>\n",
       "      <td>6064.146848</td>\n",
       "    </tr>\n",
       "    <tr>\n",
       "      <th>2</th>\n",
       "      <td>MLPClassifier(activation='tanh',\\n            ...</td>\n",
       "      <td>4</td>\n",
       "      <td>(BMI, AgeCategory, GenHealth, SleepTime)</td>\n",
       "      <td>(0, 8, 11, 12)</td>\n",
       "      <td>0.056027</td>\n",
       "      <td>6321.687587</td>\n",
       "    </tr>\n",
       "  </tbody>\n",
       "</table>\n",
       "</div>"
      ],
      "text/plain": [
       "                                              Modelo Features  \\\n",
       "6  MLPClassifier(activation='tanh',\\n            ...       12   \n",
       "7  MLPClassifier(activation='tanh',\\n            ...       12   \n",
       "8  MLPClassifier(activation='tanh',\\n            ...       12   \n",
       "3  MLPClassifier(activation='tanh',\\n            ...        8   \n",
       "4  MLPClassifier(activation='tanh',\\n            ...        8   \n",
       "5  MLPClassifier(activation='tanh',\\n            ...        8   \n",
       "1  MLPClassifier(activation='tanh',\\n            ...        4   \n",
       "0  MLPClassifier(activation='tanh',\\n            ...        4   \n",
       "2  MLPClassifier(activation='tanh',\\n            ...        4   \n",
       "\n",
       "                                       Name Features  \\\n",
       "6  (BMI, Smoking, Stroke, PhysicalHealth, DiffWal...   \n",
       "7  (BMI, Smoking, AlcoholDrinking, PhysicalHealth...   \n",
       "8  (BMI, Stroke, PhysicalHealth, MentalHealth, Di...   \n",
       "3  (BMI, Smoking, Sex, AgeCategory, GenHealth, Sl...   \n",
       "4  (BMI, Smoking, DiffWalking, Sex, AgeCategory, ...   \n",
       "5  (BMI, PhysicalHealth, DiffWalking, Sex, AgeCat...   \n",
       "1                 (BMI, Sex, AgeCategory, SleepTime)   \n",
       "0           (BMI, AgeCategory, GenHealth, SleepTime)   \n",
       "2           (BMI, AgeCategory, GenHealth, SleepTime)   \n",
       "\n",
       "                             Index Features     Error       Tiempo  \n",
       "6  (0, 1, 3, 4, 6, 7, 8, 9, 11, 12, 13, 15)  0.002828  2960.951273  \n",
       "7  (0, 1, 2, 4, 6, 7, 8, 9, 11, 12, 13, 15)  0.003855  3042.855758  \n",
       "8  (0, 3, 4, 5, 6, 7, 8, 9, 10, 11, 12, 14)  0.006425  3055.241692  \n",
       "3              (0, 1, 7, 8, 11, 12, 13, 15)  0.009254  4417.362694  \n",
       "4               (0, 1, 6, 7, 8, 11, 12, 15)  0.012079   4758.51519  \n",
       "5                (0, 4, 6, 7, 8, 9, 11, 12)  0.014906  5397.970855  \n",
       "1                             (0, 7, 8, 12)  0.093806     6043.777  \n",
       "0                            (0, 8, 11, 12)  0.059897  6064.146848  \n",
       "2                            (0, 8, 11, 12)  0.056027  6321.687587  "
      ]
     },
     "execution_count": 14,
     "metadata": {},
     "output_type": "execute_result"
    }
   ],
   "source": [
    "resultados.sort_values(by ='Tiempo', ascending =True).head(10)"
   ]
  },
  {
   "cell_type": "markdown",
   "id": "d102ca0c",
   "metadata": {
    "papermill": {
     "duration": 0.012429,
     "end_time": "2022-10-28T03:52:45.109058",
     "exception": false,
     "start_time": "2022-10-28T03:52:45.096629",
     "status": "completed"
    },
    "tags": []
   },
   "source": [
    "# Función para el entrenamiento de los modelos"
   ]
  },
  {
   "cell_type": "code",
   "execution_count": 15,
   "id": "e34c0b2e",
   "metadata": {
    "execution": {
     "iopub.execute_input": "2022-10-28T03:52:45.137852Z",
     "iopub.status.busy": "2022-10-28T03:52:45.137352Z",
     "iopub.status.idle": "2022-10-28T03:52:45.146962Z",
     "shell.execute_reply": "2022-10-28T03:52:45.145134Z"
    },
    "papermill": {
     "duration": 0.027877,
     "end_time": "2022-10-28T03:52:45.149747",
     "exception": false,
     "start_time": "2022-10-28T03:52:45.121870",
     "status": "completed"
    },
    "tags": []
   },
   "outputs": [],
   "source": [
    "def entrenarModelo(model_train, Xtrain,Ytrain,Xtest,Ytest):\n",
    "    model.fit(X=Xtrain,y=Ytrain)\n",
    "    Ypred=model.predict(Xtest)\n",
    "\n",
    "    print(f'Model: {str(model)}')\n",
    "    print(f'Accuracy Score: {accuracy_score(Ytest,Ypred)}')\n",
    "    print(f'Recall Score: {recall_score(Ytest,Ypred)}')\n",
    "    print(f'F1-Score: {f1_score(Ytest,Ypred)}')\n",
    "    cm = confusion_matrix(Ytest, Ypred, labels=model_train.classes_)\n",
    "    disp = ConfusionMatrixDisplay(confusion_matrix=cm,display_labels=model_train.classes_)\n",
    "    disp.plot()\n",
    "    return model_train"
   ]
  },
  {
   "cell_type": "markdown",
   "id": "68343419",
   "metadata": {
    "papermill": {
     "duration": 0.012792,
     "end_time": "2022-10-28T03:52:45.175770",
     "exception": false,
     "start_time": "2022-10-28T03:52:45.162978",
     "status": "completed"
    },
    "tags": []
   },
   "source": [
    "# Función para la validación del modelo con datos reales"
   ]
  },
  {
   "cell_type": "code",
   "execution_count": 16,
   "id": "ee388a64",
   "metadata": {
    "execution": {
     "iopub.execute_input": "2022-10-28T03:52:45.204179Z",
     "iopub.status.busy": "2022-10-28T03:52:45.203662Z",
     "iopub.status.idle": "2022-10-28T03:52:45.212765Z",
     "shell.execute_reply": "2022-10-28T03:52:45.210961Z"
    },
    "papermill": {
     "duration": 0.026931,
     "end_time": "2022-10-28T03:52:45.215830",
     "exception": false,
     "start_time": "2022-10-28T03:52:45.188899",
     "status": "completed"
    },
    "tags": []
   },
   "outputs": [],
   "source": [
    "def validarModelo(model, X, Y):\n",
    "  y_pred=model.predict(X)\n",
    "  print(\"Accuracy:\",accuracy_score(Y, y_pred))\n",
    "  print(f'Precission Score: {precision_score(Y,y_pred)}')\n",
    "  print(f'Recall Score: {recall_score(Y,y_pred)}')\n",
    "  print(f'F1-Score: {f1_score(Y,y_pred)}')\n",
    "  cm = confusion_matrix(Y, y_pred, labels=model.classes_)\n",
    "  disp = ConfusionMatrixDisplay(confusion_matrix=cm,display_labels=model.classes_)\n",
    "  disp.plot()"
   ]
  },
  {
   "cell_type": "markdown",
   "id": "62a5683e",
   "metadata": {
    "papermill": {
     "duration": 0.014939,
     "end_time": "2022-10-28T03:52:45.243913",
     "exception": false,
     "start_time": "2022-10-28T03:52:45.228974",
     "status": "completed"
    },
    "tags": []
   },
   "source": [
    "# Función para seleccionar la data\n",
    "Esta función se encarga de extraer del dataframe original las caracteríticas seleccionadas a través de sus índices, para luego entrenar el modelo solo con esas caracteríticas seleccionadas"
   ]
  },
  {
   "cell_type": "code",
   "execution_count": 17,
   "id": "1ed17260",
   "metadata": {
    "execution": {
     "iopub.execute_input": "2022-10-28T03:52:45.275661Z",
     "iopub.status.busy": "2022-10-28T03:52:45.275137Z",
     "iopub.status.idle": "2022-10-28T03:52:45.284526Z",
     "shell.execute_reply": "2022-10-28T03:52:45.282800Z"
    },
    "papermill": {
     "duration": 0.028342,
     "end_time": "2022-10-28T03:52:45.287601",
     "exception": false,
     "start_time": "2022-10-28T03:52:45.259259",
     "status": "completed"
    },
    "tags": []
   },
   "outputs": [],
   "source": [
    "def select_data(data,index):\n",
    "    return data.iloc[:,index]"
   ]
  },
  {
   "cell_type": "markdown",
   "id": "f1d7c5eb",
   "metadata": {
    "papermill": {
     "duration": 0.01342,
     "end_time": "2022-10-28T03:52:45.314861",
     "exception": false,
     "start_time": "2022-10-28T03:52:45.301441",
     "status": "completed"
    },
    "tags": []
   },
   "source": [
    "# Función para particionar los datos\n",
    "Partimos los datos en train y test en una proporción 70-30. 70% de los datos para entrenar el modelo y 30% de los datos para la validación del mismo."
   ]
  },
  {
   "cell_type": "code",
   "execution_count": 18,
   "id": "95d28361",
   "metadata": {
    "execution": {
     "iopub.execute_input": "2022-10-28T03:52:45.346254Z",
     "iopub.status.busy": "2022-10-28T03:52:45.345706Z",
     "iopub.status.idle": "2022-10-28T03:52:45.352968Z",
     "shell.execute_reply": "2022-10-28T03:52:45.351209Z"
    },
    "papermill": {
     "duration": 0.025984,
     "end_time": "2022-10-28T03:52:45.355704",
     "exception": false,
     "start_time": "2022-10-28T03:52:45.329720",
     "status": "completed"
    },
    "tags": []
   },
   "outputs": [],
   "source": [
    "def split_data(X,Y):\n",
    "    return train_test_split(X,Y,test_size=0.3,random_state=50)"
   ]
  },
  {
   "cell_type": "markdown",
   "id": "e7844c88",
   "metadata": {
    "papermill": {
     "duration": 0.013663,
     "end_time": "2022-10-28T03:52:45.383633",
     "exception": false,
     "start_time": "2022-10-28T03:52:45.369970",
     "status": "completed"
    },
    "tags": []
   },
   "source": [
    "# Cargamos los datos reales"
   ]
  },
  {
   "cell_type": "code",
   "execution_count": 19,
   "id": "7733fb72",
   "metadata": {
    "execution": {
     "iopub.execute_input": "2022-10-28T03:52:45.414685Z",
     "iopub.status.busy": "2022-10-28T03:52:45.413320Z",
     "iopub.status.idle": "2022-10-28T03:52:45.448264Z",
     "shell.execute_reply": "2022-10-28T03:52:45.447272Z"
    },
    "papermill": {
     "duration": 0.051595,
     "end_time": "2022-10-28T03:52:45.450625",
     "exception": false,
     "start_time": "2022-10-28T03:52:45.399030",
     "status": "completed"
    },
    "tags": []
   },
   "outputs": [
    {
     "data": {
      "text/html": [
       "<div>\n",
       "<style scoped>\n",
       "    .dataframe tbody tr th:only-of-type {\n",
       "        vertical-align: middle;\n",
       "    }\n",
       "\n",
       "    .dataframe tbody tr th {\n",
       "        vertical-align: top;\n",
       "    }\n",
       "\n",
       "    .dataframe thead th {\n",
       "        text-align: right;\n",
       "    }\n",
       "</style>\n",
       "<table border=\"1\" class=\"dataframe\">\n",
       "  <thead>\n",
       "    <tr style=\"text-align: right;\">\n",
       "      <th></th>\n",
       "      <th>HeartDisease</th>\n",
       "      <th>BMI</th>\n",
       "      <th>Smoking</th>\n",
       "      <th>AlcoholDrinking</th>\n",
       "      <th>Stroke</th>\n",
       "      <th>PhysicalHealth</th>\n",
       "      <th>MentalHealth</th>\n",
       "      <th>DiffWalking</th>\n",
       "      <th>Sex</th>\n",
       "      <th>AgeCategory</th>\n",
       "      <th>Diabetic</th>\n",
       "      <th>PhysicalActivity</th>\n",
       "      <th>GenHealth</th>\n",
       "      <th>SleepTime</th>\n",
       "      <th>Asthma</th>\n",
       "      <th>KidneyDisease</th>\n",
       "      <th>SkinCancer</th>\n",
       "    </tr>\n",
       "  </thead>\n",
       "  <tbody>\n",
       "    <tr>\n",
       "      <th>0</th>\n",
       "      <td>0</td>\n",
       "      <td>1</td>\n",
       "      <td>0</td>\n",
       "      <td>0</td>\n",
       "      <td>0</td>\n",
       "      <td>0</td>\n",
       "      <td>0</td>\n",
       "      <td>0</td>\n",
       "      <td>8</td>\n",
       "      <td>10</td>\n",
       "      <td>0</td>\n",
       "      <td>0</td>\n",
       "      <td>5</td>\n",
       "      <td>6</td>\n",
       "      <td>0</td>\n",
       "      <td>0</td>\n",
       "      <td>0</td>\n",
       "    </tr>\n",
       "    <tr>\n",
       "      <th>1</th>\n",
       "      <td>0</td>\n",
       "      <td>4</td>\n",
       "      <td>0</td>\n",
       "      <td>0</td>\n",
       "      <td>0</td>\n",
       "      <td>0</td>\n",
       "      <td>0</td>\n",
       "      <td>0</td>\n",
       "      <td>8</td>\n",
       "      <td>10</td>\n",
       "      <td>0</td>\n",
       "      <td>1</td>\n",
       "      <td>5</td>\n",
       "      <td>6</td>\n",
       "      <td>1</td>\n",
       "      <td>0</td>\n",
       "      <td>0</td>\n",
       "    </tr>\n",
       "    <tr>\n",
       "      <th>2</th>\n",
       "      <td>1</td>\n",
       "      <td>8</td>\n",
       "      <td>1</td>\n",
       "      <td>0</td>\n",
       "      <td>1</td>\n",
       "      <td>25</td>\n",
       "      <td>28</td>\n",
       "      <td>1</td>\n",
       "      <td>9</td>\n",
       "      <td>20</td>\n",
       "      <td>1</td>\n",
       "      <td>0</td>\n",
       "      <td>3</td>\n",
       "      <td>9</td>\n",
       "      <td>0</td>\n",
       "      <td>1</td>\n",
       "      <td>0</td>\n",
       "    </tr>\n",
       "    <tr>\n",
       "      <th>3</th>\n",
       "      <td>0</td>\n",
       "      <td>5</td>\n",
       "      <td>0</td>\n",
       "      <td>0</td>\n",
       "      <td>0</td>\n",
       "      <td>0</td>\n",
       "      <td>0</td>\n",
       "      <td>0</td>\n",
       "      <td>9</td>\n",
       "      <td>10</td>\n",
       "      <td>0</td>\n",
       "      <td>0</td>\n",
       "      <td>6</td>\n",
       "      <td>6</td>\n",
       "      <td>0</td>\n",
       "      <td>0</td>\n",
       "      <td>0</td>\n",
       "    </tr>\n",
       "    <tr>\n",
       "      <th>4</th>\n",
       "      <td>1</td>\n",
       "      <td>12</td>\n",
       "      <td>0</td>\n",
       "      <td>1</td>\n",
       "      <td>1</td>\n",
       "      <td>30</td>\n",
       "      <td>15</td>\n",
       "      <td>1</td>\n",
       "      <td>8</td>\n",
       "      <td>18</td>\n",
       "      <td>1</td>\n",
       "      <td>0</td>\n",
       "      <td>4</td>\n",
       "      <td>4</td>\n",
       "      <td>1</td>\n",
       "      <td>1</td>\n",
       "      <td>1</td>\n",
       "    </tr>\n",
       "  </tbody>\n",
       "</table>\n",
       "</div>"
      ],
      "text/plain": [
       "   HeartDisease  BMI  Smoking  AlcoholDrinking  Stroke  PhysicalHealth  \\\n",
       "0             0    1        0                0       0               0   \n",
       "1             0    4        0                0       0               0   \n",
       "2             1    8        1                0       1              25   \n",
       "3             0    5        0                0       0               0   \n",
       "4             1   12        0                1       1              30   \n",
       "\n",
       "   MentalHealth  DiffWalking  Sex  AgeCategory  Diabetic  PhysicalActivity  \\\n",
       "0             0            0    8           10         0                 0   \n",
       "1             0            0    8           10         0                 1   \n",
       "2            28            1    9           20         1                 0   \n",
       "3             0            0    9           10         0                 0   \n",
       "4            15            1    8           18         1                 0   \n",
       "\n",
       "   GenHealth  SleepTime  Asthma  KidneyDisease  SkinCancer  \n",
       "0          5          6       0              0           0  \n",
       "1          5          6       1              0           0  \n",
       "2          3          9       0              1           0  \n",
       "3          6          6       0              0           0  \n",
       "4          4          4       1              1           1  "
      ]
     },
     "execution_count": 19,
     "metadata": {},
     "output_type": "execute_result"
    }
   ],
   "source": [
    "data_real=pd.read_csv(\"/kaggle/input/datosreales/DatosReales.csv\")\n",
    "df_real=data_real.copy()\n",
    "df_real[\"BMI\"] = encoder.fit_transform(df_real[\"BMI\"])\n",
    "df_real.head()"
   ]
  },
  {
   "cell_type": "code",
   "execution_count": 20,
   "id": "c7fef9ea",
   "metadata": {
    "execution": {
     "iopub.execute_input": "2022-10-28T03:52:45.482713Z",
     "iopub.status.busy": "2022-10-28T03:52:45.481508Z",
     "iopub.status.idle": "2022-10-28T03:52:45.488838Z",
     "shell.execute_reply": "2022-10-28T03:52:45.487615Z"
    },
    "papermill": {
     "duration": 0.02619,
     "end_time": "2022-10-28T03:52:45.491482",
     "exception": false,
     "start_time": "2022-10-28T03:52:45.465292",
     "status": "completed"
    },
    "tags": []
   },
   "outputs": [],
   "source": [
    "X_real=df_real.iloc[:,1:]\n",
    "Y_real=df_real.iloc[:,0]"
   ]
  },
  {
   "cell_type": "markdown",
   "id": "5aedbc86",
   "metadata": {
    "papermill": {
     "duration": 0.01345,
     "end_time": "2022-10-28T03:52:45.520243",
     "exception": false,
     "start_time": "2022-10-28T03:52:45.506793",
     "status": "completed"
    },
    "tags": []
   },
   "source": [
    "# Modelo con 4 características seleccionadas"
   ]
  },
  {
   "cell_type": "code",
   "execution_count": 21,
   "id": "ea69b37d",
   "metadata": {
    "execution": {
     "iopub.execute_input": "2022-10-28T03:52:45.553301Z",
     "iopub.status.busy": "2022-10-28T03:52:45.552764Z",
     "iopub.status.idle": "2022-10-28T03:52:45.568458Z",
     "shell.execute_reply": "2022-10-28T03:52:45.567093Z"
    },
    "papermill": {
     "duration": 0.036171,
     "end_time": "2022-10-28T03:52:45.571795",
     "exception": false,
     "start_time": "2022-10-28T03:52:45.535624",
     "status": "completed"
    },
    "tags": []
   },
   "outputs": [
    {
     "data": {
      "text/html": [
       "<div>\n",
       "<style scoped>\n",
       "    .dataframe tbody tr th:only-of-type {\n",
       "        vertical-align: middle;\n",
       "    }\n",
       "\n",
       "    .dataframe tbody tr th {\n",
       "        vertical-align: top;\n",
       "    }\n",
       "\n",
       "    .dataframe thead th {\n",
       "        text-align: right;\n",
       "    }\n",
       "</style>\n",
       "<table border=\"1\" class=\"dataframe\">\n",
       "  <thead>\n",
       "    <tr style=\"text-align: right;\">\n",
       "      <th></th>\n",
       "      <th>BMI</th>\n",
       "      <th>AgeCategory</th>\n",
       "      <th>GenHealth</th>\n",
       "      <th>SleepTime</th>\n",
       "    </tr>\n",
       "  </thead>\n",
       "  <tbody>\n",
       "    <tr>\n",
       "      <th>0</th>\n",
       "      <td>3.905583</td>\n",
       "      <td>-1.289683</td>\n",
       "      <td>-1.551370</td>\n",
       "      <td>-0.805430</td>\n",
       "    </tr>\n",
       "    <tr>\n",
       "      <th>1</th>\n",
       "      <td>-0.238013</td>\n",
       "      <td>0.668591</td>\n",
       "      <td>0.395376</td>\n",
       "      <td>-1.530181</td>\n",
       "    </tr>\n",
       "    <tr>\n",
       "      <th>2</th>\n",
       "      <td>0.129994</td>\n",
       "      <td>0.109085</td>\n",
       "      <td>-0.577997</td>\n",
       "      <td>0.644072</td>\n",
       "    </tr>\n",
       "    <tr>\n",
       "      <th>3</th>\n",
       "      <td>0.075184</td>\n",
       "      <td>-1.849189</td>\n",
       "      <td>0.395376</td>\n",
       "      <td>-1.530181</td>\n",
       "    </tr>\n",
       "    <tr>\n",
       "      <th>4</th>\n",
       "      <td>-0.443157</td>\n",
       "      <td>0.668591</td>\n",
       "      <td>-2.524744</td>\n",
       "      <td>-0.805430</td>\n",
       "    </tr>\n",
       "  </tbody>\n",
       "</table>\n",
       "</div>"
      ],
      "text/plain": [
       "        BMI  AgeCategory  GenHealth  SleepTime\n",
       "0  3.905583    -1.289683  -1.551370  -0.805430\n",
       "1 -0.238013     0.668591   0.395376  -1.530181\n",
       "2  0.129994     0.109085  -0.577997   0.644072\n",
       "3  0.075184    -1.849189   0.395376  -1.530181\n",
       "4 -0.443157     0.668591  -2.524744  -0.805430"
      ]
     },
     "execution_count": 21,
     "metadata": {},
     "output_type": "execute_result"
    }
   ],
   "source": [
    "selected_data=select_data(X_new,np.array(resultados[\"Index Features\"][0]))\n",
    "selected_data.head()"
   ]
  },
  {
   "cell_type": "code",
   "execution_count": 22,
   "id": "73418de7",
   "metadata": {
    "execution": {
     "iopub.execute_input": "2022-10-28T03:52:45.601849Z",
     "iopub.status.busy": "2022-10-28T03:52:45.601156Z",
     "iopub.status.idle": "2022-10-28T03:52:45.609916Z",
     "shell.execute_reply": "2022-10-28T03:52:45.608594Z"
    },
    "papermill": {
     "duration": 0.027303,
     "end_time": "2022-10-28T03:52:45.613025",
     "exception": false,
     "start_time": "2022-10-28T03:52:45.585722",
     "status": "completed"
    },
    "tags": []
   },
   "outputs": [],
   "source": [
    "X_train,X_test,y_train,y_test=split_data(selected_data,Y_new)"
   ]
  },
  {
   "cell_type": "code",
   "execution_count": 23,
   "id": "43442603",
   "metadata": {
    "execution": {
     "iopub.execute_input": "2022-10-28T03:52:45.643570Z",
     "iopub.status.busy": "2022-10-28T03:52:45.643077Z",
     "iopub.status.idle": "2022-10-28T03:53:53.460108Z",
     "shell.execute_reply": "2022-10-28T03:53:53.458311Z"
    },
    "papermill": {
     "duration": 67.835983,
     "end_time": "2022-10-28T03:53:53.463532",
     "exception": false,
     "start_time": "2022-10-28T03:52:45.627549",
     "status": "completed"
    },
    "tags": []
   },
   "outputs": [
    {
     "name": "stdout",
     "output_type": "stream",
     "text": [
      "Model: MLPClassifier(activation='tanh',\n",
      "              hidden_layer_sizes=(100, 100, 100, 100, 100, 100, 100, 100, 100,\n",
      "                                  100),\n",
      "              max_iter=350, random_state=1)\n",
      "Accuracy Score: 0.8903483723586522\n",
      "Recall Score: 0.9692832764505119\n",
      "F1-Score: 0.8987341772151899\n"
     ]
    },
    {
     "data": {
      "image/png": "[encoded data removed]",
      "text/plain": [
       "<Figure size 432x288 with 2 Axes>"
      ]
     },
     "metadata": {
      "needs_background": "light"
     },
     "output_type": "display_data"
    }
   ],
   "source": [
    "modelo_entrenado=entrenarModelo(model,X_train,y_train,X_test,y_test)\n"
   ]
  },
  {
   "cell_type": "markdown",
   "id": "d9bd3c7c",
   "metadata": {
    "papermill": {
     "duration": 0.014077,
     "end_time": "2022-10-28T03:53:53.492740",
     "exception": false,
     "start_time": "2022-10-28T03:53:53.478663",
     "status": "completed"
    },
    "tags": []
   },
   "source": [
    "## Validación del modelo con datos reales"
   ]
  },
  {
   "cell_type": "code",
   "execution_count": 24,
   "id": "017fa2a1",
   "metadata": {
    "execution": {
     "iopub.execute_input": "2022-10-28T03:53:53.528420Z",
     "iopub.status.busy": "2022-10-28T03:53:53.526897Z",
     "iopub.status.idle": "2022-10-28T03:53:53.536172Z",
     "shell.execute_reply": "2022-10-28T03:53:53.534579Z"
    },
    "papermill": {
     "duration": 0.030466,
     "end_time": "2022-10-28T03:53:53.539582",
     "exception": false,
     "start_time": "2022-10-28T03:53:53.509116",
     "status": "completed"
    },
    "tags": []
   },
   "outputs": [],
   "source": [
    "X_real_seleccionada=select_data(X_real,np.array(resultados[\"Index Features\"][0]))"
   ]
  },
  {
   "cell_type": "code",
   "execution_count": 25,
   "id": "76720c2b",
   "metadata": {
    "execution": {
     "iopub.execute_input": "2022-10-28T03:53:53.573421Z",
     "iopub.status.busy": "2022-10-28T03:53:53.572894Z",
     "iopub.status.idle": "2022-10-28T03:53:53.889126Z",
     "shell.execute_reply": "2022-10-28T03:53:53.887513Z"
    },
    "papermill": {
     "duration": 0.335844,
     "end_time": "2022-10-28T03:53:53.892089",
     "exception": false,
     "start_time": "2022-10-28T03:53:53.556245",
     "status": "completed"
    },
    "tags": []
   },
   "outputs": [
    {
     "name": "stdout",
     "output_type": "stream",
     "text": [
      "Accuracy: 0.8\n",
      "Precission Score: 0.7\n",
      "Recall Score: 1.0\n",
      "F1-Score: 0.8235294117647058\n"
     ]
    },
    {
     "data": {
      "image/png": "[encoded data removed]",
      "text/plain": [
       "<Figure size 432x288 with 2 Axes>"
      ]
     },
     "metadata": {
      "needs_background": "light"
     },
     "output_type": "display_data"
    }
   ],
   "source": [
    "validarModelo(modelo_entrenado,X_real_seleccionada,Y_real)\n"
   ]
  },
  {
   "cell_type": "markdown",
   "id": "3160cbee",
   "metadata": {
    "papermill": {
     "duration": 0.018225,
     "end_time": "2022-10-28T03:53:53.928146",
     "exception": false,
     "start_time": "2022-10-28T03:53:53.909921",
     "status": "completed"
    },
    "tags": []
   },
   "source": [
    "# Modelo con 8 características seleccionadas\n"
   ]
  },
  {
   "cell_type": "code",
   "execution_count": 26,
   "id": "48114010",
   "metadata": {
    "execution": {
     "iopub.execute_input": "2022-10-28T03:53:53.961690Z",
     "iopub.status.busy": "2022-10-28T03:53:53.961271Z",
     "iopub.status.idle": "2022-10-28T03:53:53.982614Z",
     "shell.execute_reply": "2022-10-28T03:53:53.981542Z"
    },
    "papermill": {
     "duration": 0.042914,
     "end_time": "2022-10-28T03:53:53.986016",
     "exception": false,
     "start_time": "2022-10-28T03:53:53.943102",
     "status": "completed"
    },
    "tags": []
   },
   "outputs": [
    {
     "data": {
      "text/html": [
       "<div>\n",
       "<style scoped>\n",
       "    .dataframe tbody tr th:only-of-type {\n",
       "        vertical-align: middle;\n",
       "    }\n",
       "\n",
       "    .dataframe tbody tr th {\n",
       "        vertical-align: top;\n",
       "    }\n",
       "\n",
       "    .dataframe thead th {\n",
       "        text-align: right;\n",
       "    }\n",
       "</style>\n",
       "<table border=\"1\" class=\"dataframe\">\n",
       "  <thead>\n",
       "    <tr style=\"text-align: right;\">\n",
       "      <th></th>\n",
       "      <th>BMI</th>\n",
       "      <th>Smoking</th>\n",
       "      <th>Sex</th>\n",
       "      <th>AgeCategory</th>\n",
       "      <th>GenHealth</th>\n",
       "      <th>SleepTime</th>\n",
       "      <th>Asthma</th>\n",
       "      <th>SkinCancer</th>\n",
       "    </tr>\n",
       "  </thead>\n",
       "  <tbody>\n",
       "    <tr>\n",
       "      <th>0</th>\n",
       "      <td>3.905583</td>\n",
       "      <td>1.200509</td>\n",
       "      <td>-0.942252</td>\n",
       "      <td>-1.289683</td>\n",
       "      <td>-1.551370</td>\n",
       "      <td>-0.805430</td>\n",
       "      <td>-0.390426</td>\n",
       "      <td>-0.32056</td>\n",
       "    </tr>\n",
       "    <tr>\n",
       "      <th>1</th>\n",
       "      <td>-0.238013</td>\n",
       "      <td>-0.832980</td>\n",
       "      <td>-0.942252</td>\n",
       "      <td>0.668591</td>\n",
       "      <td>0.395376</td>\n",
       "      <td>-1.530181</td>\n",
       "      <td>-0.390426</td>\n",
       "      <td>-0.32056</td>\n",
       "    </tr>\n",
       "    <tr>\n",
       "      <th>2</th>\n",
       "      <td>0.129994</td>\n",
       "      <td>1.200509</td>\n",
       "      <td>1.061287</td>\n",
       "      <td>0.109085</td>\n",
       "      <td>-0.577997</td>\n",
       "      <td>0.644072</td>\n",
       "      <td>-0.390426</td>\n",
       "      <td>-0.32056</td>\n",
       "    </tr>\n",
       "    <tr>\n",
       "      <th>3</th>\n",
       "      <td>0.075184</td>\n",
       "      <td>-0.832980</td>\n",
       "      <td>1.061287</td>\n",
       "      <td>-1.849189</td>\n",
       "      <td>0.395376</td>\n",
       "      <td>-1.530181</td>\n",
       "      <td>-0.390426</td>\n",
       "      <td>-0.32056</td>\n",
       "    </tr>\n",
       "    <tr>\n",
       "      <th>4</th>\n",
       "      <td>-0.443157</td>\n",
       "      <td>1.200509</td>\n",
       "      <td>-0.942252</td>\n",
       "      <td>0.668591</td>\n",
       "      <td>-2.524744</td>\n",
       "      <td>-0.805430</td>\n",
       "      <td>-0.390426</td>\n",
       "      <td>-0.32056</td>\n",
       "    </tr>\n",
       "  </tbody>\n",
       "</table>\n",
       "</div>"
      ],
      "text/plain": [
       "        BMI   Smoking       Sex  AgeCategory  GenHealth  SleepTime    Asthma  \\\n",
       "0  3.905583  1.200509 -0.942252    -1.289683  -1.551370  -0.805430 -0.390426   \n",
       "1 -0.238013 -0.832980 -0.942252     0.668591   0.395376  -1.530181 -0.390426   \n",
       "2  0.129994  1.200509  1.061287     0.109085  -0.577997   0.644072 -0.390426   \n",
       "3  0.075184 -0.832980  1.061287    -1.849189   0.395376  -1.530181 -0.390426   \n",
       "4 -0.443157  1.200509 -0.942252     0.668591  -2.524744  -0.805430 -0.390426   \n",
       "\n",
       "   SkinCancer  \n",
       "0    -0.32056  \n",
       "1    -0.32056  \n",
       "2    -0.32056  \n",
       "3    -0.32056  \n",
       "4    -0.32056  "
      ]
     },
     "execution_count": 26,
     "metadata": {},
     "output_type": "execute_result"
    }
   ],
   "source": [
    "selected_data=select_data(X_new,np.array(resultados[\"Index Features\"][3]))\n",
    "selected_data.head()"
   ]
  },
  {
   "cell_type": "code",
   "execution_count": 27,
   "id": "664cae19",
   "metadata": {
    "execution": {
     "iopub.execute_input": "2022-10-28T03:53:54.024322Z",
     "iopub.status.busy": "2022-10-28T03:53:54.023148Z",
     "iopub.status.idle": "2022-10-28T03:53:54.033647Z",
     "shell.execute_reply": "2022-10-28T03:53:54.032224Z"
    },
    "papermill": {
     "duration": 0.033168,
     "end_time": "2022-10-28T03:53:54.036902",
     "exception": false,
     "start_time": "2022-10-28T03:53:54.003734",
     "status": "completed"
    },
    "tags": []
   },
   "outputs": [],
   "source": [
    "X_train,X_test,y_train,y_test=split_data(selected_data,Y_new)\n"
   ]
  },
  {
   "cell_type": "code",
   "execution_count": 28,
   "id": "15cca315",
   "metadata": {
    "execution": {
     "iopub.execute_input": "2022-10-28T03:53:54.075238Z",
     "iopub.status.busy": "2022-10-28T03:53:54.074190Z",
     "iopub.status.idle": "2022-10-28T03:54:54.572487Z",
     "shell.execute_reply": "2022-10-28T03:54:54.570470Z"
    },
    "papermill": {
     "duration": 60.522175,
     "end_time": "2022-10-28T03:54:54.575891",
     "exception": false,
     "start_time": "2022-10-28T03:53:54.053716",
     "status": "completed"
    },
    "tags": []
   },
   "outputs": [
    {
     "name": "stdout",
     "output_type": "stream",
     "text": [
      "Model: MLPClassifier(activation='tanh',\n",
      "              hidden_layer_sizes=(100, 100, 100, 100, 100, 100, 100, 100, 100,\n",
      "                                  100),\n",
      "              max_iter=350, random_state=1)\n",
      "Accuracy Score: 0.9468874928612222\n",
      "Recall Score: 1.0\n",
      "F1-Score: 0.9497568881685575\n"
     ]
    },
    {
     "data": {
      "image/png": "[encoded data removed]",
      "text/plain": [
       "<Figure size 432x288 with 2 Axes>"
      ]
     },
     "metadata": {
      "needs_background": "light"
     },
     "output_type": "display_data"
    }
   ],
   "source": [
    "modelo_entrenado=entrenarModelo(model,X_train,y_train,X_test,y_test)\n"
   ]
  },
  {
   "cell_type": "markdown",
   "id": "9490043f",
   "metadata": {
    "papermill": {
     "duration": 0.017562,
     "end_time": "2022-10-28T03:54:54.610936",
     "exception": false,
     "start_time": "2022-10-28T03:54:54.593374",
     "status": "completed"
    },
    "tags": []
   },
   "source": [
    "## Validación del modelo con datos reales"
   ]
  },
  {
   "cell_type": "code",
   "execution_count": 29,
   "id": "b20f8030",
   "metadata": {
    "execution": {
     "iopub.execute_input": "2022-10-28T03:54:54.649190Z",
     "iopub.status.busy": "2022-10-28T03:54:54.648437Z",
     "iopub.status.idle": "2022-10-28T03:54:54.654115Z",
     "shell.execute_reply": "2022-10-28T03:54:54.653115Z"
    },
    "papermill": {
     "duration": 0.028323,
     "end_time": "2022-10-28T03:54:54.656797",
     "exception": false,
     "start_time": "2022-10-28T03:54:54.628474",
     "status": "completed"
    },
    "tags": []
   },
   "outputs": [],
   "source": [
    "X_real_seleccionada=select_data(X_real,np.array(resultados[\"Index Features\"][3]))\n"
   ]
  },
  {
   "cell_type": "code",
   "execution_count": 30,
   "id": "6c75ecca",
   "metadata": {
    "execution": {
     "iopub.execute_input": "2022-10-28T03:54:54.693035Z",
     "iopub.status.busy": "2022-10-28T03:54:54.692166Z",
     "iopub.status.idle": "2022-10-28T03:54:54.967927Z",
     "shell.execute_reply": "2022-10-28T03:54:54.966237Z"
    },
    "papermill": {
     "duration": 0.297564,
     "end_time": "2022-10-28T03:54:54.971150",
     "exception": false,
     "start_time": "2022-10-28T03:54:54.673586",
     "status": "completed"
    },
    "tags": []
   },
   "outputs": [
    {
     "name": "stdout",
     "output_type": "stream",
     "text": [
      "Accuracy: 0.5333333333333333\n",
      "Precission Score: 0.0\n",
      "Recall Score: 0.0\n",
      "F1-Score: 0.0\n"
     ]
    },
    {
     "name": "stderr",
     "output_type": "stream",
     "text": [
      "/opt/conda/lib/python3.7/site-packages/sklearn/metrics/_classification.py:1318: UndefinedMetricWarning: Precision is ill-defined and being set to 0.0 due to no predicted samples. Use `zero_division` parameter to control this behavior.\n",
      "  _warn_prf(average, modifier, msg_start, len(result))\n"
     ]
    },
    {
     "data": {
      "image/png": "[encoded data removed]",
      "text/plain": [
       "<Figure size 432x288 with 2 Axes>"
      ]
     },
     "metadata": {
      "needs_background": "light"
     },
     "output_type": "display_data"
    }
   ],
   "source": [
    "validarModelo(modelo_entrenado,X_real_seleccionada,Y_real)\n"
   ]
  },
  {
   "cell_type": "markdown",
   "id": "ebb15c5d",
   "metadata": {
    "papermill": {
     "duration": 0.023491,
     "end_time": "2022-10-28T03:54:55.013953",
     "exception": false,
     "start_time": "2022-10-28T03:54:54.990462",
     "status": "completed"
    },
    "tags": []
   },
   "source": [
    "# Modelo con 12 características seleccionadas"
   ]
  },
  {
   "cell_type": "code",
   "execution_count": 31,
   "id": "1d15f1e2",
   "metadata": {
    "execution": {
     "iopub.execute_input": "2022-10-28T03:54:55.054281Z",
     "iopub.status.busy": "2022-10-28T03:54:55.053766Z",
     "iopub.status.idle": "2022-10-28T03:54:55.077955Z",
     "shell.execute_reply": "2022-10-28T03:54:55.076292Z"
    },
    "papermill": {
     "duration": 0.048502,
     "end_time": "2022-10-28T03:54:55.081228",
     "exception": false,
     "start_time": "2022-10-28T03:54:55.032726",
     "status": "completed"
    },
    "tags": []
   },
   "outputs": [
    {
     "data": {
      "text/html": [
       "<div>\n",
       "<style scoped>\n",
       "    .dataframe tbody tr th:only-of-type {\n",
       "        vertical-align: middle;\n",
       "    }\n",
       "\n",
       "    .dataframe tbody tr th {\n",
       "        vertical-align: top;\n",
       "    }\n",
       "\n",
       "    .dataframe thead th {\n",
       "        text-align: right;\n",
       "    }\n",
       "</style>\n",
       "<table border=\"1\" class=\"dataframe\">\n",
       "  <thead>\n",
       "    <tr style=\"text-align: right;\">\n",
       "      <th></th>\n",
       "      <th>BMI</th>\n",
       "      <th>Smoking</th>\n",
       "      <th>Stroke</th>\n",
       "      <th>PhysicalHealth</th>\n",
       "      <th>DiffWalking</th>\n",
       "      <th>Sex</th>\n",
       "      <th>AgeCategory</th>\n",
       "      <th>Diabetic</th>\n",
       "      <th>GenHealth</th>\n",
       "      <th>SleepTime</th>\n",
       "      <th>Asthma</th>\n",
       "      <th>SkinCancer</th>\n",
       "    </tr>\n",
       "  </thead>\n",
       "  <tbody>\n",
       "    <tr>\n",
       "      <th>0</th>\n",
       "      <td>3.905583</td>\n",
       "      <td>1.200509</td>\n",
       "      <td>-0.213166</td>\n",
       "      <td>2.804882</td>\n",
       "      <td>-0.409365</td>\n",
       "      <td>-0.942252</td>\n",
       "      <td>-1.289683</td>\n",
       "      <td>-0.386160</td>\n",
       "      <td>-1.551370</td>\n",
       "      <td>-0.805430</td>\n",
       "      <td>-0.390426</td>\n",
       "      <td>-0.32056</td>\n",
       "    </tr>\n",
       "    <tr>\n",
       "      <th>1</th>\n",
       "      <td>-0.238013</td>\n",
       "      <td>-0.832980</td>\n",
       "      <td>-0.213166</td>\n",
       "      <td>-0.417244</td>\n",
       "      <td>-0.409365</td>\n",
       "      <td>-0.942252</td>\n",
       "      <td>0.668591</td>\n",
       "      <td>-0.386160</td>\n",
       "      <td>0.395376</td>\n",
       "      <td>-1.530181</td>\n",
       "      <td>-0.390426</td>\n",
       "      <td>-0.32056</td>\n",
       "    </tr>\n",
       "    <tr>\n",
       "      <th>2</th>\n",
       "      <td>0.129994</td>\n",
       "      <td>1.200509</td>\n",
       "      <td>-0.213166</td>\n",
       "      <td>-0.417244</td>\n",
       "      <td>-0.409365</td>\n",
       "      <td>1.061287</td>\n",
       "      <td>0.109085</td>\n",
       "      <td>2.589599</td>\n",
       "      <td>-0.577997</td>\n",
       "      <td>0.644072</td>\n",
       "      <td>-0.390426</td>\n",
       "      <td>-0.32056</td>\n",
       "    </tr>\n",
       "    <tr>\n",
       "      <th>3</th>\n",
       "      <td>0.075184</td>\n",
       "      <td>-0.832980</td>\n",
       "      <td>-0.213166</td>\n",
       "      <td>-0.159474</td>\n",
       "      <td>-0.409365</td>\n",
       "      <td>1.061287</td>\n",
       "      <td>-1.849189</td>\n",
       "      <td>-0.386160</td>\n",
       "      <td>0.395376</td>\n",
       "      <td>-1.530181</td>\n",
       "      <td>-0.390426</td>\n",
       "      <td>-0.32056</td>\n",
       "    </tr>\n",
       "    <tr>\n",
       "      <th>4</th>\n",
       "      <td>-0.443157</td>\n",
       "      <td>1.200509</td>\n",
       "      <td>-0.213166</td>\n",
       "      <td>3.449308</td>\n",
       "      <td>2.442810</td>\n",
       "      <td>-0.942252</td>\n",
       "      <td>0.668591</td>\n",
       "      <td>2.589599</td>\n",
       "      <td>-2.524744</td>\n",
       "      <td>-0.805430</td>\n",
       "      <td>-0.390426</td>\n",
       "      <td>-0.32056</td>\n",
       "    </tr>\n",
       "  </tbody>\n",
       "</table>\n",
       "</div>"
      ],
      "text/plain": [
       "        BMI   Smoking    Stroke  PhysicalHealth  DiffWalking       Sex  \\\n",
       "0  3.905583  1.200509 -0.213166        2.804882    -0.409365 -0.942252   \n",
       "1 -0.238013 -0.832980 -0.213166       -0.417244    -0.409365 -0.942252   \n",
       "2  0.129994  1.200509 -0.213166       -0.417244    -0.409365  1.061287   \n",
       "3  0.075184 -0.832980 -0.213166       -0.159474    -0.409365  1.061287   \n",
       "4 -0.443157  1.200509 -0.213166        3.449308     2.442810 -0.942252   \n",
       "\n",
       "   AgeCategory  Diabetic  GenHealth  SleepTime    Asthma  SkinCancer  \n",
       "0    -1.289683 -0.386160  -1.551370  -0.805430 -0.390426    -0.32056  \n",
       "1     0.668591 -0.386160   0.395376  -1.530181 -0.390426    -0.32056  \n",
       "2     0.109085  2.589599  -0.577997   0.644072 -0.390426    -0.32056  \n",
       "3    -1.849189 -0.386160   0.395376  -1.530181 -0.390426    -0.32056  \n",
       "4     0.668591  2.589599  -2.524744  -0.805430 -0.390426    -0.32056  "
      ]
     },
     "execution_count": 31,
     "metadata": {},
     "output_type": "execute_result"
    }
   ],
   "source": [
    "selected_data=select_data(X_new,np.array(resultados[\"Index Features\"][6]))\n",
    "selected_data.head()"
   ]
  },
  {
   "cell_type": "code",
   "execution_count": 32,
   "id": "8d6189b3",
   "metadata": {
    "execution": {
     "iopub.execute_input": "2022-10-28T03:54:55.122664Z",
     "iopub.status.busy": "2022-10-28T03:54:55.121740Z",
     "iopub.status.idle": "2022-10-28T03:54:55.130713Z",
     "shell.execute_reply": "2022-10-28T03:54:55.129234Z"
    },
    "papermill": {
     "duration": 0.032566,
     "end_time": "2022-10-28T03:54:55.134118",
     "exception": false,
     "start_time": "2022-10-28T03:54:55.101552",
     "status": "completed"
    },
    "tags": []
   },
   "outputs": [],
   "source": [
    "X_train,X_test,y_train,y_test=split_data(selected_data,Y_new)\n"
   ]
  },
  {
   "cell_type": "code",
   "execution_count": 33,
   "id": "6c48d3b1",
   "metadata": {
    "execution": {
     "iopub.execute_input": "2022-10-28T03:54:55.174086Z",
     "iopub.status.busy": "2022-10-28T03:54:55.173549Z",
     "iopub.status.idle": "2022-10-28T03:55:58.439070Z",
     "shell.execute_reply": "2022-10-28T03:55:58.437700Z"
    },
    "papermill": {
     "duration": 63.289473,
     "end_time": "2022-10-28T03:55:58.442339",
     "exception": false,
     "start_time": "2022-10-28T03:54:55.152866",
     "status": "completed"
    },
    "tags": []
   },
   "outputs": [
    {
     "name": "stdout",
     "output_type": "stream",
     "text": [
      "Model: MLPClassifier(activation='tanh',\n",
      "              hidden_layer_sizes=(100, 100, 100, 100, 100, 100, 100, 100, 100,\n",
      "                                  100),\n",
      "              max_iter=350, random_state=1)\n",
      "Accuracy Score: 0.9514563106796117\n",
      "Recall Score: 1.0\n",
      "F1-Score: 0.9538795442213782\n"
     ]
    },
    {
     "data": {
      "image/png": "[encoded data removed]",
      "text/plain": [
       "<Figure size 432x288 with 2 Axes>"
      ]
     },
     "metadata": {
      "needs_background": "light"
     },
     "output_type": "display_data"
    }
   ],
   "source": [
    "modelo_entrenado=entrenarModelo(model,X_train,y_train,X_test,y_test)\n"
   ]
  },
  {
   "cell_type": "markdown",
   "id": "e2d378c5",
   "metadata": {
    "papermill": {
     "duration": 0.018395,
     "end_time": "2022-10-28T03:55:58.478659",
     "exception": false,
     "start_time": "2022-10-28T03:55:58.460264",
     "status": "completed"
    },
    "tags": []
   },
   "source": [
    "## Validación del modelo con datos reales"
   ]
  },
  {
   "cell_type": "code",
   "execution_count": 34,
   "id": "b84f2227",
   "metadata": {
    "execution": {
     "iopub.execute_input": "2022-10-28T03:55:58.515433Z",
     "iopub.status.busy": "2022-10-28T03:55:58.514910Z",
     "iopub.status.idle": "2022-10-28T03:55:58.522641Z",
     "shell.execute_reply": "2022-10-28T03:55:58.521299Z"
    },
    "papermill": {
     "duration": 0.029678,
     "end_time": "2022-10-28T03:55:58.525934",
     "exception": false,
     "start_time": "2022-10-28T03:55:58.496256",
     "status": "completed"
    },
    "tags": []
   },
   "outputs": [],
   "source": [
    "X_real_seleccionada=select_data(X_real,np.array(resultados[\"Index Features\"][6]))"
   ]
  },
  {
   "cell_type": "code",
   "execution_count": 35,
   "id": "7b9ac5f9",
   "metadata": {
    "execution": {
     "iopub.execute_input": "2022-10-28T03:55:58.567245Z",
     "iopub.status.busy": "2022-10-28T03:55:58.566721Z",
     "iopub.status.idle": "2022-10-28T03:55:58.849117Z",
     "shell.execute_reply": "2022-10-28T03:55:58.847512Z"
    },
    "papermill": {
     "duration": 0.306723,
     "end_time": "2022-10-28T03:55:58.852467",
     "exception": false,
     "start_time": "2022-10-28T03:55:58.545744",
     "status": "completed"
    },
    "tags": []
   },
   "outputs": [
    {
     "name": "stdout",
     "output_type": "stream",
     "text": [
      "Accuracy: 0.8\n",
      "Precission Score: 1.0\n",
      "Recall Score: 0.5714285714285714\n",
      "F1-Score: 0.7272727272727273\n"
     ]
    },
    {
     "data": {
      "image/png": "[encoded data removed]",
      "text/plain": [
       "<Figure size 432x288 with 2 Axes>"
      ]
     },
     "metadata": {
      "needs_background": "light"
     },
     "output_type": "display_data"
    }
   ],
   "source": [
    "validarModelo(modelo_entrenado,X_real_seleccionada,Y_real)\n"
   ]
  }
 ],
 "metadata": {
  "kernelspec": {
   "display_name": "Python 3",
   "language": "python",
   "name": "python3"
  },
  "language_info": {
   "codemirror_mode": {
    "name": "ipython",
    "version": 3
   },
   "file_extension": ".py",
   "mimetype": "text/x-python",
   "name": "python",
   "nbconvert_exporter": "python",
   "pygments_lexer": "ipython3",
   "version": "3.7.12"
  },
  "papermill": {
   "default_parameters": {},
   "duration": 42270.327726,
   "end_time": "2022-10-28T03:56:00.284500",
   "environment_variables": {},
   "exception": null,
   "input_path": "__notebook__.ipynb",
   "output_path": "__notebook__.ipynb",
   "parameters": {},
   "start_time": "2022-10-27T16:11:29.956774",
   "version": "2.3.4"
  }
 },
 "nbformat": 4,
 "nbformat_minor": 5
}
