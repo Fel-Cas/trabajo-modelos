{
 "cells": [
  {
   "cell_type": "code",
   "execution_count": 1,
   "id": "1254d76d",
   "metadata": {
    "_cell_guid": "b1076dfc-b9ad-4769-8c92-a6c4dae69d19",
    "_uuid": "8f2839f25d086af736a60e9eeb907d3b93b6e0e5",
    "execution": {
     "iopub.execute_input": "2022-10-27T16:34:25.437773Z",
     "iopub.status.busy": "2022-10-27T16:34:25.437296Z",
     "iopub.status.idle": "2022-10-27T16:34:26.902977Z",
     "shell.execute_reply": "2022-10-27T16:34:26.901622Z"
    },
    "papermill": {
     "duration": 1.482757,
     "end_time": "2022-10-27T16:34:26.906491",
     "exception": false,
     "start_time": "2022-10-27T16:34:25.423734",
     "status": "completed"
    },
    "tags": []
   },
   "outputs": [
    {
     "name": "stdout",
     "output_type": "stream",
     "text": [
      "/kaggle/input/datosreales/DatosReales.csv\n",
      "/kaggle/input/datasetheartdisease/dataset.csv\n"
     ]
    }
   ],
   "source": [
    "# This Python 3 environment comes with many helpful analytics libraries installed\n",
    "# It is defined by the kaggle/python Docker image: https://github.com/kaggle/docker-python\n",
    "# For example, here's several helpful packages to load\n",
    "\n",
    "import numpy as np # linear algebra\n",
    "import pandas as pd # data processing, CSV file I/O (e.g. pd.read_csv)\n",
    "\n",
    "from sklearn.model_selection import train_test_split\n",
    "from sklearn.model_selection import StratifiedKFold\n",
    "\n",
    "from sklearn.discriminant_analysis import QuadraticDiscriminantAnalysis\n",
    "from sklearn.preprocessing import StandardScaler\n",
    "from sklearn.metrics import precision_score,recall_score,accuracy_score,f1_score,confusion_matrix,ConfusionMatrixDisplay\n",
    "import seaborn as sns\n",
    "import matplotlib.pyplot as plt\n",
    "import time\n",
    "from sklearn.preprocessing import LabelEncoder\n",
    "encoder = LabelEncoder()\n",
    "\n",
    "from mlxtend.feature_selection import SequentialFeatureSelector as SFS\n",
    "# Input data files are available in the read-only \"../input/\" directory\n",
    "# For example, running this (by clicking run or pressing Shift+Enter) will list all files under the input directory\n",
    "\n",
    "import os\n",
    "for dirname, _, filenames in os.walk('/kaggle/input'):\n",
    "    for filename in filenames:\n",
    "        print(os.path.join(dirname, filename))\n",
    "\n",
    "# You can write up to 20GB to the current directory (/kaggle/working/) that gets preserved as output when you create a version using \"Save & Run All\" \n",
    "# You can also write temporary files to /kaggle/temp/, but they won't be saved outside of the current session"
   ]
  },
  {
   "cell_type": "markdown",
   "id": "3f4eb3f5",
   "metadata": {
    "papermill": {
     "duration": 0.009766,
     "end_time": "2022-10-27T16:34:26.927172",
     "exception": false,
     "start_time": "2022-10-27T16:34:26.917406",
     "status": "completed"
    },
    "tags": []
   },
   "source": [
    "# Visualización inicial de los datos"
   ]
  },
  {
   "cell_type": "code",
   "execution_count": 2,
   "id": "3b2dad47",
   "metadata": {
    "execution": {
     "iopub.execute_input": "2022-10-27T16:34:26.951361Z",
     "iopub.status.busy": "2022-10-27T16:34:26.950908Z",
     "iopub.status.idle": "2022-10-27T16:34:27.686904Z",
     "shell.execute_reply": "2022-10-27T16:34:27.685592Z"
    },
    "papermill": {
     "duration": 0.752556,
     "end_time": "2022-10-27T16:34:27.689910",
     "exception": false,
     "start_time": "2022-10-27T16:34:26.937354",
     "status": "completed"
    },
    "tags": []
   },
   "outputs": [
    {
     "data": {
      "text/html": [
       "<div>\n",
       "<style scoped>\n",
       "    .dataframe tbody tr th:only-of-type {\n",
       "        vertical-align: middle;\n",
       "    }\n",
       "\n",
       "    .dataframe tbody tr th {\n",
       "        vertical-align: top;\n",
       "    }\n",
       "\n",
       "    .dataframe thead th {\n",
       "        text-align: right;\n",
       "    }\n",
       "</style>\n",
       "<table border=\"1\" class=\"dataframe\">\n",
       "  <thead>\n",
       "    <tr style=\"text-align: right;\">\n",
       "      <th></th>\n",
       "      <th>HeartDisease</th>\n",
       "      <th>BMI</th>\n",
       "      <th>Smoking</th>\n",
       "      <th>AlcoholDrinking</th>\n",
       "      <th>Stroke</th>\n",
       "      <th>PhysicalHealth</th>\n",
       "      <th>MentalHealth</th>\n",
       "      <th>DiffWalking</th>\n",
       "      <th>Sex</th>\n",
       "      <th>AgeCategory</th>\n",
       "      <th>Diabetic</th>\n",
       "      <th>PhysicalActivity</th>\n",
       "      <th>GenHealth</th>\n",
       "      <th>SleepTime</th>\n",
       "      <th>Asthma</th>\n",
       "      <th>KidneyDisease</th>\n",
       "      <th>SkinCancer</th>\n",
       "    </tr>\n",
       "  </thead>\n",
       "  <tbody>\n",
       "    <tr>\n",
       "      <th>0</th>\n",
       "      <td>0</td>\n",
       "      <td>16.60</td>\n",
       "      <td>1</td>\n",
       "      <td>0</td>\n",
       "      <td>0</td>\n",
       "      <td>3.0</td>\n",
       "      <td>30.0</td>\n",
       "      <td>0</td>\n",
       "      <td>8</td>\n",
       "      <td>17</td>\n",
       "      <td>1</td>\n",
       "      <td>1</td>\n",
       "      <td>5</td>\n",
       "      <td>5.0</td>\n",
       "      <td>1</td>\n",
       "      <td>0</td>\n",
       "      <td>1</td>\n",
       "    </tr>\n",
       "    <tr>\n",
       "      <th>1</th>\n",
       "      <td>0</td>\n",
       "      <td>20.34</td>\n",
       "      <td>0</td>\n",
       "      <td>0</td>\n",
       "      <td>1</td>\n",
       "      <td>0.0</td>\n",
       "      <td>0.0</td>\n",
       "      <td>0</td>\n",
       "      <td>8</td>\n",
       "      <td>22</td>\n",
       "      <td>0</td>\n",
       "      <td>1</td>\n",
       "      <td>5</td>\n",
       "      <td>7.0</td>\n",
       "      <td>0</td>\n",
       "      <td>0</td>\n",
       "      <td>0</td>\n",
       "    </tr>\n",
       "    <tr>\n",
       "      <th>2</th>\n",
       "      <td>0</td>\n",
       "      <td>26.58</td>\n",
       "      <td>1</td>\n",
       "      <td>0</td>\n",
       "      <td>0</td>\n",
       "      <td>20.0</td>\n",
       "      <td>30.0</td>\n",
       "      <td>0</td>\n",
       "      <td>9</td>\n",
       "      <td>19</td>\n",
       "      <td>1</td>\n",
       "      <td>1</td>\n",
       "      <td>3</td>\n",
       "      <td>8.0</td>\n",
       "      <td>1</td>\n",
       "      <td>0</td>\n",
       "      <td>0</td>\n",
       "    </tr>\n",
       "    <tr>\n",
       "      <th>3</th>\n",
       "      <td>0</td>\n",
       "      <td>24.21</td>\n",
       "      <td>0</td>\n",
       "      <td>0</td>\n",
       "      <td>0</td>\n",
       "      <td>0.0</td>\n",
       "      <td>0.0</td>\n",
       "      <td>0</td>\n",
       "      <td>8</td>\n",
       "      <td>21</td>\n",
       "      <td>0</td>\n",
       "      <td>0</td>\n",
       "      <td>4</td>\n",
       "      <td>6.0</td>\n",
       "      <td>0</td>\n",
       "      <td>0</td>\n",
       "      <td>1</td>\n",
       "    </tr>\n",
       "    <tr>\n",
       "      <th>4</th>\n",
       "      <td>0</td>\n",
       "      <td>23.71</td>\n",
       "      <td>0</td>\n",
       "      <td>0</td>\n",
       "      <td>0</td>\n",
       "      <td>28.0</td>\n",
       "      <td>0.0</td>\n",
       "      <td>1</td>\n",
       "      <td>8</td>\n",
       "      <td>14</td>\n",
       "      <td>0</td>\n",
       "      <td>1</td>\n",
       "      <td>5</td>\n",
       "      <td>8.0</td>\n",
       "      <td>0</td>\n",
       "      <td>0</td>\n",
       "      <td>0</td>\n",
       "    </tr>\n",
       "  </tbody>\n",
       "</table>\n",
       "</div>"
      ],
      "text/plain": [
       "   HeartDisease    BMI  Smoking  AlcoholDrinking  Stroke  PhysicalHealth  \\\n",
       "0             0  16.60        1                0       0             3.0   \n",
       "1             0  20.34        0                0       1             0.0   \n",
       "2             0  26.58        1                0       0            20.0   \n",
       "3             0  24.21        0                0       0             0.0   \n",
       "4             0  23.71        0                0       0            28.0   \n",
       "\n",
       "   MentalHealth  DiffWalking  Sex  AgeCategory  Diabetic  PhysicalActivity  \\\n",
       "0          30.0            0    8           17         1                 1   \n",
       "1           0.0            0    8           22         0                 1   \n",
       "2          30.0            0    9           19         1                 1   \n",
       "3           0.0            0    8           21         0                 0   \n",
       "4           0.0            1    8           14         0                 1   \n",
       "\n",
       "   GenHealth  SleepTime  Asthma  KidneyDisease  SkinCancer  \n",
       "0          5        5.0       1              0           1  \n",
       "1          5        7.0       0              0           0  \n",
       "2          3        8.0       1              0           0  \n",
       "3          4        6.0       0              0           1  \n",
       "4          5        8.0       0              0           0  "
      ]
     },
     "execution_count": 2,
     "metadata": {},
     "output_type": "execute_result"
    }
   ],
   "source": [
    "data=pd.read_csv(\"/kaggle/input/datasetheartdisease/dataset.csv\")\n",
    "df=data.copy()\n",
    "df=df.drop([\"Unnamed: 0\"],axis=1)\n",
    "df.head()"
   ]
  },
  {
   "cell_type": "markdown",
   "id": "61cef2fc",
   "metadata": {
    "papermill": {
     "duration": 0.010476,
     "end_time": "2022-10-27T16:34:27.711978",
     "exception": false,
     "start_time": "2022-10-27T16:34:27.701502",
     "status": "completed"
    },
    "tags": []
   },
   "source": [
    "# Separamos los datos\n",
    "Separamos los datos de nuestro dataset, ponemos las características que vamos a utilizar para entrenar en la variable X y la variable a predecir en la varibale Y."
   ]
  },
  {
   "cell_type": "code",
   "execution_count": 3,
   "id": "4f759f36",
   "metadata": {
    "execution": {
     "iopub.execute_input": "2022-10-27T16:34:27.734857Z",
     "iopub.status.busy": "2022-10-27T16:34:27.734464Z",
     "iopub.status.idle": "2022-10-27T16:34:27.754811Z",
     "shell.execute_reply": "2022-10-27T16:34:27.753632Z"
    },
    "papermill": {
     "duration": 0.034683,
     "end_time": "2022-10-27T16:34:27.757279",
     "exception": false,
     "start_time": "2022-10-27T16:34:27.722596",
     "status": "completed"
    },
    "tags": []
   },
   "outputs": [],
   "source": [
    "X=df.iloc[:,1:]\n",
    "Y=df.iloc[:,0]"
   ]
  },
  {
   "cell_type": "markdown",
   "id": "44cc0c3c",
   "metadata": {
    "papermill": {
     "duration": 0.011068,
     "end_time": "2022-10-27T16:34:27.779946",
     "exception": false,
     "start_time": "2022-10-27T16:34:27.768878",
     "status": "completed"
    },
    "tags": []
   },
   "source": [
    "# Función Selección de características\n",
    "Función utilizada para declarar Sequential Feature Selector con la cantidad de caracteristicas a selecciona y el modelo que va a utilizar"
   ]
  },
  {
   "cell_type": "code",
   "execution_count": 4,
   "id": "4c0a7587",
   "metadata": {
    "execution": {
     "iopub.execute_input": "2022-10-27T16:34:27.804138Z",
     "iopub.status.busy": "2022-10-27T16:34:27.803736Z",
     "iopub.status.idle": "2022-10-27T16:34:27.809567Z",
     "shell.execute_reply": "2022-10-27T16:34:27.808194Z"
    },
    "papermill": {
     "duration": 0.020928,
     "end_time": "2022-10-27T16:34:27.811810",
     "exception": false,
     "start_time": "2022-10-27T16:34:27.790882",
     "status": "completed"
    },
    "tags": []
   },
   "outputs": [],
   "source": [
    "def select_features(model,n_features,fwd):\n",
    "    sfs=SFS(\n",
    "        model,\n",
    "        k_features=n_features,\n",
    "        forward=fwd,\n",
    "        scoring='accuracy',\n",
    "        cv=0\n",
    "    )\n",
    "    return sfs"
   ]
  },
  {
   "cell_type": "markdown",
   "id": "193a655d",
   "metadata": {
    "papermill": {
     "duration": 0.012742,
     "end_time": "2022-10-27T16:34:27.836594",
     "exception": false,
     "start_time": "2022-10-27T16:34:27.823852",
     "status": "completed"
    },
    "tags": []
   },
   "source": [
    "# Estandarización de los datos\n",
    "Usamos StandardScaler para estandarizar las caracteríticas que vamos a usar para entrenar en nuestro modelo."
   ]
  },
  {
   "cell_type": "code",
   "execution_count": 5,
   "id": "9e5f9749",
   "metadata": {
    "execution": {
     "iopub.execute_input": "2022-10-27T16:34:27.866441Z",
     "iopub.status.busy": "2022-10-27T16:34:27.865702Z",
     "iopub.status.idle": "2022-10-27T16:34:27.993897Z",
     "shell.execute_reply": "2022-10-27T16:34:27.992708Z"
    },
    "papermill": {
     "duration": 0.144822,
     "end_time": "2022-10-27T16:34:27.996641",
     "exception": false,
     "start_time": "2022-10-27T16:34:27.851819",
     "status": "completed"
    },
    "tags": []
   },
   "outputs": [
    {
     "data": {
      "text/plain": [
       "(319795, 16)"
      ]
     },
     "execution_count": 5,
     "metadata": {},
     "output_type": "execute_result"
    }
   ],
   "source": [
    "scaler=StandardScaler()\n",
    "columns=X.columns\n",
    "s=scaler.fit_transform(X)\n",
    "\n",
    "scaled_data=pd.DataFrame(s,columns=columns)\n",
    "scaled_data.head(5)\n",
    "scaled_data.shape"
   ]
  },
  {
   "cell_type": "markdown",
   "id": "3416b1e6",
   "metadata": {
    "papermill": {
     "duration": 0.010525,
     "end_time": "2022-10-27T16:34:28.017921",
     "exception": false,
     "start_time": "2022-10-27T16:34:28.007396",
     "status": "completed"
    },
    "tags": []
   },
   "source": [
    "# Selección de caracteríticas\n",
    "Se declara la función train_select_features que lo que hace es por medio de StratifiedKFold y un array con la cantidad de caracteríticas a seleccionar, entrena un modelo y guardar el rendimiento en un dataframe para luego seleccionar con que y cuales caracteríticas tuvo mejor rendimieto el modelo."
   ]
  },
  {
   "cell_type": "code",
   "execution_count": 6,
   "id": "ce3902da",
   "metadata": {
    "execution": {
     "iopub.execute_input": "2022-10-27T16:34:28.041277Z",
     "iopub.status.busy": "2022-10-27T16:34:28.040433Z",
     "iopub.status.idle": "2022-10-27T16:34:28.051214Z",
     "shell.execute_reply": "2022-10-27T16:34:28.050359Z"
    },
    "papermill": {
     "duration": 0.024755,
     "end_time": "2022-10-27T16:34:28.053402",
     "exception": false,
     "start_time": "2022-10-27T16:34:28.028647",
     "status": "completed"
    },
    "tags": []
   },
   "outputs": [],
   "source": [
    "def train_select_features(model,folds,features):\n",
    "    skf=StratifiedKFold(n_splits=folds)\n",
    "    resultados=pd.DataFrame()\n",
    "    idx=0\n",
    "    resultados = {\n",
    "        'Modelo': [],\n",
    "        'Features':[],\n",
    "        'Name Features':[],\n",
    "        'Index Features':[],\n",
    "        'Error':[],\n",
    "        'Tiempo':[]\n",
    "    }\n",
    "    for feature in features:\n",
    "        for train, test in skf.split(X=scaled_data,y=Y):\n",
    "            tiempo_i = time.time()\n",
    "            Xtrain, Xtest = scaled_data.iloc[train], scaled_data.iloc[test]\n",
    "            Ytrain, Ytest = Y[train], Y[test]\n",
    "            \n",
    "            model_train=select_features(model,feature,False)\n",
    "            model_train.fit(Xtrain,Ytrain)\n",
    "            tiempo_f = time.time()\n",
    "            resultados['Modelo'].append(str(model))\n",
    "            resultados['Name Features'].append(model_train.k_feature_names_)\n",
    "            resultados['Index Features'].append(model_train.k_feature_idx_)\n",
    "            resultados['Features'].append(feature)\n",
    "            resultados['Error'].append(1-model_train.k_score_)\n",
    "            resultados['Tiempo'].append(tiempo_f-tiempo_i)\n",
    "\n",
    "\n",
    "\n",
    "    return resultados\n"
   ]
  },
  {
   "cell_type": "code",
   "execution_count": 7,
   "id": "22089566",
   "metadata": {
    "execution": {
     "iopub.execute_input": "2022-10-27T16:34:28.077694Z",
     "iopub.status.busy": "2022-10-27T16:34:28.076830Z",
     "iopub.status.idle": "2022-10-27T16:47:26.547257Z",
     "shell.execute_reply": "2022-10-27T16:47:26.545974Z"
    },
    "papermill": {
     "duration": 778.495836,
     "end_time": "2022-10-27T16:47:26.560165",
     "exception": false,
     "start_time": "2022-10-27T16:34:28.064329",
     "status": "completed"
    },
    "tags": []
   },
   "outputs": [
    {
     "data": {
      "text/html": [
       "<div>\n",
       "<style scoped>\n",
       "    .dataframe tbody tr th:only-of-type {\n",
       "        vertical-align: middle;\n",
       "    }\n",
       "\n",
       "    .dataframe tbody tr th {\n",
       "        vertical-align: top;\n",
       "    }\n",
       "\n",
       "    .dataframe thead th {\n",
       "        text-align: right;\n",
       "    }\n",
       "</style>\n",
       "<table border=\"1\" class=\"dataframe\">\n",
       "  <thead>\n",
       "    <tr style=\"text-align: right;\">\n",
       "      <th></th>\n",
       "      <th>Modelo</th>\n",
       "      <th>Features</th>\n",
       "      <th>Name Features</th>\n",
       "      <th>Index Features</th>\n",
       "      <th>Error</th>\n",
       "      <th>Tiempo</th>\n",
       "    </tr>\n",
       "  </thead>\n",
       "  <tbody>\n",
       "    <tr>\n",
       "      <th>0</th>\n",
       "      <td>QuadraticDiscriminantAnalysis()</td>\n",
       "      <td>4</td>\n",
       "      <td>(Smoking, AlcoholDrinking, Sex, AgeCategory)</td>\n",
       "      <td>(1, 2, 7, 8)</td>\n",
       "      <td>0.085598</td>\n",
       "      <td>47.445546</td>\n",
       "    </tr>\n",
       "    <tr>\n",
       "      <th>1</th>\n",
       "      <td>QuadraticDiscriminantAnalysis()</td>\n",
       "      <td>4</td>\n",
       "      <td>(Smoking, AlcoholDrinking, Sex, AgeCategory)</td>\n",
       "      <td>(1, 2, 7, 8)</td>\n",
       "      <td>0.085598</td>\n",
       "      <td>47.778944</td>\n",
       "    </tr>\n",
       "    <tr>\n",
       "      <th>2</th>\n",
       "      <td>QuadraticDiscriminantAnalysis()</td>\n",
       "      <td>4</td>\n",
       "      <td>(Smoking, AlcoholDrinking, Sex, AgeCategory)</td>\n",
       "      <td>(1, 2, 7, 8)</td>\n",
       "      <td>0.085594</td>\n",
       "      <td>46.663033</td>\n",
       "    </tr>\n",
       "    <tr>\n",
       "      <th>3</th>\n",
       "      <td>QuadraticDiscriminantAnalysis()</td>\n",
       "      <td>4</td>\n",
       "      <td>(Smoking, AlcoholDrinking, Sex, AgeCategory)</td>\n",
       "      <td>(1, 2, 7, 8)</td>\n",
       "      <td>0.085594</td>\n",
       "      <td>47.529659</td>\n",
       "    </tr>\n",
       "    <tr>\n",
       "      <th>4</th>\n",
       "      <td>QuadraticDiscriminantAnalysis()</td>\n",
       "      <td>4</td>\n",
       "      <td>(Smoking, AlcoholDrinking, Sex, AgeCategory)</td>\n",
       "      <td>(1, 2, 7, 8)</td>\n",
       "      <td>0.085594</td>\n",
       "      <td>47.123643</td>\n",
       "    </tr>\n",
       "    <tr>\n",
       "      <th>5</th>\n",
       "      <td>QuadraticDiscriminantAnalysis()</td>\n",
       "      <td>6</td>\n",
       "      <td>(BMI, Smoking, AlcoholDrinking, Sex, AgeCatego...</td>\n",
       "      <td>(0, 1, 2, 7, 8, 10)</td>\n",
       "      <td>0.087341</td>\n",
       "      <td>45.370941</td>\n",
       "    </tr>\n",
       "    <tr>\n",
       "      <th>6</th>\n",
       "      <td>QuadraticDiscriminantAnalysis()</td>\n",
       "      <td>6</td>\n",
       "      <td>(BMI, Smoking, AlcoholDrinking, Sex, AgeCatego...</td>\n",
       "      <td>(0, 1, 2, 7, 8, 10)</td>\n",
       "      <td>0.087439</td>\n",
       "      <td>45.406306</td>\n",
       "    </tr>\n",
       "    <tr>\n",
       "      <th>7</th>\n",
       "      <td>QuadraticDiscriminantAnalysis()</td>\n",
       "      <td>6</td>\n",
       "      <td>(BMI, Smoking, AlcoholDrinking, Sex, AgeCatego...</td>\n",
       "      <td>(0, 1, 2, 7, 8, 10)</td>\n",
       "      <td>0.087474</td>\n",
       "      <td>45.527244</td>\n",
       "    </tr>\n",
       "    <tr>\n",
       "      <th>8</th>\n",
       "      <td>QuadraticDiscriminantAnalysis()</td>\n",
       "      <td>6</td>\n",
       "      <td>(BMI, Smoking, AlcoholDrinking, Sex, AgeCatego...</td>\n",
       "      <td>(0, 1, 2, 7, 8, 10)</td>\n",
       "      <td>0.08763</td>\n",
       "      <td>45.799781</td>\n",
       "    </tr>\n",
       "    <tr>\n",
       "      <th>9</th>\n",
       "      <td>QuadraticDiscriminantAnalysis()</td>\n",
       "      <td>6</td>\n",
       "      <td>(BMI, Smoking, AlcoholDrinking, Sex, AgeCatego...</td>\n",
       "      <td>(0, 1, 2, 7, 8, 10)</td>\n",
       "      <td>0.087599</td>\n",
       "      <td>45.899453</td>\n",
       "    </tr>\n",
       "    <tr>\n",
       "      <th>10</th>\n",
       "      <td>QuadraticDiscriminantAnalysis()</td>\n",
       "      <td>10</td>\n",
       "      <td>(BMI, Smoking, AlcoholDrinking, Stroke, Mental...</td>\n",
       "      <td>(0, 1, 2, 3, 5, 7, 8, 10, 11, 13)</td>\n",
       "      <td>0.10076</td>\n",
       "      <td>35.050506</td>\n",
       "    </tr>\n",
       "    <tr>\n",
       "      <th>11</th>\n",
       "      <td>QuadraticDiscriminantAnalysis()</td>\n",
       "      <td>10</td>\n",
       "      <td>(BMI, Smoking, AlcoholDrinking, Stroke, Mental...</td>\n",
       "      <td>(0, 1, 2, 3, 5, 7, 8, 10, 11, 13)</td>\n",
       "      <td>0.10092</td>\n",
       "      <td>35.995445</td>\n",
       "    </tr>\n",
       "    <tr>\n",
       "      <th>12</th>\n",
       "      <td>QuadraticDiscriminantAnalysis()</td>\n",
       "      <td>10</td>\n",
       "      <td>(BMI, Smoking, AlcoholDrinking, Stroke, Mental...</td>\n",
       "      <td>(0, 1, 2, 3, 5, 7, 8, 10, 11, 13)</td>\n",
       "      <td>0.101221</td>\n",
       "      <td>35.03987</td>\n",
       "    </tr>\n",
       "    <tr>\n",
       "      <th>13</th>\n",
       "      <td>QuadraticDiscriminantAnalysis()</td>\n",
       "      <td>10</td>\n",
       "      <td>(BMI, Smoking, AlcoholDrinking, Stroke, Mental...</td>\n",
       "      <td>(0, 1, 2, 3, 5, 7, 8, 10, 11, 13)</td>\n",
       "      <td>0.100826</td>\n",
       "      <td>35.557399</td>\n",
       "    </tr>\n",
       "    <tr>\n",
       "      <th>14</th>\n",
       "      <td>QuadraticDiscriminantAnalysis()</td>\n",
       "      <td>10</td>\n",
       "      <td>(BMI, Smoking, AlcoholDrinking, Stroke, Mental...</td>\n",
       "      <td>(0, 1, 2, 3, 5, 7, 8, 10, 11, 13)</td>\n",
       "      <td>0.10119</td>\n",
       "      <td>35.516068</td>\n",
       "    </tr>\n",
       "    <tr>\n",
       "      <th>15</th>\n",
       "      <td>QuadraticDiscriminantAnalysis()</td>\n",
       "      <td>12</td>\n",
       "      <td>(BMI, Smoking, AlcoholDrinking, Stroke, Mental...</td>\n",
       "      <td>(0, 1, 2, 3, 5, 7, 8, 9, 10, 11, 12, 13)</td>\n",
       "      <td>0.112721</td>\n",
       "      <td>27.131002</td>\n",
       "    </tr>\n",
       "    <tr>\n",
       "      <th>16</th>\n",
       "      <td>QuadraticDiscriminantAnalysis()</td>\n",
       "      <td>12</td>\n",
       "      <td>(BMI, Smoking, AlcoholDrinking, Stroke, Mental...</td>\n",
       "      <td>(0, 1, 2, 3, 5, 7, 8, 9, 10, 11, 12, 13)</td>\n",
       "      <td>0.112811</td>\n",
       "      <td>27.149978</td>\n",
       "    </tr>\n",
       "    <tr>\n",
       "      <th>17</th>\n",
       "      <td>QuadraticDiscriminantAnalysis()</td>\n",
       "      <td>12</td>\n",
       "      <td>(BMI, Smoking, AlcoholDrinking, Stroke, Mental...</td>\n",
       "      <td>(0, 1, 2, 3, 5, 7, 8, 9, 10, 11, 12, 13)</td>\n",
       "      <td>0.113065</td>\n",
       "      <td>27.570124</td>\n",
       "    </tr>\n",
       "    <tr>\n",
       "      <th>18</th>\n",
       "      <td>QuadraticDiscriminantAnalysis()</td>\n",
       "      <td>12</td>\n",
       "      <td>(BMI, Smoking, AlcoholDrinking, Stroke, Mental...</td>\n",
       "      <td>(0, 1, 2, 3, 5, 7, 8, 9, 10, 11, 12, 13)</td>\n",
       "      <td>0.112748</td>\n",
       "      <td>27.019441</td>\n",
       "    </tr>\n",
       "    <tr>\n",
       "      <th>19</th>\n",
       "      <td>QuadraticDiscriminantAnalysis()</td>\n",
       "      <td>12</td>\n",
       "      <td>(BMI, Smoking, AlcoholDrinking, Stroke, Mental...</td>\n",
       "      <td>(0, 1, 2, 3, 5, 7, 8, 9, 10, 11, 12, 13)</td>\n",
       "      <td>0.11344</td>\n",
       "      <td>27.585593</td>\n",
       "    </tr>\n",
       "  </tbody>\n",
       "</table>\n",
       "</div>"
      ],
      "text/plain": [
       "                             Modelo Features  \\\n",
       "0   QuadraticDiscriminantAnalysis()        4   \n",
       "1   QuadraticDiscriminantAnalysis()        4   \n",
       "2   QuadraticDiscriminantAnalysis()        4   \n",
       "3   QuadraticDiscriminantAnalysis()        4   \n",
       "4   QuadraticDiscriminantAnalysis()        4   \n",
       "5   QuadraticDiscriminantAnalysis()        6   \n",
       "6   QuadraticDiscriminantAnalysis()        6   \n",
       "7   QuadraticDiscriminantAnalysis()        6   \n",
       "8   QuadraticDiscriminantAnalysis()        6   \n",
       "9   QuadraticDiscriminantAnalysis()        6   \n",
       "10  QuadraticDiscriminantAnalysis()       10   \n",
       "11  QuadraticDiscriminantAnalysis()       10   \n",
       "12  QuadraticDiscriminantAnalysis()       10   \n",
       "13  QuadraticDiscriminantAnalysis()       10   \n",
       "14  QuadraticDiscriminantAnalysis()       10   \n",
       "15  QuadraticDiscriminantAnalysis()       12   \n",
       "16  QuadraticDiscriminantAnalysis()       12   \n",
       "17  QuadraticDiscriminantAnalysis()       12   \n",
       "18  QuadraticDiscriminantAnalysis()       12   \n",
       "19  QuadraticDiscriminantAnalysis()       12   \n",
       "\n",
       "                                        Name Features  \\\n",
       "0        (Smoking, AlcoholDrinking, Sex, AgeCategory)   \n",
       "1        (Smoking, AlcoholDrinking, Sex, AgeCategory)   \n",
       "2        (Smoking, AlcoholDrinking, Sex, AgeCategory)   \n",
       "3        (Smoking, AlcoholDrinking, Sex, AgeCategory)   \n",
       "4        (Smoking, AlcoholDrinking, Sex, AgeCategory)   \n",
       "5   (BMI, Smoking, AlcoholDrinking, Sex, AgeCatego...   \n",
       "6   (BMI, Smoking, AlcoholDrinking, Sex, AgeCatego...   \n",
       "7   (BMI, Smoking, AlcoholDrinking, Sex, AgeCatego...   \n",
       "8   (BMI, Smoking, AlcoholDrinking, Sex, AgeCatego...   \n",
       "9   (BMI, Smoking, AlcoholDrinking, Sex, AgeCatego...   \n",
       "10  (BMI, Smoking, AlcoholDrinking, Stroke, Mental...   \n",
       "11  (BMI, Smoking, AlcoholDrinking, Stroke, Mental...   \n",
       "12  (BMI, Smoking, AlcoholDrinking, Stroke, Mental...   \n",
       "13  (BMI, Smoking, AlcoholDrinking, Stroke, Mental...   \n",
       "14  (BMI, Smoking, AlcoholDrinking, Stroke, Mental...   \n",
       "15  (BMI, Smoking, AlcoholDrinking, Stroke, Mental...   \n",
       "16  (BMI, Smoking, AlcoholDrinking, Stroke, Mental...   \n",
       "17  (BMI, Smoking, AlcoholDrinking, Stroke, Mental...   \n",
       "18  (BMI, Smoking, AlcoholDrinking, Stroke, Mental...   \n",
       "19  (BMI, Smoking, AlcoholDrinking, Stroke, Mental...   \n",
       "\n",
       "                              Index Features     Error     Tiempo  \n",
       "0                               (1, 2, 7, 8)  0.085598  47.445546  \n",
       "1                               (1, 2, 7, 8)  0.085598  47.778944  \n",
       "2                               (1, 2, 7, 8)  0.085594  46.663033  \n",
       "3                               (1, 2, 7, 8)  0.085594  47.529659  \n",
       "4                               (1, 2, 7, 8)  0.085594  47.123643  \n",
       "5                        (0, 1, 2, 7, 8, 10)  0.087341  45.370941  \n",
       "6                        (0, 1, 2, 7, 8, 10)  0.087439  45.406306  \n",
       "7                        (0, 1, 2, 7, 8, 10)  0.087474  45.527244  \n",
       "8                        (0, 1, 2, 7, 8, 10)   0.08763  45.799781  \n",
       "9                        (0, 1, 2, 7, 8, 10)  0.087599  45.899453  \n",
       "10         (0, 1, 2, 3, 5, 7, 8, 10, 11, 13)   0.10076  35.050506  \n",
       "11         (0, 1, 2, 3, 5, 7, 8, 10, 11, 13)   0.10092  35.995445  \n",
       "12         (0, 1, 2, 3, 5, 7, 8, 10, 11, 13)  0.101221   35.03987  \n",
       "13         (0, 1, 2, 3, 5, 7, 8, 10, 11, 13)  0.100826  35.557399  \n",
       "14         (0, 1, 2, 3, 5, 7, 8, 10, 11, 13)   0.10119  35.516068  \n",
       "15  (0, 1, 2, 3, 5, 7, 8, 9, 10, 11, 12, 13)  0.112721  27.131002  \n",
       "16  (0, 1, 2, 3, 5, 7, 8, 9, 10, 11, 12, 13)  0.112811  27.149978  \n",
       "17  (0, 1, 2, 3, 5, 7, 8, 9, 10, 11, 12, 13)  0.113065  27.570124  \n",
       "18  (0, 1, 2, 3, 5, 7, 8, 9, 10, 11, 12, 13)  0.112748  27.019441  \n",
       "19  (0, 1, 2, 3, 5, 7, 8, 9, 10, 11, 12, 13)   0.11344  27.585593  "
      ]
     },
     "execution_count": 7,
     "metadata": {},
     "output_type": "execute_result"
    }
   ],
   "source": [
    "features=[4,6,10,12]\n",
    "resultados=train_select_features(QuadraticDiscriminantAnalysis(),5,features)\n",
    "resultados= pd.DataFrame.from_dict(resultados, orient='index')\n",
    "resultados=resultados.transpose()\n",
    "resultados"
   ]
  },
  {
   "cell_type": "markdown",
   "id": "f6d0b95d",
   "metadata": {
    "papermill": {
     "duration": 0.011102,
     "end_time": "2022-10-27T16:47:26.582309",
     "exception": false,
     "start_time": "2022-10-27T16:47:26.571207",
     "status": "completed"
    },
    "tags": []
   },
   "source": [
    "# Gráfica de los resultados obtenidos"
   ]
  },
  {
   "cell_type": "code",
   "execution_count": 8,
   "id": "328d173c",
   "metadata": {
    "execution": {
     "iopub.execute_input": "2022-10-27T16:47:26.606633Z",
     "iopub.status.busy": "2022-10-27T16:47:26.606182Z",
     "iopub.status.idle": "2022-10-27T16:47:26.951025Z",
     "shell.execute_reply": "2022-10-27T16:47:26.949973Z"
    },
    "papermill": {
     "duration": 0.35981,
     "end_time": "2022-10-27T16:47:26.953349",
     "exception": false,
     "start_time": "2022-10-27T16:47:26.593539",
     "status": "completed"
    },
    "tags": []
   },
   "outputs": [
    {
     "data": {
      "image/png": "[encoded data removed]",
      "text/plain": [
       "<Figure size 432x288 with 1 Axes>"
      ]
     },
     "metadata": {
      "needs_background": "light"
     },
     "output_type": "display_data"
    }
   ],
   "source": [
    "sns.lineplot(data=resultados,x=\"Features\",y=\"Error\")\n",
    "plt.show()"
   ]
  },
  {
   "cell_type": "code",
   "execution_count": 9,
   "id": "03d2bc06",
   "metadata": {
    "execution": {
     "iopub.execute_input": "2022-10-27T16:47:26.978435Z",
     "iopub.status.busy": "2022-10-27T16:47:26.977992Z",
     "iopub.status.idle": "2022-10-27T16:47:27.271840Z",
     "shell.execute_reply": "2022-10-27T16:47:27.270739Z"
    },
    "papermill": {
     "duration": 0.309223,
     "end_time": "2022-10-27T16:47:27.274059",
     "exception": false,
     "start_time": "2022-10-27T16:47:26.964836",
     "status": "completed"
    },
    "tags": []
   },
   "outputs": [
    {
     "data": {
      "image/png": "[encoded data removed]",
      "text/plain": [
       "<Figure size 432x288 with 1 Axes>"
      ]
     },
     "metadata": {
      "needs_background": "light"
     },
     "output_type": "display_data"
    }
   ],
   "source": [
    "sns.lineplot(data=resultados,x=\"Features\",y=\"Tiempo\")\n",
    "plt.show()"
   ]
  },
  {
   "cell_type": "code",
   "execution_count": 10,
   "id": "e065d840",
   "metadata": {
    "execution": {
     "iopub.execute_input": "2022-10-27T16:47:27.299087Z",
     "iopub.status.busy": "2022-10-27T16:47:27.298645Z",
     "iopub.status.idle": "2022-10-27T16:47:27.320731Z",
     "shell.execute_reply": "2022-10-27T16:47:27.319649Z"
    },
    "papermill": {
     "duration": 0.03705,
     "end_time": "2022-10-27T16:47:27.322804",
     "exception": false,
     "start_time": "2022-10-27T16:47:27.285754",
     "status": "completed"
    },
    "tags": []
   },
   "outputs": [
    {
     "data": {
      "text/html": [
       "<div>\n",
       "<style scoped>\n",
       "    .dataframe tbody tr th:only-of-type {\n",
       "        vertical-align: middle;\n",
       "    }\n",
       "\n",
       "    .dataframe tbody tr th {\n",
       "        vertical-align: top;\n",
       "    }\n",
       "\n",
       "    .dataframe thead th {\n",
       "        text-align: right;\n",
       "    }\n",
       "</style>\n",
       "<table border=\"1\" class=\"dataframe\">\n",
       "  <thead>\n",
       "    <tr style=\"text-align: right;\">\n",
       "      <th></th>\n",
       "      <th>Modelo</th>\n",
       "      <th>Features</th>\n",
       "      <th>Name Features</th>\n",
       "      <th>Index Features</th>\n",
       "      <th>Error</th>\n",
       "      <th>Tiempo</th>\n",
       "    </tr>\n",
       "  </thead>\n",
       "  <tbody>\n",
       "    <tr>\n",
       "      <th>2</th>\n",
       "      <td>QuadraticDiscriminantAnalysis()</td>\n",
       "      <td>4</td>\n",
       "      <td>(Smoking, AlcoholDrinking, Sex, AgeCategory)</td>\n",
       "      <td>(1, 2, 7, 8)</td>\n",
       "      <td>0.085594</td>\n",
       "      <td>46.663033</td>\n",
       "    </tr>\n",
       "    <tr>\n",
       "      <th>3</th>\n",
       "      <td>QuadraticDiscriminantAnalysis()</td>\n",
       "      <td>4</td>\n",
       "      <td>(Smoking, AlcoholDrinking, Sex, AgeCategory)</td>\n",
       "      <td>(1, 2, 7, 8)</td>\n",
       "      <td>0.085594</td>\n",
       "      <td>47.529659</td>\n",
       "    </tr>\n",
       "    <tr>\n",
       "      <th>4</th>\n",
       "      <td>QuadraticDiscriminantAnalysis()</td>\n",
       "      <td>4</td>\n",
       "      <td>(Smoking, AlcoholDrinking, Sex, AgeCategory)</td>\n",
       "      <td>(1, 2, 7, 8)</td>\n",
       "      <td>0.085594</td>\n",
       "      <td>47.123643</td>\n",
       "    </tr>\n",
       "    <tr>\n",
       "      <th>0</th>\n",
       "      <td>QuadraticDiscriminantAnalysis()</td>\n",
       "      <td>4</td>\n",
       "      <td>(Smoking, AlcoholDrinking, Sex, AgeCategory)</td>\n",
       "      <td>(1, 2, 7, 8)</td>\n",
       "      <td>0.085598</td>\n",
       "      <td>47.445546</td>\n",
       "    </tr>\n",
       "    <tr>\n",
       "      <th>1</th>\n",
       "      <td>QuadraticDiscriminantAnalysis()</td>\n",
       "      <td>4</td>\n",
       "      <td>(Smoking, AlcoholDrinking, Sex, AgeCategory)</td>\n",
       "      <td>(1, 2, 7, 8)</td>\n",
       "      <td>0.085598</td>\n",
       "      <td>47.778944</td>\n",
       "    </tr>\n",
       "    <tr>\n",
       "      <th>5</th>\n",
       "      <td>QuadraticDiscriminantAnalysis()</td>\n",
       "      <td>6</td>\n",
       "      <td>(BMI, Smoking, AlcoholDrinking, Sex, AgeCatego...</td>\n",
       "      <td>(0, 1, 2, 7, 8, 10)</td>\n",
       "      <td>0.087341</td>\n",
       "      <td>45.370941</td>\n",
       "    </tr>\n",
       "    <tr>\n",
       "      <th>6</th>\n",
       "      <td>QuadraticDiscriminantAnalysis()</td>\n",
       "      <td>6</td>\n",
       "      <td>(BMI, Smoking, AlcoholDrinking, Sex, AgeCatego...</td>\n",
       "      <td>(0, 1, 2, 7, 8, 10)</td>\n",
       "      <td>0.087439</td>\n",
       "      <td>45.406306</td>\n",
       "    </tr>\n",
       "    <tr>\n",
       "      <th>7</th>\n",
       "      <td>QuadraticDiscriminantAnalysis()</td>\n",
       "      <td>6</td>\n",
       "      <td>(BMI, Smoking, AlcoholDrinking, Sex, AgeCatego...</td>\n",
       "      <td>(0, 1, 2, 7, 8, 10)</td>\n",
       "      <td>0.087474</td>\n",
       "      <td>45.527244</td>\n",
       "    </tr>\n",
       "    <tr>\n",
       "      <th>9</th>\n",
       "      <td>QuadraticDiscriminantAnalysis()</td>\n",
       "      <td>6</td>\n",
       "      <td>(BMI, Smoking, AlcoholDrinking, Sex, AgeCatego...</td>\n",
       "      <td>(0, 1, 2, 7, 8, 10)</td>\n",
       "      <td>0.087599</td>\n",
       "      <td>45.899453</td>\n",
       "    </tr>\n",
       "    <tr>\n",
       "      <th>8</th>\n",
       "      <td>QuadraticDiscriminantAnalysis()</td>\n",
       "      <td>6</td>\n",
       "      <td>(BMI, Smoking, AlcoholDrinking, Sex, AgeCatego...</td>\n",
       "      <td>(0, 1, 2, 7, 8, 10)</td>\n",
       "      <td>0.08763</td>\n",
       "      <td>45.799781</td>\n",
       "    </tr>\n",
       "  </tbody>\n",
       "</table>\n",
       "</div>"
      ],
      "text/plain": [
       "                            Modelo Features  \\\n",
       "2  QuadraticDiscriminantAnalysis()        4   \n",
       "3  QuadraticDiscriminantAnalysis()        4   \n",
       "4  QuadraticDiscriminantAnalysis()        4   \n",
       "0  QuadraticDiscriminantAnalysis()        4   \n",
       "1  QuadraticDiscriminantAnalysis()        4   \n",
       "5  QuadraticDiscriminantAnalysis()        6   \n",
       "6  QuadraticDiscriminantAnalysis()        6   \n",
       "7  QuadraticDiscriminantAnalysis()        6   \n",
       "9  QuadraticDiscriminantAnalysis()        6   \n",
       "8  QuadraticDiscriminantAnalysis()        6   \n",
       "\n",
       "                                       Name Features       Index Features  \\\n",
       "2       (Smoking, AlcoholDrinking, Sex, AgeCategory)         (1, 2, 7, 8)   \n",
       "3       (Smoking, AlcoholDrinking, Sex, AgeCategory)         (1, 2, 7, 8)   \n",
       "4       (Smoking, AlcoholDrinking, Sex, AgeCategory)         (1, 2, 7, 8)   \n",
       "0       (Smoking, AlcoholDrinking, Sex, AgeCategory)         (1, 2, 7, 8)   \n",
       "1       (Smoking, AlcoholDrinking, Sex, AgeCategory)         (1, 2, 7, 8)   \n",
       "5  (BMI, Smoking, AlcoholDrinking, Sex, AgeCatego...  (0, 1, 2, 7, 8, 10)   \n",
       "6  (BMI, Smoking, AlcoholDrinking, Sex, AgeCatego...  (0, 1, 2, 7, 8, 10)   \n",
       "7  (BMI, Smoking, AlcoholDrinking, Sex, AgeCatego...  (0, 1, 2, 7, 8, 10)   \n",
       "9  (BMI, Smoking, AlcoholDrinking, Sex, AgeCatego...  (0, 1, 2, 7, 8, 10)   \n",
       "8  (BMI, Smoking, AlcoholDrinking, Sex, AgeCatego...  (0, 1, 2, 7, 8, 10)   \n",
       "\n",
       "      Error     Tiempo  \n",
       "2  0.085594  46.663033  \n",
       "3  0.085594  47.529659  \n",
       "4  0.085594  47.123643  \n",
       "0  0.085598  47.445546  \n",
       "1  0.085598  47.778944  \n",
       "5  0.087341  45.370941  \n",
       "6  0.087439  45.406306  \n",
       "7  0.087474  45.527244  \n",
       "9  0.087599  45.899453  \n",
       "8   0.08763  45.799781  "
      ]
     },
     "execution_count": 10,
     "metadata": {},
     "output_type": "execute_result"
    }
   ],
   "source": [
    "resultados.sort_values(by ='Error', ascending =True).head(10)"
   ]
  },
  {
   "cell_type": "code",
   "execution_count": 11,
   "id": "c23491f1",
   "metadata": {
    "execution": {
     "iopub.execute_input": "2022-10-27T16:47:27.349800Z",
     "iopub.status.busy": "2022-10-27T16:47:27.349391Z",
     "iopub.status.idle": "2022-10-27T16:47:27.372609Z",
     "shell.execute_reply": "2022-10-27T16:47:27.371356Z"
    },
    "papermill": {
     "duration": 0.039583,
     "end_time": "2022-10-27T16:47:27.375094",
     "exception": false,
     "start_time": "2022-10-27T16:47:27.335511",
     "status": "completed"
    },
    "tags": []
   },
   "outputs": [
    {
     "data": {
      "text/html": [
       "<div>\n",
       "<style scoped>\n",
       "    .dataframe tbody tr th:only-of-type {\n",
       "        vertical-align: middle;\n",
       "    }\n",
       "\n",
       "    .dataframe tbody tr th {\n",
       "        vertical-align: top;\n",
       "    }\n",
       "\n",
       "    .dataframe thead th {\n",
       "        text-align: right;\n",
       "    }\n",
       "</style>\n",
       "<table border=\"1\" class=\"dataframe\">\n",
       "  <thead>\n",
       "    <tr style=\"text-align: right;\">\n",
       "      <th></th>\n",
       "      <th>Modelo</th>\n",
       "      <th>Features</th>\n",
       "      <th>Name Features</th>\n",
       "      <th>Index Features</th>\n",
       "      <th>Error</th>\n",
       "      <th>Tiempo</th>\n",
       "    </tr>\n",
       "  </thead>\n",
       "  <tbody>\n",
       "    <tr>\n",
       "      <th>18</th>\n",
       "      <td>QuadraticDiscriminantAnalysis()</td>\n",
       "      <td>12</td>\n",
       "      <td>(BMI, Smoking, AlcoholDrinking, Stroke, Mental...</td>\n",
       "      <td>(0, 1, 2, 3, 5, 7, 8, 9, 10, 11, 12, 13)</td>\n",
       "      <td>0.112748</td>\n",
       "      <td>27.019441</td>\n",
       "    </tr>\n",
       "    <tr>\n",
       "      <th>15</th>\n",
       "      <td>QuadraticDiscriminantAnalysis()</td>\n",
       "      <td>12</td>\n",
       "      <td>(BMI, Smoking, AlcoholDrinking, Stroke, Mental...</td>\n",
       "      <td>(0, 1, 2, 3, 5, 7, 8, 9, 10, 11, 12, 13)</td>\n",
       "      <td>0.112721</td>\n",
       "      <td>27.131002</td>\n",
       "    </tr>\n",
       "    <tr>\n",
       "      <th>16</th>\n",
       "      <td>QuadraticDiscriminantAnalysis()</td>\n",
       "      <td>12</td>\n",
       "      <td>(BMI, Smoking, AlcoholDrinking, Stroke, Mental...</td>\n",
       "      <td>(0, 1, 2, 3, 5, 7, 8, 9, 10, 11, 12, 13)</td>\n",
       "      <td>0.112811</td>\n",
       "      <td>27.149978</td>\n",
       "    </tr>\n",
       "    <tr>\n",
       "      <th>17</th>\n",
       "      <td>QuadraticDiscriminantAnalysis()</td>\n",
       "      <td>12</td>\n",
       "      <td>(BMI, Smoking, AlcoholDrinking, Stroke, Mental...</td>\n",
       "      <td>(0, 1, 2, 3, 5, 7, 8, 9, 10, 11, 12, 13)</td>\n",
       "      <td>0.113065</td>\n",
       "      <td>27.570124</td>\n",
       "    </tr>\n",
       "    <tr>\n",
       "      <th>19</th>\n",
       "      <td>QuadraticDiscriminantAnalysis()</td>\n",
       "      <td>12</td>\n",
       "      <td>(BMI, Smoking, AlcoholDrinking, Stroke, Mental...</td>\n",
       "      <td>(0, 1, 2, 3, 5, 7, 8, 9, 10, 11, 12, 13)</td>\n",
       "      <td>0.11344</td>\n",
       "      <td>27.585593</td>\n",
       "    </tr>\n",
       "    <tr>\n",
       "      <th>12</th>\n",
       "      <td>QuadraticDiscriminantAnalysis()</td>\n",
       "      <td>10</td>\n",
       "      <td>(BMI, Smoking, AlcoholDrinking, Stroke, Mental...</td>\n",
       "      <td>(0, 1, 2, 3, 5, 7, 8, 10, 11, 13)</td>\n",
       "      <td>0.101221</td>\n",
       "      <td>35.03987</td>\n",
       "    </tr>\n",
       "    <tr>\n",
       "      <th>10</th>\n",
       "      <td>QuadraticDiscriminantAnalysis()</td>\n",
       "      <td>10</td>\n",
       "      <td>(BMI, Smoking, AlcoholDrinking, Stroke, Mental...</td>\n",
       "      <td>(0, 1, 2, 3, 5, 7, 8, 10, 11, 13)</td>\n",
       "      <td>0.10076</td>\n",
       "      <td>35.050506</td>\n",
       "    </tr>\n",
       "    <tr>\n",
       "      <th>14</th>\n",
       "      <td>QuadraticDiscriminantAnalysis()</td>\n",
       "      <td>10</td>\n",
       "      <td>(BMI, Smoking, AlcoholDrinking, Stroke, Mental...</td>\n",
       "      <td>(0, 1, 2, 3, 5, 7, 8, 10, 11, 13)</td>\n",
       "      <td>0.10119</td>\n",
       "      <td>35.516068</td>\n",
       "    </tr>\n",
       "    <tr>\n",
       "      <th>13</th>\n",
       "      <td>QuadraticDiscriminantAnalysis()</td>\n",
       "      <td>10</td>\n",
       "      <td>(BMI, Smoking, AlcoholDrinking, Stroke, Mental...</td>\n",
       "      <td>(0, 1, 2, 3, 5, 7, 8, 10, 11, 13)</td>\n",
       "      <td>0.100826</td>\n",
       "      <td>35.557399</td>\n",
       "    </tr>\n",
       "    <tr>\n",
       "      <th>11</th>\n",
       "      <td>QuadraticDiscriminantAnalysis()</td>\n",
       "      <td>10</td>\n",
       "      <td>(BMI, Smoking, AlcoholDrinking, Stroke, Mental...</td>\n",
       "      <td>(0, 1, 2, 3, 5, 7, 8, 10, 11, 13)</td>\n",
       "      <td>0.10092</td>\n",
       "      <td>35.995445</td>\n",
       "    </tr>\n",
       "  </tbody>\n",
       "</table>\n",
       "</div>"
      ],
      "text/plain": [
       "                             Modelo Features  \\\n",
       "18  QuadraticDiscriminantAnalysis()       12   \n",
       "15  QuadraticDiscriminantAnalysis()       12   \n",
       "16  QuadraticDiscriminantAnalysis()       12   \n",
       "17  QuadraticDiscriminantAnalysis()       12   \n",
       "19  QuadraticDiscriminantAnalysis()       12   \n",
       "12  QuadraticDiscriminantAnalysis()       10   \n",
       "10  QuadraticDiscriminantAnalysis()       10   \n",
       "14  QuadraticDiscriminantAnalysis()       10   \n",
       "13  QuadraticDiscriminantAnalysis()       10   \n",
       "11  QuadraticDiscriminantAnalysis()       10   \n",
       "\n",
       "                                        Name Features  \\\n",
       "18  (BMI, Smoking, AlcoholDrinking, Stroke, Mental...   \n",
       "15  (BMI, Smoking, AlcoholDrinking, Stroke, Mental...   \n",
       "16  (BMI, Smoking, AlcoholDrinking, Stroke, Mental...   \n",
       "17  (BMI, Smoking, AlcoholDrinking, Stroke, Mental...   \n",
       "19  (BMI, Smoking, AlcoholDrinking, Stroke, Mental...   \n",
       "12  (BMI, Smoking, AlcoholDrinking, Stroke, Mental...   \n",
       "10  (BMI, Smoking, AlcoholDrinking, Stroke, Mental...   \n",
       "14  (BMI, Smoking, AlcoholDrinking, Stroke, Mental...   \n",
       "13  (BMI, Smoking, AlcoholDrinking, Stroke, Mental...   \n",
       "11  (BMI, Smoking, AlcoholDrinking, Stroke, Mental...   \n",
       "\n",
       "                              Index Features     Error     Tiempo  \n",
       "18  (0, 1, 2, 3, 5, 7, 8, 9, 10, 11, 12, 13)  0.112748  27.019441  \n",
       "15  (0, 1, 2, 3, 5, 7, 8, 9, 10, 11, 12, 13)  0.112721  27.131002  \n",
       "16  (0, 1, 2, 3, 5, 7, 8, 9, 10, 11, 12, 13)  0.112811  27.149978  \n",
       "17  (0, 1, 2, 3, 5, 7, 8, 9, 10, 11, 12, 13)  0.113065  27.570124  \n",
       "19  (0, 1, 2, 3, 5, 7, 8, 9, 10, 11, 12, 13)   0.11344  27.585593  \n",
       "12         (0, 1, 2, 3, 5, 7, 8, 10, 11, 13)  0.101221   35.03987  \n",
       "10         (0, 1, 2, 3, 5, 7, 8, 10, 11, 13)   0.10076  35.050506  \n",
       "14         (0, 1, 2, 3, 5, 7, 8, 10, 11, 13)   0.10119  35.516068  \n",
       "13         (0, 1, 2, 3, 5, 7, 8, 10, 11, 13)  0.100826  35.557399  \n",
       "11         (0, 1, 2, 3, 5, 7, 8, 10, 11, 13)   0.10092  35.995445  "
      ]
     },
     "execution_count": 11,
     "metadata": {},
     "output_type": "execute_result"
    }
   ],
   "source": [
    "resultados.sort_values(by ='Tiempo', ascending =True).head(10)"
   ]
  },
  {
   "cell_type": "markdown",
   "id": "ec1c5817",
   "metadata": {
    "papermill": {
     "duration": 0.011642,
     "end_time": "2022-10-27T16:47:27.399319",
     "exception": false,
     "start_time": "2022-10-27T16:47:27.387677",
     "status": "completed"
    },
    "tags": []
   },
   "source": [
    "# Función para el entrenamiento de los modelos"
   ]
  },
  {
   "cell_type": "code",
   "execution_count": 12,
   "id": "57afa442",
   "metadata": {
    "execution": {
     "iopub.execute_input": "2022-10-27T16:47:27.425545Z",
     "iopub.status.busy": "2022-10-27T16:47:27.424653Z",
     "iopub.status.idle": "2022-10-27T16:47:27.432887Z",
     "shell.execute_reply": "2022-10-27T16:47:27.431683Z"
    },
    "papermill": {
     "duration": 0.023911,
     "end_time": "2022-10-27T16:47:27.435177",
     "exception": false,
     "start_time": "2022-10-27T16:47:27.411266",
     "status": "completed"
    },
    "tags": []
   },
   "outputs": [],
   "source": [
    "def entrenarModelo(model, Xtrain,Ytrain,Xtest,Ytest,Xreal,Yreal):\n",
    "    model.fit(X=Xtrain,y=Ytrain)\n",
    "    Ypred=model.predict(Xtest)\n",
    "    ## Rendimiento del entrenamiento del modelo\n",
    "    print(\"#####################Rendimiento después del entrenamiento#########################\")\n",
    "    print(f'Model: {str(model)}')\n",
    "    print(f'Accuracy Score: {accuracy_score(Ytest,Ypred)}')\n",
    "    print(f'Precission Score: {precision_score(Ytest,Ypred)}')\n",
    "    print(f'Recall Score: {recall_score(Ytest,Ypred)}')\n",
    "    print(f'F1-Score: {f1_score(Ytest,Ypred)}')\n",
    "    ## Rendimiento del modelo con los datos reales\n",
    "    print(\"######################Rendimiento con los datos reales##############################\")\n",
    "    y_pred=model.predict(Xreal)\n",
    "    print(\"Accuracy:\",accuracy_score(Yreal, y_pred))\n",
    "    print(f'Precission Score: {precision_score(Yreal,y_pred)}')\n",
    "    print(f'Recall Score: {recall_score(Yreal,y_pred)}')\n",
    "    print(f'F1-Score: {f1_score(Yreal,y_pred)}')"
   ]
  },
  {
   "cell_type": "markdown",
   "id": "d65d3cfb",
   "metadata": {
    "papermill": {
     "duration": 0.011693,
     "end_time": "2022-10-27T16:47:27.458975",
     "exception": false,
     "start_time": "2022-10-27T16:47:27.447282",
     "status": "completed"
    },
    "tags": []
   },
   "source": [
    "# Función para seleccionar la data\n",
    "Esta función se encarga de extraer del dataframe original las caracteríticas seleccionadas a través de sus índices, para luego entrenar el modelo solo con esas caracteríticas seleccionadas"
   ]
  },
  {
   "cell_type": "code",
   "execution_count": 13,
   "id": "13f51b54",
   "metadata": {
    "execution": {
     "iopub.execute_input": "2022-10-27T16:47:27.484795Z",
     "iopub.status.busy": "2022-10-27T16:47:27.484417Z",
     "iopub.status.idle": "2022-10-27T16:47:27.489927Z",
     "shell.execute_reply": "2022-10-27T16:47:27.488672Z"
    },
    "papermill": {
     "duration": 0.021393,
     "end_time": "2022-10-27T16:47:27.492596",
     "exception": false,
     "start_time": "2022-10-27T16:47:27.471203",
     "status": "completed"
    },
    "tags": []
   },
   "outputs": [],
   "source": [
    "def select_data(data,index):\n",
    "    return data.iloc[:,index]"
   ]
  },
  {
   "cell_type": "markdown",
   "id": "8fcf9a34",
   "metadata": {
    "papermill": {
     "duration": 0.01209,
     "end_time": "2022-10-27T16:47:27.517191",
     "exception": false,
     "start_time": "2022-10-27T16:47:27.505101",
     "status": "completed"
    },
    "tags": []
   },
   "source": [
    "# Función para particionar los datos\n",
    "Partimos los datos en train y test en una proporción 70-30. 70% de los datos para entrenar el modelo y 30% de los datos para la validación del mismo."
   ]
  },
  {
   "cell_type": "code",
   "execution_count": 14,
   "id": "2e75b9bf",
   "metadata": {
    "execution": {
     "iopub.execute_input": "2022-10-27T16:47:27.543657Z",
     "iopub.status.busy": "2022-10-27T16:47:27.543274Z",
     "iopub.status.idle": "2022-10-27T16:47:27.548623Z",
     "shell.execute_reply": "2022-10-27T16:47:27.547635Z"
    },
    "papermill": {
     "duration": 0.021303,
     "end_time": "2022-10-27T16:47:27.550912",
     "exception": false,
     "start_time": "2022-10-27T16:47:27.529609",
     "status": "completed"
    },
    "tags": []
   },
   "outputs": [],
   "source": [
    "def split_data(X,Y):\n",
    "    return train_test_split(X,Y,test_size=0.3,random_state=50)"
   ]
  },
  {
   "cell_type": "markdown",
   "id": "bdfa106f",
   "metadata": {
    "papermill": {
     "duration": 0.011645,
     "end_time": "2022-10-27T16:47:27.574802",
     "exception": false,
     "start_time": "2022-10-27T16:47:27.563157",
     "status": "completed"
    },
    "tags": []
   },
   "source": [
    "# Cargamos la data real"
   ]
  },
  {
   "cell_type": "code",
   "execution_count": 15,
   "id": "36acf8c9",
   "metadata": {
    "execution": {
     "iopub.execute_input": "2022-10-27T16:47:27.600621Z",
     "iopub.status.busy": "2022-10-27T16:47:27.600244Z",
     "iopub.status.idle": "2022-10-27T16:47:27.626172Z",
     "shell.execute_reply": "2022-10-27T16:47:27.624975Z"
    },
    "papermill": {
     "duration": 0.041879,
     "end_time": "2022-10-27T16:47:27.628641",
     "exception": false,
     "start_time": "2022-10-27T16:47:27.586762",
     "status": "completed"
    },
    "tags": []
   },
   "outputs": [
    {
     "data": {
      "text/html": [
       "<div>\n",
       "<style scoped>\n",
       "    .dataframe tbody tr th:only-of-type {\n",
       "        vertical-align: middle;\n",
       "    }\n",
       "\n",
       "    .dataframe tbody tr th {\n",
       "        vertical-align: top;\n",
       "    }\n",
       "\n",
       "    .dataframe thead th {\n",
       "        text-align: right;\n",
       "    }\n",
       "</style>\n",
       "<table border=\"1\" class=\"dataframe\">\n",
       "  <thead>\n",
       "    <tr style=\"text-align: right;\">\n",
       "      <th></th>\n",
       "      <th>HeartDisease</th>\n",
       "      <th>BMI</th>\n",
       "      <th>Smoking</th>\n",
       "      <th>AlcoholDrinking</th>\n",
       "      <th>Stroke</th>\n",
       "      <th>PhysicalHealth</th>\n",
       "      <th>MentalHealth</th>\n",
       "      <th>DiffWalking</th>\n",
       "      <th>Sex</th>\n",
       "      <th>AgeCategory</th>\n",
       "      <th>Diabetic</th>\n",
       "      <th>PhysicalActivity</th>\n",
       "      <th>GenHealth</th>\n",
       "      <th>SleepTime</th>\n",
       "      <th>Asthma</th>\n",
       "      <th>KidneyDisease</th>\n",
       "      <th>SkinCancer</th>\n",
       "    </tr>\n",
       "  </thead>\n",
       "  <tbody>\n",
       "    <tr>\n",
       "      <th>0</th>\n",
       "      <td>0</td>\n",
       "      <td>19,7</td>\n",
       "      <td>0</td>\n",
       "      <td>0</td>\n",
       "      <td>0</td>\n",
       "      <td>0</td>\n",
       "      <td>0</td>\n",
       "      <td>0</td>\n",
       "      <td>8</td>\n",
       "      <td>10</td>\n",
       "      <td>0</td>\n",
       "      <td>0</td>\n",
       "      <td>5</td>\n",
       "      <td>6</td>\n",
       "      <td>0</td>\n",
       "      <td>0</td>\n",
       "      <td>0</td>\n",
       "    </tr>\n",
       "    <tr>\n",
       "      <th>1</th>\n",
       "      <td>0</td>\n",
       "      <td>22,8</td>\n",
       "      <td>0</td>\n",
       "      <td>0</td>\n",
       "      <td>0</td>\n",
       "      <td>0</td>\n",
       "      <td>0</td>\n",
       "      <td>0</td>\n",
       "      <td>8</td>\n",
       "      <td>10</td>\n",
       "      <td>0</td>\n",
       "      <td>1</td>\n",
       "      <td>5</td>\n",
       "      <td>6</td>\n",
       "      <td>1</td>\n",
       "      <td>0</td>\n",
       "      <td>0</td>\n",
       "    </tr>\n",
       "    <tr>\n",
       "      <th>2</th>\n",
       "      <td>1</td>\n",
       "      <td>28,8</td>\n",
       "      <td>1</td>\n",
       "      <td>0</td>\n",
       "      <td>1</td>\n",
       "      <td>25</td>\n",
       "      <td>28</td>\n",
       "      <td>1</td>\n",
       "      <td>9</td>\n",
       "      <td>20</td>\n",
       "      <td>1</td>\n",
       "      <td>0</td>\n",
       "      <td>3</td>\n",
       "      <td>9</td>\n",
       "      <td>0</td>\n",
       "      <td>1</td>\n",
       "      <td>0</td>\n",
       "    </tr>\n",
       "    <tr>\n",
       "      <th>3</th>\n",
       "      <td>0</td>\n",
       "      <td>23</td>\n",
       "      <td>0</td>\n",
       "      <td>0</td>\n",
       "      <td>0</td>\n",
       "      <td>0</td>\n",
       "      <td>0</td>\n",
       "      <td>0</td>\n",
       "      <td>9</td>\n",
       "      <td>10</td>\n",
       "      <td>0</td>\n",
       "      <td>0</td>\n",
       "      <td>6</td>\n",
       "      <td>6</td>\n",
       "      <td>0</td>\n",
       "      <td>0</td>\n",
       "      <td>0</td>\n",
       "    </tr>\n",
       "    <tr>\n",
       "      <th>4</th>\n",
       "      <td>1</td>\n",
       "      <td>32,4</td>\n",
       "      <td>0</td>\n",
       "      <td>1</td>\n",
       "      <td>1</td>\n",
       "      <td>30</td>\n",
       "      <td>15</td>\n",
       "      <td>1</td>\n",
       "      <td>8</td>\n",
       "      <td>18</td>\n",
       "      <td>1</td>\n",
       "      <td>0</td>\n",
       "      <td>4</td>\n",
       "      <td>4</td>\n",
       "      <td>1</td>\n",
       "      <td>1</td>\n",
       "      <td>1</td>\n",
       "    </tr>\n",
       "  </tbody>\n",
       "</table>\n",
       "</div>"
      ],
      "text/plain": [
       "   HeartDisease   BMI  Smoking  AlcoholDrinking  Stroke  PhysicalHealth  \\\n",
       "0             0  19,7        0                0       0               0   \n",
       "1             0  22,8        0                0       0               0   \n",
       "2             1  28,8        1                0       1              25   \n",
       "3             0    23        0                0       0               0   \n",
       "4             1  32,4        0                1       1              30   \n",
       "\n",
       "   MentalHealth  DiffWalking  Sex  AgeCategory  Diabetic  PhysicalActivity  \\\n",
       "0             0            0    8           10         0                 0   \n",
       "1             0            0    8           10         0                 1   \n",
       "2            28            1    9           20         1                 0   \n",
       "3             0            0    9           10         0                 0   \n",
       "4            15            1    8           18         1                 0   \n",
       "\n",
       "   GenHealth  SleepTime  Asthma  KidneyDisease  SkinCancer  \n",
       "0          5          6       0              0           0  \n",
       "1          5          6       1              0           0  \n",
       "2          3          9       0              1           0  \n",
       "3          6          6       0              0           0  \n",
       "4          4          4       1              1           1  "
      ]
     },
     "execution_count": 15,
     "metadata": {},
     "output_type": "execute_result"
    }
   ],
   "source": [
    "data_real=pd.read_csv('/kaggle/input/datosreales/DatosReales.csv')\n",
    "data_real.head()"
   ]
  },
  {
   "cell_type": "code",
   "execution_count": 16,
   "id": "6f3c5186",
   "metadata": {
    "execution": {
     "iopub.execute_input": "2022-10-27T16:47:27.655646Z",
     "iopub.status.busy": "2022-10-27T16:47:27.655273Z",
     "iopub.status.idle": "2022-10-27T16:47:27.661951Z",
     "shell.execute_reply": "2022-10-27T16:47:27.660612Z"
    },
    "papermill": {
     "duration": 0.022731,
     "end_time": "2022-10-27T16:47:27.664148",
     "exception": false,
     "start_time": "2022-10-27T16:47:27.641417",
     "status": "completed"
    },
    "tags": []
   },
   "outputs": [],
   "source": [
    "X_real=data_real.iloc[:,1:]\n",
    "Y_real=data_real.iloc[:,0]\n",
    "X_real[\"BMI\"] = encoder.fit_transform(X_real[\"BMI\"])"
   ]
  },
  {
   "cell_type": "markdown",
   "id": "8cb8201b",
   "metadata": {
    "papermill": {
     "duration": 0.01213,
     "end_time": "2022-10-27T16:47:27.688716",
     "exception": false,
     "start_time": "2022-10-27T16:47:27.676586",
     "status": "completed"
    },
    "tags": []
   },
   "source": [
    "# Entrenamiento del modelo con 4 características seleccionadas"
   ]
  },
  {
   "cell_type": "code",
   "execution_count": 17,
   "id": "5d5162cb",
   "metadata": {
    "execution": {
     "iopub.execute_input": "2022-10-27T16:47:27.715108Z",
     "iopub.status.busy": "2022-10-27T16:47:27.714704Z",
     "iopub.status.idle": "2022-10-27T16:47:27.731145Z",
     "shell.execute_reply": "2022-10-27T16:47:27.729884Z"
    },
    "papermill": {
     "duration": 0.03251,
     "end_time": "2022-10-27T16:47:27.733613",
     "exception": false,
     "start_time": "2022-10-27T16:47:27.701103",
     "status": "completed"
    },
    "tags": []
   },
   "outputs": [
    {
     "data": {
      "text/html": [
       "<div>\n",
       "<style scoped>\n",
       "    .dataframe tbody tr th:only-of-type {\n",
       "        vertical-align: middle;\n",
       "    }\n",
       "\n",
       "    .dataframe tbody tr th {\n",
       "        vertical-align: top;\n",
       "    }\n",
       "\n",
       "    .dataframe thead th {\n",
       "        text-align: right;\n",
       "    }\n",
       "</style>\n",
       "<table border=\"1\" class=\"dataframe\">\n",
       "  <thead>\n",
       "    <tr style=\"text-align: right;\">\n",
       "      <th></th>\n",
       "      <th>Smoking</th>\n",
       "      <th>AlcoholDrinking</th>\n",
       "      <th>Sex</th>\n",
       "      <th>AgeCategory</th>\n",
       "    </tr>\n",
       "  </thead>\n",
       "  <tbody>\n",
       "    <tr>\n",
       "      <th>0</th>\n",
       "      <td>1.193474</td>\n",
       "      <td>-0.27032</td>\n",
       "      <td>-0.951711</td>\n",
       "      <td>0.136184</td>\n",
       "    </tr>\n",
       "    <tr>\n",
       "      <th>1</th>\n",
       "      <td>-0.837890</td>\n",
       "      <td>-0.27032</td>\n",
       "      <td>-0.951711</td>\n",
       "      <td>1.538806</td>\n",
       "    </tr>\n",
       "    <tr>\n",
       "      <th>2</th>\n",
       "      <td>1.193474</td>\n",
       "      <td>-0.27032</td>\n",
       "      <td>1.050739</td>\n",
       "      <td>0.697233</td>\n",
       "    </tr>\n",
       "    <tr>\n",
       "      <th>3</th>\n",
       "      <td>-0.837890</td>\n",
       "      <td>-0.27032</td>\n",
       "      <td>-0.951711</td>\n",
       "      <td>1.258282</td>\n",
       "    </tr>\n",
       "    <tr>\n",
       "      <th>4</th>\n",
       "      <td>-0.837890</td>\n",
       "      <td>-0.27032</td>\n",
       "      <td>-0.951711</td>\n",
       "      <td>-0.705388</td>\n",
       "    </tr>\n",
       "  </tbody>\n",
       "</table>\n",
       "</div>"
      ],
      "text/plain": [
       "    Smoking  AlcoholDrinking       Sex  AgeCategory\n",
       "0  1.193474         -0.27032 -0.951711     0.136184\n",
       "1 -0.837890         -0.27032 -0.951711     1.538806\n",
       "2  1.193474         -0.27032  1.050739     0.697233\n",
       "3 -0.837890         -0.27032 -0.951711     1.258282\n",
       "4 -0.837890         -0.27032 -0.951711    -0.705388"
      ]
     },
     "execution_count": 17,
     "metadata": {},
     "output_type": "execute_result"
    }
   ],
   "source": [
    "selected_data=select_data(scaled_data,np.array(resultados[\"Index Features\"][0]))\n",
    "selected_data.head()"
   ]
  },
  {
   "cell_type": "code",
   "execution_count": 18,
   "id": "26f992db",
   "metadata": {
    "execution": {
     "iopub.execute_input": "2022-10-27T16:47:27.761219Z",
     "iopub.status.busy": "2022-10-27T16:47:27.760826Z",
     "iopub.status.idle": "2022-10-27T16:47:27.804372Z",
     "shell.execute_reply": "2022-10-27T16:47:27.803075Z"
    },
    "papermill": {
     "duration": 0.060432,
     "end_time": "2022-10-27T16:47:27.807108",
     "exception": false,
     "start_time": "2022-10-27T16:47:27.746676",
     "status": "completed"
    },
    "tags": []
   },
   "outputs": [],
   "source": [
    "X_train,X_test,y_train,y_test=split_data(selected_data,Y)"
   ]
  },
  {
   "cell_type": "code",
   "execution_count": 19,
   "id": "79438f52",
   "metadata": {
    "execution": {
     "iopub.execute_input": "2022-10-27T16:47:27.834581Z",
     "iopub.status.busy": "2022-10-27T16:47:27.834203Z",
     "iopub.status.idle": "2022-10-27T16:47:27.841049Z",
     "shell.execute_reply": "2022-10-27T16:47:27.839806Z"
    },
    "papermill": {
     "duration": 0.023651,
     "end_time": "2022-10-27T16:47:27.843416",
     "exception": false,
     "start_time": "2022-10-27T16:47:27.819765",
     "status": "completed"
    },
    "tags": []
   },
   "outputs": [],
   "source": [
    "X_real_seleccionada=select_data(X_real,np.array(resultados[\"Index Features\"][0]))"
   ]
  },
  {
   "cell_type": "code",
   "execution_count": 20,
   "id": "2c5bf135",
   "metadata": {
    "execution": {
     "iopub.execute_input": "2022-10-27T16:47:27.870993Z",
     "iopub.status.busy": "2022-10-27T16:47:27.870581Z",
     "iopub.status.idle": "2022-10-27T16:47:28.135240Z",
     "shell.execute_reply": "2022-10-27T16:47:28.133658Z"
    },
    "papermill": {
     "duration": 0.281136,
     "end_time": "2022-10-27T16:47:28.137608",
     "exception": false,
     "start_time": "2022-10-27T16:47:27.856472",
     "status": "completed"
    },
    "tags": []
   },
   "outputs": [
    {
     "name": "stdout",
     "output_type": "stream",
     "text": [
      "#####################Rendimiento después del entrenamiento#########################\n",
      "Model: QuadraticDiscriminantAnalysis()\n",
      "Accuracy Score: 0.9151439977485694\n",
      "Precission Score: 0.0\n",
      "Recall Score: 0.0\n",
      "F1-Score: 0.0\n",
      "######################Rendimiento con los datos reales##############################\n",
      "Accuracy: 0.5333333333333333\n",
      "Precission Score: 0.0\n",
      "Recall Score: 0.0\n",
      "F1-Score: 0.0\n"
     ]
    },
    {
     "name": "stderr",
     "output_type": "stream",
     "text": [
      "/opt/conda/lib/python3.7/site-packages/sklearn/metrics/_classification.py:1318: UndefinedMetricWarning: Precision is ill-defined and being set to 0.0 due to no predicted samples. Use `zero_division` parameter to control this behavior.\n",
      "  _warn_prf(average, modifier, msg_start, len(result))\n",
      "/opt/conda/lib/python3.7/site-packages/sklearn/metrics/_classification.py:1318: UndefinedMetricWarning: Precision is ill-defined and being set to 0.0 due to no predicted samples. Use `zero_division` parameter to control this behavior.\n",
      "  _warn_prf(average, modifier, msg_start, len(result))\n"
     ]
    }
   ],
   "source": [
    "entrenarModelo(QuadraticDiscriminantAnalysis(),X_train,y_train,X_test,y_test,X_real_seleccionada,Y_real)"
   ]
  },
  {
   "cell_type": "markdown",
   "id": "c3e683c3",
   "metadata": {
    "papermill": {
     "duration": 0.013149,
     "end_time": "2022-10-27T16:47:28.163620",
     "exception": false,
     "start_time": "2022-10-27T16:47:28.150471",
     "status": "completed"
    },
    "tags": []
   },
   "source": [
    "# Entrenamiento del modelo con 6 características seleccionadas"
   ]
  },
  {
   "cell_type": "code",
   "execution_count": 21,
   "id": "b4ae2499",
   "metadata": {
    "execution": {
     "iopub.execute_input": "2022-10-27T16:47:28.190914Z",
     "iopub.status.busy": "2022-10-27T16:47:28.190507Z",
     "iopub.status.idle": "2022-10-27T16:47:28.209363Z",
     "shell.execute_reply": "2022-10-27T16:47:28.207865Z"
    },
    "papermill": {
     "duration": 0.035119,
     "end_time": "2022-10-27T16:47:28.211601",
     "exception": false,
     "start_time": "2022-10-27T16:47:28.176482",
     "status": "completed"
    },
    "tags": []
   },
   "outputs": [
    {
     "data": {
      "text/html": [
       "<div>\n",
       "<style scoped>\n",
       "    .dataframe tbody tr th:only-of-type {\n",
       "        vertical-align: middle;\n",
       "    }\n",
       "\n",
       "    .dataframe tbody tr th {\n",
       "        vertical-align: top;\n",
       "    }\n",
       "\n",
       "    .dataframe thead th {\n",
       "        text-align: right;\n",
       "    }\n",
       "</style>\n",
       "<table border=\"1\" class=\"dataframe\">\n",
       "  <thead>\n",
       "    <tr style=\"text-align: right;\">\n",
       "      <th></th>\n",
       "      <th>BMI</th>\n",
       "      <th>Smoking</th>\n",
       "      <th>AlcoholDrinking</th>\n",
       "      <th>Sex</th>\n",
       "      <th>AgeCategory</th>\n",
       "      <th>PhysicalActivity</th>\n",
       "    </tr>\n",
       "  </thead>\n",
       "  <tbody>\n",
       "    <tr>\n",
       "      <th>0</th>\n",
       "      <td>-1.844750</td>\n",
       "      <td>1.193474</td>\n",
       "      <td>-0.27032</td>\n",
       "      <td>-0.951711</td>\n",
       "      <td>0.136184</td>\n",
       "      <td>0.538256</td>\n",
       "    </tr>\n",
       "    <tr>\n",
       "      <th>1</th>\n",
       "      <td>-1.256338</td>\n",
       "      <td>-0.837890</td>\n",
       "      <td>-0.27032</td>\n",
       "      <td>-0.951711</td>\n",
       "      <td>1.538806</td>\n",
       "      <td>0.538256</td>\n",
       "    </tr>\n",
       "    <tr>\n",
       "      <th>2</th>\n",
       "      <td>-0.274603</td>\n",
       "      <td>1.193474</td>\n",
       "      <td>-0.27032</td>\n",
       "      <td>1.050739</td>\n",
       "      <td>0.697233</td>\n",
       "      <td>0.538256</td>\n",
       "    </tr>\n",
       "    <tr>\n",
       "      <th>3</th>\n",
       "      <td>-0.647473</td>\n",
       "      <td>-0.837890</td>\n",
       "      <td>-0.27032</td>\n",
       "      <td>-0.951711</td>\n",
       "      <td>1.258282</td>\n",
       "      <td>-1.857852</td>\n",
       "    </tr>\n",
       "    <tr>\n",
       "      <th>4</th>\n",
       "      <td>-0.726138</td>\n",
       "      <td>-0.837890</td>\n",
       "      <td>-0.27032</td>\n",
       "      <td>-0.951711</td>\n",
       "      <td>-0.705388</td>\n",
       "      <td>0.538256</td>\n",
       "    </tr>\n",
       "  </tbody>\n",
       "</table>\n",
       "</div>"
      ],
      "text/plain": [
       "        BMI   Smoking  AlcoholDrinking       Sex  AgeCategory  \\\n",
       "0 -1.844750  1.193474         -0.27032 -0.951711     0.136184   \n",
       "1 -1.256338 -0.837890         -0.27032 -0.951711     1.538806   \n",
       "2 -0.274603  1.193474         -0.27032  1.050739     0.697233   \n",
       "3 -0.647473 -0.837890         -0.27032 -0.951711     1.258282   \n",
       "4 -0.726138 -0.837890         -0.27032 -0.951711    -0.705388   \n",
       "\n",
       "   PhysicalActivity  \n",
       "0          0.538256  \n",
       "1          0.538256  \n",
       "2          0.538256  \n",
       "3         -1.857852  \n",
       "4          0.538256  "
      ]
     },
     "execution_count": 21,
     "metadata": {},
     "output_type": "execute_result"
    }
   ],
   "source": [
    "selected_data=select_data(scaled_data,np.array(resultados[\"Index Features\"][5]))\n",
    "selected_data.head()"
   ]
  },
  {
   "cell_type": "code",
   "execution_count": 22,
   "id": "9cedf0cb",
   "metadata": {
    "execution": {
     "iopub.execute_input": "2022-10-27T16:47:28.239023Z",
     "iopub.status.busy": "2022-10-27T16:47:28.238594Z",
     "iopub.status.idle": "2022-10-27T16:47:28.284712Z",
     "shell.execute_reply": "2022-10-27T16:47:28.283443Z"
    },
    "papermill": {
     "duration": 0.062778,
     "end_time": "2022-10-27T16:47:28.287286",
     "exception": false,
     "start_time": "2022-10-27T16:47:28.224508",
     "status": "completed"
    },
    "tags": []
   },
   "outputs": [],
   "source": [
    "X_train,X_test,y_train,y_test=split_data(selected_data,Y)"
   ]
  },
  {
   "cell_type": "code",
   "execution_count": 23,
   "id": "3d883544",
   "metadata": {
    "execution": {
     "iopub.execute_input": "2022-10-27T16:47:28.315231Z",
     "iopub.status.busy": "2022-10-27T16:47:28.314816Z",
     "iopub.status.idle": "2022-10-27T16:47:28.320864Z",
     "shell.execute_reply": "2022-10-27T16:47:28.319711Z"
    },
    "papermill": {
     "duration": 0.022625,
     "end_time": "2022-10-27T16:47:28.323184",
     "exception": false,
     "start_time": "2022-10-27T16:47:28.300559",
     "status": "completed"
    },
    "tags": []
   },
   "outputs": [],
   "source": [
    "X_real_seleccionada=select_data(X_real,np.array(resultados[\"Index Features\"][5]))"
   ]
  },
  {
   "cell_type": "code",
   "execution_count": 24,
   "id": "c84d3a2a",
   "metadata": {
    "execution": {
     "iopub.execute_input": "2022-10-27T16:47:28.350794Z",
     "iopub.status.busy": "2022-10-27T16:47:28.350402Z",
     "iopub.status.idle": "2022-10-27T16:47:28.651094Z",
     "shell.execute_reply": "2022-10-27T16:47:28.649765Z"
    },
    "papermill": {
     "duration": 0.31815,
     "end_time": "2022-10-27T16:47:28.654383",
     "exception": false,
     "start_time": "2022-10-27T16:47:28.336233",
     "status": "completed"
    },
    "tags": []
   },
   "outputs": [
    {
     "name": "stdout",
     "output_type": "stream",
     "text": [
      "#####################Rendimiento después del entrenamiento#########################\n",
      "Model: QuadraticDiscriminantAnalysis()\n",
      "Accuracy Score: 0.9124235191111019\n",
      "Precission Score: 0.2698412698412698\n",
      "Recall Score: 0.018793759980346395\n",
      "F1-Score: 0.03514010105649977\n",
      "######################Rendimiento con los datos reales##############################\n",
      "Accuracy: 0.5333333333333333\n",
      "Precission Score: 0.0\n",
      "Recall Score: 0.0\n",
      "F1-Score: 0.0\n"
     ]
    },
    {
     "name": "stderr",
     "output_type": "stream",
     "text": [
      "/opt/conda/lib/python3.7/site-packages/sklearn/metrics/_classification.py:1318: UndefinedMetricWarning: Precision is ill-defined and being set to 0.0 due to no predicted samples. Use `zero_division` parameter to control this behavior.\n",
      "  _warn_prf(average, modifier, msg_start, len(result))\n"
     ]
    }
   ],
   "source": [
    "entrenarModelo(QuadraticDiscriminantAnalysis(),X_train,y_train,X_test,y_test,X_real_seleccionada,Y_real)"
   ]
  },
  {
   "cell_type": "markdown",
   "id": "87dfa5e1",
   "metadata": {
    "papermill": {
     "duration": 0.012904,
     "end_time": "2022-10-27T16:47:28.680558",
     "exception": false,
     "start_time": "2022-10-27T16:47:28.667654",
     "status": "completed"
    },
    "tags": []
   },
   "source": [
    "# Entrenamiento del modelo con 10 características seleccionadas"
   ]
  },
  {
   "cell_type": "code",
   "execution_count": 25,
   "id": "b1a7bae3",
   "metadata": {
    "execution": {
     "iopub.execute_input": "2022-10-27T16:47:28.709326Z",
     "iopub.status.busy": "2022-10-27T16:47:28.708065Z",
     "iopub.status.idle": "2022-10-27T16:47:28.731029Z",
     "shell.execute_reply": "2022-10-27T16:47:28.729859Z"
    },
    "papermill": {
     "duration": 0.040059,
     "end_time": "2022-10-27T16:47:28.733701",
     "exception": false,
     "start_time": "2022-10-27T16:47:28.693642",
     "status": "completed"
    },
    "tags": []
   },
   "outputs": [
    {
     "data": {
      "text/html": [
       "<div>\n",
       "<style scoped>\n",
       "    .dataframe tbody tr th:only-of-type {\n",
       "        vertical-align: middle;\n",
       "    }\n",
       "\n",
       "    .dataframe tbody tr th {\n",
       "        vertical-align: top;\n",
       "    }\n",
       "\n",
       "    .dataframe thead th {\n",
       "        text-align: right;\n",
       "    }\n",
       "</style>\n",
       "<table border=\"1\" class=\"dataframe\">\n",
       "  <thead>\n",
       "    <tr style=\"text-align: right;\">\n",
       "      <th></th>\n",
       "      <th>BMI</th>\n",
       "      <th>Smoking</th>\n",
       "      <th>AlcoholDrinking</th>\n",
       "      <th>Stroke</th>\n",
       "      <th>MentalHealth</th>\n",
       "      <th>Sex</th>\n",
       "      <th>AgeCategory</th>\n",
       "      <th>PhysicalActivity</th>\n",
       "      <th>GenHealth</th>\n",
       "      <th>Asthma</th>\n",
       "    </tr>\n",
       "  </thead>\n",
       "  <tbody>\n",
       "    <tr>\n",
       "      <th>0</th>\n",
       "      <td>-1.844750</td>\n",
       "      <td>1.193474</td>\n",
       "      <td>-0.27032</td>\n",
       "      <td>-0.198040</td>\n",
       "      <td>3.281069</td>\n",
       "      <td>-0.951711</td>\n",
       "      <td>0.136184</td>\n",
       "      <td>0.538256</td>\n",
       "      <td>0.388307</td>\n",
       "      <td>2.541515</td>\n",
       "    </tr>\n",
       "    <tr>\n",
       "      <th>1</th>\n",
       "      <td>-1.256338</td>\n",
       "      <td>-0.837890</td>\n",
       "      <td>-0.27032</td>\n",
       "      <td>5.049478</td>\n",
       "      <td>-0.490039</td>\n",
       "      <td>-0.951711</td>\n",
       "      <td>1.538806</td>\n",
       "      <td>0.538256</td>\n",
       "      <td>0.388307</td>\n",
       "      <td>-0.393466</td>\n",
       "    </tr>\n",
       "    <tr>\n",
       "      <th>2</th>\n",
       "      <td>-0.274603</td>\n",
       "      <td>1.193474</td>\n",
       "      <td>-0.27032</td>\n",
       "      <td>-0.198040</td>\n",
       "      <td>3.281069</td>\n",
       "      <td>1.050739</td>\n",
       "      <td>0.697233</td>\n",
       "      <td>0.538256</td>\n",
       "      <td>-1.529392</td>\n",
       "      <td>2.541515</td>\n",
       "    </tr>\n",
       "    <tr>\n",
       "      <th>3</th>\n",
       "      <td>-0.647473</td>\n",
       "      <td>-0.837890</td>\n",
       "      <td>-0.27032</td>\n",
       "      <td>-0.198040</td>\n",
       "      <td>-0.490039</td>\n",
       "      <td>-0.951711</td>\n",
       "      <td>1.258282</td>\n",
       "      <td>-1.857852</td>\n",
       "      <td>-0.570542</td>\n",
       "      <td>-0.393466</td>\n",
       "    </tr>\n",
       "    <tr>\n",
       "      <th>4</th>\n",
       "      <td>-0.726138</td>\n",
       "      <td>-0.837890</td>\n",
       "      <td>-0.27032</td>\n",
       "      <td>-0.198040</td>\n",
       "      <td>-0.490039</td>\n",
       "      <td>-0.951711</td>\n",
       "      <td>-0.705388</td>\n",
       "      <td>0.538256</td>\n",
       "      <td>0.388307</td>\n",
       "      <td>-0.393466</td>\n",
       "    </tr>\n",
       "  </tbody>\n",
       "</table>\n",
       "</div>"
      ],
      "text/plain": [
       "        BMI   Smoking  AlcoholDrinking    Stroke  MentalHealth       Sex  \\\n",
       "0 -1.844750  1.193474         -0.27032 -0.198040      3.281069 -0.951711   \n",
       "1 -1.256338 -0.837890         -0.27032  5.049478     -0.490039 -0.951711   \n",
       "2 -0.274603  1.193474         -0.27032 -0.198040      3.281069  1.050739   \n",
       "3 -0.647473 -0.837890         -0.27032 -0.198040     -0.490039 -0.951711   \n",
       "4 -0.726138 -0.837890         -0.27032 -0.198040     -0.490039 -0.951711   \n",
       "\n",
       "   AgeCategory  PhysicalActivity  GenHealth    Asthma  \n",
       "0     0.136184          0.538256   0.388307  2.541515  \n",
       "1     1.538806          0.538256   0.388307 -0.393466  \n",
       "2     0.697233          0.538256  -1.529392  2.541515  \n",
       "3     1.258282         -1.857852  -0.570542 -0.393466  \n",
       "4    -0.705388          0.538256   0.388307 -0.393466  "
      ]
     },
     "execution_count": 25,
     "metadata": {},
     "output_type": "execute_result"
    }
   ],
   "source": [
    "selected_data=select_data(scaled_data,np.array(resultados[\"Index Features\"][10]))\n",
    "selected_data.head()"
   ]
  },
  {
   "cell_type": "code",
   "execution_count": 26,
   "id": "bf7dc58a",
   "metadata": {
    "execution": {
     "iopub.execute_input": "2022-10-27T16:47:28.762646Z",
     "iopub.status.busy": "2022-10-27T16:47:28.761449Z",
     "iopub.status.idle": "2022-10-27T16:47:28.819932Z",
     "shell.execute_reply": "2022-10-27T16:47:28.818493Z"
    },
    "papermill": {
     "duration": 0.075773,
     "end_time": "2022-10-27T16:47:28.822727",
     "exception": false,
     "start_time": "2022-10-27T16:47:28.746954",
     "status": "completed"
    },
    "tags": []
   },
   "outputs": [],
   "source": [
    "X_train,X_test,y_train,y_test=split_data(selected_data,Y)"
   ]
  },
  {
   "cell_type": "code",
   "execution_count": 27,
   "id": "68ef79c7",
   "metadata": {
    "execution": {
     "iopub.execute_input": "2022-10-27T16:47:28.851956Z",
     "iopub.status.busy": "2022-10-27T16:47:28.851194Z",
     "iopub.status.idle": "2022-10-27T16:47:28.856997Z",
     "shell.execute_reply": "2022-10-27T16:47:28.856125Z"
    },
    "papermill": {
     "duration": 0.023145,
     "end_time": "2022-10-27T16:47:28.859525",
     "exception": false,
     "start_time": "2022-10-27T16:47:28.836380",
     "status": "completed"
    },
    "tags": []
   },
   "outputs": [],
   "source": [
    "X_real_seleccionada=select_data(X_real,np.array(resultados[\"Index Features\"][10]))"
   ]
  },
  {
   "cell_type": "code",
   "execution_count": 28,
   "id": "a842c63c",
   "metadata": {
    "execution": {
     "iopub.execute_input": "2022-10-27T16:47:28.888976Z",
     "iopub.status.busy": "2022-10-27T16:47:28.888200Z",
     "iopub.status.idle": "2022-10-27T16:47:29.247240Z",
     "shell.execute_reply": "2022-10-27T16:47:29.245515Z"
    },
    "papermill": {
     "duration": 0.376618,
     "end_time": "2022-10-27T16:47:29.249745",
     "exception": false,
     "start_time": "2022-10-27T16:47:28.873127",
     "status": "completed"
    },
    "tags": []
   },
   "outputs": [
    {
     "name": "stdout",
     "output_type": "stream",
     "text": [
      "#####################Rendimiento después del entrenamiento#########################\n",
      "Model: QuadraticDiscriminantAnalysis()\n",
      "Accuracy Score: 0.8989670519809462\n",
      "Precission Score: 0.3468823993685872\n",
      "Recall Score: 0.21594398722515662\n",
      "F1-Score: 0.2661821485350897\n",
      "######################Rendimiento con los datos reales##############################\n",
      "Accuracy: 0.5333333333333333\n",
      "Precission Score: 0.0\n",
      "Recall Score: 0.0\n",
      "F1-Score: 0.0\n"
     ]
    },
    {
     "name": "stderr",
     "output_type": "stream",
     "text": [
      "/opt/conda/lib/python3.7/site-packages/sklearn/metrics/_classification.py:1318: UndefinedMetricWarning: Precision is ill-defined and being set to 0.0 due to no predicted samples. Use `zero_division` parameter to control this behavior.\n",
      "  _warn_prf(average, modifier, msg_start, len(result))\n"
     ]
    }
   ],
   "source": [
    "entrenarModelo(QuadraticDiscriminantAnalysis(),X_train,y_train,X_test,y_test,X_real_seleccionada,Y_real)"
   ]
  },
  {
   "cell_type": "markdown",
   "id": "20b3ab21",
   "metadata": {
    "papermill": {
     "duration": 0.013289,
     "end_time": "2022-10-27T16:47:29.276347",
     "exception": false,
     "start_time": "2022-10-27T16:47:29.263058",
     "status": "completed"
    },
    "tags": []
   },
   "source": [
    "# Entrenamiento del modelo con 12 características seleccionadas"
   ]
  },
  {
   "cell_type": "code",
   "execution_count": 29,
   "id": "a062a4ea",
   "metadata": {
    "execution": {
     "iopub.execute_input": "2022-10-27T16:47:29.304892Z",
     "iopub.status.busy": "2022-10-27T16:47:29.304195Z",
     "iopub.status.idle": "2022-10-27T16:47:29.333138Z",
     "shell.execute_reply": "2022-10-27T16:47:29.331917Z"
    },
    "papermill": {
     "duration": 0.045688,
     "end_time": "2022-10-27T16:47:29.335471",
     "exception": false,
     "start_time": "2022-10-27T16:47:29.289783",
     "status": "completed"
    },
    "tags": []
   },
   "outputs": [
    {
     "data": {
      "text/html": [
       "<div>\n",
       "<style scoped>\n",
       "    .dataframe tbody tr th:only-of-type {\n",
       "        vertical-align: middle;\n",
       "    }\n",
       "\n",
       "    .dataframe tbody tr th {\n",
       "        vertical-align: top;\n",
       "    }\n",
       "\n",
       "    .dataframe thead th {\n",
       "        text-align: right;\n",
       "    }\n",
       "</style>\n",
       "<table border=\"1\" class=\"dataframe\">\n",
       "  <thead>\n",
       "    <tr style=\"text-align: right;\">\n",
       "      <th></th>\n",
       "      <th>BMI</th>\n",
       "      <th>Smoking</th>\n",
       "      <th>AlcoholDrinking</th>\n",
       "      <th>Stroke</th>\n",
       "      <th>MentalHealth</th>\n",
       "      <th>Sex</th>\n",
       "      <th>AgeCategory</th>\n",
       "      <th>Diabetic</th>\n",
       "      <th>PhysicalActivity</th>\n",
       "      <th>GenHealth</th>\n",
       "      <th>SleepTime</th>\n",
       "      <th>Asthma</th>\n",
       "    </tr>\n",
       "  </thead>\n",
       "  <tbody>\n",
       "    <tr>\n",
       "      <th>0</th>\n",
       "      <td>-1.844750</td>\n",
       "      <td>1.193474</td>\n",
       "      <td>-0.27032</td>\n",
       "      <td>-0.198040</td>\n",
       "      <td>3.281069</td>\n",
       "      <td>-0.951711</td>\n",
       "      <td>0.136184</td>\n",
       "      <td>2.524911</td>\n",
       "      <td>0.538256</td>\n",
       "      <td>0.388307</td>\n",
       "      <td>-1.460354</td>\n",
       "      <td>2.541515</td>\n",
       "    </tr>\n",
       "    <tr>\n",
       "      <th>1</th>\n",
       "      <td>-1.256338</td>\n",
       "      <td>-0.837890</td>\n",
       "      <td>-0.27032</td>\n",
       "      <td>5.049478</td>\n",
       "      <td>-0.490039</td>\n",
       "      <td>-0.951711</td>\n",
       "      <td>1.538806</td>\n",
       "      <td>-0.396054</td>\n",
       "      <td>0.538256</td>\n",
       "      <td>0.388307</td>\n",
       "      <td>-0.067601</td>\n",
       "      <td>-0.393466</td>\n",
       "    </tr>\n",
       "    <tr>\n",
       "      <th>2</th>\n",
       "      <td>-0.274603</td>\n",
       "      <td>1.193474</td>\n",
       "      <td>-0.27032</td>\n",
       "      <td>-0.198040</td>\n",
       "      <td>3.281069</td>\n",
       "      <td>1.050739</td>\n",
       "      <td>0.697233</td>\n",
       "      <td>2.524911</td>\n",
       "      <td>0.538256</td>\n",
       "      <td>-1.529392</td>\n",
       "      <td>0.628776</td>\n",
       "      <td>2.541515</td>\n",
       "    </tr>\n",
       "    <tr>\n",
       "      <th>3</th>\n",
       "      <td>-0.647473</td>\n",
       "      <td>-0.837890</td>\n",
       "      <td>-0.27032</td>\n",
       "      <td>-0.198040</td>\n",
       "      <td>-0.490039</td>\n",
       "      <td>-0.951711</td>\n",
       "      <td>1.258282</td>\n",
       "      <td>-0.396054</td>\n",
       "      <td>-1.857852</td>\n",
       "      <td>-0.570542</td>\n",
       "      <td>-0.763977</td>\n",
       "      <td>-0.393466</td>\n",
       "    </tr>\n",
       "    <tr>\n",
       "      <th>4</th>\n",
       "      <td>-0.726138</td>\n",
       "      <td>-0.837890</td>\n",
       "      <td>-0.27032</td>\n",
       "      <td>-0.198040</td>\n",
       "      <td>-0.490039</td>\n",
       "      <td>-0.951711</td>\n",
       "      <td>-0.705388</td>\n",
       "      <td>-0.396054</td>\n",
       "      <td>0.538256</td>\n",
       "      <td>0.388307</td>\n",
       "      <td>0.628776</td>\n",
       "      <td>-0.393466</td>\n",
       "    </tr>\n",
       "  </tbody>\n",
       "</table>\n",
       "</div>"
      ],
      "text/plain": [
       "        BMI   Smoking  AlcoholDrinking    Stroke  MentalHealth       Sex  \\\n",
       "0 -1.844750  1.193474         -0.27032 -0.198040      3.281069 -0.951711   \n",
       "1 -1.256338 -0.837890         -0.27032  5.049478     -0.490039 -0.951711   \n",
       "2 -0.274603  1.193474         -0.27032 -0.198040      3.281069  1.050739   \n",
       "3 -0.647473 -0.837890         -0.27032 -0.198040     -0.490039 -0.951711   \n",
       "4 -0.726138 -0.837890         -0.27032 -0.198040     -0.490039 -0.951711   \n",
       "\n",
       "   AgeCategory  Diabetic  PhysicalActivity  GenHealth  SleepTime    Asthma  \n",
       "0     0.136184  2.524911          0.538256   0.388307  -1.460354  2.541515  \n",
       "1     1.538806 -0.396054          0.538256   0.388307  -0.067601 -0.393466  \n",
       "2     0.697233  2.524911          0.538256  -1.529392   0.628776  2.541515  \n",
       "3     1.258282 -0.396054         -1.857852  -0.570542  -0.763977 -0.393466  \n",
       "4    -0.705388 -0.396054          0.538256   0.388307   0.628776 -0.393466  "
      ]
     },
     "execution_count": 29,
     "metadata": {},
     "output_type": "execute_result"
    }
   ],
   "source": [
    "selected_data=select_data(scaled_data,np.array(resultados[\"Index Features\"][15]))\n",
    "selected_data.head()"
   ]
  },
  {
   "cell_type": "code",
   "execution_count": 30,
   "id": "5c5704e0",
   "metadata": {
    "execution": {
     "iopub.execute_input": "2022-10-27T16:47:29.364701Z",
     "iopub.status.busy": "2022-10-27T16:47:29.363522Z",
     "iopub.status.idle": "2022-10-27T16:47:29.432134Z",
     "shell.execute_reply": "2022-10-27T16:47:29.431013Z"
    },
    "papermill": {
     "duration": 0.085716,
     "end_time": "2022-10-27T16:47:29.434773",
     "exception": false,
     "start_time": "2022-10-27T16:47:29.349057",
     "status": "completed"
    },
    "tags": []
   },
   "outputs": [],
   "source": [
    "X_train,X_test,y_train,y_test=split_data(selected_data,Y)"
   ]
  },
  {
   "cell_type": "code",
   "execution_count": 31,
   "id": "55738954",
   "metadata": {
    "execution": {
     "iopub.execute_input": "2022-10-27T16:47:29.464256Z",
     "iopub.status.busy": "2022-10-27T16:47:29.463848Z",
     "iopub.status.idle": "2022-10-27T16:47:29.470195Z",
     "shell.execute_reply": "2022-10-27T16:47:29.469078Z"
    },
    "papermill": {
     "duration": 0.023956,
     "end_time": "2022-10-27T16:47:29.472694",
     "exception": false,
     "start_time": "2022-10-27T16:47:29.448738",
     "status": "completed"
    },
    "tags": []
   },
   "outputs": [],
   "source": [
    "X_real_seleccionada=select_data(X_real,np.array(resultados[\"Index Features\"][15]))"
   ]
  },
  {
   "cell_type": "code",
   "execution_count": 32,
   "id": "63e333da",
   "metadata": {
    "execution": {
     "iopub.execute_input": "2022-10-27T16:47:29.502538Z",
     "iopub.status.busy": "2022-10-27T16:47:29.502162Z",
     "iopub.status.idle": "2022-10-27T16:47:29.898316Z",
     "shell.execute_reply": "2022-10-27T16:47:29.897075Z"
    },
    "papermill": {
     "duration": 0.41436,
     "end_time": "2022-10-27T16:47:29.901049",
     "exception": false,
     "start_time": "2022-10-27T16:47:29.486689",
     "status": "completed"
    },
    "tags": []
   },
   "outputs": [
    {
     "name": "stdout",
     "output_type": "stream",
     "text": [
      "#####################Rendimiento después del entrenamiento#########################\n",
      "Model: QuadraticDiscriminantAnalysis()\n",
      "Accuracy Score: 0.8863652946142861\n",
      "Precission Score: 0.3252310419040385\n",
      "Recall Score: 0.31556319862424764\n",
      "F1-Score: 0.3203241895261846\n",
      "######################Rendimiento con los datos reales##############################\n",
      "Accuracy: 0.5333333333333333\n",
      "Precission Score: 0.0\n",
      "Recall Score: 0.0\n",
      "F1-Score: 0.0\n"
     ]
    },
    {
     "name": "stderr",
     "output_type": "stream",
     "text": [
      "/opt/conda/lib/python3.7/site-packages/sklearn/metrics/_classification.py:1318: UndefinedMetricWarning: Precision is ill-defined and being set to 0.0 due to no predicted samples. Use `zero_division` parameter to control this behavior.\n",
      "  _warn_prf(average, modifier, msg_start, len(result))\n"
     ]
    }
   ],
   "source": [
    "entrenarModelo(QuadraticDiscriminantAnalysis(),X_train,y_train,X_test,y_test,X_real_seleccionada,Y_real)"
   ]
  },
  {
   "cell_type": "code",
   "execution_count": null,
   "id": "ff352d6d",
   "metadata": {
    "papermill": {
     "duration": 0.013486,
     "end_time": "2022-10-27T16:47:29.928241",
     "exception": false,
     "start_time": "2022-10-27T16:47:29.914755",
     "status": "completed"
    },
    "tags": []
   },
   "outputs": [],
   "source": []
  }
 ],
 "metadata": {
  "kernelspec": {
   "display_name": "Python 3",
   "language": "python",
   "name": "python3"
  },
  "language_info": {
   "codemirror_mode": {
    "name": "ipython",
    "version": 3
   },
   "file_extension": ".py",
   "mimetype": "text/x-python",
   "name": "python",
   "nbconvert_exporter": "python",
   "pygments_lexer": "ipython3",
   "version": "3.7.12"
  },
  "papermill": {
   "default_parameters": {},
   "duration": 793.989992,
   "end_time": "2022-10-27T16:47:30.764723",
   "environment_variables": {},
   "exception": null,
   "input_path": "__notebook__.ipynb",
   "output_path": "__notebook__.ipynb",
   "parameters": {},
   "start_time": "2022-10-27T16:34:16.774731",
   "version": "2.3.4"
  }
 },
 "nbformat": 4,
 "nbformat_minor": 5
}
