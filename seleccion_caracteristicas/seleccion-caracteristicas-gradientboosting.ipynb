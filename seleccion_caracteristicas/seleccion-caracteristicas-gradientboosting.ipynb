{
 "cells": [
  {
   "cell_type": "code",
   "execution_count": 1,
   "id": "36e9639e",
   "metadata": {
    "_cell_guid": "b1076dfc-b9ad-4769-8c92-a6c4dae69d19",
    "_uuid": "8f2839f25d086af736a60e9eeb907d3b93b6e0e5",
    "execution": {
     "iopub.execute_input": "2022-10-26T19:35:22.552639Z",
     "iopub.status.busy": "2022-10-26T19:35:22.551323Z",
     "iopub.status.idle": "2022-10-26T19:35:24.221331Z",
     "shell.execute_reply": "2022-10-26T19:35:24.219863Z"
    },
    "papermill": {
     "duration": 1.688176,
     "end_time": "2022-10-26T19:35:24.225213",
     "exception": false,
     "start_time": "2022-10-26T19:35:22.537037",
     "status": "completed"
    },
    "tags": []
   },
   "outputs": [
    {
     "name": "stdout",
     "output_type": "stream",
     "text": [
      "/kaggle/input/datosreales/DatosReales.csv\n",
      "/kaggle/input/datasetheartdisease/dataset.csv\n"
     ]
    }
   ],
   "source": [
    "# This Python 3 environment comes with many helpful analytics libraries installed\n",
    "# It is defined by the kaggle/python Docker image: https://github.com/kaggle/docker-python\n",
    "# For example, here's several helpful packages to load\n",
    "\n",
    "import numpy as np \n",
    "import pandas as pd \n",
    "from sklearn.model_selection import train_test_split,StratifiedKFold,StratifiedShuffleSplit\n",
    "from sklearn.ensemble import GradientBoostingClassifier\n",
    "from sklearn.preprocessing import StandardScaler\n",
    "from collections import Counter\n",
    "from sklearn.metrics import precision_score,recall_score,accuracy_score,f1_score,confusion_matrix,ConfusionMatrixDisplay\n",
    "import seaborn as sns\n",
    "import matplotlib.pyplot as plt\n",
    "import joblib \n",
    "import time\n",
    "from imblearn.under_sampling import RandomUnderSampler \n",
    "from mlxtend.feature_selection import SequentialFeatureSelector as SFS\n",
    "from sklearn.preprocessing import LabelEncoder\n",
    "encoder = LabelEncoder()\n",
    "\n",
    "import os\n",
    "for dirname, _, filenames in os.walk('/kaggle/input'):\n",
    "    for filename in filenames:\n",
    "        print(os.path.join(dirname, filename))\n",
    "\n",
    "# You can write up to 20GB to the current directory (/kaggle/working/) that gets preserved as output when you create a version using \"Save & Run All\" \n",
    "# You can also write "
   ]
  },
  {
   "cell_type": "markdown",
   "id": "fe9787b2",
   "metadata": {
    "papermill": {
     "duration": 0.012092,
     "end_time": "2022-10-26T19:35:24.248493",
     "exception": false,
     "start_time": "2022-10-26T19:35:24.236401",
     "status": "completed"
    },
    "tags": []
   },
   "source": [
    "# Visualización inicial de los datos"
   ]
  },
  {
   "cell_type": "code",
   "execution_count": 2,
   "id": "12afbb95",
   "metadata": {
    "execution": {
     "iopub.execute_input": "2022-10-26T19:35:24.271762Z",
     "iopub.status.busy": "2022-10-26T19:35:24.271107Z",
     "iopub.status.idle": "2022-10-26T19:35:24.997157Z",
     "shell.execute_reply": "2022-10-26T19:35:24.995769Z"
    },
    "papermill": {
     "duration": 0.741877,
     "end_time": "2022-10-26T19:35:25.000913",
     "exception": false,
     "start_time": "2022-10-26T19:35:24.259036",
     "status": "completed"
    },
    "tags": []
   },
   "outputs": [
    {
     "data": {
      "text/html": [
       "<div>\n",
       "<style scoped>\n",
       "    .dataframe tbody tr th:only-of-type {\n",
       "        vertical-align: middle;\n",
       "    }\n",
       "\n",
       "    .dataframe tbody tr th {\n",
       "        vertical-align: top;\n",
       "    }\n",
       "\n",
       "    .dataframe thead th {\n",
       "        text-align: right;\n",
       "    }\n",
       "</style>\n",
       "<table border=\"1\" class=\"dataframe\">\n",
       "  <thead>\n",
       "    <tr style=\"text-align: right;\">\n",
       "      <th></th>\n",
       "      <th>HeartDisease</th>\n",
       "      <th>BMI</th>\n",
       "      <th>Smoking</th>\n",
       "      <th>AlcoholDrinking</th>\n",
       "      <th>Stroke</th>\n",
       "      <th>PhysicalHealth</th>\n",
       "      <th>MentalHealth</th>\n",
       "      <th>DiffWalking</th>\n",
       "      <th>Sex</th>\n",
       "      <th>AgeCategory</th>\n",
       "      <th>Diabetic</th>\n",
       "      <th>PhysicalActivity</th>\n",
       "      <th>GenHealth</th>\n",
       "      <th>SleepTime</th>\n",
       "      <th>Asthma</th>\n",
       "      <th>KidneyDisease</th>\n",
       "      <th>SkinCancer</th>\n",
       "    </tr>\n",
       "  </thead>\n",
       "  <tbody>\n",
       "    <tr>\n",
       "      <th>0</th>\n",
       "      <td>0</td>\n",
       "      <td>16.60</td>\n",
       "      <td>1</td>\n",
       "      <td>0</td>\n",
       "      <td>0</td>\n",
       "      <td>3.0</td>\n",
       "      <td>30.0</td>\n",
       "      <td>0</td>\n",
       "      <td>8</td>\n",
       "      <td>17</td>\n",
       "      <td>1</td>\n",
       "      <td>1</td>\n",
       "      <td>5</td>\n",
       "      <td>5.0</td>\n",
       "      <td>1</td>\n",
       "      <td>0</td>\n",
       "      <td>1</td>\n",
       "    </tr>\n",
       "    <tr>\n",
       "      <th>1</th>\n",
       "      <td>0</td>\n",
       "      <td>20.34</td>\n",
       "      <td>0</td>\n",
       "      <td>0</td>\n",
       "      <td>1</td>\n",
       "      <td>0.0</td>\n",
       "      <td>0.0</td>\n",
       "      <td>0</td>\n",
       "      <td>8</td>\n",
       "      <td>22</td>\n",
       "      <td>0</td>\n",
       "      <td>1</td>\n",
       "      <td>5</td>\n",
       "      <td>7.0</td>\n",
       "      <td>0</td>\n",
       "      <td>0</td>\n",
       "      <td>0</td>\n",
       "    </tr>\n",
       "    <tr>\n",
       "      <th>2</th>\n",
       "      <td>0</td>\n",
       "      <td>26.58</td>\n",
       "      <td>1</td>\n",
       "      <td>0</td>\n",
       "      <td>0</td>\n",
       "      <td>20.0</td>\n",
       "      <td>30.0</td>\n",
       "      <td>0</td>\n",
       "      <td>9</td>\n",
       "      <td>19</td>\n",
       "      <td>1</td>\n",
       "      <td>1</td>\n",
       "      <td>3</td>\n",
       "      <td>8.0</td>\n",
       "      <td>1</td>\n",
       "      <td>0</td>\n",
       "      <td>0</td>\n",
       "    </tr>\n",
       "    <tr>\n",
       "      <th>3</th>\n",
       "      <td>0</td>\n",
       "      <td>24.21</td>\n",
       "      <td>0</td>\n",
       "      <td>0</td>\n",
       "      <td>0</td>\n",
       "      <td>0.0</td>\n",
       "      <td>0.0</td>\n",
       "      <td>0</td>\n",
       "      <td>8</td>\n",
       "      <td>21</td>\n",
       "      <td>0</td>\n",
       "      <td>0</td>\n",
       "      <td>4</td>\n",
       "      <td>6.0</td>\n",
       "      <td>0</td>\n",
       "      <td>0</td>\n",
       "      <td>1</td>\n",
       "    </tr>\n",
       "    <tr>\n",
       "      <th>4</th>\n",
       "      <td>0</td>\n",
       "      <td>23.71</td>\n",
       "      <td>0</td>\n",
       "      <td>0</td>\n",
       "      <td>0</td>\n",
       "      <td>28.0</td>\n",
       "      <td>0.0</td>\n",
       "      <td>1</td>\n",
       "      <td>8</td>\n",
       "      <td>14</td>\n",
       "      <td>0</td>\n",
       "      <td>1</td>\n",
       "      <td>5</td>\n",
       "      <td>8.0</td>\n",
       "      <td>0</td>\n",
       "      <td>0</td>\n",
       "      <td>0</td>\n",
       "    </tr>\n",
       "  </tbody>\n",
       "</table>\n",
       "</div>"
      ],
      "text/plain": [
       "   HeartDisease    BMI  Smoking  AlcoholDrinking  Stroke  PhysicalHealth  \\\n",
       "0             0  16.60        1                0       0             3.0   \n",
       "1             0  20.34        0                0       1             0.0   \n",
       "2             0  26.58        1                0       0            20.0   \n",
       "3             0  24.21        0                0       0             0.0   \n",
       "4             0  23.71        0                0       0            28.0   \n",
       "\n",
       "   MentalHealth  DiffWalking  Sex  AgeCategory  Diabetic  PhysicalActivity  \\\n",
       "0          30.0            0    8           17         1                 1   \n",
       "1           0.0            0    8           22         0                 1   \n",
       "2          30.0            0    9           19         1                 1   \n",
       "3           0.0            0    8           21         0                 0   \n",
       "4           0.0            1    8           14         0                 1   \n",
       "\n",
       "   GenHealth  SleepTime  Asthma  KidneyDisease  SkinCancer  \n",
       "0          5        5.0       1              0           1  \n",
       "1          5        7.0       0              0           0  \n",
       "2          3        8.0       1              0           0  \n",
       "3          4        6.0       0              0           1  \n",
       "4          5        8.0       0              0           0  "
      ]
     },
     "execution_count": 2,
     "metadata": {},
     "output_type": "execute_result"
    }
   ],
   "source": [
    "data=pd.read_csv(\"/kaggle/input/datasetheartdisease/dataset.csv\")\n",
    "df=data.copy()\n",
    "df=df.drop([\"Unnamed: 0\"],axis=1)\n",
    "df.head()"
   ]
  },
  {
   "cell_type": "markdown",
   "id": "502f53c1",
   "metadata": {
    "papermill": {
     "duration": 0.011932,
     "end_time": "2022-10-26T19:35:25.026274",
     "exception": false,
     "start_time": "2022-10-26T19:35:25.014342",
     "status": "completed"
    },
    "tags": []
   },
   "source": [
    "# Separamos los datos\n",
    "Separamos los datos de nuestro dataset, ponemos las características que vamos a utilizar para entrenar en la variable X y la variable a predecir en la varibale Y."
   ]
  },
  {
   "cell_type": "code",
   "execution_count": 3,
   "id": "7d122a36",
   "metadata": {
    "execution": {
     "iopub.execute_input": "2022-10-26T19:35:25.054563Z",
     "iopub.status.busy": "2022-10-26T19:35:25.054084Z",
     "iopub.status.idle": "2022-10-26T19:35:25.076989Z",
     "shell.execute_reply": "2022-10-26T19:35:25.075537Z"
    },
    "papermill": {
     "duration": 0.039428,
     "end_time": "2022-10-26T19:35:25.079884",
     "exception": false,
     "start_time": "2022-10-26T19:35:25.040456",
     "status": "completed"
    },
    "tags": []
   },
   "outputs": [],
   "source": [
    "X=df.iloc[:,1:17]\n",
    "Y=df.iloc[:,0]"
   ]
  },
  {
   "cell_type": "markdown",
   "id": "e9a3d2c5",
   "metadata": {
    "papermill": {
     "duration": 0.011237,
     "end_time": "2022-10-26T19:35:25.102361",
     "exception": false,
     "start_time": "2022-10-26T19:35:25.091124",
     "status": "completed"
    },
    "tags": []
   },
   "source": [
    "# Estandarización de los datos\n",
    "Usamos StandardScaler para estandarizar las caracteríticas que vamos a usar para entrenar en nuestro modelo."
   ]
  },
  {
   "cell_type": "code",
   "execution_count": 4,
   "id": "b452b0b2",
   "metadata": {
    "execution": {
     "iopub.execute_input": "2022-10-26T19:35:25.129427Z",
     "iopub.status.busy": "2022-10-26T19:35:25.129044Z",
     "iopub.status.idle": "2022-10-26T19:35:25.263101Z",
     "shell.execute_reply": "2022-10-26T19:35:25.261884Z"
    },
    "papermill": {
     "duration": 0.152249,
     "end_time": "2022-10-26T19:35:25.265955",
     "exception": false,
     "start_time": "2022-10-26T19:35:25.113706",
     "status": "completed"
    },
    "tags": []
   },
   "outputs": [
    {
     "data": {
      "text/html": [
       "<div>\n",
       "<style scoped>\n",
       "    .dataframe tbody tr th:only-of-type {\n",
       "        vertical-align: middle;\n",
       "    }\n",
       "\n",
       "    .dataframe tbody tr th {\n",
       "        vertical-align: top;\n",
       "    }\n",
       "\n",
       "    .dataframe thead th {\n",
       "        text-align: right;\n",
       "    }\n",
       "</style>\n",
       "<table border=\"1\" class=\"dataframe\">\n",
       "  <thead>\n",
       "    <tr style=\"text-align: right;\">\n",
       "      <th></th>\n",
       "      <th>BMI</th>\n",
       "      <th>Smoking</th>\n",
       "      <th>AlcoholDrinking</th>\n",
       "      <th>Stroke</th>\n",
       "      <th>PhysicalHealth</th>\n",
       "      <th>MentalHealth</th>\n",
       "      <th>DiffWalking</th>\n",
       "      <th>Sex</th>\n",
       "      <th>AgeCategory</th>\n",
       "      <th>Diabetic</th>\n",
       "      <th>PhysicalActivity</th>\n",
       "      <th>GenHealth</th>\n",
       "      <th>SleepTime</th>\n",
       "      <th>Asthma</th>\n",
       "      <th>KidneyDisease</th>\n",
       "      <th>SkinCancer</th>\n",
       "    </tr>\n",
       "  </thead>\n",
       "  <tbody>\n",
       "    <tr>\n",
       "      <th>0</th>\n",
       "      <td>-1.844750</td>\n",
       "      <td>1.193474</td>\n",
       "      <td>-0.27032</td>\n",
       "      <td>-0.198040</td>\n",
       "      <td>-0.046751</td>\n",
       "      <td>3.281069</td>\n",
       "      <td>-0.401578</td>\n",
       "      <td>-0.951711</td>\n",
       "      <td>0.136184</td>\n",
       "      <td>2.524911</td>\n",
       "      <td>0.538256</td>\n",
       "      <td>0.388307</td>\n",
       "      <td>-1.460354</td>\n",
       "      <td>2.541515</td>\n",
       "      <td>-0.195554</td>\n",
       "      <td>3.118419</td>\n",
       "    </tr>\n",
       "    <tr>\n",
       "      <th>1</th>\n",
       "      <td>-1.256338</td>\n",
       "      <td>-0.837890</td>\n",
       "      <td>-0.27032</td>\n",
       "      <td>5.049478</td>\n",
       "      <td>-0.424070</td>\n",
       "      <td>-0.490039</td>\n",
       "      <td>-0.401578</td>\n",
       "      <td>-0.951711</td>\n",
       "      <td>1.538806</td>\n",
       "      <td>-0.396054</td>\n",
       "      <td>0.538256</td>\n",
       "      <td>0.388307</td>\n",
       "      <td>-0.067601</td>\n",
       "      <td>-0.393466</td>\n",
       "      <td>-0.195554</td>\n",
       "      <td>-0.320675</td>\n",
       "    </tr>\n",
       "    <tr>\n",
       "      <th>2</th>\n",
       "      <td>-0.274603</td>\n",
       "      <td>1.193474</td>\n",
       "      <td>-0.27032</td>\n",
       "      <td>-0.198040</td>\n",
       "      <td>2.091388</td>\n",
       "      <td>3.281069</td>\n",
       "      <td>-0.401578</td>\n",
       "      <td>1.050739</td>\n",
       "      <td>0.697233</td>\n",
       "      <td>2.524911</td>\n",
       "      <td>0.538256</td>\n",
       "      <td>-1.529392</td>\n",
       "      <td>0.628776</td>\n",
       "      <td>2.541515</td>\n",
       "      <td>-0.195554</td>\n",
       "      <td>-0.320675</td>\n",
       "    </tr>\n",
       "    <tr>\n",
       "      <th>3</th>\n",
       "      <td>-0.647473</td>\n",
       "      <td>-0.837890</td>\n",
       "      <td>-0.27032</td>\n",
       "      <td>-0.198040</td>\n",
       "      <td>-0.424070</td>\n",
       "      <td>-0.490039</td>\n",
       "      <td>-0.401578</td>\n",
       "      <td>-0.951711</td>\n",
       "      <td>1.258282</td>\n",
       "      <td>-0.396054</td>\n",
       "      <td>-1.857852</td>\n",
       "      <td>-0.570542</td>\n",
       "      <td>-0.763977</td>\n",
       "      <td>-0.393466</td>\n",
       "      <td>-0.195554</td>\n",
       "      <td>3.118419</td>\n",
       "    </tr>\n",
       "    <tr>\n",
       "      <th>4</th>\n",
       "      <td>-0.726138</td>\n",
       "      <td>-0.837890</td>\n",
       "      <td>-0.27032</td>\n",
       "      <td>-0.198040</td>\n",
       "      <td>3.097572</td>\n",
       "      <td>-0.490039</td>\n",
       "      <td>2.490174</td>\n",
       "      <td>-0.951711</td>\n",
       "      <td>-0.705388</td>\n",
       "      <td>-0.396054</td>\n",
       "      <td>0.538256</td>\n",
       "      <td>0.388307</td>\n",
       "      <td>0.628776</td>\n",
       "      <td>-0.393466</td>\n",
       "      <td>-0.195554</td>\n",
       "      <td>-0.320675</td>\n",
       "    </tr>\n",
       "  </tbody>\n",
       "</table>\n",
       "</div>"
      ],
      "text/plain": [
       "        BMI   Smoking  AlcoholDrinking    Stroke  PhysicalHealth  \\\n",
       "0 -1.844750  1.193474         -0.27032 -0.198040       -0.046751   \n",
       "1 -1.256338 -0.837890         -0.27032  5.049478       -0.424070   \n",
       "2 -0.274603  1.193474         -0.27032 -0.198040        2.091388   \n",
       "3 -0.647473 -0.837890         -0.27032 -0.198040       -0.424070   \n",
       "4 -0.726138 -0.837890         -0.27032 -0.198040        3.097572   \n",
       "\n",
       "   MentalHealth  DiffWalking       Sex  AgeCategory  Diabetic  \\\n",
       "0      3.281069    -0.401578 -0.951711     0.136184  2.524911   \n",
       "1     -0.490039    -0.401578 -0.951711     1.538806 -0.396054   \n",
       "2      3.281069    -0.401578  1.050739     0.697233  2.524911   \n",
       "3     -0.490039    -0.401578 -0.951711     1.258282 -0.396054   \n",
       "4     -0.490039     2.490174 -0.951711    -0.705388 -0.396054   \n",
       "\n",
       "   PhysicalActivity  GenHealth  SleepTime    Asthma  KidneyDisease  SkinCancer  \n",
       "0          0.538256   0.388307  -1.460354  2.541515      -0.195554    3.118419  \n",
       "1          0.538256   0.388307  -0.067601 -0.393466      -0.195554   -0.320675  \n",
       "2          0.538256  -1.529392   0.628776  2.541515      -0.195554   -0.320675  \n",
       "3         -1.857852  -0.570542  -0.763977 -0.393466      -0.195554    3.118419  \n",
       "4          0.538256   0.388307   0.628776 -0.393466      -0.195554   -0.320675  "
      ]
     },
     "execution_count": 4,
     "metadata": {},
     "output_type": "execute_result"
    }
   ],
   "source": [
    "scaler=StandardScaler()\n",
    "columns=X.columns\n",
    "s=scaler.fit_transform(X)\n",
    "\n",
    "X=pd.DataFrame(s,columns=columns)\n",
    "X.head(5)"
   ]
  },
  {
   "cell_type": "markdown",
   "id": "2594cab1",
   "metadata": {
    "papermill": {
     "duration": 0.010898,
     "end_time": "2022-10-26T19:35:25.288503",
     "exception": false,
     "start_time": "2022-10-26T19:35:25.277605",
     "status": "completed"
    },
    "tags": []
   },
   "source": [
    "# Submuestro de los datos con Undersampling"
   ]
  },
  {
   "cell_type": "code",
   "execution_count": 5,
   "id": "94859756",
   "metadata": {
    "execution": {
     "iopub.execute_input": "2022-10-26T19:35:25.312910Z",
     "iopub.status.busy": "2022-10-26T19:35:25.312495Z",
     "iopub.status.idle": "2022-10-26T19:35:25.422501Z",
     "shell.execute_reply": "2022-10-26T19:35:25.421328Z"
    },
    "papermill": {
     "duration": 0.125589,
     "end_time": "2022-10-26T19:35:25.425380",
     "exception": false,
     "start_time": "2022-10-26T19:35:25.299791",
     "status": "completed"
    },
    "tags": []
   },
   "outputs": [
    {
     "name": "stdout",
     "output_type": "stream",
     "text": [
      "Dimensiones\n",
      "Xtrain_new:  (54746, 16)\n",
      "Ytrain_new:  (54746,)\n"
     ]
    }
   ],
   "source": [
    "subsample=RandomUnderSampler()\n",
    "X_new, Y_new=subsample.fit_resample(X,Y)\n",
    "print(\"Dimensiones\")\n",
    "print(\"Xtrain_new: \", X_new.shape)\n",
    "print(\"Ytrain_new: \", Y_new.shape)\n"
   ]
  },
  {
   "cell_type": "markdown",
   "id": "915eb34c",
   "metadata": {
    "papermill": {
     "duration": 0.011049,
     "end_time": "2022-10-26T19:35:25.447929",
     "exception": false,
     "start_time": "2022-10-26T19:35:25.436880",
     "status": "completed"
    },
    "tags": []
   },
   "source": [
    "# Función Selección de características\n",
    "Función utilizada para declarar Sequential Feature Selector con la cantidad de caracteristicas a selecciona y el modelo que va a utilizar"
   ]
  },
  {
   "cell_type": "code",
   "execution_count": 6,
   "id": "59a7f194",
   "metadata": {
    "execution": {
     "iopub.execute_input": "2022-10-26T19:35:25.477091Z",
     "iopub.status.busy": "2022-10-26T19:35:25.476642Z",
     "iopub.status.idle": "2022-10-26T19:35:25.481697Z",
     "shell.execute_reply": "2022-10-26T19:35:25.480767Z"
    },
    "papermill": {
     "duration": 0.025401,
     "end_time": "2022-10-26T19:35:25.485113",
     "exception": false,
     "start_time": "2022-10-26T19:35:25.459712",
     "status": "completed"
    },
    "tags": []
   },
   "outputs": [],
   "source": [
    "def select_features(model,n_features,fwd):\n",
    "    sfs=SFS(\n",
    "        model,\n",
    "        k_features=n_features,\n",
    "        forward=fwd,\n",
    "        scoring='accuracy',\n",
    "        cv=0\n",
    "    )\n",
    "    return sfs"
   ]
  },
  {
   "cell_type": "markdown",
   "id": "30ff1a3c",
   "metadata": {
    "papermill": {
     "duration": 0.012218,
     "end_time": "2022-10-26T19:35:25.515276",
     "exception": false,
     "start_time": "2022-10-26T19:35:25.503058",
     "status": "completed"
    },
    "tags": []
   },
   "source": [
    "# Selección de caracteríticas\n",
    "Se declara la función train_select_features que lo que hace es por medio de StratifiedKFold y un array con la cantidad de caracteríticas a seleccionar, entrena un modelo y guardar el rendimiento en un dataframe para luego seleccionar con que y cuales caracteríticas tuvo mejor rendimieto el modelo."
   ]
  },
  {
   "cell_type": "code",
   "execution_count": 7,
   "id": "1875be59",
   "metadata": {
    "execution": {
     "iopub.execute_input": "2022-10-26T19:35:25.544266Z",
     "iopub.status.busy": "2022-10-26T19:35:25.543816Z",
     "iopub.status.idle": "2022-10-26T19:35:25.554954Z",
     "shell.execute_reply": "2022-10-26T19:35:25.553700Z"
    },
    "papermill": {
     "duration": 0.030264,
     "end_time": "2022-10-26T19:35:25.557585",
     "exception": false,
     "start_time": "2022-10-26T19:35:25.527321",
     "status": "completed"
    },
    "tags": []
   },
   "outputs": [],
   "source": [
    "def train_select_features(model,folds,features,X,Y):\n",
    "    skf=StratifiedKFold(n_splits=folds)\n",
    "    resultados=pd.DataFrame()\n",
    "    idx=0\n",
    "    resultados = {\n",
    "        'Modelo': [],\n",
    "        'Features':[],\n",
    "        'Name Features':[],\n",
    "        'Index Features':[],\n",
    "        'Error':[],\n",
    "        'Tiempo':[]\n",
    "    }\n",
    "    for feature in features:\n",
    "        for train, test in skf.split(X=X,y=Y):\n",
    "            tiempo_i = time.time()\n",
    "            Xtrain, Xtest = X.iloc[train], X.iloc[test]\n",
    "            Ytrain, Ytest = Y[train], Y[test]\n",
    "            \n",
    "            model_train=select_features(model,feature,False)\n",
    "            model_train.fit(Xtrain,Ytrain)\n",
    "            tiempo_f = time.time()\n",
    "            resultados['Modelo'].append(str(model))\n",
    "            resultados['Name Features'].append(model_train.k_feature_names_)\n",
    "            resultados['Index Features'].append(model_train.k_feature_idx_)\n",
    "            resultados['Features'].append(feature)\n",
    "            resultados['Error'].append(1-model_train.k_score_)\n",
    "            resultados['Tiempo'].append(tiempo_f-tiempo_i)\n",
    "\n",
    "\n",
    "\n",
    "    return resultados"
   ]
  },
  {
   "cell_type": "code",
   "execution_count": 8,
   "id": "f258017b",
   "metadata": {
    "execution": {
     "iopub.execute_input": "2022-10-26T19:35:25.582634Z",
     "iopub.status.busy": "2022-10-26T19:35:25.582222Z",
     "iopub.status.idle": "2022-10-26T19:35:25.587907Z",
     "shell.execute_reply": "2022-10-26T19:35:25.586553Z"
    },
    "papermill": {
     "duration": 0.020884,
     "end_time": "2022-10-26T19:35:25.590258",
     "exception": false,
     "start_time": "2022-10-26T19:35:25.569374",
     "status": "completed"
    },
    "tags": []
   },
   "outputs": [],
   "source": [
    "model=GradientBoostingClassifier(n_estimators=150,random_state=0)\n"
   ]
  },
  {
   "cell_type": "code",
   "execution_count": 9,
   "id": "b0cc94c6",
   "metadata": {
    "execution": {
     "iopub.execute_input": "2022-10-26T19:35:25.617229Z",
     "iopub.status.busy": "2022-10-26T19:35:25.616105Z",
     "iopub.status.idle": "2022-10-26T22:20:37.257453Z",
     "shell.execute_reply": "2022-10-26T22:20:37.256307Z"
    },
    "papermill": {
     "duration": 9911.66694,
     "end_time": "2022-10-26T22:20:37.270319",
     "exception": false,
     "start_time": "2022-10-26T19:35:25.603379",
     "status": "completed"
    },
    "tags": []
   },
   "outputs": [
    {
     "data": {
      "text/html": [
       "<div>\n",
       "<style scoped>\n",
       "    .dataframe tbody tr th:only-of-type {\n",
       "        vertical-align: middle;\n",
       "    }\n",
       "\n",
       "    .dataframe tbody tr th {\n",
       "        vertical-align: top;\n",
       "    }\n",
       "\n",
       "    .dataframe thead th {\n",
       "        text-align: right;\n",
       "    }\n",
       "</style>\n",
       "<table border=\"1\" class=\"dataframe\">\n",
       "  <thead>\n",
       "    <tr style=\"text-align: right;\">\n",
       "      <th></th>\n",
       "      <th>Modelo</th>\n",
       "      <th>Features</th>\n",
       "      <th>Name Features</th>\n",
       "      <th>Index Features</th>\n",
       "      <th>Error</th>\n",
       "      <th>Tiempo</th>\n",
       "    </tr>\n",
       "  </thead>\n",
       "  <tbody>\n",
       "    <tr>\n",
       "      <th>0</th>\n",
       "      <td>GradientBoostingClassifier(n_estimators=150, r...</td>\n",
       "      <td>4</td>\n",
       "      <td>(Stroke, Sex, AgeCategory, GenHealth)</td>\n",
       "      <td>(3, 7, 8, 11)</td>\n",
       "      <td>0.239976</td>\n",
       "      <td>630.348278</td>\n",
       "    </tr>\n",
       "    <tr>\n",
       "      <th>1</th>\n",
       "      <td>GradientBoostingClassifier(n_estimators=150, r...</td>\n",
       "      <td>4</td>\n",
       "      <td>(Stroke, Sex, AgeCategory, GenHealth)</td>\n",
       "      <td>(3, 7, 8, 11)</td>\n",
       "      <td>0.239514</td>\n",
       "      <td>608.058978</td>\n",
       "    </tr>\n",
       "    <tr>\n",
       "      <th>2</th>\n",
       "      <td>GradientBoostingClassifier(n_estimators=150, r...</td>\n",
       "      <td>4</td>\n",
       "      <td>(Stroke, Sex, AgeCategory, GenHealth)</td>\n",
       "      <td>(3, 7, 8, 11)</td>\n",
       "      <td>0.23972</td>\n",
       "      <td>594.610523</td>\n",
       "    </tr>\n",
       "    <tr>\n",
       "      <th>3</th>\n",
       "      <td>GradientBoostingClassifier(n_estimators=150, r...</td>\n",
       "      <td>4</td>\n",
       "      <td>(Stroke, Sex, AgeCategory, GenHealth)</td>\n",
       "      <td>(3, 7, 8, 11)</td>\n",
       "      <td>0.23892</td>\n",
       "      <td>624.448365</td>\n",
       "    </tr>\n",
       "    <tr>\n",
       "      <th>4</th>\n",
       "      <td>GradientBoostingClassifier(n_estimators=150, r...</td>\n",
       "      <td>4</td>\n",
       "      <td>(Stroke, Sex, AgeCategory, GenHealth)</td>\n",
       "      <td>(3, 7, 8, 11)</td>\n",
       "      <td>0.238304</td>\n",
       "      <td>622.233586</td>\n",
       "    </tr>\n",
       "    <tr>\n",
       "      <th>5</th>\n",
       "      <td>GradientBoostingClassifier(n_estimators=150, r...</td>\n",
       "      <td>6</td>\n",
       "      <td>(BMI, Stroke, Sex, AgeCategory, Diabetic, GenH...</td>\n",
       "      <td>(0, 3, 7, 8, 9, 11)</td>\n",
       "      <td>0.233377</td>\n",
       "      <td>600.833387</td>\n",
       "    </tr>\n",
       "    <tr>\n",
       "      <th>6</th>\n",
       "      <td>GradientBoostingClassifier(n_estimators=150, r...</td>\n",
       "      <td>6</td>\n",
       "      <td>(BMI, Stroke, Sex, AgeCategory, Diabetic, GenH...</td>\n",
       "      <td>(0, 3, 7, 8, 9, 11)</td>\n",
       "      <td>0.233463</td>\n",
       "      <td>574.538786</td>\n",
       "    </tr>\n",
       "    <tr>\n",
       "      <th>7</th>\n",
       "      <td>GradientBoostingClassifier(n_estimators=150, r...</td>\n",
       "      <td>6</td>\n",
       "      <td>(Smoking, Stroke, Sex, AgeCategory, Diabetic, ...</td>\n",
       "      <td>(1, 3, 7, 8, 9, 11)</td>\n",
       "      <td>0.234263</td>\n",
       "      <td>566.206243</td>\n",
       "    </tr>\n",
       "    <tr>\n",
       "      <th>8</th>\n",
       "      <td>GradientBoostingClassifier(n_estimators=150, r...</td>\n",
       "      <td>6</td>\n",
       "      <td>(BMI, Stroke, Sex, AgeCategory, Diabetic, GenH...</td>\n",
       "      <td>(0, 3, 7, 8, 9, 11)</td>\n",
       "      <td>0.232596</td>\n",
       "      <td>591.833849</td>\n",
       "    </tr>\n",
       "    <tr>\n",
       "      <th>9</th>\n",
       "      <td>GradientBoostingClassifier(n_estimators=150, r...</td>\n",
       "      <td>6</td>\n",
       "      <td>(Smoking, Stroke, Sex, AgeCategory, Diabetic, ...</td>\n",
       "      <td>(1, 3, 7, 8, 9, 11)</td>\n",
       "      <td>0.232915</td>\n",
       "      <td>594.522488</td>\n",
       "    </tr>\n",
       "    <tr>\n",
       "      <th>10</th>\n",
       "      <td>GradientBoostingClassifier(n_estimators=150, r...</td>\n",
       "      <td>10</td>\n",
       "      <td>(BMI, Smoking, Stroke, PhysicalHealth, Sex, Ag...</td>\n",
       "      <td>(0, 1, 3, 4, 7, 8, 9, 11, 12, 14)</td>\n",
       "      <td>0.230021</td>\n",
       "      <td>449.35404</td>\n",
       "    </tr>\n",
       "    <tr>\n",
       "      <th>11</th>\n",
       "      <td>GradientBoostingClassifier(n_estimators=150, r...</td>\n",
       "      <td>10</td>\n",
       "      <td>(BMI, Smoking, AlcoholDrinking, Stroke, DiffWa...</td>\n",
       "      <td>(0, 1, 2, 3, 6, 7, 8, 9, 11, 15)</td>\n",
       "      <td>0.230472</td>\n",
       "      <td>433.248319</td>\n",
       "    </tr>\n",
       "    <tr>\n",
       "      <th>12</th>\n",
       "      <td>GradientBoostingClassifier(n_estimators=150, r...</td>\n",
       "      <td>10</td>\n",
       "      <td>(BMI, Smoking, Stroke, MentalHealth, DiffWalki...</td>\n",
       "      <td>(0, 1, 3, 5, 6, 7, 8, 9, 11, 14)</td>\n",
       "      <td>0.229011</td>\n",
       "      <td>451.549591</td>\n",
       "    </tr>\n",
       "    <tr>\n",
       "      <th>13</th>\n",
       "      <td>GradientBoostingClassifier(n_estimators=150, r...</td>\n",
       "      <td>10</td>\n",
       "      <td>(BMI, Smoking, Stroke, Sex, AgeCategory, Diabe...</td>\n",
       "      <td>(0, 1, 3, 7, 8, 9, 11, 12, 13, 14)</td>\n",
       "      <td>0.228463</td>\n",
       "      <td>447.774426</td>\n",
       "    </tr>\n",
       "    <tr>\n",
       "      <th>14</th>\n",
       "      <td>GradientBoostingClassifier(n_estimators=150, r...</td>\n",
       "      <td>10</td>\n",
       "      <td>(BMI, Smoking, Stroke, Sex, AgeCategory, Diabe...</td>\n",
       "      <td>(0, 1, 3, 7, 8, 9, 11, 12, 14, 15)</td>\n",
       "      <td>0.228189</td>\n",
       "      <td>447.405137</td>\n",
       "    </tr>\n",
       "    <tr>\n",
       "      <th>15</th>\n",
       "      <td>GradientBoostingClassifier(n_estimators=150, r...</td>\n",
       "      <td>12</td>\n",
       "      <td>(BMI, Smoking, AlcoholDrinking, Stroke, Physic...</td>\n",
       "      <td>(0, 1, 2, 3, 4, 7, 8, 9, 11, 12, 14, 15)</td>\n",
       "      <td>0.229747</td>\n",
       "      <td>332.15756</td>\n",
       "    </tr>\n",
       "    <tr>\n",
       "      <th>16</th>\n",
       "      <td>GradientBoostingClassifier(n_estimators=150, r...</td>\n",
       "      <td>12</td>\n",
       "      <td>(BMI, Smoking, AlcoholDrinking, Stroke, DiffWa...</td>\n",
       "      <td>(0, 1, 2, 3, 6, 7, 8, 9, 11, 12, 14, 15)</td>\n",
       "      <td>0.229285</td>\n",
       "      <td>327.070373</td>\n",
       "    </tr>\n",
       "    <tr>\n",
       "      <th>17</th>\n",
       "      <td>GradientBoostingClassifier(n_estimators=150, r...</td>\n",
       "      <td>12</td>\n",
       "      <td>(BMI, Smoking, Stroke, MentalHealth, DiffWalki...</td>\n",
       "      <td>(0, 1, 3, 5, 6, 7, 8, 9, 11, 13, 14, 15)</td>\n",
       "      <td>0.227755</td>\n",
       "      <td>340.722582</td>\n",
       "    </tr>\n",
       "    <tr>\n",
       "      <th>18</th>\n",
       "      <td>GradientBoostingClassifier(n_estimators=150, r...</td>\n",
       "      <td>12</td>\n",
       "      <td>(BMI, Smoking, AlcoholDrinking, Stroke, Sex, A...</td>\n",
       "      <td>(0, 1, 2, 3, 7, 8, 9, 11, 12, 13, 14, 15)</td>\n",
       "      <td>0.227732</td>\n",
       "      <td>337.877079</td>\n",
       "    </tr>\n",
       "    <tr>\n",
       "      <th>19</th>\n",
       "      <td>GradientBoostingClassifier(n_estimators=150, r...</td>\n",
       "      <td>12</td>\n",
       "      <td>(BMI, Smoking, Stroke, DiffWalking, Sex, AgeCa...</td>\n",
       "      <td>(0, 1, 3, 6, 7, 8, 9, 11, 12, 13, 14, 15)</td>\n",
       "      <td>0.227207</td>\n",
       "      <td>336.778401</td>\n",
       "    </tr>\n",
       "  </tbody>\n",
       "</table>\n",
       "</div>"
      ],
      "text/plain": [
       "                                               Modelo Features  \\\n",
       "0   GradientBoostingClassifier(n_estimators=150, r...        4   \n",
       "1   GradientBoostingClassifier(n_estimators=150, r...        4   \n",
       "2   GradientBoostingClassifier(n_estimators=150, r...        4   \n",
       "3   GradientBoostingClassifier(n_estimators=150, r...        4   \n",
       "4   GradientBoostingClassifier(n_estimators=150, r...        4   \n",
       "5   GradientBoostingClassifier(n_estimators=150, r...        6   \n",
       "6   GradientBoostingClassifier(n_estimators=150, r...        6   \n",
       "7   GradientBoostingClassifier(n_estimators=150, r...        6   \n",
       "8   GradientBoostingClassifier(n_estimators=150, r...        6   \n",
       "9   GradientBoostingClassifier(n_estimators=150, r...        6   \n",
       "10  GradientBoostingClassifier(n_estimators=150, r...       10   \n",
       "11  GradientBoostingClassifier(n_estimators=150, r...       10   \n",
       "12  GradientBoostingClassifier(n_estimators=150, r...       10   \n",
       "13  GradientBoostingClassifier(n_estimators=150, r...       10   \n",
       "14  GradientBoostingClassifier(n_estimators=150, r...       10   \n",
       "15  GradientBoostingClassifier(n_estimators=150, r...       12   \n",
       "16  GradientBoostingClassifier(n_estimators=150, r...       12   \n",
       "17  GradientBoostingClassifier(n_estimators=150, r...       12   \n",
       "18  GradientBoostingClassifier(n_estimators=150, r...       12   \n",
       "19  GradientBoostingClassifier(n_estimators=150, r...       12   \n",
       "\n",
       "                                        Name Features  \\\n",
       "0               (Stroke, Sex, AgeCategory, GenHealth)   \n",
       "1               (Stroke, Sex, AgeCategory, GenHealth)   \n",
       "2               (Stroke, Sex, AgeCategory, GenHealth)   \n",
       "3               (Stroke, Sex, AgeCategory, GenHealth)   \n",
       "4               (Stroke, Sex, AgeCategory, GenHealth)   \n",
       "5   (BMI, Stroke, Sex, AgeCategory, Diabetic, GenH...   \n",
       "6   (BMI, Stroke, Sex, AgeCategory, Diabetic, GenH...   \n",
       "7   (Smoking, Stroke, Sex, AgeCategory, Diabetic, ...   \n",
       "8   (BMI, Stroke, Sex, AgeCategory, Diabetic, GenH...   \n",
       "9   (Smoking, Stroke, Sex, AgeCategory, Diabetic, ...   \n",
       "10  (BMI, Smoking, Stroke, PhysicalHealth, Sex, Ag...   \n",
       "11  (BMI, Smoking, AlcoholDrinking, Stroke, DiffWa...   \n",
       "12  (BMI, Smoking, Stroke, MentalHealth, DiffWalki...   \n",
       "13  (BMI, Smoking, Stroke, Sex, AgeCategory, Diabe...   \n",
       "14  (BMI, Smoking, Stroke, Sex, AgeCategory, Diabe...   \n",
       "15  (BMI, Smoking, AlcoholDrinking, Stroke, Physic...   \n",
       "16  (BMI, Smoking, AlcoholDrinking, Stroke, DiffWa...   \n",
       "17  (BMI, Smoking, Stroke, MentalHealth, DiffWalki...   \n",
       "18  (BMI, Smoking, AlcoholDrinking, Stroke, Sex, A...   \n",
       "19  (BMI, Smoking, Stroke, DiffWalking, Sex, AgeCa...   \n",
       "\n",
       "                               Index Features     Error      Tiempo  \n",
       "0                               (3, 7, 8, 11)  0.239976  630.348278  \n",
       "1                               (3, 7, 8, 11)  0.239514  608.058978  \n",
       "2                               (3, 7, 8, 11)   0.23972  594.610523  \n",
       "3                               (3, 7, 8, 11)   0.23892  624.448365  \n",
       "4                               (3, 7, 8, 11)  0.238304  622.233586  \n",
       "5                         (0, 3, 7, 8, 9, 11)  0.233377  600.833387  \n",
       "6                         (0, 3, 7, 8, 9, 11)  0.233463  574.538786  \n",
       "7                         (1, 3, 7, 8, 9, 11)  0.234263  566.206243  \n",
       "8                         (0, 3, 7, 8, 9, 11)  0.232596  591.833849  \n",
       "9                         (1, 3, 7, 8, 9, 11)  0.232915  594.522488  \n",
       "10          (0, 1, 3, 4, 7, 8, 9, 11, 12, 14)  0.230021   449.35404  \n",
       "11           (0, 1, 2, 3, 6, 7, 8, 9, 11, 15)  0.230472  433.248319  \n",
       "12           (0, 1, 3, 5, 6, 7, 8, 9, 11, 14)  0.229011  451.549591  \n",
       "13         (0, 1, 3, 7, 8, 9, 11, 12, 13, 14)  0.228463  447.774426  \n",
       "14         (0, 1, 3, 7, 8, 9, 11, 12, 14, 15)  0.228189  447.405137  \n",
       "15   (0, 1, 2, 3, 4, 7, 8, 9, 11, 12, 14, 15)  0.229747   332.15756  \n",
       "16   (0, 1, 2, 3, 6, 7, 8, 9, 11, 12, 14, 15)  0.229285  327.070373  \n",
       "17   (0, 1, 3, 5, 6, 7, 8, 9, 11, 13, 14, 15)  0.227755  340.722582  \n",
       "18  (0, 1, 2, 3, 7, 8, 9, 11, 12, 13, 14, 15)  0.227732  337.877079  \n",
       "19  (0, 1, 3, 6, 7, 8, 9, 11, 12, 13, 14, 15)  0.227207  336.778401  "
      ]
     },
     "execution_count": 9,
     "metadata": {},
     "output_type": "execute_result"
    }
   ],
   "source": [
    "features=[4,6,10,12]\n",
    "resultados=train_select_features(model,5,features,X_new,Y_new)\n",
    "resultados= pd.DataFrame.from_dict(resultados, orient='index')\n",
    "resultados=resultados.transpose()\n",
    "resultados"
   ]
  },
  {
   "cell_type": "markdown",
   "id": "c2b363b1",
   "metadata": {
    "papermill": {
     "duration": 0.011254,
     "end_time": "2022-10-26T22:20:37.293123",
     "exception": false,
     "start_time": "2022-10-26T22:20:37.281869",
     "status": "completed"
    },
    "tags": []
   },
   "source": [
    "# Gráfica de los resultados obtenidos"
   ]
  },
  {
   "cell_type": "code",
   "execution_count": 10,
   "id": "f95e3243",
   "metadata": {
    "execution": {
     "iopub.execute_input": "2022-10-26T22:20:37.318611Z",
     "iopub.status.busy": "2022-10-26T22:20:37.317878Z",
     "iopub.status.idle": "2022-10-26T22:20:37.695137Z",
     "shell.execute_reply": "2022-10-26T22:20:37.693783Z"
    },
    "papermill": {
     "duration": 0.392744,
     "end_time": "2022-10-26T22:20:37.697639",
     "exception": false,
     "start_time": "2022-10-26T22:20:37.304895",
     "status": "completed"
    },
    "tags": []
   },
   "outputs": [
    {
     "data": {
      "image/png": "[encoded data removed]",
      "text/plain": [
       "<Figure size 432x288 with 1 Axes>"
      ]
     },
     "metadata": {
      "needs_background": "light"
     },
     "output_type": "display_data"
    }
   ],
   "source": [
    "sns.lineplot(data=resultados,x=\"Features\",y=\"Error\")\n",
    "plt.show()"
   ]
  },
  {
   "cell_type": "code",
   "execution_count": 11,
   "id": "9395c987",
   "metadata": {
    "execution": {
     "iopub.execute_input": "2022-10-26T22:20:37.725308Z",
     "iopub.status.busy": "2022-10-26T22:20:37.724231Z",
     "iopub.status.idle": "2022-10-26T22:20:38.029345Z",
     "shell.execute_reply": "2022-10-26T22:20:38.028236Z"
    },
    "papermill": {
     "duration": 0.32109,
     "end_time": "2022-10-26T22:20:38.031651",
     "exception": false,
     "start_time": "2022-10-26T22:20:37.710561",
     "status": "completed"
    },
    "tags": []
   },
   "outputs": [
    {
     "data": {
      "image/png": "[encoded data removed]",
      "text/plain": [
       "<Figure size 432x288 with 1 Axes>"
      ]
     },
     "metadata": {
      "needs_background": "light"
     },
     "output_type": "display_data"
    }
   ],
   "source": [
    "sns.lineplot(data=resultados,x=\"Features\",y=\"Tiempo\")\n",
    "plt.show()"
   ]
  },
  {
   "cell_type": "code",
   "execution_count": 12,
   "id": "74b3d2fa",
   "metadata": {
    "execution": {
     "iopub.execute_input": "2022-10-26T22:20:38.058422Z",
     "iopub.status.busy": "2022-10-26T22:20:38.058010Z",
     "iopub.status.idle": "2022-10-26T22:20:38.080524Z",
     "shell.execute_reply": "2022-10-26T22:20:38.079172Z"
    },
    "papermill": {
     "duration": 0.038598,
     "end_time": "2022-10-26T22:20:38.082790",
     "exception": false,
     "start_time": "2022-10-26T22:20:38.044192",
     "status": "completed"
    },
    "tags": []
   },
   "outputs": [
    {
     "data": {
      "text/html": [
       "<div>\n",
       "<style scoped>\n",
       "    .dataframe tbody tr th:only-of-type {\n",
       "        vertical-align: middle;\n",
       "    }\n",
       "\n",
       "    .dataframe tbody tr th {\n",
       "        vertical-align: top;\n",
       "    }\n",
       "\n",
       "    .dataframe thead th {\n",
       "        text-align: right;\n",
       "    }\n",
       "</style>\n",
       "<table border=\"1\" class=\"dataframe\">\n",
       "  <thead>\n",
       "    <tr style=\"text-align: right;\">\n",
       "      <th></th>\n",
       "      <th>Modelo</th>\n",
       "      <th>Features</th>\n",
       "      <th>Name Features</th>\n",
       "      <th>Index Features</th>\n",
       "      <th>Error</th>\n",
       "      <th>Tiempo</th>\n",
       "    </tr>\n",
       "  </thead>\n",
       "  <tbody>\n",
       "    <tr>\n",
       "      <th>19</th>\n",
       "      <td>GradientBoostingClassifier(n_estimators=150, r...</td>\n",
       "      <td>12</td>\n",
       "      <td>(BMI, Smoking, Stroke, DiffWalking, Sex, AgeCa...</td>\n",
       "      <td>(0, 1, 3, 6, 7, 8, 9, 11, 12, 13, 14, 15)</td>\n",
       "      <td>0.227207</td>\n",
       "      <td>336.778401</td>\n",
       "    </tr>\n",
       "    <tr>\n",
       "      <th>18</th>\n",
       "      <td>GradientBoostingClassifier(n_estimators=150, r...</td>\n",
       "      <td>12</td>\n",
       "      <td>(BMI, Smoking, AlcoholDrinking, Stroke, Sex, A...</td>\n",
       "      <td>(0, 1, 2, 3, 7, 8, 9, 11, 12, 13, 14, 15)</td>\n",
       "      <td>0.227732</td>\n",
       "      <td>337.877079</td>\n",
       "    </tr>\n",
       "    <tr>\n",
       "      <th>17</th>\n",
       "      <td>GradientBoostingClassifier(n_estimators=150, r...</td>\n",
       "      <td>12</td>\n",
       "      <td>(BMI, Smoking, Stroke, MentalHealth, DiffWalki...</td>\n",
       "      <td>(0, 1, 3, 5, 6, 7, 8, 9, 11, 13, 14, 15)</td>\n",
       "      <td>0.227755</td>\n",
       "      <td>340.722582</td>\n",
       "    </tr>\n",
       "    <tr>\n",
       "      <th>14</th>\n",
       "      <td>GradientBoostingClassifier(n_estimators=150, r...</td>\n",
       "      <td>10</td>\n",
       "      <td>(BMI, Smoking, Stroke, Sex, AgeCategory, Diabe...</td>\n",
       "      <td>(0, 1, 3, 7, 8, 9, 11, 12, 14, 15)</td>\n",
       "      <td>0.228189</td>\n",
       "      <td>447.405137</td>\n",
       "    </tr>\n",
       "    <tr>\n",
       "      <th>13</th>\n",
       "      <td>GradientBoostingClassifier(n_estimators=150, r...</td>\n",
       "      <td>10</td>\n",
       "      <td>(BMI, Smoking, Stroke, Sex, AgeCategory, Diabe...</td>\n",
       "      <td>(0, 1, 3, 7, 8, 9, 11, 12, 13, 14)</td>\n",
       "      <td>0.228463</td>\n",
       "      <td>447.774426</td>\n",
       "    </tr>\n",
       "    <tr>\n",
       "      <th>12</th>\n",
       "      <td>GradientBoostingClassifier(n_estimators=150, r...</td>\n",
       "      <td>10</td>\n",
       "      <td>(BMI, Smoking, Stroke, MentalHealth, DiffWalki...</td>\n",
       "      <td>(0, 1, 3, 5, 6, 7, 8, 9, 11, 14)</td>\n",
       "      <td>0.229011</td>\n",
       "      <td>451.549591</td>\n",
       "    </tr>\n",
       "    <tr>\n",
       "      <th>16</th>\n",
       "      <td>GradientBoostingClassifier(n_estimators=150, r...</td>\n",
       "      <td>12</td>\n",
       "      <td>(BMI, Smoking, AlcoholDrinking, Stroke, DiffWa...</td>\n",
       "      <td>(0, 1, 2, 3, 6, 7, 8, 9, 11, 12, 14, 15)</td>\n",
       "      <td>0.229285</td>\n",
       "      <td>327.070373</td>\n",
       "    </tr>\n",
       "    <tr>\n",
       "      <th>15</th>\n",
       "      <td>GradientBoostingClassifier(n_estimators=150, r...</td>\n",
       "      <td>12</td>\n",
       "      <td>(BMI, Smoking, AlcoholDrinking, Stroke, Physic...</td>\n",
       "      <td>(0, 1, 2, 3, 4, 7, 8, 9, 11, 12, 14, 15)</td>\n",
       "      <td>0.229747</td>\n",
       "      <td>332.15756</td>\n",
       "    </tr>\n",
       "    <tr>\n",
       "      <th>10</th>\n",
       "      <td>GradientBoostingClassifier(n_estimators=150, r...</td>\n",
       "      <td>10</td>\n",
       "      <td>(BMI, Smoking, Stroke, PhysicalHealth, Sex, Ag...</td>\n",
       "      <td>(0, 1, 3, 4, 7, 8, 9, 11, 12, 14)</td>\n",
       "      <td>0.230021</td>\n",
       "      <td>449.35404</td>\n",
       "    </tr>\n",
       "    <tr>\n",
       "      <th>11</th>\n",
       "      <td>GradientBoostingClassifier(n_estimators=150, r...</td>\n",
       "      <td>10</td>\n",
       "      <td>(BMI, Smoking, AlcoholDrinking, Stroke, DiffWa...</td>\n",
       "      <td>(0, 1, 2, 3, 6, 7, 8, 9, 11, 15)</td>\n",
       "      <td>0.230472</td>\n",
       "      <td>433.248319</td>\n",
       "    </tr>\n",
       "  </tbody>\n",
       "</table>\n",
       "</div>"
      ],
      "text/plain": [
       "                                               Modelo Features  \\\n",
       "19  GradientBoostingClassifier(n_estimators=150, r...       12   \n",
       "18  GradientBoostingClassifier(n_estimators=150, r...       12   \n",
       "17  GradientBoostingClassifier(n_estimators=150, r...       12   \n",
       "14  GradientBoostingClassifier(n_estimators=150, r...       10   \n",
       "13  GradientBoostingClassifier(n_estimators=150, r...       10   \n",
       "12  GradientBoostingClassifier(n_estimators=150, r...       10   \n",
       "16  GradientBoostingClassifier(n_estimators=150, r...       12   \n",
       "15  GradientBoostingClassifier(n_estimators=150, r...       12   \n",
       "10  GradientBoostingClassifier(n_estimators=150, r...       10   \n",
       "11  GradientBoostingClassifier(n_estimators=150, r...       10   \n",
       "\n",
       "                                        Name Features  \\\n",
       "19  (BMI, Smoking, Stroke, DiffWalking, Sex, AgeCa...   \n",
       "18  (BMI, Smoking, AlcoholDrinking, Stroke, Sex, A...   \n",
       "17  (BMI, Smoking, Stroke, MentalHealth, DiffWalki...   \n",
       "14  (BMI, Smoking, Stroke, Sex, AgeCategory, Diabe...   \n",
       "13  (BMI, Smoking, Stroke, Sex, AgeCategory, Diabe...   \n",
       "12  (BMI, Smoking, Stroke, MentalHealth, DiffWalki...   \n",
       "16  (BMI, Smoking, AlcoholDrinking, Stroke, DiffWa...   \n",
       "15  (BMI, Smoking, AlcoholDrinking, Stroke, Physic...   \n",
       "10  (BMI, Smoking, Stroke, PhysicalHealth, Sex, Ag...   \n",
       "11  (BMI, Smoking, AlcoholDrinking, Stroke, DiffWa...   \n",
       "\n",
       "                               Index Features     Error      Tiempo  \n",
       "19  (0, 1, 3, 6, 7, 8, 9, 11, 12, 13, 14, 15)  0.227207  336.778401  \n",
       "18  (0, 1, 2, 3, 7, 8, 9, 11, 12, 13, 14, 15)  0.227732  337.877079  \n",
       "17   (0, 1, 3, 5, 6, 7, 8, 9, 11, 13, 14, 15)  0.227755  340.722582  \n",
       "14         (0, 1, 3, 7, 8, 9, 11, 12, 14, 15)  0.228189  447.405137  \n",
       "13         (0, 1, 3, 7, 8, 9, 11, 12, 13, 14)  0.228463  447.774426  \n",
       "12           (0, 1, 3, 5, 6, 7, 8, 9, 11, 14)  0.229011  451.549591  \n",
       "16   (0, 1, 2, 3, 6, 7, 8, 9, 11, 12, 14, 15)  0.229285  327.070373  \n",
       "15   (0, 1, 2, 3, 4, 7, 8, 9, 11, 12, 14, 15)  0.229747   332.15756  \n",
       "10          (0, 1, 3, 4, 7, 8, 9, 11, 12, 14)  0.230021   449.35404  \n",
       "11           (0, 1, 2, 3, 6, 7, 8, 9, 11, 15)  0.230472  433.248319  "
      ]
     },
     "execution_count": 12,
     "metadata": {},
     "output_type": "execute_result"
    }
   ],
   "source": [
    "resultados.sort_values(by ='Error', ascending =True).head(10)"
   ]
  },
  {
   "cell_type": "code",
   "execution_count": 13,
   "id": "20439a2e",
   "metadata": {
    "execution": {
     "iopub.execute_input": "2022-10-26T22:20:38.110573Z",
     "iopub.status.busy": "2022-10-26T22:20:38.110175Z",
     "iopub.status.idle": "2022-10-26T22:20:38.132661Z",
     "shell.execute_reply": "2022-10-26T22:20:38.131580Z"
    },
    "papermill": {
     "duration": 0.038932,
     "end_time": "2022-10-26T22:20:38.134912",
     "exception": false,
     "start_time": "2022-10-26T22:20:38.095980",
     "status": "completed"
    },
    "tags": []
   },
   "outputs": [
    {
     "data": {
      "text/html": [
       "<div>\n",
       "<style scoped>\n",
       "    .dataframe tbody tr th:only-of-type {\n",
       "        vertical-align: middle;\n",
       "    }\n",
       "\n",
       "    .dataframe tbody tr th {\n",
       "        vertical-align: top;\n",
       "    }\n",
       "\n",
       "    .dataframe thead th {\n",
       "        text-align: right;\n",
       "    }\n",
       "</style>\n",
       "<table border=\"1\" class=\"dataframe\">\n",
       "  <thead>\n",
       "    <tr style=\"text-align: right;\">\n",
       "      <th></th>\n",
       "      <th>Modelo</th>\n",
       "      <th>Features</th>\n",
       "      <th>Name Features</th>\n",
       "      <th>Index Features</th>\n",
       "      <th>Error</th>\n",
       "      <th>Tiempo</th>\n",
       "    </tr>\n",
       "  </thead>\n",
       "  <tbody>\n",
       "    <tr>\n",
       "      <th>16</th>\n",
       "      <td>GradientBoostingClassifier(n_estimators=150, r...</td>\n",
       "      <td>12</td>\n",
       "      <td>(BMI, Smoking, AlcoholDrinking, Stroke, DiffWa...</td>\n",
       "      <td>(0, 1, 2, 3, 6, 7, 8, 9, 11, 12, 14, 15)</td>\n",
       "      <td>0.229285</td>\n",
       "      <td>327.070373</td>\n",
       "    </tr>\n",
       "    <tr>\n",
       "      <th>15</th>\n",
       "      <td>GradientBoostingClassifier(n_estimators=150, r...</td>\n",
       "      <td>12</td>\n",
       "      <td>(BMI, Smoking, AlcoholDrinking, Stroke, Physic...</td>\n",
       "      <td>(0, 1, 2, 3, 4, 7, 8, 9, 11, 12, 14, 15)</td>\n",
       "      <td>0.229747</td>\n",
       "      <td>332.15756</td>\n",
       "    </tr>\n",
       "    <tr>\n",
       "      <th>19</th>\n",
       "      <td>GradientBoostingClassifier(n_estimators=150, r...</td>\n",
       "      <td>12</td>\n",
       "      <td>(BMI, Smoking, Stroke, DiffWalking, Sex, AgeCa...</td>\n",
       "      <td>(0, 1, 3, 6, 7, 8, 9, 11, 12, 13, 14, 15)</td>\n",
       "      <td>0.227207</td>\n",
       "      <td>336.778401</td>\n",
       "    </tr>\n",
       "    <tr>\n",
       "      <th>18</th>\n",
       "      <td>GradientBoostingClassifier(n_estimators=150, r...</td>\n",
       "      <td>12</td>\n",
       "      <td>(BMI, Smoking, AlcoholDrinking, Stroke, Sex, A...</td>\n",
       "      <td>(0, 1, 2, 3, 7, 8, 9, 11, 12, 13, 14, 15)</td>\n",
       "      <td>0.227732</td>\n",
       "      <td>337.877079</td>\n",
       "    </tr>\n",
       "    <tr>\n",
       "      <th>17</th>\n",
       "      <td>GradientBoostingClassifier(n_estimators=150, r...</td>\n",
       "      <td>12</td>\n",
       "      <td>(BMI, Smoking, Stroke, MentalHealth, DiffWalki...</td>\n",
       "      <td>(0, 1, 3, 5, 6, 7, 8, 9, 11, 13, 14, 15)</td>\n",
       "      <td>0.227755</td>\n",
       "      <td>340.722582</td>\n",
       "    </tr>\n",
       "    <tr>\n",
       "      <th>11</th>\n",
       "      <td>GradientBoostingClassifier(n_estimators=150, r...</td>\n",
       "      <td>10</td>\n",
       "      <td>(BMI, Smoking, AlcoholDrinking, Stroke, DiffWa...</td>\n",
       "      <td>(0, 1, 2, 3, 6, 7, 8, 9, 11, 15)</td>\n",
       "      <td>0.230472</td>\n",
       "      <td>433.248319</td>\n",
       "    </tr>\n",
       "    <tr>\n",
       "      <th>14</th>\n",
       "      <td>GradientBoostingClassifier(n_estimators=150, r...</td>\n",
       "      <td>10</td>\n",
       "      <td>(BMI, Smoking, Stroke, Sex, AgeCategory, Diabe...</td>\n",
       "      <td>(0, 1, 3, 7, 8, 9, 11, 12, 14, 15)</td>\n",
       "      <td>0.228189</td>\n",
       "      <td>447.405137</td>\n",
       "    </tr>\n",
       "    <tr>\n",
       "      <th>13</th>\n",
       "      <td>GradientBoostingClassifier(n_estimators=150, r...</td>\n",
       "      <td>10</td>\n",
       "      <td>(BMI, Smoking, Stroke, Sex, AgeCategory, Diabe...</td>\n",
       "      <td>(0, 1, 3, 7, 8, 9, 11, 12, 13, 14)</td>\n",
       "      <td>0.228463</td>\n",
       "      <td>447.774426</td>\n",
       "    </tr>\n",
       "    <tr>\n",
       "      <th>10</th>\n",
       "      <td>GradientBoostingClassifier(n_estimators=150, r...</td>\n",
       "      <td>10</td>\n",
       "      <td>(BMI, Smoking, Stroke, PhysicalHealth, Sex, Ag...</td>\n",
       "      <td>(0, 1, 3, 4, 7, 8, 9, 11, 12, 14)</td>\n",
       "      <td>0.230021</td>\n",
       "      <td>449.35404</td>\n",
       "    </tr>\n",
       "    <tr>\n",
       "      <th>12</th>\n",
       "      <td>GradientBoostingClassifier(n_estimators=150, r...</td>\n",
       "      <td>10</td>\n",
       "      <td>(BMI, Smoking, Stroke, MentalHealth, DiffWalki...</td>\n",
       "      <td>(0, 1, 3, 5, 6, 7, 8, 9, 11, 14)</td>\n",
       "      <td>0.229011</td>\n",
       "      <td>451.549591</td>\n",
       "    </tr>\n",
       "  </tbody>\n",
       "</table>\n",
       "</div>"
      ],
      "text/plain": [
       "                                               Modelo Features  \\\n",
       "16  GradientBoostingClassifier(n_estimators=150, r...       12   \n",
       "15  GradientBoostingClassifier(n_estimators=150, r...       12   \n",
       "19  GradientBoostingClassifier(n_estimators=150, r...       12   \n",
       "18  GradientBoostingClassifier(n_estimators=150, r...       12   \n",
       "17  GradientBoostingClassifier(n_estimators=150, r...       12   \n",
       "11  GradientBoostingClassifier(n_estimators=150, r...       10   \n",
       "14  GradientBoostingClassifier(n_estimators=150, r...       10   \n",
       "13  GradientBoostingClassifier(n_estimators=150, r...       10   \n",
       "10  GradientBoostingClassifier(n_estimators=150, r...       10   \n",
       "12  GradientBoostingClassifier(n_estimators=150, r...       10   \n",
       "\n",
       "                                        Name Features  \\\n",
       "16  (BMI, Smoking, AlcoholDrinking, Stroke, DiffWa...   \n",
       "15  (BMI, Smoking, AlcoholDrinking, Stroke, Physic...   \n",
       "19  (BMI, Smoking, Stroke, DiffWalking, Sex, AgeCa...   \n",
       "18  (BMI, Smoking, AlcoholDrinking, Stroke, Sex, A...   \n",
       "17  (BMI, Smoking, Stroke, MentalHealth, DiffWalki...   \n",
       "11  (BMI, Smoking, AlcoholDrinking, Stroke, DiffWa...   \n",
       "14  (BMI, Smoking, Stroke, Sex, AgeCategory, Diabe...   \n",
       "13  (BMI, Smoking, Stroke, Sex, AgeCategory, Diabe...   \n",
       "10  (BMI, Smoking, Stroke, PhysicalHealth, Sex, Ag...   \n",
       "12  (BMI, Smoking, Stroke, MentalHealth, DiffWalki...   \n",
       "\n",
       "                               Index Features     Error      Tiempo  \n",
       "16   (0, 1, 2, 3, 6, 7, 8, 9, 11, 12, 14, 15)  0.229285  327.070373  \n",
       "15   (0, 1, 2, 3, 4, 7, 8, 9, 11, 12, 14, 15)  0.229747   332.15756  \n",
       "19  (0, 1, 3, 6, 7, 8, 9, 11, 12, 13, 14, 15)  0.227207  336.778401  \n",
       "18  (0, 1, 2, 3, 7, 8, 9, 11, 12, 13, 14, 15)  0.227732  337.877079  \n",
       "17   (0, 1, 3, 5, 6, 7, 8, 9, 11, 13, 14, 15)  0.227755  340.722582  \n",
       "11           (0, 1, 2, 3, 6, 7, 8, 9, 11, 15)  0.230472  433.248319  \n",
       "14         (0, 1, 3, 7, 8, 9, 11, 12, 14, 15)  0.228189  447.405137  \n",
       "13         (0, 1, 3, 7, 8, 9, 11, 12, 13, 14)  0.228463  447.774426  \n",
       "10          (0, 1, 3, 4, 7, 8, 9, 11, 12, 14)  0.230021   449.35404  \n",
       "12           (0, 1, 3, 5, 6, 7, 8, 9, 11, 14)  0.229011  451.549591  "
      ]
     },
     "execution_count": 13,
     "metadata": {},
     "output_type": "execute_result"
    }
   ],
   "source": [
    "resultados.sort_values(by ='Tiempo', ascending =True).head(10)"
   ]
  },
  {
   "cell_type": "markdown",
   "id": "d3ece88c",
   "metadata": {
    "papermill": {
     "duration": 0.012847,
     "end_time": "2022-10-26T22:20:38.161021",
     "exception": false,
     "start_time": "2022-10-26T22:20:38.148174",
     "status": "completed"
    },
    "tags": []
   },
   "source": [
    "# Función para el entrenamiento de los modelos"
   ]
  },
  {
   "cell_type": "code",
   "execution_count": 14,
   "id": "87a90c94",
   "metadata": {
    "execution": {
     "iopub.execute_input": "2022-10-26T22:20:38.190202Z",
     "iopub.status.busy": "2022-10-26T22:20:38.189495Z",
     "iopub.status.idle": "2022-10-26T22:20:38.196344Z",
     "shell.execute_reply": "2022-10-26T22:20:38.195558Z"
    },
    "papermill": {
     "duration": 0.024038,
     "end_time": "2022-10-26T22:20:38.198740",
     "exception": false,
     "start_time": "2022-10-26T22:20:38.174702",
     "status": "completed"
    },
    "tags": []
   },
   "outputs": [],
   "source": [
    "def entrenarModelo(model_train, Xtrain,Ytrain,Xtest,Ytest):\n",
    "    model.fit(X=Xtrain,y=Ytrain)\n",
    "    Ypred=model.predict(Xtest)\n",
    "\n",
    "    print(f'Model: {str(model)}')\n",
    "    print(f'Accuracy Score: {accuracy_score(Ytest,Ypred)}')\n",
    "    print(f'Recall Score: {recall_score(Ytest,Ypred)}')\n",
    "    print(f'F1-Score: {f1_score(Ytest,Ypred)}')\n",
    "    cm = confusion_matrix(Ytest, Ypred, labels=model_train.classes_)\n",
    "    disp = ConfusionMatrixDisplay(confusion_matrix=cm,display_labels=model_train.classes_)\n",
    "    disp.plot()\n",
    "    return model_train"
   ]
  },
  {
   "cell_type": "markdown",
   "id": "43f1a199",
   "metadata": {
    "papermill": {
     "duration": 0.012924,
     "end_time": "2022-10-26T22:20:38.225552",
     "exception": false,
     "start_time": "2022-10-26T22:20:38.212628",
     "status": "completed"
    },
    "tags": []
   },
   "source": [
    "# Función para la validación del modelo con datos reales"
   ]
  },
  {
   "cell_type": "code",
   "execution_count": 15,
   "id": "2a56f685",
   "metadata": {
    "execution": {
     "iopub.execute_input": "2022-10-26T22:20:38.254675Z",
     "iopub.status.busy": "2022-10-26T22:20:38.254254Z",
     "iopub.status.idle": "2022-10-26T22:20:38.261299Z",
     "shell.execute_reply": "2022-10-26T22:20:38.260063Z"
    },
    "papermill": {
     "duration": 0.024079,
     "end_time": "2022-10-26T22:20:38.263743",
     "exception": false,
     "start_time": "2022-10-26T22:20:38.239664",
     "status": "completed"
    },
    "tags": []
   },
   "outputs": [],
   "source": [
    "def validarModelo(model, X, Y):\n",
    "  y_pred=model.predict(X)\n",
    "  print(\"Accuracy:\",accuracy_score(Y, y_pred))\n",
    "  print(f'Precission Score: {precision_score(Y,y_pred)}')\n",
    "  print(f'Recall Score: {recall_score(Y,y_pred)}')\n",
    "  print(f'F1-Score: {f1_score(Y,y_pred)}')\n",
    "  cm = confusion_matrix(Y, y_pred, labels=model.classes_)\n",
    "  disp = ConfusionMatrixDisplay(confusion_matrix=cm,display_labels=model.classes_)\n",
    "  disp.plot()"
   ]
  },
  {
   "cell_type": "markdown",
   "id": "0d5bc2b7",
   "metadata": {
    "papermill": {
     "duration": 0.013019,
     "end_time": "2022-10-26T22:20:38.290101",
     "exception": false,
     "start_time": "2022-10-26T22:20:38.277082",
     "status": "completed"
    },
    "tags": []
   },
   "source": [
    "# Función para seleccionar la data\n",
    "Esta función se encarga de extraer del dataframe original las caracteríticas seleccionadas a través de sus índices, para luego entrenar el modelo solo con esas caracteríticas seleccionadas"
   ]
  },
  {
   "cell_type": "code",
   "execution_count": 16,
   "id": "21be5ef0",
   "metadata": {
    "execution": {
     "iopub.execute_input": "2022-10-26T22:20:38.319469Z",
     "iopub.status.busy": "2022-10-26T22:20:38.319090Z",
     "iopub.status.idle": "2022-10-26T22:20:38.324147Z",
     "shell.execute_reply": "2022-10-26T22:20:38.322932Z"
    },
    "papermill": {
     "duration": 0.022521,
     "end_time": "2022-10-26T22:20:38.326487",
     "exception": false,
     "start_time": "2022-10-26T22:20:38.303966",
     "status": "completed"
    },
    "tags": []
   },
   "outputs": [],
   "source": [
    "def select_data(data,index):\n",
    "    return data.iloc[:,index]"
   ]
  },
  {
   "cell_type": "markdown",
   "id": "eef24e28",
   "metadata": {
    "papermill": {
     "duration": 0.013904,
     "end_time": "2022-10-26T22:20:38.353966",
     "exception": false,
     "start_time": "2022-10-26T22:20:38.340062",
     "status": "completed"
    },
    "tags": []
   },
   "source": [
    "# Función para particionar los datos\n",
    "Partimos los datos en train y test en una proporción 70-30. 70% de los datos para entrenar el modelo y 30% de los datos para la validación del mismo."
   ]
  },
  {
   "cell_type": "code",
   "execution_count": 17,
   "id": "fef224b4",
   "metadata": {
    "execution": {
     "iopub.execute_input": "2022-10-26T22:20:38.383737Z",
     "iopub.status.busy": "2022-10-26T22:20:38.382986Z",
     "iopub.status.idle": "2022-10-26T22:20:38.387642Z",
     "shell.execute_reply": "2022-10-26T22:20:38.386872Z"
    },
    "papermill": {
     "duration": 0.021713,
     "end_time": "2022-10-26T22:20:38.389854",
     "exception": false,
     "start_time": "2022-10-26T22:20:38.368141",
     "status": "completed"
    },
    "tags": []
   },
   "outputs": [],
   "source": [
    "def split_data(X,Y):\n",
    "    return train_test_split(X,Y,test_size=0.3,random_state=50)"
   ]
  },
  {
   "cell_type": "markdown",
   "id": "bee7f33a",
   "metadata": {
    "papermill": {
     "duration": 0.013572,
     "end_time": "2022-10-26T22:20:38.417755",
     "exception": false,
     "start_time": "2022-10-26T22:20:38.404183",
     "status": "completed"
    },
    "tags": []
   },
   "source": [
    "# Cargamos los datos reales"
   ]
  },
  {
   "cell_type": "code",
   "execution_count": 18,
   "id": "9a51b1cf",
   "metadata": {
    "execution": {
     "iopub.execute_input": "2022-10-26T22:20:38.447104Z",
     "iopub.status.busy": "2022-10-26T22:20:38.446400Z",
     "iopub.status.idle": "2022-10-26T22:20:38.474963Z",
     "shell.execute_reply": "2022-10-26T22:20:38.474068Z"
    },
    "papermill": {
     "duration": 0.045657,
     "end_time": "2022-10-26T22:20:38.477058",
     "exception": false,
     "start_time": "2022-10-26T22:20:38.431401",
     "status": "completed"
    },
    "tags": []
   },
   "outputs": [
    {
     "data": {
      "text/html": [
       "<div>\n",
       "<style scoped>\n",
       "    .dataframe tbody tr th:only-of-type {\n",
       "        vertical-align: middle;\n",
       "    }\n",
       "\n",
       "    .dataframe tbody tr th {\n",
       "        vertical-align: top;\n",
       "    }\n",
       "\n",
       "    .dataframe thead th {\n",
       "        text-align: right;\n",
       "    }\n",
       "</style>\n",
       "<table border=\"1\" class=\"dataframe\">\n",
       "  <thead>\n",
       "    <tr style=\"text-align: right;\">\n",
       "      <th></th>\n",
       "      <th>HeartDisease</th>\n",
       "      <th>BMI</th>\n",
       "      <th>Smoking</th>\n",
       "      <th>AlcoholDrinking</th>\n",
       "      <th>Stroke</th>\n",
       "      <th>PhysicalHealth</th>\n",
       "      <th>MentalHealth</th>\n",
       "      <th>DiffWalking</th>\n",
       "      <th>Sex</th>\n",
       "      <th>AgeCategory</th>\n",
       "      <th>Diabetic</th>\n",
       "      <th>PhysicalActivity</th>\n",
       "      <th>GenHealth</th>\n",
       "      <th>SleepTime</th>\n",
       "      <th>Asthma</th>\n",
       "      <th>KidneyDisease</th>\n",
       "      <th>SkinCancer</th>\n",
       "    </tr>\n",
       "  </thead>\n",
       "  <tbody>\n",
       "    <tr>\n",
       "      <th>0</th>\n",
       "      <td>0</td>\n",
       "      <td>1</td>\n",
       "      <td>0</td>\n",
       "      <td>0</td>\n",
       "      <td>0</td>\n",
       "      <td>0</td>\n",
       "      <td>0</td>\n",
       "      <td>0</td>\n",
       "      <td>8</td>\n",
       "      <td>10</td>\n",
       "      <td>0</td>\n",
       "      <td>0</td>\n",
       "      <td>5</td>\n",
       "      <td>6</td>\n",
       "      <td>0</td>\n",
       "      <td>0</td>\n",
       "      <td>0</td>\n",
       "    </tr>\n",
       "    <tr>\n",
       "      <th>1</th>\n",
       "      <td>0</td>\n",
       "      <td>4</td>\n",
       "      <td>0</td>\n",
       "      <td>0</td>\n",
       "      <td>0</td>\n",
       "      <td>0</td>\n",
       "      <td>0</td>\n",
       "      <td>0</td>\n",
       "      <td>8</td>\n",
       "      <td>10</td>\n",
       "      <td>0</td>\n",
       "      <td>1</td>\n",
       "      <td>5</td>\n",
       "      <td>6</td>\n",
       "      <td>1</td>\n",
       "      <td>0</td>\n",
       "      <td>0</td>\n",
       "    </tr>\n",
       "    <tr>\n",
       "      <th>2</th>\n",
       "      <td>1</td>\n",
       "      <td>8</td>\n",
       "      <td>1</td>\n",
       "      <td>0</td>\n",
       "      <td>1</td>\n",
       "      <td>25</td>\n",
       "      <td>28</td>\n",
       "      <td>1</td>\n",
       "      <td>9</td>\n",
       "      <td>20</td>\n",
       "      <td>1</td>\n",
       "      <td>0</td>\n",
       "      <td>3</td>\n",
       "      <td>9</td>\n",
       "      <td>0</td>\n",
       "      <td>1</td>\n",
       "      <td>0</td>\n",
       "    </tr>\n",
       "    <tr>\n",
       "      <th>3</th>\n",
       "      <td>0</td>\n",
       "      <td>5</td>\n",
       "      <td>0</td>\n",
       "      <td>0</td>\n",
       "      <td>0</td>\n",
       "      <td>0</td>\n",
       "      <td>0</td>\n",
       "      <td>0</td>\n",
       "      <td>9</td>\n",
       "      <td>10</td>\n",
       "      <td>0</td>\n",
       "      <td>0</td>\n",
       "      <td>6</td>\n",
       "      <td>6</td>\n",
       "      <td>0</td>\n",
       "      <td>0</td>\n",
       "      <td>0</td>\n",
       "    </tr>\n",
       "    <tr>\n",
       "      <th>4</th>\n",
       "      <td>1</td>\n",
       "      <td>12</td>\n",
       "      <td>0</td>\n",
       "      <td>1</td>\n",
       "      <td>1</td>\n",
       "      <td>30</td>\n",
       "      <td>15</td>\n",
       "      <td>1</td>\n",
       "      <td>8</td>\n",
       "      <td>18</td>\n",
       "      <td>1</td>\n",
       "      <td>0</td>\n",
       "      <td>4</td>\n",
       "      <td>4</td>\n",
       "      <td>1</td>\n",
       "      <td>1</td>\n",
       "      <td>1</td>\n",
       "    </tr>\n",
       "  </tbody>\n",
       "</table>\n",
       "</div>"
      ],
      "text/plain": [
       "   HeartDisease  BMI  Smoking  AlcoholDrinking  Stroke  PhysicalHealth  \\\n",
       "0             0    1        0                0       0               0   \n",
       "1             0    4        0                0       0               0   \n",
       "2             1    8        1                0       1              25   \n",
       "3             0    5        0                0       0               0   \n",
       "4             1   12        0                1       1              30   \n",
       "\n",
       "   MentalHealth  DiffWalking  Sex  AgeCategory  Diabetic  PhysicalActivity  \\\n",
       "0             0            0    8           10         0                 0   \n",
       "1             0            0    8           10         0                 1   \n",
       "2            28            1    9           20         1                 0   \n",
       "3             0            0    9           10         0                 0   \n",
       "4            15            1    8           18         1                 0   \n",
       "\n",
       "   GenHealth  SleepTime  Asthma  KidneyDisease  SkinCancer  \n",
       "0          5          6       0              0           0  \n",
       "1          5          6       1              0           0  \n",
       "2          3          9       0              1           0  \n",
       "3          6          6       0              0           0  \n",
       "4          4          4       1              1           1  "
      ]
     },
     "execution_count": 18,
     "metadata": {},
     "output_type": "execute_result"
    }
   ],
   "source": [
    "data_real=pd.read_csv(\"/kaggle/input/datosreales/DatosReales.csv\")\n",
    "df_real=data_real.copy()\n",
    "df_real[\"BMI\"] = encoder.fit_transform(df_real[\"BMI\"])\n",
    "df_real.head()"
   ]
  },
  {
   "cell_type": "code",
   "execution_count": 19,
   "id": "23b7a249",
   "metadata": {
    "execution": {
     "iopub.execute_input": "2022-10-26T22:20:38.507214Z",
     "iopub.status.busy": "2022-10-26T22:20:38.506524Z",
     "iopub.status.idle": "2022-10-26T22:20:38.511735Z",
     "shell.execute_reply": "2022-10-26T22:20:38.510734Z"
    },
    "papermill": {
     "duration": 0.022517,
     "end_time": "2022-10-26T22:20:38.514114",
     "exception": false,
     "start_time": "2022-10-26T22:20:38.491597",
     "status": "completed"
    },
    "tags": []
   },
   "outputs": [],
   "source": [
    "X_real=df_real.iloc[:,1:]\n",
    "Y_real=df_real.iloc[:,0]"
   ]
  },
  {
   "cell_type": "markdown",
   "id": "4aca73c1",
   "metadata": {
    "papermill": {
     "duration": 0.013681,
     "end_time": "2022-10-26T22:20:38.541551",
     "exception": false,
     "start_time": "2022-10-26T22:20:38.527870",
     "status": "completed"
    },
    "tags": []
   },
   "source": [
    "# Modelo con 4 características seleccionadas"
   ]
  },
  {
   "cell_type": "code",
   "execution_count": 20,
   "id": "db797094",
   "metadata": {
    "execution": {
     "iopub.execute_input": "2022-10-26T22:20:38.571570Z",
     "iopub.status.busy": "2022-10-26T22:20:38.570854Z",
     "iopub.status.idle": "2022-10-26T22:20:38.584897Z",
     "shell.execute_reply": "2022-10-26T22:20:38.583709Z"
    },
    "papermill": {
     "duration": 0.031832,
     "end_time": "2022-10-26T22:20:38.587582",
     "exception": false,
     "start_time": "2022-10-26T22:20:38.555750",
     "status": "completed"
    },
    "tags": []
   },
   "outputs": [
    {
     "data": {
      "text/html": [
       "<div>\n",
       "<style scoped>\n",
       "    .dataframe tbody tr th:only-of-type {\n",
       "        vertical-align: middle;\n",
       "    }\n",
       "\n",
       "    .dataframe tbody tr th {\n",
       "        vertical-align: top;\n",
       "    }\n",
       "\n",
       "    .dataframe thead th {\n",
       "        text-align: right;\n",
       "    }\n",
       "</style>\n",
       "<table border=\"1\" class=\"dataframe\">\n",
       "  <thead>\n",
       "    <tr style=\"text-align: right;\">\n",
       "      <th></th>\n",
       "      <th>Stroke</th>\n",
       "      <th>Sex</th>\n",
       "      <th>AgeCategory</th>\n",
       "      <th>GenHealth</th>\n",
       "    </tr>\n",
       "  </thead>\n",
       "  <tbody>\n",
       "    <tr>\n",
       "      <th>0</th>\n",
       "      <td>-0.198040</td>\n",
       "      <td>1.050739</td>\n",
       "      <td>-0.144340</td>\n",
       "      <td>-0.570542</td>\n",
       "    </tr>\n",
       "    <tr>\n",
       "      <th>1</th>\n",
       "      <td>-0.198040</td>\n",
       "      <td>-0.951711</td>\n",
       "      <td>0.136184</td>\n",
       "      <td>1.347157</td>\n",
       "    </tr>\n",
       "    <tr>\n",
       "      <th>2</th>\n",
       "      <td>5.049478</td>\n",
       "      <td>1.050739</td>\n",
       "      <td>1.538806</td>\n",
       "      <td>-0.570542</td>\n",
       "    </tr>\n",
       "    <tr>\n",
       "      <th>3</th>\n",
       "      <td>-0.198040</td>\n",
       "      <td>1.050739</td>\n",
       "      <td>-0.985913</td>\n",
       "      <td>-0.570542</td>\n",
       "    </tr>\n",
       "    <tr>\n",
       "      <th>4</th>\n",
       "      <td>-0.198040</td>\n",
       "      <td>1.050739</td>\n",
       "      <td>-0.424864</td>\n",
       "      <td>0.388307</td>\n",
       "    </tr>\n",
       "  </tbody>\n",
       "</table>\n",
       "</div>"
      ],
      "text/plain": [
       "     Stroke       Sex  AgeCategory  GenHealth\n",
       "0 -0.198040  1.050739    -0.144340  -0.570542\n",
       "1 -0.198040 -0.951711     0.136184   1.347157\n",
       "2  5.049478  1.050739     1.538806  -0.570542\n",
       "3 -0.198040  1.050739    -0.985913  -0.570542\n",
       "4 -0.198040  1.050739    -0.424864   0.388307"
      ]
     },
     "execution_count": 20,
     "metadata": {},
     "output_type": "execute_result"
    }
   ],
   "source": [
    "selected_data=select_data(X_new,np.array(resultados[\"Index Features\"][0]))\n",
    "selected_data.head()"
   ]
  },
  {
   "cell_type": "code",
   "execution_count": 21,
   "id": "96d461b7",
   "metadata": {
    "execution": {
     "iopub.execute_input": "2022-10-26T22:20:38.618430Z",
     "iopub.status.busy": "2022-10-26T22:20:38.618030Z",
     "iopub.status.idle": "2022-10-26T22:20:38.631054Z",
     "shell.execute_reply": "2022-10-26T22:20:38.629798Z"
    },
    "papermill": {
     "duration": 0.031561,
     "end_time": "2022-10-26T22:20:38.633706",
     "exception": false,
     "start_time": "2022-10-26T22:20:38.602145",
     "status": "completed"
    },
    "tags": []
   },
   "outputs": [],
   "source": [
    "X_train,X_test,y_train,y_test=split_data(selected_data,Y_new)"
   ]
  },
  {
   "cell_type": "code",
   "execution_count": 22,
   "id": "499ce5a9",
   "metadata": {
    "execution": {
     "iopub.execute_input": "2022-10-26T22:20:38.664480Z",
     "iopub.status.busy": "2022-10-26T22:20:38.664070Z",
     "iopub.status.idle": "2022-10-26T22:20:41.005176Z",
     "shell.execute_reply": "2022-10-26T22:20:41.004278Z"
    },
    "papermill": {
     "duration": 2.359478,
     "end_time": "2022-10-26T22:20:41.007816",
     "exception": false,
     "start_time": "2022-10-26T22:20:38.648338",
     "status": "completed"
    },
    "tags": []
   },
   "outputs": [
    {
     "name": "stdout",
     "output_type": "stream",
     "text": [
      "Model: GradientBoostingClassifier(n_estimators=150, random_state=0)\n",
      "Accuracy Score: 0.7606551388212373\n",
      "Recall Score: 0.8087789499211835\n",
      "F1-Score: 0.772393028776562\n"
     ]
    },
    {
     "data": {
      "image/png": "[encoded data removed]",
      "text/plain": [
       "<Figure size 432x288 with 2 Axes>"
      ]
     },
     "metadata": {
      "needs_background": "light"
     },
     "output_type": "display_data"
    }
   ],
   "source": [
    "modelo_entrenado=entrenarModelo(model,X_train,y_train,X_test,y_test)\n"
   ]
  },
  {
   "cell_type": "markdown",
   "id": "55d1c5e7",
   "metadata": {
    "papermill": {
     "duration": 0.01452,
     "end_time": "2022-10-26T22:20:41.037852",
     "exception": false,
     "start_time": "2022-10-26T22:20:41.023332",
     "status": "completed"
    },
    "tags": []
   },
   "source": [
    "## Validación del modelo con datos reales"
   ]
  },
  {
   "cell_type": "code",
   "execution_count": 23,
   "id": "0741253b",
   "metadata": {
    "execution": {
     "iopub.execute_input": "2022-10-26T22:20:41.068575Z",
     "iopub.status.busy": "2022-10-26T22:20:41.068156Z",
     "iopub.status.idle": "2022-10-26T22:20:41.074772Z",
     "shell.execute_reply": "2022-10-26T22:20:41.073371Z"
    },
    "papermill": {
     "duration": 0.024666,
     "end_time": "2022-10-26T22:20:41.077141",
     "exception": false,
     "start_time": "2022-10-26T22:20:41.052475",
     "status": "completed"
    },
    "tags": []
   },
   "outputs": [],
   "source": [
    "X_real_seleccionada=select_data(X_real,np.array(resultados[\"Index Features\"][0]))"
   ]
  },
  {
   "cell_type": "code",
   "execution_count": 24,
   "id": "da5f4288",
   "metadata": {
    "execution": {
     "iopub.execute_input": "2022-10-26T22:20:41.108804Z",
     "iopub.status.busy": "2022-10-26T22:20:41.108098Z",
     "iopub.status.idle": "2022-10-26T22:20:41.369474Z",
     "shell.execute_reply": "2022-10-26T22:20:41.368321Z"
    },
    "papermill": {
     "duration": 0.280251,
     "end_time": "2022-10-26T22:20:41.372422",
     "exception": false,
     "start_time": "2022-10-26T22:20:41.092171",
     "status": "completed"
    },
    "tags": []
   },
   "outputs": [
    {
     "name": "stdout",
     "output_type": "stream",
     "text": [
      "Accuracy: 0.4666666666666667\n",
      "Precission Score: 0.4666666666666667\n",
      "Recall Score: 1.0\n",
      "F1-Score: 0.6363636363636364\n"
     ]
    },
    {
     "data": {
      "image/png": "[encoded data removed]",
      "text/plain": [
       "<Figure size 432x288 with 2 Axes>"
      ]
     },
     "metadata": {
      "needs_background": "light"
     },
     "output_type": "display_data"
    }
   ],
   "source": [
    "validarModelo(modelo_entrenado,X_real_seleccionada,Y_real)\n"
   ]
  },
  {
   "cell_type": "markdown",
   "id": "c1eb1cd3",
   "metadata": {
    "papermill": {
     "duration": 0.01505,
     "end_time": "2022-10-26T22:20:41.402493",
     "exception": false,
     "start_time": "2022-10-26T22:20:41.387443",
     "status": "completed"
    },
    "tags": []
   },
   "source": [
    "# Modelo con 6 características seleccionadas\n"
   ]
  },
  {
   "cell_type": "code",
   "execution_count": 25,
   "id": "24d5c452",
   "metadata": {
    "execution": {
     "iopub.execute_input": "2022-10-26T22:20:41.434305Z",
     "iopub.status.busy": "2022-10-26T22:20:41.433888Z",
     "iopub.status.idle": "2022-10-26T22:20:41.450023Z",
     "shell.execute_reply": "2022-10-26T22:20:41.448737Z"
    },
    "papermill": {
     "duration": 0.034787,
     "end_time": "2022-10-26T22:20:41.452115",
     "exception": false,
     "start_time": "2022-10-26T22:20:41.417328",
     "status": "completed"
    },
    "tags": []
   },
   "outputs": [
    {
     "data": {
      "text/html": [
       "<div>\n",
       "<style scoped>\n",
       "    .dataframe tbody tr th:only-of-type {\n",
       "        vertical-align: middle;\n",
       "    }\n",
       "\n",
       "    .dataframe tbody tr th {\n",
       "        vertical-align: top;\n",
       "    }\n",
       "\n",
       "    .dataframe thead th {\n",
       "        text-align: right;\n",
       "    }\n",
       "</style>\n",
       "<table border=\"1\" class=\"dataframe\">\n",
       "  <thead>\n",
       "    <tr style=\"text-align: right;\">\n",
       "      <th></th>\n",
       "      <th>BMI</th>\n",
       "      <th>Stroke</th>\n",
       "      <th>Sex</th>\n",
       "      <th>AgeCategory</th>\n",
       "      <th>Diabetic</th>\n",
       "      <th>GenHealth</th>\n",
       "    </tr>\n",
       "  </thead>\n",
       "  <tbody>\n",
       "    <tr>\n",
       "      <th>0</th>\n",
       "      <td>0.450686</td>\n",
       "      <td>-0.198040</td>\n",
       "      <td>1.050739</td>\n",
       "      <td>-0.144340</td>\n",
       "      <td>2.524911</td>\n",
       "      <td>-0.570542</td>\n",
       "    </tr>\n",
       "    <tr>\n",
       "      <th>1</th>\n",
       "      <td>-1.155647</td>\n",
       "      <td>-0.198040</td>\n",
       "      <td>-0.951711</td>\n",
       "      <td>0.136184</td>\n",
       "      <td>-0.396054</td>\n",
       "      <td>1.347157</td>\n",
       "    </tr>\n",
       "    <tr>\n",
       "      <th>2</th>\n",
       "      <td>1.457594</td>\n",
       "      <td>5.049478</td>\n",
       "      <td>1.050739</td>\n",
       "      <td>1.538806</td>\n",
       "      <td>-0.396054</td>\n",
       "      <td>-0.570542</td>\n",
       "    </tr>\n",
       "    <tr>\n",
       "      <th>3</th>\n",
       "      <td>-0.836269</td>\n",
       "      <td>-0.198040</td>\n",
       "      <td>1.050739</td>\n",
       "      <td>-0.985913</td>\n",
       "      <td>-0.396054</td>\n",
       "      <td>-0.570542</td>\n",
       "    </tr>\n",
       "    <tr>\n",
       "      <th>4</th>\n",
       "      <td>-0.402039</td>\n",
       "      <td>-0.198040</td>\n",
       "      <td>1.050739</td>\n",
       "      <td>-0.424864</td>\n",
       "      <td>-0.396054</td>\n",
       "      <td>0.388307</td>\n",
       "    </tr>\n",
       "  </tbody>\n",
       "</table>\n",
       "</div>"
      ],
      "text/plain": [
       "        BMI    Stroke       Sex  AgeCategory  Diabetic  GenHealth\n",
       "0  0.450686 -0.198040  1.050739    -0.144340  2.524911  -0.570542\n",
       "1 -1.155647 -0.198040 -0.951711     0.136184 -0.396054   1.347157\n",
       "2  1.457594  5.049478  1.050739     1.538806 -0.396054  -0.570542\n",
       "3 -0.836269 -0.198040  1.050739    -0.985913 -0.396054  -0.570542\n",
       "4 -0.402039 -0.198040  1.050739    -0.424864 -0.396054   0.388307"
      ]
     },
     "execution_count": 25,
     "metadata": {},
     "output_type": "execute_result"
    }
   ],
   "source": [
    "selected_data=select_data(X_new,np.array(resultados[\"Index Features\"][5]))\n",
    "selected_data.head()"
   ]
  },
  {
   "cell_type": "code",
   "execution_count": 26,
   "id": "9740e467",
   "metadata": {
    "execution": {
     "iopub.execute_input": "2022-10-26T22:20:41.483931Z",
     "iopub.status.busy": "2022-10-26T22:20:41.483460Z",
     "iopub.status.idle": "2022-10-26T22:20:41.497263Z",
     "shell.execute_reply": "2022-10-26T22:20:41.496121Z"
    },
    "papermill": {
     "duration": 0.032678,
     "end_time": "2022-10-26T22:20:41.499817",
     "exception": false,
     "start_time": "2022-10-26T22:20:41.467139",
     "status": "completed"
    },
    "tags": []
   },
   "outputs": [],
   "source": [
    "X_train,X_test,y_train,y_test=split_data(selected_data,Y_new)\n"
   ]
  },
  {
   "cell_type": "code",
   "execution_count": 27,
   "id": "424a6d33",
   "metadata": {
    "execution": {
     "iopub.execute_input": "2022-10-26T22:20:41.532158Z",
     "iopub.status.busy": "2022-10-26T22:20:41.531292Z",
     "iopub.status.idle": "2022-10-26T22:20:45.348265Z",
     "shell.execute_reply": "2022-10-26T22:20:45.347040Z"
    },
    "papermill": {
     "duration": 3.83589,
     "end_time": "2022-10-26T22:20:45.350754",
     "exception": false,
     "start_time": "2022-10-26T22:20:41.514864",
     "status": "completed"
    },
    "tags": []
   },
   "outputs": [
    {
     "name": "stdout",
     "output_type": "stream",
     "text": [
      "Model: GradientBoostingClassifier(n_estimators=150, random_state=0)\n",
      "Accuracy Score: 0.7638821237213833\n",
      "Recall Score: 0.8064750818479447\n",
      "F1-Score: 0.7742724097788126\n"
     ]
    },
    {
     "data": {
      "image/png": "[encoded data removed]",
      "text/plain": [
       "<Figure size 432x288 with 2 Axes>"
      ]
     },
     "metadata": {
      "needs_background": "light"
     },
     "output_type": "display_data"
    }
   ],
   "source": [
    "modelo_entrenado=entrenarModelo(model,X_train,y_train,X_test,y_test)\n"
   ]
  },
  {
   "cell_type": "markdown",
   "id": "bd4ebf81",
   "metadata": {
    "papermill": {
     "duration": 0.015576,
     "end_time": "2022-10-26T22:20:45.381899",
     "exception": false,
     "start_time": "2022-10-26T22:20:45.366323",
     "status": "completed"
    },
    "tags": []
   },
   "source": [
    "## Validación del modelo con datos reales"
   ]
  },
  {
   "cell_type": "code",
   "execution_count": 28,
   "id": "6af5eca5",
   "metadata": {
    "execution": {
     "iopub.execute_input": "2022-10-26T22:20:45.414693Z",
     "iopub.status.busy": "2022-10-26T22:20:45.414204Z",
     "iopub.status.idle": "2022-10-26T22:20:45.420892Z",
     "shell.execute_reply": "2022-10-26T22:20:45.419787Z"
    },
    "papermill": {
     "duration": 0.025735,
     "end_time": "2022-10-26T22:20:45.423126",
     "exception": false,
     "start_time": "2022-10-26T22:20:45.397391",
     "status": "completed"
    },
    "tags": []
   },
   "outputs": [],
   "source": [
    "X_real_seleccionada=select_data(X_real,np.array(resultados[\"Index Features\"][5]))\n"
   ]
  },
  {
   "cell_type": "code",
   "execution_count": 29,
   "id": "a5dfa91b",
   "metadata": {
    "execution": {
     "iopub.execute_input": "2022-10-26T22:20:45.456432Z",
     "iopub.status.busy": "2022-10-26T22:20:45.456027Z",
     "iopub.status.idle": "2022-10-26T22:20:45.721467Z",
     "shell.execute_reply": "2022-10-26T22:20:45.720246Z"
    },
    "papermill": {
     "duration": 0.28547,
     "end_time": "2022-10-26T22:20:45.724237",
     "exception": false,
     "start_time": "2022-10-26T22:20:45.438767",
     "status": "completed"
    },
    "tags": []
   },
   "outputs": [
    {
     "name": "stdout",
     "output_type": "stream",
     "text": [
      "Accuracy: 0.4666666666666667\n",
      "Precission Score: 0.4666666666666667\n",
      "Recall Score: 1.0\n",
      "F1-Score: 0.6363636363636364\n"
     ]
    },
    {
     "data": {
      "image/png": "[encoded data removed]",
      "text/plain": [
       "<Figure size 432x288 with 2 Axes>"
      ]
     },
     "metadata": {
      "needs_background": "light"
     },
     "output_type": "display_data"
    }
   ],
   "source": [
    "validarModelo(modelo_entrenado,X_real_seleccionada,Y_real)\n"
   ]
  },
  {
   "cell_type": "markdown",
   "id": "a0888ea2",
   "metadata": {
    "papermill": {
     "duration": 0.016233,
     "end_time": "2022-10-26T22:20:45.757257",
     "exception": false,
     "start_time": "2022-10-26T22:20:45.741024",
     "status": "completed"
    },
    "tags": []
   },
   "source": [
    "# Modelo con 10 características seleccionadas"
   ]
  },
  {
   "cell_type": "code",
   "execution_count": 30,
   "id": "675ac105",
   "metadata": {
    "execution": {
     "iopub.execute_input": "2022-10-26T22:20:45.791234Z",
     "iopub.status.busy": "2022-10-26T22:20:45.790816Z",
     "iopub.status.idle": "2022-10-26T22:20:45.809951Z",
     "shell.execute_reply": "2022-10-26T22:20:45.808820Z"
    },
    "papermill": {
     "duration": 0.039054,
     "end_time": "2022-10-26T22:20:45.812297",
     "exception": false,
     "start_time": "2022-10-26T22:20:45.773243",
     "status": "completed"
    },
    "tags": []
   },
   "outputs": [
    {
     "data": {
      "text/html": [
       "<div>\n",
       "<style scoped>\n",
       "    .dataframe tbody tr th:only-of-type {\n",
       "        vertical-align: middle;\n",
       "    }\n",
       "\n",
       "    .dataframe tbody tr th {\n",
       "        vertical-align: top;\n",
       "    }\n",
       "\n",
       "    .dataframe thead th {\n",
       "        text-align: right;\n",
       "    }\n",
       "</style>\n",
       "<table border=\"1\" class=\"dataframe\">\n",
       "  <thead>\n",
       "    <tr style=\"text-align: right;\">\n",
       "      <th></th>\n",
       "      <th>BMI</th>\n",
       "      <th>Smoking</th>\n",
       "      <th>Stroke</th>\n",
       "      <th>PhysicalHealth</th>\n",
       "      <th>Sex</th>\n",
       "      <th>AgeCategory</th>\n",
       "      <th>Diabetic</th>\n",
       "      <th>GenHealth</th>\n",
       "      <th>SleepTime</th>\n",
       "      <th>KidneyDisease</th>\n",
       "    </tr>\n",
       "  </thead>\n",
       "  <tbody>\n",
       "    <tr>\n",
       "      <th>0</th>\n",
       "      <td>0.450686</td>\n",
       "      <td>-0.837890</td>\n",
       "      <td>-0.198040</td>\n",
       "      <td>-0.172524</td>\n",
       "      <td>1.050739</td>\n",
       "      <td>-0.144340</td>\n",
       "      <td>2.524911</td>\n",
       "      <td>-0.570542</td>\n",
       "      <td>-0.067601</td>\n",
       "      <td>-0.195554</td>\n",
       "    </tr>\n",
       "    <tr>\n",
       "      <th>1</th>\n",
       "      <td>-1.155647</td>\n",
       "      <td>-0.837890</td>\n",
       "      <td>-0.198040</td>\n",
       "      <td>-0.424070</td>\n",
       "      <td>-0.951711</td>\n",
       "      <td>0.136184</td>\n",
       "      <td>-0.396054</td>\n",
       "      <td>1.347157</td>\n",
       "      <td>-1.460354</td>\n",
       "      <td>-0.195554</td>\n",
       "    </tr>\n",
       "    <tr>\n",
       "      <th>2</th>\n",
       "      <td>1.457594</td>\n",
       "      <td>1.193474</td>\n",
       "      <td>5.049478</td>\n",
       "      <td>0.079022</td>\n",
       "      <td>1.050739</td>\n",
       "      <td>1.538806</td>\n",
       "      <td>-0.396054</td>\n",
       "      <td>-0.570542</td>\n",
       "      <td>2.021529</td>\n",
       "      <td>-0.195554</td>\n",
       "    </tr>\n",
       "    <tr>\n",
       "      <th>3</th>\n",
       "      <td>-0.836269</td>\n",
       "      <td>1.193474</td>\n",
       "      <td>-0.198040</td>\n",
       "      <td>2.091388</td>\n",
       "      <td>1.050739</td>\n",
       "      <td>-0.985913</td>\n",
       "      <td>-0.396054</td>\n",
       "      <td>-0.570542</td>\n",
       "      <td>-0.763977</td>\n",
       "      <td>-0.195554</td>\n",
       "    </tr>\n",
       "    <tr>\n",
       "      <th>4</th>\n",
       "      <td>-0.402039</td>\n",
       "      <td>1.193474</td>\n",
       "      <td>-0.198040</td>\n",
       "      <td>-0.424070</td>\n",
       "      <td>1.050739</td>\n",
       "      <td>-0.424864</td>\n",
       "      <td>-0.396054</td>\n",
       "      <td>0.388307</td>\n",
       "      <td>-0.067601</td>\n",
       "      <td>-0.195554</td>\n",
       "    </tr>\n",
       "  </tbody>\n",
       "</table>\n",
       "</div>"
      ],
      "text/plain": [
       "        BMI   Smoking    Stroke  PhysicalHealth       Sex  AgeCategory  \\\n",
       "0  0.450686 -0.837890 -0.198040       -0.172524  1.050739    -0.144340   \n",
       "1 -1.155647 -0.837890 -0.198040       -0.424070 -0.951711     0.136184   \n",
       "2  1.457594  1.193474  5.049478        0.079022  1.050739     1.538806   \n",
       "3 -0.836269  1.193474 -0.198040        2.091388  1.050739    -0.985913   \n",
       "4 -0.402039  1.193474 -0.198040       -0.424070  1.050739    -0.424864   \n",
       "\n",
       "   Diabetic  GenHealth  SleepTime  KidneyDisease  \n",
       "0  2.524911  -0.570542  -0.067601      -0.195554  \n",
       "1 -0.396054   1.347157  -1.460354      -0.195554  \n",
       "2 -0.396054  -0.570542   2.021529      -0.195554  \n",
       "3 -0.396054  -0.570542  -0.763977      -0.195554  \n",
       "4 -0.396054   0.388307  -0.067601      -0.195554  "
      ]
     },
     "execution_count": 30,
     "metadata": {},
     "output_type": "execute_result"
    }
   ],
   "source": [
    "selected_data=select_data(X_new,np.array(resultados[\"Index Features\"][10]))\n",
    "selected_data.head()"
   ]
  },
  {
   "cell_type": "code",
   "execution_count": 31,
   "id": "c45f4588",
   "metadata": {
    "execution": {
     "iopub.execute_input": "2022-10-26T22:20:45.847227Z",
     "iopub.status.busy": "2022-10-26T22:20:45.846849Z",
     "iopub.status.idle": "2022-10-26T22:20:45.862370Z",
     "shell.execute_reply": "2022-10-26T22:20:45.861255Z"
    },
    "papermill": {
     "duration": 0.037157,
     "end_time": "2022-10-26T22:20:45.865465",
     "exception": false,
     "start_time": "2022-10-26T22:20:45.828308",
     "status": "completed"
    },
    "tags": []
   },
   "outputs": [],
   "source": [
    "X_train,X_test,y_train,y_test=split_data(selected_data,Y_new)\n"
   ]
  },
  {
   "cell_type": "code",
   "execution_count": 32,
   "id": "ed49373d",
   "metadata": {
    "execution": {
     "iopub.execute_input": "2022-10-26T22:20:45.900644Z",
     "iopub.status.busy": "2022-10-26T22:20:45.900237Z",
     "iopub.status.idle": "2022-10-26T22:20:50.699039Z",
     "shell.execute_reply": "2022-10-26T22:20:50.697796Z"
    },
    "papermill": {
     "duration": 4.819159,
     "end_time": "2022-10-26T22:20:50.701638",
     "exception": false,
     "start_time": "2022-10-26T22:20:45.882479",
     "status": "completed"
    },
    "tags": []
   },
   "outputs": [
    {
     "name": "stdout",
     "output_type": "stream",
     "text": [
      "Model: GradientBoostingClassifier(n_estimators=150, random_state=0)\n",
      "Accuracy Score: 0.7696663419386264\n",
      "Recall Score: 0.8064750818479447\n",
      "F1-Score: 0.7785776997366112\n"
     ]
    },
    {
     "data": {
      "image/png": "[encoded data removed]",
      "text/plain": [
       "<Figure size 432x288 with 2 Axes>"
      ]
     },
     "metadata": {
      "needs_background": "light"
     },
     "output_type": "display_data"
    }
   ],
   "source": [
    "modelo_entrenado=entrenarModelo(model,X_train,y_train,X_test,y_test)\n"
   ]
  },
  {
   "cell_type": "markdown",
   "id": "d33b840c",
   "metadata": {
    "papermill": {
     "duration": 0.017583,
     "end_time": "2022-10-26T22:20:50.737212",
     "exception": false,
     "start_time": "2022-10-26T22:20:50.719629",
     "status": "completed"
    },
    "tags": []
   },
   "source": [
    "## Validación del modelo con datos reales"
   ]
  },
  {
   "cell_type": "code",
   "execution_count": 33,
   "id": "df754712",
   "metadata": {
    "execution": {
     "iopub.execute_input": "2022-10-26T22:20:50.772353Z",
     "iopub.status.busy": "2022-10-26T22:20:50.771778Z",
     "iopub.status.idle": "2022-10-26T22:20:50.776484Z",
     "shell.execute_reply": "2022-10-26T22:20:50.775731Z"
    },
    "papermill": {
     "duration": 0.024583,
     "end_time": "2022-10-26T22:20:50.778554",
     "exception": false,
     "start_time": "2022-10-26T22:20:50.753971",
     "status": "completed"
    },
    "tags": []
   },
   "outputs": [],
   "source": [
    "X_real_seleccionada=select_data(X_real,np.array(resultados[\"Index Features\"][10]))"
   ]
  },
  {
   "cell_type": "code",
   "execution_count": 34,
   "id": "f119d7ca",
   "metadata": {
    "execution": {
     "iopub.execute_input": "2022-10-26T22:20:50.813734Z",
     "iopub.status.busy": "2022-10-26T22:20:50.813102Z",
     "iopub.status.idle": "2022-10-26T22:20:51.071904Z",
     "shell.execute_reply": "2022-10-26T22:20:51.070947Z"
    },
    "papermill": {
     "duration": 0.279688,
     "end_time": "2022-10-26T22:20:51.074837",
     "exception": false,
     "start_time": "2022-10-26T22:20:50.795149",
     "status": "completed"
    },
    "tags": []
   },
   "outputs": [
    {
     "name": "stdout",
     "output_type": "stream",
     "text": [
      "Accuracy: 0.4666666666666667\n",
      "Precission Score: 0.4666666666666667\n",
      "Recall Score: 1.0\n",
      "F1-Score: 0.6363636363636364\n"
     ]
    },
    {
     "data": {
      "image/png": "[encoded data removed]",
      "text/plain": [
       "<Figure size 432x288 with 2 Axes>"
      ]
     },
     "metadata": {
      "needs_background": "light"
     },
     "output_type": "display_data"
    }
   ],
   "source": [
    "validarModelo(modelo_entrenado,X_real_seleccionada,Y_real)\n"
   ]
  },
  {
   "cell_type": "markdown",
   "id": "eccc7660",
   "metadata": {
    "papermill": {
     "duration": 0.016983,
     "end_time": "2022-10-26T22:20:51.109313",
     "exception": false,
     "start_time": "2022-10-26T22:20:51.092330",
     "status": "completed"
    },
    "tags": []
   },
   "source": [
    "# Modelo con 12 características seleccionadas"
   ]
  },
  {
   "cell_type": "code",
   "execution_count": 35,
   "id": "f485a868",
   "metadata": {
    "execution": {
     "iopub.execute_input": "2022-10-26T22:20:51.146685Z",
     "iopub.status.busy": "2022-10-26T22:20:51.145671Z",
     "iopub.status.idle": "2022-10-26T22:20:51.165972Z",
     "shell.execute_reply": "2022-10-26T22:20:51.164824Z"
    },
    "papermill": {
     "duration": 0.041394,
     "end_time": "2022-10-26T22:20:51.168527",
     "exception": false,
     "start_time": "2022-10-26T22:20:51.127133",
     "status": "completed"
    },
    "tags": []
   },
   "outputs": [
    {
     "data": {
      "text/html": [
       "<div>\n",
       "<style scoped>\n",
       "    .dataframe tbody tr th:only-of-type {\n",
       "        vertical-align: middle;\n",
       "    }\n",
       "\n",
       "    .dataframe tbody tr th {\n",
       "        vertical-align: top;\n",
       "    }\n",
       "\n",
       "    .dataframe thead th {\n",
       "        text-align: right;\n",
       "    }\n",
       "</style>\n",
       "<table border=\"1\" class=\"dataframe\">\n",
       "  <thead>\n",
       "    <tr style=\"text-align: right;\">\n",
       "      <th></th>\n",
       "      <th>BMI</th>\n",
       "      <th>Smoking</th>\n",
       "      <th>AlcoholDrinking</th>\n",
       "      <th>Stroke</th>\n",
       "      <th>PhysicalHealth</th>\n",
       "      <th>Sex</th>\n",
       "      <th>AgeCategory</th>\n",
       "      <th>Diabetic</th>\n",
       "      <th>GenHealth</th>\n",
       "      <th>SleepTime</th>\n",
       "      <th>KidneyDisease</th>\n",
       "      <th>SkinCancer</th>\n",
       "    </tr>\n",
       "  </thead>\n",
       "  <tbody>\n",
       "    <tr>\n",
       "      <th>0</th>\n",
       "      <td>0.450686</td>\n",
       "      <td>-0.837890</td>\n",
       "      <td>-0.27032</td>\n",
       "      <td>-0.198040</td>\n",
       "      <td>-0.172524</td>\n",
       "      <td>1.050739</td>\n",
       "      <td>-0.144340</td>\n",
       "      <td>2.524911</td>\n",
       "      <td>-0.570542</td>\n",
       "      <td>-0.067601</td>\n",
       "      <td>-0.195554</td>\n",
       "      <td>-0.320675</td>\n",
       "    </tr>\n",
       "    <tr>\n",
       "      <th>1</th>\n",
       "      <td>-1.155647</td>\n",
       "      <td>-0.837890</td>\n",
       "      <td>-0.27032</td>\n",
       "      <td>-0.198040</td>\n",
       "      <td>-0.424070</td>\n",
       "      <td>-0.951711</td>\n",
       "      <td>0.136184</td>\n",
       "      <td>-0.396054</td>\n",
       "      <td>1.347157</td>\n",
       "      <td>-1.460354</td>\n",
       "      <td>-0.195554</td>\n",
       "      <td>-0.320675</td>\n",
       "    </tr>\n",
       "    <tr>\n",
       "      <th>2</th>\n",
       "      <td>1.457594</td>\n",
       "      <td>1.193474</td>\n",
       "      <td>-0.27032</td>\n",
       "      <td>5.049478</td>\n",
       "      <td>0.079022</td>\n",
       "      <td>1.050739</td>\n",
       "      <td>1.538806</td>\n",
       "      <td>-0.396054</td>\n",
       "      <td>-0.570542</td>\n",
       "      <td>2.021529</td>\n",
       "      <td>-0.195554</td>\n",
       "      <td>-0.320675</td>\n",
       "    </tr>\n",
       "    <tr>\n",
       "      <th>3</th>\n",
       "      <td>-0.836269</td>\n",
       "      <td>1.193474</td>\n",
       "      <td>-0.27032</td>\n",
       "      <td>-0.198040</td>\n",
       "      <td>2.091388</td>\n",
       "      <td>1.050739</td>\n",
       "      <td>-0.985913</td>\n",
       "      <td>-0.396054</td>\n",
       "      <td>-0.570542</td>\n",
       "      <td>-0.763977</td>\n",
       "      <td>-0.195554</td>\n",
       "      <td>-0.320675</td>\n",
       "    </tr>\n",
       "    <tr>\n",
       "      <th>4</th>\n",
       "      <td>-0.402039</td>\n",
       "      <td>1.193474</td>\n",
       "      <td>-0.27032</td>\n",
       "      <td>-0.198040</td>\n",
       "      <td>-0.424070</td>\n",
       "      <td>1.050739</td>\n",
       "      <td>-0.424864</td>\n",
       "      <td>-0.396054</td>\n",
       "      <td>0.388307</td>\n",
       "      <td>-0.067601</td>\n",
       "      <td>-0.195554</td>\n",
       "      <td>-0.320675</td>\n",
       "    </tr>\n",
       "  </tbody>\n",
       "</table>\n",
       "</div>"
      ],
      "text/plain": [
       "        BMI   Smoking  AlcoholDrinking    Stroke  PhysicalHealth       Sex  \\\n",
       "0  0.450686 -0.837890         -0.27032 -0.198040       -0.172524  1.050739   \n",
       "1 -1.155647 -0.837890         -0.27032 -0.198040       -0.424070 -0.951711   \n",
       "2  1.457594  1.193474         -0.27032  5.049478        0.079022  1.050739   \n",
       "3 -0.836269  1.193474         -0.27032 -0.198040        2.091388  1.050739   \n",
       "4 -0.402039  1.193474         -0.27032 -0.198040       -0.424070  1.050739   \n",
       "\n",
       "   AgeCategory  Diabetic  GenHealth  SleepTime  KidneyDisease  SkinCancer  \n",
       "0    -0.144340  2.524911  -0.570542  -0.067601      -0.195554   -0.320675  \n",
       "1     0.136184 -0.396054   1.347157  -1.460354      -0.195554   -0.320675  \n",
       "2     1.538806 -0.396054  -0.570542   2.021529      -0.195554   -0.320675  \n",
       "3    -0.985913 -0.396054  -0.570542  -0.763977      -0.195554   -0.320675  \n",
       "4    -0.424864 -0.396054   0.388307  -0.067601      -0.195554   -0.320675  "
      ]
     },
     "execution_count": 35,
     "metadata": {},
     "output_type": "execute_result"
    }
   ],
   "source": [
    "selected_data=select_data(X_new,np.array(resultados[\"Index Features\"][15]))\n",
    "selected_data.head()"
   ]
  },
  {
   "cell_type": "code",
   "execution_count": 36,
   "id": "3521ceb3",
   "metadata": {
    "execution": {
     "iopub.execute_input": "2022-10-26T22:20:51.205862Z",
     "iopub.status.busy": "2022-10-26T22:20:51.205434Z",
     "iopub.status.idle": "2022-10-26T22:20:51.224855Z",
     "shell.execute_reply": "2022-10-26T22:20:51.223666Z"
    },
    "papermill": {
     "duration": 0.041509,
     "end_time": "2022-10-26T22:20:51.227584",
     "exception": false,
     "start_time": "2022-10-26T22:20:51.186075",
     "status": "completed"
    },
    "tags": []
   },
   "outputs": [],
   "source": [
    "X_train,X_test,y_train,y_test=split_data(selected_data,Y_new)"
   ]
  },
  {
   "cell_type": "code",
   "execution_count": 37,
   "id": "ea1d60ca",
   "metadata": {
    "execution": {
     "iopub.execute_input": "2022-10-26T22:20:51.264156Z",
     "iopub.status.busy": "2022-10-26T22:20:51.263364Z",
     "iopub.status.idle": "2022-10-26T22:20:56.242657Z",
     "shell.execute_reply": "2022-10-26T22:20:56.241755Z"
    },
    "papermill": {
     "duration": 4.999968,
     "end_time": "2022-10-26T22:20:56.245030",
     "exception": false,
     "start_time": "2022-10-26T22:20:51.245062",
     "status": "completed"
    },
    "tags": []
   },
   "outputs": [
    {
     "name": "stdout",
     "output_type": "stream",
     "text": [
      "Model: GradientBoostingClassifier(n_estimators=150, random_state=0)\n",
      "Accuracy Score: 0.7703360935216756\n",
      "Recall Score: 0.8050200072753728\n",
      "F1-Score: 0.7787683284457477\n"
     ]
    },
    {
     "data": {
      "image/png": "[encoded data removed]",
      "text/plain": [
       "<Figure size 432x288 with 2 Axes>"
      ]
     },
     "metadata": {
      "needs_background": "light"
     },
     "output_type": "display_data"
    }
   ],
   "source": [
    "modelo_entrenado=entrenarModelo(model,X_train,y_train,X_test,y_test)\n"
   ]
  },
  {
   "cell_type": "markdown",
   "id": "bb1333fd",
   "metadata": {
    "papermill": {
     "duration": 0.018725,
     "end_time": "2022-10-26T22:20:56.282218",
     "exception": false,
     "start_time": "2022-10-26T22:20:56.263493",
     "status": "completed"
    },
    "tags": []
   },
   "source": [
    "## Validación del modelo con datos reales"
   ]
  },
  {
   "cell_type": "code",
   "execution_count": 38,
   "id": "9f6af456",
   "metadata": {
    "execution": {
     "iopub.execute_input": "2022-10-26T22:20:56.320657Z",
     "iopub.status.busy": "2022-10-26T22:20:56.320068Z",
     "iopub.status.idle": "2022-10-26T22:20:56.325033Z",
     "shell.execute_reply": "2022-10-26T22:20:56.324033Z"
    },
    "papermill": {
     "duration": 0.027346,
     "end_time": "2022-10-26T22:20:56.327394",
     "exception": false,
     "start_time": "2022-10-26T22:20:56.300048",
     "status": "completed"
    },
    "tags": []
   },
   "outputs": [],
   "source": [
    "X_real_seleccionada=select_data(X_real,np.array(resultados[\"Index Features\"][15]))\n"
   ]
  },
  {
   "cell_type": "code",
   "execution_count": 39,
   "id": "20d9eb95",
   "metadata": {
    "execution": {
     "iopub.execute_input": "2022-10-26T22:20:56.366254Z",
     "iopub.status.busy": "2022-10-26T22:20:56.365559Z",
     "iopub.status.idle": "2022-10-26T22:20:56.768983Z",
     "shell.execute_reply": "2022-10-26T22:20:56.767823Z"
    },
    "papermill": {
     "duration": 0.425673,
     "end_time": "2022-10-26T22:20:56.771466",
     "exception": false,
     "start_time": "2022-10-26T22:20:56.345793",
     "status": "completed"
    },
    "tags": []
   },
   "outputs": [
    {
     "name": "stdout",
     "output_type": "stream",
     "text": [
      "Accuracy: 0.4666666666666667\n",
      "Precission Score: 0.4666666666666667\n",
      "Recall Score: 1.0\n",
      "F1-Score: 0.6363636363636364\n"
     ]
    },
    {
     "data": {
      "image/png": "[encoded data removed]",
      "text/plain": [
       "<Figure size 432x288 with 2 Axes>"
      ]
     },
     "metadata": {
      "needs_background": "light"
     },
     "output_type": "display_data"
    }
   ],
   "source": [
    "validarModelo(modelo_entrenado,X_real_seleccionada,Y_real)\n"
   ]
  },
  {
   "cell_type": "code",
   "execution_count": null,
   "id": "5b37063f",
   "metadata": {
    "papermill": {
     "duration": 0.017898,
     "end_time": "2022-10-26T22:20:56.807425",
     "exception": false,
     "start_time": "2022-10-26T22:20:56.789527",
     "status": "completed"
    },
    "tags": []
   },
   "outputs": [],
   "source": []
  }
 ],
 "metadata": {
  "kernelspec": {
   "display_name": "Python 3",
   "language": "python",
   "name": "python3"
  },
  "language_info": {
   "codemirror_mode": {
    "name": "ipython",
    "version": 3
   },
   "file_extension": ".py",
   "mimetype": "text/x-python",
   "name": "python",
   "nbconvert_exporter": "python",
   "pygments_lexer": "ipython3",
   "version": "3.7.12"
  },
  "papermill": {
   "default_parameters": {},
   "duration": 9943.804933,
   "end_time": "2022-10-26T22:20:57.665545",
   "environment_variables": {},
   "exception": null,
   "input_path": "__notebook__.ipynb",
   "output_path": "__notebook__.ipynb",
   "parameters": {},
   "start_time": "2022-10-26T19:35:13.860612",
   "version": "2.3.4"
  }
 },
 "nbformat": 4,
 "nbformat_minor": 5
}
