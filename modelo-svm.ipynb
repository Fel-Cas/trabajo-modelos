{
 "cells": [
  {
   "cell_type": "code",
   "execution_count": 1,
   "id": "d09ee3c5",
   "metadata": {
    "_cell_guid": "b1076dfc-b9ad-4769-8c92-a6c4dae69d19",
    "_uuid": "8f2839f25d086af736a60e9eeb907d3b93b6e0e5",
    "execution": {
     "iopub.execute_input": "2022-10-20T16:56:31.242996Z",
     "iopub.status.busy": "2022-10-20T16:56:31.242159Z",
     "iopub.status.idle": "2022-10-20T16:56:32.387065Z",
     "shell.execute_reply": "2022-10-20T16:56:32.386055Z"
    },
    "papermill": {
     "duration": 1.158564,
     "end_time": "2022-10-20T16:56:32.389931",
     "exception": false,
     "start_time": "2022-10-20T16:56:31.231367",
     "status": "completed"
    },
    "tags": []
   },
   "outputs": [
    {
     "name": "stdout",
     "output_type": "stream",
     "text": [
      "/kaggle/input/results/resultados_svm.csv\n",
      "/kaggle/input/datasetmodified/dataset-modificado.csv\n",
      "/kaggle/working/__notebook__.ipynb\n"
     ]
    }
   ],
   "source": [
    "# This Python 3 environment comes with many helpful analytics libraries installed\n",
    "# It is defined by the kaggle/python Docker image: https://github.com/kaggle/docker-python\n",
    "# For example, here's several helpful packages to load\n",
    "\n",
    "import numpy as np # linear algebra\n",
    "import pandas as pd # data processing, CSV file I/O (e.g. pd.read_csv)\n",
    "from sklearn.preprocessing import StandardScaler\n",
    "from sklearn.model_selection import train_test_split\n",
    "from collections import Counter\n",
    "from imblearn.under_sampling import RandomUnderSampler\n",
    "from sklearn.svm import SVC\n",
    "from sklearn.multiclass import OneVsRestClassifier\n",
    "from sklearn.model_selection import StratifiedKFold\n",
    "from itertools import product\n",
    "from collections import Counter\n",
    "from sklearn.metrics import precision_score,recall_score,accuracy_score,f1_score,confusion_matrix,ConfusionMatrixDisplay\n",
    "import seaborn as sns\n",
    "import matplotlib.pyplot as plt\n",
    "import joblib \n",
    "from imblearn.under_sampling import RandomUnderSampler \n",
    "from imblearn.over_sampling import RandomOverSampler\n",
    "\n",
    "# Input data files are available in the read-only \"../input/\" directory\n",
    "# For example, running this (by clicking run or pressing Shift+Enter) will list all files under the input directory\n",
    "\n",
    "import os\n",
    "for dirname, _, filenames in os.walk('/kaggle/input'):\n",
    "    for filename in filenames:\n",
    "        print(os.path.join(dirname, filename))\n",
    "\n",
    "for dirname, _, filenames in os.walk('/kaggle/working'):\n",
    "    for filename in filenames:\n",
    "        print(os.path.join(dirname, filename))\n",
    "# You can write up to 20GB to the current directory (/kaggle/working/) that gets preserved as output when you create a version using \"Save & Run All\" \n",
    "# You can also write temporary files to /kaggle/temp/, but they won't be saved outside of the current session"
   ]
  },
  {
   "cell_type": "markdown",
   "id": "fa041565",
   "metadata": {
    "papermill": {
     "duration": 0.007534,
     "end_time": "2022-10-20T16:56:32.405658",
     "exception": false,
     "start_time": "2022-10-20T16:56:32.398124",
     "status": "completed"
    },
    "tags": []
   },
   "source": [
    "## Visualización inicial de los datos\n",
    "Hacemos una visualización inicial de los datos, observando que todos los datos están transfromados a datos numéricos. También eliminamos una columna que se nos creó cuando transformamos el dataset."
   ]
  },
  {
   "cell_type": "code",
   "execution_count": 2,
   "id": "62b6cd4e",
   "metadata": {
    "execution": {
     "iopub.execute_input": "2022-10-20T16:56:32.422244Z",
     "iopub.status.busy": "2022-10-20T16:56:32.421928Z",
     "iopub.status.idle": "2022-10-20T16:56:32.988200Z",
     "shell.execute_reply": "2022-10-20T16:56:32.987135Z"
    },
    "papermill": {
     "duration": 0.577116,
     "end_time": "2022-10-20T16:56:32.990444",
     "exception": false,
     "start_time": "2022-10-20T16:56:32.413328",
     "status": "completed"
    },
    "tags": []
   },
   "outputs": [
    {
     "data": {
      "text/html": [
       "<div>\n",
       "<style scoped>\n",
       "    .dataframe tbody tr th:only-of-type {\n",
       "        vertical-align: middle;\n",
       "    }\n",
       "\n",
       "    .dataframe tbody tr th {\n",
       "        vertical-align: top;\n",
       "    }\n",
       "\n",
       "    .dataframe thead th {\n",
       "        text-align: right;\n",
       "    }\n",
       "</style>\n",
       "<table border=\"1\" class=\"dataframe\">\n",
       "  <thead>\n",
       "    <tr style=\"text-align: right;\">\n",
       "      <th></th>\n",
       "      <th>HeartDisease</th>\n",
       "      <th>BMI</th>\n",
       "      <th>Smoking</th>\n",
       "      <th>AlcoholDrinking</th>\n",
       "      <th>Stroke</th>\n",
       "      <th>PhysicalHealth</th>\n",
       "      <th>MentalHealth</th>\n",
       "      <th>DiffWalking</th>\n",
       "      <th>Sex</th>\n",
       "      <th>AgeCategory</th>\n",
       "      <th>Diabetic</th>\n",
       "      <th>PhysicalActivity</th>\n",
       "      <th>GenHealth</th>\n",
       "      <th>SleepTime</th>\n",
       "      <th>Asthma</th>\n",
       "      <th>KidneyDisease</th>\n",
       "      <th>SkinCancer</th>\n",
       "    </tr>\n",
       "  </thead>\n",
       "  <tbody>\n",
       "    <tr>\n",
       "      <th>0</th>\n",
       "      <td>0</td>\n",
       "      <td>16.60</td>\n",
       "      <td>1</td>\n",
       "      <td>0</td>\n",
       "      <td>0</td>\n",
       "      <td>3.0</td>\n",
       "      <td>30.0</td>\n",
       "      <td>0</td>\n",
       "      <td>8</td>\n",
       "      <td>17</td>\n",
       "      <td>1</td>\n",
       "      <td>1</td>\n",
       "      <td>5</td>\n",
       "      <td>5.0</td>\n",
       "      <td>1</td>\n",
       "      <td>0</td>\n",
       "      <td>1</td>\n",
       "    </tr>\n",
       "    <tr>\n",
       "      <th>1</th>\n",
       "      <td>0</td>\n",
       "      <td>20.34</td>\n",
       "      <td>0</td>\n",
       "      <td>0</td>\n",
       "      <td>1</td>\n",
       "      <td>0.0</td>\n",
       "      <td>0.0</td>\n",
       "      <td>0</td>\n",
       "      <td>8</td>\n",
       "      <td>22</td>\n",
       "      <td>0</td>\n",
       "      <td>1</td>\n",
       "      <td>5</td>\n",
       "      <td>7.0</td>\n",
       "      <td>0</td>\n",
       "      <td>0</td>\n",
       "      <td>0</td>\n",
       "    </tr>\n",
       "    <tr>\n",
       "      <th>2</th>\n",
       "      <td>0</td>\n",
       "      <td>26.58</td>\n",
       "      <td>1</td>\n",
       "      <td>0</td>\n",
       "      <td>0</td>\n",
       "      <td>20.0</td>\n",
       "      <td>30.0</td>\n",
       "      <td>0</td>\n",
       "      <td>9</td>\n",
       "      <td>19</td>\n",
       "      <td>1</td>\n",
       "      <td>1</td>\n",
       "      <td>3</td>\n",
       "      <td>8.0</td>\n",
       "      <td>1</td>\n",
       "      <td>0</td>\n",
       "      <td>0</td>\n",
       "    </tr>\n",
       "    <tr>\n",
       "      <th>3</th>\n",
       "      <td>0</td>\n",
       "      <td>24.21</td>\n",
       "      <td>0</td>\n",
       "      <td>0</td>\n",
       "      <td>0</td>\n",
       "      <td>0.0</td>\n",
       "      <td>0.0</td>\n",
       "      <td>0</td>\n",
       "      <td>8</td>\n",
       "      <td>21</td>\n",
       "      <td>0</td>\n",
       "      <td>0</td>\n",
       "      <td>4</td>\n",
       "      <td>6.0</td>\n",
       "      <td>0</td>\n",
       "      <td>0</td>\n",
       "      <td>1</td>\n",
       "    </tr>\n",
       "    <tr>\n",
       "      <th>4</th>\n",
       "      <td>0</td>\n",
       "      <td>23.71</td>\n",
       "      <td>0</td>\n",
       "      <td>0</td>\n",
       "      <td>0</td>\n",
       "      <td>28.0</td>\n",
       "      <td>0.0</td>\n",
       "      <td>1</td>\n",
       "      <td>8</td>\n",
       "      <td>14</td>\n",
       "      <td>0</td>\n",
       "      <td>1</td>\n",
       "      <td>5</td>\n",
       "      <td>8.0</td>\n",
       "      <td>0</td>\n",
       "      <td>0</td>\n",
       "      <td>0</td>\n",
       "    </tr>\n",
       "  </tbody>\n",
       "</table>\n",
       "</div>"
      ],
      "text/plain": [
       "   HeartDisease    BMI  Smoking  AlcoholDrinking  Stroke  PhysicalHealth  \\\n",
       "0             0  16.60        1                0       0             3.0   \n",
       "1             0  20.34        0                0       1             0.0   \n",
       "2             0  26.58        1                0       0            20.0   \n",
       "3             0  24.21        0                0       0             0.0   \n",
       "4             0  23.71        0                0       0            28.0   \n",
       "\n",
       "   MentalHealth  DiffWalking  Sex  AgeCategory  Diabetic  PhysicalActivity  \\\n",
       "0          30.0            0    8           17         1                 1   \n",
       "1           0.0            0    8           22         0                 1   \n",
       "2          30.0            0    9           19         1                 1   \n",
       "3           0.0            0    8           21         0                 0   \n",
       "4           0.0            1    8           14         0                 1   \n",
       "\n",
       "   GenHealth  SleepTime  Asthma  KidneyDisease  SkinCancer  \n",
       "0          5        5.0       1              0           1  \n",
       "1          5        7.0       0              0           0  \n",
       "2          3        8.0       1              0           0  \n",
       "3          4        6.0       0              0           1  \n",
       "4          5        8.0       0              0           0  "
      ]
     },
     "execution_count": 2,
     "metadata": {},
     "output_type": "execute_result"
    }
   ],
   "source": [
    "data=pd.read_csv(\"/kaggle/input/datasetmodified/dataset-modificado.csv\")\n",
    "df=data.copy()\n",
    "df=df.drop([\"Unnamed: 0\"],axis=1)\n",
    "df.head()"
   ]
  },
  {
   "cell_type": "markdown",
   "id": "cb74c826",
   "metadata": {
    "papermill": {
     "duration": 0.007822,
     "end_time": "2022-10-20T16:56:33.007879",
     "exception": false,
     "start_time": "2022-10-20T16:56:33.000057",
     "status": "completed"
    },
    "tags": []
   },
   "source": [
    "## Dividimos el dataset\n",
    "Tomamos la mitad de los datos para hacer validación cruzada"
   ]
  },
  {
   "cell_type": "code",
   "execution_count": 3,
   "id": "a51a06a7",
   "metadata": {
    "execution": {
     "iopub.execute_input": "2022-10-20T16:56:33.025409Z",
     "iopub.status.busy": "2022-10-20T16:56:33.024569Z",
     "iopub.status.idle": "2022-10-20T16:56:33.067760Z",
     "shell.execute_reply": "2022-10-20T16:56:33.066796Z"
    },
    "papermill": {
     "duration": 0.054334,
     "end_time": "2022-10-20T16:56:33.070072",
     "exception": false,
     "start_time": "2022-10-20T16:56:33.015738",
     "status": "completed"
    },
    "tags": []
   },
   "outputs": [
    {
     "data": {
      "text/plain": [
       "(159898, 17)"
      ]
     },
     "execution_count": 3,
     "metadata": {},
     "output_type": "execute_result"
    }
   ],
   "source": [
    "df = df.sample(frac=0.5)\n",
    "df.shape"
   ]
  },
  {
   "cell_type": "markdown",
   "id": "f305cd59",
   "metadata": {
    "papermill": {
     "duration": 0.007933,
     "end_time": "2022-10-20T16:56:33.086377",
     "exception": false,
     "start_time": "2022-10-20T16:56:33.078444",
     "status": "completed"
    },
    "tags": []
   },
   "source": [
    "## Separamos los datos\n",
    "Separamos los datos de nuestro dataset, ponemos las características que vamos a utilizar para entrenar en la variable X y la variable a predecir en la varibale Y."
   ]
  },
  {
   "cell_type": "code",
   "execution_count": 4,
   "id": "11862e7d",
   "metadata": {
    "execution": {
     "iopub.execute_input": "2022-10-20T16:56:33.103619Z",
     "iopub.status.busy": "2022-10-20T16:56:33.103319Z",
     "iopub.status.idle": "2022-10-20T16:56:33.114820Z",
     "shell.execute_reply": "2022-10-20T16:56:33.113892Z"
    },
    "papermill": {
     "duration": 0.022528,
     "end_time": "2022-10-20T16:56:33.116798",
     "exception": false,
     "start_time": "2022-10-20T16:56:33.094270",
     "status": "completed"
    },
    "tags": []
   },
   "outputs": [],
   "source": [
    "X=df.iloc[:,1:17]\n",
    "Y=df.iloc[:,0]"
   ]
  },
  {
   "cell_type": "markdown",
   "id": "df599da5",
   "metadata": {
    "papermill": {
     "duration": 0.007843,
     "end_time": "2022-10-20T16:56:33.132655",
     "exception": false,
     "start_time": "2022-10-20T16:56:33.124812",
     "status": "completed"
    },
    "tags": []
   },
   "source": [
    "## Estandarización de los datos\n",
    "Usamos StandardScaler para estandarizar las caracteríticas que vamos a usar para entrenar en nuestro modelo."
   ]
  },
  {
   "cell_type": "code",
   "execution_count": 5,
   "id": "c1ef0f20",
   "metadata": {
    "execution": {
     "iopub.execute_input": "2022-10-20T16:56:33.150896Z",
     "iopub.status.busy": "2022-10-20T16:56:33.149457Z",
     "iopub.status.idle": "2022-10-20T16:56:33.213907Z",
     "shell.execute_reply": "2022-10-20T16:56:33.212953Z"
    },
    "papermill": {
     "duration": 0.075375,
     "end_time": "2022-10-20T16:56:33.215948",
     "exception": false,
     "start_time": "2022-10-20T16:56:33.140573",
     "status": "completed"
    },
    "tags": []
   },
   "outputs": [
    {
     "data": {
      "text/html": [
       "<div>\n",
       "<style scoped>\n",
       "    .dataframe tbody tr th:only-of-type {\n",
       "        vertical-align: middle;\n",
       "    }\n",
       "\n",
       "    .dataframe tbody tr th {\n",
       "        vertical-align: top;\n",
       "    }\n",
       "\n",
       "    .dataframe thead th {\n",
       "        text-align: right;\n",
       "    }\n",
       "</style>\n",
       "<table border=\"1\" class=\"dataframe\">\n",
       "  <thead>\n",
       "    <tr style=\"text-align: right;\">\n",
       "      <th></th>\n",
       "      <th>BMI</th>\n",
       "      <th>Smoking</th>\n",
       "      <th>AlcoholDrinking</th>\n",
       "      <th>Stroke</th>\n",
       "      <th>PhysicalHealth</th>\n",
       "      <th>MentalHealth</th>\n",
       "      <th>DiffWalking</th>\n",
       "      <th>Sex</th>\n",
       "      <th>AgeCategory</th>\n",
       "      <th>Diabetic</th>\n",
       "      <th>PhysicalActivity</th>\n",
       "      <th>GenHealth</th>\n",
       "      <th>SleepTime</th>\n",
       "      <th>Asthma</th>\n",
       "      <th>KidneyDisease</th>\n",
       "      <th>SkinCancer</th>\n",
       "    </tr>\n",
       "  </thead>\n",
       "  <tbody>\n",
       "    <tr>\n",
       "      <th>0</th>\n",
       "      <td>-0.902537</td>\n",
       "      <td>-0.838851</td>\n",
       "      <td>-0.270233</td>\n",
       "      <td>-0.197348</td>\n",
       "      <td>-0.424173</td>\n",
       "      <td>-0.489905</td>\n",
       "      <td>-0.401252</td>\n",
       "      <td>-0.952197</td>\n",
       "      <td>-1.262946</td>\n",
       "      <td>-0.394006</td>\n",
       "      <td>0.537221</td>\n",
       "      <td>1.345471</td>\n",
       "      <td>-0.763485</td>\n",
       "      <td>-0.394175</td>\n",
       "      <td>-0.195666</td>\n",
       "      <td>-0.320716</td>\n",
       "    </tr>\n",
       "    <tr>\n",
       "      <th>1</th>\n",
       "      <td>-0.883619</td>\n",
       "      <td>1.192107</td>\n",
       "      <td>-0.270233</td>\n",
       "      <td>-0.197348</td>\n",
       "      <td>0.831741</td>\n",
       "      <td>-0.489905</td>\n",
       "      <td>-0.401252</td>\n",
       "      <td>-0.952197</td>\n",
       "      <td>0.699436</td>\n",
       "      <td>2.538034</td>\n",
       "      <td>0.537221</td>\n",
       "      <td>-0.573657</td>\n",
       "      <td>-0.763485</td>\n",
       "      <td>-0.394175</td>\n",
       "      <td>-0.195666</td>\n",
       "      <td>-0.320716</td>\n",
       "    </tr>\n",
       "    <tr>\n",
       "      <th>2</th>\n",
       "      <td>-0.057554</td>\n",
       "      <td>-0.838851</td>\n",
       "      <td>-0.270233</td>\n",
       "      <td>-0.197348</td>\n",
       "      <td>-0.424173</td>\n",
       "      <td>-0.238886</td>\n",
       "      <td>-0.401252</td>\n",
       "      <td>-0.952197</td>\n",
       "      <td>-1.262946</td>\n",
       "      <td>-0.394006</td>\n",
       "      <td>0.537221</td>\n",
       "      <td>-0.573657</td>\n",
       "      <td>1.323812</td>\n",
       "      <td>-0.394175</td>\n",
       "      <td>-0.195666</td>\n",
       "      <td>-0.320716</td>\n",
       "    </tr>\n",
       "    <tr>\n",
       "      <th>3</th>\n",
       "      <td>0.435878</td>\n",
       "      <td>-0.838851</td>\n",
       "      <td>-0.270233</td>\n",
       "      <td>-0.197348</td>\n",
       "      <td>-0.424173</td>\n",
       "      <td>-0.489905</td>\n",
       "      <td>-0.401252</td>\n",
       "      <td>-0.952197</td>\n",
       "      <td>-0.421925</td>\n",
       "      <td>-0.394006</td>\n",
       "      <td>0.537221</td>\n",
       "      <td>0.385907</td>\n",
       "      <td>-0.763485</td>\n",
       "      <td>-0.394175</td>\n",
       "      <td>-0.195666</td>\n",
       "      <td>-0.320716</td>\n",
       "    </tr>\n",
       "    <tr>\n",
       "      <th>4</th>\n",
       "      <td>-0.975054</td>\n",
       "      <td>-0.838851</td>\n",
       "      <td>3.700514</td>\n",
       "      <td>-0.197348</td>\n",
       "      <td>-0.424173</td>\n",
       "      <td>1.392736</td>\n",
       "      <td>-0.401252</td>\n",
       "      <td>-0.952197</td>\n",
       "      <td>-1.823626</td>\n",
       "      <td>-0.394006</td>\n",
       "      <td>0.537221</td>\n",
       "      <td>-0.573657</td>\n",
       "      <td>-0.763485</td>\n",
       "      <td>-0.394175</td>\n",
       "      <td>-0.195666</td>\n",
       "      <td>-0.320716</td>\n",
       "    </tr>\n",
       "  </tbody>\n",
       "</table>\n",
       "</div>"
      ],
      "text/plain": [
       "        BMI   Smoking  AlcoholDrinking    Stroke  PhysicalHealth  \\\n",
       "0 -0.902537 -0.838851        -0.270233 -0.197348       -0.424173   \n",
       "1 -0.883619  1.192107        -0.270233 -0.197348        0.831741   \n",
       "2 -0.057554 -0.838851        -0.270233 -0.197348       -0.424173   \n",
       "3  0.435878 -0.838851        -0.270233 -0.197348       -0.424173   \n",
       "4 -0.975054 -0.838851         3.700514 -0.197348       -0.424173   \n",
       "\n",
       "   MentalHealth  DiffWalking       Sex  AgeCategory  Diabetic  \\\n",
       "0     -0.489905    -0.401252 -0.952197    -1.262946 -0.394006   \n",
       "1     -0.489905    -0.401252 -0.952197     0.699436  2.538034   \n",
       "2     -0.238886    -0.401252 -0.952197    -1.262946 -0.394006   \n",
       "3     -0.489905    -0.401252 -0.952197    -0.421925 -0.394006   \n",
       "4      1.392736    -0.401252 -0.952197    -1.823626 -0.394006   \n",
       "\n",
       "   PhysicalActivity  GenHealth  SleepTime    Asthma  KidneyDisease  SkinCancer  \n",
       "0          0.537221   1.345471  -0.763485 -0.394175      -0.195666   -0.320716  \n",
       "1          0.537221  -0.573657  -0.763485 -0.394175      -0.195666   -0.320716  \n",
       "2          0.537221  -0.573657   1.323812 -0.394175      -0.195666   -0.320716  \n",
       "3          0.537221   0.385907  -0.763485 -0.394175      -0.195666   -0.320716  \n",
       "4          0.537221  -0.573657  -0.763485 -0.394175      -0.195666   -0.320716  "
      ]
     },
     "execution_count": 5,
     "metadata": {},
     "output_type": "execute_result"
    }
   ],
   "source": [
    "scaler=StandardScaler()\n",
    "columns=X.columns\n",
    "s=scaler.fit_transform(X)\n",
    "\n",
    "scaled_data=pd.DataFrame(s,columns=columns)\n",
    "scaled_data.head(5)"
   ]
  },
  {
   "cell_type": "markdown",
   "id": "cabf0d62",
   "metadata": {
    "papermill": {
     "duration": 0.008114,
     "end_time": "2022-10-20T16:56:33.232524",
     "exception": false,
     "start_time": "2022-10-20T16:56:33.224410",
     "status": "completed"
    },
    "tags": []
   },
   "source": [
    "## Validación Cruzada\n",
    "Se utilizará StratifiedKFold con 3 folds. Se buscan los mejores parámetros donde se varía el gamma y params_reg. El valor del gamma variará de 1.5, 0.1 y 2.5 y los params_reg entre 10, 50 y 100"
   ]
  },
  {
   "cell_type": "code",
   "execution_count": 6,
   "id": "08a46084",
   "metadata": {
    "execution": {
     "iopub.execute_input": "2022-10-20T16:56:33.250734Z",
     "iopub.status.busy": "2022-10-20T16:56:33.250016Z",
     "iopub.status.idle": "2022-10-20T16:56:33.262136Z",
     "shell.execute_reply": "2022-10-20T16:56:33.261324Z"
    },
    "papermill": {
     "duration": 0.023475,
     "end_time": "2022-10-20T16:56:33.264169",
     "exception": false,
     "start_time": "2022-10-20T16:56:33.240694",
     "status": "completed"
    },
    "tags": []
   },
   "outputs": [],
   "source": [
    "def svm(array_data_x, array_data_y, kernels, gammas, params_reg):\n",
    "    kf = StratifiedKFold(n_splits=3)\n",
    "    kernels_gammas_regs = list(product(kernels, gammas, params_reg))\n",
    "    resultados = pd.DataFrame()\n",
    "    idx = 0\n",
    "    for params in kernels_gammas_regs:\n",
    "        kernel, gamma, param_reg = params\n",
    "        rendimiento_accuracy_train = []\n",
    "        rendimiento_accuracy_test = []\n",
    "        rendimiento_precision_train = []\n",
    "        rendimiento_precision_test = []\n",
    "        rendimiento_recall_train = []\n",
    "        rendimiento_recall_test = []\n",
    "        rendimiento_f1_train = []\n",
    "        rendimiento_f1_test = []\n",
    "        for train_index, test_index in kf.split(X=array_data_x, y= array_data_y):\n",
    "            X_train, X_test = array_data_x[train_index], array_data_x[test_index]\n",
    "            y_train, y_test = array_data_y[train_index], array_data_y[test_index]\n",
    "            svm =SVC(kernel=kernel, gamma=gamma,C=param_reg)\n",
    "            svm = OneVsRestClassifier(svm)\n",
    "            svm.fit(X=X_train, y=y_train)\n",
    "            y_train_pred = svm.predict(X=X_train)\n",
    "            y_test_pred = svm.predict(X=X_test)\n",
    "            rendimiento_accuracy_train.append(accuracy_score(y_true = y_train, y_pred = y_train_pred))\n",
    "            rendimiento_accuracy_test.append(accuracy_score(y_true = y_test, y_pred = y_test_pred))\n",
    "            rendimiento_recall_train.append(recall_score(y_true = y_train, y_pred = y_train_pred))\n",
    "            rendimiento_recall_test.append(recall_score(y_true = y_test, y_pred = y_test_pred))\n",
    "            rendimiento_f1_train.append(f1_score(y_true = y_train, y_pred = y_train_pred))\n",
    "            rendimiento_f1_test.append(f1_score(y_true = y_test, y_pred = y_test_pred))\n",
    "        resultados.loc[idx,'kernel'] = kernel\n",
    "        resultados.loc[idx,'gamma'] = gamma\n",
    "        resultados.loc[idx,'param_reg'] = param_reg\n",
    "        resultados.loc[idx,'Métrica de rendimiento entrenamiento (accuracy)'] = np.median(rendimiento_accuracy_train)\n",
    "        resultados.loc[idx,'Métrica de rendimiento prueba (accuracy)'] = np.mean(rendimiento_accuracy_test)\n",
    "        resultados.loc[idx,'Métrica de rendimiento entrenamiento (recall)'] = np.median(rendimiento_recall_train)\n",
    "        resultados.loc[idx,'Métrica de rendimiento prueba (recall)'] = np.mean(rendimiento_recall_train)\n",
    "        resultados.loc[idx,'Métrica de rendimiento entrenamiento (f1)'] = np.median(rendimiento_f1_train)\n",
    "        resultados.loc[idx,'Métrica de rendimiento prueba (f1)'] = np.mean(rendimiento_f1_test)    \n",
    "        idx+=1\n",
    "    return resultados"
   ]
  },
  {
   "cell_type": "markdown",
   "id": "ad283234",
   "metadata": {
    "papermill": {
     "duration": 0.00806,
     "end_time": "2022-10-20T16:56:33.280441",
     "exception": false,
     "start_time": "2022-10-20T16:56:33.272381",
     "status": "completed"
    },
    "tags": []
   },
   "source": [
    "## Conversión del dataset\n",
    "Transformamos el dataset a array para luego validar los mejores parámetros del modelo"
   ]
  },
  {
   "cell_type": "code",
   "execution_count": 7,
   "id": "2f65e3e6",
   "metadata": {
    "execution": {
     "iopub.execute_input": "2022-10-20T16:56:33.299115Z",
     "iopub.status.busy": "2022-10-20T16:56:33.297746Z",
     "iopub.status.idle": "2022-10-20T16:56:33.306941Z",
     "shell.execute_reply": "2022-10-20T16:56:33.306113Z"
    },
    "papermill": {
     "duration": 0.020307,
     "end_time": "2022-10-20T16:56:33.308893",
     "exception": false,
     "start_time": "2022-10-20T16:56:33.288586",
     "status": "completed"
    },
    "tags": []
   },
   "outputs": [],
   "source": [
    "array_data_x = np.array(scaled_data)\n",
    "array_data_y = np.array(Y)"
   ]
  },
  {
   "cell_type": "markdown",
   "id": "108aca85",
   "metadata": {
    "papermill": {
     "duration": 0.008021,
     "end_time": "2022-10-20T16:56:33.325036",
     "exception": false,
     "start_time": "2022-10-20T16:56:33.317015",
     "status": "completed"
    },
    "tags": []
   },
   "source": [
    "## Número de gammas y params_reg"
   ]
  },
  {
   "cell_type": "code",
   "execution_count": 8,
   "id": "c5819634",
   "metadata": {
    "execution": {
     "iopub.execute_input": "2022-10-20T16:56:33.343648Z",
     "iopub.status.busy": "2022-10-20T16:56:33.342210Z",
     "iopub.status.idle": "2022-10-20T16:56:33.347050Z",
     "shell.execute_reply": "2022-10-20T16:56:33.346226Z"
    },
    "papermill": {
     "duration": 0.015893,
     "end_time": "2022-10-20T16:56:33.349096",
     "exception": false,
     "start_time": "2022-10-20T16:56:33.333203",
     "status": "completed"
    },
    "tags": []
   },
   "outputs": [],
   "source": [
    "kernels = [\"sigmoid\"]\n",
    "gammas = [1.5, 0.1, 2.5]\n",
    "params_reg = [10, 50, 100]"
   ]
  },
  {
   "cell_type": "markdown",
   "id": "912b230e",
   "metadata": {
    "papermill": {
     "duration": 0.008017,
     "end_time": "2022-10-20T16:56:33.365279",
     "exception": false,
     "start_time": "2022-10-20T16:56:33.357262",
     "status": "completed"
    },
    "tags": []
   },
   "source": [
    "## Se experimenta el modelo de Máquinas de vectores de soporte\n",
    "Se usa los array creados a partir del dataset con el número de capas ocultas y número de neuronas "
   ]
  },
  {
   "cell_type": "code",
   "execution_count": 9,
   "id": "e2e99f70",
   "metadata": {
    "execution": {
     "iopub.execute_input": "2022-10-20T16:56:33.383888Z",
     "iopub.status.busy": "2022-10-20T16:56:33.382509Z",
     "iopub.status.idle": "2022-10-20T20:31:43.509074Z",
     "shell.execute_reply": "2022-10-20T20:31:43.508136Z"
    },
    "papermill": {
     "duration": 12910.146148,
     "end_time": "2022-10-20T20:31:43.519543",
     "exception": false,
     "start_time": "2022-10-20T16:56:33.373395",
     "status": "completed"
    },
    "tags": []
   },
   "outputs": [
    {
     "data": {
      "text/html": [
       "<div>\n",
       "<style scoped>\n",
       "    .dataframe tbody tr th:only-of-type {\n",
       "        vertical-align: middle;\n",
       "    }\n",
       "\n",
       "    .dataframe tbody tr th {\n",
       "        vertical-align: top;\n",
       "    }\n",
       "\n",
       "    .dataframe thead th {\n",
       "        text-align: right;\n",
       "    }\n",
       "</style>\n",
       "<table border=\"1\" class=\"dataframe\">\n",
       "  <thead>\n",
       "    <tr style=\"text-align: right;\">\n",
       "      <th></th>\n",
       "      <th>kernel</th>\n",
       "      <th>gamma</th>\n",
       "      <th>param_reg</th>\n",
       "      <th>Métrica de rendimiento entrenamiento (accuracy)</th>\n",
       "      <th>Métrica de rendimiento prueba (accuracy)</th>\n",
       "      <th>Métrica de rendimiento entrenamiento (recall)</th>\n",
       "      <th>Métrica de rendimiento prueba (recall)</th>\n",
       "      <th>Métrica de rendimiento entrenamiento (f1)</th>\n",
       "      <th>Métrica de rendimiento prueba (f1)</th>\n",
       "    </tr>\n",
       "  </thead>\n",
       "  <tbody>\n",
       "    <tr>\n",
       "      <th>0</th>\n",
       "      <td>sigmoid</td>\n",
       "      <td>1.5</td>\n",
       "      <td>10.0</td>\n",
       "      <td>0.863685</td>\n",
       "      <td>0.862162</td>\n",
       "      <td>0.207374</td>\n",
       "      <td>0.200801</td>\n",
       "      <td>0.207386</td>\n",
       "      <td>0.197028</td>\n",
       "    </tr>\n",
       "    <tr>\n",
       "      <th>1</th>\n",
       "      <td>sigmoid</td>\n",
       "      <td>1.5</td>\n",
       "      <td>50.0</td>\n",
       "      <td>0.863676</td>\n",
       "      <td>0.862175</td>\n",
       "      <td>0.207374</td>\n",
       "      <td>0.200910</td>\n",
       "      <td>0.207374</td>\n",
       "      <td>0.196868</td>\n",
       "    </tr>\n",
       "    <tr>\n",
       "      <th>2</th>\n",
       "      <td>sigmoid</td>\n",
       "      <td>1.5</td>\n",
       "      <td>100.0</td>\n",
       "      <td>0.863704</td>\n",
       "      <td>0.862162</td>\n",
       "      <td>0.207483</td>\n",
       "      <td>0.200946</td>\n",
       "      <td>0.207495</td>\n",
       "      <td>0.197091</td>\n",
       "    </tr>\n",
       "    <tr>\n",
       "      <th>3</th>\n",
       "      <td>sigmoid</td>\n",
       "      <td>0.1</td>\n",
       "      <td>10.0</td>\n",
       "      <td>0.861612</td>\n",
       "      <td>0.863350</td>\n",
       "      <td>0.195157</td>\n",
       "      <td>0.198945</td>\n",
       "      <td>0.195199</td>\n",
       "      <td>0.200281</td>\n",
       "    </tr>\n",
       "    <tr>\n",
       "      <th>4</th>\n",
       "      <td>sigmoid</td>\n",
       "      <td>0.1</td>\n",
       "      <td>50.0</td>\n",
       "      <td>0.861612</td>\n",
       "      <td>0.863394</td>\n",
       "      <td>0.195157</td>\n",
       "      <td>0.198909</td>\n",
       "      <td>0.195199</td>\n",
       "      <td>0.200043</td>\n",
       "    </tr>\n",
       "    <tr>\n",
       "      <th>5</th>\n",
       "      <td>sigmoid</td>\n",
       "      <td>0.1</td>\n",
       "      <td>100.0</td>\n",
       "      <td>0.861603</td>\n",
       "      <td>0.863344</td>\n",
       "      <td>0.195157</td>\n",
       "      <td>0.198836</td>\n",
       "      <td>0.195188</td>\n",
       "      <td>0.200096</td>\n",
       "    </tr>\n",
       "    <tr>\n",
       "      <th>6</th>\n",
       "      <td>sigmoid</td>\n",
       "      <td>2.5</td>\n",
       "      <td>10.0</td>\n",
       "      <td>0.857089</td>\n",
       "      <td>0.860561</td>\n",
       "      <td>0.168994</td>\n",
       "      <td>0.183563</td>\n",
       "      <td>0.168994</td>\n",
       "      <td>0.186520</td>\n",
       "    </tr>\n",
       "    <tr>\n",
       "      <th>7</th>\n",
       "      <td>sigmoid</td>\n",
       "      <td>2.5</td>\n",
       "      <td>50.0</td>\n",
       "      <td>0.855974</td>\n",
       "      <td>0.859954</td>\n",
       "      <td>0.162540</td>\n",
       "      <td>0.179454</td>\n",
       "      <td>0.162548</td>\n",
       "      <td>0.182873</td>\n",
       "    </tr>\n",
       "    <tr>\n",
       "      <th>8</th>\n",
       "      <td>sigmoid</td>\n",
       "      <td>2.5</td>\n",
       "      <td>100.0</td>\n",
       "      <td>0.857089</td>\n",
       "      <td>0.860542</td>\n",
       "      <td>0.168994</td>\n",
       "      <td>0.183563</td>\n",
       "      <td>0.168994</td>\n",
       "      <td>0.186385</td>\n",
       "    </tr>\n",
       "  </tbody>\n",
       "</table>\n",
       "</div>"
      ],
      "text/plain": [
       "    kernel  gamma  param_reg  Métrica de rendimiento entrenamiento (accuracy)  \\\n",
       "0  sigmoid    1.5       10.0                                         0.863685   \n",
       "1  sigmoid    1.5       50.0                                         0.863676   \n",
       "2  sigmoid    1.5      100.0                                         0.863704   \n",
       "3  sigmoid    0.1       10.0                                         0.861612   \n",
       "4  sigmoid    0.1       50.0                                         0.861612   \n",
       "5  sigmoid    0.1      100.0                                         0.861603   \n",
       "6  sigmoid    2.5       10.0                                         0.857089   \n",
       "7  sigmoid    2.5       50.0                                         0.855974   \n",
       "8  sigmoid    2.5      100.0                                         0.857089   \n",
       "\n",
       "   Métrica de rendimiento prueba (accuracy)  \\\n",
       "0                                  0.862162   \n",
       "1                                  0.862175   \n",
       "2                                  0.862162   \n",
       "3                                  0.863350   \n",
       "4                                  0.863394   \n",
       "5                                  0.863344   \n",
       "6                                  0.860561   \n",
       "7                                  0.859954   \n",
       "8                                  0.860542   \n",
       "\n",
       "   Métrica de rendimiento entrenamiento (recall)  \\\n",
       "0                                       0.207374   \n",
       "1                                       0.207374   \n",
       "2                                       0.207483   \n",
       "3                                       0.195157   \n",
       "4                                       0.195157   \n",
       "5                                       0.195157   \n",
       "6                                       0.168994   \n",
       "7                                       0.162540   \n",
       "8                                       0.168994   \n",
       "\n",
       "   Métrica de rendimiento prueba (recall)  \\\n",
       "0                                0.200801   \n",
       "1                                0.200910   \n",
       "2                                0.200946   \n",
       "3                                0.198945   \n",
       "4                                0.198909   \n",
       "5                                0.198836   \n",
       "6                                0.183563   \n",
       "7                                0.179454   \n",
       "8                                0.183563   \n",
       "\n",
       "   Métrica de rendimiento entrenamiento (f1)  \\\n",
       "0                                   0.207386   \n",
       "1                                   0.207374   \n",
       "2                                   0.207495   \n",
       "3                                   0.195199   \n",
       "4                                   0.195199   \n",
       "5                                   0.195188   \n",
       "6                                   0.168994   \n",
       "7                                   0.162548   \n",
       "8                                   0.168994   \n",
       "\n",
       "   Métrica de rendimiento prueba (f1)  \n",
       "0                            0.197028  \n",
       "1                            0.196868  \n",
       "2                            0.197091  \n",
       "3                            0.200281  \n",
       "4                            0.200043  \n",
       "5                            0.200096  \n",
       "6                            0.186520  \n",
       "7                            0.182873  \n",
       "8                            0.186385  "
      ]
     },
     "execution_count": 9,
     "metadata": {},
     "output_type": "execute_result"
    }
   ],
   "source": [
    "resultados=svm(array_data_x, array_data_y, kernels, gammas, params_reg)\n",
    "resultados"
   ]
  },
  {
   "cell_type": "markdown",
   "id": "0bd5105d",
   "metadata": {
    "papermill": {
     "duration": 0.008804,
     "end_time": "2022-10-20T20:31:43.536916",
     "exception": false,
     "start_time": "2022-10-20T20:31:43.528112",
     "status": "completed"
    },
    "tags": []
   },
   "source": [
    "## Se exporta los resultado a un archivo .csv"
   ]
  },
  {
   "cell_type": "code",
   "execution_count": 10,
   "id": "adb5459a",
   "metadata": {
    "execution": {
     "iopub.execute_input": "2022-10-20T20:31:43.555403Z",
     "iopub.status.busy": "2022-10-20T20:31:43.554928Z",
     "iopub.status.idle": "2022-10-20T20:31:43.561987Z",
     "shell.execute_reply": "2022-10-20T20:31:43.561152Z"
    },
    "papermill": {
     "duration": 0.018494,
     "end_time": "2022-10-20T20:31:43.563954",
     "exception": false,
     "start_time": "2022-10-20T20:31:43.545460",
     "status": "completed"
    },
    "tags": []
   },
   "outputs": [],
   "source": [
    "resultados.to_csv(\"resultados_svm.csv\", encoding=\"utf-8\")"
   ]
  },
  {
   "cell_type": "markdown",
   "id": "ac54f7e6",
   "metadata": {
    "papermill": {
     "duration": 0.008473,
     "end_time": "2022-10-20T20:31:43.580940",
     "exception": false,
     "start_time": "2022-10-20T20:31:43.572467",
     "status": "completed"
    },
    "tags": []
   },
   "source": [
    "## Se cargan los resultados"
   ]
  },
  {
   "cell_type": "code",
   "execution_count": 11,
   "id": "9897b7e4",
   "metadata": {
    "execution": {
     "iopub.execute_input": "2022-10-20T20:31:43.599320Z",
     "iopub.status.busy": "2022-10-20T20:31:43.599043Z",
     "iopub.status.idle": "2022-10-20T20:31:43.626630Z",
     "shell.execute_reply": "2022-10-20T20:31:43.625689Z"
    },
    "papermill": {
     "duration": 0.039252,
     "end_time": "2022-10-20T20:31:43.628659",
     "exception": false,
     "start_time": "2022-10-20T20:31:43.589407",
     "status": "completed"
    },
    "tags": []
   },
   "outputs": [
    {
     "data": {
      "text/html": [
       "<div>\n",
       "<style scoped>\n",
       "    .dataframe tbody tr th:only-of-type {\n",
       "        vertical-align: middle;\n",
       "    }\n",
       "\n",
       "    .dataframe tbody tr th {\n",
       "        vertical-align: top;\n",
       "    }\n",
       "\n",
       "    .dataframe thead th {\n",
       "        text-align: right;\n",
       "    }\n",
       "</style>\n",
       "<table border=\"1\" class=\"dataframe\">\n",
       "  <thead>\n",
       "    <tr style=\"text-align: right;\">\n",
       "      <th></th>\n",
       "      <th>kernel</th>\n",
       "      <th>gamma</th>\n",
       "      <th>param_reg</th>\n",
       "      <th>Métrica de rendimiento entrenamiento (accuracy)</th>\n",
       "      <th>Métrica de rendimiento prueba (accuracy)</th>\n",
       "      <th>Métrica de rendimiento entrenamiento (recall)</th>\n",
       "      <th>Métrica de rendimiento prueba (recall)</th>\n",
       "      <th>Métrica de rendimiento entrenamiento (f1)</th>\n",
       "      <th>Métrica de rendimiento prueba (f1)</th>\n",
       "    </tr>\n",
       "  </thead>\n",
       "  <tbody>\n",
       "    <tr>\n",
       "      <th>0</th>\n",
       "      <td>sigmoid</td>\n",
       "      <td>1.5</td>\n",
       "      <td>10.0</td>\n",
       "      <td>0.857907</td>\n",
       "      <td>0.858003</td>\n",
       "      <td>0.169062</td>\n",
       "      <td>0.173567</td>\n",
       "      <td>0.169071</td>\n",
       "      <td>0.172061</td>\n",
       "    </tr>\n",
       "    <tr>\n",
       "      <th>1</th>\n",
       "      <td>sigmoid</td>\n",
       "      <td>1.5</td>\n",
       "      <td>50.0</td>\n",
       "      <td>0.857907</td>\n",
       "      <td>0.857972</td>\n",
       "      <td>0.169062</td>\n",
       "      <td>0.173750</td>\n",
       "      <td>0.169071</td>\n",
       "      <td>0.171906</td>\n",
       "    </tr>\n",
       "    <tr>\n",
       "      <th>2</th>\n",
       "      <td>sigmoid</td>\n",
       "      <td>1.5</td>\n",
       "      <td>100.0</td>\n",
       "      <td>0.857907</td>\n",
       "      <td>0.857947</td>\n",
       "      <td>0.169062</td>\n",
       "      <td>0.173677</td>\n",
       "      <td>0.169071</td>\n",
       "      <td>0.171760</td>\n",
       "    </tr>\n",
       "    <tr>\n",
       "      <th>3</th>\n",
       "      <td>sigmoid</td>\n",
       "      <td>0.1</td>\n",
       "      <td>10.0</td>\n",
       "      <td>0.861630</td>\n",
       "      <td>0.862763</td>\n",
       "      <td>0.190476</td>\n",
       "      <td>0.195253</td>\n",
       "      <td>0.190539</td>\n",
       "      <td>0.197201</td>\n",
       "    </tr>\n",
       "    <tr>\n",
       "      <th>4</th>\n",
       "      <td>sigmoid</td>\n",
       "      <td>0.1</td>\n",
       "      <td>50.0</td>\n",
       "      <td>0.861611</td>\n",
       "      <td>0.862725</td>\n",
       "      <td>0.190586</td>\n",
       "      <td>0.195399</td>\n",
       "      <td>0.190607</td>\n",
       "      <td>0.197274</td>\n",
       "    </tr>\n",
       "    <tr>\n",
       "      <th>5</th>\n",
       "      <td>sigmoid</td>\n",
       "      <td>0.1</td>\n",
       "      <td>100.0</td>\n",
       "      <td>0.861592</td>\n",
       "      <td>0.862756</td>\n",
       "      <td>0.190476</td>\n",
       "      <td>0.195326</td>\n",
       "      <td>0.190497</td>\n",
       "      <td>0.197195</td>\n",
       "    </tr>\n",
       "    <tr>\n",
       "      <th>6</th>\n",
       "      <td>sigmoid</td>\n",
       "      <td>2.5</td>\n",
       "      <td>10.0</td>\n",
       "      <td>0.855935</td>\n",
       "      <td>0.859917</td>\n",
       "      <td>0.157450</td>\n",
       "      <td>0.179600</td>\n",
       "      <td>0.157459</td>\n",
       "      <td>0.179323</td>\n",
       "    </tr>\n",
       "    <tr>\n",
       "      <th>7</th>\n",
       "      <td>sigmoid</td>\n",
       "      <td>2.5</td>\n",
       "      <td>50.0</td>\n",
       "      <td>0.855935</td>\n",
       "      <td>0.860086</td>\n",
       "      <td>0.157450</td>\n",
       "      <td>0.179600</td>\n",
       "      <td>0.157459</td>\n",
       "      <td>0.180000</td>\n",
       "    </tr>\n",
       "    <tr>\n",
       "      <th>8</th>\n",
       "      <td>sigmoid</td>\n",
       "      <td>2.5</td>\n",
       "      <td>100.0</td>\n",
       "      <td>0.855926</td>\n",
       "      <td>0.860105</td>\n",
       "      <td>0.157450</td>\n",
       "      <td>0.179710</td>\n",
       "      <td>0.157450</td>\n",
       "      <td>0.179958</td>\n",
       "    </tr>\n",
       "  </tbody>\n",
       "</table>\n",
       "</div>"
      ],
      "text/plain": [
       "    kernel  gamma  param_reg  Métrica de rendimiento entrenamiento (accuracy)  \\\n",
       "0  sigmoid    1.5       10.0                                         0.857907   \n",
       "1  sigmoid    1.5       50.0                                         0.857907   \n",
       "2  sigmoid    1.5      100.0                                         0.857907   \n",
       "3  sigmoid    0.1       10.0                                         0.861630   \n",
       "4  sigmoid    0.1       50.0                                         0.861611   \n",
       "5  sigmoid    0.1      100.0                                         0.861592   \n",
       "6  sigmoid    2.5       10.0                                         0.855935   \n",
       "7  sigmoid    2.5       50.0                                         0.855935   \n",
       "8  sigmoid    2.5      100.0                                         0.855926   \n",
       "\n",
       "   Métrica de rendimiento prueba (accuracy)  \\\n",
       "0                                  0.858003   \n",
       "1                                  0.857972   \n",
       "2                                  0.857947   \n",
       "3                                  0.862763   \n",
       "4                                  0.862725   \n",
       "5                                  0.862756   \n",
       "6                                  0.859917   \n",
       "7                                  0.860086   \n",
       "8                                  0.860105   \n",
       "\n",
       "   Métrica de rendimiento entrenamiento (recall)  \\\n",
       "0                                       0.169062   \n",
       "1                                       0.169062   \n",
       "2                                       0.169062   \n",
       "3                                       0.190476   \n",
       "4                                       0.190586   \n",
       "5                                       0.190476   \n",
       "6                                       0.157450   \n",
       "7                                       0.157450   \n",
       "8                                       0.157450   \n",
       "\n",
       "   Métrica de rendimiento prueba (recall)  \\\n",
       "0                                0.173567   \n",
       "1                                0.173750   \n",
       "2                                0.173677   \n",
       "3                                0.195253   \n",
       "4                                0.195399   \n",
       "5                                0.195326   \n",
       "6                                0.179600   \n",
       "7                                0.179600   \n",
       "8                                0.179710   \n",
       "\n",
       "   Métrica de rendimiento entrenamiento (f1)  \\\n",
       "0                                   0.169071   \n",
       "1                                   0.169071   \n",
       "2                                   0.169071   \n",
       "3                                   0.190539   \n",
       "4                                   0.190607   \n",
       "5                                   0.190497   \n",
       "6                                   0.157459   \n",
       "7                                   0.157459   \n",
       "8                                   0.157450   \n",
       "\n",
       "   Métrica de rendimiento prueba (f1)  \n",
       "0                            0.172061  \n",
       "1                            0.171906  \n",
       "2                            0.171760  \n",
       "3                            0.197201  \n",
       "4                            0.197274  \n",
       "5                            0.197195  \n",
       "6                            0.179323  \n",
       "7                            0.180000  \n",
       "8                            0.179958  "
      ]
     },
     "execution_count": 11,
     "metadata": {},
     "output_type": "execute_result"
    }
   ],
   "source": [
    "resultados_svm = pd.read_csv(\"/kaggle/input/results/resultados_svm.csv\")\n",
    "resultados_svm=resultados_svm.drop([\"Unnamed: 0\"],axis=1)\n",
    "resultados_svm"
   ]
  },
  {
   "cell_type": "markdown",
   "id": "10a0dafd",
   "metadata": {
    "papermill": {
     "duration": 0.00864,
     "end_time": "2022-10-20T20:31:43.646351",
     "exception": false,
     "start_time": "2022-10-20T20:31:43.637711",
     "status": "completed"
    },
    "tags": []
   },
   "source": [
    "# Gráficas de rendimiento\n",
    "## Accuracy, recall y f1 respecto a los gammas"
   ]
  },
  {
   "cell_type": "code",
   "execution_count": 12,
   "id": "b4f4449b",
   "metadata": {
    "execution": {
     "iopub.execute_input": "2022-10-20T20:31:43.664902Z",
     "iopub.status.busy": "2022-10-20T20:31:43.664630Z",
     "iopub.status.idle": "2022-10-20T20:31:44.412039Z",
     "shell.execute_reply": "2022-10-20T20:31:44.411107Z"
    },
    "papermill": {
     "duration": 0.759079,
     "end_time": "2022-10-20T20:31:44.414141",
     "exception": false,
     "start_time": "2022-10-20T20:31:43.655062",
     "status": "completed"
    },
    "tags": []
   },
   "outputs": [
    {
     "data": {
      "image/png": "[encoded data removed]",
      "text/plain": [
       "<Figure size 432x288 with 1 Axes>"
      ]
     },
     "metadata": {
      "needs_background": "light"
     },
     "output_type": "display_data"
    },
    {
     "data": {
      "image/png": "[encoded data removed]",
      "text/plain": [
       "<Figure size 432x288 with 1 Axes>"
      ]
     },
     "metadata": {
      "needs_background": "light"
     },
     "output_type": "display_data"
    },
    {
     "data": {
      "image/png": "[encoded data removed]",
      "text/plain": [
       "<Figure size 432x288 with 1 Axes>"
      ]
     },
     "metadata": {
      "needs_background": "light"
     },
     "output_type": "display_data"
    }
   ],
   "source": [
    "errores=[\"Métrica de rendimiento prueba (accuracy)\",\"Métrica de rendimiento prueba (recall)\",\"Métrica de rendimiento prueba (f1)\"]\n",
    "for error in errores:\n",
    "    sns.lineplot(data=resultados_svm,x=\"gamma\",y=error)\n",
    "    plt.show()"
   ]
  },
  {
   "cell_type": "markdown",
   "id": "d060d6f2",
   "metadata": {
    "papermill": {
     "duration": 0.009625,
     "end_time": "2022-10-20T20:31:44.433864",
     "exception": false,
     "start_time": "2022-10-20T20:31:44.424239",
     "status": "completed"
    },
    "tags": []
   },
   "source": [
    "# Gráficas de rendimiento\n",
    "## Accuracy, recall y f1 respecto a los params_reg"
   ]
  },
  {
   "cell_type": "code",
   "execution_count": 13,
   "id": "d609325f",
   "metadata": {
    "execution": {
     "iopub.execute_input": "2022-10-20T20:31:44.454657Z",
     "iopub.status.busy": "2022-10-20T20:31:44.454089Z",
     "iopub.status.idle": "2022-10-20T20:31:45.148027Z",
     "shell.execute_reply": "2022-10-20T20:31:45.147204Z"
    },
    "papermill": {
     "duration": 0.706548,
     "end_time": "2022-10-20T20:31:45.150032",
     "exception": false,
     "start_time": "2022-10-20T20:31:44.443484",
     "status": "completed"
    },
    "tags": []
   },
   "outputs": [
    {
     "data": {
      "image/png": "[encoded data removed]",
      "text/plain": [
       "<Figure size 432x288 with 1 Axes>"
      ]
     },
     "metadata": {
      "needs_background": "light"
     },
     "output_type": "display_data"
    },
    {
     "data": {
      "image/png": "[encoded data removed]",
      "text/plain": [
       "<Figure size 432x288 with 1 Axes>"
      ]
     },
     "metadata": {
      "needs_background": "light"
     },
     "output_type": "display_data"
    },
    {
     "data": {
      "image/png": "[encoded data removed]",
      "text/plain": [
       "<Figure size 432x288 with 1 Axes>"
      ]
     },
     "metadata": {
      "needs_background": "light"
     },
     "output_type": "display_data"
    }
   ],
   "source": [
    "for error in errores:\n",
    "    sns.lineplot(data=resultados_svm,x=\"param_reg\",y=error)\n",
    "    plt.show()"
   ]
  },
  {
   "cell_type": "markdown",
   "id": "5a856ba2",
   "metadata": {
    "papermill": {
     "duration": 0.010079,
     "end_time": "2022-10-20T20:31:45.170993",
     "exception": false,
     "start_time": "2022-10-20T20:31:45.160914",
     "status": "completed"
    },
    "tags": []
   },
   "source": [
    "## Se carga de nuevo el dataset, ya que se han realizado variaciones"
   ]
  },
  {
   "cell_type": "code",
   "execution_count": 14,
   "id": "e41bbe44",
   "metadata": {
    "execution": {
     "iopub.execute_input": "2022-10-20T20:31:45.193249Z",
     "iopub.status.busy": "2022-10-20T20:31:45.192424Z",
     "iopub.status.idle": "2022-10-20T20:31:45.461277Z",
     "shell.execute_reply": "2022-10-20T20:31:45.460103Z"
    },
    "papermill": {
     "duration": 0.282253,
     "end_time": "2022-10-20T20:31:45.463482",
     "exception": false,
     "start_time": "2022-10-20T20:31:45.181229",
     "status": "completed"
    },
    "tags": []
   },
   "outputs": [
    {
     "data": {
      "text/html": [
       "<div>\n",
       "<style scoped>\n",
       "    .dataframe tbody tr th:only-of-type {\n",
       "        vertical-align: middle;\n",
       "    }\n",
       "\n",
       "    .dataframe tbody tr th {\n",
       "        vertical-align: top;\n",
       "    }\n",
       "\n",
       "    .dataframe thead th {\n",
       "        text-align: right;\n",
       "    }\n",
       "</style>\n",
       "<table border=\"1\" class=\"dataframe\">\n",
       "  <thead>\n",
       "    <tr style=\"text-align: right;\">\n",
       "      <th></th>\n",
       "      <th>HeartDisease</th>\n",
       "      <th>BMI</th>\n",
       "      <th>Smoking</th>\n",
       "      <th>AlcoholDrinking</th>\n",
       "      <th>Stroke</th>\n",
       "      <th>PhysicalHealth</th>\n",
       "      <th>MentalHealth</th>\n",
       "      <th>DiffWalking</th>\n",
       "      <th>Sex</th>\n",
       "      <th>AgeCategory</th>\n",
       "      <th>Diabetic</th>\n",
       "      <th>PhysicalActivity</th>\n",
       "      <th>GenHealth</th>\n",
       "      <th>SleepTime</th>\n",
       "      <th>Asthma</th>\n",
       "      <th>KidneyDisease</th>\n",
       "      <th>SkinCancer</th>\n",
       "    </tr>\n",
       "  </thead>\n",
       "  <tbody>\n",
       "    <tr>\n",
       "      <th>0</th>\n",
       "      <td>0</td>\n",
       "      <td>16.60</td>\n",
       "      <td>1</td>\n",
       "      <td>0</td>\n",
       "      <td>0</td>\n",
       "      <td>3.0</td>\n",
       "      <td>30.0</td>\n",
       "      <td>0</td>\n",
       "      <td>8</td>\n",
       "      <td>17</td>\n",
       "      <td>1</td>\n",
       "      <td>1</td>\n",
       "      <td>5</td>\n",
       "      <td>5.0</td>\n",
       "      <td>1</td>\n",
       "      <td>0</td>\n",
       "      <td>1</td>\n",
       "    </tr>\n",
       "    <tr>\n",
       "      <th>1</th>\n",
       "      <td>0</td>\n",
       "      <td>20.34</td>\n",
       "      <td>0</td>\n",
       "      <td>0</td>\n",
       "      <td>1</td>\n",
       "      <td>0.0</td>\n",
       "      <td>0.0</td>\n",
       "      <td>0</td>\n",
       "      <td>8</td>\n",
       "      <td>22</td>\n",
       "      <td>0</td>\n",
       "      <td>1</td>\n",
       "      <td>5</td>\n",
       "      <td>7.0</td>\n",
       "      <td>0</td>\n",
       "      <td>0</td>\n",
       "      <td>0</td>\n",
       "    </tr>\n",
       "    <tr>\n",
       "      <th>2</th>\n",
       "      <td>0</td>\n",
       "      <td>26.58</td>\n",
       "      <td>1</td>\n",
       "      <td>0</td>\n",
       "      <td>0</td>\n",
       "      <td>20.0</td>\n",
       "      <td>30.0</td>\n",
       "      <td>0</td>\n",
       "      <td>9</td>\n",
       "      <td>19</td>\n",
       "      <td>1</td>\n",
       "      <td>1</td>\n",
       "      <td>3</td>\n",
       "      <td>8.0</td>\n",
       "      <td>1</td>\n",
       "      <td>0</td>\n",
       "      <td>0</td>\n",
       "    </tr>\n",
       "    <tr>\n",
       "      <th>3</th>\n",
       "      <td>0</td>\n",
       "      <td>24.21</td>\n",
       "      <td>0</td>\n",
       "      <td>0</td>\n",
       "      <td>0</td>\n",
       "      <td>0.0</td>\n",
       "      <td>0.0</td>\n",
       "      <td>0</td>\n",
       "      <td>8</td>\n",
       "      <td>21</td>\n",
       "      <td>0</td>\n",
       "      <td>0</td>\n",
       "      <td>4</td>\n",
       "      <td>6.0</td>\n",
       "      <td>0</td>\n",
       "      <td>0</td>\n",
       "      <td>1</td>\n",
       "    </tr>\n",
       "    <tr>\n",
       "      <th>4</th>\n",
       "      <td>0</td>\n",
       "      <td>23.71</td>\n",
       "      <td>0</td>\n",
       "      <td>0</td>\n",
       "      <td>0</td>\n",
       "      <td>28.0</td>\n",
       "      <td>0.0</td>\n",
       "      <td>1</td>\n",
       "      <td>8</td>\n",
       "      <td>14</td>\n",
       "      <td>0</td>\n",
       "      <td>1</td>\n",
       "      <td>5</td>\n",
       "      <td>8.0</td>\n",
       "      <td>0</td>\n",
       "      <td>0</td>\n",
       "      <td>0</td>\n",
       "    </tr>\n",
       "  </tbody>\n",
       "</table>\n",
       "</div>"
      ],
      "text/plain": [
       "   HeartDisease    BMI  Smoking  AlcoholDrinking  Stroke  PhysicalHealth  \\\n",
       "0             0  16.60        1                0       0             3.0   \n",
       "1             0  20.34        0                0       1             0.0   \n",
       "2             0  26.58        1                0       0            20.0   \n",
       "3             0  24.21        0                0       0             0.0   \n",
       "4             0  23.71        0                0       0            28.0   \n",
       "\n",
       "   MentalHealth  DiffWalking  Sex  AgeCategory  Diabetic  PhysicalActivity  \\\n",
       "0          30.0            0    8           17         1                 1   \n",
       "1           0.0            0    8           22         0                 1   \n",
       "2          30.0            0    9           19         1                 1   \n",
       "3           0.0            0    8           21         0                 0   \n",
       "4           0.0            1    8           14         0                 1   \n",
       "\n",
       "   GenHealth  SleepTime  Asthma  KidneyDisease  SkinCancer  \n",
       "0          5        5.0       1              0           1  \n",
       "1          5        7.0       0              0           0  \n",
       "2          3        8.0       1              0           0  \n",
       "3          4        6.0       0              0           1  \n",
       "4          5        8.0       0              0           0  "
      ]
     },
     "execution_count": 14,
     "metadata": {},
     "output_type": "execute_result"
    }
   ],
   "source": [
    "data=pd.read_csv(\"/kaggle/input/datasetmodified/dataset-modificado.csv\")\n",
    "df=data.copy()\n",
    "df=df.drop([\"Unnamed: 0\"],axis=1)\n",
    "df.head()"
   ]
  },
  {
   "cell_type": "markdown",
   "id": "22e9fdbf",
   "metadata": {
    "papermill": {
     "duration": 0.010567,
     "end_time": "2022-10-20T20:31:45.484988",
     "exception": false,
     "start_time": "2022-10-20T20:31:45.474421",
     "status": "completed"
    },
    "tags": []
   },
   "source": [
    "## Separamos los datos\n",
    "Separamos los datos de nuestro dataset, ponemos las características que vamos a utilizar para entrenar en la variable X y la variable a predecir en la varibale Y."
   ]
  },
  {
   "cell_type": "code",
   "execution_count": 15,
   "id": "e83a3c5b",
   "metadata": {
    "execution": {
     "iopub.execute_input": "2022-10-20T20:31:45.507357Z",
     "iopub.status.busy": "2022-10-20T20:31:45.507044Z",
     "iopub.status.idle": "2022-10-20T20:31:45.519194Z",
     "shell.execute_reply": "2022-10-20T20:31:45.518353Z"
    },
    "papermill": {
     "duration": 0.025528,
     "end_time": "2022-10-20T20:31:45.521156",
     "exception": false,
     "start_time": "2022-10-20T20:31:45.495628",
     "status": "completed"
    },
    "tags": []
   },
   "outputs": [],
   "source": [
    "X=df.iloc[:,1:17]\n",
    "Y=df.iloc[:,0]"
   ]
  },
  {
   "cell_type": "markdown",
   "id": "7a85dcdf",
   "metadata": {
    "papermill": {
     "duration": 0.010349,
     "end_time": "2022-10-20T20:31:45.542127",
     "exception": false,
     "start_time": "2022-10-20T20:31:45.531778",
     "status": "completed"
    },
    "tags": []
   },
   "source": [
    "## Estandarización de los datos\n",
    "Usamos StandardScaler para estandarizar las caracteríticas que vamos a usar para entrenar en nuestro modelo."
   ]
  },
  {
   "cell_type": "code",
   "execution_count": 16,
   "id": "da3ecd81",
   "metadata": {
    "execution": {
     "iopub.execute_input": "2022-10-20T20:31:45.564695Z",
     "iopub.status.busy": "2022-10-20T20:31:45.564073Z",
     "iopub.status.idle": "2022-10-20T20:31:45.658883Z",
     "shell.execute_reply": "2022-10-20T20:31:45.657874Z"
    },
    "papermill": {
     "duration": 0.108294,
     "end_time": "2022-10-20T20:31:45.660924",
     "exception": false,
     "start_time": "2022-10-20T20:31:45.552630",
     "status": "completed"
    },
    "tags": []
   },
   "outputs": [
    {
     "data": {
      "text/html": [
       "<div>\n",
       "<style scoped>\n",
       "    .dataframe tbody tr th:only-of-type {\n",
       "        vertical-align: middle;\n",
       "    }\n",
       "\n",
       "    .dataframe tbody tr th {\n",
       "        vertical-align: top;\n",
       "    }\n",
       "\n",
       "    .dataframe thead th {\n",
       "        text-align: right;\n",
       "    }\n",
       "</style>\n",
       "<table border=\"1\" class=\"dataframe\">\n",
       "  <thead>\n",
       "    <tr style=\"text-align: right;\">\n",
       "      <th></th>\n",
       "      <th>BMI</th>\n",
       "      <th>Smoking</th>\n",
       "      <th>AlcoholDrinking</th>\n",
       "      <th>Stroke</th>\n",
       "      <th>PhysicalHealth</th>\n",
       "      <th>MentalHealth</th>\n",
       "      <th>DiffWalking</th>\n",
       "      <th>Sex</th>\n",
       "      <th>AgeCategory</th>\n",
       "      <th>Diabetic</th>\n",
       "      <th>PhysicalActivity</th>\n",
       "      <th>GenHealth</th>\n",
       "      <th>SleepTime</th>\n",
       "      <th>Asthma</th>\n",
       "      <th>KidneyDisease</th>\n",
       "      <th>SkinCancer</th>\n",
       "    </tr>\n",
       "  </thead>\n",
       "  <tbody>\n",
       "    <tr>\n",
       "      <th>0</th>\n",
       "      <td>-1.844750</td>\n",
       "      <td>1.193474</td>\n",
       "      <td>-0.27032</td>\n",
       "      <td>-0.198040</td>\n",
       "      <td>-0.046751</td>\n",
       "      <td>3.281069</td>\n",
       "      <td>-0.401578</td>\n",
       "      <td>-0.951711</td>\n",
       "      <td>0.136184</td>\n",
       "      <td>2.524911</td>\n",
       "      <td>0.538256</td>\n",
       "      <td>0.388307</td>\n",
       "      <td>-1.460354</td>\n",
       "      <td>2.541515</td>\n",
       "      <td>-0.195554</td>\n",
       "      <td>3.118419</td>\n",
       "    </tr>\n",
       "    <tr>\n",
       "      <th>1</th>\n",
       "      <td>-1.256338</td>\n",
       "      <td>-0.837890</td>\n",
       "      <td>-0.27032</td>\n",
       "      <td>5.049478</td>\n",
       "      <td>-0.424070</td>\n",
       "      <td>-0.490039</td>\n",
       "      <td>-0.401578</td>\n",
       "      <td>-0.951711</td>\n",
       "      <td>1.538806</td>\n",
       "      <td>-0.396054</td>\n",
       "      <td>0.538256</td>\n",
       "      <td>0.388307</td>\n",
       "      <td>-0.067601</td>\n",
       "      <td>-0.393466</td>\n",
       "      <td>-0.195554</td>\n",
       "      <td>-0.320675</td>\n",
       "    </tr>\n",
       "    <tr>\n",
       "      <th>2</th>\n",
       "      <td>-0.274603</td>\n",
       "      <td>1.193474</td>\n",
       "      <td>-0.27032</td>\n",
       "      <td>-0.198040</td>\n",
       "      <td>2.091388</td>\n",
       "      <td>3.281069</td>\n",
       "      <td>-0.401578</td>\n",
       "      <td>1.050739</td>\n",
       "      <td>0.697233</td>\n",
       "      <td>2.524911</td>\n",
       "      <td>0.538256</td>\n",
       "      <td>-1.529392</td>\n",
       "      <td>0.628776</td>\n",
       "      <td>2.541515</td>\n",
       "      <td>-0.195554</td>\n",
       "      <td>-0.320675</td>\n",
       "    </tr>\n",
       "    <tr>\n",
       "      <th>3</th>\n",
       "      <td>-0.647473</td>\n",
       "      <td>-0.837890</td>\n",
       "      <td>-0.27032</td>\n",
       "      <td>-0.198040</td>\n",
       "      <td>-0.424070</td>\n",
       "      <td>-0.490039</td>\n",
       "      <td>-0.401578</td>\n",
       "      <td>-0.951711</td>\n",
       "      <td>1.258282</td>\n",
       "      <td>-0.396054</td>\n",
       "      <td>-1.857852</td>\n",
       "      <td>-0.570542</td>\n",
       "      <td>-0.763977</td>\n",
       "      <td>-0.393466</td>\n",
       "      <td>-0.195554</td>\n",
       "      <td>3.118419</td>\n",
       "    </tr>\n",
       "    <tr>\n",
       "      <th>4</th>\n",
       "      <td>-0.726138</td>\n",
       "      <td>-0.837890</td>\n",
       "      <td>-0.27032</td>\n",
       "      <td>-0.198040</td>\n",
       "      <td>3.097572</td>\n",
       "      <td>-0.490039</td>\n",
       "      <td>2.490174</td>\n",
       "      <td>-0.951711</td>\n",
       "      <td>-0.705388</td>\n",
       "      <td>-0.396054</td>\n",
       "      <td>0.538256</td>\n",
       "      <td>0.388307</td>\n",
       "      <td>0.628776</td>\n",
       "      <td>-0.393466</td>\n",
       "      <td>-0.195554</td>\n",
       "      <td>-0.320675</td>\n",
       "    </tr>\n",
       "  </tbody>\n",
       "</table>\n",
       "</div>"
      ],
      "text/plain": [
       "        BMI   Smoking  AlcoholDrinking    Stroke  PhysicalHealth  \\\n",
       "0 -1.844750  1.193474         -0.27032 -0.198040       -0.046751   \n",
       "1 -1.256338 -0.837890         -0.27032  5.049478       -0.424070   \n",
       "2 -0.274603  1.193474         -0.27032 -0.198040        2.091388   \n",
       "3 -0.647473 -0.837890         -0.27032 -0.198040       -0.424070   \n",
       "4 -0.726138 -0.837890         -0.27032 -0.198040        3.097572   \n",
       "\n",
       "   MentalHealth  DiffWalking       Sex  AgeCategory  Diabetic  \\\n",
       "0      3.281069    -0.401578 -0.951711     0.136184  2.524911   \n",
       "1     -0.490039    -0.401578 -0.951711     1.538806 -0.396054   \n",
       "2      3.281069    -0.401578  1.050739     0.697233  2.524911   \n",
       "3     -0.490039    -0.401578 -0.951711     1.258282 -0.396054   \n",
       "4     -0.490039     2.490174 -0.951711    -0.705388 -0.396054   \n",
       "\n",
       "   PhysicalActivity  GenHealth  SleepTime    Asthma  KidneyDisease  SkinCancer  \n",
       "0          0.538256   0.388307  -1.460354  2.541515      -0.195554    3.118419  \n",
       "1          0.538256   0.388307  -0.067601 -0.393466      -0.195554   -0.320675  \n",
       "2          0.538256  -1.529392   0.628776  2.541515      -0.195554   -0.320675  \n",
       "3         -1.857852  -0.570542  -0.763977 -0.393466      -0.195554    3.118419  \n",
       "4          0.538256   0.388307   0.628776 -0.393466      -0.195554   -0.320675  "
      ]
     },
     "execution_count": 16,
     "metadata": {},
     "output_type": "execute_result"
    }
   ],
   "source": [
    "scaler=StandardScaler()\n",
    "columns=X.columns\n",
    "s=scaler.fit_transform(X)\n",
    "\n",
    "scaled_data=pd.DataFrame(s,columns=columns)\n",
    "scaled_data.head(5)"
   ]
  },
  {
   "cell_type": "markdown",
   "id": "67fd4574",
   "metadata": {
    "papermill": {
     "duration": 0.010612,
     "end_time": "2022-10-20T20:31:45.682659",
     "exception": false,
     "start_time": "2022-10-20T20:31:45.672047",
     "status": "completed"
    },
    "tags": []
   },
   "source": [
    "## División de los datos\n",
    "Se realiza una división de los datos en train y test de forma que quedaron 70% y 30% respectivamente"
   ]
  },
  {
   "cell_type": "code",
   "execution_count": 17,
   "id": "b9a735d0",
   "metadata": {
    "execution": {
     "iopub.execute_input": "2022-10-20T20:31:45.705705Z",
     "iopub.status.busy": "2022-10-20T20:31:45.704852Z",
     "iopub.status.idle": "2022-10-20T20:31:45.764876Z",
     "shell.execute_reply": "2022-10-20T20:31:45.763871Z"
    },
    "papermill": {
     "duration": 0.074062,
     "end_time": "2022-10-20T20:31:45.767363",
     "exception": false,
     "start_time": "2022-10-20T20:31:45.693301",
     "status": "completed"
    },
    "tags": []
   },
   "outputs": [],
   "source": [
    "X_train,X_test,y_train,y_test=train_test_split(scaled_data,\n",
    "                                               Y,\n",
    "                                               test_size=0.3,\n",
    "                                               random_state=50)"
   ]
  },
  {
   "cell_type": "markdown",
   "id": "0e9c81ae",
   "metadata": {
    "papermill": {
     "duration": 0.010601,
     "end_time": "2022-10-20T20:31:45.789233",
     "exception": false,
     "start_time": "2022-10-20T20:31:45.778632",
     "status": "completed"
    },
    "tags": []
   },
   "source": [
    "## Cantidad de datos que hay por clases para predecir"
   ]
  },
  {
   "cell_type": "code",
   "execution_count": 18,
   "id": "41102679",
   "metadata": {
    "execution": {
     "iopub.execute_input": "2022-10-20T20:31:45.812404Z",
     "iopub.status.busy": "2022-10-20T20:31:45.811483Z",
     "iopub.status.idle": "2022-10-20T20:31:45.841959Z",
     "shell.execute_reply": "2022-10-20T20:31:45.840933Z"
    },
    "papermill": {
     "duration": 0.044016,
     "end_time": "2022-10-20T20:31:45.843869",
     "exception": false,
     "start_time": "2022-10-20T20:31:45.799853",
     "status": "completed"
    },
    "tags": []
   },
   "outputs": [
    {
     "name": "stdout",
     "output_type": "stream",
     "text": [
      "Counter({0: 204624, 1: 19232})\n"
     ]
    }
   ],
   "source": [
    "counter=Counter(y_train)\n",
    "print(counter)"
   ]
  },
  {
   "cell_type": "markdown",
   "id": "3fa010a7",
   "metadata": {
    "papermill": {
     "duration": 0.010525,
     "end_time": "2022-10-20T20:31:45.865049",
     "exception": false,
     "start_time": "2022-10-20T20:31:45.854524",
     "status": "completed"
    },
    "tags": []
   },
   "source": [
    "## Función para el entrenamiento de los modelos"
   ]
  },
  {
   "cell_type": "code",
   "execution_count": 19,
   "id": "18a62c6d",
   "metadata": {
    "execution": {
     "iopub.execute_input": "2022-10-20T20:31:45.887837Z",
     "iopub.status.busy": "2022-10-20T20:31:45.887567Z",
     "iopub.status.idle": "2022-10-20T20:31:45.894067Z",
     "shell.execute_reply": "2022-10-20T20:31:45.893217Z"
    },
    "papermill": {
     "duration": 0.020305,
     "end_time": "2022-10-20T20:31:45.896007",
     "exception": false,
     "start_time": "2022-10-20T20:31:45.875702",
     "status": "completed"
    },
    "tags": []
   },
   "outputs": [],
   "source": [
    "def entrenarModelo(model_train, Xtrain,Ytrain,Xtest,Ytest):\n",
    "    model.fit(X=Xtrain,y=Ytrain)\n",
    "    Ypred=model.predict(Xtest)\n",
    "\n",
    "    print(f'Model: {str(model)}')\n",
    "    print(f'Accuracy Score: {accuracy_score(Ytest,Ypred)}')\n",
    "    print(f'Precission Score: {precision_score(Ytest,Ypred)}')\n",
    "    print(f'Recall Score: {recall_score(Ytest,Ypred)}')\n",
    "    print(f'F1-Score: {f1_score(Ytest,Ypred)}')\n",
    "    cm = confusion_matrix(Ytest, Ypred, labels=model_train.classes_)\n",
    "    disp = ConfusionMatrixDisplay(confusion_matrix=cm,display_labels=model_train.classes_)\n",
    "    disp.plot()\n",
    "    return model_train"
   ]
  },
  {
   "cell_type": "markdown",
   "id": "ec02c52b",
   "metadata": {
    "papermill": {
     "duration": 0.01054,
     "end_time": "2022-10-20T20:31:45.917153",
     "exception": false,
     "start_time": "2022-10-20T20:31:45.906613",
     "status": "completed"
    },
    "tags": []
   },
   "source": [
    "## Función para realizar el Submuestreo de los datos"
   ]
  },
  {
   "cell_type": "code",
   "execution_count": 20,
   "id": "7151b46e",
   "metadata": {
    "execution": {
     "iopub.execute_input": "2022-10-20T20:31:45.940316Z",
     "iopub.status.busy": "2022-10-20T20:31:45.939454Z",
     "iopub.status.idle": "2022-10-20T20:31:45.944838Z",
     "shell.execute_reply": "2022-10-20T20:31:45.944003Z"
    },
    "papermill": {
     "duration": 0.01888,
     "end_time": "2022-10-20T20:31:45.946795",
     "exception": false,
     "start_time": "2022-10-20T20:31:45.927915",
     "status": "completed"
    },
    "tags": []
   },
   "outputs": [],
   "source": [
    "def balancearClases(balanceador, X_train, y_train):\n",
    "    Xtrain_new, Ytrain_new=balanceador.fit_resample(X_train,y_train)\n",
    "    print(\"Dimensiones\")\n",
    "    print(\"Xtrain_new: \", Xtrain_new.shape)\n",
    "    print(\"Ytrain_new: \", Ytrain_new.shape)\n",
    "    return Xtrain_new,Ytrain_new"
   ]
  },
  {
   "cell_type": "markdown",
   "id": "4b3ebc5c",
   "metadata": {
    "papermill": {
     "duration": 0.010533,
     "end_time": "2022-10-20T20:31:45.967940",
     "exception": false,
     "start_time": "2022-10-20T20:31:45.957407",
     "status": "completed"
    },
    "tags": []
   },
   "source": [
    "## Entrenamiento del modelo con Undersampling"
   ]
  },
  {
   "cell_type": "code",
   "execution_count": 21,
   "id": "a4090753",
   "metadata": {
    "execution": {
     "iopub.execute_input": "2022-10-20T20:31:45.990649Z",
     "iopub.status.busy": "2022-10-20T20:31:45.990047Z",
     "iopub.status.idle": "2022-10-20T20:31:46.049045Z",
     "shell.execute_reply": "2022-10-20T20:31:46.048153Z"
    },
    "papermill": {
     "duration": 0.072583,
     "end_time": "2022-10-20T20:31:46.051169",
     "exception": false,
     "start_time": "2022-10-20T20:31:45.978586",
     "status": "completed"
    },
    "tags": []
   },
   "outputs": [
    {
     "name": "stdout",
     "output_type": "stream",
     "text": [
      "Dimensiones\n",
      "Xtrain_new:  (38464, 16)\n",
      "Ytrain_new:  (38464,)\n"
     ]
    }
   ],
   "source": [
    "subsample=RandomUnderSampler()\n",
    "Xtrain_new, Ytrain_new=balancearClases(subsample, X_train, y_train)"
   ]
  },
  {
   "cell_type": "code",
   "execution_count": 22,
   "id": "ab71a14c",
   "metadata": {
    "execution": {
     "iopub.execute_input": "2022-10-20T20:31:46.074258Z",
     "iopub.status.busy": "2022-10-20T20:31:46.073958Z",
     "iopub.status.idle": "2022-10-20T20:34:09.907051Z",
     "shell.execute_reply": "2022-10-20T20:34:09.906091Z"
    },
    "papermill": {
     "duration": 143.84696,
     "end_time": "2022-10-20T20:34:09.909102",
     "exception": false,
     "start_time": "2022-10-20T20:31:46.062142",
     "status": "completed"
    },
    "tags": []
   },
   "outputs": [
    {
     "name": "stdout",
     "output_type": "stream",
     "text": [
      "Model: SVC()\n",
      "Accuracy Score: 0.7284211842941869\n",
      "Precission Score: 0.2118453223523356\n",
      "Recall Score: 0.8088686893502027\n",
      "F1-Score: 0.335755258126195\n"
     ]
    },
    {
     "data": {
      "text/plain": [
       "['SVM_UnderSampling.joblib']"
      ]
     },
     "execution_count": 22,
     "metadata": {},
     "output_type": "execute_result"
    },
    {
     "data": {
      "image/png": "[encoded data removed]",
      "text/plain": [
       "<Figure size 432x288 with 2 Axes>"
      ]
     },
     "metadata": {
      "needs_background": "light"
     },
     "output_type": "display_data"
    }
   ],
   "source": [
    "model=SVC()\n",
    "modelo_entrenado=entrenarModelo(model,Xtrain_new,Ytrain_new,X_test,y_test)\n",
    "joblib.dump(modelo_entrenado, 'SVM_UnderSampling.joblib') "
   ]
  },
  {
   "cell_type": "markdown",
   "id": "6194bc00",
   "metadata": {
    "papermill": {
     "duration": 0.011063,
     "end_time": "2022-10-20T20:34:09.931453",
     "exception": false,
     "start_time": "2022-10-20T20:34:09.920390",
     "status": "completed"
    },
    "tags": []
   },
   "source": [
    "## Entrenamiento del modelo con Oversampling"
   ]
  },
  {
   "cell_type": "code",
   "execution_count": 23,
   "id": "63c5fa23",
   "metadata": {
    "execution": {
     "iopub.execute_input": "2022-10-20T20:34:09.955715Z",
     "iopub.status.busy": "2022-10-20T20:34:09.954883Z",
     "iopub.status.idle": "2022-10-20T20:34:10.118544Z",
     "shell.execute_reply": "2022-10-20T20:34:10.117367Z"
    },
    "papermill": {
     "duration": 0.178697,
     "end_time": "2022-10-20T20:34:10.121319",
     "exception": false,
     "start_time": "2022-10-20T20:34:09.942622",
     "status": "completed"
    },
    "tags": []
   },
   "outputs": [
    {
     "name": "stdout",
     "output_type": "stream",
     "text": [
      "Dimensiones\n",
      "Xtrain_new:  (409248, 16)\n",
      "Ytrain_new:  (409248,)\n"
     ]
    }
   ],
   "source": [
    "subsample=RandomOverSampler()\n",
    "Xtrain_new, Ytrain_new=balancearClases(subsample, X_train, y_train)"
   ]
  },
  {
   "cell_type": "code",
   "execution_count": 24,
   "id": "c05df0cd",
   "metadata": {
    "execution": {
     "iopub.execute_input": "2022-10-20T20:34:10.145755Z",
     "iopub.status.busy": "2022-10-20T20:34:10.145458Z",
     "iopub.status.idle": "2022-10-20T23:59:05.731426Z",
     "shell.execute_reply": "2022-10-20T23:59:05.730524Z"
    },
    "papermill": {
     "duration": 12295.600617,
     "end_time": "2022-10-20T23:59:05.733662",
     "exception": false,
     "start_time": "2022-10-20T20:34:10.133045",
     "status": "completed"
    },
    "tags": []
   },
   "outputs": [
    {
     "name": "stdout",
     "output_type": "stream",
     "text": [
      "Model: SVC()\n",
      "Accuracy Score: 0.7393656385828495\n",
      "Precission Score: 0.2168189145620634\n",
      "Recall Score: 0.7930229701510871\n",
      "F1-Score: 0.3405332700371865\n"
     ]
    },
    {
     "data": {
      "text/plain": [
       "['SVM_OverSampling.joblib']"
      ]
     },
     "execution_count": 24,
     "metadata": {},
     "output_type": "execute_result"
    },
    {
     "data": {
      "image/png": "[encoded data removed]",
      "text/plain": [
       "<Figure size 432x288 with 2 Axes>"
      ]
     },
     "metadata": {
      "needs_background": "light"
     },
     "output_type": "display_data"
    }
   ],
   "source": [
    "model=SVC()\n",
    "modelo_entrenado=entrenarModelo(model,Xtrain_new,Ytrain_new,X_test,y_test)\n",
    "joblib.dump(modelo_entrenado, 'SVM_OverSampling.joblib') "
   ]
  },
  {
   "cell_type": "markdown",
   "id": "59da39cb",
   "metadata": {
    "papermill": {
     "duration": 0.01136,
     "end_time": "2022-10-20T23:59:05.756889",
     "exception": false,
     "start_time": "2022-10-20T23:59:05.745529",
     "status": "completed"
    },
    "tags": []
   },
   "source": [
    "# Entrenamiento del modelo sin usar técnicas de submuestreo"
   ]
  },
  {
   "cell_type": "code",
   "execution_count": 25,
   "id": "282088da",
   "metadata": {
    "execution": {
     "iopub.execute_input": "2022-10-20T23:59:05.782359Z",
     "iopub.status.busy": "2022-10-20T23:59:05.781462Z",
     "iopub.status.idle": "2022-10-21T03:00:54.373006Z",
     "shell.execute_reply": "2022-10-21T03:00:54.372080Z"
    },
    "papermill": {
     "duration": 10908.606224,
     "end_time": "2022-10-21T03:00:54.375068",
     "exception": false,
     "start_time": "2022-10-20T23:59:05.768844",
     "status": "completed"
    },
    "tags": []
   },
   "outputs": [
    {
     "name": "stdout",
     "output_type": "stream",
     "text": [
      "Model: SVC()\n",
      "Accuracy Score: 0.9163530993652217\n",
      "Precission Score: 0.5805555555555556\n",
      "Recall Score: 0.051345043606436554\n",
      "F1-Score: 0.09434601060828349\n"
     ]
    },
    {
     "data": {
      "text/plain": [
       "['SVM.joblib']"
      ]
     },
     "execution_count": 25,
     "metadata": {},
     "output_type": "execute_result"
    },
    {
     "data": {
      "image/png": "[encoded data removed]",
      "text/plain": [
       "<Figure size 432x288 with 2 Axes>"
      ]
     },
     "metadata": {
      "needs_background": "light"
     },
     "output_type": "display_data"
    }
   ],
   "source": [
    "model=SVC()\n",
    "modelo_entrenado=entrenarModelo(model,X_train,y_train,X_test,y_test)\n",
    "joblib.dump(modelo_entrenado, 'SVM.joblib')"
   ]
  },
  {
   "cell_type": "code",
   "execution_count": null,
   "id": "a5986390",
   "metadata": {
    "papermill": {
     "duration": 0.012039,
     "end_time": "2022-10-21T03:00:54.400529",
     "exception": false,
     "start_time": "2022-10-21T03:00:54.388490",
     "status": "completed"
    },
    "tags": []
   },
   "outputs": [],
   "source": []
  }
 ],
 "metadata": {
  "kernelspec": {
   "display_name": "Python 3",
   "language": "python",
   "name": "python3"
  },
  "language_info": {
   "codemirror_mode": {
    "name": "ipython",
    "version": 3
   },
   "file_extension": ".py",
   "mimetype": "text/x-python",
   "name": "python",
   "nbconvert_exporter": "python",
   "pygments_lexer": "ipython3",
   "version": "3.7.12"
  },
  "papermill": {
   "default_parameters": {},
   "duration": 36271.327026,
   "end_time": "2022-10-21T03:00:55.085759",
   "environment_variables": {},
   "exception": null,
   "input_path": "__notebook__.ipynb",
   "output_path": "__notebook__.ipynb",
   "parameters": {},
   "start_time": "2022-10-20T16:56:23.758733",
   "version": "2.3.4"
  }
 },
 "nbformat": 4,
 "nbformat_minor": 5
}
