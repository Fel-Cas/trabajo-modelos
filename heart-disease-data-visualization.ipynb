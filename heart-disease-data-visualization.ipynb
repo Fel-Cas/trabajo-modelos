{
 "cells": [
  {
   "cell_type": "code",
   "execution_count": 1,
   "id": "c914176d",
   "metadata": {
    "_cell_guid": "b1076dfc-b9ad-4769-8c92-a6c4dae69d19",
    "_uuid": "8f2839f25d086af736a60e9eeb907d3b93b6e0e5",
    "execution": {
     "iopub.execute_input": "2022-10-18T21:25:00.094038Z",
     "iopub.status.busy": "2022-10-18T21:25:00.092773Z",
     "iopub.status.idle": "2022-10-18T21:25:01.170618Z",
     "shell.execute_reply": "2022-10-18T21:25:01.169314Z"
    },
    "papermill": {
     "duration": 1.104566,
     "end_time": "2022-10-18T21:25:01.173409",
     "exception": false,
     "start_time": "2022-10-18T21:25:00.068843",
     "status": "completed"
    },
    "tags": []
   },
   "outputs": [
    {
     "name": "stdout",
     "output_type": "stream",
     "text": [
      "/kaggle/input/heart-disease/heart_2020_cleaned.csv\n"
     ]
    }
   ],
   "source": [
    "# This Python 3 environment comes with many helpful analytics libraries installed\n",
    "# It is defined by the kaggle/python Docker image: https://github.com/kaggle/docker-python\n",
    "# For example, here's several helpful packages to load\n",
    "\n",
    "import numpy as np # linear algebra\n",
    "import pandas as pd # data processing, CSV file I/O (e.g. pd.read_csv)\n",
    "import matplotlib.pyplot as plt\n",
    "import seaborn as sns\n",
    "%config Completer.use_jedi = False\n",
    "\n",
    "# Input data files are available in the read-only \"../input/\" directory\n",
    "# For example, running this (by clicking run or pressing Shift+Enter) will list all files under the input directory\n",
    "\n",
    "import os\n",
    "for dirname, _, filenames in os.walk('/kaggle/input'):\n",
    "    for filename in filenames:\n",
    "        print(os.path.join(dirname, filename))\n",
    "\n",
    "# You can write up to 20GB to the current directory (/kaggle/working/) that gets preserved as output when you create a version using \"Save & Run All\" \n",
    "# You can also write temporary files to /kaggle/temp/, but they won't be saved outside of the current session"
   ]
  },
  {
   "cell_type": "code",
   "execution_count": 2,
   "id": "ba17d273",
   "metadata": {
    "execution": {
     "iopub.execute_input": "2022-10-18T21:25:01.215910Z",
     "iopub.status.busy": "2022-10-18T21:25:01.214787Z",
     "iopub.status.idle": "2022-10-18T21:25:02.331247Z",
     "shell.execute_reply": "2022-10-18T21:25:02.329982Z"
    },
    "papermill": {
     "duration": 1.139947,
     "end_time": "2022-10-18T21:25:02.333831",
     "exception": false,
     "start_time": "2022-10-18T21:25:01.193884",
     "status": "completed"
    },
    "tags": []
   },
   "outputs": [
    {
     "data": {
      "text/html": [
       "<div>\n",
       "<style scoped>\n",
       "    .dataframe tbody tr th:only-of-type {\n",
       "        vertical-align: middle;\n",
       "    }\n",
       "\n",
       "    .dataframe tbody tr th {\n",
       "        vertical-align: top;\n",
       "    }\n",
       "\n",
       "    .dataframe thead th {\n",
       "        text-align: right;\n",
       "    }\n",
       "</style>\n",
       "<table border=\"1\" class=\"dataframe\">\n",
       "  <thead>\n",
       "    <tr style=\"text-align: right;\">\n",
       "      <th></th>\n",
       "      <th>HeartDisease</th>\n",
       "      <th>BMI</th>\n",
       "      <th>Smoking</th>\n",
       "      <th>AlcoholDrinking</th>\n",
       "      <th>Stroke</th>\n",
       "      <th>PhysicalHealth</th>\n",
       "      <th>MentalHealth</th>\n",
       "      <th>DiffWalking</th>\n",
       "      <th>Sex</th>\n",
       "      <th>AgeCategory</th>\n",
       "      <th>Race</th>\n",
       "      <th>Diabetic</th>\n",
       "      <th>PhysicalActivity</th>\n",
       "      <th>GenHealth</th>\n",
       "      <th>SleepTime</th>\n",
       "      <th>Asthma</th>\n",
       "      <th>KidneyDisease</th>\n",
       "      <th>SkinCancer</th>\n",
       "    </tr>\n",
       "  </thead>\n",
       "  <tbody>\n",
       "    <tr>\n",
       "      <th>0</th>\n",
       "      <td>No</td>\n",
       "      <td>16.60</td>\n",
       "      <td>Yes</td>\n",
       "      <td>No</td>\n",
       "      <td>No</td>\n",
       "      <td>3.0</td>\n",
       "      <td>30.0</td>\n",
       "      <td>No</td>\n",
       "      <td>Female</td>\n",
       "      <td>55-59</td>\n",
       "      <td>White</td>\n",
       "      <td>Yes</td>\n",
       "      <td>Yes</td>\n",
       "      <td>Very good</td>\n",
       "      <td>5.0</td>\n",
       "      <td>Yes</td>\n",
       "      <td>No</td>\n",
       "      <td>Yes</td>\n",
       "    </tr>\n",
       "    <tr>\n",
       "      <th>1</th>\n",
       "      <td>No</td>\n",
       "      <td>20.34</td>\n",
       "      <td>No</td>\n",
       "      <td>No</td>\n",
       "      <td>Yes</td>\n",
       "      <td>0.0</td>\n",
       "      <td>0.0</td>\n",
       "      <td>No</td>\n",
       "      <td>Female</td>\n",
       "      <td>80 or older</td>\n",
       "      <td>White</td>\n",
       "      <td>No</td>\n",
       "      <td>Yes</td>\n",
       "      <td>Very good</td>\n",
       "      <td>7.0</td>\n",
       "      <td>No</td>\n",
       "      <td>No</td>\n",
       "      <td>No</td>\n",
       "    </tr>\n",
       "    <tr>\n",
       "      <th>2</th>\n",
       "      <td>No</td>\n",
       "      <td>26.58</td>\n",
       "      <td>Yes</td>\n",
       "      <td>No</td>\n",
       "      <td>No</td>\n",
       "      <td>20.0</td>\n",
       "      <td>30.0</td>\n",
       "      <td>No</td>\n",
       "      <td>Male</td>\n",
       "      <td>65-69</td>\n",
       "      <td>White</td>\n",
       "      <td>Yes</td>\n",
       "      <td>Yes</td>\n",
       "      <td>Fair</td>\n",
       "      <td>8.0</td>\n",
       "      <td>Yes</td>\n",
       "      <td>No</td>\n",
       "      <td>No</td>\n",
       "    </tr>\n",
       "    <tr>\n",
       "      <th>3</th>\n",
       "      <td>No</td>\n",
       "      <td>24.21</td>\n",
       "      <td>No</td>\n",
       "      <td>No</td>\n",
       "      <td>No</td>\n",
       "      <td>0.0</td>\n",
       "      <td>0.0</td>\n",
       "      <td>No</td>\n",
       "      <td>Female</td>\n",
       "      <td>75-79</td>\n",
       "      <td>White</td>\n",
       "      <td>No</td>\n",
       "      <td>No</td>\n",
       "      <td>Good</td>\n",
       "      <td>6.0</td>\n",
       "      <td>No</td>\n",
       "      <td>No</td>\n",
       "      <td>Yes</td>\n",
       "    </tr>\n",
       "    <tr>\n",
       "      <th>4</th>\n",
       "      <td>No</td>\n",
       "      <td>23.71</td>\n",
       "      <td>No</td>\n",
       "      <td>No</td>\n",
       "      <td>No</td>\n",
       "      <td>28.0</td>\n",
       "      <td>0.0</td>\n",
       "      <td>Yes</td>\n",
       "      <td>Female</td>\n",
       "      <td>40-44</td>\n",
       "      <td>White</td>\n",
       "      <td>No</td>\n",
       "      <td>Yes</td>\n",
       "      <td>Very good</td>\n",
       "      <td>8.0</td>\n",
       "      <td>No</td>\n",
       "      <td>No</td>\n",
       "      <td>No</td>\n",
       "    </tr>\n",
       "  </tbody>\n",
       "</table>\n",
       "</div>"
      ],
      "text/plain": [
       "  HeartDisease    BMI Smoking AlcoholDrinking Stroke  PhysicalHealth  \\\n",
       "0           No  16.60     Yes              No     No             3.0   \n",
       "1           No  20.34      No              No    Yes             0.0   \n",
       "2           No  26.58     Yes              No     No            20.0   \n",
       "3           No  24.21      No              No     No             0.0   \n",
       "4           No  23.71      No              No     No            28.0   \n",
       "\n",
       "   MentalHealth DiffWalking     Sex  AgeCategory   Race Diabetic  \\\n",
       "0          30.0          No  Female        55-59  White      Yes   \n",
       "1           0.0          No  Female  80 or older  White       No   \n",
       "2          30.0          No    Male        65-69  White      Yes   \n",
       "3           0.0          No  Female        75-79  White       No   \n",
       "4           0.0         Yes  Female        40-44  White       No   \n",
       "\n",
       "  PhysicalActivity  GenHealth  SleepTime Asthma KidneyDisease SkinCancer  \n",
       "0              Yes  Very good        5.0    Yes            No        Yes  \n",
       "1              Yes  Very good        7.0     No            No         No  \n",
       "2              Yes       Fair        8.0    Yes            No         No  \n",
       "3               No       Good        6.0     No            No        Yes  \n",
       "4              Yes  Very good        8.0     No            No         No  "
      ]
     },
     "execution_count": 2,
     "metadata": {},
     "output_type": "execute_result"
    }
   ],
   "source": [
    "## Cargamos los datos y los visualizamos.\n",
    "data=pd.read_csv('/kaggle/input/heart-disease/heart_2020_cleaned.csv')\n",
    "df=data.copy()\n",
    "df.head()"
   ]
  },
  {
   "cell_type": "markdown",
   "id": "d18bb9a4",
   "metadata": {
    "papermill": {
     "duration": 0.019842,
     "end_time": "2022-10-18T21:25:02.373744",
     "exception": false,
     "start_time": "2022-10-18T21:25:02.353902",
     "status": "completed"
    },
    "tags": []
   },
   "source": [
    "# **Análisis y Exploración de los datos de los datos**"
   ]
  },
  {
   "cell_type": "markdown",
   "id": "59846cf7",
   "metadata": {
    "papermill": {
     "duration": 0.018989,
     "end_time": "2022-10-18T21:25:02.412033",
     "exception": false,
     "start_time": "2022-10-18T21:25:02.393044",
     "status": "completed"
    },
    "tags": []
   },
   "source": [
    "## Nombres de las características\n",
    "Acá podemos obsevar el nombre de cada una de las características que tienene el dataset y son evaluadas para verificar si una persona ha sufrido de ataque cardíaco."
   ]
  },
  {
   "cell_type": "code",
   "execution_count": 3,
   "id": "76b70d9c",
   "metadata": {
    "execution": {
     "iopub.execute_input": "2022-10-18T21:25:02.453828Z",
     "iopub.status.busy": "2022-10-18T21:25:02.453384Z",
     "iopub.status.idle": "2022-10-18T21:25:02.466425Z",
     "shell.execute_reply": "2022-10-18T21:25:02.464803Z"
    },
    "papermill": {
     "duration": 0.038056,
     "end_time": "2022-10-18T21:25:02.469348",
     "exception": false,
     "start_time": "2022-10-18T21:25:02.431292",
     "status": "completed"
    },
    "tags": []
   },
   "outputs": [
    {
     "data": {
      "text/plain": [
       "Index(['HeartDisease', 'BMI', 'Smoking', 'AlcoholDrinking', 'Stroke',\n",
       "       'PhysicalHealth', 'MentalHealth', 'DiffWalking', 'Sex', 'AgeCategory',\n",
       "       'Race', 'Diabetic', 'PhysicalActivity', 'GenHealth', 'SleepTime',\n",
       "       'Asthma', 'KidneyDisease', 'SkinCancer'],\n",
       "      dtype='object')"
      ]
     },
     "execution_count": 3,
     "metadata": {},
     "output_type": "execute_result"
    }
   ],
   "source": [
    "# Nombre de las columnas de nuestros datos\n",
    "df.columns"
   ]
  },
  {
   "cell_type": "markdown",
   "id": "1fd8f27a",
   "metadata": {
    "papermill": {
     "duration": 0.026511,
     "end_time": "2022-10-18T21:25:02.519598",
     "exception": false,
     "start_time": "2022-10-18T21:25:02.493087",
     "status": "completed"
    },
    "tags": []
   },
   "source": [
    "## Dimensiones del dataset\n",
    "1. Observamos que tenemos 17 variables en nuestro dataset. 16 son utilizadas para entrenar el modelo y una adicional que esla variable a predecir.  \n",
    "2. Tenemos  319795 muestras en el dataset"
   ]
  },
  {
   "cell_type": "code",
   "execution_count": 4,
   "id": "e91c2be0",
   "metadata": {
    "execution": {
     "iopub.execute_input": "2022-10-18T21:25:02.566805Z",
     "iopub.status.busy": "2022-10-18T21:25:02.565947Z",
     "iopub.status.idle": "2022-10-18T21:25:02.572124Z",
     "shell.execute_reply": "2022-10-18T21:25:02.570846Z"
    },
    "papermill": {
     "duration": 0.033991,
     "end_time": "2022-10-18T21:25:02.574787",
     "exception": false,
     "start_time": "2022-10-18T21:25:02.540796",
     "status": "completed"
    },
    "tags": []
   },
   "outputs": [
    {
     "name": "stdout",
     "output_type": "stream",
     "text": [
      "Número de filas:  319795\n",
      "Número de columnas:  18\n"
     ]
    }
   ],
   "source": [
    "# Dimensiones de nuestro datase\n",
    "print(\"Número de filas: \", df.shape[0])\n",
    "print(\"Número de columnas: \", df.shape[1])"
   ]
  },
  {
   "cell_type": "markdown",
   "id": "c0f16136",
   "metadata": {
    "papermill": {
     "duration": 0.019262,
     "end_time": "2022-10-18T21:25:02.613696",
     "exception": false,
     "start_time": "2022-10-18T21:25:02.594434",
     "status": "completed"
    },
    "tags": []
   },
   "source": [
    "## Tipos de datos\n",
    "Observamos que tenemos tipos de datos tiene nuestro dataset. Hay 4 datos de tipo numérico y 14 de tipo texto."
   ]
  },
  {
   "cell_type": "code",
   "execution_count": 5,
   "id": "cd7a75b8",
   "metadata": {
    "execution": {
     "iopub.execute_input": "2022-10-18T21:25:02.656250Z",
     "iopub.status.busy": "2022-10-18T21:25:02.655123Z",
     "iopub.status.idle": "2022-10-18T21:25:02.663215Z",
     "shell.execute_reply": "2022-10-18T21:25:02.662242Z"
    },
    "papermill": {
     "duration": 0.031779,
     "end_time": "2022-10-18T21:25:02.665459",
     "exception": false,
     "start_time": "2022-10-18T21:25:02.633680",
     "status": "completed"
    },
    "tags": []
   },
   "outputs": [
    {
     "data": {
      "text/plain": [
       "HeartDisease         object\n",
       "BMI                 float64\n",
       "Smoking              object\n",
       "AlcoholDrinking      object\n",
       "Stroke               object\n",
       "PhysicalHealth      float64\n",
       "MentalHealth        float64\n",
       "DiffWalking          object\n",
       "Sex                  object\n",
       "AgeCategory          object\n",
       "Race                 object\n",
       "Diabetic             object\n",
       "PhysicalActivity     object\n",
       "GenHealth            object\n",
       "SleepTime           float64\n",
       "Asthma               object\n",
       "KidneyDisease        object\n",
       "SkinCancer           object\n",
       "dtype: object"
      ]
     },
     "execution_count": 5,
     "metadata": {},
     "output_type": "execute_result"
    }
   ],
   "source": [
    "# Tipos de datos que tienen las columnas\n",
    "df.dtypes"
   ]
  },
  {
   "cell_type": "code",
   "execution_count": 6,
   "id": "16f2754b",
   "metadata": {
    "execution": {
     "iopub.execute_input": "2022-10-18T21:25:02.709524Z",
     "iopub.status.busy": "2022-10-18T21:25:02.707165Z",
     "iopub.status.idle": "2022-10-18T21:25:02.807434Z",
     "shell.execute_reply": "2022-10-18T21:25:02.806311Z"
    },
    "papermill": {
     "duration": 0.124872,
     "end_time": "2022-10-18T21:25:02.809967",
     "exception": false,
     "start_time": "2022-10-18T21:25:02.685095",
     "status": "completed"
    },
    "tags": []
   },
   "outputs": [
    {
     "data": {
      "text/html": [
       "<div>\n",
       "<style scoped>\n",
       "    .dataframe tbody tr th:only-of-type {\n",
       "        vertical-align: middle;\n",
       "    }\n",
       "\n",
       "    .dataframe tbody tr th {\n",
       "        vertical-align: top;\n",
       "    }\n",
       "\n",
       "    .dataframe thead th {\n",
       "        text-align: right;\n",
       "    }\n",
       "</style>\n",
       "<table border=\"1\" class=\"dataframe\">\n",
       "  <thead>\n",
       "    <tr style=\"text-align: right;\">\n",
       "      <th></th>\n",
       "      <th>count</th>\n",
       "      <th>mean</th>\n",
       "      <th>std</th>\n",
       "      <th>min</th>\n",
       "      <th>25%</th>\n",
       "      <th>50%</th>\n",
       "      <th>75%</th>\n",
       "      <th>max</th>\n",
       "    </tr>\n",
       "  </thead>\n",
       "  <tbody>\n",
       "    <tr>\n",
       "      <th>BMI</th>\n",
       "      <td>319795.0</td>\n",
       "      <td>28.325399</td>\n",
       "      <td>6.356100</td>\n",
       "      <td>12.02</td>\n",
       "      <td>24.03</td>\n",
       "      <td>27.34</td>\n",
       "      <td>31.42</td>\n",
       "      <td>94.85</td>\n",
       "    </tr>\n",
       "    <tr>\n",
       "      <th>PhysicalHealth</th>\n",
       "      <td>319795.0</td>\n",
       "      <td>3.371710</td>\n",
       "      <td>7.950850</td>\n",
       "      <td>0.00</td>\n",
       "      <td>0.00</td>\n",
       "      <td>0.00</td>\n",
       "      <td>2.00</td>\n",
       "      <td>30.00</td>\n",
       "    </tr>\n",
       "    <tr>\n",
       "      <th>MentalHealth</th>\n",
       "      <td>319795.0</td>\n",
       "      <td>3.898366</td>\n",
       "      <td>7.955235</td>\n",
       "      <td>0.00</td>\n",
       "      <td>0.00</td>\n",
       "      <td>0.00</td>\n",
       "      <td>3.00</td>\n",
       "      <td>30.00</td>\n",
       "    </tr>\n",
       "    <tr>\n",
       "      <th>SleepTime</th>\n",
       "      <td>319795.0</td>\n",
       "      <td>7.097075</td>\n",
       "      <td>1.436007</td>\n",
       "      <td>1.00</td>\n",
       "      <td>6.00</td>\n",
       "      <td>7.00</td>\n",
       "      <td>8.00</td>\n",
       "      <td>24.00</td>\n",
       "    </tr>\n",
       "  </tbody>\n",
       "</table>\n",
       "</div>"
      ],
      "text/plain": [
       "                   count       mean       std    min    25%    50%    75%  \\\n",
       "BMI             319795.0  28.325399  6.356100  12.02  24.03  27.34  31.42   \n",
       "PhysicalHealth  319795.0   3.371710  7.950850   0.00   0.00   0.00   2.00   \n",
       "MentalHealth    319795.0   3.898366  7.955235   0.00   0.00   0.00   3.00   \n",
       "SleepTime       319795.0   7.097075  1.436007   1.00   6.00   7.00   8.00   \n",
       "\n",
       "                  max  \n",
       "BMI             94.85  \n",
       "PhysicalHealth  30.00  \n",
       "MentalHealth    30.00  \n",
       "SleepTime       24.00  "
      ]
     },
     "execution_count": 6,
     "metadata": {},
     "output_type": "execute_result"
    }
   ],
   "source": [
    "## visión general de los datos númericos que tenemos\n",
    "df.describe().T"
   ]
  },
  {
   "cell_type": "code",
   "execution_count": 7,
   "id": "cbdf171c",
   "metadata": {
    "execution": {
     "iopub.execute_input": "2022-10-18T21:25:02.851866Z",
     "iopub.status.busy": "2022-10-18T21:25:02.851460Z",
     "iopub.status.idle": "2022-10-18T21:25:03.405535Z",
     "shell.execute_reply": "2022-10-18T21:25:03.404321Z"
    },
    "papermill": {
     "duration": 0.578047,
     "end_time": "2022-10-18T21:25:03.408047",
     "exception": false,
     "start_time": "2022-10-18T21:25:02.830000",
     "status": "completed"
    },
    "tags": []
   },
   "outputs": [
    {
     "data": {
      "text/html": [
       "<div>\n",
       "<style scoped>\n",
       "    .dataframe tbody tr th:only-of-type {\n",
       "        vertical-align: middle;\n",
       "    }\n",
       "\n",
       "    .dataframe tbody tr th {\n",
       "        vertical-align: top;\n",
       "    }\n",
       "\n",
       "    .dataframe thead th {\n",
       "        text-align: right;\n",
       "    }\n",
       "</style>\n",
       "<table border=\"1\" class=\"dataframe\">\n",
       "  <thead>\n",
       "    <tr style=\"text-align: right;\">\n",
       "      <th></th>\n",
       "      <th>count</th>\n",
       "      <th>unique</th>\n",
       "      <th>top</th>\n",
       "      <th>freq</th>\n",
       "      <th>mean</th>\n",
       "      <th>std</th>\n",
       "      <th>min</th>\n",
       "      <th>25%</th>\n",
       "      <th>50%</th>\n",
       "      <th>75%</th>\n",
       "      <th>max</th>\n",
       "    </tr>\n",
       "  </thead>\n",
       "  <tbody>\n",
       "    <tr>\n",
       "      <th>HeartDisease</th>\n",
       "      <td>319795</td>\n",
       "      <td>2</td>\n",
       "      <td>No</td>\n",
       "      <td>292422</td>\n",
       "      <td>NaN</td>\n",
       "      <td>NaN</td>\n",
       "      <td>NaN</td>\n",
       "      <td>NaN</td>\n",
       "      <td>NaN</td>\n",
       "      <td>NaN</td>\n",
       "      <td>NaN</td>\n",
       "    </tr>\n",
       "    <tr>\n",
       "      <th>BMI</th>\n",
       "      <td>319795.0</td>\n",
       "      <td>NaN</td>\n",
       "      <td>NaN</td>\n",
       "      <td>NaN</td>\n",
       "      <td>28.325399</td>\n",
       "      <td>6.3561</td>\n",
       "      <td>12.02</td>\n",
       "      <td>24.03</td>\n",
       "      <td>27.34</td>\n",
       "      <td>31.42</td>\n",
       "      <td>94.85</td>\n",
       "    </tr>\n",
       "    <tr>\n",
       "      <th>Smoking</th>\n",
       "      <td>319795</td>\n",
       "      <td>2</td>\n",
       "      <td>No</td>\n",
       "      <td>187887</td>\n",
       "      <td>NaN</td>\n",
       "      <td>NaN</td>\n",
       "      <td>NaN</td>\n",
       "      <td>NaN</td>\n",
       "      <td>NaN</td>\n",
       "      <td>NaN</td>\n",
       "      <td>NaN</td>\n",
       "    </tr>\n",
       "    <tr>\n",
       "      <th>AlcoholDrinking</th>\n",
       "      <td>319795</td>\n",
       "      <td>2</td>\n",
       "      <td>No</td>\n",
       "      <td>298018</td>\n",
       "      <td>NaN</td>\n",
       "      <td>NaN</td>\n",
       "      <td>NaN</td>\n",
       "      <td>NaN</td>\n",
       "      <td>NaN</td>\n",
       "      <td>NaN</td>\n",
       "      <td>NaN</td>\n",
       "    </tr>\n",
       "    <tr>\n",
       "      <th>Stroke</th>\n",
       "      <td>319795</td>\n",
       "      <td>2</td>\n",
       "      <td>No</td>\n",
       "      <td>307726</td>\n",
       "      <td>NaN</td>\n",
       "      <td>NaN</td>\n",
       "      <td>NaN</td>\n",
       "      <td>NaN</td>\n",
       "      <td>NaN</td>\n",
       "      <td>NaN</td>\n",
       "      <td>NaN</td>\n",
       "    </tr>\n",
       "    <tr>\n",
       "      <th>PhysicalHealth</th>\n",
       "      <td>319795.0</td>\n",
       "      <td>NaN</td>\n",
       "      <td>NaN</td>\n",
       "      <td>NaN</td>\n",
       "      <td>3.37171</td>\n",
       "      <td>7.95085</td>\n",
       "      <td>0.0</td>\n",
       "      <td>0.0</td>\n",
       "      <td>0.0</td>\n",
       "      <td>2.0</td>\n",
       "      <td>30.0</td>\n",
       "    </tr>\n",
       "    <tr>\n",
       "      <th>MentalHealth</th>\n",
       "      <td>319795.0</td>\n",
       "      <td>NaN</td>\n",
       "      <td>NaN</td>\n",
       "      <td>NaN</td>\n",
       "      <td>3.898366</td>\n",
       "      <td>7.955235</td>\n",
       "      <td>0.0</td>\n",
       "      <td>0.0</td>\n",
       "      <td>0.0</td>\n",
       "      <td>3.0</td>\n",
       "      <td>30.0</td>\n",
       "    </tr>\n",
       "    <tr>\n",
       "      <th>DiffWalking</th>\n",
       "      <td>319795</td>\n",
       "      <td>2</td>\n",
       "      <td>No</td>\n",
       "      <td>275385</td>\n",
       "      <td>NaN</td>\n",
       "      <td>NaN</td>\n",
       "      <td>NaN</td>\n",
       "      <td>NaN</td>\n",
       "      <td>NaN</td>\n",
       "      <td>NaN</td>\n",
       "      <td>NaN</td>\n",
       "    </tr>\n",
       "    <tr>\n",
       "      <th>Sex</th>\n",
       "      <td>319795</td>\n",
       "      <td>2</td>\n",
       "      <td>Female</td>\n",
       "      <td>167805</td>\n",
       "      <td>NaN</td>\n",
       "      <td>NaN</td>\n",
       "      <td>NaN</td>\n",
       "      <td>NaN</td>\n",
       "      <td>NaN</td>\n",
       "      <td>NaN</td>\n",
       "      <td>NaN</td>\n",
       "    </tr>\n",
       "    <tr>\n",
       "      <th>AgeCategory</th>\n",
       "      <td>319795</td>\n",
       "      <td>13</td>\n",
       "      <td>65-69</td>\n",
       "      <td>34151</td>\n",
       "      <td>NaN</td>\n",
       "      <td>NaN</td>\n",
       "      <td>NaN</td>\n",
       "      <td>NaN</td>\n",
       "      <td>NaN</td>\n",
       "      <td>NaN</td>\n",
       "      <td>NaN</td>\n",
       "    </tr>\n",
       "    <tr>\n",
       "      <th>Race</th>\n",
       "      <td>319795</td>\n",
       "      <td>6</td>\n",
       "      <td>White</td>\n",
       "      <td>245212</td>\n",
       "      <td>NaN</td>\n",
       "      <td>NaN</td>\n",
       "      <td>NaN</td>\n",
       "      <td>NaN</td>\n",
       "      <td>NaN</td>\n",
       "      <td>NaN</td>\n",
       "      <td>NaN</td>\n",
       "    </tr>\n",
       "    <tr>\n",
       "      <th>Diabetic</th>\n",
       "      <td>319795</td>\n",
       "      <td>4</td>\n",
       "      <td>No</td>\n",
       "      <td>269653</td>\n",
       "      <td>NaN</td>\n",
       "      <td>NaN</td>\n",
       "      <td>NaN</td>\n",
       "      <td>NaN</td>\n",
       "      <td>NaN</td>\n",
       "      <td>NaN</td>\n",
       "      <td>NaN</td>\n",
       "    </tr>\n",
       "    <tr>\n",
       "      <th>PhysicalActivity</th>\n",
       "      <td>319795</td>\n",
       "      <td>2</td>\n",
       "      <td>Yes</td>\n",
       "      <td>247957</td>\n",
       "      <td>NaN</td>\n",
       "      <td>NaN</td>\n",
       "      <td>NaN</td>\n",
       "      <td>NaN</td>\n",
       "      <td>NaN</td>\n",
       "      <td>NaN</td>\n",
       "      <td>NaN</td>\n",
       "    </tr>\n",
       "    <tr>\n",
       "      <th>GenHealth</th>\n",
       "      <td>319795</td>\n",
       "      <td>5</td>\n",
       "      <td>Very good</td>\n",
       "      <td>113858</td>\n",
       "      <td>NaN</td>\n",
       "      <td>NaN</td>\n",
       "      <td>NaN</td>\n",
       "      <td>NaN</td>\n",
       "      <td>NaN</td>\n",
       "      <td>NaN</td>\n",
       "      <td>NaN</td>\n",
       "    </tr>\n",
       "    <tr>\n",
       "      <th>SleepTime</th>\n",
       "      <td>319795.0</td>\n",
       "      <td>NaN</td>\n",
       "      <td>NaN</td>\n",
       "      <td>NaN</td>\n",
       "      <td>7.097075</td>\n",
       "      <td>1.436007</td>\n",
       "      <td>1.0</td>\n",
       "      <td>6.0</td>\n",
       "      <td>7.0</td>\n",
       "      <td>8.0</td>\n",
       "      <td>24.0</td>\n",
       "    </tr>\n",
       "    <tr>\n",
       "      <th>Asthma</th>\n",
       "      <td>319795</td>\n",
       "      <td>2</td>\n",
       "      <td>No</td>\n",
       "      <td>276923</td>\n",
       "      <td>NaN</td>\n",
       "      <td>NaN</td>\n",
       "      <td>NaN</td>\n",
       "      <td>NaN</td>\n",
       "      <td>NaN</td>\n",
       "      <td>NaN</td>\n",
       "      <td>NaN</td>\n",
       "    </tr>\n",
       "    <tr>\n",
       "      <th>KidneyDisease</th>\n",
       "      <td>319795</td>\n",
       "      <td>2</td>\n",
       "      <td>No</td>\n",
       "      <td>308016</td>\n",
       "      <td>NaN</td>\n",
       "      <td>NaN</td>\n",
       "      <td>NaN</td>\n",
       "      <td>NaN</td>\n",
       "      <td>NaN</td>\n",
       "      <td>NaN</td>\n",
       "      <td>NaN</td>\n",
       "    </tr>\n",
       "    <tr>\n",
       "      <th>SkinCancer</th>\n",
       "      <td>319795</td>\n",
       "      <td>2</td>\n",
       "      <td>No</td>\n",
       "      <td>289976</td>\n",
       "      <td>NaN</td>\n",
       "      <td>NaN</td>\n",
       "      <td>NaN</td>\n",
       "      <td>NaN</td>\n",
       "      <td>NaN</td>\n",
       "      <td>NaN</td>\n",
       "      <td>NaN</td>\n",
       "    </tr>\n",
       "  </tbody>\n",
       "</table>\n",
       "</div>"
      ],
      "text/plain": [
       "                     count unique        top    freq       mean       std  \\\n",
       "HeartDisease        319795      2         No  292422        NaN       NaN   \n",
       "BMI               319795.0    NaN        NaN     NaN  28.325399    6.3561   \n",
       "Smoking             319795      2         No  187887        NaN       NaN   \n",
       "AlcoholDrinking     319795      2         No  298018        NaN       NaN   \n",
       "Stroke              319795      2         No  307726        NaN       NaN   \n",
       "PhysicalHealth    319795.0    NaN        NaN     NaN    3.37171   7.95085   \n",
       "MentalHealth      319795.0    NaN        NaN     NaN   3.898366  7.955235   \n",
       "DiffWalking         319795      2         No  275385        NaN       NaN   \n",
       "Sex                 319795      2     Female  167805        NaN       NaN   \n",
       "AgeCategory         319795     13      65-69   34151        NaN       NaN   \n",
       "Race                319795      6      White  245212        NaN       NaN   \n",
       "Diabetic            319795      4         No  269653        NaN       NaN   \n",
       "PhysicalActivity    319795      2        Yes  247957        NaN       NaN   \n",
       "GenHealth           319795      5  Very good  113858        NaN       NaN   \n",
       "SleepTime         319795.0    NaN        NaN     NaN   7.097075  1.436007   \n",
       "Asthma              319795      2         No  276923        NaN       NaN   \n",
       "KidneyDisease       319795      2         No  308016        NaN       NaN   \n",
       "SkinCancer          319795      2         No  289976        NaN       NaN   \n",
       "\n",
       "                    min    25%    50%    75%    max  \n",
       "HeartDisease        NaN    NaN    NaN    NaN    NaN  \n",
       "BMI               12.02  24.03  27.34  31.42  94.85  \n",
       "Smoking             NaN    NaN    NaN    NaN    NaN  \n",
       "AlcoholDrinking     NaN    NaN    NaN    NaN    NaN  \n",
       "Stroke              NaN    NaN    NaN    NaN    NaN  \n",
       "PhysicalHealth      0.0    0.0    0.0    2.0   30.0  \n",
       "MentalHealth        0.0    0.0    0.0    3.0   30.0  \n",
       "DiffWalking         NaN    NaN    NaN    NaN    NaN  \n",
       "Sex                 NaN    NaN    NaN    NaN    NaN  \n",
       "AgeCategory         NaN    NaN    NaN    NaN    NaN  \n",
       "Race                NaN    NaN    NaN    NaN    NaN  \n",
       "Diabetic            NaN    NaN    NaN    NaN    NaN  \n",
       "PhysicalActivity    NaN    NaN    NaN    NaN    NaN  \n",
       "GenHealth           NaN    NaN    NaN    NaN    NaN  \n",
       "SleepTime           1.0    6.0    7.0    8.0   24.0  \n",
       "Asthma              NaN    NaN    NaN    NaN    NaN  \n",
       "KidneyDisease       NaN    NaN    NaN    NaN    NaN  \n",
       "SkinCancer          NaN    NaN    NaN    NaN    NaN  "
      ]
     },
     "execution_count": 7,
     "metadata": {},
     "output_type": "execute_result"
    }
   ],
   "source": [
    "## Visión general de todos los datos que tenemos\n",
    "df.describe(include='all').T"
   ]
  },
  {
   "cell_type": "markdown",
   "id": "a6ccc683",
   "metadata": {
    "papermill": {
     "duration": 0.02007,
     "end_time": "2022-10-18T21:25:03.448476",
     "exception": false,
     "start_time": "2022-10-18T21:25:03.428406",
     "status": "completed"
    },
    "tags": []
   },
   "source": [
    "# **Descripción de las variables**"
   ]
  },
  {
   "cell_type": "markdown",
   "id": "c3d2b4ca",
   "metadata": {
    "papermill": {
     "duration": 0.020636,
     "end_time": "2022-10-18T21:25:03.490226",
     "exception": false,
     "start_time": "2022-10-18T21:25:03.469590",
     "status": "completed"
    },
    "tags": []
   },
   "source": [
    "1. HeartDisease : Nos dice si la persona tuvo un ataque cardíaco, el valor de la variable es Yes / No\n",
    "2. BMI : Nos dice el indice de masa corporal de la persona\n",
    "3. Smoking : Nos dice si la persona ha fumado, el valor de la variable es  Yes / No\n",
    "4. AlcoholDrinking : Nos dice si la persona ha tomado alcohol es su vida, el valor de la variable es Yes / No\n",
    "5. Stroke : Nos dice si la persona ha tenido un derrame cerebral, el valor de la variable es (Yes / No)\n",
    "6. PhysicalHealth : Nos dice la cantidad de dias que la salud física de la persona no ha sido buena en los ultimos 30  días, el valor de la variable es de 0-30 \n",
    "7. MentalHealth : Nos dice la cantidad de dias que la salud mental de la persona no ha sido buena en los ultimos 30  días, el valor de la variable es de 0-30 \n",
    "8. DiffWalking: Nos dice si la persona tiene dificultad para caminar o subir escaleras, el valor de la variable es Yes / No\n",
    "9. Sex : Sexo de la persona, el valor de la variable es male o Female\n",
    "10. AgeCategory : Categoria de edad de la persona, el valor de la variable está entre:\n",
    "    * 18-24\n",
    "    * 25-29\n",
    "    * 30-34\n",
    "    * 35-39\n",
    "    * 40-44\n",
    "    * 45-49\n",
    "    * 50-54\n",
    "    * 55-59\n",
    "    * 60-64\n",
    "    * 65-69\n",
    "    * 70-74\n",
    "    * 75-79\n",
    "    * 80 or older\n",
    "11. Race : Nos indica la raza o grupo étnico al que pertenece la persona\n",
    "12. Diabetic : Nos dice si la persona ha sufrido de diabetes, valor de la variable es Yes / No\n",
    "13. PhysicalActivity : Nos dice si la persona ha hecho actividad física en los últimos 30 días, el valor de la variable es Yes / No\n",
    "14. GenHealth : Nos inidca el estado de salude de la persona\n",
    "15. SleepTime: Nos indica las horas de sueño de la persona en lapso de 24 horas\n",
    "16. Asthma : Nos inidca si la persona ha tenido asma, el valor de la variable es Yes / No\n",
    "17. KidneyDisease : Nos indica si la persona ha tenido una enfermedad renal, el valor de la variable es Yes / No\n",
    "18. SkinCanser : Nos dice si la persona ha tenido cáncer de piel, el valor de la variable es Yes / No"
   ]
  },
  {
   "cell_type": "code",
   "execution_count": 8,
   "id": "3fb74077",
   "metadata": {
    "execution": {
     "iopub.execute_input": "2022-10-18T21:25:03.532623Z",
     "iopub.status.busy": "2022-10-18T21:25:03.531826Z",
     "iopub.status.idle": "2022-10-18T21:25:03.737353Z",
     "shell.execute_reply": "2022-10-18T21:25:03.735695Z"
    },
    "papermill": {
     "duration": 0.229374,
     "end_time": "2022-10-18T21:25:03.739722",
     "exception": false,
     "start_time": "2022-10-18T21:25:03.510348",
     "status": "completed"
    },
    "tags": []
   },
   "outputs": [
    {
     "name": "stdout",
     "output_type": "stream",
     "text": [
      "<class 'pandas.core.frame.DataFrame'>\n",
      "RangeIndex: 319795 entries, 0 to 319794\n",
      "Data columns (total 18 columns):\n",
      " #   Column            Non-Null Count   Dtype  \n",
      "---  ------            --------------   -----  \n",
      " 0   HeartDisease      319795 non-null  object \n",
      " 1   BMI               319795 non-null  float64\n",
      " 2   Smoking           319795 non-null  object \n",
      " 3   AlcoholDrinking   319795 non-null  object \n",
      " 4   Stroke            319795 non-null  object \n",
      " 5   PhysicalHealth    319795 non-null  float64\n",
      " 6   MentalHealth      319795 non-null  float64\n",
      " 7   DiffWalking       319795 non-null  object \n",
      " 8   Sex               319795 non-null  object \n",
      " 9   AgeCategory       319795 non-null  object \n",
      " 10  Race              319795 non-null  object \n",
      " 11  Diabetic          319795 non-null  object \n",
      " 12  PhysicalActivity  319795 non-null  object \n",
      " 13  GenHealth         319795 non-null  object \n",
      " 14  SleepTime         319795 non-null  float64\n",
      " 15  Asthma            319795 non-null  object \n",
      " 16  KidneyDisease     319795 non-null  object \n",
      " 17  SkinCancer        319795 non-null  object \n",
      "dtypes: float64(4), object(14)\n",
      "memory usage: 43.9+ MB\n"
     ]
    }
   ],
   "source": [
    "df.info()"
   ]
  },
  {
   "cell_type": "markdown",
   "id": "002b597d",
   "metadata": {
    "papermill": {
     "duration": 0.020053,
     "end_time": "2022-10-18T21:25:03.780501",
     "exception": false,
     "start_time": "2022-10-18T21:25:03.760448",
     "status": "completed"
    },
    "tags": []
   },
   "source": [
    "## Datos faltantes\n",
    "Se verifica si en el dataset hay datos nulos o faltantes. Podemos observar que no hay ningún dato faltante y tampoco datos nulos"
   ]
  },
  {
   "cell_type": "code",
   "execution_count": 9,
   "id": "4a8241d8",
   "metadata": {
    "execution": {
     "iopub.execute_input": "2022-10-18T21:25:03.825210Z",
     "iopub.status.busy": "2022-10-18T21:25:03.824789Z",
     "iopub.status.idle": "2022-10-18T21:25:04.018235Z",
     "shell.execute_reply": "2022-10-18T21:25:04.016919Z"
    },
    "papermill": {
     "duration": 0.219236,
     "end_time": "2022-10-18T21:25:04.020737",
     "exception": false,
     "start_time": "2022-10-18T21:25:03.801501",
     "status": "completed"
    },
    "tags": []
   },
   "outputs": [
    {
     "data": {
      "text/plain": [
       "False"
      ]
     },
     "execution_count": 9,
     "metadata": {},
     "output_type": "execute_result"
    }
   ],
   "source": [
    "## verificamos si tenemos datos nulos\n",
    "df.isnull().values.any()"
   ]
  },
  {
   "cell_type": "code",
   "execution_count": 10,
   "id": "c0590dde",
   "metadata": {
    "execution": {
     "iopub.execute_input": "2022-10-18T21:25:04.064059Z",
     "iopub.status.busy": "2022-10-18T21:25:04.063644Z",
     "iopub.status.idle": "2022-10-18T21:25:04.258606Z",
     "shell.execute_reply": "2022-10-18T21:25:04.257588Z"
    },
    "papermill": {
     "duration": 0.219726,
     "end_time": "2022-10-18T21:25:04.261075",
     "exception": false,
     "start_time": "2022-10-18T21:25:04.041349",
     "status": "completed"
    },
    "tags": []
   },
   "outputs": [
    {
     "data": {
      "text/plain": [
       "HeartDisease        0\n",
       "BMI                 0\n",
       "Smoking             0\n",
       "AlcoholDrinking     0\n",
       "Stroke              0\n",
       "PhysicalHealth      0\n",
       "MentalHealth        0\n",
       "DiffWalking         0\n",
       "Sex                 0\n",
       "AgeCategory         0\n",
       "Race                0\n",
       "Diabetic            0\n",
       "PhysicalActivity    0\n",
       "GenHealth           0\n",
       "SleepTime           0\n",
       "Asthma              0\n",
       "KidneyDisease       0\n",
       "SkinCancer          0\n",
       "dtype: int64"
      ]
     },
     "execution_count": 10,
     "metadata": {},
     "output_type": "execute_result"
    }
   ],
   "source": [
    "## Verificamos la cantidad de datos nulos que tenemos en nuestro dataset\n",
    "df.isnull().sum()"
   ]
  },
  {
   "cell_type": "markdown",
   "id": "fa21913d",
   "metadata": {
    "papermill": {
     "duration": 0.021102,
     "end_time": "2022-10-18T21:25:04.302913",
     "exception": false,
     "start_time": "2022-10-18T21:25:04.281811",
     "status": "completed"
    },
    "tags": []
   },
   "source": [
    "## **Análisis de las Variables categóricas**"
   ]
  },
  {
   "cell_type": "markdown",
   "id": "3d4f2055",
   "metadata": {
    "papermill": {
     "duration": 0.020528,
     "end_time": "2022-10-18T21:25:04.344839",
     "exception": false,
     "start_time": "2022-10-18T21:25:04.324311",
     "status": "completed"
    },
    "tags": []
   },
   "source": [
    "La mayoría de las variables categóricas tienen valores de Yes o No. Cosa que podemos observar a continuación:"
   ]
  },
  {
   "cell_type": "code",
   "execution_count": 11,
   "id": "00a6be93",
   "metadata": {
    "execution": {
     "iopub.execute_input": "2022-10-18T21:25:04.388613Z",
     "iopub.status.busy": "2022-10-18T21:25:04.388206Z",
     "iopub.status.idle": "2022-10-18T21:25:04.467731Z",
     "shell.execute_reply": "2022-10-18T21:25:04.466585Z"
    },
    "papermill": {
     "duration": 0.10385,
     "end_time": "2022-10-18T21:25:04.470001",
     "exception": false,
     "start_time": "2022-10-18T21:25:04.366151",
     "status": "completed"
    },
    "tags": []
   },
   "outputs": [
    {
     "data": {
      "text/html": [
       "<div>\n",
       "<style scoped>\n",
       "    .dataframe tbody tr th:only-of-type {\n",
       "        vertical-align: middle;\n",
       "    }\n",
       "\n",
       "    .dataframe tbody tr th {\n",
       "        vertical-align: top;\n",
       "    }\n",
       "\n",
       "    .dataframe thead th {\n",
       "        text-align: right;\n",
       "    }\n",
       "</style>\n",
       "<table border=\"1\" class=\"dataframe\">\n",
       "  <thead>\n",
       "    <tr style=\"text-align: right;\">\n",
       "      <th></th>\n",
       "      <th>HeartDisease</th>\n",
       "      <th>Smoking</th>\n",
       "      <th>AlcoholDrinking</th>\n",
       "      <th>Stroke</th>\n",
       "      <th>DiffWalking</th>\n",
       "      <th>Sex</th>\n",
       "      <th>AgeCategory</th>\n",
       "      <th>Race</th>\n",
       "      <th>Diabetic</th>\n",
       "      <th>PhysicalActivity</th>\n",
       "      <th>GenHealth</th>\n",
       "      <th>Asthma</th>\n",
       "      <th>KidneyDisease</th>\n",
       "      <th>SkinCancer</th>\n",
       "    </tr>\n",
       "  </thead>\n",
       "  <tbody>\n",
       "    <tr>\n",
       "      <th>0</th>\n",
       "      <td>No</td>\n",
       "      <td>Yes</td>\n",
       "      <td>No</td>\n",
       "      <td>No</td>\n",
       "      <td>No</td>\n",
       "      <td>Female</td>\n",
       "      <td>55-59</td>\n",
       "      <td>White</td>\n",
       "      <td>Yes</td>\n",
       "      <td>Yes</td>\n",
       "      <td>Very good</td>\n",
       "      <td>Yes</td>\n",
       "      <td>No</td>\n",
       "      <td>Yes</td>\n",
       "    </tr>\n",
       "    <tr>\n",
       "      <th>1</th>\n",
       "      <td>No</td>\n",
       "      <td>No</td>\n",
       "      <td>No</td>\n",
       "      <td>Yes</td>\n",
       "      <td>No</td>\n",
       "      <td>Female</td>\n",
       "      <td>80 or older</td>\n",
       "      <td>White</td>\n",
       "      <td>No</td>\n",
       "      <td>Yes</td>\n",
       "      <td>Very good</td>\n",
       "      <td>No</td>\n",
       "      <td>No</td>\n",
       "      <td>No</td>\n",
       "    </tr>\n",
       "    <tr>\n",
       "      <th>2</th>\n",
       "      <td>No</td>\n",
       "      <td>Yes</td>\n",
       "      <td>No</td>\n",
       "      <td>No</td>\n",
       "      <td>No</td>\n",
       "      <td>Male</td>\n",
       "      <td>65-69</td>\n",
       "      <td>White</td>\n",
       "      <td>Yes</td>\n",
       "      <td>Yes</td>\n",
       "      <td>Fair</td>\n",
       "      <td>Yes</td>\n",
       "      <td>No</td>\n",
       "      <td>No</td>\n",
       "    </tr>\n",
       "    <tr>\n",
       "      <th>3</th>\n",
       "      <td>No</td>\n",
       "      <td>No</td>\n",
       "      <td>No</td>\n",
       "      <td>No</td>\n",
       "      <td>No</td>\n",
       "      <td>Female</td>\n",
       "      <td>75-79</td>\n",
       "      <td>White</td>\n",
       "      <td>No</td>\n",
       "      <td>No</td>\n",
       "      <td>Good</td>\n",
       "      <td>No</td>\n",
       "      <td>No</td>\n",
       "      <td>Yes</td>\n",
       "    </tr>\n",
       "    <tr>\n",
       "      <th>4</th>\n",
       "      <td>No</td>\n",
       "      <td>No</td>\n",
       "      <td>No</td>\n",
       "      <td>No</td>\n",
       "      <td>Yes</td>\n",
       "      <td>Female</td>\n",
       "      <td>40-44</td>\n",
       "      <td>White</td>\n",
       "      <td>No</td>\n",
       "      <td>Yes</td>\n",
       "      <td>Very good</td>\n",
       "      <td>No</td>\n",
       "      <td>No</td>\n",
       "      <td>No</td>\n",
       "    </tr>\n",
       "    <tr>\n",
       "      <th>5</th>\n",
       "      <td>Yes</td>\n",
       "      <td>Yes</td>\n",
       "      <td>No</td>\n",
       "      <td>No</td>\n",
       "      <td>Yes</td>\n",
       "      <td>Female</td>\n",
       "      <td>75-79</td>\n",
       "      <td>Black</td>\n",
       "      <td>No</td>\n",
       "      <td>No</td>\n",
       "      <td>Fair</td>\n",
       "      <td>No</td>\n",
       "      <td>No</td>\n",
       "      <td>No</td>\n",
       "    </tr>\n",
       "    <tr>\n",
       "      <th>6</th>\n",
       "      <td>No</td>\n",
       "      <td>No</td>\n",
       "      <td>No</td>\n",
       "      <td>No</td>\n",
       "      <td>No</td>\n",
       "      <td>Female</td>\n",
       "      <td>70-74</td>\n",
       "      <td>White</td>\n",
       "      <td>No</td>\n",
       "      <td>Yes</td>\n",
       "      <td>Fair</td>\n",
       "      <td>Yes</td>\n",
       "      <td>No</td>\n",
       "      <td>Yes</td>\n",
       "    </tr>\n",
       "    <tr>\n",
       "      <th>7</th>\n",
       "      <td>No</td>\n",
       "      <td>Yes</td>\n",
       "      <td>No</td>\n",
       "      <td>No</td>\n",
       "      <td>Yes</td>\n",
       "      <td>Female</td>\n",
       "      <td>80 or older</td>\n",
       "      <td>White</td>\n",
       "      <td>Yes</td>\n",
       "      <td>No</td>\n",
       "      <td>Good</td>\n",
       "      <td>Yes</td>\n",
       "      <td>No</td>\n",
       "      <td>No</td>\n",
       "    </tr>\n",
       "    <tr>\n",
       "      <th>8</th>\n",
       "      <td>No</td>\n",
       "      <td>No</td>\n",
       "      <td>No</td>\n",
       "      <td>No</td>\n",
       "      <td>No</td>\n",
       "      <td>Female</td>\n",
       "      <td>80 or older</td>\n",
       "      <td>White</td>\n",
       "      <td>No, borderline diabetes</td>\n",
       "      <td>No</td>\n",
       "      <td>Fair</td>\n",
       "      <td>No</td>\n",
       "      <td>Yes</td>\n",
       "      <td>No</td>\n",
       "    </tr>\n",
       "    <tr>\n",
       "      <th>9</th>\n",
       "      <td>No</td>\n",
       "      <td>No</td>\n",
       "      <td>No</td>\n",
       "      <td>No</td>\n",
       "      <td>Yes</td>\n",
       "      <td>Male</td>\n",
       "      <td>65-69</td>\n",
       "      <td>White</td>\n",
       "      <td>No</td>\n",
       "      <td>Yes</td>\n",
       "      <td>Good</td>\n",
       "      <td>No</td>\n",
       "      <td>No</td>\n",
       "      <td>No</td>\n",
       "    </tr>\n",
       "  </tbody>\n",
       "</table>\n",
       "</div>"
      ],
      "text/plain": [
       "  HeartDisease Smoking AlcoholDrinking Stroke DiffWalking     Sex  \\\n",
       "0           No     Yes              No     No          No  Female   \n",
       "1           No      No              No    Yes          No  Female   \n",
       "2           No     Yes              No     No          No    Male   \n",
       "3           No      No              No     No          No  Female   \n",
       "4           No      No              No     No         Yes  Female   \n",
       "5          Yes     Yes              No     No         Yes  Female   \n",
       "6           No      No              No     No          No  Female   \n",
       "7           No     Yes              No     No         Yes  Female   \n",
       "8           No      No              No     No          No  Female   \n",
       "9           No      No              No     No         Yes    Male   \n",
       "\n",
       "   AgeCategory   Race                 Diabetic PhysicalActivity  GenHealth  \\\n",
       "0        55-59  White                      Yes              Yes  Very good   \n",
       "1  80 or older  White                       No              Yes  Very good   \n",
       "2        65-69  White                      Yes              Yes       Fair   \n",
       "3        75-79  White                       No               No       Good   \n",
       "4        40-44  White                       No              Yes  Very good   \n",
       "5        75-79  Black                       No               No       Fair   \n",
       "6        70-74  White                       No              Yes       Fair   \n",
       "7  80 or older  White                      Yes               No       Good   \n",
       "8  80 or older  White  No, borderline diabetes               No       Fair   \n",
       "9        65-69  White                       No              Yes       Good   \n",
       "\n",
       "  Asthma KidneyDisease SkinCancer  \n",
       "0    Yes            No        Yes  \n",
       "1     No            No         No  \n",
       "2    Yes            No         No  \n",
       "3     No            No        Yes  \n",
       "4     No            No         No  \n",
       "5     No            No         No  \n",
       "6    Yes            No        Yes  \n",
       "7    Yes            No         No  \n",
       "8     No           Yes         No  \n",
       "9     No            No         No  "
      ]
     },
     "execution_count": 11,
     "metadata": {},
     "output_type": "execute_result"
    }
   ],
   "source": [
    "## Seleccionamos las variables categóricas y mostramos las primeras 10\n",
    "df_categorico=df.select_dtypes(include=['object'])\n",
    "df_categorico.head(10)"
   ]
  },
  {
   "cell_type": "markdown",
   "id": "3efba8a8",
   "metadata": {
    "papermill": {
     "duration": 0.021275,
     "end_time": "2022-10-18T21:25:04.512604",
     "exception": false,
     "start_time": "2022-10-18T21:25:04.491329",
     "status": "completed"
    },
    "tags": []
   },
   "source": [
    "## Categorías de nuestras variables categóricas"
   ]
  },
  {
   "cell_type": "markdown",
   "id": "dc19f519",
   "metadata": {
    "papermill": {
     "duration": 0.02125,
     "end_time": "2022-10-18T21:25:04.554859",
     "exception": false,
     "start_time": "2022-10-18T21:25:04.533609",
     "status": "completed"
    },
    "tags": []
   },
   "source": [
    "### Mostramos los valores que puede tomar la variable AgeCategory"
   ]
  },
  {
   "cell_type": "code",
   "execution_count": 12,
   "id": "d37f3b72",
   "metadata": {
    "execution": {
     "iopub.execute_input": "2022-10-18T21:25:04.599611Z",
     "iopub.status.busy": "2022-10-18T21:25:04.599172Z",
     "iopub.status.idle": "2022-10-18T21:25:04.651307Z",
     "shell.execute_reply": "2022-10-18T21:25:04.649590Z"
    },
    "papermill": {
     "duration": 0.078016,
     "end_time": "2022-10-18T21:25:04.654374",
     "exception": false,
     "start_time": "2022-10-18T21:25:04.576358",
     "status": "completed"
    },
    "tags": []
   },
   "outputs": [
    {
     "name": "stdout",
     "output_type": "stream",
     "text": [
      "Categoria de Agecategory tiene  13  categorias\n"
     ]
    },
    {
     "data": {
      "text/plain": [
       "array(['55-59', '80 or older', '65-69', '75-79', '40-44', '70-74',\n",
       "       '60-64', '50-54', '45-49', '18-24', '35-39', '30-34', '25-29'],\n",
       "      dtype=object)"
      ]
     },
     "execution_count": 12,
     "metadata": {},
     "output_type": "execute_result"
    }
   ],
   "source": [
    "## Mostramos los valores que puede tomar la variable AgeCategory\n",
    "print(\"Categoria de Agecategory tiene \",df_categorico.AgeCategory.value_counts().count(),\" categorias\")\n",
    "df_categorico.AgeCategory.unique()"
   ]
  },
  {
   "cell_type": "markdown",
   "id": "345e8d51",
   "metadata": {
    "papermill": {
     "duration": 0.021817,
     "end_time": "2022-10-18T21:25:04.698556",
     "exception": false,
     "start_time": "2022-10-18T21:25:04.676739",
     "status": "completed"
    },
    "tags": []
   },
   "source": [
    "### Mostramos los valores que puede tomar la variable GenHealth"
   ]
  },
  {
   "cell_type": "code",
   "execution_count": 13,
   "id": "bc0eaa1c",
   "metadata": {
    "execution": {
     "iopub.execute_input": "2022-10-18T21:25:04.743566Z",
     "iopub.status.busy": "2022-10-18T21:25:04.743173Z",
     "iopub.status.idle": "2022-10-18T21:25:04.796799Z",
     "shell.execute_reply": "2022-10-18T21:25:04.795397Z"
    },
    "papermill": {
     "duration": 0.078659,
     "end_time": "2022-10-18T21:25:04.799201",
     "exception": false,
     "start_time": "2022-10-18T21:25:04.720542",
     "status": "completed"
    },
    "tags": []
   },
   "outputs": [
    {
     "name": "stdout",
     "output_type": "stream",
     "text": [
      "Categoria de GenHealth tiene  5  categorias\n"
     ]
    },
    {
     "data": {
      "text/plain": [
       "array(['Very good', 'Fair', 'Good', 'Poor', 'Excellent'], dtype=object)"
      ]
     },
     "execution_count": 13,
     "metadata": {},
     "output_type": "execute_result"
    }
   ],
   "source": [
    "## Mostramos los valores que puede tomar la variable GenHealth\n",
    "print(\"Categoria de GenHealth tiene \",df_categorico.GenHealth.value_counts().count(),\" categorias\")\n",
    "df_categorico.GenHealth.unique()"
   ]
  },
  {
   "cell_type": "markdown",
   "id": "c1be05e8",
   "metadata": {
    "papermill": {
     "duration": 0.021372,
     "end_time": "2022-10-18T21:25:04.841866",
     "exception": false,
     "start_time": "2022-10-18T21:25:04.820494",
     "status": "completed"
    },
    "tags": []
   },
   "source": [
    "### Mostramos los valores que puede tomar la variable Sex"
   ]
  },
  {
   "cell_type": "code",
   "execution_count": 14,
   "id": "57a3ab05",
   "metadata": {
    "execution": {
     "iopub.execute_input": "2022-10-18T21:25:04.887343Z",
     "iopub.status.busy": "2022-10-18T21:25:04.886236Z",
     "iopub.status.idle": "2022-10-18T21:25:04.937687Z",
     "shell.execute_reply": "2022-10-18T21:25:04.936243Z"
    },
    "papermill": {
     "duration": 0.077195,
     "end_time": "2022-10-18T21:25:04.940727",
     "exception": false,
     "start_time": "2022-10-18T21:25:04.863532",
     "status": "completed"
    },
    "tags": []
   },
   "outputs": [
    {
     "name": "stdout",
     "output_type": "stream",
     "text": [
      "Categoria de Sex tiene  2  categorias\n"
     ]
    },
    {
     "data": {
      "text/plain": [
       "array(['Female', 'Male'], dtype=object)"
      ]
     },
     "execution_count": 14,
     "metadata": {},
     "output_type": "execute_result"
    }
   ],
   "source": [
    "## Mostramos los valores que puede tomar la variable Sex\n",
    "print(\"Categoria de Sex tiene \",df_categorico.Sex.value_counts().count(),\" categorias\")\n",
    "df_categorico.Sex.unique()"
   ]
  },
  {
   "cell_type": "markdown",
   "id": "2775f2b9",
   "metadata": {
    "papermill": {
     "duration": 0.022437,
     "end_time": "2022-10-18T21:25:04.986624",
     "exception": false,
     "start_time": "2022-10-18T21:25:04.964187",
     "status": "completed"
    },
    "tags": []
   },
   "source": [
    "### Mostramos los valores que puede tomar la variable Race"
   ]
  },
  {
   "cell_type": "code",
   "execution_count": 15,
   "id": "e983b43f",
   "metadata": {
    "execution": {
     "iopub.execute_input": "2022-10-18T21:25:05.033681Z",
     "iopub.status.busy": "2022-10-18T21:25:05.033254Z",
     "iopub.status.idle": "2022-10-18T21:25:05.087779Z",
     "shell.execute_reply": "2022-10-18T21:25:05.086032Z"
    },
    "papermill": {
     "duration": 0.083097,
     "end_time": "2022-10-18T21:25:05.091380",
     "exception": false,
     "start_time": "2022-10-18T21:25:05.008283",
     "status": "completed"
    },
    "tags": []
   },
   "outputs": [
    {
     "name": "stdout",
     "output_type": "stream",
     "text": [
      "Categoria de Race tiene  5  categorias\n"
     ]
    },
    {
     "data": {
      "text/plain": [
       "array(['White', 'Black', 'Asian', 'American Indian/Alaskan Native',\n",
       "       'Other', 'Hispanic'], dtype=object)"
      ]
     },
     "execution_count": 15,
     "metadata": {},
     "output_type": "execute_result"
    }
   ],
   "source": [
    "#Mostramos los valores que puede tomar la variable Race\n",
    "print(\"Categoria de Race tiene \",df_categorico.GenHealth.value_counts().count(),\" categorias\")\n",
    "df_categorico.Race.unique()"
   ]
  },
  {
   "cell_type": "markdown",
   "id": "e6401da2",
   "metadata": {
    "papermill": {
     "duration": 0.021639,
     "end_time": "2022-10-18T21:25:05.135651",
     "exception": false,
     "start_time": "2022-10-18T21:25:05.114012",
     "status": "completed"
    },
    "tags": []
   },
   "source": [
    "### Mostramos los valores que puede tomar la variable Diabetic"
   ]
  },
  {
   "cell_type": "code",
   "execution_count": 16,
   "id": "085ee67f",
   "metadata": {
    "execution": {
     "iopub.execute_input": "2022-10-18T21:25:05.182509Z",
     "iopub.status.busy": "2022-10-18T21:25:05.180724Z",
     "iopub.status.idle": "2022-10-18T21:25:05.231802Z",
     "shell.execute_reply": "2022-10-18T21:25:05.230415Z"
    },
    "papermill": {
     "duration": 0.076508,
     "end_time": "2022-10-18T21:25:05.234260",
     "exception": false,
     "start_time": "2022-10-18T21:25:05.157752",
     "status": "completed"
    },
    "tags": []
   },
   "outputs": [
    {
     "name": "stdout",
     "output_type": "stream",
     "text": [
      "Categoria de edad tiene  4  categorias\n"
     ]
    },
    {
     "data": {
      "text/plain": [
       "array(['Yes', 'No', 'No, borderline diabetes', 'Yes (during pregnancy)'],\n",
       "      dtype=object)"
      ]
     },
     "execution_count": 16,
     "metadata": {},
     "output_type": "execute_result"
    }
   ],
   "source": [
    "## Mostramos los valores que puede tomar la variable Diabetic\n",
    "print(\"Categoria de edad tiene \",df_categorico.Diabetic.value_counts().count(),\" categorias\")\n",
    "df_categorico.Diabetic.unique()"
   ]
  },
  {
   "cell_type": "markdown",
   "id": "7220cd96",
   "metadata": {
    "papermill": {
     "duration": 0.022187,
     "end_time": "2022-10-18T21:25:05.278468",
     "exception": false,
     "start_time": "2022-10-18T21:25:05.256281",
     "status": "completed"
    },
    "tags": []
   },
   "source": [
    "## Variables Categóricas:\n",
    "\n",
    "* HeartDisease\n",
    "* Smoking\n",
    "* AlcoholDrinking\n",
    "* Stroke\n",
    "* DiffWalking\n",
    "* Sex\n",
    "* AgeCategory\n",
    "* Race\n",
    "* Diabetic\n",
    "* PhysicalActivity\n",
    "* GenHealth\n",
    "* Asthma\n",
    "* KidneyDisease\n",
    "* SkinCancer\n",
    "\n"
   ]
  },
  {
   "cell_type": "markdown",
   "id": "9461f544",
   "metadata": {
    "papermill": {
     "duration": 0.021836,
     "end_time": "2022-10-18T21:25:05.322993",
     "exception": false,
     "start_time": "2022-10-18T21:25:05.301157",
     "status": "completed"
    },
    "tags": []
   },
   "source": [
    "## Diagrama de pastel de nuestras variables categóricas"
   ]
  },
  {
   "cell_type": "code",
   "execution_count": 17,
   "id": "dc221ec1",
   "metadata": {
    "execution": {
     "iopub.execute_input": "2022-10-18T21:25:05.371990Z",
     "iopub.status.busy": "2022-10-18T21:25:05.371562Z",
     "iopub.status.idle": "2022-10-18T21:25:08.991772Z",
     "shell.execute_reply": "2022-10-18T21:25:08.989948Z"
    },
    "papermill": {
     "duration": 3.650277,
     "end_time": "2022-10-18T21:25:08.996802",
     "exception": false,
     "start_time": "2022-10-18T21:25:05.346525",
     "status": "completed"
    },
    "tags": []
   },
   "outputs": [
    {
     "data": {
      "image/png": "[encoded data removed]",
      "text/plain": [
       "<Figure size 576x576 with 1 Axes>"
      ]
     },
     "metadata": {},
     "output_type": "display_data"
    },
    {
     "data": {
      "image/png": "[encoded data removed]",
      "text/plain": [
       "<Figure size 576x576 with 1 Axes>"
      ]
     },
     "metadata": {},
     "output_type": "display_data"
    },
    {
     "data": {
      "image/png": "[encoded data removed]",
      "text/plain": [
       "<Figure size 576x576 with 1 Axes>"
      ]
     },
     "metadata": {},
     "output_type": "display_data"
    },
    {
     "data": {
      "image/png": "[encoded data removed]",
      "text/plain": [
       "<Figure size 576x576 with 1 Axes>"
      ]
     },
     "metadata": {},
     "output_type": "display_data"
    },
    {
     "data": {
      "image/png": "[encoded data removed]",
      "text/plain": [
       "<Figure size 576x576 with 1 Axes>"
      ]
     },
     "metadata": {},
     "output_type": "display_data"
    },
    {
     "data": {
      "image/png": "[encoded data removed]",
      "text/plain": [
       "<Figure size 576x576 with 1 Axes>"
      ]
     },
     "metadata": {},
     "output_type": "display_data"
    },
    {
     "data": {
      "image/png": "[encoded data removed]",
      "text/plain": [
       "<Figure size 576x576 with 1 Axes>"
      ]
     },
     "metadata": {},
     "output_type": "display_data"
    },
    {
     "data": {
      "image/png": "[encoded data removed]",
      "text/plain": [
       "<Figure size 576x576 with 1 Axes>"
      ]
     },
     "metadata": {},
     "output_type": "display_data"
    },
    {
     "data": {
      "image/png": "[encoded data removed]",
      "text/plain": [
       "<Figure size 576x576 with 1 Axes>"
      ]
     },
     "metadata": {},
     "output_type": "display_data"
    },
    {
     "data": {
      "image/png": "[encoded data removed]",
      "text/plain": [
       "<Figure size 576x576 with 1 Axes>"
      ]
     },
     "metadata": {},
     "output_type": "display_data"
    },
    {
     "data": {
      "image/png": "[encoded data removed]",
      "text/plain": [
       "<Figure size 576x576 with 1 Axes>"
      ]
     },
     "metadata": {},
     "output_type": "display_data"
    },
    {
     "data": {
      "image/png": "[encoded data removed]",
      "text/plain": [
       "<Figure size 576x576 with 1 Axes>"
      ]
     },
     "metadata": {},
     "output_type": "display_data"
    },
    {
     "data": {
      "image/png": "[encoded data removed]",
      "text/plain": [
       "<Figure size 576x576 with 1 Axes>"
      ]
     },
     "metadata": {},
     "output_type": "display_data"
    },
    {
     "data": {
      "image/png": "[encoded data removed]",
      "text/plain": [
       "<Figure size 576x576 with 1 Axes>"
      ]
     },
     "metadata": {},
     "output_type": "display_data"
    }
   ],
   "source": [
    "## hacemos un diagrama de pastel con la cantidad de datos que hay por variable\n",
    "def draw_pie(list_name_feature):\n",
    "    indice = 0\n",
    "    for name_feature in list_name_feature:\n",
    "        fig,axes = plt.subplots(figsize=(8,8))\n",
    "        textprops = {\"fontsize\":15}\n",
    "        axes.pie(df[name_feature].value_counts(),autopct='%1.2f%%',\n",
    "                    textprops=textprops)\n",
    "        axes.set_title(name_feature,fontsize=15)\n",
    "        axes.legend(df[name_feature].value_counts().index,fontsize=12,bbox_to_anchor=(0.9,0,0.01,1))\n",
    "        \n",
    "        indice += 1\n",
    "        \n",
    "    plt.show() \n",
    "    \n",
    "    return\n",
    "draw_pie(df_categorico.columns)"
   ]
  },
  {
   "cell_type": "markdown",
   "id": "ecd64b5b",
   "metadata": {
    "papermill": {
     "duration": 0.027842,
     "end_time": "2022-10-18T21:25:09.056547",
     "exception": false,
     "start_time": "2022-10-18T21:25:09.028705",
     "status": "completed"
    },
    "tags": []
   },
   "source": [
    "## Variables numericas:\n",
    "\n",
    "* BMI\n",
    "* PhysicalHealth\n",
    "* MentalHealth\n",
    "* SleepTime"
   ]
  },
  {
   "cell_type": "code",
   "execution_count": 18,
   "id": "95a284fe",
   "metadata": {
    "execution": {
     "iopub.execute_input": "2022-10-18T21:25:09.114505Z",
     "iopub.status.busy": "2022-10-18T21:25:09.114141Z",
     "iopub.status.idle": "2022-10-18T21:25:09.135385Z",
     "shell.execute_reply": "2022-10-18T21:25:09.134281Z"
    },
    "papermill": {
     "duration": 0.053004,
     "end_time": "2022-10-18T21:25:09.137614",
     "exception": false,
     "start_time": "2022-10-18T21:25:09.084610",
     "status": "completed"
    },
    "tags": []
   },
   "outputs": [
    {
     "data": {
      "text/html": [
       "<div>\n",
       "<style scoped>\n",
       "    .dataframe tbody tr th:only-of-type {\n",
       "        vertical-align: middle;\n",
       "    }\n",
       "\n",
       "    .dataframe tbody tr th {\n",
       "        vertical-align: top;\n",
       "    }\n",
       "\n",
       "    .dataframe thead th {\n",
       "        text-align: right;\n",
       "    }\n",
       "</style>\n",
       "<table border=\"1\" class=\"dataframe\">\n",
       "  <thead>\n",
       "    <tr style=\"text-align: right;\">\n",
       "      <th></th>\n",
       "      <th>BMI</th>\n",
       "      <th>PhysicalHealth</th>\n",
       "      <th>MentalHealth</th>\n",
       "      <th>SleepTime</th>\n",
       "    </tr>\n",
       "  </thead>\n",
       "  <tbody>\n",
       "    <tr>\n",
       "      <th>0</th>\n",
       "      <td>16.60</td>\n",
       "      <td>3.0</td>\n",
       "      <td>30.0</td>\n",
       "      <td>5.0</td>\n",
       "    </tr>\n",
       "    <tr>\n",
       "      <th>1</th>\n",
       "      <td>20.34</td>\n",
       "      <td>0.0</td>\n",
       "      <td>0.0</td>\n",
       "      <td>7.0</td>\n",
       "    </tr>\n",
       "    <tr>\n",
       "      <th>2</th>\n",
       "      <td>26.58</td>\n",
       "      <td>20.0</td>\n",
       "      <td>30.0</td>\n",
       "      <td>8.0</td>\n",
       "    </tr>\n",
       "    <tr>\n",
       "      <th>3</th>\n",
       "      <td>24.21</td>\n",
       "      <td>0.0</td>\n",
       "      <td>0.0</td>\n",
       "      <td>6.0</td>\n",
       "    </tr>\n",
       "    <tr>\n",
       "      <th>4</th>\n",
       "      <td>23.71</td>\n",
       "      <td>28.0</td>\n",
       "      <td>0.0</td>\n",
       "      <td>8.0</td>\n",
       "    </tr>\n",
       "    <tr>\n",
       "      <th>5</th>\n",
       "      <td>28.87</td>\n",
       "      <td>6.0</td>\n",
       "      <td>0.0</td>\n",
       "      <td>12.0</td>\n",
       "    </tr>\n",
       "    <tr>\n",
       "      <th>6</th>\n",
       "      <td>21.63</td>\n",
       "      <td>15.0</td>\n",
       "      <td>0.0</td>\n",
       "      <td>4.0</td>\n",
       "    </tr>\n",
       "    <tr>\n",
       "      <th>7</th>\n",
       "      <td>31.64</td>\n",
       "      <td>5.0</td>\n",
       "      <td>0.0</td>\n",
       "      <td>9.0</td>\n",
       "    </tr>\n",
       "    <tr>\n",
       "      <th>8</th>\n",
       "      <td>26.45</td>\n",
       "      <td>0.0</td>\n",
       "      <td>0.0</td>\n",
       "      <td>5.0</td>\n",
       "    </tr>\n",
       "    <tr>\n",
       "      <th>9</th>\n",
       "      <td>40.69</td>\n",
       "      <td>0.0</td>\n",
       "      <td>0.0</td>\n",
       "      <td>10.0</td>\n",
       "    </tr>\n",
       "  </tbody>\n",
       "</table>\n",
       "</div>"
      ],
      "text/plain": [
       "     BMI  PhysicalHealth  MentalHealth  SleepTime\n",
       "0  16.60             3.0          30.0        5.0\n",
       "1  20.34             0.0           0.0        7.0\n",
       "2  26.58            20.0          30.0        8.0\n",
       "3  24.21             0.0           0.0        6.0\n",
       "4  23.71            28.0           0.0        8.0\n",
       "5  28.87             6.0           0.0       12.0\n",
       "6  21.63            15.0           0.0        4.0\n",
       "7  31.64             5.0           0.0        9.0\n",
       "8  26.45             0.0           0.0        5.0\n",
       "9  40.69             0.0           0.0       10.0"
      ]
     },
     "execution_count": 18,
     "metadata": {},
     "output_type": "execute_result"
    }
   ],
   "source": [
    "## extraemos las variable numericas\n",
    "df_numerico=df.select_dtypes(include=[\"float64\"])\n",
    "df_numerico.head(10)"
   ]
  },
  {
   "cell_type": "markdown",
   "id": "2f34c856",
   "metadata": {
    "papermill": {
     "duration": 0.028576,
     "end_time": "2022-10-18T21:25:09.194379",
     "exception": false,
     "start_time": "2022-10-18T21:25:09.165803",
     "status": "completed"
    },
    "tags": []
   },
   "source": [
    "## Descripción de como están repartidos nuestras variables numéricas "
   ]
  },
  {
   "cell_type": "code",
   "execution_count": 19,
   "id": "c6fef91b",
   "metadata": {
    "execution": {
     "iopub.execute_input": "2022-10-18T21:25:09.253972Z",
     "iopub.status.busy": "2022-10-18T21:25:09.252887Z",
     "iopub.status.idle": "2022-10-18T21:25:09.331588Z",
     "shell.execute_reply": "2022-10-18T21:25:09.330385Z"
    },
    "papermill": {
     "duration": 0.110796,
     "end_time": "2022-10-18T21:25:09.333980",
     "exception": false,
     "start_time": "2022-10-18T21:25:09.223184",
     "status": "completed"
    },
    "tags": []
   },
   "outputs": [
    {
     "data": {
      "text/html": [
       "<div>\n",
       "<style scoped>\n",
       "    .dataframe tbody tr th:only-of-type {\n",
       "        vertical-align: middle;\n",
       "    }\n",
       "\n",
       "    .dataframe tbody tr th {\n",
       "        vertical-align: top;\n",
       "    }\n",
       "\n",
       "    .dataframe thead th {\n",
       "        text-align: right;\n",
       "    }\n",
       "</style>\n",
       "<table border=\"1\" class=\"dataframe\">\n",
       "  <thead>\n",
       "    <tr style=\"text-align: right;\">\n",
       "      <th></th>\n",
       "      <th>count</th>\n",
       "      <th>mean</th>\n",
       "      <th>std</th>\n",
       "      <th>min</th>\n",
       "      <th>25%</th>\n",
       "      <th>50%</th>\n",
       "      <th>75%</th>\n",
       "      <th>max</th>\n",
       "    </tr>\n",
       "  </thead>\n",
       "  <tbody>\n",
       "    <tr>\n",
       "      <th>BMI</th>\n",
       "      <td>319795.0</td>\n",
       "      <td>28.325399</td>\n",
       "      <td>6.356100</td>\n",
       "      <td>12.02</td>\n",
       "      <td>24.03</td>\n",
       "      <td>27.34</td>\n",
       "      <td>31.42</td>\n",
       "      <td>94.85</td>\n",
       "    </tr>\n",
       "    <tr>\n",
       "      <th>PhysicalHealth</th>\n",
       "      <td>319795.0</td>\n",
       "      <td>3.371710</td>\n",
       "      <td>7.950850</td>\n",
       "      <td>0.00</td>\n",
       "      <td>0.00</td>\n",
       "      <td>0.00</td>\n",
       "      <td>2.00</td>\n",
       "      <td>30.00</td>\n",
       "    </tr>\n",
       "    <tr>\n",
       "      <th>MentalHealth</th>\n",
       "      <td>319795.0</td>\n",
       "      <td>3.898366</td>\n",
       "      <td>7.955235</td>\n",
       "      <td>0.00</td>\n",
       "      <td>0.00</td>\n",
       "      <td>0.00</td>\n",
       "      <td>3.00</td>\n",
       "      <td>30.00</td>\n",
       "    </tr>\n",
       "    <tr>\n",
       "      <th>SleepTime</th>\n",
       "      <td>319795.0</td>\n",
       "      <td>7.097075</td>\n",
       "      <td>1.436007</td>\n",
       "      <td>1.00</td>\n",
       "      <td>6.00</td>\n",
       "      <td>7.00</td>\n",
       "      <td>8.00</td>\n",
       "      <td>24.00</td>\n",
       "    </tr>\n",
       "  </tbody>\n",
       "</table>\n",
       "</div>"
      ],
      "text/plain": [
       "                   count       mean       std    min    25%    50%    75%  \\\n",
       "BMI             319795.0  28.325399  6.356100  12.02  24.03  27.34  31.42   \n",
       "PhysicalHealth  319795.0   3.371710  7.950850   0.00   0.00   0.00   2.00   \n",
       "MentalHealth    319795.0   3.898366  7.955235   0.00   0.00   0.00   3.00   \n",
       "SleepTime       319795.0   7.097075  1.436007   1.00   6.00   7.00   8.00   \n",
       "\n",
       "                  max  \n",
       "BMI             94.85  \n",
       "PhysicalHealth  30.00  \n",
       "MentalHealth    30.00  \n",
       "SleepTime       24.00  "
      ]
     },
     "execution_count": 19,
     "metadata": {},
     "output_type": "execute_result"
    }
   ],
   "source": [
    "## Observamos una descripción de las mismas\n",
    "df_numerico.describe().T"
   ]
  },
  {
   "cell_type": "markdown",
   "id": "aad5a708",
   "metadata": {
    "papermill": {
     "duration": 0.028364,
     "end_time": "2022-10-18T21:25:09.390842",
     "exception": false,
     "start_time": "2022-10-18T21:25:09.362478",
     "status": "completed"
    },
    "tags": []
   },
   "source": [
    "## Diagrama de caja de nuestros datos numéricos\n",
    "Se observa que la variable BMI tiene  una cantidad considerables de valores atípicos y las otras variables no tienen tanta cantidad de datos atípicos. Más adelante se estudiará que hacer con estos datos. "
   ]
  },
  {
   "cell_type": "code",
   "execution_count": 20,
   "id": "3692251a",
   "metadata": {
    "execution": {
     "iopub.execute_input": "2022-10-18T21:25:09.450976Z",
     "iopub.status.busy": "2022-10-18T21:25:09.450011Z",
     "iopub.status.idle": "2022-10-18T21:25:09.754914Z",
     "shell.execute_reply": "2022-10-18T21:25:09.753740Z"
    },
    "papermill": {
     "duration": 0.337648,
     "end_time": "2022-10-18T21:25:09.757513",
     "exception": false,
     "start_time": "2022-10-18T21:25:09.419865",
     "status": "completed"
    },
    "tags": []
   },
   "outputs": [
    {
     "data": {
      "image/png": "[encoded data removed]",
      "text/plain": [
       "<Figure size 720x576 with 1 Axes>"
      ]
     },
     "metadata": {
      "needs_background": "light"
     },
     "output_type": "display_data"
    }
   ],
   "source": [
    "## Realizamos un diagrama de caja de las variables numericas\n",
    "plt.figure(figsize=(10,8))\n",
    "sns.set_theme(style=\"whitegrid\")\n",
    "sns.boxplot(data=df_numerico, showfliers=False)\n",
    "plt.xlabel(\"Variables numericas\", fontsize=14)\n",
    "plt.ylabel(\"Valores\", fontsize=14)\n",
    "plt.title(\"Diagrama de caja de valores numericos\")\n",
    "plt.show()"
   ]
  },
  {
   "cell_type": "markdown",
   "id": "f58ffff2",
   "metadata": {
    "papermill": {
     "duration": 0.028385,
     "end_time": "2022-10-18T21:25:09.814911",
     "exception": false,
     "start_time": "2022-10-18T21:25:09.786526",
     "status": "completed"
    },
    "tags": []
   },
   "source": [
    "## Matriz de correlación de nuestros datos numéricos\n",
    "Se nota que las variables no tienen mucha relación entre ellas y ninguna aporta la misma información que otra, por lo que todas son importantes en un principio para el entrenamiento del modelo."
   ]
  },
  {
   "cell_type": "code",
   "execution_count": 21,
   "id": "34916319",
   "metadata": {
    "execution": {
     "iopub.execute_input": "2022-10-18T21:25:09.874803Z",
     "iopub.status.busy": "2022-10-18T21:25:09.874440Z",
     "iopub.status.idle": "2022-10-18T21:25:10.234197Z",
     "shell.execute_reply": "2022-10-18T21:25:10.233152Z"
    },
    "papermill": {
     "duration": 0.3927,
     "end_time": "2022-10-18T21:25:10.236769",
     "exception": false,
     "start_time": "2022-10-18T21:25:09.844069",
     "status": "completed"
    },
    "tags": []
   },
   "outputs": [
    {
     "data": {
      "image/png": "[encoded data removed]",
      "text/plain": [
       "<Figure size 432x288 with 2 Axes>"
      ]
     },
     "metadata": {},
     "output_type": "display_data"
    }
   ],
   "source": [
    "corr_list=[\"BMI\",\"PhysicalHealth\",\"MentalHealth\",\"SleepTime\"]\n",
    "sns.heatmap(df[corr_list].corr(),annot=True,fmt=\".3f\");"
   ]
  },
  {
   "cell_type": "markdown",
   "id": "9a11fda5",
   "metadata": {
    "papermill": {
     "duration": 0.030485,
     "end_time": "2022-10-18T21:25:10.297198",
     "exception": false,
     "start_time": "2022-10-18T21:25:10.266713",
     "status": "completed"
    },
    "tags": []
   },
   "source": [
    "# Relación de las variables con respecto a ataques al corazón\n",
    "Tenemos un dataset desbalanceado, se busca predecir si una persona ha padecido de ataques cardíacos respecto a una serie de características que posee la persona, los datos están repartidos de la siguiente manera 91.44% de los datos son de personas que no han padecido de ataques cardíacos y 8.56% de los datos son de personas que han padecido de ataques cardíacos. Por lo que podemos deducir que sufrir un ataque cardíaco no es un sueceso común. En este análisis de la influencia de las variables en los ataques cardíacos, se enfocará más por ver las personas que sufren el padecimiento y si tuvieron ataques cardíacos o no."
   ]
  },
  {
   "cell_type": "code",
   "execution_count": 22,
   "id": "65f20ac9",
   "metadata": {
    "execution": {
     "iopub.execute_input": "2022-10-18T21:25:10.359436Z",
     "iopub.status.busy": "2022-10-18T21:25:10.358869Z",
     "iopub.status.idle": "2022-10-18T21:25:10.584837Z",
     "shell.execute_reply": "2022-10-18T21:25:10.584083Z"
    },
    "papermill": {
     "duration": 0.259,
     "end_time": "2022-10-18T21:25:10.586819",
     "exception": false,
     "start_time": "2022-10-18T21:25:10.327819",
     "status": "completed"
    },
    "tags": []
   },
   "outputs": [
    {
     "data": {
      "text/html": [
       "<div>\n",
       "<style scoped>\n",
       "    .dataframe tbody tr th:only-of-type {\n",
       "        vertical-align: middle;\n",
       "    }\n",
       "\n",
       "    .dataframe tbody tr th {\n",
       "        vertical-align: top;\n",
       "    }\n",
       "\n",
       "    .dataframe thead th {\n",
       "        text-align: right;\n",
       "    }\n",
       "</style>\n",
       "<table border=\"1\" class=\"dataframe\">\n",
       "  <thead>\n",
       "    <tr style=\"text-align: right;\">\n",
       "      <th></th>\n",
       "      <th>HeartDisease</th>\n",
       "      <th>BMI</th>\n",
       "      <th>Smoking</th>\n",
       "      <th>AlcoholDrinking</th>\n",
       "      <th>Stroke</th>\n",
       "      <th>PhysicalHealth</th>\n",
       "      <th>MentalHealth</th>\n",
       "      <th>DiffWalking</th>\n",
       "      <th>Sex</th>\n",
       "      <th>AgeCategory</th>\n",
       "      <th>Race</th>\n",
       "      <th>Diabetic</th>\n",
       "      <th>PhysicalActivity</th>\n",
       "      <th>GenHealth</th>\n",
       "      <th>SleepTime</th>\n",
       "      <th>Asthma</th>\n",
       "      <th>KidneyDisease</th>\n",
       "      <th>SkinCancer</th>\n",
       "    </tr>\n",
       "  </thead>\n",
       "  <tbody>\n",
       "    <tr>\n",
       "      <th>111390</th>\n",
       "      <td>No</td>\n",
       "      <td>25.02</td>\n",
       "      <td>No</td>\n",
       "      <td>No</td>\n",
       "      <td>No</td>\n",
       "      <td>0.0</td>\n",
       "      <td>7.0</td>\n",
       "      <td>No</td>\n",
       "      <td>Female</td>\n",
       "      <td>50-54</td>\n",
       "      <td>White</td>\n",
       "      <td>No</td>\n",
       "      <td>Yes</td>\n",
       "      <td>Good</td>\n",
       "      <td>6.0</td>\n",
       "      <td>Yes</td>\n",
       "      <td>No</td>\n",
       "      <td>Yes</td>\n",
       "    </tr>\n",
       "    <tr>\n",
       "      <th>250162</th>\n",
       "      <td>No</td>\n",
       "      <td>23.30</td>\n",
       "      <td>No</td>\n",
       "      <td>No</td>\n",
       "      <td>No</td>\n",
       "      <td>0.0</td>\n",
       "      <td>0.0</td>\n",
       "      <td>No</td>\n",
       "      <td>Female</td>\n",
       "      <td>50-54</td>\n",
       "      <td>Black</td>\n",
       "      <td>No</td>\n",
       "      <td>Yes</td>\n",
       "      <td>Good</td>\n",
       "      <td>7.0</td>\n",
       "      <td>No</td>\n",
       "      <td>No</td>\n",
       "      <td>No</td>\n",
       "    </tr>\n",
       "    <tr>\n",
       "      <th>230713</th>\n",
       "      <td>No</td>\n",
       "      <td>25.77</td>\n",
       "      <td>Yes</td>\n",
       "      <td>No</td>\n",
       "      <td>No</td>\n",
       "      <td>0.0</td>\n",
       "      <td>0.0</td>\n",
       "      <td>No</td>\n",
       "      <td>Male</td>\n",
       "      <td>45-49</td>\n",
       "      <td>White</td>\n",
       "      <td>No</td>\n",
       "      <td>Yes</td>\n",
       "      <td>Very good</td>\n",
       "      <td>4.0</td>\n",
       "      <td>Yes</td>\n",
       "      <td>No</td>\n",
       "      <td>No</td>\n",
       "    </tr>\n",
       "    <tr>\n",
       "      <th>153210</th>\n",
       "      <td>No</td>\n",
       "      <td>25.61</td>\n",
       "      <td>Yes</td>\n",
       "      <td>Yes</td>\n",
       "      <td>Yes</td>\n",
       "      <td>2.0</td>\n",
       "      <td>30.0</td>\n",
       "      <td>No</td>\n",
       "      <td>Female</td>\n",
       "      <td>25-29</td>\n",
       "      <td>White</td>\n",
       "      <td>Yes</td>\n",
       "      <td>No</td>\n",
       "      <td>Fair</td>\n",
       "      <td>6.0</td>\n",
       "      <td>No</td>\n",
       "      <td>No</td>\n",
       "      <td>No</td>\n",
       "    </tr>\n",
       "    <tr>\n",
       "      <th>149117</th>\n",
       "      <td>No</td>\n",
       "      <td>31.16</td>\n",
       "      <td>Yes</td>\n",
       "      <td>No</td>\n",
       "      <td>No</td>\n",
       "      <td>0.0</td>\n",
       "      <td>0.0</td>\n",
       "      <td>Yes</td>\n",
       "      <td>Female</td>\n",
       "      <td>65-69</td>\n",
       "      <td>Black</td>\n",
       "      <td>No</td>\n",
       "      <td>Yes</td>\n",
       "      <td>Fair</td>\n",
       "      <td>7.0</td>\n",
       "      <td>No</td>\n",
       "      <td>No</td>\n",
       "      <td>No</td>\n",
       "    </tr>\n",
       "    <tr>\n",
       "      <th>...</th>\n",
       "      <td>...</td>\n",
       "      <td>...</td>\n",
       "      <td>...</td>\n",
       "      <td>...</td>\n",
       "      <td>...</td>\n",
       "      <td>...</td>\n",
       "      <td>...</td>\n",
       "      <td>...</td>\n",
       "      <td>...</td>\n",
       "      <td>...</td>\n",
       "      <td>...</td>\n",
       "      <td>...</td>\n",
       "      <td>...</td>\n",
       "      <td>...</td>\n",
       "      <td>...</td>\n",
       "      <td>...</td>\n",
       "      <td>...</td>\n",
       "      <td>...</td>\n",
       "    </tr>\n",
       "    <tr>\n",
       "      <th>256785</th>\n",
       "      <td>Yes</td>\n",
       "      <td>27.75</td>\n",
       "      <td>No</td>\n",
       "      <td>No</td>\n",
       "      <td>No</td>\n",
       "      <td>0.0</td>\n",
       "      <td>0.0</td>\n",
       "      <td>No</td>\n",
       "      <td>Male</td>\n",
       "      <td>80 or older</td>\n",
       "      <td>White</td>\n",
       "      <td>No</td>\n",
       "      <td>Yes</td>\n",
       "      <td>Very good</td>\n",
       "      <td>7.0</td>\n",
       "      <td>No</td>\n",
       "      <td>No</td>\n",
       "      <td>No</td>\n",
       "    </tr>\n",
       "    <tr>\n",
       "      <th>68312</th>\n",
       "      <td>Yes</td>\n",
       "      <td>28.34</td>\n",
       "      <td>No</td>\n",
       "      <td>No</td>\n",
       "      <td>No</td>\n",
       "      <td>7.0</td>\n",
       "      <td>0.0</td>\n",
       "      <td>No</td>\n",
       "      <td>Female</td>\n",
       "      <td>80 or older</td>\n",
       "      <td>White</td>\n",
       "      <td>No</td>\n",
       "      <td>Yes</td>\n",
       "      <td>Very good</td>\n",
       "      <td>6.0</td>\n",
       "      <td>No</td>\n",
       "      <td>No</td>\n",
       "      <td>No</td>\n",
       "    </tr>\n",
       "    <tr>\n",
       "      <th>44883</th>\n",
       "      <td>Yes</td>\n",
       "      <td>30.52</td>\n",
       "      <td>Yes</td>\n",
       "      <td>No</td>\n",
       "      <td>No</td>\n",
       "      <td>2.0</td>\n",
       "      <td>0.0</td>\n",
       "      <td>No</td>\n",
       "      <td>Male</td>\n",
       "      <td>55-59</td>\n",
       "      <td>White</td>\n",
       "      <td>No</td>\n",
       "      <td>Yes</td>\n",
       "      <td>Very good</td>\n",
       "      <td>8.0</td>\n",
       "      <td>No</td>\n",
       "      <td>No</td>\n",
       "      <td>No</td>\n",
       "    </tr>\n",
       "    <tr>\n",
       "      <th>174158</th>\n",
       "      <td>Yes</td>\n",
       "      <td>47.93</td>\n",
       "      <td>No</td>\n",
       "      <td>No</td>\n",
       "      <td>No</td>\n",
       "      <td>20.0</td>\n",
       "      <td>0.0</td>\n",
       "      <td>Yes</td>\n",
       "      <td>Female</td>\n",
       "      <td>55-59</td>\n",
       "      <td>White</td>\n",
       "      <td>No</td>\n",
       "      <td>Yes</td>\n",
       "      <td>Good</td>\n",
       "      <td>6.0</td>\n",
       "      <td>No</td>\n",
       "      <td>Yes</td>\n",
       "      <td>Yes</td>\n",
       "    </tr>\n",
       "    <tr>\n",
       "      <th>167618</th>\n",
       "      <td>Yes</td>\n",
       "      <td>37.79</td>\n",
       "      <td>No</td>\n",
       "      <td>No</td>\n",
       "      <td>No</td>\n",
       "      <td>30.0</td>\n",
       "      <td>30.0</td>\n",
       "      <td>Yes</td>\n",
       "      <td>Female</td>\n",
       "      <td>75-79</td>\n",
       "      <td>White</td>\n",
       "      <td>Yes</td>\n",
       "      <td>Yes</td>\n",
       "      <td>Poor</td>\n",
       "      <td>12.0</td>\n",
       "      <td>No</td>\n",
       "      <td>No</td>\n",
       "      <td>No</td>\n",
       "    </tr>\n",
       "  </tbody>\n",
       "</table>\n",
       "<p>20000 rows × 18 columns</p>\n",
       "</div>"
      ],
      "text/plain": [
       "       HeartDisease    BMI Smoking AlcoholDrinking Stroke  PhysicalHealth  \\\n",
       "111390           No  25.02      No              No     No             0.0   \n",
       "250162           No  23.30      No              No     No             0.0   \n",
       "230713           No  25.77     Yes              No     No             0.0   \n",
       "153210           No  25.61     Yes             Yes    Yes             2.0   \n",
       "149117           No  31.16     Yes              No     No             0.0   \n",
       "...             ...    ...     ...             ...    ...             ...   \n",
       "256785          Yes  27.75      No              No     No             0.0   \n",
       "68312           Yes  28.34      No              No     No             7.0   \n",
       "44883           Yes  30.52     Yes              No     No             2.0   \n",
       "174158          Yes  47.93      No              No     No            20.0   \n",
       "167618          Yes  37.79      No              No     No            30.0   \n",
       "\n",
       "        MentalHealth DiffWalking     Sex  AgeCategory   Race Diabetic  \\\n",
       "111390           7.0          No  Female        50-54  White       No   \n",
       "250162           0.0          No  Female        50-54  Black       No   \n",
       "230713           0.0          No    Male        45-49  White       No   \n",
       "153210          30.0          No  Female        25-29  White      Yes   \n",
       "149117           0.0         Yes  Female        65-69  Black       No   \n",
       "...              ...         ...     ...          ...    ...      ...   \n",
       "256785           0.0          No    Male  80 or older  White       No   \n",
       "68312            0.0          No  Female  80 or older  White       No   \n",
       "44883            0.0          No    Male        55-59  White       No   \n",
       "174158           0.0         Yes  Female        55-59  White       No   \n",
       "167618          30.0         Yes  Female        75-79  White      Yes   \n",
       "\n",
       "       PhysicalActivity  GenHealth  SleepTime Asthma KidneyDisease SkinCancer  \n",
       "111390              Yes       Good        6.0    Yes            No        Yes  \n",
       "250162              Yes       Good        7.0     No            No         No  \n",
       "230713              Yes  Very good        4.0    Yes            No         No  \n",
       "153210               No       Fair        6.0     No            No         No  \n",
       "149117              Yes       Fair        7.0     No            No         No  \n",
       "...                 ...        ...        ...    ...           ...        ...  \n",
       "256785              Yes  Very good        7.0     No            No         No  \n",
       "68312               Yes  Very good        6.0     No            No         No  \n",
       "44883               Yes  Very good        8.0     No            No         No  \n",
       "174158              Yes       Good        6.0     No           Yes        Yes  \n",
       "167618              Yes       Poor       12.0     No            No         No  \n",
       "\n",
       "[20000 rows x 18 columns]"
      ]
     },
     "execution_count": 22,
     "metadata": {},
     "output_type": "execute_result"
    }
   ],
   "source": [
    "hd_yes=df[df[\"HeartDisease\"]==\"Yes\"].sample(n=10000,random_state=42)\n",
    "hd_no=df[df[\"HeartDisease\"]==\"No\"].sample(n=10000,random_state=42)\n",
    "sample=pd.concat([hd_no,hd_yes])\n",
    "sample"
   ]
  },
  {
   "cell_type": "markdown",
   "id": "6e4f1a6a",
   "metadata": {
    "papermill": {
     "duration": 0.030348,
     "end_time": "2022-10-18T21:25:10.647640",
     "exception": false,
     "start_time": "2022-10-18T21:25:10.617292",
     "status": "completed"
    },
    "tags": []
   },
   "source": [
    "## AlcoholDrinking vs HeartDisease\n",
    "En esta gráfica se puede observar la cantidad de personas que beben alcohol o no, con respecto a si han padecido de ataques cardíacos o no. A partir de la gráfica podemos concluir que el consumo de alcohol no es un factor determinante para definir que una persona haya sufrido un ataque cardíaco."
   ]
  },
  {
   "cell_type": "code",
   "execution_count": 23,
   "id": "85bde031",
   "metadata": {
    "execution": {
     "iopub.execute_input": "2022-10-18T21:25:10.710260Z",
     "iopub.status.busy": "2022-10-18T21:25:10.709445Z",
     "iopub.status.idle": "2022-10-18T21:25:10.970230Z",
     "shell.execute_reply": "2022-10-18T21:25:10.968975Z"
    },
    "papermill": {
     "duration": 0.295122,
     "end_time": "2022-10-18T21:25:10.972874",
     "exception": false,
     "start_time": "2022-10-18T21:25:10.677752",
     "status": "completed"
    },
    "tags": []
   },
   "outputs": [
    {
     "data": {
      "image/png": "[encoded data removed]",
      "text/plain": [
       "<Figure size 1080x504 with 1 Axes>"
      ]
     },
     "metadata": {},
     "output_type": "display_data"
    }
   ],
   "source": [
    "sns.set_palette(\"RdBu\")\n",
    "plt.figure(figsize=(15,7))\n",
    "sns.countplot(data=sample,x=\"AlcoholDrinking\",hue=\"HeartDisease\")\n",
    "plt.xlabel(\"Alcohol Drinking\")\n",
    "plt.ylabel(\"Quantity\")\n",
    "plt.show()"
   ]
  },
  {
   "cell_type": "markdown",
   "id": "21dfba13",
   "metadata": {
    "papermill": {
     "duration": 0.031557,
     "end_time": "2022-10-18T21:25:11.034672",
     "exception": false,
     "start_time": "2022-10-18T21:25:11.003115",
     "status": "completed"
    },
    "tags": []
   },
   "source": [
    "## Stroke vs HeartDisease\n",
    "En esta gráfica se puede  la cantidad de personas han tenido un derrame cerebral o no, con respecto a si han padecido de ataques cardíacos o no. A partir de la gráfica se puede deducir que las personas que sufrieron de un derrame cerebral son más propensas a haber tenido un ataque cardíaco."
   ]
  },
  {
   "cell_type": "code",
   "execution_count": 24,
   "id": "f0a70682",
   "metadata": {
    "execution": {
     "iopub.execute_input": "2022-10-18T21:25:11.097674Z",
     "iopub.status.busy": "2022-10-18T21:25:11.097032Z",
     "iopub.status.idle": "2022-10-18T21:25:11.496135Z",
     "shell.execute_reply": "2022-10-18T21:25:11.494836Z"
    },
    "papermill": {
     "duration": 0.433406,
     "end_time": "2022-10-18T21:25:11.498585",
     "exception": false,
     "start_time": "2022-10-18T21:25:11.065179",
     "status": "completed"
    },
    "tags": []
   },
   "outputs": [
    {
     "data": {
      "image/png": "[encoded data removed]",
      "text/plain": [
       "<Figure size 1080x504 with 1 Axes>"
      ]
     },
     "metadata": {},
     "output_type": "display_data"
    }
   ],
   "source": [
    "sns.set_palette(\"RdBu\")\n",
    "plt.figure(figsize=(15,7))\n",
    "sns.countplot(data=sample,x=\"Stroke\",hue=\"HeartDisease\")\n",
    "plt.xlabel(\"Stroke\")\n",
    "plt.ylabel(\"Quantity\")\n",
    "plt.show()"
   ]
  },
  {
   "cell_type": "markdown",
   "id": "aaf500b2",
   "metadata": {
    "papermill": {
     "duration": 0.031455,
     "end_time": "2022-10-18T21:25:11.561696",
     "exception": false,
     "start_time": "2022-10-18T21:25:11.530241",
     "status": "completed"
    },
    "tags": []
   },
   "source": [
    "## DiffWalking vs HeartDisease\n",
    "En esta gráfica se puede observar la cantidad de personas que tienen dificultad para caminar o no, con respecto a si han padecido ataques cardíacos o no. A partir de la gráfica se puede concluir que la dificultad para caminar es un factor importante para saber si una persona tuvo ataques cardíacos, porque la mayoría de personas que tienen dificultades para caminar han padecido ataques cardíacos"
   ]
  },
  {
   "cell_type": "code",
   "execution_count": 25,
   "id": "59b316e2",
   "metadata": {
    "execution": {
     "iopub.execute_input": "2022-10-18T21:25:11.627087Z",
     "iopub.status.busy": "2022-10-18T21:25:11.626672Z",
     "iopub.status.idle": "2022-10-18T21:25:11.873481Z",
     "shell.execute_reply": "2022-10-18T21:25:11.872397Z"
    },
    "papermill": {
     "duration": 0.282923,
     "end_time": "2022-10-18T21:25:11.876182",
     "exception": false,
     "start_time": "2022-10-18T21:25:11.593259",
     "status": "completed"
    },
    "tags": []
   },
   "outputs": [
    {
     "data": {
      "image/png": "[encoded data removed]",
      "text/plain": [
       "<Figure size 1080x504 with 1 Axes>"
      ]
     },
     "metadata": {},
     "output_type": "display_data"
    }
   ],
   "source": [
    "sns.set_palette(\"RdBu\")\n",
    "plt.figure(figsize=(15,7))\n",
    "sns.countplot(data=sample,x=\"DiffWalking\",hue=\"HeartDisease\")\n",
    "plt.xlabel(\"DiffWalking\")\n",
    "plt.ylabel(\"Quantity\")\n",
    "plt.show()"
   ]
  },
  {
   "cell_type": "markdown",
   "id": "03b5674d",
   "metadata": {
    "papermill": {
     "duration": 0.031166,
     "end_time": "2022-10-18T21:25:11.938460",
     "exception": false,
     "start_time": "2022-10-18T21:25:11.907294",
     "status": "completed"
    },
    "tags": []
   },
   "source": [
    "## Sex vs HeartDisease\n",
    "En esta gráfica se puede observar la cantidad según su sexo (Masculino o Femenino), con respecto a si han padecido ataques cardíacos o no. Según los datos obtenidos no se puede concluir que un sexo en específico es determinante para que una persona haya tenido ataques al corazón o no, porque se puede ver en las gráficas que la cantidad de personas que tuvieron ataques al corazón están muy parejas independientemente de su sexo. A pesar de lo dicho anteriormente se ve una tendencia de que los hombres son las personas que más han sufrido de ataques cardíacos."
   ]
  },
  {
   "cell_type": "code",
   "execution_count": 26,
   "id": "6a799a39",
   "metadata": {
    "execution": {
     "iopub.execute_input": "2022-10-18T21:25:12.004069Z",
     "iopub.status.busy": "2022-10-18T21:25:12.002760Z",
     "iopub.status.idle": "2022-10-18T21:25:12.260163Z",
     "shell.execute_reply": "2022-10-18T21:25:12.259178Z"
    },
    "papermill": {
     "duration": 0.292668,
     "end_time": "2022-10-18T21:25:12.262725",
     "exception": false,
     "start_time": "2022-10-18T21:25:11.970057",
     "status": "completed"
    },
    "tags": []
   },
   "outputs": [
    {
     "data": {
      "image/png": "[encoded data removed]",
      "text/plain": [
       "<Figure size 1080x504 with 1 Axes>"
      ]
     },
     "metadata": {},
     "output_type": "display_data"
    }
   ],
   "source": [
    "sns.set_palette(\"RdBu\")\n",
    "plt.figure(figsize=(15,7))\n",
    "sns.countplot(data=sample,x=\"Sex\",hue=\"HeartDisease\")\n",
    "plt.xlabel(\"Sex\")\n",
    "plt.ylabel(\"Quantity\")\n",
    "plt.show()"
   ]
  },
  {
   "cell_type": "markdown",
   "id": "6e4a68a3",
   "metadata": {
    "papermill": {
     "duration": 0.031347,
     "end_time": "2022-10-18T21:25:12.326299",
     "exception": false,
     "start_time": "2022-10-18T21:25:12.294952",
     "status": "completed"
    },
    "tags": []
   },
   "source": [
    "## AgeCategory vs HeartDisease\n",
    "En esta gráfica se puede observar una la cantidad de personas según su categoría de edad y su relación con respecto a si han padecido de ataques cardíacos o no. Se puede concluir a partir de las gráficas que las personas que más han sufrido de ataques cardíacos son aquellas que pertenecen a una categoría de edad alta, lo que tiene sentido y se ha demostrado cientificamente."
   ]
  },
  {
   "cell_type": "code",
   "execution_count": 27,
   "id": "af188030",
   "metadata": {
    "execution": {
     "iopub.execute_input": "2022-10-18T21:25:12.392884Z",
     "iopub.status.busy": "2022-10-18T21:25:12.392481Z",
     "iopub.status.idle": "2022-10-18T21:25:12.787967Z",
     "shell.execute_reply": "2022-10-18T21:25:12.786792Z"
    },
    "papermill": {
     "duration": 0.431972,
     "end_time": "2022-10-18T21:25:12.790298",
     "exception": false,
     "start_time": "2022-10-18T21:25:12.358326",
     "status": "completed"
    },
    "tags": []
   },
   "outputs": [
    {
     "data": {
      "image/png": "[encoded data removed]",
      "text/plain": [
       "<Figure size 1080x504 with 1 Axes>"
      ]
     },
     "metadata": {},
     "output_type": "display_data"
    }
   ],
   "source": [
    "sns.set_palette(\"RdBu\")\n",
    "plt.figure(figsize=(15,7))\n",
    "sns.countplot(data=sample,x=\"AgeCategory\",hue=\"HeartDisease\")\n",
    "plt.xlabel(\"AgeCategory\")\n",
    "plt.ylabel(\"Quantity\")\n",
    "plt.show()"
   ]
  },
  {
   "cell_type": "markdown",
   "id": "e2c7c677",
   "metadata": {
    "papermill": {
     "duration": 0.031332,
     "end_time": "2022-10-18T21:25:12.853279",
     "exception": false,
     "start_time": "2022-10-18T21:25:12.821947",
     "status": "completed"
    },
    "tags": []
   },
   "source": [
    "## Diabetic vs HeartDisease\n",
    "En esta gráfica se puede observar una relación entre la cantidad de personas que han sufrido de diabetes o no, con respecto a si han padecido ataques cardíacos o no. Podemos observar que padecer de diabetes es un factor importante para indicarnos si una persona ha padecido un ataque cardíaco, ya que como se evidencia en la gráfica la mayoría de personas que sufrieron de diabetes han tenido ataques al corazón."
   ]
  },
  {
   "cell_type": "code",
   "execution_count": 28,
   "id": "489d7387",
   "metadata": {
    "execution": {
     "iopub.execute_input": "2022-10-18T21:25:12.919192Z",
     "iopub.status.busy": "2022-10-18T21:25:12.918531Z",
     "iopub.status.idle": "2022-10-18T21:25:13.217294Z",
     "shell.execute_reply": "2022-10-18T21:25:13.216018Z"
    },
    "papermill": {
     "duration": 0.334834,
     "end_time": "2022-10-18T21:25:13.219892",
     "exception": false,
     "start_time": "2022-10-18T21:25:12.885058",
     "status": "completed"
    },
    "tags": []
   },
   "outputs": [
    {
     "data": {
      "image/png": "[encoded data removed]",
      "text/plain": [
       "<Figure size 1080x504 with 1 Axes>"
      ]
     },
     "metadata": {},
     "output_type": "display_data"
    }
   ],
   "source": [
    "sns.set_palette(\"RdBu\")\n",
    "plt.figure(figsize=(15,7))\n",
    "sns.countplot(data=sample,x=\"Diabetic\",hue=\"HeartDisease\")\n",
    "plt.xlabel(\"Diabetic\")\n",
    "plt.ylabel(\"Quantity\")\n",
    "plt.show()"
   ]
  },
  {
   "cell_type": "markdown",
   "id": "888e9167",
   "metadata": {
    "papermill": {
     "duration": 0.032844,
     "end_time": "2022-10-18T21:25:13.285670",
     "exception": false,
     "start_time": "2022-10-18T21:25:13.252826",
     "status": "completed"
    },
    "tags": []
   },
   "source": [
    "## GenHealth vs HeartDisease\n",
    "En esta gráfica se puede observar la cantidad de personas respecto a su estado de salud, con su relación a si han padecido ataques cardíacos o no. Podemos observar que las personas que poseen un estado de salud deteriorada o con tendencias a no ser muy buena son mas propensas a haber padecido ataques cardíacos. "
   ]
  },
  {
   "cell_type": "code",
   "execution_count": 29,
   "id": "0af799c7",
   "metadata": {
    "execution": {
     "iopub.execute_input": "2022-10-18T21:25:13.353304Z",
     "iopub.status.busy": "2022-10-18T21:25:13.352598Z",
     "iopub.status.idle": "2022-10-18T21:25:13.667962Z",
     "shell.execute_reply": "2022-10-18T21:25:13.666691Z"
    },
    "papermill": {
     "duration": 0.352445,
     "end_time": "2022-10-18T21:25:13.670415",
     "exception": false,
     "start_time": "2022-10-18T21:25:13.317970",
     "status": "completed"
    },
    "tags": []
   },
   "outputs": [
    {
     "data": {
      "image/png": "[encoded data removed]",
      "text/plain": [
       "<Figure size 1080x504 with 1 Axes>"
      ]
     },
     "metadata": {},
     "output_type": "display_data"
    }
   ],
   "source": [
    "sns.set_palette(\"RdBu\")\n",
    "plt.figure(figsize=(15,7))\n",
    "sns.countplot(data=sample,x=\"GenHealth\",hue=\"HeartDisease\")\n",
    "plt.xlabel(\"GenHealth\")\n",
    "plt.ylabel(\"Quantity\")\n",
    "plt.show()"
   ]
  },
  {
   "cell_type": "markdown",
   "id": "0a049331",
   "metadata": {
    "papermill": {
     "duration": 0.032645,
     "end_time": "2022-10-18T21:25:13.737697",
     "exception": false,
     "start_time": "2022-10-18T21:25:13.705052",
     "status": "completed"
    },
    "tags": []
   },
   "source": [
    "## Asthma vs HeartDisease\n",
    "En esta gráfica se puede observar la cantidad de personas que padecen de asma , con su relación a si han padecido ataques cardíacos o no. Podemos observar que el asma no es un factor determinante para concluir que una persona ha padecido de ataques cardíacos, ya que como se observa en la gráfica no hay una diferencia muy grande entre las persnas que sufren de asma y han tenido ataques cardíacos y las que no."
   ]
  },
  {
   "cell_type": "code",
   "execution_count": 30,
   "id": "8406dd2d",
   "metadata": {
    "execution": {
     "iopub.execute_input": "2022-10-18T21:25:13.805636Z",
     "iopub.status.busy": "2022-10-18T21:25:13.805238Z",
     "iopub.status.idle": "2022-10-18T21:25:13.987453Z",
     "shell.execute_reply": "2022-10-18T21:25:13.986009Z"
    },
    "papermill": {
     "duration": 0.221195,
     "end_time": "2022-10-18T21:25:13.991861",
     "exception": false,
     "start_time": "2022-10-18T21:25:13.770666",
     "status": "completed"
    },
    "tags": []
   },
   "outputs": [
    {
     "data": {
      "image/png": "[encoded data removed]",
      "text/plain": [
       "<Figure size 1080x504 with 1 Axes>"
      ]
     },
     "metadata": {},
     "output_type": "display_data"
    }
   ],
   "source": [
    "sns.set_palette(\"RdBu\")\n",
    "plt.figure(figsize=(15,7))\n",
    "sns.countplot(data=sample,x=\"Asthma\",hue=\"HeartDisease\")\n",
    "plt.xlabel(\"Asthma\")\n",
    "plt.ylabel(\"Quantity\")\n",
    "plt.show()"
   ]
  },
  {
   "cell_type": "markdown",
   "id": "77db1bde",
   "metadata": {
    "papermill": {
     "duration": 0.033009,
     "end_time": "2022-10-18T21:25:14.058702",
     "exception": false,
     "start_time": "2022-10-18T21:25:14.025693",
     "status": "completed"
    },
    "tags": []
   },
   "source": [
    "## KidneyDisease vs HeartDisease\n",
    "En esta gráfica se puede observar la cantidad de personas que han padecido de enfermedades renales, con su relación a si han padecido ataques cardíacos o no. Podemos observar que padecer de enfermedades renales son indicador importante para determinar si una persona haya padecido un ataque cardíaco."
   ]
  },
  {
   "cell_type": "code",
   "execution_count": 31,
   "id": "c188247b",
   "metadata": {
    "execution": {
     "iopub.execute_input": "2022-10-18T21:25:14.127588Z",
     "iopub.status.busy": "2022-10-18T21:25:14.127209Z",
     "iopub.status.idle": "2022-10-18T21:25:14.382727Z",
     "shell.execute_reply": "2022-10-18T21:25:14.381592Z"
    },
    "papermill": {
     "duration": 0.292985,
     "end_time": "2022-10-18T21:25:14.385194",
     "exception": false,
     "start_time": "2022-10-18T21:25:14.092209",
     "status": "completed"
    },
    "tags": []
   },
   "outputs": [
    {
     "data": {
      "image/png": "[encoded data removed]",
      "text/plain": [
       "<Figure size 1080x504 with 1 Axes>"
      ]
     },
     "metadata": {},
     "output_type": "display_data"
    }
   ],
   "source": [
    "sns.set_palette(\"RdBu\")\n",
    "plt.figure(figsize=(15,7))\n",
    "sns.countplot(data=sample,x=\"KidneyDisease\",hue=\"HeartDisease\")\n",
    "plt.xlabel(\"KidneyDisease\")\n",
    "plt.ylabel(\"Quantity\")\n",
    "plt.show()"
   ]
  },
  {
   "cell_type": "markdown",
   "id": "2d157736",
   "metadata": {
    "papermill": {
     "duration": 0.033391,
     "end_time": "2022-10-18T21:25:14.452837",
     "exception": false,
     "start_time": "2022-10-18T21:25:14.419446",
     "status": "completed"
    },
    "tags": []
   },
   "source": [
    "## SkinCancer vs HeartDisease\n",
    "En esta gráfica se puede observar la cantidad de personas que han padecido cáncer de peil, con su relación a si han padecido ataques cardíacos o no. Podemos observar que el cáncer de piel es un indicador importante para determinar si una persona haya padecido un ataque cardíaco."
   ]
  },
  {
   "cell_type": "code",
   "execution_count": 32,
   "id": "b92b2e8b",
   "metadata": {
    "execution": {
     "iopub.execute_input": "2022-10-18T21:25:14.522593Z",
     "iopub.status.busy": "2022-10-18T21:25:14.522207Z",
     "iopub.status.idle": "2022-10-18T21:25:14.769735Z",
     "shell.execute_reply": "2022-10-18T21:25:14.768432Z"
    },
    "papermill": {
     "duration": 0.285905,
     "end_time": "2022-10-18T21:25:14.772590",
     "exception": false,
     "start_time": "2022-10-18T21:25:14.486685",
     "status": "completed"
    },
    "tags": []
   },
   "outputs": [
    {
     "data": {
      "image/png": "[encoded data removed]",
      "text/plain": [
       "<Figure size 1080x504 with 1 Axes>"
      ]
     },
     "metadata": {},
     "output_type": "display_data"
    }
   ],
   "source": [
    "sns.set_palette(\"RdBu\")\n",
    "plt.figure(figsize=(15,7))\n",
    "sns.countplot(data=sample,x=\"SkinCancer\",hue=\"HeartDisease\")\n",
    "plt.xlabel(\"SkinCancer\")\n",
    "plt.ylabel(\"Quantity\")\n",
    "plt.show()"
   ]
  },
  {
   "cell_type": "markdown",
   "id": "bb9cee4c",
   "metadata": {
    "papermill": {
     "duration": 0.035253,
     "end_time": "2022-10-18T21:25:14.843149",
     "exception": false,
     "start_time": "2022-10-18T21:25:14.807896",
     "status": "completed"
    },
    "tags": []
   },
   "source": [
    "## BMI vs HeartDisease\n",
    "En esta gráfica se puede observar la cantidad de personas respecto a su  IMC, con relación a si han padecido de ataques cardíacos. De esta gráfica se puede observar una tendencia leve a que las personas con mayor ICM son más propensas a padecer ataques cardíacos, que las personas que tienen un menor IMC. A pesar de eso no se puede sacar una conclusión clara  si un IMC alto o bajo influye en los ataques cardíacos, ya que los datos son algo contradictorio porque se tienen personas con un IMC alto que no han sufrido ataques del corazón, pero cientificamente está comprobado que ser gordo aumenta las probabilidades de sufrir ataques cardíacos, cosa que se puede notar en los datos, pero no se nota una tendencia clara sobre los mismos."
   ]
  },
  {
   "cell_type": "code",
   "execution_count": 33,
   "id": "9944540b",
   "metadata": {
    "execution": {
     "iopub.execute_input": "2022-10-18T21:25:14.914412Z",
     "iopub.status.busy": "2022-10-18T21:25:14.913349Z",
     "iopub.status.idle": "2022-10-18T21:25:16.442206Z",
     "shell.execute_reply": "2022-10-18T21:25:16.440991Z"
    },
    "papermill": {
     "duration": 1.568168,
     "end_time": "2022-10-18T21:25:16.445504",
     "exception": false,
     "start_time": "2022-10-18T21:25:14.877336",
     "status": "completed"
    },
    "tags": []
   },
   "outputs": [
    {
     "data": {
      "image/png": "[encoded data removed]",
      "text/plain": [
       "<Figure size 3833.26x1440 with 1 Axes>"
      ]
     },
     "metadata": {},
     "output_type": "display_data"
    }
   ],
   "source": [
    "sns.set_palette(\"RdBu\")\n",
    "sns.set(font_scale=2.6)\n",
    "sns.FacetGrid(sample, hue=\"HeartDisease\",height=20, aspect=20/8).map(sns.histplot, \"BMI\").add_legend()\n",
    "plt.title(\"Distplot for patients' bmi\")\n",
    "plt.show();"
   ]
  },
  {
   "cell_type": "markdown",
   "id": "aad24889",
   "metadata": {
    "papermill": {
     "duration": 0.03498,
     "end_time": "2022-10-18T21:25:16.516728",
     "exception": false,
     "start_time": "2022-10-18T21:25:16.481748",
     "status": "completed"
    },
    "tags": []
   },
   "source": [
    "## PhysicalHealth vs HeartDisease\n",
    "En esta gráfica se puede observar una relación entre la cantidad de personas que tuvieron ataques al corazón o no y los días que su salud física no ha estado bien durante los ultimos 30 días. Una cantidad baja de días en que la salud física no ha estado bien no nos puede dar unos indicios de que es un factor determinante para indicarnos que una persona ha sufrido ataques al corazón, ya que la cantidad de personas que sufrieron o no ataques al corazón no es muy dispareja, pero se puede notar que a mayor cantidad de días con una salud física no tan buena es más probable que la persona haya sufrido ataques al corazón."
   ]
  },
  {
   "cell_type": "code",
   "execution_count": 34,
   "id": "b3b3d1d4",
   "metadata": {
    "execution": {
     "iopub.execute_input": "2022-10-18T21:25:16.588397Z",
     "iopub.status.busy": "2022-10-18T21:25:16.588026Z",
     "iopub.status.idle": "2022-10-18T21:25:17.200546Z",
     "shell.execute_reply": "2022-10-18T21:25:17.199324Z"
    },
    "papermill": {
     "duration": 0.651391,
     "end_time": "2022-10-18T21:25:17.203070",
     "exception": false,
     "start_time": "2022-10-18T21:25:16.551679",
     "status": "completed"
    },
    "tags": []
   },
   "outputs": [
    {
     "data": {
      "image/png": "[encoded data removed]",
      "text/plain": [
       "<Figure size 1440x1080 with 1 Axes>"
      ]
     },
     "metadata": {},
     "output_type": "display_data"
    }
   ],
   "source": [
    "sns.set_palette(\"RdBu\")\n",
    "sns.set(font_scale=1)\n",
    "plt.figure(figsize=(20,15))\n",
    "sns.countplot(data=sample,x=\"PhysicalHealth\",hue=\"HeartDisease\")\n",
    "plt.xlabel(\"PhysicalHealth\")\n",
    "plt.ylabel(\"Quantity\")\n",
    "plt.show()"
   ]
  },
  {
   "cell_type": "markdown",
   "id": "4c6c2353",
   "metadata": {
    "papermill": {
     "duration": 0.035195,
     "end_time": "2022-10-18T21:25:17.273664",
     "exception": false,
     "start_time": "2022-10-18T21:25:17.238469",
     "status": "completed"
    },
    "tags": []
   },
   "source": [
    "## MentalHealth vs HeartDisease\n",
    "En esta gráfica se puede observar una relación entre la cantidad de personas que tuvieron ataques al corazón o no y los días que su salud mental no ha estado bien durante los ultimos 30 días. Una cantidad baja de días en que la salud mental no ha estado bien no nos puede dar unos indicios de que es un factor determinante para determinar que una persona ha sufrido ataques al corazón, ya que la cantidad de personas que sufrieron o no ataques al corazón no es muy dispareja, pero se puede notar que a mayor cantidad de días con una salud mental no tan buena, es más probable que la persona haya sufrido ataques al corazón."
   ]
  },
  {
   "cell_type": "code",
   "execution_count": 35,
   "id": "fe8f93ac",
   "metadata": {
    "execution": {
     "iopub.execute_input": "2022-10-18T21:25:17.348678Z",
     "iopub.status.busy": "2022-10-18T21:25:17.348281Z",
     "iopub.status.idle": "2022-10-18T21:25:17.960319Z",
     "shell.execute_reply": "2022-10-18T21:25:17.959195Z"
    },
    "papermill": {
     "duration": 0.652926,
     "end_time": "2022-10-18T21:25:17.962660",
     "exception": false,
     "start_time": "2022-10-18T21:25:17.309734",
     "status": "completed"
    },
    "tags": []
   },
   "outputs": [
    {
     "data": {
      "image/png": "[encoded data removed]",
      "text/plain": [
       "<Figure size 1440x1080 with 1 Axes>"
      ]
     },
     "metadata": {},
     "output_type": "display_data"
    }
   ],
   "source": [
    "sns.set_palette(\"RdBu\")\n",
    "sns.set(font_scale=1)\n",
    "plt.figure(figsize=(20,15))\n",
    "sns.countplot(data=sample,x=\"MentalHealth\",hue=\"HeartDisease\")\n",
    "plt.xlabel(\"MentalHealth\")\n",
    "plt.ylabel(\"Quantity\")\n",
    "plt.show()"
   ]
  },
  {
   "cell_type": "markdown",
   "id": "71f57c12",
   "metadata": {
    "papermill": {
     "duration": 0.035671,
     "end_time": "2022-10-18T21:25:18.035006",
     "exception": false,
     "start_time": "2022-10-18T21:25:17.999335",
     "status": "completed"
    },
    "tags": []
   },
   "source": [
    "## SleepTime vs HeartDisease\n",
    "En esta gráfica se puede observar una relación entre la cantidad de personas que tuvieron ataques al corazón o no y la cantidad de horas en promedio que duermen durante el día. Según las tendencia de los datos las personas que duermen una cantidad de horas mayor a 8 horas y menor a 6 es más probable que hubieran padecido un ataque al corazón. Un rango en el que no se encuentra una influencia de la cantidad de horas de sueño es entre 6 y 8, ya que las diferencias entre personas que tuvieron o no ataques al corazón no son tan grandes y un ataque puede ser causado por otras circunstancias."
   ]
  },
  {
   "cell_type": "code",
   "execution_count": 36,
   "id": "8a4b6a46",
   "metadata": {
    "execution": {
     "iopub.execute_input": "2022-10-18T21:25:18.110001Z",
     "iopub.status.busy": "2022-10-18T21:25:18.108867Z",
     "iopub.status.idle": "2022-10-18T21:25:18.772290Z",
     "shell.execute_reply": "2022-10-18T21:25:18.771030Z"
    },
    "papermill": {
     "duration": 0.703946,
     "end_time": "2022-10-18T21:25:18.774848",
     "exception": false,
     "start_time": "2022-10-18T21:25:18.070902",
     "status": "completed"
    },
    "tags": []
   },
   "outputs": [
    {
     "data": {
      "image/png": "[encoded data removed]",
      "text/plain": [
       "<Figure size 1440x1080 with 1 Axes>"
      ]
     },
     "metadata": {},
     "output_type": "display_data"
    }
   ],
   "source": [
    "sns.set_palette(\"RdBu\")\n",
    "sns.set(font_scale=1)\n",
    "plt.figure(figsize=(20,15))\n",
    "sns.countplot(data=sample,x=\"SleepTime\",hue=\"HeartDisease\")\n",
    "plt.xlabel(\"SleepTime\")\n",
    "plt.ylabel(\"Quantity\")\n",
    "plt.show()"
   ]
  },
  {
   "cell_type": "markdown",
   "id": "7b1485f5",
   "metadata": {
    "papermill": {
     "duration": 0.037909,
     "end_time": "2022-10-18T21:25:18.848973",
     "exception": false,
     "start_time": "2022-10-18T21:25:18.811064",
     "status": "completed"
    },
    "tags": []
   },
   "source": [
    "# **Datos Atípicos**"
   ]
  },
  {
   "cell_type": "code",
   "execution_count": 37,
   "id": "f2c45bd8",
   "metadata": {
    "execution": {
     "iopub.execute_input": "2022-10-18T21:25:18.923869Z",
     "iopub.status.busy": "2022-10-18T21:25:18.923004Z",
     "iopub.status.idle": "2022-10-18T21:25:18.936620Z",
     "shell.execute_reply": "2022-10-18T21:25:18.935358Z"
    },
    "papermill": {
     "duration": 0.053537,
     "end_time": "2022-10-18T21:25:18.939180",
     "exception": false,
     "start_time": "2022-10-18T21:25:18.885643",
     "status": "completed"
    },
    "tags": []
   },
   "outputs": [
    {
     "data": {
      "text/html": [
       "<div>\n",
       "<style scoped>\n",
       "    .dataframe tbody tr th:only-of-type {\n",
       "        vertical-align: middle;\n",
       "    }\n",
       "\n",
       "    .dataframe tbody tr th {\n",
       "        vertical-align: top;\n",
       "    }\n",
       "\n",
       "    .dataframe thead th {\n",
       "        text-align: right;\n",
       "    }\n",
       "</style>\n",
       "<table border=\"1\" class=\"dataframe\">\n",
       "  <thead>\n",
       "    <tr style=\"text-align: right;\">\n",
       "      <th></th>\n",
       "      <th>BMI</th>\n",
       "      <th>PhysicalHealth</th>\n",
       "      <th>MentalHealth</th>\n",
       "      <th>SleepTime</th>\n",
       "    </tr>\n",
       "  </thead>\n",
       "  <tbody>\n",
       "    <tr>\n",
       "      <th>0</th>\n",
       "      <td>16.60</td>\n",
       "      <td>3.0</td>\n",
       "      <td>30.0</td>\n",
       "      <td>5.0</td>\n",
       "    </tr>\n",
       "    <tr>\n",
       "      <th>1</th>\n",
       "      <td>20.34</td>\n",
       "      <td>0.0</td>\n",
       "      <td>0.0</td>\n",
       "      <td>7.0</td>\n",
       "    </tr>\n",
       "    <tr>\n",
       "      <th>2</th>\n",
       "      <td>26.58</td>\n",
       "      <td>20.0</td>\n",
       "      <td>30.0</td>\n",
       "      <td>8.0</td>\n",
       "    </tr>\n",
       "    <tr>\n",
       "      <th>3</th>\n",
       "      <td>24.21</td>\n",
       "      <td>0.0</td>\n",
       "      <td>0.0</td>\n",
       "      <td>6.0</td>\n",
       "    </tr>\n",
       "    <tr>\n",
       "      <th>4</th>\n",
       "      <td>23.71</td>\n",
       "      <td>28.0</td>\n",
       "      <td>0.0</td>\n",
       "      <td>8.0</td>\n",
       "    </tr>\n",
       "  </tbody>\n",
       "</table>\n",
       "</div>"
      ],
      "text/plain": [
       "     BMI  PhysicalHealth  MentalHealth  SleepTime\n",
       "0  16.60             3.0          30.0        5.0\n",
       "1  20.34             0.0           0.0        7.0\n",
       "2  26.58            20.0          30.0        8.0\n",
       "3  24.21             0.0           0.0        6.0\n",
       "4  23.71            28.0           0.0        8.0"
      ]
     },
     "execution_count": 37,
     "metadata": {},
     "output_type": "execute_result"
    }
   ],
   "source": [
    "df_numerico.head()"
   ]
  },
  {
   "cell_type": "markdown",
   "id": "4f98e9a7",
   "metadata": {
    "papermill": {
     "duration": 0.03597,
     "end_time": "2022-10-18T21:25:19.011879",
     "exception": false,
     "start_time": "2022-10-18T21:25:18.975909",
     "status": "completed"
    },
    "tags": []
   },
   "source": [
    "### **SleepTime**\n",
    "El valor del límite inferior de datos en esta caracteriticas es de 3 horas de sueño y el valor del límite superior es de 11.  \n",
    "Se tienen 3204 datos que superan el limite superior y 1339 que son menores que el limite inferior. Estos datos no serán eliminados porque representan más del 1% de los datos totales, por lo que pueden poseer información relevante para el problema."
   ]
  },
  {
   "cell_type": "code",
   "execution_count": 38,
   "id": "6fd03650",
   "metadata": {
    "execution": {
     "iopub.execute_input": "2022-10-18T21:25:19.087542Z",
     "iopub.status.busy": "2022-10-18T21:25:19.086527Z",
     "iopub.status.idle": "2022-10-18T21:25:19.341537Z",
     "shell.execute_reply": "2022-10-18T21:25:19.340595Z"
    },
    "papermill": {
     "duration": 0.296293,
     "end_time": "2022-10-18T21:25:19.344797",
     "exception": false,
     "start_time": "2022-10-18T21:25:19.048504",
     "status": "completed"
    },
    "tags": []
   },
   "outputs": [
    {
     "data": {
      "text/plain": [
       "<AxesSubplot:xlabel='SleepTime'>"
      ]
     },
     "execution_count": 38,
     "metadata": {},
     "output_type": "execute_result"
    },
    {
     "data": {
      "image/png": "[encoded data removed]",
      "text/plain": [
       "<Figure size 432x288 with 1 Axes>"
      ]
     },
     "metadata": {},
     "output_type": "display_data"
    }
   ],
   "source": [
    "sleepTime=df_numerico['SleepTime']\n",
    "sns.boxplot(x=sleepTime)"
   ]
  },
  {
   "cell_type": "code",
   "execution_count": 39,
   "id": "3299b771",
   "metadata": {
    "execution": {
     "iopub.execute_input": "2022-10-18T21:25:19.420681Z",
     "iopub.status.busy": "2022-10-18T21:25:19.420026Z",
     "iopub.status.idle": "2022-10-18T21:25:19.438886Z",
     "shell.execute_reply": "2022-10-18T21:25:19.437605Z"
    },
    "papermill": {
     "duration": 0.059805,
     "end_time": "2022-10-18T21:25:19.441473",
     "exception": false,
     "start_time": "2022-10-18T21:25:19.381668",
     "status": "completed"
    },
    "tags": []
   },
   "outputs": [
    {
     "name": "stdout",
     "output_type": "stream",
     "text": [
      "Primer cuartil:  6.0\n",
      "Tercer cuartil:   8.0\n",
      "Rango intercuartílico:  2.0\n"
     ]
    }
   ],
   "source": [
    "Q1=sleepTime.quantile(0.25)\n",
    "Q3=sleepTime.quantile(0.75)\n",
    "IQR=Q3-Q1\n",
    "print(\"Primer cuartil: \", Q1)\n",
    "print(\"Tercer cuartil:  \",Q3)\n",
    "print(\"Rango intercuartílico: \", IQR)"
   ]
  },
  {
   "cell_type": "code",
   "execution_count": 40,
   "id": "b470fd3b",
   "metadata": {
    "execution": {
     "iopub.execute_input": "2022-10-18T21:25:19.517507Z",
     "iopub.status.busy": "2022-10-18T21:25:19.516835Z",
     "iopub.status.idle": "2022-10-18T21:25:19.523688Z",
     "shell.execute_reply": "2022-10-18T21:25:19.522233Z"
    },
    "papermill": {
     "duration": 0.047644,
     "end_time": "2022-10-18T21:25:19.526120",
     "exception": false,
     "start_time": "2022-10-18T21:25:19.478476",
     "status": "completed"
    },
    "tags": []
   },
   "outputs": [
    {
     "name": "stdout",
     "output_type": "stream",
     "text": [
      "Limite inferior:  3.0\n",
      "Limite superior:  11.0\n"
     ]
    }
   ],
   "source": [
    "## Valores atipicos\n",
    "limite_inferior=Q1-1.5*IQR\n",
    "limite_superior=Q3+1.5*IQR\n",
    "print(\"Limite inferior: \",limite_inferior)\n",
    "print(\"Limite superior: \",limite_superior)"
   ]
  },
  {
   "cell_type": "code",
   "execution_count": 41,
   "id": "59b2f72e",
   "metadata": {
    "execution": {
     "iopub.execute_input": "2022-10-18T21:25:19.601555Z",
     "iopub.status.busy": "2022-10-18T21:25:19.601170Z",
     "iopub.status.idle": "2022-10-18T21:25:19.642328Z",
     "shell.execute_reply": "2022-10-18T21:25:19.641013Z"
    },
    "papermill": {
     "duration": 0.08238,
     "end_time": "2022-10-18T21:25:19.645187",
     "exception": false,
     "start_time": "2022-10-18T21:25:19.562807",
     "status": "completed"
    },
    "tags": []
   },
   "outputs": [
    {
     "data": {
      "text/plain": [
       "3204"
      ]
     },
     "execution_count": 41,
     "metadata": {},
     "output_type": "execute_result"
    }
   ],
   "source": [
    "sleep_time_data=df_numerico[\"SleepTime\"]\n",
    "cantidad=sum(sleep_time_data>11)\n",
    "cantidad"
   ]
  },
  {
   "cell_type": "code",
   "execution_count": 42,
   "id": "b8b1c440",
   "metadata": {
    "execution": {
     "iopub.execute_input": "2022-10-18T21:25:19.721777Z",
     "iopub.status.busy": "2022-10-18T21:25:19.721094Z",
     "iopub.status.idle": "2022-10-18T21:25:19.761353Z",
     "shell.execute_reply": "2022-10-18T21:25:19.760263Z"
    },
    "papermill": {
     "duration": 0.081308,
     "end_time": "2022-10-18T21:25:19.763703",
     "exception": false,
     "start_time": "2022-10-18T21:25:19.682395",
     "status": "completed"
    },
    "tags": []
   },
   "outputs": [
    {
     "data": {
      "text/plain": [
       "1339"
      ]
     },
     "execution_count": 42,
     "metadata": {},
     "output_type": "execute_result"
    }
   ],
   "source": [
    "sleep_time_data=df_numerico[\"SleepTime\"]\n",
    "cantidad=sum(sleep_time_data<3)\n",
    "cantidad"
   ]
  },
  {
   "cell_type": "markdown",
   "id": "2c726404",
   "metadata": {
    "papermill": {
     "duration": 0.038981,
     "end_time": "2022-10-18T21:25:19.841289",
     "exception": false,
     "start_time": "2022-10-18T21:25:19.802308",
     "status": "completed"
    },
    "tags": []
   },
   "source": [
    "### **MentalHealth**\n",
    "El valor del límite inferior de datos en esta caracteriticas es de -4.5 días y el valor del límite superior es de 7.5 días.  \n",
    "Se tienen 51576 datos que superan el limite superior y 0 que son menores que el limite inferior. Estos datos no serán eliminados porque representan más del 1% de los datos totales, por lo que pueden poseer información relevante para el problema."
   ]
  },
  {
   "cell_type": "code",
   "execution_count": 43,
   "id": "68087354",
   "metadata": {
    "execution": {
     "iopub.execute_input": "2022-10-18T21:25:19.917695Z",
     "iopub.status.busy": "2022-10-18T21:25:19.916923Z",
     "iopub.status.idle": "2022-10-18T21:25:20.348621Z",
     "shell.execute_reply": "2022-10-18T21:25:20.347405Z"
    },
    "papermill": {
     "duration": 0.472388,
     "end_time": "2022-10-18T21:25:20.350838",
     "exception": false,
     "start_time": "2022-10-18T21:25:19.878450",
     "status": "completed"
    },
    "tags": []
   },
   "outputs": [
    {
     "data": {
      "text/plain": [
       "<AxesSubplot:xlabel='MentalHealth'>"
      ]
     },
     "execution_count": 43,
     "metadata": {},
     "output_type": "execute_result"
    },
    {
     "data": {
      "image/png": "[encoded data removed]",
      "text/plain": [
       "<Figure size 432x288 with 1 Axes>"
      ]
     },
     "metadata": {},
     "output_type": "display_data"
    }
   ],
   "source": [
    "mentalHealth=df_numerico['MentalHealth']\n",
    "sns.boxplot(x=mentalHealth)"
   ]
  },
  {
   "cell_type": "code",
   "execution_count": 44,
   "id": "4d2a7943",
   "metadata": {
    "execution": {
     "iopub.execute_input": "2022-10-18T21:25:20.429534Z",
     "iopub.status.busy": "2022-10-18T21:25:20.428717Z",
     "iopub.status.idle": "2022-10-18T21:25:20.446905Z",
     "shell.execute_reply": "2022-10-18T21:25:20.445684Z"
    },
    "papermill": {
     "duration": 0.061728,
     "end_time": "2022-10-18T21:25:20.450589",
     "exception": false,
     "start_time": "2022-10-18T21:25:20.388861",
     "status": "completed"
    },
    "tags": []
   },
   "outputs": [
    {
     "name": "stdout",
     "output_type": "stream",
     "text": [
      "Primer cuartil:  0.0\n",
      "Tercer cuartil:   3.0\n",
      "Rango intercuartílico:  3.0\n"
     ]
    }
   ],
   "source": [
    "Q1=mentalHealth.quantile(0.25)\n",
    "Q3=mentalHealth.quantile(0.75)\n",
    "IQR=Q3-Q1\n",
    "print(\"Primer cuartil: \", Q1)\n",
    "print(\"Tercer cuartil:  \",Q3)\n",
    "print(\"Rango intercuartílico: \", IQR)"
   ]
  },
  {
   "cell_type": "code",
   "execution_count": 45,
   "id": "0627addc",
   "metadata": {
    "execution": {
     "iopub.execute_input": "2022-10-18T21:25:20.529403Z",
     "iopub.status.busy": "2022-10-18T21:25:20.528982Z",
     "iopub.status.idle": "2022-10-18T21:25:20.535424Z",
     "shell.execute_reply": "2022-10-18T21:25:20.533987Z"
    },
    "papermill": {
     "duration": 0.047966,
     "end_time": "2022-10-18T21:25:20.537731",
     "exception": false,
     "start_time": "2022-10-18T21:25:20.489765",
     "status": "completed"
    },
    "tags": []
   },
   "outputs": [
    {
     "name": "stdout",
     "output_type": "stream",
     "text": [
      "Limite inferior:  -4.5\n",
      "Limite superior:  7.5\n"
     ]
    }
   ],
   "source": [
    "## Valores atipicos\n",
    "limite_inferior=Q1-1.5*IQR\n",
    "limite_superior=Q3+1.5*IQR\n",
    "print(\"Limite inferior: \",limite_inferior)\n",
    "print(\"Limite superior: \",limite_superior)"
   ]
  },
  {
   "cell_type": "code",
   "execution_count": 46,
   "id": "5243646c",
   "metadata": {
    "execution": {
     "iopub.execute_input": "2022-10-18T21:25:20.615036Z",
     "iopub.status.busy": "2022-10-18T21:25:20.614314Z",
     "iopub.status.idle": "2022-10-18T21:25:20.655489Z",
     "shell.execute_reply": "2022-10-18T21:25:20.654305Z"
    },
    "papermill": {
     "duration": 0.08294,
     "end_time": "2022-10-18T21:25:20.657962",
     "exception": false,
     "start_time": "2022-10-18T21:25:20.575022",
     "status": "completed"
    },
    "tags": []
   },
   "outputs": [
    {
     "data": {
      "text/plain": [
       "51576"
      ]
     },
     "execution_count": 46,
     "metadata": {},
     "output_type": "execute_result"
    }
   ],
   "source": [
    "mental_health_data=df_numerico[\"MentalHealth\"]\n",
    "cantidad=sum(mental_health_data>7.5)\n",
    "cantidad"
   ]
  },
  {
   "cell_type": "code",
   "execution_count": 47,
   "id": "bc7f87ef",
   "metadata": {
    "execution": {
     "iopub.execute_input": "2022-10-18T21:25:20.734787Z",
     "iopub.status.busy": "2022-10-18T21:25:20.734372Z",
     "iopub.status.idle": "2022-10-18T21:25:20.771956Z",
     "shell.execute_reply": "2022-10-18T21:25:20.770590Z"
    },
    "papermill": {
     "duration": 0.079067,
     "end_time": "2022-10-18T21:25:20.774500",
     "exception": false,
     "start_time": "2022-10-18T21:25:20.695433",
     "status": "completed"
    },
    "tags": []
   },
   "outputs": [
    {
     "data": {
      "text/plain": [
       "0"
      ]
     },
     "execution_count": 47,
     "metadata": {},
     "output_type": "execute_result"
    }
   ],
   "source": [
    "mental_health_data=df_numerico[\"MentalHealth\"]\n",
    "cantidad=sum(mental_health_data<-4.5)\n",
    "cantidad"
   ]
  },
  {
   "cell_type": "markdown",
   "id": "caae150d",
   "metadata": {
    "papermill": {
     "duration": 0.037537,
     "end_time": "2022-10-18T21:25:20.849626",
     "exception": false,
     "start_time": "2022-10-18T21:25:20.812089",
     "status": "completed"
    },
    "tags": []
   },
   "source": [
    "### **PhysicalHealth**\n",
    "El valor del límite inferior de datos en esta caracteriticas es de -3 días y el valor del límite superior es de 5 días.\n",
    "Se tienen 47146 datos que superan el limite superior y 0 que son menores que el limite inferior. Estos datos no serán eliminados porque representan más del 1% de los datos totales, por lo que pueden poseer información relevante para el problema."
   ]
  },
  {
   "cell_type": "code",
   "execution_count": 48,
   "id": "c1bf58c3",
   "metadata": {
    "execution": {
     "iopub.execute_input": "2022-10-18T21:25:20.928034Z",
     "iopub.status.busy": "2022-10-18T21:25:20.927321Z",
     "iopub.status.idle": "2022-10-18T21:25:21.348619Z",
     "shell.execute_reply": "2022-10-18T21:25:21.347467Z"
    },
    "papermill": {
     "duration": 0.463307,
     "end_time": "2022-10-18T21:25:21.351285",
     "exception": false,
     "start_time": "2022-10-18T21:25:20.887978",
     "status": "completed"
    },
    "tags": []
   },
   "outputs": [
    {
     "data": {
      "text/plain": [
       "<AxesSubplot:xlabel='PhysicalHealth'>"
      ]
     },
     "execution_count": 48,
     "metadata": {},
     "output_type": "execute_result"
    },
    {
     "data": {
      "image/png": "[encoded data removed]",
      "text/plain": [
       "<Figure size 432x288 with 1 Axes>"
      ]
     },
     "metadata": {},
     "output_type": "display_data"
    }
   ],
   "source": [
    "physicalHealth=df_numerico['PhysicalHealth']\n",
    "sns.boxplot(x=physicalHealth)"
   ]
  },
  {
   "cell_type": "code",
   "execution_count": 49,
   "id": "27f9e47a",
   "metadata": {
    "execution": {
     "iopub.execute_input": "2022-10-18T21:25:21.431043Z",
     "iopub.status.busy": "2022-10-18T21:25:21.430628Z",
     "iopub.status.idle": "2022-10-18T21:25:21.447397Z",
     "shell.execute_reply": "2022-10-18T21:25:21.445796Z"
    },
    "papermill": {
     "duration": 0.060425,
     "end_time": "2022-10-18T21:25:21.450716",
     "exception": false,
     "start_time": "2022-10-18T21:25:21.390291",
     "status": "completed"
    },
    "tags": []
   },
   "outputs": [
    {
     "name": "stdout",
     "output_type": "stream",
     "text": [
      "Primer cuartil:  0.0\n",
      "Tercer cuartil:   2.0\n",
      "Rango intercuartílico:  2.0\n"
     ]
    }
   ],
   "source": [
    "Q1=physicalHealth.quantile(0.25)\n",
    "Q3=physicalHealth.quantile(0.75)\n",
    "IQR=Q3-Q1\n",
    "print(\"Primer cuartil: \", Q1)\n",
    "print(\"Tercer cuartil:  \",Q3)\n",
    "print(\"Rango intercuartílico: \", IQR)"
   ]
  },
  {
   "cell_type": "code",
   "execution_count": 50,
   "id": "a2d0ad81",
   "metadata": {
    "execution": {
     "iopub.execute_input": "2022-10-18T21:25:21.531596Z",
     "iopub.status.busy": "2022-10-18T21:25:21.530557Z",
     "iopub.status.idle": "2022-10-18T21:25:21.537645Z",
     "shell.execute_reply": "2022-10-18T21:25:21.536467Z"
    },
    "papermill": {
     "duration": 0.049441,
     "end_time": "2022-10-18T21:25:21.540839",
     "exception": false,
     "start_time": "2022-10-18T21:25:21.491398",
     "status": "completed"
    },
    "tags": []
   },
   "outputs": [
    {
     "name": "stdout",
     "output_type": "stream",
     "text": [
      "Limite inferior:  -3.0\n",
      "Limite superior:  5.0\n"
     ]
    }
   ],
   "source": [
    "## Valores atipicos\n",
    "limite_inferior=Q1-1.5*IQR\n",
    "limite_superior=Q3+1.5*IQR\n",
    "print(\"Limite inferior: \",limite_inferior)\n",
    "print(\"Limite superior: \",limite_superior)"
   ]
  },
  {
   "cell_type": "code",
   "execution_count": 51,
   "id": "3228680f",
   "metadata": {
    "execution": {
     "iopub.execute_input": "2022-10-18T21:25:21.621564Z",
     "iopub.status.busy": "2022-10-18T21:25:21.619533Z",
     "iopub.status.idle": "2022-10-18T21:25:21.662756Z",
     "shell.execute_reply": "2022-10-18T21:25:21.661604Z"
    },
    "papermill": {
     "duration": 0.085517,
     "end_time": "2022-10-18T21:25:21.665122",
     "exception": false,
     "start_time": "2022-10-18T21:25:21.579605",
     "status": "completed"
    },
    "tags": []
   },
   "outputs": [
    {
     "data": {
      "text/plain": [
       "47146"
      ]
     },
     "execution_count": 51,
     "metadata": {},
     "output_type": "execute_result"
    }
   ],
   "source": [
    "physical_health_data=df_numerico[\"PhysicalHealth\"]\n",
    "cantidad=sum(physical_health_data>5)\n",
    "cantidad"
   ]
  },
  {
   "cell_type": "code",
   "execution_count": 52,
   "id": "75f21ce3",
   "metadata": {
    "execution": {
     "iopub.execute_input": "2022-10-18T21:25:21.744469Z",
     "iopub.status.busy": "2022-10-18T21:25:21.744052Z",
     "iopub.status.idle": "2022-10-18T21:25:21.780655Z",
     "shell.execute_reply": "2022-10-18T21:25:21.779883Z"
    },
    "papermill": {
     "duration": 0.07915,
     "end_time": "2022-10-18T21:25:21.782820",
     "exception": false,
     "start_time": "2022-10-18T21:25:21.703670",
     "status": "completed"
    },
    "tags": []
   },
   "outputs": [
    {
     "data": {
      "text/plain": [
       "0"
      ]
     },
     "execution_count": 52,
     "metadata": {},
     "output_type": "execute_result"
    }
   ],
   "source": [
    "physical_health_data=df_numerico[\"PhysicalHealth\"]\n",
    "cantidad=sum(physical_health_data<-3)\n",
    "cantidad"
   ]
  },
  {
   "cell_type": "markdown",
   "id": "f411b2c5",
   "metadata": {
    "papermill": {
     "duration": 0.038237,
     "end_time": "2022-10-18T21:25:21.859847",
     "exception": false,
     "start_time": "2022-10-18T21:25:21.821610",
     "status": "completed"
    },
    "tags": []
   },
   "source": [
    "### **BMI**"
   ]
  },
  {
   "cell_type": "markdown",
   "id": "745fc609",
   "metadata": {
    "papermill": {
     "duration": 0.038461,
     "end_time": "2022-10-18T21:25:21.937325",
     "exception": false,
     "start_time": "2022-10-18T21:25:21.898864",
     "status": "completed"
    },
    "tags": []
   },
   "source": [
    "Los datos atípicos que hay por encima del límite superior representan más del 1% de los datos, por tal motivo no son borrados. En cuanto a los datos que se encuentran por debajo del límite no es recomendable borrarlos, debido a la dispersión que presentan los datos, porque si estos son borrados van a cambiar los límites de los mismos, lo que llevaría a una situación similar provocando se descarten muhos datos hasta tener la consistencia deseada. Por los motivos presentados anteriormente se ha decidido dejar estos datos tal como los tenemos."
   ]
  },
  {
   "cell_type": "code",
   "execution_count": 53,
   "id": "4e0481a7",
   "metadata": {
    "execution": {
     "iopub.execute_input": "2022-10-18T21:25:22.017702Z",
     "iopub.status.busy": "2022-10-18T21:25:22.017133Z",
     "iopub.status.idle": "2022-10-18T21:25:22.280030Z",
     "shell.execute_reply": "2022-10-18T21:25:22.278867Z"
    },
    "papermill": {
     "duration": 0.306493,
     "end_time": "2022-10-18T21:25:22.282443",
     "exception": false,
     "start_time": "2022-10-18T21:25:21.975950",
     "status": "completed"
    },
    "tags": []
   },
   "outputs": [
    {
     "data": {
      "text/plain": [
       "<AxesSubplot:xlabel='BMI'>"
      ]
     },
     "execution_count": 53,
     "metadata": {},
     "output_type": "execute_result"
    },
    {
     "data": {
      "image/png": "[encoded data removed]",
      "text/plain": [
       "<Figure size 432x288 with 1 Axes>"
      ]
     },
     "metadata": {},
     "output_type": "display_data"
    }
   ],
   "source": [
    "bmi=df_numerico['BMI']\n",
    "sns.boxplot(x=bmi)"
   ]
  },
  {
   "cell_type": "code",
   "execution_count": 54,
   "id": "24120243",
   "metadata": {
    "execution": {
     "iopub.execute_input": "2022-10-18T21:25:22.362873Z",
     "iopub.status.busy": "2022-10-18T21:25:22.362219Z",
     "iopub.status.idle": "2022-10-18T21:25:22.382959Z",
     "shell.execute_reply": "2022-10-18T21:25:22.381251Z"
    },
    "papermill": {
     "duration": 0.064139,
     "end_time": "2022-10-18T21:25:22.385208",
     "exception": false,
     "start_time": "2022-10-18T21:25:22.321069",
     "status": "completed"
    },
    "tags": []
   },
   "outputs": [
    {
     "name": "stdout",
     "output_type": "stream",
     "text": [
      "Primer cuartil:  24.03\n",
      "Tercer cuartil:   31.42\n",
      "Rango intercuartílico:  7.390000000000001\n"
     ]
    }
   ],
   "source": [
    "Q1=bmi.quantile(0.25)\n",
    "Q3=bmi.quantile(0.75)\n",
    "IQR=Q3-Q1\n",
    "print(\"Primer cuartil: \", Q1)\n",
    "print(\"Tercer cuartil:  \",Q3)\n",
    "print(\"Rango intercuartílico: \", IQR)"
   ]
  },
  {
   "cell_type": "code",
   "execution_count": 55,
   "id": "b048bbef",
   "metadata": {
    "execution": {
     "iopub.execute_input": "2022-10-18T21:25:22.463841Z",
     "iopub.status.busy": "2022-10-18T21:25:22.463483Z",
     "iopub.status.idle": "2022-10-18T21:25:22.469636Z",
     "shell.execute_reply": "2022-10-18T21:25:22.468661Z"
    },
    "papermill": {
     "duration": 0.048931,
     "end_time": "2022-10-18T21:25:22.472989",
     "exception": false,
     "start_time": "2022-10-18T21:25:22.424058",
     "status": "completed"
    },
    "tags": []
   },
   "outputs": [
    {
     "name": "stdout",
     "output_type": "stream",
     "text": [
      "Limite inferior:  12.945\n",
      "Limite superior:  42.505\n"
     ]
    }
   ],
   "source": [
    "## Valores atipicos\n",
    "limite_inferior=Q1-1.5*IQR\n",
    "limite_superior=Q3+1.5*IQR\n",
    "print(\"Limite inferior: \",limite_inferior)\n",
    "print(\"Limite superior: \",limite_superior)"
   ]
  },
  {
   "cell_type": "code",
   "execution_count": 56,
   "id": "36b359a1",
   "metadata": {
    "execution": {
     "iopub.execute_input": "2022-10-18T21:25:22.555232Z",
     "iopub.status.busy": "2022-10-18T21:25:22.554208Z",
     "iopub.status.idle": "2022-10-18T21:25:22.596037Z",
     "shell.execute_reply": "2022-10-18T21:25:22.594813Z"
    },
    "papermill": {
     "duration": 0.085161,
     "end_time": "2022-10-18T21:25:22.598533",
     "exception": false,
     "start_time": "2022-10-18T21:25:22.513372",
     "status": "completed"
    },
    "tags": []
   },
   "outputs": [
    {
     "data": {
      "text/plain": [
       "10351"
      ]
     },
     "execution_count": 56,
     "metadata": {},
     "output_type": "execute_result"
    }
   ],
   "source": [
    "bmi_data=df_numerico[\"BMI\"]\n",
    "cantidad=sum(bmi_data>42.505)\n",
    "cantidad"
   ]
  },
  {
   "cell_type": "code",
   "execution_count": 57,
   "id": "80b0eddc",
   "metadata": {
    "execution": {
     "iopub.execute_input": "2022-10-18T21:25:22.678432Z",
     "iopub.status.busy": "2022-10-18T21:25:22.678025Z",
     "iopub.status.idle": "2022-10-18T21:25:22.717105Z",
     "shell.execute_reply": "2022-10-18T21:25:22.716003Z"
    },
    "papermill": {
     "duration": 0.081801,
     "end_time": "2022-10-18T21:25:22.719385",
     "exception": false,
     "start_time": "2022-10-18T21:25:22.637584",
     "status": "completed"
    },
    "tags": []
   },
   "outputs": [
    {
     "data": {
      "text/plain": [
       "45"
      ]
     },
     "execution_count": 57,
     "metadata": {},
     "output_type": "execute_result"
    }
   ],
   "source": [
    "bmi_data=df_numerico[\"BMI\"]\n",
    "cantidad=sum(bmi_data<12.945)\n",
    "cantidad"
   ]
  },
  {
   "cell_type": "code",
   "execution_count": null,
   "id": "a1c04dbc",
   "metadata": {
    "papermill": {
     "duration": 0.03866,
     "end_time": "2022-10-18T21:25:22.796772",
     "exception": false,
     "start_time": "2022-10-18T21:25:22.758112",
     "status": "completed"
    },
    "tags": []
   },
   "outputs": [],
   "source": []
  }
 ],
 "metadata": {
  "kernelspec": {
   "display_name": "Python 3",
   "language": "python",
   "name": "python3"
  },
  "language_info": {
   "codemirror_mode": {
    "name": "ipython",
    "version": 3
   },
   "file_extension": ".py",
   "mimetype": "text/x-python",
   "name": "python",
   "nbconvert_exporter": "python",
   "pygments_lexer": "ipython3",
   "version": "3.7.12"
  },
  "papermill": {
   "default_parameters": {},
   "duration": 32.53887,
   "end_time": "2022-10-18T21:25:23.659129",
   "environment_variables": {},
   "exception": null,
   "input_path": "__notebook__.ipynb",
   "output_path": "__notebook__.ipynb",
   "parameters": {},
   "start_time": "2022-10-18T21:24:51.120259",
   "version": "2.3.4"
  }
 },
 "nbformat": 4,
 "nbformat_minor": 5
}
