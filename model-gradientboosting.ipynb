{
 "cells": [
  {
   "cell_type": "code",
   "execution_count": 1,
   "id": "c0ef762f",
   "metadata": {
    "_cell_guid": "b1076dfc-b9ad-4769-8c92-a6c4dae69d19",
    "_uuid": "8f2839f25d086af736a60e9eeb907d3b93b6e0e5",
    "execution": {
     "iopub.execute_input": "2022-10-18T16:51:18.738818Z",
     "iopub.status.busy": "2022-10-18T16:51:18.738290Z",
     "iopub.status.idle": "2022-10-18T16:51:20.033894Z",
     "shell.execute_reply": "2022-10-18T16:51:20.032925Z"
    },
    "papermill": {
     "duration": 1.306858,
     "end_time": "2022-10-18T16:51:20.036160",
     "exception": false,
     "start_time": "2022-10-18T16:51:18.729302",
     "status": "completed"
    },
    "tags": []
   },
   "outputs": [
    {
     "name": "stdout",
     "output_type": "stream",
     "text": [
      "/kaggle/input/datasetheartdisease/dataset.csv\n"
     ]
    }
   ],
   "source": [
    "## Importamos todas las librerías que vamos a utilizar\n",
    "import numpy as np \n",
    "import pandas as pd \n",
    "from sklearn.model_selection import train_test_split,StratifiedKFold,StratifiedShuffleSplit\n",
    "from sklearn.ensemble import GradientBoostingClassifier\n",
    "from sklearn.preprocessing import StandardScaler\n",
    "from collections import Counter\n",
    "from sklearn.metrics import precision_score,recall_score,accuracy_score,f1_score,confusion_matrix,ConfusionMatrixDisplay\n",
    "import seaborn as sns\n",
    "import matplotlib.pyplot as plt\n",
    "import joblib \n",
    "from imblearn.under_sampling import RandomUnderSampler \n",
    "from imblearn.over_sampling import RandomOverSampler \n",
    "\n",
    "import os\n",
    "for dirname, _, filenames in os.walk('/kaggle/input'):\n",
    "    for filename in filenames:\n",
    "        print(os.path.join(dirname, filename))\n"
   ]
  },
  {
   "cell_type": "markdown",
   "id": "9560e36c",
   "metadata": {
    "papermill": {
     "duration": 0.005879,
     "end_time": "2022-10-18T16:51:20.048857",
     "exception": false,
     "start_time": "2022-10-18T16:51:20.042978",
     "status": "completed"
    },
    "tags": []
   },
   "source": [
    "## Visualización inicial de los datos\n",
    "Hacemos una visualización inicial de los datos, observando que todos los datos están transfromados a datos numéricos. También eliminamos una columna que se nos creó cuando transformamos el dataset. "
   ]
  },
  {
   "cell_type": "code",
   "execution_count": 2,
   "id": "7e98bb8e",
   "metadata": {
    "execution": {
     "iopub.execute_input": "2022-10-18T16:51:20.063733Z",
     "iopub.status.busy": "2022-10-18T16:51:20.062307Z",
     "iopub.status.idle": "2022-10-18T16:51:20.718689Z",
     "shell.execute_reply": "2022-10-18T16:51:20.717642Z"
    },
    "papermill": {
     "duration": 0.666325,
     "end_time": "2022-10-18T16:51:20.721280",
     "exception": false,
     "start_time": "2022-10-18T16:51:20.054955",
     "status": "completed"
    },
    "tags": []
   },
   "outputs": [
    {
     "data": {
      "text/html": [
       "<div>\n",
       "<style scoped>\n",
       "    .dataframe tbody tr th:only-of-type {\n",
       "        vertical-align: middle;\n",
       "    }\n",
       "\n",
       "    .dataframe tbody tr th {\n",
       "        vertical-align: top;\n",
       "    }\n",
       "\n",
       "    .dataframe thead th {\n",
       "        text-align: right;\n",
       "    }\n",
       "</style>\n",
       "<table border=\"1\" class=\"dataframe\">\n",
       "  <thead>\n",
       "    <tr style=\"text-align: right;\">\n",
       "      <th></th>\n",
       "      <th>HeartDisease</th>\n",
       "      <th>BMI</th>\n",
       "      <th>Smoking</th>\n",
       "      <th>AlcoholDrinking</th>\n",
       "      <th>Stroke</th>\n",
       "      <th>PhysicalHealth</th>\n",
       "      <th>MentalHealth</th>\n",
       "      <th>DiffWalking</th>\n",
       "      <th>Sex</th>\n",
       "      <th>AgeCategory</th>\n",
       "      <th>Diabetic</th>\n",
       "      <th>PhysicalActivity</th>\n",
       "      <th>GenHealth</th>\n",
       "      <th>SleepTime</th>\n",
       "      <th>Asthma</th>\n",
       "      <th>KidneyDisease</th>\n",
       "      <th>SkinCancer</th>\n",
       "    </tr>\n",
       "  </thead>\n",
       "  <tbody>\n",
       "    <tr>\n",
       "      <th>0</th>\n",
       "      <td>0</td>\n",
       "      <td>16.60</td>\n",
       "      <td>1</td>\n",
       "      <td>0</td>\n",
       "      <td>0</td>\n",
       "      <td>3.0</td>\n",
       "      <td>30.0</td>\n",
       "      <td>0</td>\n",
       "      <td>8</td>\n",
       "      <td>17</td>\n",
       "      <td>1</td>\n",
       "      <td>1</td>\n",
       "      <td>5</td>\n",
       "      <td>5.0</td>\n",
       "      <td>1</td>\n",
       "      <td>0</td>\n",
       "      <td>1</td>\n",
       "    </tr>\n",
       "    <tr>\n",
       "      <th>1</th>\n",
       "      <td>0</td>\n",
       "      <td>20.34</td>\n",
       "      <td>0</td>\n",
       "      <td>0</td>\n",
       "      <td>1</td>\n",
       "      <td>0.0</td>\n",
       "      <td>0.0</td>\n",
       "      <td>0</td>\n",
       "      <td>8</td>\n",
       "      <td>22</td>\n",
       "      <td>0</td>\n",
       "      <td>1</td>\n",
       "      <td>5</td>\n",
       "      <td>7.0</td>\n",
       "      <td>0</td>\n",
       "      <td>0</td>\n",
       "      <td>0</td>\n",
       "    </tr>\n",
       "    <tr>\n",
       "      <th>2</th>\n",
       "      <td>0</td>\n",
       "      <td>26.58</td>\n",
       "      <td>1</td>\n",
       "      <td>0</td>\n",
       "      <td>0</td>\n",
       "      <td>20.0</td>\n",
       "      <td>30.0</td>\n",
       "      <td>0</td>\n",
       "      <td>9</td>\n",
       "      <td>19</td>\n",
       "      <td>1</td>\n",
       "      <td>1</td>\n",
       "      <td>3</td>\n",
       "      <td>8.0</td>\n",
       "      <td>1</td>\n",
       "      <td>0</td>\n",
       "      <td>0</td>\n",
       "    </tr>\n",
       "    <tr>\n",
       "      <th>3</th>\n",
       "      <td>0</td>\n",
       "      <td>24.21</td>\n",
       "      <td>0</td>\n",
       "      <td>0</td>\n",
       "      <td>0</td>\n",
       "      <td>0.0</td>\n",
       "      <td>0.0</td>\n",
       "      <td>0</td>\n",
       "      <td>8</td>\n",
       "      <td>21</td>\n",
       "      <td>0</td>\n",
       "      <td>0</td>\n",
       "      <td>4</td>\n",
       "      <td>6.0</td>\n",
       "      <td>0</td>\n",
       "      <td>0</td>\n",
       "      <td>1</td>\n",
       "    </tr>\n",
       "    <tr>\n",
       "      <th>4</th>\n",
       "      <td>0</td>\n",
       "      <td>23.71</td>\n",
       "      <td>0</td>\n",
       "      <td>0</td>\n",
       "      <td>0</td>\n",
       "      <td>28.0</td>\n",
       "      <td>0.0</td>\n",
       "      <td>1</td>\n",
       "      <td>8</td>\n",
       "      <td>14</td>\n",
       "      <td>0</td>\n",
       "      <td>1</td>\n",
       "      <td>5</td>\n",
       "      <td>8.0</td>\n",
       "      <td>0</td>\n",
       "      <td>0</td>\n",
       "      <td>0</td>\n",
       "    </tr>\n",
       "  </tbody>\n",
       "</table>\n",
       "</div>"
      ],
      "text/plain": [
       "   HeartDisease    BMI  Smoking  AlcoholDrinking  Stroke  PhysicalHealth  \\\n",
       "0             0  16.60        1                0       0             3.0   \n",
       "1             0  20.34        0                0       1             0.0   \n",
       "2             0  26.58        1                0       0            20.0   \n",
       "3             0  24.21        0                0       0             0.0   \n",
       "4             0  23.71        0                0       0            28.0   \n",
       "\n",
       "   MentalHealth  DiffWalking  Sex  AgeCategory  Diabetic  PhysicalActivity  \\\n",
       "0          30.0            0    8           17         1                 1   \n",
       "1           0.0            0    8           22         0                 1   \n",
       "2          30.0            0    9           19         1                 1   \n",
       "3           0.0            0    8           21         0                 0   \n",
       "4           0.0            1    8           14         0                 1   \n",
       "\n",
       "   GenHealth  SleepTime  Asthma  KidneyDisease  SkinCancer  \n",
       "0          5        5.0       1              0           1  \n",
       "1          5        7.0       0              0           0  \n",
       "2          3        8.0       1              0           0  \n",
       "3          4        6.0       0              0           1  \n",
       "4          5        8.0       0              0           0  "
      ]
     },
     "execution_count": 2,
     "metadata": {},
     "output_type": "execute_result"
    }
   ],
   "source": [
    "data=pd.read_csv(\"/kaggle/input/datasetheartdisease/dataset.csv\")\n",
    "df=data.copy()\n",
    "df=df.drop([\"Unnamed: 0\"],axis=1)\n",
    "df.head()"
   ]
  },
  {
   "cell_type": "markdown",
   "id": "34dd8c2a",
   "metadata": {
    "papermill": {
     "duration": 0.006242,
     "end_time": "2022-10-18T16:51:20.734345",
     "exception": false,
     "start_time": "2022-10-18T16:51:20.728103",
     "status": "completed"
    },
    "tags": []
   },
   "source": [
    "# Separamos los datos\n",
    "Separamos los datos de nuestro dataset, ponemos las características que vamos a utilizar para entrenar en la variable X y la variable a predecir en la varibale Y."
   ]
  },
  {
   "cell_type": "code",
   "execution_count": 3,
   "id": "331e1ca1",
   "metadata": {
    "execution": {
     "iopub.execute_input": "2022-10-18T16:51:20.749088Z",
     "iopub.status.busy": "2022-10-18T16:51:20.748793Z",
     "iopub.status.idle": "2022-10-18T16:51:20.767040Z",
     "shell.execute_reply": "2022-10-18T16:51:20.766052Z"
    },
    "papermill": {
     "duration": 0.028161,
     "end_time": "2022-10-18T16:51:20.769213",
     "exception": false,
     "start_time": "2022-10-18T16:51:20.741052",
     "status": "completed"
    },
    "tags": []
   },
   "outputs": [],
   "source": [
    "X=df.iloc[:,1:17]\n",
    "Y=df.iloc[:,0]"
   ]
  },
  {
   "cell_type": "markdown",
   "id": "792dac8a",
   "metadata": {
    "papermill": {
     "duration": 0.006368,
     "end_time": "2022-10-18T16:51:20.782117",
     "exception": false,
     "start_time": "2022-10-18T16:51:20.775749",
     "status": "completed"
    },
    "tags": []
   },
   "source": [
    "# Estandarización de los datos\n",
    "Usamos StandardScaler para estandarizar las caracteríticas que vamos a usar para entrenar en nuestro modelo."
   ]
  },
  {
   "cell_type": "code",
   "execution_count": 4,
   "id": "d26b815b",
   "metadata": {
    "execution": {
     "iopub.execute_input": "2022-10-18T16:51:20.795720Z",
     "iopub.status.busy": "2022-10-18T16:51:20.795410Z",
     "iopub.status.idle": "2022-10-18T16:51:20.908878Z",
     "shell.execute_reply": "2022-10-18T16:51:20.907773Z"
    },
    "papermill": {
     "duration": 0.122812,
     "end_time": "2022-10-18T16:51:20.911181",
     "exception": false,
     "start_time": "2022-10-18T16:51:20.788369",
     "status": "completed"
    },
    "tags": []
   },
   "outputs": [
    {
     "data": {
      "text/html": [
       "<div>\n",
       "<style scoped>\n",
       "    .dataframe tbody tr th:only-of-type {\n",
       "        vertical-align: middle;\n",
       "    }\n",
       "\n",
       "    .dataframe tbody tr th {\n",
       "        vertical-align: top;\n",
       "    }\n",
       "\n",
       "    .dataframe thead th {\n",
       "        text-align: right;\n",
       "    }\n",
       "</style>\n",
       "<table border=\"1\" class=\"dataframe\">\n",
       "  <thead>\n",
       "    <tr style=\"text-align: right;\">\n",
       "      <th></th>\n",
       "      <th>BMI</th>\n",
       "      <th>Smoking</th>\n",
       "      <th>AlcoholDrinking</th>\n",
       "      <th>Stroke</th>\n",
       "      <th>PhysicalHealth</th>\n",
       "      <th>MentalHealth</th>\n",
       "      <th>DiffWalking</th>\n",
       "      <th>Sex</th>\n",
       "      <th>AgeCategory</th>\n",
       "      <th>Diabetic</th>\n",
       "      <th>PhysicalActivity</th>\n",
       "      <th>GenHealth</th>\n",
       "      <th>SleepTime</th>\n",
       "      <th>Asthma</th>\n",
       "      <th>KidneyDisease</th>\n",
       "      <th>SkinCancer</th>\n",
       "    </tr>\n",
       "  </thead>\n",
       "  <tbody>\n",
       "    <tr>\n",
       "      <th>0</th>\n",
       "      <td>-1.844750</td>\n",
       "      <td>1.193474</td>\n",
       "      <td>-0.27032</td>\n",
       "      <td>-0.198040</td>\n",
       "      <td>-0.046751</td>\n",
       "      <td>3.281069</td>\n",
       "      <td>-0.401578</td>\n",
       "      <td>-0.951711</td>\n",
       "      <td>0.136184</td>\n",
       "      <td>2.524911</td>\n",
       "      <td>0.538256</td>\n",
       "      <td>0.388307</td>\n",
       "      <td>-1.460354</td>\n",
       "      <td>2.541515</td>\n",
       "      <td>-0.195554</td>\n",
       "      <td>3.118419</td>\n",
       "    </tr>\n",
       "    <tr>\n",
       "      <th>1</th>\n",
       "      <td>-1.256338</td>\n",
       "      <td>-0.837890</td>\n",
       "      <td>-0.27032</td>\n",
       "      <td>5.049478</td>\n",
       "      <td>-0.424070</td>\n",
       "      <td>-0.490039</td>\n",
       "      <td>-0.401578</td>\n",
       "      <td>-0.951711</td>\n",
       "      <td>1.538806</td>\n",
       "      <td>-0.396054</td>\n",
       "      <td>0.538256</td>\n",
       "      <td>0.388307</td>\n",
       "      <td>-0.067601</td>\n",
       "      <td>-0.393466</td>\n",
       "      <td>-0.195554</td>\n",
       "      <td>-0.320675</td>\n",
       "    </tr>\n",
       "    <tr>\n",
       "      <th>2</th>\n",
       "      <td>-0.274603</td>\n",
       "      <td>1.193474</td>\n",
       "      <td>-0.27032</td>\n",
       "      <td>-0.198040</td>\n",
       "      <td>2.091388</td>\n",
       "      <td>3.281069</td>\n",
       "      <td>-0.401578</td>\n",
       "      <td>1.050739</td>\n",
       "      <td>0.697233</td>\n",
       "      <td>2.524911</td>\n",
       "      <td>0.538256</td>\n",
       "      <td>-1.529392</td>\n",
       "      <td>0.628776</td>\n",
       "      <td>2.541515</td>\n",
       "      <td>-0.195554</td>\n",
       "      <td>-0.320675</td>\n",
       "    </tr>\n",
       "    <tr>\n",
       "      <th>3</th>\n",
       "      <td>-0.647473</td>\n",
       "      <td>-0.837890</td>\n",
       "      <td>-0.27032</td>\n",
       "      <td>-0.198040</td>\n",
       "      <td>-0.424070</td>\n",
       "      <td>-0.490039</td>\n",
       "      <td>-0.401578</td>\n",
       "      <td>-0.951711</td>\n",
       "      <td>1.258282</td>\n",
       "      <td>-0.396054</td>\n",
       "      <td>-1.857852</td>\n",
       "      <td>-0.570542</td>\n",
       "      <td>-0.763977</td>\n",
       "      <td>-0.393466</td>\n",
       "      <td>-0.195554</td>\n",
       "      <td>3.118419</td>\n",
       "    </tr>\n",
       "    <tr>\n",
       "      <th>4</th>\n",
       "      <td>-0.726138</td>\n",
       "      <td>-0.837890</td>\n",
       "      <td>-0.27032</td>\n",
       "      <td>-0.198040</td>\n",
       "      <td>3.097572</td>\n",
       "      <td>-0.490039</td>\n",
       "      <td>2.490174</td>\n",
       "      <td>-0.951711</td>\n",
       "      <td>-0.705388</td>\n",
       "      <td>-0.396054</td>\n",
       "      <td>0.538256</td>\n",
       "      <td>0.388307</td>\n",
       "      <td>0.628776</td>\n",
       "      <td>-0.393466</td>\n",
       "      <td>-0.195554</td>\n",
       "      <td>-0.320675</td>\n",
       "    </tr>\n",
       "  </tbody>\n",
       "</table>\n",
       "</div>"
      ],
      "text/plain": [
       "        BMI   Smoking  AlcoholDrinking    Stroke  PhysicalHealth  \\\n",
       "0 -1.844750  1.193474         -0.27032 -0.198040       -0.046751   \n",
       "1 -1.256338 -0.837890         -0.27032  5.049478       -0.424070   \n",
       "2 -0.274603  1.193474         -0.27032 -0.198040        2.091388   \n",
       "3 -0.647473 -0.837890         -0.27032 -0.198040       -0.424070   \n",
       "4 -0.726138 -0.837890         -0.27032 -0.198040        3.097572   \n",
       "\n",
       "   MentalHealth  DiffWalking       Sex  AgeCategory  Diabetic  \\\n",
       "0      3.281069    -0.401578 -0.951711     0.136184  2.524911   \n",
       "1     -0.490039    -0.401578 -0.951711     1.538806 -0.396054   \n",
       "2      3.281069    -0.401578  1.050739     0.697233  2.524911   \n",
       "3     -0.490039    -0.401578 -0.951711     1.258282 -0.396054   \n",
       "4     -0.490039     2.490174 -0.951711    -0.705388 -0.396054   \n",
       "\n",
       "   PhysicalActivity  GenHealth  SleepTime    Asthma  KidneyDisease  SkinCancer  \n",
       "0          0.538256   0.388307  -1.460354  2.541515      -0.195554    3.118419  \n",
       "1          0.538256   0.388307  -0.067601 -0.393466      -0.195554   -0.320675  \n",
       "2          0.538256  -1.529392   0.628776  2.541515      -0.195554   -0.320675  \n",
       "3         -1.857852  -0.570542  -0.763977 -0.393466      -0.195554    3.118419  \n",
       "4          0.538256   0.388307   0.628776 -0.393466      -0.195554   -0.320675  "
      ]
     },
     "execution_count": 4,
     "metadata": {},
     "output_type": "execute_result"
    }
   ],
   "source": [
    "scaler=StandardScaler()\n",
    "columns=X.columns\n",
    "s=scaler.fit_transform(X)\n",
    "scaled_data=pd.DataFrame(s,columns=columns)\n",
    "scaled_data.head(5)"
   ]
  },
  {
   "cell_type": "markdown",
   "id": "1d21876e",
   "metadata": {
    "papermill": {
     "duration": 0.006992,
     "end_time": "2022-10-18T16:51:20.926623",
     "exception": false,
     "start_time": "2022-10-18T16:51:20.919631",
     "status": "completed"
    },
    "tags": []
   },
   "source": [
    "# Validación cruzada\n",
    "Utilizamos StratifiedKFold para hacer la validación cruzada ya que tenemos un dataset desbalanceado. Se utilizarán 5 folds. Tratamos de encontrar los mejores parámetros para que el modelo tenga el mejor rendimiento. Vamos a variar el learning_rate, n_estimators y max_features. Learning_rate va a variar entre los siguiente valores 0.1,0.8,1,5,10. N_estimators va a variar entre los siguiente valores 10,50,100,150. Max_features va a variar entre los siguiente valores 3,8,12,16.   \n",
    "Como métricas de rendimiento utilizaremos F1 Score, Recall y Accuracy"
   ]
  },
  {
   "cell_type": "code",
   "execution_count": 5,
   "id": "6d5408b7",
   "metadata": {
    "execution": {
     "iopub.execute_input": "2022-10-18T16:51:20.942252Z",
     "iopub.status.busy": "2022-10-18T16:51:20.941962Z",
     "iopub.status.idle": "2022-10-18T18:03:03.580625Z",
     "shell.execute_reply": "2022-10-18T18:03:03.579639Z"
    },
    "papermill": {
     "duration": 4302.655972,
     "end_time": "2022-10-18T18:03:03.589611",
     "exception": false,
     "start_time": "2022-10-18T16:51:20.933639",
     "status": "completed"
    },
    "tags": []
   },
   "outputs": [
    {
     "data": {
      "text/html": [
       "<div>\n",
       "<style scoped>\n",
       "    .dataframe tbody tr th:only-of-type {\n",
       "        vertical-align: middle;\n",
       "    }\n",
       "\n",
       "    .dataframe tbody tr th {\n",
       "        vertical-align: top;\n",
       "    }\n",
       "\n",
       "    .dataframe thead th {\n",
       "        text-align: right;\n",
       "    }\n",
       "</style>\n",
       "<table border=\"1\" class=\"dataframe\">\n",
       "  <thead>\n",
       "    <tr style=\"text-align: right;\">\n",
       "      <th></th>\n",
       "      <th>learning_rate</th>\n",
       "      <th>n_estimators</th>\n",
       "      <th>max_features</th>\n",
       "      <th>F1 Score (Mean)</th>\n",
       "      <th>F1 Score (IC)</th>\n",
       "      <th>Sensibilidad-Recall (Mean)</th>\n",
       "      <th>Sensibilidad-Recall (IC)</th>\n",
       "      <th>Accuracy (Mean)</th>\n",
       "      <th>Accuracy (IC)</th>\n",
       "    </tr>\n",
       "  </thead>\n",
       "  <tbody>\n",
       "    <tr>\n",
       "      <th>0</th>\n",
       "      <td>0.1</td>\n",
       "      <td>10</td>\n",
       "      <td>3</td>\n",
       "      <td>0.000000</td>\n",
       "      <td>0.000000</td>\n",
       "      <td>0.000000</td>\n",
       "      <td>0.000000</td>\n",
       "      <td>0.914405</td>\n",
       "      <td>0.000008</td>\n",
       "    </tr>\n",
       "    <tr>\n",
       "      <th>1</th>\n",
       "      <td>0.1</td>\n",
       "      <td>10</td>\n",
       "      <td>8</td>\n",
       "      <td>0.003787</td>\n",
       "      <td>0.002249</td>\n",
       "      <td>0.001900</td>\n",
       "      <td>0.001129</td>\n",
       "      <td>0.914526</td>\n",
       "      <td>0.000072</td>\n",
       "    </tr>\n",
       "    <tr>\n",
       "      <th>2</th>\n",
       "      <td>0.1</td>\n",
       "      <td>10</td>\n",
       "      <td>12</td>\n",
       "      <td>0.000000</td>\n",
       "      <td>0.000000</td>\n",
       "      <td>0.000000</td>\n",
       "      <td>0.000000</td>\n",
       "      <td>0.914405</td>\n",
       "      <td>0.000008</td>\n",
       "    </tr>\n",
       "    <tr>\n",
       "      <th>3</th>\n",
       "      <td>0.1</td>\n",
       "      <td>10</td>\n",
       "      <td>16</td>\n",
       "      <td>0.001019</td>\n",
       "      <td>0.002039</td>\n",
       "      <td>0.000511</td>\n",
       "      <td>0.001023</td>\n",
       "      <td>0.914436</td>\n",
       "      <td>0.000060</td>\n",
       "    </tr>\n",
       "    <tr>\n",
       "      <th>4</th>\n",
       "      <td>0.1</td>\n",
       "      <td>50</td>\n",
       "      <td>3</td>\n",
       "      <td>0.128471</td>\n",
       "      <td>0.010609</td>\n",
       "      <td>0.072553</td>\n",
       "      <td>0.007000</td>\n",
       "      <td>0.915846</td>\n",
       "      <td>0.000355</td>\n",
       "    </tr>\n",
       "    <tr>\n",
       "      <th>...</th>\n",
       "      <td>...</td>\n",
       "      <td>...</td>\n",
       "      <td>...</td>\n",
       "      <td>...</td>\n",
       "      <td>...</td>\n",
       "      <td>...</td>\n",
       "      <td>...</td>\n",
       "      <td>...</td>\n",
       "      <td>...</td>\n",
       "    </tr>\n",
       "    <tr>\n",
       "      <th>75</th>\n",
       "      <td>10.0</td>\n",
       "      <td>100</td>\n",
       "      <td>16</td>\n",
       "      <td>0.153664</td>\n",
       "      <td>0.009715</td>\n",
       "      <td>0.089176</td>\n",
       "      <td>0.006666</td>\n",
       "      <td>0.915990</td>\n",
       "      <td>0.000366</td>\n",
       "    </tr>\n",
       "    <tr>\n",
       "      <th>76</th>\n",
       "      <td>10.0</td>\n",
       "      <td>150</td>\n",
       "      <td>3</td>\n",
       "      <td>0.155176</td>\n",
       "      <td>0.009069</td>\n",
       "      <td>0.090272</td>\n",
       "      <td>0.006548</td>\n",
       "      <td>0.915943</td>\n",
       "      <td>0.000231</td>\n",
       "    </tr>\n",
       "    <tr>\n",
       "      <th>77</th>\n",
       "      <td>10.0</td>\n",
       "      <td>150</td>\n",
       "      <td>8</td>\n",
       "      <td>0.155831</td>\n",
       "      <td>0.008496</td>\n",
       "      <td>0.090527</td>\n",
       "      <td>0.006108</td>\n",
       "      <td>0.916115</td>\n",
       "      <td>0.000384</td>\n",
       "    </tr>\n",
       "    <tr>\n",
       "      <th>78</th>\n",
       "      <td>10.0</td>\n",
       "      <td>150</td>\n",
       "      <td>12</td>\n",
       "      <td>0.156875</td>\n",
       "      <td>0.009778</td>\n",
       "      <td>0.091477</td>\n",
       "      <td>0.006815</td>\n",
       "      <td>0.915909</td>\n",
       "      <td>0.000350</td>\n",
       "    </tr>\n",
       "    <tr>\n",
       "      <th>79</th>\n",
       "      <td>10.0</td>\n",
       "      <td>150</td>\n",
       "      <td>16</td>\n",
       "      <td>0.155442</td>\n",
       "      <td>0.008489</td>\n",
       "      <td>0.090344</td>\n",
       "      <td>0.005941</td>\n",
       "      <td>0.916027</td>\n",
       "      <td>0.000456</td>\n",
       "    </tr>\n",
       "  </tbody>\n",
       "</table>\n",
       "<p>80 rows × 9 columns</p>\n",
       "</div>"
      ],
      "text/plain": [
       "    learning_rate  n_estimators  max_features  F1 Score (Mean)  F1 Score (IC)  \\\n",
       "0             0.1            10             3         0.000000       0.000000   \n",
       "1             0.1            10             8         0.003787       0.002249   \n",
       "2             0.1            10            12         0.000000       0.000000   \n",
       "3             0.1            10            16         0.001019       0.002039   \n",
       "4             0.1            50             3         0.128471       0.010609   \n",
       "..            ...           ...           ...              ...            ...   \n",
       "75           10.0           100            16         0.153664       0.009715   \n",
       "76           10.0           150             3         0.155176       0.009069   \n",
       "77           10.0           150             8         0.155831       0.008496   \n",
       "78           10.0           150            12         0.156875       0.009778   \n",
       "79           10.0           150            16         0.155442       0.008489   \n",
       "\n",
       "    Sensibilidad-Recall (Mean)  Sensibilidad-Recall (IC)  Accuracy (Mean)  \\\n",
       "0                     0.000000                  0.000000         0.914405   \n",
       "1                     0.001900                  0.001129         0.914526   \n",
       "2                     0.000000                  0.000000         0.914405   \n",
       "3                     0.000511                  0.001023         0.914436   \n",
       "4                     0.072553                  0.007000         0.915846   \n",
       "..                         ...                       ...              ...   \n",
       "75                    0.089176                  0.006666         0.915990   \n",
       "76                    0.090272                  0.006548         0.915943   \n",
       "77                    0.090527                  0.006108         0.916115   \n",
       "78                    0.091477                  0.006815         0.915909   \n",
       "79                    0.090344                  0.005941         0.916027   \n",
       "\n",
       "    Accuracy (IC)  \n",
       "0        0.000008  \n",
       "1        0.000072  \n",
       "2        0.000008  \n",
       "3        0.000060  \n",
       "4        0.000355  \n",
       "..            ...  \n",
       "75       0.000366  \n",
       "76       0.000231  \n",
       "77       0.000384  \n",
       "78       0.000350  \n",
       "79       0.000456  \n",
       "\n",
       "[80 rows x 9 columns]"
      ]
     },
     "execution_count": 5,
     "metadata": {},
     "output_type": "execute_result"
    }
   ],
   "source": [
    "learning_rate=[0.1,0.8,1,5,10]\n",
    "n_estimators=[10,50,100,150]\n",
    "max_features=[3,8,12,16]\n",
    "folds=5\n",
    "skf=StratifiedKFold(n_splits=folds)\n",
    "resultados = {\n",
    "    'learning_rate': [],\n",
    "    'n_estimators': [],\n",
    "    'max_features': [],\n",
    "    'F1 Score (Mean)': [],\n",
    "    'F1 Score (IC)': [],\n",
    "    'Sensibilidad-Recall (Mean)': [],\n",
    "    'Sensibilidad-Recall (IC)': [],\n",
    "    'Accuracy (Mean)':[],\n",
    "    'Accuracy (IC)':[]\n",
    "}\n",
    "for rate in learning_rate:\n",
    "    for n_estimator in n_estimators:\n",
    "        for features in max_features:\n",
    "            recall_temp = []\n",
    "            accuracy_temp = []\n",
    "            f1score_temp=[]\n",
    "            for train, test in skf.split(X=scaled_data,y=Y):\n",
    "                Xtrain, Xtest = scaled_data.iloc[train], scaled_data.iloc[test]\n",
    "                Ytrain, Ytest = Y[train], Y[test]\n",
    "\n",
    "                model=GradientBoostingClassifier(learning_rate=0.1,n_estimators=n_estimator,\n",
    "                                                 max_features=features,\n",
    "                                                 random_state=0                                                     \n",
    "                                                )\n",
    "                model.fit(Xtrain,Ytrain)\n",
    "\n",
    "                Yest=model.predict(Xtest)\n",
    "                vn, fp, fn, vp = confusion_matrix(y_true =Ytest  , y_pred = Yest ).ravel()\n",
    "                recall_temp.append(recall_score(Ytest,Yest))\n",
    "                f1score_temp.append(f1_score(y_true=Ytest,y_pred=Yest))\n",
    "                accuracy_temp.append(accuracy_score(Ytest,Yest))\n",
    "            resultados['learning_rate'].append(rate)\n",
    "            resultados['n_estimators'].append(n_estimator)\n",
    "            resultados['max_features'].append(features)\n",
    "            resultados['Sensibilidad-Recall (Mean)'].append(np.mean(recall_temp))\n",
    "            resultados['Sensibilidad-Recall (IC)'].append(np.std(recall_temp))\n",
    "            resultados['F1 Score (Mean)'].append(np.mean(f1score_temp))\n",
    "            resultados['F1 Score (IC)'].append(np.std(f1score_temp))\n",
    "            resultados['Accuracy (Mean)'].append(np.mean(accuracy_temp))\n",
    "            resultados['Accuracy (IC)'].append(np.std(accuracy_temp))  \n",
    "\n",
    "resultados = pd.DataFrame(resultados)\n",
    "resultados\n"
   ]
  },
  {
   "cell_type": "markdown",
   "id": "4ce0b6f2",
   "metadata": {
    "papermill": {
     "duration": 0.006645,
     "end_time": "2022-10-18T18:03:03.603095",
     "exception": false,
     "start_time": "2022-10-18T18:03:03.596450",
     "status": "completed"
    },
    "tags": []
   },
   "source": [
    "# Resultados de la validación cruzada\n",
    "Acá observamos los resultados de la validación cruzada, ordenados de manera descendente con respecto al valor obtenido para el F1 Score y el Recall."
   ]
  },
  {
   "cell_type": "code",
   "execution_count": 6,
   "id": "69149ece",
   "metadata": {
    "execution": {
     "iopub.execute_input": "2022-10-18T18:03:03.618048Z",
     "iopub.status.busy": "2022-10-18T18:03:03.617454Z",
     "iopub.status.idle": "2022-10-18T18:03:03.640309Z",
     "shell.execute_reply": "2022-10-18T18:03:03.639373Z"
    },
    "papermill": {
     "duration": 0.032646,
     "end_time": "2022-10-18T18:03:03.642455",
     "exception": false,
     "start_time": "2022-10-18T18:03:03.609809",
     "status": "completed"
    },
    "tags": []
   },
   "outputs": [
    {
     "data": {
      "text/html": [
       "<div>\n",
       "<style scoped>\n",
       "    .dataframe tbody tr th:only-of-type {\n",
       "        vertical-align: middle;\n",
       "    }\n",
       "\n",
       "    .dataframe tbody tr th {\n",
       "        vertical-align: top;\n",
       "    }\n",
       "\n",
       "    .dataframe thead th {\n",
       "        text-align: right;\n",
       "    }\n",
       "</style>\n",
       "<table border=\"1\" class=\"dataframe\">\n",
       "  <thead>\n",
       "    <tr style=\"text-align: right;\">\n",
       "      <th></th>\n",
       "      <th>learning_rate</th>\n",
       "      <th>n_estimators</th>\n",
       "      <th>max_features</th>\n",
       "      <th>F1 Score (Mean)</th>\n",
       "      <th>F1 Score (IC)</th>\n",
       "      <th>Sensibilidad-Recall (Mean)</th>\n",
       "      <th>Sensibilidad-Recall (IC)</th>\n",
       "      <th>Accuracy (Mean)</th>\n",
       "      <th>Accuracy (IC)</th>\n",
       "    </tr>\n",
       "  </thead>\n",
       "  <tbody>\n",
       "    <tr>\n",
       "      <th>10</th>\n",
       "      <td>0.1</td>\n",
       "      <td>100</td>\n",
       "      <td>12</td>\n",
       "      <td>0.157577</td>\n",
       "      <td>0.010888</td>\n",
       "      <td>0.091879</td>\n",
       "      <td>0.007654</td>\n",
       "      <td>0.916006</td>\n",
       "      <td>0.000284</td>\n",
       "    </tr>\n",
       "    <tr>\n",
       "      <th>26</th>\n",
       "      <td>0.8</td>\n",
       "      <td>100</td>\n",
       "      <td>12</td>\n",
       "      <td>0.157577</td>\n",
       "      <td>0.010888</td>\n",
       "      <td>0.091879</td>\n",
       "      <td>0.007654</td>\n",
       "      <td>0.916006</td>\n",
       "      <td>0.000284</td>\n",
       "    </tr>\n",
       "    <tr>\n",
       "      <th>42</th>\n",
       "      <td>1.0</td>\n",
       "      <td>100</td>\n",
       "      <td>12</td>\n",
       "      <td>0.157577</td>\n",
       "      <td>0.010888</td>\n",
       "      <td>0.091879</td>\n",
       "      <td>0.007654</td>\n",
       "      <td>0.916006</td>\n",
       "      <td>0.000284</td>\n",
       "    </tr>\n",
       "    <tr>\n",
       "      <th>58</th>\n",
       "      <td>5.0</td>\n",
       "      <td>100</td>\n",
       "      <td>12</td>\n",
       "      <td>0.157577</td>\n",
       "      <td>0.010888</td>\n",
       "      <td>0.091879</td>\n",
       "      <td>0.007654</td>\n",
       "      <td>0.916006</td>\n",
       "      <td>0.000284</td>\n",
       "    </tr>\n",
       "    <tr>\n",
       "      <th>74</th>\n",
       "      <td>10.0</td>\n",
       "      <td>100</td>\n",
       "      <td>12</td>\n",
       "      <td>0.157577</td>\n",
       "      <td>0.010888</td>\n",
       "      <td>0.091879</td>\n",
       "      <td>0.007654</td>\n",
       "      <td>0.916006</td>\n",
       "      <td>0.000284</td>\n",
       "    </tr>\n",
       "    <tr>\n",
       "      <th>14</th>\n",
       "      <td>0.1</td>\n",
       "      <td>150</td>\n",
       "      <td>12</td>\n",
       "      <td>0.156875</td>\n",
       "      <td>0.009778</td>\n",
       "      <td>0.091477</td>\n",
       "      <td>0.006815</td>\n",
       "      <td>0.915909</td>\n",
       "      <td>0.000350</td>\n",
       "    </tr>\n",
       "    <tr>\n",
       "      <th>30</th>\n",
       "      <td>0.8</td>\n",
       "      <td>150</td>\n",
       "      <td>12</td>\n",
       "      <td>0.156875</td>\n",
       "      <td>0.009778</td>\n",
       "      <td>0.091477</td>\n",
       "      <td>0.006815</td>\n",
       "      <td>0.915909</td>\n",
       "      <td>0.000350</td>\n",
       "    </tr>\n",
       "    <tr>\n",
       "      <th>46</th>\n",
       "      <td>1.0</td>\n",
       "      <td>150</td>\n",
       "      <td>12</td>\n",
       "      <td>0.156875</td>\n",
       "      <td>0.009778</td>\n",
       "      <td>0.091477</td>\n",
       "      <td>0.006815</td>\n",
       "      <td>0.915909</td>\n",
       "      <td>0.000350</td>\n",
       "    </tr>\n",
       "    <tr>\n",
       "      <th>62</th>\n",
       "      <td>5.0</td>\n",
       "      <td>150</td>\n",
       "      <td>12</td>\n",
       "      <td>0.156875</td>\n",
       "      <td>0.009778</td>\n",
       "      <td>0.091477</td>\n",
       "      <td>0.006815</td>\n",
       "      <td>0.915909</td>\n",
       "      <td>0.000350</td>\n",
       "    </tr>\n",
       "    <tr>\n",
       "      <th>78</th>\n",
       "      <td>10.0</td>\n",
       "      <td>150</td>\n",
       "      <td>12</td>\n",
       "      <td>0.156875</td>\n",
       "      <td>0.009778</td>\n",
       "      <td>0.091477</td>\n",
       "      <td>0.006815</td>\n",
       "      <td>0.915909</td>\n",
       "      <td>0.000350</td>\n",
       "    </tr>\n",
       "  </tbody>\n",
       "</table>\n",
       "</div>"
      ],
      "text/plain": [
       "    learning_rate  n_estimators  max_features  F1 Score (Mean)  F1 Score (IC)  \\\n",
       "10            0.1           100            12         0.157577       0.010888   \n",
       "26            0.8           100            12         0.157577       0.010888   \n",
       "42            1.0           100            12         0.157577       0.010888   \n",
       "58            5.0           100            12         0.157577       0.010888   \n",
       "74           10.0           100            12         0.157577       0.010888   \n",
       "14            0.1           150            12         0.156875       0.009778   \n",
       "30            0.8           150            12         0.156875       0.009778   \n",
       "46            1.0           150            12         0.156875       0.009778   \n",
       "62            5.0           150            12         0.156875       0.009778   \n",
       "78           10.0           150            12         0.156875       0.009778   \n",
       "\n",
       "    Sensibilidad-Recall (Mean)  Sensibilidad-Recall (IC)  Accuracy (Mean)  \\\n",
       "10                    0.091879                  0.007654         0.916006   \n",
       "26                    0.091879                  0.007654         0.916006   \n",
       "42                    0.091879                  0.007654         0.916006   \n",
       "58                    0.091879                  0.007654         0.916006   \n",
       "74                    0.091879                  0.007654         0.916006   \n",
       "14                    0.091477                  0.006815         0.915909   \n",
       "30                    0.091477                  0.006815         0.915909   \n",
       "46                    0.091477                  0.006815         0.915909   \n",
       "62                    0.091477                  0.006815         0.915909   \n",
       "78                    0.091477                  0.006815         0.915909   \n",
       "\n",
       "    Accuracy (IC)  \n",
       "10       0.000284  \n",
       "26       0.000284  \n",
       "42       0.000284  \n",
       "58       0.000284  \n",
       "74       0.000284  \n",
       "14       0.000350  \n",
       "30       0.000350  \n",
       "46       0.000350  \n",
       "62       0.000350  \n",
       "78       0.000350  "
      ]
     },
     "execution_count": 6,
     "metadata": {},
     "output_type": "execute_result"
    }
   ],
   "source": [
    "resultados.sort_values(by = ['F1 Score (Mean)', 'Sensibilidad-Recall (Mean)'], ascending = [False, False]).head(10)"
   ]
  },
  {
   "cell_type": "markdown",
   "id": "79d59ce0",
   "metadata": {
    "papermill": {
     "duration": 0.007104,
     "end_time": "2022-10-18T18:03:03.656505",
     "exception": false,
     "start_time": "2022-10-18T18:03:03.649401",
     "status": "completed"
    },
    "tags": []
   },
   "source": [
    "# Graficas de Rendimiento"
   ]
  },
  {
   "cell_type": "markdown",
   "id": "a884797e",
   "metadata": {
    "papermill": {
     "duration": 0.007075,
     "end_time": "2022-10-18T18:03:03.670947",
     "exception": false,
     "start_time": "2022-10-18T18:03:03.663872",
     "status": "completed"
    },
    "tags": []
   },
   "source": [
    "## F1 Score, Recall y Accuracy con respecto al Learning Rate"
   ]
  },
  {
   "cell_type": "code",
   "execution_count": 7,
   "id": "875b462a",
   "metadata": {
    "execution": {
     "iopub.execute_input": "2022-10-18T18:03:03.687285Z",
     "iopub.status.busy": "2022-10-18T18:03:03.686455Z",
     "iopub.status.idle": "2022-10-18T18:03:04.557497Z",
     "shell.execute_reply": "2022-10-18T18:03:04.556622Z"
    },
    "papermill": {
     "duration": 0.881368,
     "end_time": "2022-10-18T18:03:04.559479",
     "exception": false,
     "start_time": "2022-10-18T18:03:03.678111",
     "status": "completed"
    },
    "tags": []
   },
   "outputs": [
    {
     "data": {
      "image/png": "[encoded data removed]",
      "text/plain": [
       "<Figure size 432x288 with 1 Axes>"
      ]
     },
     "metadata": {
      "needs_background": "light"
     },
     "output_type": "display_data"
    },
    {
     "data": {
      "image/png": "[encoded data removed]",
      "text/plain": [
       "<Figure size 432x288 with 1 Axes>"
      ]
     },
     "metadata": {
      "needs_background": "light"
     },
     "output_type": "display_data"
    },
    {
     "data": {
      "image/png": "[encoded data removed]",
      "text/plain": [
       "<Figure size 432x288 with 1 Axes>"
      ]
     },
     "metadata": {
      "needs_background": "light"
     },
     "output_type": "display_data"
    }
   ],
   "source": [
    "errores=[\"F1 Score (Mean)\",\"Sensibilidad-Recall (Mean)\",\"Accuracy (Mean)\"]\n",
    "for error in errores:\n",
    "    sns.lineplot(data=resultados,x=\"learning_rate\",y=error)\n",
    "    plt.show()"
   ]
  },
  {
   "cell_type": "markdown",
   "id": "69e800c9",
   "metadata": {
    "papermill": {
     "duration": 0.007824,
     "end_time": "2022-10-18T18:03:04.575430",
     "exception": false,
     "start_time": "2022-10-18T18:03:04.567606",
     "status": "completed"
    },
    "tags": []
   },
   "source": [
    "## F1 Score, Recall y Accuracy con respecto a N Estimators"
   ]
  },
  {
   "cell_type": "code",
   "execution_count": 8,
   "id": "b0d2c2a2",
   "metadata": {
    "execution": {
     "iopub.execute_input": "2022-10-18T18:03:04.593104Z",
     "iopub.status.busy": "2022-10-18T18:03:04.591691Z",
     "iopub.status.idle": "2022-10-18T18:03:05.459111Z",
     "shell.execute_reply": "2022-10-18T18:03:05.458161Z"
    },
    "papermill": {
     "duration": 0.878316,
     "end_time": "2022-10-18T18:03:05.461445",
     "exception": false,
     "start_time": "2022-10-18T18:03:04.583129",
     "status": "completed"
    },
    "tags": []
   },
   "outputs": [
    {
     "data": {
      "image/png": "[encoded data removed]",
      "text/plain": [
       "<Figure size 432x288 with 1 Axes>"
      ]
     },
     "metadata": {
      "needs_background": "light"
     },
     "output_type": "display_data"
    },
    {
     "data": {
      "image/png": "[encoded data removed]",
      "text/plain": [
       "<Figure size 432x288 with 1 Axes>"
      ]
     },
     "metadata": {
      "needs_background": "light"
     },
     "output_type": "display_data"
    },
    {
     "data": {
      "image/png": "[encoded data removed]",
      "text/plain": [
       "<Figure size 432x288 with 1 Axes>"
      ]
     },
     "metadata": {
      "needs_background": "light"
     },
     "output_type": "display_data"
    }
   ],
   "source": [
    "for error in errores:\n",
    "    sns.lineplot(data=resultados,x=\"n_estimators\",y=error)\n",
    "    plt.show()"
   ]
  },
  {
   "cell_type": "markdown",
   "id": "b4449c43",
   "metadata": {
    "papermill": {
     "duration": 0.008612,
     "end_time": "2022-10-18T18:03:05.480001",
     "exception": false,
     "start_time": "2022-10-18T18:03:05.471389",
     "status": "completed"
    },
    "tags": []
   },
   "source": [
    "## F1 Score, Recall y Accuracy con respecto a Max Features"
   ]
  },
  {
   "cell_type": "code",
   "execution_count": 9,
   "id": "bc0528de",
   "metadata": {
    "execution": {
     "iopub.execute_input": "2022-10-18T18:03:05.500237Z",
     "iopub.status.busy": "2022-10-18T18:03:05.498684Z",
     "iopub.status.idle": "2022-10-18T18:03:06.341550Z",
     "shell.execute_reply": "2022-10-18T18:03:06.340505Z"
    },
    "papermill": {
     "duration": 0.85484,
     "end_time": "2022-10-18T18:03:06.343637",
     "exception": false,
     "start_time": "2022-10-18T18:03:05.488797",
     "status": "completed"
    },
    "tags": []
   },
   "outputs": [
    {
     "data": {
      "image/png": "[encoded data removed]",
      "text/plain": [
       "<Figure size 432x288 with 1 Axes>"
      ]
     },
     "metadata": {
      "needs_background": "light"
     },
     "output_type": "display_data"
    },
    {
     "data": {
      "image/png": "[encoded data removed]",
      "text/plain": [
       "<Figure size 432x288 with 1 Axes>"
      ]
     },
     "metadata": {
      "needs_background": "light"
     },
     "output_type": "display_data"
    },
    {
     "data": {
      "image/png": "[encoded data removed]",
      "text/plain": [
       "<Figure size 432x288 with 1 Axes>"
      ]
     },
     "metadata": {
      "needs_background": "light"
     },
     "output_type": "display_data"
    }
   ],
   "source": [
    "for error in errores:\n",
    "    sns.lineplot(data=resultados,x=\"max_features\",y=error)\n",
    "    plt.show()"
   ]
  },
  {
   "cell_type": "markdown",
   "id": "e8839b83",
   "metadata": {
    "papermill": {
     "duration": 0.009206,
     "end_time": "2022-10-18T18:03:06.362476",
     "exception": false,
     "start_time": "2022-10-18T18:03:06.353270",
     "status": "completed"
    },
    "tags": []
   },
   "source": [
    "# Partición de los datos\n",
    "Partimos los datos en train y test en una proporción 70-30. 70% de los datos para entrenar el modelo y 30% de los datos para la validación del mismo."
   ]
  },
  {
   "cell_type": "code",
   "execution_count": 10,
   "id": "48262420",
   "metadata": {
    "execution": {
     "iopub.execute_input": "2022-10-18T18:03:06.383433Z",
     "iopub.status.busy": "2022-10-18T18:03:06.381992Z",
     "iopub.status.idle": "2022-10-18T18:03:06.443775Z",
     "shell.execute_reply": "2022-10-18T18:03:06.442778Z"
    },
    "papermill": {
     "duration": 0.074511,
     "end_time": "2022-10-18T18:03:06.446292",
     "exception": false,
     "start_time": "2022-10-18T18:03:06.371781",
     "status": "completed"
    },
    "tags": []
   },
   "outputs": [],
   "source": [
    "X_train,X_test,y_train,y_test=train_test_split(scaled_data,\n",
    "                                               Y,\n",
    "                                               test_size=0.3,\n",
    "                                               random_state=50)"
   ]
  },
  {
   "cell_type": "markdown",
   "id": "1067524f",
   "metadata": {
    "papermill": {
     "duration": 0.009225,
     "end_time": "2022-10-18T18:03:06.465300",
     "exception": false,
     "start_time": "2022-10-18T18:03:06.456075",
     "status": "completed"
    },
    "tags": []
   },
   "source": [
    "# Cantidad de datos que hay para una clases a predecir"
   ]
  },
  {
   "cell_type": "code",
   "execution_count": 11,
   "id": "3abcc1b2",
   "metadata": {
    "execution": {
     "iopub.execute_input": "2022-10-18T18:03:06.486346Z",
     "iopub.status.busy": "2022-10-18T18:03:06.485388Z",
     "iopub.status.idle": "2022-10-18T18:03:06.518281Z",
     "shell.execute_reply": "2022-10-18T18:03:06.517200Z"
    },
    "papermill": {
     "duration": 0.045475,
     "end_time": "2022-10-18T18:03:06.520372",
     "exception": false,
     "start_time": "2022-10-18T18:03:06.474897",
     "status": "completed"
    },
    "tags": []
   },
   "outputs": [
    {
     "name": "stdout",
     "output_type": "stream",
     "text": [
      "Counter({0: 204624, 1: 19232})\n"
     ]
    }
   ],
   "source": [
    "counter=Counter(y_train)\n",
    "print(counter)"
   ]
  },
  {
   "cell_type": "markdown",
   "id": "98aaf656",
   "metadata": {
    "papermill": {
     "duration": 0.009053,
     "end_time": "2022-10-18T18:03:06.538839",
     "exception": false,
     "start_time": "2022-10-18T18:03:06.529786",
     "status": "completed"
    },
    "tags": []
   },
   "source": [
    "# Función para el entrenamiento de los modelos"
   ]
  },
  {
   "cell_type": "code",
   "execution_count": 12,
   "id": "3d057631",
   "metadata": {
    "execution": {
     "iopub.execute_input": "2022-10-18T18:03:06.558473Z",
     "iopub.status.busy": "2022-10-18T18:03:06.558187Z",
     "iopub.status.idle": "2022-10-18T18:03:06.564309Z",
     "shell.execute_reply": "2022-10-18T18:03:06.563422Z"
    },
    "papermill": {
     "duration": 0.018183,
     "end_time": "2022-10-18T18:03:06.566195",
     "exception": false,
     "start_time": "2022-10-18T18:03:06.548012",
     "status": "completed"
    },
    "tags": []
   },
   "outputs": [],
   "source": [
    "def entrenarModelo(model_train, Xtrain,Ytrain,Xtest,Ytest):\n",
    "    model.fit(X=Xtrain,y=Ytrain)\n",
    "    Ypred=model.predict(Xtest)\n",
    "\n",
    "    print(f'Model: {str(model)}')\n",
    "    print(f'Accuracy Score: {accuracy_score(Ytest,Ypred)}')\n",
    "    print(f'Precission Score: {precision_score(Ytest,Ypred)}')\n",
    "    print(f'Recall Score: {recall_score(Ytest,Ypred)}')\n",
    "    print(f'F1-Score: {f1_score(Ytest,Ypred)}')\n",
    "    cm = confusion_matrix(Ytest, Ypred, labels=model_train.classes_)\n",
    "    disp = ConfusionMatrixDisplay(confusion_matrix=cm,display_labels=model_train.classes_)\n",
    "    disp.plot()\n",
    "    return model_train\n"
   ]
  },
  {
   "cell_type": "markdown",
   "id": "7d565849",
   "metadata": {
    "papermill": {
     "duration": 0.009013,
     "end_time": "2022-10-18T18:03:06.584498",
     "exception": false,
     "start_time": "2022-10-18T18:03:06.575485",
     "status": "completed"
    },
    "tags": []
   },
   "source": [
    "# Función para realizar el Submuestreo de los datos"
   ]
  },
  {
   "cell_type": "code",
   "execution_count": 13,
   "id": "d0a2fcb9",
   "metadata": {
    "execution": {
     "iopub.execute_input": "2022-10-18T18:03:06.604845Z",
     "iopub.status.busy": "2022-10-18T18:03:06.604105Z",
     "iopub.status.idle": "2022-10-18T18:03:06.610091Z",
     "shell.execute_reply": "2022-10-18T18:03:06.609258Z"
    },
    "papermill": {
     "duration": 0.018083,
     "end_time": "2022-10-18T18:03:06.611965",
     "exception": false,
     "start_time": "2022-10-18T18:03:06.593882",
     "status": "completed"
    },
    "tags": []
   },
   "outputs": [],
   "source": [
    "def balancearClases(balanceador, X_train, y_train):\n",
    "    Xtrain_new, Ytrain_new=balanceador.fit_resample(X_train,y_train)\n",
    "    print(\"Dimensiones\")\n",
    "    print(\"Xtrain_new: \", Xtrain_new.shape)\n",
    "    print(\"Ytrain_new: \", Ytrain_new.shape)\n",
    "    return Xtrain_new,Ytrain_new"
   ]
  },
  {
   "cell_type": "markdown",
   "id": "bb9bd32b",
   "metadata": {
    "papermill": {
     "duration": 0.009017,
     "end_time": "2022-10-18T18:03:06.629985",
     "exception": false,
     "start_time": "2022-10-18T18:03:06.620968",
     "status": "completed"
    },
    "tags": []
   },
   "source": [
    "# Entrenamiento del modelo con UnderSampling"
   ]
  },
  {
   "cell_type": "code",
   "execution_count": 14,
   "id": "b6de29db",
   "metadata": {
    "execution": {
     "iopub.execute_input": "2022-10-18T18:03:06.649786Z",
     "iopub.status.busy": "2022-10-18T18:03:06.649038Z",
     "iopub.status.idle": "2022-10-18T18:03:06.706817Z",
     "shell.execute_reply": "2022-10-18T18:03:06.705755Z"
    },
    "papermill": {
     "duration": 0.069881,
     "end_time": "2022-10-18T18:03:06.708945",
     "exception": false,
     "start_time": "2022-10-18T18:03:06.639064",
     "status": "completed"
    },
    "tags": []
   },
   "outputs": [
    {
     "name": "stdout",
     "output_type": "stream",
     "text": [
      "Dimensiones\n",
      "Xtrain_new:  (38464, 16)\n",
      "Ytrain_new:  (38464,)\n"
     ]
    }
   ],
   "source": [
    "subsample=RandomUnderSampler()\n",
    "Xtrain_new, Ytrain_new=balancearClases(subsample, X_train, y_train)"
   ]
  },
  {
   "cell_type": "code",
   "execution_count": 15,
   "id": "ca76e6ca",
   "metadata": {
    "execution": {
     "iopub.execute_input": "2022-10-18T18:03:06.730324Z",
     "iopub.status.busy": "2022-10-18T18:03:06.728889Z",
     "iopub.status.idle": "2022-10-18T18:03:11.598380Z",
     "shell.execute_reply": "2022-10-18T18:03:11.597505Z"
    },
    "papermill": {
     "duration": 4.881922,
     "end_time": "2022-10-18T18:03:11.600543",
     "exception": false,
     "start_time": "2022-10-18T18:03:06.718621",
     "status": "completed"
    },
    "tags": []
   },
   "outputs": [
    {
     "name": "stdout",
     "output_type": "stream",
     "text": [
      "Model: GradientBoostingClassifier(n_estimators=150, random_state=0)\n",
      "Accuracy Score: 0.7351025130551705\n",
      "Precission Score: 0.21608205397942076\n",
      "Recall Score: 0.8073946689595872\n",
      "F1-Score: 0.34092323651452283\n"
     ]
    },
    {
     "data": {
      "text/plain": [
       "['GradientBoosting_UnderSampling.joblib']"
      ]
     },
     "execution_count": 15,
     "metadata": {},
     "output_type": "execute_result"
    },
    {
     "data": {
      "image/png": "[encoded data removed]",
      "text/plain": [
       "<Figure size 432x288 with 2 Axes>"
      ]
     },
     "metadata": {
      "needs_background": "light"
     },
     "output_type": "display_data"
    }
   ],
   "source": [
    "model=GradientBoostingClassifier(n_estimators=150,random_state=0)\n",
    "modelo_entrenado=entrenarModelo(model,Xtrain_new,Ytrain_new,X_test,y_test)\n",
    "joblib.dump(modelo_entrenado, 'GradientBoosting_UnderSampling.joblib') "
   ]
  },
  {
   "cell_type": "markdown",
   "id": "132977ff",
   "metadata": {
    "papermill": {
     "duration": 0.009555,
     "end_time": "2022-10-18T18:03:11.620018",
     "exception": false,
     "start_time": "2022-10-18T18:03:11.610463",
     "status": "completed"
    },
    "tags": []
   },
   "source": [
    "# Entrenamiento del modelo con OverSampling"
   ]
  },
  {
   "cell_type": "code",
   "execution_count": 16,
   "id": "b2c75261",
   "metadata": {
    "execution": {
     "iopub.execute_input": "2022-10-18T18:03:11.641815Z",
     "iopub.status.busy": "2022-10-18T18:03:11.640377Z",
     "iopub.status.idle": "2022-10-18T18:03:11.789142Z",
     "shell.execute_reply": "2022-10-18T18:03:11.788059Z"
    },
    "papermill": {
     "duration": 0.161831,
     "end_time": "2022-10-18T18:03:11.791442",
     "exception": false,
     "start_time": "2022-10-18T18:03:11.629611",
     "status": "completed"
    },
    "tags": []
   },
   "outputs": [
    {
     "name": "stdout",
     "output_type": "stream",
     "text": [
      "Dimensiones\n",
      "Xtrain_new:  (409248, 16)\n",
      "Ytrain_new:  (409248,)\n"
     ]
    }
   ],
   "source": [
    "subsample=RandomOverSampler()\n",
    "Xtrain_new, Ytrain_new=balancearClases(subsample, X_train, y_train)"
   ]
  },
  {
   "cell_type": "code",
   "execution_count": 17,
   "id": "e94e17e1",
   "metadata": {
    "execution": {
     "iopub.execute_input": "2022-10-18T18:03:11.812430Z",
     "iopub.status.busy": "2022-10-18T18:03:11.812135Z",
     "iopub.status.idle": "2022-10-18T18:04:04.803362Z",
     "shell.execute_reply": "2022-10-18T18:04:04.802488Z"
    },
    "papermill": {
     "duration": 53.003949,
     "end_time": "2022-10-18T18:04:04.805366",
     "exception": false,
     "start_time": "2022-10-18T18:03:11.801417",
     "status": "completed"
    },
    "tags": []
   },
   "outputs": [
    {
     "name": "stdout",
     "output_type": "stream",
     "text": [
      "Model: GradientBoostingClassifier(n_estimators=150, random_state=0)\n",
      "Accuracy Score: 0.7354464816185284\n",
      "Precission Score: 0.21624201724932518\n",
      "Recall Score: 0.8069033288293821\n",
      "F1-Score: 0.341078428827332\n"
     ]
    },
    {
     "data": {
      "text/plain": [
       "['GradientBoosting_OverSampling.joblib']"
      ]
     },
     "execution_count": 17,
     "metadata": {},
     "output_type": "execute_result"
    },
    {
     "data": {
      "image/png": "[encoded data removed]",
      "text/plain": [
       "<Figure size 432x288 with 2 Axes>"
      ]
     },
     "metadata": {
      "needs_background": "light"
     },
     "output_type": "display_data"
    }
   ],
   "source": [
    "model=GradientBoostingClassifier(n_estimators=150,random_state=0)\n",
    "modelo_entrenado=entrenarModelo(model,Xtrain_new,Ytrain_new,X_test,y_test)\n",
    "joblib.dump(modelo_entrenado, 'GradientBoosting_OverSampling.joblib') "
   ]
  },
  {
   "cell_type": "markdown",
   "id": "e318a6e6",
   "metadata": {
    "papermill": {
     "duration": 0.010164,
     "end_time": "2022-10-18T18:04:04.826028",
     "exception": false,
     "start_time": "2022-10-18T18:04:04.815864",
     "status": "completed"
    },
    "tags": []
   },
   "source": [
    "# Entrenamiento del modelo sin ninguna técnica de submuestreo"
   ]
  },
  {
   "cell_type": "code",
   "execution_count": 18,
   "id": "56a89d4a",
   "metadata": {
    "execution": {
     "iopub.execute_input": "2022-10-18T18:04:04.847941Z",
     "iopub.status.busy": "2022-10-18T18:04:04.847135Z",
     "iopub.status.idle": "2022-10-18T18:04:31.712364Z",
     "shell.execute_reply": "2022-10-18T18:04:31.711479Z"
    },
    "papermill": {
     "duration": 26.878501,
     "end_time": "2022-10-18T18:04:31.714518",
     "exception": false,
     "start_time": "2022-10-18T18:04:04.836017",
     "status": "completed"
    },
    "tags": []
   },
   "outputs": [
    {
     "name": "stdout",
     "output_type": "stream",
     "text": [
      "Model: GradientBoostingClassifier(n_estimators=150, random_state=0)\n",
      "Accuracy Score: 0.9167491843775732\n",
      "Precission Score: 0.5578947368421052\n",
      "Recall Score: 0.09114359415305245\n",
      "F1-Score: 0.15668883961566887\n"
     ]
    },
    {
     "data": {
      "text/plain": [
       "['GradientBoosting.joblib']"
      ]
     },
     "execution_count": 18,
     "metadata": {},
     "output_type": "execute_result"
    },
    {
     "data": {
      "image/png": "[encoded data removed]",
      "text/plain": [
       "<Figure size 432x288 with 2 Axes>"
      ]
     },
     "metadata": {
      "needs_background": "light"
     },
     "output_type": "display_data"
    }
   ],
   "source": [
    "model=GradientBoostingClassifier(n_estimators=150,random_state=0)\n",
    "modelo_entrenado=entrenarModelo(model,X_train,y_train,X_test,y_test)\n",
    "joblib.dump(modelo_entrenado, 'GradientBoosting.joblib') "
   ]
  },
  {
   "cell_type": "code",
   "execution_count": null,
   "id": "eb3466c6",
   "metadata": {
    "papermill": {
     "duration": 0.010242,
     "end_time": "2022-10-18T18:04:31.735770",
     "exception": false,
     "start_time": "2022-10-18T18:04:31.725528",
     "status": "completed"
    },
    "tags": []
   },
   "outputs": [],
   "source": []
  },
  {
   "cell_type": "code",
   "execution_count": null,
   "id": "7c7e7dbc",
   "metadata": {
    "papermill": {
     "duration": 0.010149,
     "end_time": "2022-10-18T18:04:31.756305",
     "exception": false,
     "start_time": "2022-10-18T18:04:31.746156",
     "status": "completed"
    },
    "tags": []
   },
   "outputs": [],
   "source": []
  }
 ],
 "metadata": {
  "kernelspec": {
   "display_name": "Python 3",
   "language": "python",
   "name": "python3"
  },
  "language_info": {
   "codemirror_mode": {
    "name": "ipython",
    "version": 3
   },
   "file_extension": ".py",
   "mimetype": "text/x-python",
   "name": "python",
   "nbconvert_exporter": "python",
   "pygments_lexer": "ipython3",
   "version": "3.7.12"
  },
  "papermill": {
   "default_parameters": {},
   "duration": 4401.171835,
   "end_time": "2022-10-18T18:04:32.292384",
   "environment_variables": {},
   "exception": null,
   "input_path": "__notebook__.ipynb",
   "output_path": "__notebook__.ipynb",
   "parameters": {},
   "start_time": "2022-10-18T16:51:11.120549",
   "version": "2.3.4"
  }
 },
 "nbformat": 4,
 "nbformat_minor": 5
}
