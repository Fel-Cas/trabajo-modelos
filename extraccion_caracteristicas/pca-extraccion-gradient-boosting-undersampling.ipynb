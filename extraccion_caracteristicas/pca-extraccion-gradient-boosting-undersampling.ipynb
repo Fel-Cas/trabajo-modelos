{
 "cells": [
  {
   "cell_type": "code",
   "execution_count": 1,
   "id": "de197f7b",
   "metadata": {
    "_cell_guid": "b1076dfc-b9ad-4769-8c92-a6c4dae69d19",
    "_uuid": "8f2839f25d086af736a60e9eeb907d3b93b6e0e5",
    "execution": {
     "iopub.execute_input": "2022-10-29T16:26:50.999684Z",
     "iopub.status.busy": "2022-10-29T16:26:50.998379Z",
     "iopub.status.idle": "2022-10-29T16:26:52.547561Z",
     "shell.execute_reply": "2022-10-29T16:26:52.546364Z"
    },
    "papermill": {
     "duration": 1.564984,
     "end_time": "2022-10-29T16:26:52.551376",
     "exception": false,
     "start_time": "2022-10-29T16:26:50.986392",
     "status": "completed"
    },
    "tags": []
   },
   "outputs": [
    {
     "name": "stdout",
     "output_type": "stream",
     "text": [
      "/kaggle/input/datasetmodified/dataset-modificado.csv\n",
      "/kaggle/input/pca-gradient-boosting/resultados_pca_gradient_boosting.csv\n",
      "/kaggle/input/datosreales/DatosReales.csv\n"
     ]
    }
   ],
   "source": [
    "# This Python 3 environment comes with many helpful analytics libraries installed\n",
    "# It is defined by the kaggle/python Docker image: https://github.com/kaggle/docker-python\n",
    "# For example, here's several helpful packages to load\n",
    "\n",
    "import numpy as np # linear algebra\n",
    "import pandas as pd # data processing, CSV file I/O (e.g. pd.read_csv)\n",
    "from sklearn.preprocessing import StandardScaler\n",
    "from sklearn.decomposition import PCA\n",
    "import matplotlib.pyplot as plt\n",
    "from sklearn.pipeline import Pipeline\n",
    "import time\n",
    "from sklearn.ensemble import GradientBoostingClassifier\n",
    "from sklearn.model_selection import train_test_split,StratifiedKFold,StratifiedShuffleSplit\n",
    "from sklearn.metrics import f1_score\n",
    "from imblearn.under_sampling import RandomUnderSampler\n",
    "from sklearn.metrics import precision_score,recall_score,accuracy_score,f1_score,confusion_matrix,ConfusionMatrixDisplay\n",
    "import seaborn as sns\n",
    "import matplotlib.pyplot as plt\n",
    "from sklearn.preprocessing import LabelEncoder\n",
    "encoder = LabelEncoder()\n",
    "import seaborn as sns\n",
    "import matplotlib.pyplot as plt\n",
    "import joblib\n",
    "from joblib import dump, load\n",
    "\n",
    "# Input data files are available in the read-only \"../input/\" directory\n",
    "# For example, running this (by clicking run or pressing Shift+Enter) will list all files under the input directory\n",
    "\n",
    "import os\n",
    "for dirname, _, filenames in os.walk('/kaggle/input'):\n",
    "    for filename in filenames:\n",
    "        print(os.path.join(dirname, filename))\n",
    "\n",
    "# You can write up to 20GB to the current directory (/kaggle/working/) that gets preserved as output when you create a version using \"Save & Run All\" \n",
    "# You can also write temporary files to /kaggle/temp/, but they won't be saved outside of the current session"
   ]
  },
  {
   "cell_type": "markdown",
   "id": "dcf4cc86",
   "metadata": {
    "papermill": {
     "duration": 0.008356,
     "end_time": "2022-10-29T16:26:52.569867",
     "exception": false,
     "start_time": "2022-10-29T16:26:52.561511",
     "status": "completed"
    },
    "tags": []
   },
   "source": [
    "## Visualización de los datos"
   ]
  },
  {
   "cell_type": "code",
   "execution_count": 2,
   "id": "06c12bca",
   "metadata": {
    "execution": {
     "iopub.execute_input": "2022-10-29T16:26:52.588925Z",
     "iopub.status.busy": "2022-10-29T16:26:52.588524Z",
     "iopub.status.idle": "2022-10-29T16:26:53.295942Z",
     "shell.execute_reply": "2022-10-29T16:26:53.294754Z"
    },
    "papermill": {
     "duration": 0.720126,
     "end_time": "2022-10-29T16:26:53.298427",
     "exception": false,
     "start_time": "2022-10-29T16:26:52.578301",
     "status": "completed"
    },
    "tags": []
   },
   "outputs": [
    {
     "data": {
      "text/html": [
       "<div>\n",
       "<style scoped>\n",
       "    .dataframe tbody tr th:only-of-type {\n",
       "        vertical-align: middle;\n",
       "    }\n",
       "\n",
       "    .dataframe tbody tr th {\n",
       "        vertical-align: top;\n",
       "    }\n",
       "\n",
       "    .dataframe thead th {\n",
       "        text-align: right;\n",
       "    }\n",
       "</style>\n",
       "<table border=\"1\" class=\"dataframe\">\n",
       "  <thead>\n",
       "    <tr style=\"text-align: right;\">\n",
       "      <th></th>\n",
       "      <th>HeartDisease</th>\n",
       "      <th>BMI</th>\n",
       "      <th>Smoking</th>\n",
       "      <th>AlcoholDrinking</th>\n",
       "      <th>Stroke</th>\n",
       "      <th>PhysicalHealth</th>\n",
       "      <th>MentalHealth</th>\n",
       "      <th>DiffWalking</th>\n",
       "      <th>Sex</th>\n",
       "      <th>AgeCategory</th>\n",
       "      <th>Diabetic</th>\n",
       "      <th>PhysicalActivity</th>\n",
       "      <th>GenHealth</th>\n",
       "      <th>SleepTime</th>\n",
       "      <th>Asthma</th>\n",
       "      <th>KidneyDisease</th>\n",
       "      <th>SkinCancer</th>\n",
       "    </tr>\n",
       "  </thead>\n",
       "  <tbody>\n",
       "    <tr>\n",
       "      <th>0</th>\n",
       "      <td>0</td>\n",
       "      <td>16.60</td>\n",
       "      <td>1</td>\n",
       "      <td>0</td>\n",
       "      <td>0</td>\n",
       "      <td>3.0</td>\n",
       "      <td>30.0</td>\n",
       "      <td>0</td>\n",
       "      <td>8</td>\n",
       "      <td>17</td>\n",
       "      <td>1</td>\n",
       "      <td>1</td>\n",
       "      <td>5</td>\n",
       "      <td>5.0</td>\n",
       "      <td>1</td>\n",
       "      <td>0</td>\n",
       "      <td>1</td>\n",
       "    </tr>\n",
       "    <tr>\n",
       "      <th>1</th>\n",
       "      <td>0</td>\n",
       "      <td>20.34</td>\n",
       "      <td>0</td>\n",
       "      <td>0</td>\n",
       "      <td>1</td>\n",
       "      <td>0.0</td>\n",
       "      <td>0.0</td>\n",
       "      <td>0</td>\n",
       "      <td>8</td>\n",
       "      <td>22</td>\n",
       "      <td>0</td>\n",
       "      <td>1</td>\n",
       "      <td>5</td>\n",
       "      <td>7.0</td>\n",
       "      <td>0</td>\n",
       "      <td>0</td>\n",
       "      <td>0</td>\n",
       "    </tr>\n",
       "    <tr>\n",
       "      <th>2</th>\n",
       "      <td>0</td>\n",
       "      <td>26.58</td>\n",
       "      <td>1</td>\n",
       "      <td>0</td>\n",
       "      <td>0</td>\n",
       "      <td>20.0</td>\n",
       "      <td>30.0</td>\n",
       "      <td>0</td>\n",
       "      <td>9</td>\n",
       "      <td>19</td>\n",
       "      <td>1</td>\n",
       "      <td>1</td>\n",
       "      <td>3</td>\n",
       "      <td>8.0</td>\n",
       "      <td>1</td>\n",
       "      <td>0</td>\n",
       "      <td>0</td>\n",
       "    </tr>\n",
       "    <tr>\n",
       "      <th>3</th>\n",
       "      <td>0</td>\n",
       "      <td>24.21</td>\n",
       "      <td>0</td>\n",
       "      <td>0</td>\n",
       "      <td>0</td>\n",
       "      <td>0.0</td>\n",
       "      <td>0.0</td>\n",
       "      <td>0</td>\n",
       "      <td>8</td>\n",
       "      <td>21</td>\n",
       "      <td>0</td>\n",
       "      <td>0</td>\n",
       "      <td>4</td>\n",
       "      <td>6.0</td>\n",
       "      <td>0</td>\n",
       "      <td>0</td>\n",
       "      <td>1</td>\n",
       "    </tr>\n",
       "    <tr>\n",
       "      <th>4</th>\n",
       "      <td>0</td>\n",
       "      <td>23.71</td>\n",
       "      <td>0</td>\n",
       "      <td>0</td>\n",
       "      <td>0</td>\n",
       "      <td>28.0</td>\n",
       "      <td>0.0</td>\n",
       "      <td>1</td>\n",
       "      <td>8</td>\n",
       "      <td>14</td>\n",
       "      <td>0</td>\n",
       "      <td>1</td>\n",
       "      <td>5</td>\n",
       "      <td>8.0</td>\n",
       "      <td>0</td>\n",
       "      <td>0</td>\n",
       "      <td>0</td>\n",
       "    </tr>\n",
       "  </tbody>\n",
       "</table>\n",
       "</div>"
      ],
      "text/plain": [
       "   HeartDisease    BMI  Smoking  AlcoholDrinking  Stroke  PhysicalHealth  \\\n",
       "0             0  16.60        1                0       0             3.0   \n",
       "1             0  20.34        0                0       1             0.0   \n",
       "2             0  26.58        1                0       0            20.0   \n",
       "3             0  24.21        0                0       0             0.0   \n",
       "4             0  23.71        0                0       0            28.0   \n",
       "\n",
       "   MentalHealth  DiffWalking  Sex  AgeCategory  Diabetic  PhysicalActivity  \\\n",
       "0          30.0            0    8           17         1                 1   \n",
       "1           0.0            0    8           22         0                 1   \n",
       "2          30.0            0    9           19         1                 1   \n",
       "3           0.0            0    8           21         0                 0   \n",
       "4           0.0            1    8           14         0                 1   \n",
       "\n",
       "   GenHealth  SleepTime  Asthma  KidneyDisease  SkinCancer  \n",
       "0          5        5.0       1              0           1  \n",
       "1          5        7.0       0              0           0  \n",
       "2          3        8.0       1              0           0  \n",
       "3          4        6.0       0              0           1  \n",
       "4          5        8.0       0              0           0  "
      ]
     },
     "execution_count": 2,
     "metadata": {},
     "output_type": "execute_result"
    }
   ],
   "source": [
    "data=pd.read_csv(\"/kaggle/input/datasetmodified/dataset-modificado.csv\")\n",
    "df=data.copy()\n",
    "df=df.drop([\"Unnamed: 0\"],axis=1)\n",
    "df.head()"
   ]
  },
  {
   "cell_type": "markdown",
   "id": "5dbbb6f1",
   "metadata": {
    "papermill": {
     "duration": 0.008626,
     "end_time": "2022-10-29T16:26:53.315867",
     "exception": false,
     "start_time": "2022-10-29T16:26:53.307241",
     "status": "completed"
    },
    "tags": []
   },
   "source": [
    "## Separación de los datos"
   ]
  },
  {
   "cell_type": "code",
   "execution_count": 3,
   "id": "dca2f317",
   "metadata": {
    "execution": {
     "iopub.execute_input": "2022-10-29T16:26:53.336711Z",
     "iopub.status.busy": "2022-10-29T16:26:53.336277Z",
     "iopub.status.idle": "2022-10-29T16:26:53.355862Z",
     "shell.execute_reply": "2022-10-29T16:26:53.354991Z"
    },
    "papermill": {
     "duration": 0.031486,
     "end_time": "2022-10-29T16:26:53.357922",
     "exception": false,
     "start_time": "2022-10-29T16:26:53.326436",
     "status": "completed"
    },
    "tags": []
   },
   "outputs": [],
   "source": [
    "X=df.iloc[:,1:17]\n",
    "Y=df.iloc[:,0]"
   ]
  },
  {
   "cell_type": "markdown",
   "id": "9d56d5b2",
   "metadata": {
    "papermill": {
     "duration": 0.008111,
     "end_time": "2022-10-29T16:26:53.375168",
     "exception": false,
     "start_time": "2022-10-29T16:26:53.367057",
     "status": "completed"
    },
    "tags": []
   },
   "source": [
    "# Conversión del dataset\n",
    "Transformamos el dataset a array para luego realizar la extracción de características"
   ]
  },
  {
   "cell_type": "code",
   "execution_count": 4,
   "id": "d47f48ca",
   "metadata": {
    "execution": {
     "iopub.execute_input": "2022-10-29T16:26:53.394822Z",
     "iopub.status.busy": "2022-10-29T16:26:53.394185Z",
     "iopub.status.idle": "2022-10-29T16:26:53.438192Z",
     "shell.execute_reply": "2022-10-29T16:26:53.436756Z"
    },
    "papermill": {
     "duration": 0.056796,
     "end_time": "2022-10-29T16:26:53.440907",
     "exception": false,
     "start_time": "2022-10-29T16:26:53.384111",
     "status": "completed"
    },
    "tags": []
   },
   "outputs": [],
   "source": [
    "array_data_x =  np.array(X)\n",
    "array_data_y = np.array(Y)"
   ]
  },
  {
   "cell_type": "markdown",
   "id": "8ab7f070",
   "metadata": {
    "papermill": {
     "duration": 0.008464,
     "end_time": "2022-10-29T16:26:53.458237",
     "exception": false,
     "start_time": "2022-10-29T16:26:53.449773",
     "status": "completed"
    },
    "tags": []
   },
   "source": [
    "## División de los datos\n",
    "Se realiza una división de los datos en train y test de forma que quedaron 70% y 30% respectivamente"
   ]
  },
  {
   "cell_type": "code",
   "execution_count": 5,
   "id": "009e0ee8",
   "metadata": {
    "execution": {
     "iopub.execute_input": "2022-10-29T16:26:53.476711Z",
     "iopub.status.busy": "2022-10-29T16:26:53.476267Z",
     "iopub.status.idle": "2022-10-29T16:26:53.568839Z",
     "shell.execute_reply": "2022-10-29T16:26:53.567597Z"
    },
    "papermill": {
     "duration": 0.104562,
     "end_time": "2022-10-29T16:26:53.571364",
     "exception": false,
     "start_time": "2022-10-29T16:26:53.466802",
     "status": "completed"
    },
    "tags": []
   },
   "outputs": [],
   "source": [
    "X_train,X_test,y_train,y_test=train_test_split(X,\n",
    "                                               Y,\n",
    "                                               test_size=0.3,\n",
    "                                               random_state=50)"
   ]
  },
  {
   "cell_type": "markdown",
   "id": "11ceba54",
   "metadata": {
    "papermill": {
     "duration": 0.008668,
     "end_time": "2022-10-29T16:26:53.589136",
     "exception": false,
     "start_time": "2022-10-29T16:26:53.580468",
     "status": "completed"
    },
    "tags": []
   },
   "source": [
    "## Función para realizar el Submuestreo de los datos"
   ]
  },
  {
   "cell_type": "code",
   "execution_count": 6,
   "id": "87ccbc9e",
   "metadata": {
    "execution": {
     "iopub.execute_input": "2022-10-29T16:26:53.609003Z",
     "iopub.status.busy": "2022-10-29T16:26:53.608573Z",
     "iopub.status.idle": "2022-10-29T16:26:53.614568Z",
     "shell.execute_reply": "2022-10-29T16:26:53.613442Z"
    },
    "papermill": {
     "duration": 0.018763,
     "end_time": "2022-10-29T16:26:53.616928",
     "exception": false,
     "start_time": "2022-10-29T16:26:53.598165",
     "status": "completed"
    },
    "tags": []
   },
   "outputs": [],
   "source": [
    "def balancearClases(balanceador, X_train, y_train):\n",
    "    Xtrain_new, Ytrain_new=balanceador.fit_resample(X_train,y_train)\n",
    "    print(\"Dimensiones\")\n",
    "    print(\"Xtrain_new: \", Xtrain_new.shape)\n",
    "    print(\"Ytrain_new: \", Ytrain_new.shape)\n",
    "    return Xtrain_new, Ytrain_new"
   ]
  },
  {
   "cell_type": "markdown",
   "id": "29a72b5c",
   "metadata": {
    "papermill": {
     "duration": 0.008786,
     "end_time": "2022-10-29T16:26:53.635299",
     "exception": false,
     "start_time": "2022-10-29T16:26:53.626513",
     "status": "completed"
    },
    "tags": []
   },
   "source": [
    "## Entrenamiento del modelo con Undersampling"
   ]
  },
  {
   "cell_type": "code",
   "execution_count": 7,
   "id": "93e1f8cb",
   "metadata": {
    "execution": {
     "iopub.execute_input": "2022-10-29T16:26:53.655360Z",
     "iopub.status.busy": "2022-10-29T16:26:53.654958Z",
     "iopub.status.idle": "2022-10-29T16:26:53.752780Z",
     "shell.execute_reply": "2022-10-29T16:26:53.751194Z"
    },
    "papermill": {
     "duration": 0.11105,
     "end_time": "2022-10-29T16:26:53.755483",
     "exception": false,
     "start_time": "2022-10-29T16:26:53.644433",
     "status": "completed"
    },
    "tags": []
   },
   "outputs": [
    {
     "name": "stdout",
     "output_type": "stream",
     "text": [
      "Dimensiones\n",
      "Xtrain_new:  (38464, 16)\n",
      "Ytrain_new:  (38464,)\n"
     ]
    }
   ],
   "source": [
    "subsample=RandomUnderSampler()\n",
    "Xtrain_new, Ytrain_new=balancearClases(subsample, X_train, y_train)"
   ]
  },
  {
   "cell_type": "code",
   "execution_count": 8,
   "id": "736a46be",
   "metadata": {
    "execution": {
     "iopub.execute_input": "2022-10-29T16:26:53.775616Z",
     "iopub.status.busy": "2022-10-29T16:26:53.775213Z",
     "iopub.status.idle": "2022-10-29T16:26:53.780330Z",
     "shell.execute_reply": "2022-10-29T16:26:53.779276Z"
    },
    "papermill": {
     "duration": 0.017605,
     "end_time": "2022-10-29T16:26:53.782499",
     "exception": false,
     "start_time": "2022-10-29T16:26:53.764894",
     "status": "completed"
    },
    "tags": []
   },
   "outputs": [],
   "source": [
    "model=GradientBoostingClassifier(n_estimators=150,random_state=0)"
   ]
  },
  {
   "cell_type": "markdown",
   "id": "e28273cb",
   "metadata": {
    "papermill": {
     "duration": 0.008799,
     "end_time": "2022-10-29T16:26:53.800792",
     "exception": false,
     "start_time": "2022-10-29T16:26:53.791993",
     "status": "completed"
    },
    "tags": []
   },
   "source": [
    "# Función para extraer las características\n",
    "Esta función realiza la reducción de la dimensionalidad sobre el conjunto de datos de entrenamiento, de acuerdo con las particiones especificadas usando PCA"
   ]
  },
  {
   "cell_type": "code",
   "execution_count": 9,
   "id": "5f05104d",
   "metadata": {
    "execution": {
     "iopub.execute_input": "2022-10-29T16:26:53.828797Z",
     "iopub.status.busy": "2022-10-29T16:26:53.828356Z",
     "iopub.status.idle": "2022-10-29T16:26:53.841502Z",
     "shell.execute_reply": "2022-10-29T16:26:53.840623Z"
    },
    "papermill": {
     "duration": 0.028807,
     "end_time": "2022-10-29T16:26:53.844664",
     "exception": false,
     "start_time": "2022-10-29T16:26:53.815857",
     "status": "completed"
    },
    "tags": []
   },
   "outputs": [],
   "source": [
    "def entrenamiento_pca_ext_caracteristicas(model, n_comp, n_sets, X, Y):\n",
    "    \"\"\"\n",
    "    Esta función realiza la reducción de la dimensionalidad sobre el conjunto de\n",
    "    datos de entrenamiento, de acuerdo con las particiones especificadas usando PCA\n",
    "\n",
    "    Argumentos:\n",
    "        n_comp, int, Número de componentes para reducción\n",
    "        n_sets,int, Número de particiones\n",
    "        X: numpy Array de características\n",
    "        Y: numpy Array  Vector de etiquetas\n",
    "\n",
    "    Retorna: \n",
    "        El valor medio de la medida de rendimiento.\n",
    "        La desviación estandar de la medida de rendimiento.\n",
    "        El  valor medio del tiempo de ejecución.\n",
    "    \"\"\"  \n",
    "    #Implemetamos la metodología de validación \n",
    "    rendimiento = np.ones(n_sets)\n",
    "    tiempos = np.ones(n_sets)\n",
    "    j = 0\n",
    "    kf = StratifiedKFold(n_splits=n_sets)\n",
    "    for train_index, test_index in kf.split(X, Y):  \n",
    "        X_train, X_test = X[train_index], X[test_index]\n",
    "        y_train, y_test = Y[train_index], Y[test_index]       \n",
    "        \n",
    "        # Sejar el mismo nombre del objeto.\n",
    "        # SOLO vamos a usar el parametro que define\n",
    "        # el # de componentes.\n",
    "        pca =PCA(n_components=n_comp)\n",
    "        # definimos un clasificador.\n",
    "        clf = model\n",
    "        # ¿es necesario estandarizacion de datos?\n",
    "        definicion_pipeline = [\n",
    "           ('scaler', StandardScaler()), \n",
    "           ('pca',pca),\n",
    "           ('Model', clf)\n",
    "        ]\n",
    "        pipeline = Pipeline(definicion_pipeline)\n",
    "        # para calcular costo computacional\n",
    "        tiempo_i = time.time()\n",
    "        pipeline=pipeline.fit(X=X_train, y=y_train)\n",
    "        tiempo_o = time.time()-tiempo_i\n",
    "        y_pred=pipeline.predict(X=X_test)\n",
    "        rendimiento[j] =f1_score(y_true=y_test, y_pred=y_pred)\n",
    "        tiempos[j] = tiempo_o\n",
    "        j+=1\n",
    "\n",
    "\n",
    "    return np.mean(rendimiento), np.std(rendimiento), np.mean(tiempos)"
   ]
  },
  {
   "cell_type": "markdown",
   "id": "b3b9c7e5",
   "metadata": {
    "papermill": {
     "duration": 0.012172,
     "end_time": "2022-10-29T16:26:53.870050",
     "exception": false,
     "start_time": "2022-10-29T16:26:53.857878",
     "status": "completed"
    },
    "tags": []
   },
   "source": [
    "# Realizar experimentos\n",
    "Se realizan diferentes evaluaciones para validar la efectividad del PCA"
   ]
  },
  {
   "cell_type": "code",
   "execution_count": 10,
   "id": "e916b5fb",
   "metadata": {
    "execution": {
     "iopub.execute_input": "2022-10-29T16:26:53.895653Z",
     "iopub.status.busy": "2022-10-29T16:26:53.894766Z",
     "iopub.status.idle": "2022-10-29T16:26:53.902342Z",
     "shell.execute_reply": "2022-10-29T16:26:53.901570Z"
    },
    "papermill": {
     "duration": 0.023513,
     "end_time": "2022-10-29T16:26:53.904275",
     "exception": false,
     "start_time": "2022-10-29T16:26:53.880762",
     "status": "completed"
    },
    "tags": []
   },
   "outputs": [],
   "source": [
    "def experimentar_PCA(model, n_feats, X, Y):\n",
    "    \"\"\"\n",
    "    Esta función realiza la comparación del desempeño de RFE utilizando diferente \n",
    "    número de feats y particionando el conjunto de datos en diferente número de \n",
    "    subconjuntos\n",
    "\n",
    "    Parámetros:\n",
    "        X (numpy.array), El arreglo numpy de características\n",
    "        Y (numpy.array), El vector de etiquetas\n",
    "        n_feats, Vector de números enteros que indica el número de características\n",
    "                que debe utilizar el modelo\n",
    "        n_sets, Vector de números enteros que indica el número de particiones\n",
    "\n",
    "    Retorna:  \n",
    "        - DataFrame con las columnas\n",
    "    \"\"\"\n",
    "    df = pd.DataFrame()\n",
    "    idx = 0\n",
    "    split_number = 5\n",
    "    #Con selección de características\n",
    "    \n",
    "    for f in n_feats:\n",
    "        #Implemetamos la metodología de validación \n",
    "        rendimiento,rendimiento_std,t_ex = entrenamiento_pca_ext_caracteristicas(model, n_comp=f, n_sets=split_number, X=X ,Y=Y)\n",
    "        df.loc[idx,'NUM_VAR'] = f\n",
    "        df.loc[idx,'T_EJECUCION'] = t_ex\n",
    "        df.loc[idx,'RENDIMIENTO_VALIDACION'] =rendimiento\n",
    "        df.loc[idx, 'RENDIMIENTO_VALIDACION_STD'] = rendimiento_std\n",
    "        idx+=1\n",
    "    return df"
   ]
  },
  {
   "cell_type": "markdown",
   "id": "2ecb3e77",
   "metadata": {
    "papermill": {
     "duration": 0.008804,
     "end_time": "2022-10-29T16:26:53.922532",
     "exception": false,
     "start_time": "2022-10-29T16:26:53.913728",
     "status": "completed"
    },
    "tags": []
   },
   "source": [
    "# Probando con diferente número de características\n",
    "Se utiliza el modelo QuadraticDiscriminantAnalysis() para evaluar con 3, 6, 9 y 14 características con la función anterior, además se usan los array creados a partir del dataset"
   ]
  },
  {
   "cell_type": "code",
   "execution_count": 11,
   "id": "cf5adc19",
   "metadata": {
    "execution": {
     "iopub.execute_input": "2022-10-29T16:26:53.942470Z",
     "iopub.status.busy": "2022-10-29T16:26:53.942062Z",
     "iopub.status.idle": "2022-10-29T17:21:17.559094Z",
     "shell.execute_reply": "2022-10-29T17:21:17.557700Z"
    },
    "papermill": {
     "duration": 3263.629965,
     "end_time": "2022-10-29T17:21:17.561852",
     "exception": false,
     "start_time": "2022-10-29T16:26:53.931887",
     "status": "completed"
    },
    "tags": []
   },
   "outputs": [],
   "source": [
    "resultados = experimentar_PCA(model, n_feats=[3,6,9,14], X= array_data_x, Y = array_data_y)"
   ]
  },
  {
   "cell_type": "markdown",
   "id": "cdccbb07",
   "metadata": {
    "papermill": {
     "duration": 0.008867,
     "end_time": "2022-10-29T17:21:17.580783",
     "exception": false,
     "start_time": "2022-10-29T17:21:17.571916",
     "status": "completed"
    },
    "tags": []
   },
   "source": [
    "# Se exporta los resultado a un archivo .csv"
   ]
  },
  {
   "cell_type": "code",
   "execution_count": 12,
   "id": "7662cca3",
   "metadata": {
    "execution": {
     "iopub.execute_input": "2022-10-29T17:21:17.600580Z",
     "iopub.status.busy": "2022-10-29T17:21:17.600167Z",
     "iopub.status.idle": "2022-10-29T17:21:17.607813Z",
     "shell.execute_reply": "2022-10-29T17:21:17.606780Z"
    },
    "papermill": {
     "duration": 0.020315,
     "end_time": "2022-10-29T17:21:17.610060",
     "exception": false,
     "start_time": "2022-10-29T17:21:17.589745",
     "status": "completed"
    },
    "tags": []
   },
   "outputs": [],
   "source": [
    "resultados.to_csv(\"resultados_pca_gradient_boosting.csv\", encoding=\"utf-8\")"
   ]
  },
  {
   "cell_type": "markdown",
   "id": "133a8764",
   "metadata": {
    "papermill": {
     "duration": 0.008797,
     "end_time": "2022-10-29T17:21:17.628500",
     "exception": false,
     "start_time": "2022-10-29T17:21:17.619703",
     "status": "completed"
    },
    "tags": []
   },
   "source": [
    "# Se cargan los resultados"
   ]
  },
  {
   "cell_type": "code",
   "execution_count": 13,
   "id": "207d2b0d",
   "metadata": {
    "execution": {
     "iopub.execute_input": "2022-10-29T17:21:17.648101Z",
     "iopub.status.busy": "2022-10-29T17:21:17.647696Z",
     "iopub.status.idle": "2022-10-29T17:21:17.673723Z",
     "shell.execute_reply": "2022-10-29T17:21:17.672939Z"
    },
    "papermill": {
     "duration": 0.038551,
     "end_time": "2022-10-29T17:21:17.675978",
     "exception": false,
     "start_time": "2022-10-29T17:21:17.637427",
     "status": "completed"
    },
    "tags": []
   },
   "outputs": [
    {
     "data": {
      "text/html": [
       "<div>\n",
       "<style scoped>\n",
       "    .dataframe tbody tr th:only-of-type {\n",
       "        vertical-align: middle;\n",
       "    }\n",
       "\n",
       "    .dataframe tbody tr th {\n",
       "        vertical-align: top;\n",
       "    }\n",
       "\n",
       "    .dataframe thead th {\n",
       "        text-align: right;\n",
       "    }\n",
       "</style>\n",
       "<table border=\"1\" class=\"dataframe\">\n",
       "  <thead>\n",
       "    <tr style=\"text-align: right;\">\n",
       "      <th></th>\n",
       "      <th>NUM_VAR</th>\n",
       "      <th>T_EJECUCION</th>\n",
       "      <th>RENDIMIENTO_VALIDACION</th>\n",
       "      <th>RENDIMIENTO_VALIDACION_STD</th>\n",
       "    </tr>\n",
       "  </thead>\n",
       "  <tbody>\n",
       "    <tr>\n",
       "      <th>0</th>\n",
       "      <td>3.0</td>\n",
       "      <td>71.449272</td>\n",
       "      <td>0.076110</td>\n",
       "      <td>0.011209</td>\n",
       "    </tr>\n",
       "    <tr>\n",
       "      <th>1</th>\n",
       "      <td>6.0</td>\n",
       "      <td>136.784317</td>\n",
       "      <td>0.114954</td>\n",
       "      <td>0.008772</td>\n",
       "    </tr>\n",
       "    <tr>\n",
       "      <th>2</th>\n",
       "      <td>9.0</td>\n",
       "      <td>202.142666</td>\n",
       "      <td>0.121185</td>\n",
       "      <td>0.008177</td>\n",
       "    </tr>\n",
       "    <tr>\n",
       "      <th>3</th>\n",
       "      <td>14.0</td>\n",
       "      <td>291.396291</td>\n",
       "      <td>0.124006</td>\n",
       "      <td>0.009610</td>\n",
       "    </tr>\n",
       "  </tbody>\n",
       "</table>\n",
       "</div>"
      ],
      "text/plain": [
       "   NUM_VAR  T_EJECUCION  RENDIMIENTO_VALIDACION  RENDIMIENTO_VALIDACION_STD\n",
       "0      3.0    71.449272                0.076110                    0.011209\n",
       "1      6.0   136.784317                0.114954                    0.008772\n",
       "2      9.0   202.142666                0.121185                    0.008177\n",
       "3     14.0   291.396291                0.124006                    0.009610"
      ]
     },
     "execution_count": 13,
     "metadata": {},
     "output_type": "execute_result"
    }
   ],
   "source": [
    "resultados = pd.read_csv(\"/kaggle/input/pca-gradient-boosting/resultados_pca_gradient_boosting.csv\")\n",
    "resultados=resultados.drop([\"Unnamed: 0\"],axis=1)\n",
    "resultados"
   ]
  },
  {
   "cell_type": "markdown",
   "id": "691d7625",
   "metadata": {
    "papermill": {
     "duration": 0.009212,
     "end_time": "2022-10-29T17:21:17.694640",
     "exception": false,
     "start_time": "2022-10-29T17:21:17.685428",
     "status": "completed"
    },
    "tags": []
   },
   "source": [
    "# Gráficas de rendimiento"
   ]
  },
  {
   "cell_type": "markdown",
   "id": "c0081635",
   "metadata": {
    "papermill": {
     "duration": 0.008957,
     "end_time": "2022-10-29T17:21:17.713032",
     "exception": false,
     "start_time": "2022-10-29T17:21:17.704075",
     "status": "completed"
    },
    "tags": []
   },
   "source": [
    "## Se grafica el número de variable respecto al rendimiento que tuvieron"
   ]
  },
  {
   "cell_type": "code",
   "execution_count": 14,
   "id": "84efeae1",
   "metadata": {
    "execution": {
     "iopub.execute_input": "2022-10-29T17:21:17.733664Z",
     "iopub.status.busy": "2022-10-29T17:21:17.732988Z",
     "iopub.status.idle": "2022-10-29T17:21:17.973657Z",
     "shell.execute_reply": "2022-10-29T17:21:17.972501Z"
    },
    "papermill": {
     "duration": 0.25399,
     "end_time": "2022-10-29T17:21:17.976213",
     "exception": false,
     "start_time": "2022-10-29T17:21:17.722223",
     "status": "completed"
    },
    "tags": []
   },
   "outputs": [
    {
     "data": {
      "image/png": "[encoded data removed]",
      "text/plain": [
       "<Figure size 432x288 with 1 Axes>"
      ]
     },
     "metadata": {
      "needs_background": "light"
     },
     "output_type": "display_data"
    }
   ],
   "source": [
    "sns.lineplot(data=resultados,x=\"NUM_VAR\",y=\"RENDIMIENTO_VALIDACION\")\n",
    "plt.show()"
   ]
  },
  {
   "cell_type": "markdown",
   "id": "7d3fa2a6",
   "metadata": {
    "papermill": {
     "duration": 0.009511,
     "end_time": "2022-10-29T17:21:17.995628",
     "exception": false,
     "start_time": "2022-10-29T17:21:17.986117",
     "status": "completed"
    },
    "tags": []
   },
   "source": [
    "## Se grafica el número de variable respecto al tiempo de ejecución que tuvieron"
   ]
  },
  {
   "cell_type": "code",
   "execution_count": 15,
   "id": "bde2d9f8",
   "metadata": {
    "execution": {
     "iopub.execute_input": "2022-10-29T17:21:18.016297Z",
     "iopub.status.busy": "2022-10-29T17:21:18.015918Z",
     "iopub.status.idle": "2022-10-29T17:21:18.214301Z",
     "shell.execute_reply": "2022-10-29T17:21:18.213215Z"
    },
    "papermill": {
     "duration": 0.211227,
     "end_time": "2022-10-29T17:21:18.216378",
     "exception": false,
     "start_time": "2022-10-29T17:21:18.005151",
     "status": "completed"
    },
    "tags": []
   },
   "outputs": [
    {
     "data": {
      "image/png": "[encoded data removed]",
      "text/plain": [
       "<Figure size 432x288 with 1 Axes>"
      ]
     },
     "metadata": {
      "needs_background": "light"
     },
     "output_type": "display_data"
    }
   ],
   "source": [
    "sns.lineplot(data=resultados,x=\"NUM_VAR\",y=\"T_EJECUCION\")\n",
    "plt.show()"
   ]
  },
  {
   "cell_type": "markdown",
   "id": "828fca8d",
   "metadata": {
    "papermill": {
     "duration": 0.009496,
     "end_time": "2022-10-29T17:21:18.235577",
     "exception": false,
     "start_time": "2022-10-29T17:21:18.226081",
     "status": "completed"
    },
    "tags": []
   },
   "source": [
    "# Ordenar los resultados"
   ]
  },
  {
   "cell_type": "markdown",
   "id": "b8f4fb68",
   "metadata": {
    "papermill": {
     "duration": 0.009217,
     "end_time": "2022-10-29T17:21:18.254358",
     "exception": false,
     "start_time": "2022-10-29T17:21:18.245141",
     "status": "completed"
    },
    "tags": []
   },
   "source": [
    "## Se ordenan los resultados de forma descendente para ver cuál fue el número de componentes con mejor rendimiento"
   ]
  },
  {
   "cell_type": "code",
   "execution_count": 16,
   "id": "fb372d95",
   "metadata": {
    "execution": {
     "iopub.execute_input": "2022-10-29T17:21:18.276048Z",
     "iopub.status.busy": "2022-10-29T17:21:18.275673Z",
     "iopub.status.idle": "2022-10-29T17:21:18.288712Z",
     "shell.execute_reply": "2022-10-29T17:21:18.287339Z"
    },
    "papermill": {
     "duration": 0.02642,
     "end_time": "2022-10-29T17:21:18.290767",
     "exception": false,
     "start_time": "2022-10-29T17:21:18.264347",
     "status": "completed"
    },
    "tags": []
   },
   "outputs": [
    {
     "data": {
      "text/html": [
       "<div>\n",
       "<style scoped>\n",
       "    .dataframe tbody tr th:only-of-type {\n",
       "        vertical-align: middle;\n",
       "    }\n",
       "\n",
       "    .dataframe tbody tr th {\n",
       "        vertical-align: top;\n",
       "    }\n",
       "\n",
       "    .dataframe thead th {\n",
       "        text-align: right;\n",
       "    }\n",
       "</style>\n",
       "<table border=\"1\" class=\"dataframe\">\n",
       "  <thead>\n",
       "    <tr style=\"text-align: right;\">\n",
       "      <th></th>\n",
       "      <th>NUM_VAR</th>\n",
       "      <th>T_EJECUCION</th>\n",
       "      <th>RENDIMIENTO_VALIDACION</th>\n",
       "      <th>RENDIMIENTO_VALIDACION_STD</th>\n",
       "    </tr>\n",
       "  </thead>\n",
       "  <tbody>\n",
       "    <tr>\n",
       "      <th>3</th>\n",
       "      <td>14.0</td>\n",
       "      <td>291.396291</td>\n",
       "      <td>0.124006</td>\n",
       "      <td>0.009610</td>\n",
       "    </tr>\n",
       "    <tr>\n",
       "      <th>2</th>\n",
       "      <td>9.0</td>\n",
       "      <td>202.142666</td>\n",
       "      <td>0.121185</td>\n",
       "      <td>0.008177</td>\n",
       "    </tr>\n",
       "    <tr>\n",
       "      <th>1</th>\n",
       "      <td>6.0</td>\n",
       "      <td>136.784317</td>\n",
       "      <td>0.114954</td>\n",
       "      <td>0.008772</td>\n",
       "    </tr>\n",
       "    <tr>\n",
       "      <th>0</th>\n",
       "      <td>3.0</td>\n",
       "      <td>71.449272</td>\n",
       "      <td>0.076110</td>\n",
       "      <td>0.011209</td>\n",
       "    </tr>\n",
       "  </tbody>\n",
       "</table>\n",
       "</div>"
      ],
      "text/plain": [
       "   NUM_VAR  T_EJECUCION  RENDIMIENTO_VALIDACION  RENDIMIENTO_VALIDACION_STD\n",
       "3     14.0   291.396291                0.124006                    0.009610\n",
       "2      9.0   202.142666                0.121185                    0.008177\n",
       "1      6.0   136.784317                0.114954                    0.008772\n",
       "0      3.0    71.449272                0.076110                    0.011209"
      ]
     },
     "execution_count": 16,
     "metadata": {},
     "output_type": "execute_result"
    }
   ],
   "source": [
    "resultados.sort_values(by ='RENDIMIENTO_VALIDACION', ascending =False)"
   ]
  },
  {
   "cell_type": "markdown",
   "id": "41aa0c07",
   "metadata": {
    "papermill": {
     "duration": 0.009946,
     "end_time": "2022-10-29T17:21:18.310898",
     "exception": false,
     "start_time": "2022-10-29T17:21:18.300952",
     "status": "completed"
    },
    "tags": []
   },
   "source": [
    "## Se ordenan los resultados de forma ascendente para ver cuál fue el número de componentes con menor tiempo de ejecución"
   ]
  },
  {
   "cell_type": "code",
   "execution_count": 17,
   "id": "e886d038",
   "metadata": {
    "execution": {
     "iopub.execute_input": "2022-10-29T17:21:18.332543Z",
     "iopub.status.busy": "2022-10-29T17:21:18.332192Z",
     "iopub.status.idle": "2022-10-29T17:21:18.343850Z",
     "shell.execute_reply": "2022-10-29T17:21:18.342692Z"
    },
    "papermill": {
     "duration": 0.02514,
     "end_time": "2022-10-29T17:21:18.346117",
     "exception": false,
     "start_time": "2022-10-29T17:21:18.320977",
     "status": "completed"
    },
    "tags": []
   },
   "outputs": [
    {
     "data": {
      "text/html": [
       "<div>\n",
       "<style scoped>\n",
       "    .dataframe tbody tr th:only-of-type {\n",
       "        vertical-align: middle;\n",
       "    }\n",
       "\n",
       "    .dataframe tbody tr th {\n",
       "        vertical-align: top;\n",
       "    }\n",
       "\n",
       "    .dataframe thead th {\n",
       "        text-align: right;\n",
       "    }\n",
       "</style>\n",
       "<table border=\"1\" class=\"dataframe\">\n",
       "  <thead>\n",
       "    <tr style=\"text-align: right;\">\n",
       "      <th></th>\n",
       "      <th>NUM_VAR</th>\n",
       "      <th>T_EJECUCION</th>\n",
       "      <th>RENDIMIENTO_VALIDACION</th>\n",
       "      <th>RENDIMIENTO_VALIDACION_STD</th>\n",
       "    </tr>\n",
       "  </thead>\n",
       "  <tbody>\n",
       "    <tr>\n",
       "      <th>0</th>\n",
       "      <td>3.0</td>\n",
       "      <td>71.449272</td>\n",
       "      <td>0.076110</td>\n",
       "      <td>0.011209</td>\n",
       "    </tr>\n",
       "    <tr>\n",
       "      <th>1</th>\n",
       "      <td>6.0</td>\n",
       "      <td>136.784317</td>\n",
       "      <td>0.114954</td>\n",
       "      <td>0.008772</td>\n",
       "    </tr>\n",
       "    <tr>\n",
       "      <th>2</th>\n",
       "      <td>9.0</td>\n",
       "      <td>202.142666</td>\n",
       "      <td>0.121185</td>\n",
       "      <td>0.008177</td>\n",
       "    </tr>\n",
       "    <tr>\n",
       "      <th>3</th>\n",
       "      <td>14.0</td>\n",
       "      <td>291.396291</td>\n",
       "      <td>0.124006</td>\n",
       "      <td>0.009610</td>\n",
       "    </tr>\n",
       "  </tbody>\n",
       "</table>\n",
       "</div>"
      ],
      "text/plain": [
       "   NUM_VAR  T_EJECUCION  RENDIMIENTO_VALIDACION  RENDIMIENTO_VALIDACION_STD\n",
       "0      3.0    71.449272                0.076110                    0.011209\n",
       "1      6.0   136.784317                0.114954                    0.008772\n",
       "2      9.0   202.142666                0.121185                    0.008177\n",
       "3     14.0   291.396291                0.124006                    0.009610"
      ]
     },
     "execution_count": 17,
     "metadata": {},
     "output_type": "execute_result"
    }
   ],
   "source": [
    "resultados.sort_values(by ='T_EJECUCION', ascending =True)"
   ]
  },
  {
   "cell_type": "markdown",
   "id": "bd2680bb",
   "metadata": {
    "papermill": {
     "duration": 0.010104,
     "end_time": "2022-10-29T17:21:18.366255",
     "exception": false,
     "start_time": "2022-10-29T17:21:18.356151",
     "status": "completed"
    },
    "tags": []
   },
   "source": [
    "# Función con el número de componentes seleccionada"
   ]
  },
  {
   "cell_type": "markdown",
   "id": "4748a4b7",
   "metadata": {
    "papermill": {
     "duration": 0.009994,
     "end_time": "2022-10-29T17:21:18.386636",
     "exception": false,
     "start_time": "2022-10-29T17:21:18.376642",
     "status": "completed"
    },
    "tags": []
   },
   "source": [
    "Se obtiene el rendimiento de entrenamiento y prueba con el número de componente seleccionada"
   ]
  },
  {
   "cell_type": "code",
   "execution_count": 18,
   "id": "72569374",
   "metadata": {
    "execution": {
     "iopub.execute_input": "2022-10-29T17:21:18.409788Z",
     "iopub.status.busy": "2022-10-29T17:21:18.408996Z",
     "iopub.status.idle": "2022-10-29T17:21:18.418691Z",
     "shell.execute_reply": "2022-10-29T17:21:18.417655Z"
    },
    "papermill": {
     "duration": 0.023775,
     "end_time": "2022-10-29T17:21:18.421042",
     "exception": false,
     "start_time": "2022-10-29T17:21:18.397267",
     "status": "completed"
    },
    "tags": []
   },
   "outputs": [],
   "source": [
    "def entrenamiento_num_caracteristica_seleccionada(model, n_comp, X, Y, Xreal, Yreal):\n",
    "    X_train, X_test, y_train, y_test = train_test_split(X,\n",
    "                                               Y,\n",
    "                                               test_size=0.3,\n",
    "                                               random_state=50) \n",
    "\n",
    "    \n",
    "    pca =PCA(n_components=n_comp)\n",
    "    Xreal = pca.fit_transform(Xreal)\n",
    "    # definimos un clasificador.\n",
    "    clf = model\n",
    "    # ¿es necesario estandarizacion de datos?\n",
    "    definicion_pipeline = [\n",
    "       ('pca',pca),\n",
    "       ('Model', clf)\n",
    "    ]\n",
    "    pipeline = Pipeline(definicion_pipeline)\n",
    "    # para calcular costo computacional\n",
    "    pipeline=pipeline.fit(X=X_train, y=y_train)\n",
    "    Ypred=pipeline.predict(X_test)\n",
    "    ## Rendimiento del entrenamiento del modelo\n",
    "    print(\"#####################Rendimiento después del entrenamiento#########################\")\n",
    "    print(f'Model: {str(model)}')\n",
    "    print(f'Accuracy Score: {accuracy_score(y_test,Ypred)}')\n",
    "    print(f'Precission Score: {precision_score(y_test,Ypred)}')\n",
    "    print(f'Recall Score: {recall_score(y_test,Ypred)}')\n",
    "    print(f'F1-Score: {f1_score(y_test,Ypred)}')\n",
    "    \n",
    "    print(\"==============================================\")\n",
    "    y_pred=model.predict(Xreal)\n",
    "    print(\"Accuracy:\",accuracy_score(Yreal, y_pred))\n",
    "    print(f'Precission Score: {precision_score(Yreal,y_pred)}')\n",
    "    print(f'Recall Score: {recall_score(Yreal,y_pred)}')\n",
    "    print(f'F1-Score: {f1_score(Yreal,y_pred)}')"
   ]
  },
  {
   "cell_type": "markdown",
   "id": "f504a193",
   "metadata": {
    "papermill": {
     "duration": 0.010195,
     "end_time": "2022-10-29T17:21:18.441572",
     "exception": false,
     "start_time": "2022-10-29T17:21:18.431377",
     "status": "completed"
    },
    "tags": []
   },
   "source": [
    "# Se carga la data a probar"
   ]
  },
  {
   "cell_type": "code",
   "execution_count": 19,
   "id": "41136579",
   "metadata": {
    "execution": {
     "iopub.execute_input": "2022-10-29T17:21:18.464756Z",
     "iopub.status.busy": "2022-10-29T17:21:18.464335Z",
     "iopub.status.idle": "2022-10-29T17:21:18.490831Z",
     "shell.execute_reply": "2022-10-29T17:21:18.489758Z"
    },
    "papermill": {
     "duration": 0.041038,
     "end_time": "2022-10-29T17:21:18.493283",
     "exception": false,
     "start_time": "2022-10-29T17:21:18.452245",
     "status": "completed"
    },
    "tags": []
   },
   "outputs": [
    {
     "data": {
      "text/html": [
       "<div>\n",
       "<style scoped>\n",
       "    .dataframe tbody tr th:only-of-type {\n",
       "        vertical-align: middle;\n",
       "    }\n",
       "\n",
       "    .dataframe tbody tr th {\n",
       "        vertical-align: top;\n",
       "    }\n",
       "\n",
       "    .dataframe thead th {\n",
       "        text-align: right;\n",
       "    }\n",
       "</style>\n",
       "<table border=\"1\" class=\"dataframe\">\n",
       "  <thead>\n",
       "    <tr style=\"text-align: right;\">\n",
       "      <th></th>\n",
       "      <th>HeartDisease</th>\n",
       "      <th>BMI</th>\n",
       "      <th>Smoking</th>\n",
       "      <th>AlcoholDrinking</th>\n",
       "      <th>Stroke</th>\n",
       "      <th>PhysicalHealth</th>\n",
       "      <th>MentalHealth</th>\n",
       "      <th>DiffWalking</th>\n",
       "      <th>Sex</th>\n",
       "      <th>AgeCategory</th>\n",
       "      <th>Diabetic</th>\n",
       "      <th>PhysicalActivity</th>\n",
       "      <th>GenHealth</th>\n",
       "      <th>SleepTime</th>\n",
       "      <th>Asthma</th>\n",
       "      <th>KidneyDisease</th>\n",
       "      <th>SkinCancer</th>\n",
       "    </tr>\n",
       "  </thead>\n",
       "  <tbody>\n",
       "    <tr>\n",
       "      <th>0</th>\n",
       "      <td>0</td>\n",
       "      <td>19,7</td>\n",
       "      <td>0</td>\n",
       "      <td>0</td>\n",
       "      <td>0</td>\n",
       "      <td>0</td>\n",
       "      <td>0</td>\n",
       "      <td>0</td>\n",
       "      <td>8</td>\n",
       "      <td>10</td>\n",
       "      <td>0</td>\n",
       "      <td>0</td>\n",
       "      <td>5</td>\n",
       "      <td>6</td>\n",
       "      <td>0</td>\n",
       "      <td>0</td>\n",
       "      <td>0</td>\n",
       "    </tr>\n",
       "    <tr>\n",
       "      <th>1</th>\n",
       "      <td>0</td>\n",
       "      <td>22,8</td>\n",
       "      <td>0</td>\n",
       "      <td>0</td>\n",
       "      <td>0</td>\n",
       "      <td>0</td>\n",
       "      <td>0</td>\n",
       "      <td>0</td>\n",
       "      <td>8</td>\n",
       "      <td>10</td>\n",
       "      <td>0</td>\n",
       "      <td>1</td>\n",
       "      <td>5</td>\n",
       "      <td>6</td>\n",
       "      <td>1</td>\n",
       "      <td>0</td>\n",
       "      <td>0</td>\n",
       "    </tr>\n",
       "    <tr>\n",
       "      <th>2</th>\n",
       "      <td>1</td>\n",
       "      <td>28,8</td>\n",
       "      <td>1</td>\n",
       "      <td>0</td>\n",
       "      <td>1</td>\n",
       "      <td>25</td>\n",
       "      <td>28</td>\n",
       "      <td>1</td>\n",
       "      <td>9</td>\n",
       "      <td>20</td>\n",
       "      <td>1</td>\n",
       "      <td>0</td>\n",
       "      <td>3</td>\n",
       "      <td>9</td>\n",
       "      <td>0</td>\n",
       "      <td>1</td>\n",
       "      <td>0</td>\n",
       "    </tr>\n",
       "    <tr>\n",
       "      <th>3</th>\n",
       "      <td>0</td>\n",
       "      <td>23</td>\n",
       "      <td>0</td>\n",
       "      <td>0</td>\n",
       "      <td>0</td>\n",
       "      <td>0</td>\n",
       "      <td>0</td>\n",
       "      <td>0</td>\n",
       "      <td>9</td>\n",
       "      <td>10</td>\n",
       "      <td>0</td>\n",
       "      <td>0</td>\n",
       "      <td>6</td>\n",
       "      <td>6</td>\n",
       "      <td>0</td>\n",
       "      <td>0</td>\n",
       "      <td>0</td>\n",
       "    </tr>\n",
       "    <tr>\n",
       "      <th>4</th>\n",
       "      <td>1</td>\n",
       "      <td>32,4</td>\n",
       "      <td>0</td>\n",
       "      <td>1</td>\n",
       "      <td>1</td>\n",
       "      <td>30</td>\n",
       "      <td>15</td>\n",
       "      <td>1</td>\n",
       "      <td>8</td>\n",
       "      <td>18</td>\n",
       "      <td>1</td>\n",
       "      <td>0</td>\n",
       "      <td>4</td>\n",
       "      <td>4</td>\n",
       "      <td>1</td>\n",
       "      <td>1</td>\n",
       "      <td>1</td>\n",
       "    </tr>\n",
       "    <tr>\n",
       "      <th>5</th>\n",
       "      <td>0</td>\n",
       "      <td>22,4</td>\n",
       "      <td>0</td>\n",
       "      <td>1</td>\n",
       "      <td>0</td>\n",
       "      <td>10</td>\n",
       "      <td>7</td>\n",
       "      <td>0</td>\n",
       "      <td>8</td>\n",
       "      <td>15</td>\n",
       "      <td>1</td>\n",
       "      <td>1</td>\n",
       "      <td>4</td>\n",
       "      <td>8</td>\n",
       "      <td>0</td>\n",
       "      <td>0</td>\n",
       "      <td>0</td>\n",
       "    </tr>\n",
       "    <tr>\n",
       "      <th>6</th>\n",
       "      <td>0</td>\n",
       "      <td>21,6</td>\n",
       "      <td>0</td>\n",
       "      <td>0</td>\n",
       "      <td>0</td>\n",
       "      <td>20</td>\n",
       "      <td>8</td>\n",
       "      <td>0</td>\n",
       "      <td>8</td>\n",
       "      <td>10</td>\n",
       "      <td>0</td>\n",
       "      <td>0</td>\n",
       "      <td>3</td>\n",
       "      <td>5</td>\n",
       "      <td>1</td>\n",
       "      <td>0</td>\n",
       "      <td>0</td>\n",
       "    </tr>\n",
       "    <tr>\n",
       "      <th>7</th>\n",
       "      <td>0</td>\n",
       "      <td>29,7</td>\n",
       "      <td>0</td>\n",
       "      <td>0</td>\n",
       "      <td>0</td>\n",
       "      <td>7</td>\n",
       "      <td>0</td>\n",
       "      <td>0</td>\n",
       "      <td>8</td>\n",
       "      <td>10</td>\n",
       "      <td>0</td>\n",
       "      <td>0</td>\n",
       "      <td>3</td>\n",
       "      <td>6</td>\n",
       "      <td>1</td>\n",
       "      <td>0</td>\n",
       "      <td>0</td>\n",
       "    </tr>\n",
       "    <tr>\n",
       "      <th>8</th>\n",
       "      <td>1</td>\n",
       "      <td>30,5</td>\n",
       "      <td>1</td>\n",
       "      <td>1</td>\n",
       "      <td>1</td>\n",
       "      <td>20</td>\n",
       "      <td>0</td>\n",
       "      <td>1</td>\n",
       "      <td>9</td>\n",
       "      <td>12</td>\n",
       "      <td>1</td>\n",
       "      <td>0</td>\n",
       "      <td>2</td>\n",
       "      <td>4</td>\n",
       "      <td>0</td>\n",
       "      <td>1</td>\n",
       "      <td>0</td>\n",
       "    </tr>\n",
       "    <tr>\n",
       "      <th>9</th>\n",
       "      <td>1</td>\n",
       "      <td>34,8</td>\n",
       "      <td>0</td>\n",
       "      <td>1</td>\n",
       "      <td>0</td>\n",
       "      <td>5</td>\n",
       "      <td>3</td>\n",
       "      <td>1</td>\n",
       "      <td>8</td>\n",
       "      <td>21</td>\n",
       "      <td>0</td>\n",
       "      <td>0</td>\n",
       "      <td>3</td>\n",
       "      <td>8</td>\n",
       "      <td>1</td>\n",
       "      <td>0</td>\n",
       "      <td>1</td>\n",
       "    </tr>\n",
       "    <tr>\n",
       "      <th>10</th>\n",
       "      <td>0</td>\n",
       "      <td>23,7</td>\n",
       "      <td>0</td>\n",
       "      <td>0</td>\n",
       "      <td>0</td>\n",
       "      <td>0</td>\n",
       "      <td>5</td>\n",
       "      <td>0</td>\n",
       "      <td>9</td>\n",
       "      <td>10</td>\n",
       "      <td>0</td>\n",
       "      <td>1</td>\n",
       "      <td>5</td>\n",
       "      <td>6</td>\n",
       "      <td>0</td>\n",
       "      <td>0</td>\n",
       "      <td>0</td>\n",
       "    </tr>\n",
       "    <tr>\n",
       "      <th>11</th>\n",
       "      <td>0</td>\n",
       "      <td>18,4</td>\n",
       "      <td>0</td>\n",
       "      <td>0</td>\n",
       "      <td>0</td>\n",
       "      <td>0</td>\n",
       "      <td>10</td>\n",
       "      <td>0</td>\n",
       "      <td>9</td>\n",
       "      <td>10</td>\n",
       "      <td>0</td>\n",
       "      <td>1</td>\n",
       "      <td>5</td>\n",
       "      <td>6</td>\n",
       "      <td>0</td>\n",
       "      <td>0</td>\n",
       "      <td>0</td>\n",
       "    </tr>\n",
       "    <tr>\n",
       "      <th>12</th>\n",
       "      <td>1</td>\n",
       "      <td>29,8</td>\n",
       "      <td>0</td>\n",
       "      <td>0</td>\n",
       "      <td>1</td>\n",
       "      <td>23</td>\n",
       "      <td>24</td>\n",
       "      <td>1</td>\n",
       "      <td>8</td>\n",
       "      <td>20</td>\n",
       "      <td>1</td>\n",
       "      <td>0</td>\n",
       "      <td>2</td>\n",
       "      <td>9</td>\n",
       "      <td>1</td>\n",
       "      <td>1</td>\n",
       "      <td>0</td>\n",
       "    </tr>\n",
       "    <tr>\n",
       "      <th>13</th>\n",
       "      <td>1</td>\n",
       "      <td>28,5</td>\n",
       "      <td>1</td>\n",
       "      <td>1</td>\n",
       "      <td>1</td>\n",
       "      <td>28</td>\n",
       "      <td>26</td>\n",
       "      <td>1</td>\n",
       "      <td>9</td>\n",
       "      <td>21</td>\n",
       "      <td>1</td>\n",
       "      <td>0</td>\n",
       "      <td>3</td>\n",
       "      <td>8</td>\n",
       "      <td>1</td>\n",
       "      <td>0</td>\n",
       "      <td>1</td>\n",
       "    </tr>\n",
       "    <tr>\n",
       "      <th>14</th>\n",
       "      <td>1</td>\n",
       "      <td>33,5</td>\n",
       "      <td>0</td>\n",
       "      <td>0</td>\n",
       "      <td>1</td>\n",
       "      <td>27</td>\n",
       "      <td>30</td>\n",
       "      <td>1</td>\n",
       "      <td>8</td>\n",
       "      <td>21</td>\n",
       "      <td>1</td>\n",
       "      <td>0</td>\n",
       "      <td>2</td>\n",
       "      <td>10</td>\n",
       "      <td>1</td>\n",
       "      <td>1</td>\n",
       "      <td>0</td>\n",
       "    </tr>\n",
       "  </tbody>\n",
       "</table>\n",
       "</div>"
      ],
      "text/plain": [
       "    HeartDisease   BMI  Smoking  AlcoholDrinking  Stroke  PhysicalHealth  \\\n",
       "0              0  19,7        0                0       0               0   \n",
       "1              0  22,8        0                0       0               0   \n",
       "2              1  28,8        1                0       1              25   \n",
       "3              0    23        0                0       0               0   \n",
       "4              1  32,4        0                1       1              30   \n",
       "5              0  22,4        0                1       0              10   \n",
       "6              0  21,6        0                0       0              20   \n",
       "7              0  29,7        0                0       0               7   \n",
       "8              1  30,5        1                1       1              20   \n",
       "9              1  34,8        0                1       0               5   \n",
       "10             0  23,7        0                0       0               0   \n",
       "11             0  18,4        0                0       0               0   \n",
       "12             1  29,8        0                0       1              23   \n",
       "13             1  28,5        1                1       1              28   \n",
       "14             1  33,5        0                0       1              27   \n",
       "\n",
       "    MentalHealth  DiffWalking  Sex  AgeCategory  Diabetic  PhysicalActivity  \\\n",
       "0              0            0    8           10         0                 0   \n",
       "1              0            0    8           10         0                 1   \n",
       "2             28            1    9           20         1                 0   \n",
       "3              0            0    9           10         0                 0   \n",
       "4             15            1    8           18         1                 0   \n",
       "5              7            0    8           15         1                 1   \n",
       "6              8            0    8           10         0                 0   \n",
       "7              0            0    8           10         0                 0   \n",
       "8              0            1    9           12         1                 0   \n",
       "9              3            1    8           21         0                 0   \n",
       "10             5            0    9           10         0                 1   \n",
       "11            10            0    9           10         0                 1   \n",
       "12            24            1    8           20         1                 0   \n",
       "13            26            1    9           21         1                 0   \n",
       "14            30            1    8           21         1                 0   \n",
       "\n",
       "    GenHealth  SleepTime  Asthma  KidneyDisease  SkinCancer  \n",
       "0           5          6       0              0           0  \n",
       "1           5          6       1              0           0  \n",
       "2           3          9       0              1           0  \n",
       "3           6          6       0              0           0  \n",
       "4           4          4       1              1           1  \n",
       "5           4          8       0              0           0  \n",
       "6           3          5       1              0           0  \n",
       "7           3          6       1              0           0  \n",
       "8           2          4       0              1           0  \n",
       "9           3          8       1              0           1  \n",
       "10          5          6       0              0           0  \n",
       "11          5          6       0              0           0  \n",
       "12          2          9       1              1           0  \n",
       "13          3          8       1              0           1  \n",
       "14          2         10       1              1           0  "
      ]
     },
     "execution_count": 19,
     "metadata": {},
     "output_type": "execute_result"
    }
   ],
   "source": [
    "data_real=pd.read_csv('/kaggle/input/datosreales/DatosReales.csv')\n",
    "data_real"
   ]
  },
  {
   "cell_type": "markdown",
   "id": "914b9ba1",
   "metadata": {
    "papermill": {
     "duration": 0.010618,
     "end_time": "2022-10-29T17:21:18.515035",
     "exception": false,
     "start_time": "2022-10-29T17:21:18.504417",
     "status": "completed"
    },
    "tags": []
   },
   "source": [
    "# Se divide la data real"
   ]
  },
  {
   "cell_type": "code",
   "execution_count": 20,
   "id": "5c6d020b",
   "metadata": {
    "execution": {
     "iopub.execute_input": "2022-10-29T17:21:18.537958Z",
     "iopub.status.busy": "2022-10-29T17:21:18.537534Z",
     "iopub.status.idle": "2022-10-29T17:21:18.544413Z",
     "shell.execute_reply": "2022-10-29T17:21:18.543124Z"
    },
    "papermill": {
     "duration": 0.021126,
     "end_time": "2022-10-29T17:21:18.546583",
     "exception": false,
     "start_time": "2022-10-29T17:21:18.525457",
     "status": "completed"
    },
    "tags": []
   },
   "outputs": [],
   "source": [
    "X_real=data_real.iloc[:,1:]\n",
    "Y_real=data_real.iloc[:,0]\n",
    "X_real[\"BMI\"] = encoder.fit_transform(X_real[\"BMI\"])"
   ]
  },
  {
   "cell_type": "markdown",
   "id": "069f35d7",
   "metadata": {
    "papermill": {
     "duration": 0.010577,
     "end_time": "2022-10-29T17:21:18.567882",
     "exception": false,
     "start_time": "2022-10-29T17:21:18.557305",
     "status": "completed"
    },
    "tags": []
   },
   "source": [
    "# Se realiza el entrenamiento y validación con el número de componente seleccionado"
   ]
  },
  {
   "cell_type": "code",
   "execution_count": 21,
   "id": "81a5d278",
   "metadata": {
    "execution": {
     "iopub.execute_input": "2022-10-29T17:21:18.592446Z",
     "iopub.status.busy": "2022-10-29T17:21:18.592069Z",
     "iopub.status.idle": "2022-10-29T17:25:14.590846Z",
     "shell.execute_reply": "2022-10-29T17:25:14.589732Z"
    },
    "papermill": {
     "duration": 236.025748,
     "end_time": "2022-10-29T17:25:14.605020",
     "exception": false,
     "start_time": "2022-10-29T17:21:18.579272",
     "status": "completed"
    },
    "tags": []
   },
   "outputs": [
    {
     "name": "stdout",
     "output_type": "stream",
     "text": [
      "#####################Rendimiento después del entrenamiento#########################\n",
      "Model: GradientBoostingClassifier(n_estimators=150, random_state=0)\n",
      "Accuracy Score: 0.9156651622385057\n",
      "Precission Score: 0.5271739130434783\n",
      "Recall Score: 0.05957499078737256\n",
      "F1-Score: 0.10705220174373688\n",
      "==============================================\n",
      "Accuracy: 0.5333333333333333\n",
      "Precission Score: 0.0\n",
      "Recall Score: 0.0\n",
      "F1-Score: 0.0\n"
     ]
    },
    {
     "name": "stderr",
     "output_type": "stream",
     "text": [
      "/opt/conda/lib/python3.7/site-packages/sklearn/metrics/_classification.py:1318: UndefinedMetricWarning: Precision is ill-defined and being set to 0.0 due to no predicted samples. Use `zero_division` parameter to control this behavior.\n",
      "  _warn_prf(average, modifier, msg_start, len(result))\n"
     ]
    }
   ],
   "source": [
    "entrenamiento_num_caracteristica_seleccionada(model, n_comp=14, X= array_data_x, Y = array_data_y, Xreal=X_real, Yreal=Y_real)"
   ]
  },
  {
   "cell_type": "code",
   "execution_count": null,
   "id": "4172001e",
   "metadata": {
    "papermill": {
     "duration": 0.011081,
     "end_time": "2022-10-29T17:25:14.627506",
     "exception": false,
     "start_time": "2022-10-29T17:25:14.616425",
     "status": "completed"
    },
    "tags": []
   },
   "outputs": [],
   "source": []
  }
 ],
 "metadata": {
  "kernelspec": {
   "display_name": "Python 3",
   "language": "python",
   "name": "python3"
  },
  "language_info": {
   "codemirror_mode": {
    "name": "ipython",
    "version": 3
   },
   "file_extension": ".py",
   "mimetype": "text/x-python",
   "name": "python",
   "nbconvert_exporter": "python",
   "pygments_lexer": "ipython3",
   "version": "3.7.12"
  },
  "papermill": {
   "default_parameters": {},
   "duration": 3512.822685,
   "end_time": "2022-10-29T17:25:15.466606",
   "environment_variables": {},
   "exception": null,
   "input_path": "__notebook__.ipynb",
   "output_path": "__notebook__.ipynb",
   "parameters": {},
   "start_time": "2022-10-29T16:26:42.643921",
   "version": "2.3.4"
  }
 },
 "nbformat": 4,
 "nbformat_minor": 5
}
