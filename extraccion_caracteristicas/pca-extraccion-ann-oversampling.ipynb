{
 "cells": [
  {
   "cell_type": "code",
   "execution_count": 1,
   "id": "a05cdffd",
   "metadata": {
    "_cell_guid": "b1076dfc-b9ad-4769-8c92-a6c4dae69d19",
    "_uuid": "8f2839f25d086af736a60e9eeb907d3b93b6e0e5",
    "execution": {
     "iopub.execute_input": "2022-10-29T16:18:38.227504Z",
     "iopub.status.busy": "2022-10-29T16:18:38.226786Z",
     "iopub.status.idle": "2022-10-29T16:18:39.596877Z",
     "shell.execute_reply": "2022-10-29T16:18:39.595846Z"
    },
    "papermill": {
     "duration": 1.383113,
     "end_time": "2022-10-29T16:18:39.599622",
     "exception": false,
     "start_time": "2022-10-29T16:18:38.216509",
     "status": "completed"
    },
    "tags": []
   },
   "outputs": [
    {
     "name": "stdout",
     "output_type": "stream",
     "text": [
      "/kaggle/input/ann-pca/resultados_pca_ann.csv\n",
      "/kaggle/input/datasetmodified/dataset-modificado.csv\n",
      "/kaggle/input/datosreales/DatosReales.csv\n"
     ]
    }
   ],
   "source": [
    "# This Python 3 environment comes with many helpful analytics libraries installed\n",
    "# It is defined by the kaggle/python Docker image: https://github.com/kaggle/docker-python\n",
    "# For example, here's several helpful packages to load\n",
    "\n",
    "import numpy as np # linear algebra\n",
    "import pandas as pd # data processing, CSV file I/O (e.g. pd.read_csv)\n",
    "from sklearn.preprocessing import StandardScaler\n",
    "from sklearn.decomposition import PCA\n",
    "import matplotlib.pyplot as plt\n",
    "from sklearn.pipeline import Pipeline\n",
    "import time\n",
    "from sklearn.neural_network import MLPClassifier\n",
    "from sklearn.model_selection import train_test_split,StratifiedKFold,StratifiedShuffleSplit\n",
    "from sklearn.metrics import f1_score\n",
    "from imblearn.over_sampling import RandomOverSampler\n",
    "from sklearn.metrics import precision_score,recall_score,accuracy_score,f1_score,confusion_matrix,ConfusionMatrixDisplay\n",
    "import seaborn as sns\n",
    "import matplotlib.pyplot as plt\n",
    "from sklearn.preprocessing import LabelEncoder\n",
    "encoder = LabelEncoder()\n",
    "import seaborn as sns\n",
    "import matplotlib.pyplot as plt\n",
    "import joblib\n",
    "from joblib import dump, load\n",
    "\n",
    "# Input data files are available in the read-only \"../input/\" directory\n",
    "# For example, running this (by clicking run or pressing Shift+Enter) will list all files under the input directory\n",
    "\n",
    "import os\n",
    "for dirname, _, filenames in os.walk('/kaggle/input'):\n",
    "    for filename in filenames:\n",
    "        print(os.path.join(dirname, filename))\n",
    "\n",
    "# You can write up to 20GB to the current directory (/kaggle/working/) that gets preserved as output when you create a version using \"Save & Run All\" \n",
    "# You can also write temporary files to /kaggle/temp/, but they won't be saved outside of the current session"
   ]
  },
  {
   "cell_type": "markdown",
   "id": "e65a6876",
   "metadata": {
    "papermill": {
     "duration": 0.0069,
     "end_time": "2022-10-29T16:18:39.614213",
     "exception": false,
     "start_time": "2022-10-29T16:18:39.607313",
     "status": "completed"
    },
    "tags": []
   },
   "source": [
    "## Visualización de los datos"
   ]
  },
  {
   "cell_type": "code",
   "execution_count": 2,
   "id": "018a14e8",
   "metadata": {
    "execution": {
     "iopub.execute_input": "2022-10-29T16:18:39.629499Z",
     "iopub.status.busy": "2022-10-29T16:18:39.629200Z",
     "iopub.status.idle": "2022-10-29T16:18:40.287630Z",
     "shell.execute_reply": "2022-10-29T16:18:40.286679Z"
    },
    "papermill": {
     "duration": 0.668575,
     "end_time": "2022-10-29T16:18:40.289811",
     "exception": false,
     "start_time": "2022-10-29T16:18:39.621236",
     "status": "completed"
    },
    "tags": []
   },
   "outputs": [
    {
     "data": {
      "text/html": [
       "<div>\n",
       "<style scoped>\n",
       "    .dataframe tbody tr th:only-of-type {\n",
       "        vertical-align: middle;\n",
       "    }\n",
       "\n",
       "    .dataframe tbody tr th {\n",
       "        vertical-align: top;\n",
       "    }\n",
       "\n",
       "    .dataframe thead th {\n",
       "        text-align: right;\n",
       "    }\n",
       "</style>\n",
       "<table border=\"1\" class=\"dataframe\">\n",
       "  <thead>\n",
       "    <tr style=\"text-align: right;\">\n",
       "      <th></th>\n",
       "      <th>HeartDisease</th>\n",
       "      <th>BMI</th>\n",
       "      <th>Smoking</th>\n",
       "      <th>AlcoholDrinking</th>\n",
       "      <th>Stroke</th>\n",
       "      <th>PhysicalHealth</th>\n",
       "      <th>MentalHealth</th>\n",
       "      <th>DiffWalking</th>\n",
       "      <th>Sex</th>\n",
       "      <th>AgeCategory</th>\n",
       "      <th>Diabetic</th>\n",
       "      <th>PhysicalActivity</th>\n",
       "      <th>GenHealth</th>\n",
       "      <th>SleepTime</th>\n",
       "      <th>Asthma</th>\n",
       "      <th>KidneyDisease</th>\n",
       "      <th>SkinCancer</th>\n",
       "    </tr>\n",
       "  </thead>\n",
       "  <tbody>\n",
       "    <tr>\n",
       "      <th>0</th>\n",
       "      <td>0</td>\n",
       "      <td>16.60</td>\n",
       "      <td>1</td>\n",
       "      <td>0</td>\n",
       "      <td>0</td>\n",
       "      <td>3.0</td>\n",
       "      <td>30.0</td>\n",
       "      <td>0</td>\n",
       "      <td>8</td>\n",
       "      <td>17</td>\n",
       "      <td>1</td>\n",
       "      <td>1</td>\n",
       "      <td>5</td>\n",
       "      <td>5.0</td>\n",
       "      <td>1</td>\n",
       "      <td>0</td>\n",
       "      <td>1</td>\n",
       "    </tr>\n",
       "    <tr>\n",
       "      <th>1</th>\n",
       "      <td>0</td>\n",
       "      <td>20.34</td>\n",
       "      <td>0</td>\n",
       "      <td>0</td>\n",
       "      <td>1</td>\n",
       "      <td>0.0</td>\n",
       "      <td>0.0</td>\n",
       "      <td>0</td>\n",
       "      <td>8</td>\n",
       "      <td>22</td>\n",
       "      <td>0</td>\n",
       "      <td>1</td>\n",
       "      <td>5</td>\n",
       "      <td>7.0</td>\n",
       "      <td>0</td>\n",
       "      <td>0</td>\n",
       "      <td>0</td>\n",
       "    </tr>\n",
       "    <tr>\n",
       "      <th>2</th>\n",
       "      <td>0</td>\n",
       "      <td>26.58</td>\n",
       "      <td>1</td>\n",
       "      <td>0</td>\n",
       "      <td>0</td>\n",
       "      <td>20.0</td>\n",
       "      <td>30.0</td>\n",
       "      <td>0</td>\n",
       "      <td>9</td>\n",
       "      <td>19</td>\n",
       "      <td>1</td>\n",
       "      <td>1</td>\n",
       "      <td>3</td>\n",
       "      <td>8.0</td>\n",
       "      <td>1</td>\n",
       "      <td>0</td>\n",
       "      <td>0</td>\n",
       "    </tr>\n",
       "    <tr>\n",
       "      <th>3</th>\n",
       "      <td>0</td>\n",
       "      <td>24.21</td>\n",
       "      <td>0</td>\n",
       "      <td>0</td>\n",
       "      <td>0</td>\n",
       "      <td>0.0</td>\n",
       "      <td>0.0</td>\n",
       "      <td>0</td>\n",
       "      <td>8</td>\n",
       "      <td>21</td>\n",
       "      <td>0</td>\n",
       "      <td>0</td>\n",
       "      <td>4</td>\n",
       "      <td>6.0</td>\n",
       "      <td>0</td>\n",
       "      <td>0</td>\n",
       "      <td>1</td>\n",
       "    </tr>\n",
       "    <tr>\n",
       "      <th>4</th>\n",
       "      <td>0</td>\n",
       "      <td>23.71</td>\n",
       "      <td>0</td>\n",
       "      <td>0</td>\n",
       "      <td>0</td>\n",
       "      <td>28.0</td>\n",
       "      <td>0.0</td>\n",
       "      <td>1</td>\n",
       "      <td>8</td>\n",
       "      <td>14</td>\n",
       "      <td>0</td>\n",
       "      <td>1</td>\n",
       "      <td>5</td>\n",
       "      <td>8.0</td>\n",
       "      <td>0</td>\n",
       "      <td>0</td>\n",
       "      <td>0</td>\n",
       "    </tr>\n",
       "  </tbody>\n",
       "</table>\n",
       "</div>"
      ],
      "text/plain": [
       "   HeartDisease    BMI  Smoking  AlcoholDrinking  Stroke  PhysicalHealth  \\\n",
       "0             0  16.60        1                0       0             3.0   \n",
       "1             0  20.34        0                0       1             0.0   \n",
       "2             0  26.58        1                0       0            20.0   \n",
       "3             0  24.21        0                0       0             0.0   \n",
       "4             0  23.71        0                0       0            28.0   \n",
       "\n",
       "   MentalHealth  DiffWalking  Sex  AgeCategory  Diabetic  PhysicalActivity  \\\n",
       "0          30.0            0    8           17         1                 1   \n",
       "1           0.0            0    8           22         0                 1   \n",
       "2          30.0            0    9           19         1                 1   \n",
       "3           0.0            0    8           21         0                 0   \n",
       "4           0.0            1    8           14         0                 1   \n",
       "\n",
       "   GenHealth  SleepTime  Asthma  KidneyDisease  SkinCancer  \n",
       "0          5        5.0       1              0           1  \n",
       "1          5        7.0       0              0           0  \n",
       "2          3        8.0       1              0           0  \n",
       "3          4        6.0       0              0           1  \n",
       "4          5        8.0       0              0           0  "
      ]
     },
     "execution_count": 2,
     "metadata": {},
     "output_type": "execute_result"
    }
   ],
   "source": [
    "data=pd.read_csv(\"/kaggle/input/datasetmodified/dataset-modificado.csv\")\n",
    "df=data.copy()\n",
    "df=df.drop([\"Unnamed: 0\"],axis=1)\n",
    "df.head()"
   ]
  },
  {
   "cell_type": "markdown",
   "id": "0c3a0807",
   "metadata": {
    "papermill": {
     "duration": 0.007811,
     "end_time": "2022-10-29T16:18:40.305496",
     "exception": false,
     "start_time": "2022-10-29T16:18:40.297685",
     "status": "completed"
    },
    "tags": []
   },
   "source": [
    "## Separación de los datos"
   ]
  },
  {
   "cell_type": "code",
   "execution_count": 3,
   "id": "f1e23379",
   "metadata": {
    "execution": {
     "iopub.execute_input": "2022-10-29T16:18:40.323960Z",
     "iopub.status.busy": "2022-10-29T16:18:40.323060Z",
     "iopub.status.idle": "2022-10-29T16:18:40.355959Z",
     "shell.execute_reply": "2022-10-29T16:18:40.354470Z"
    },
    "papermill": {
     "duration": 0.046694,
     "end_time": "2022-10-29T16:18:40.359462",
     "exception": false,
     "start_time": "2022-10-29T16:18:40.312768",
     "status": "completed"
    },
    "tags": []
   },
   "outputs": [],
   "source": [
    "X=df.iloc[:,1:17]\n",
    "Y=df.iloc[:,0]"
   ]
  },
  {
   "cell_type": "markdown",
   "id": "6ff2a36a",
   "metadata": {
    "papermill": {
     "duration": 0.023866,
     "end_time": "2022-10-29T16:18:40.398198",
     "exception": false,
     "start_time": "2022-10-29T16:18:40.374332",
     "status": "completed"
    },
    "tags": []
   },
   "source": [
    "# Conversión del dataset\n",
    "Transformamos el dataset a array para luego realizar la extracciónde características"
   ]
  },
  {
   "cell_type": "code",
   "execution_count": 4,
   "id": "b75e9c2b",
   "metadata": {
    "execution": {
     "iopub.execute_input": "2022-10-29T16:18:40.435406Z",
     "iopub.status.busy": "2022-10-29T16:18:40.434996Z",
     "iopub.status.idle": "2022-10-29T16:18:40.480626Z",
     "shell.execute_reply": "2022-10-29T16:18:40.479369Z"
    },
    "papermill": {
     "duration": 0.070901,
     "end_time": "2022-10-29T16:18:40.483872",
     "exception": false,
     "start_time": "2022-10-29T16:18:40.412971",
     "status": "completed"
    },
    "tags": []
   },
   "outputs": [],
   "source": [
    "array_data_x =  np.array(X)\n",
    "array_data_y = np.array(Y)"
   ]
  },
  {
   "cell_type": "markdown",
   "id": "d0053616",
   "metadata": {
    "papermill": {
     "duration": 0.015061,
     "end_time": "2022-10-29T16:18:40.513561",
     "exception": false,
     "start_time": "2022-10-29T16:18:40.498500",
     "status": "completed"
    },
    "tags": []
   },
   "source": [
    "## División de los datos\n",
    "Se realiza una división de los datos en train y test de forma que quedaron 70% y 30% respectivamente"
   ]
  },
  {
   "cell_type": "code",
   "execution_count": 5,
   "id": "1ceefdab",
   "metadata": {
    "execution": {
     "iopub.execute_input": "2022-10-29T16:18:40.542975Z",
     "iopub.status.busy": "2022-10-29T16:18:40.542570Z",
     "iopub.status.idle": "2022-10-29T16:18:40.661321Z",
     "shell.execute_reply": "2022-10-29T16:18:40.660188Z"
    },
    "papermill": {
     "duration": 0.136565,
     "end_time": "2022-10-29T16:18:40.664339",
     "exception": false,
     "start_time": "2022-10-29T16:18:40.527774",
     "status": "completed"
    },
    "tags": []
   },
   "outputs": [],
   "source": [
    "X_train,X_test,y_train,y_test=train_test_split(X,\n",
    "                                               Y,\n",
    "                                               test_size=0.3,\n",
    "                                               random_state=50)"
   ]
  },
  {
   "cell_type": "markdown",
   "id": "1a4225cd",
   "metadata": {
    "papermill": {
     "duration": 0.011476,
     "end_time": "2022-10-29T16:18:40.688221",
     "exception": false,
     "start_time": "2022-10-29T16:18:40.676745",
     "status": "completed"
    },
    "tags": []
   },
   "source": [
    "## Función para realizar el Submuestreo de los datos"
   ]
  },
  {
   "cell_type": "code",
   "execution_count": 6,
   "id": "107dfe89",
   "metadata": {
    "execution": {
     "iopub.execute_input": "2022-10-29T16:18:40.712438Z",
     "iopub.status.busy": "2022-10-29T16:18:40.712076Z",
     "iopub.status.idle": "2022-10-29T16:18:40.717686Z",
     "shell.execute_reply": "2022-10-29T16:18:40.716871Z"
    },
    "papermill": {
     "duration": 0.021965,
     "end_time": "2022-10-29T16:18:40.721719",
     "exception": false,
     "start_time": "2022-10-29T16:18:40.699754",
     "status": "completed"
    },
    "tags": []
   },
   "outputs": [],
   "source": [
    "def balancearClases(balanceador, X_train, y_train):\n",
    "    Xtrain_new, Ytrain_new=balanceador.fit_resample(X_train,y_train)\n",
    "    print(\"Dimensiones\")\n",
    "    print(\"Xtrain_new: \", Xtrain_new.shape)\n",
    "    print(\"Ytrain_new: \", Ytrain_new.shape)\n",
    "    return Xtrain_new, Ytrain_new"
   ]
  },
  {
   "cell_type": "markdown",
   "id": "69122fde",
   "metadata": {
    "papermill": {
     "duration": 0.010946,
     "end_time": "2022-10-29T16:18:40.744268",
     "exception": false,
     "start_time": "2022-10-29T16:18:40.733322",
     "status": "completed"
    },
    "tags": []
   },
   "source": [
    "## Entrenamiento del modelo con Oversampling"
   ]
  },
  {
   "cell_type": "code",
   "execution_count": 7,
   "id": "53e4d924",
   "metadata": {
    "execution": {
     "iopub.execute_input": "2022-10-29T16:18:40.768295Z",
     "iopub.status.busy": "2022-10-29T16:18:40.767937Z",
     "iopub.status.idle": "2022-10-29T16:18:41.046007Z",
     "shell.execute_reply": "2022-10-29T16:18:41.044962Z"
    },
    "papermill": {
     "duration": 0.2927,
     "end_time": "2022-10-29T16:18:41.048158",
     "exception": false,
     "start_time": "2022-10-29T16:18:40.755458",
     "status": "completed"
    },
    "tags": []
   },
   "outputs": [
    {
     "name": "stdout",
     "output_type": "stream",
     "text": [
      "Dimensiones\n",
      "Xtrain_new:  (409248, 16)\n",
      "Ytrain_new:  (409248,)\n"
     ]
    }
   ],
   "source": [
    "subsample=RandomOverSampler()\n",
    "Xtrain_new, Ytrain_new=balancearClases(subsample, X_train, y_train)"
   ]
  },
  {
   "cell_type": "code",
   "execution_count": 8,
   "id": "4f93ae75",
   "metadata": {
    "execution": {
     "iopub.execute_input": "2022-10-29T16:18:41.064877Z",
     "iopub.status.busy": "2022-10-29T16:18:41.064578Z",
     "iopub.status.idle": "2022-10-29T16:18:41.069239Z",
     "shell.execute_reply": "2022-10-29T16:18:41.068278Z"
    },
    "papermill": {
     "duration": 0.01509,
     "end_time": "2022-10-29T16:18:41.071153",
     "exception": false,
     "start_time": "2022-10-29T16:18:41.056063",
     "status": "completed"
    },
    "tags": []
   },
   "outputs": [],
   "source": [
    "hidden_layer_sizes = tuple(10*[100])\n",
    "model=MLPClassifier(hidden_layer_sizes=hidden_layer_sizes,activation='tanh',max_iter=350, random_state = 1)"
   ]
  },
  {
   "cell_type": "markdown",
   "id": "2b62158d",
   "metadata": {
    "papermill": {
     "duration": 0.007146,
     "end_time": "2022-10-29T16:18:41.085704",
     "exception": false,
     "start_time": "2022-10-29T16:18:41.078558",
     "status": "completed"
    },
    "tags": []
   },
   "source": [
    "# Función para extraer las características\n",
    "Esta función realiza la reducción de la dimensionalidad sobre el conjunto de datos de entrenamiento, de acuerdo con las particiones especificadas usando PCA"
   ]
  },
  {
   "cell_type": "code",
   "execution_count": 9,
   "id": "6537c934",
   "metadata": {
    "execution": {
     "iopub.execute_input": "2022-10-29T16:18:41.101641Z",
     "iopub.status.busy": "2022-10-29T16:18:41.101352Z",
     "iopub.status.idle": "2022-10-29T16:18:41.110577Z",
     "shell.execute_reply": "2022-10-29T16:18:41.109577Z"
    },
    "papermill": {
     "duration": 0.019581,
     "end_time": "2022-10-29T16:18:41.112651",
     "exception": false,
     "start_time": "2022-10-29T16:18:41.093070",
     "status": "completed"
    },
    "tags": []
   },
   "outputs": [],
   "source": [
    "def entrenamiento_pca_ext_caracteristicas(model, n_comp, n_sets, X, Y):\n",
    "    \"\"\"\n",
    "    Argumentos:\n",
    "        model: modelo a evaluar\n",
    "        n_comp, int, Número de componentes para reducción\n",
    "        n_sets,int, Número de particiones\n",
    "        X: numpy Array de características\n",
    "        Y: numpy Array  Vector de etiquetas\n",
    "\n",
    "    Retorna: \n",
    "        El valor medio de la medida de rendimiento.\n",
    "        La desviación estandar de la medida de rendimiento.\n",
    "        El  valor medio del tiempo de ejecución.\n",
    "    \"\"\"  \n",
    "    #Implemetamos la metodología de validación \n",
    "    rendimiento = np.ones(n_sets)\n",
    "    tiempos = np.ones(n_sets)\n",
    "    j = 0\n",
    "    kf = StratifiedKFold(n_splits=n_sets)\n",
    "    for train_index, test_index in kf.split(X, Y):  \n",
    "        X_train, X_test = X[train_index], X[test_index]\n",
    "        y_train, y_test = Y[train_index], Y[test_index]       \n",
    "        \n",
    "        # Sejar el mismo nombre del objeto.\n",
    "        # SOLO vamos a usar el parametro que define\n",
    "        # el # de componentes.\n",
    "        pca =PCA(n_components=n_comp)\n",
    "        # definimos un clasificador.\n",
    "        clf = model\n",
    "        # ¿es necesario estandarizacion de datos?\n",
    "        definicion_pipeline = [\n",
    "           ('scaler', StandardScaler()), \n",
    "           ('pca',pca),\n",
    "           ('Model', clf)\n",
    "        ]\n",
    "        pipeline = Pipeline(definicion_pipeline)\n",
    "        # para calcular costo computacional\n",
    "        tiempo_i = time.time()\n",
    "        pipeline=pipeline.fit(X=X_train, y=y_train)\n",
    "        tiempo_o = time.time()-tiempo_i\n",
    "        y_pred=pipeline.predict(X=X_test)\n",
    "        rendimiento[j] =f1_score(y_true=y_test, y_pred=y_pred)\n",
    "        tiempos[j] = tiempo_o\n",
    "        j+=1\n",
    "\n",
    "\n",
    "    return np.mean(rendimiento), np.std(rendimiento), np.mean(tiempos)"
   ]
  },
  {
   "cell_type": "markdown",
   "id": "578e6801",
   "metadata": {
    "papermill": {
     "duration": 0.007103,
     "end_time": "2022-10-29T16:18:41.127030",
     "exception": false,
     "start_time": "2022-10-29T16:18:41.119927",
     "status": "completed"
    },
    "tags": []
   },
   "source": [
    "# Realizar experimentos\n",
    "Se realizan diferentes evaluaciones para validar la efectividad del PCA"
   ]
  },
  {
   "cell_type": "code",
   "execution_count": 10,
   "id": "ea03d4c0",
   "metadata": {
    "execution": {
     "iopub.execute_input": "2022-10-29T16:18:41.142888Z",
     "iopub.status.busy": "2022-10-29T16:18:41.142624Z",
     "iopub.status.idle": "2022-10-29T16:18:41.148643Z",
     "shell.execute_reply": "2022-10-29T16:18:41.147733Z"
    },
    "papermill": {
     "duration": 0.016125,
     "end_time": "2022-10-29T16:18:41.150650",
     "exception": false,
     "start_time": "2022-10-29T16:18:41.134525",
     "status": "completed"
    },
    "tags": []
   },
   "outputs": [],
   "source": [
    "def experimentar_PCA(model, n_feats, X, Y):\n",
    "    \"\"\"\n",
    "    Parámetros:\n",
    "        X (numpy.array), El arreglo numpy de características\n",
    "        Y (numpy.array), El vector de etiquetas\n",
    "        n_feats, Vector de números enteros que indica el número de características\n",
    "                que debe utilizar el modelo\n",
    "        n_sets, Vector de números enteros que indica el número de particiones\n",
    "\n",
    "    Retorna:  \n",
    "        - DataFrame con las columnas\n",
    "    \"\"\"\n",
    "    df = pd.DataFrame()\n",
    "    idx = 0\n",
    "    split_number = 5\n",
    "    #Con selección de características\n",
    "    \n",
    "    for f in n_feats:\n",
    "        #Implemetamos la metodología de validación \n",
    "        rendimiento,rendimiento_std,t_ex = entrenamiento_pca_ext_caracteristicas(model, n_comp=f, n_sets=split_number, X=X ,Y=Y)\n",
    "        df.loc[idx,'NUM_VAR'] = f\n",
    "        df.loc[idx,'T_EJECUCION'] = t_ex\n",
    "        df.loc[idx,'RENDIMIENTO_VALIDACION'] =rendimiento\n",
    "        df.loc[idx, 'RENDIMIENTO_VALIDACION_STD'] = rendimiento_std\n",
    "        idx+=1\n",
    "    return df"
   ]
  },
  {
   "cell_type": "markdown",
   "id": "bdb451e6",
   "metadata": {
    "papermill": {
     "duration": 0.007091,
     "end_time": "2022-10-29T16:18:41.164967",
     "exception": false,
     "start_time": "2022-10-29T16:18:41.157876",
     "status": "completed"
    },
    "tags": []
   },
   "source": [
    "# Probando con diferente número de características\n",
    "Se utiliza el modelo QuadraticDiscriminantAnalysis() para evaluar con 3, 6, 9 y 14 características con la función anterior, además se usan los array creados a partir del dataset"
   ]
  },
  {
   "cell_type": "code",
   "execution_count": 11,
   "id": "3a563b5f",
   "metadata": {
    "execution": {
     "iopub.execute_input": "2022-10-29T16:18:41.180639Z",
     "iopub.status.busy": "2022-10-29T16:18:41.180357Z",
     "iopub.status.idle": "2022-10-29T18:46:38.510259Z",
     "shell.execute_reply": "2022-10-29T18:46:38.509282Z"
    },
    "papermill": {
     "duration": 8877.359761,
     "end_time": "2022-10-29T18:46:38.532006",
     "exception": false,
     "start_time": "2022-10-29T16:18:41.172245",
     "status": "completed"
    },
    "tags": []
   },
   "outputs": [
    {
     "data": {
      "text/html": [
       "<div>\n",
       "<style scoped>\n",
       "    .dataframe tbody tr th:only-of-type {\n",
       "        vertical-align: middle;\n",
       "    }\n",
       "\n",
       "    .dataframe tbody tr th {\n",
       "        vertical-align: top;\n",
       "    }\n",
       "\n",
       "    .dataframe thead th {\n",
       "        text-align: right;\n",
       "    }\n",
       "</style>\n",
       "<table border=\"1\" class=\"dataframe\">\n",
       "  <thead>\n",
       "    <tr style=\"text-align: right;\">\n",
       "      <th></th>\n",
       "      <th>NUM_VAR</th>\n",
       "      <th>T_EJECUCION</th>\n",
       "      <th>RENDIMIENTO_VALIDACION</th>\n",
       "      <th>RENDIMIENTO_VALIDACION_STD</th>\n",
       "    </tr>\n",
       "  </thead>\n",
       "  <tbody>\n",
       "    <tr>\n",
       "      <th>0</th>\n",
       "      <td>3.0</td>\n",
       "      <td>408.297603</td>\n",
       "      <td>0.000073</td>\n",
       "      <td>0.000146</td>\n",
       "    </tr>\n",
       "    <tr>\n",
       "      <th>1</th>\n",
       "      <td>6.0</td>\n",
       "      <td>461.985020</td>\n",
       "      <td>0.000000</td>\n",
       "      <td>0.000000</td>\n",
       "    </tr>\n",
       "    <tr>\n",
       "      <th>2</th>\n",
       "      <td>9.0</td>\n",
       "      <td>449.749433</td>\n",
       "      <td>0.082338</td>\n",
       "      <td>0.094976</td>\n",
       "    </tr>\n",
       "    <tr>\n",
       "      <th>3</th>\n",
       "      <td>14.0</td>\n",
       "      <td>443.673279</td>\n",
       "      <td>0.058655</td>\n",
       "      <td>0.090022</td>\n",
       "    </tr>\n",
       "  </tbody>\n",
       "</table>\n",
       "</div>"
      ],
      "text/plain": [
       "   NUM_VAR  T_EJECUCION  RENDIMIENTO_VALIDACION  RENDIMIENTO_VALIDACION_STD\n",
       "0      3.0   408.297603                0.000073                    0.000146\n",
       "1      6.0   461.985020                0.000000                    0.000000\n",
       "2      9.0   449.749433                0.082338                    0.094976\n",
       "3     14.0   443.673279                0.058655                    0.090022"
      ]
     },
     "execution_count": 11,
     "metadata": {},
     "output_type": "execute_result"
    }
   ],
   "source": [
    "resultados = experimentar_PCA(model, n_feats=[3,6,9,14], X= array_data_x, Y = array_data_y)\n",
    "resultados"
   ]
  },
  {
   "cell_type": "markdown",
   "id": "701038bb",
   "metadata": {
    "papermill": {
     "duration": 0.01888,
     "end_time": "2022-10-29T18:46:38.570028",
     "exception": false,
     "start_time": "2022-10-29T18:46:38.551148",
     "status": "completed"
    },
    "tags": []
   },
   "source": [
    "# Se exporta los resultado a un archivo .csv"
   ]
  },
  {
   "cell_type": "code",
   "execution_count": 12,
   "id": "8f46e693",
   "metadata": {
    "execution": {
     "iopub.execute_input": "2022-10-29T18:46:38.601219Z",
     "iopub.status.busy": "2022-10-29T18:46:38.600921Z",
     "iopub.status.idle": "2022-10-29T18:46:38.607720Z",
     "shell.execute_reply": "2022-10-29T18:46:38.606890Z"
    },
    "papermill": {
     "duration": 0.020517,
     "end_time": "2022-10-29T18:46:38.609619",
     "exception": false,
     "start_time": "2022-10-29T18:46:38.589102",
     "status": "completed"
    },
    "tags": []
   },
   "outputs": [],
   "source": [
    "resultados.to_csv(\"resultados_pca_ann.csv\", encoding=\"utf-8\")"
   ]
  },
  {
   "cell_type": "markdown",
   "id": "1b32d9a5",
   "metadata": {
    "papermill": {
     "duration": 0.007339,
     "end_time": "2022-10-29T18:46:38.624518",
     "exception": false,
     "start_time": "2022-10-29T18:46:38.617179",
     "status": "completed"
    },
    "tags": []
   },
   "source": [
    "# Se cargan los resultados"
   ]
  },
  {
   "cell_type": "code",
   "execution_count": 13,
   "id": "fe30aeec",
   "metadata": {
    "execution": {
     "iopub.execute_input": "2022-10-29T18:46:38.696181Z",
     "iopub.status.busy": "2022-10-29T18:46:38.695318Z",
     "iopub.status.idle": "2022-10-29T18:46:38.718926Z",
     "shell.execute_reply": "2022-10-29T18:46:38.717954Z"
    },
    "papermill": {
     "duration": 0.088563,
     "end_time": "2022-10-29T18:46:38.720851",
     "exception": false,
     "start_time": "2022-10-29T18:46:38.632288",
     "status": "completed"
    },
    "tags": []
   },
   "outputs": [
    {
     "data": {
      "text/html": [
       "<div>\n",
       "<style scoped>\n",
       "    .dataframe tbody tr th:only-of-type {\n",
       "        vertical-align: middle;\n",
       "    }\n",
       "\n",
       "    .dataframe tbody tr th {\n",
       "        vertical-align: top;\n",
       "    }\n",
       "\n",
       "    .dataframe thead th {\n",
       "        text-align: right;\n",
       "    }\n",
       "</style>\n",
       "<table border=\"1\" class=\"dataframe\">\n",
       "  <thead>\n",
       "    <tr style=\"text-align: right;\">\n",
       "      <th></th>\n",
       "      <th>NUM_VAR</th>\n",
       "      <th>T_EJECUCION</th>\n",
       "      <th>RENDIMIENTO_VALIDACION</th>\n",
       "      <th>RENDIMIENTO_VALIDACION_STD</th>\n",
       "    </tr>\n",
       "  </thead>\n",
       "  <tbody>\n",
       "    <tr>\n",
       "      <th>0</th>\n",
       "      <td>3.0</td>\n",
       "      <td>421.581218</td>\n",
       "      <td>0.000073</td>\n",
       "      <td>0.000146</td>\n",
       "    </tr>\n",
       "    <tr>\n",
       "      <th>1</th>\n",
       "      <td>6.0</td>\n",
       "      <td>446.871727</td>\n",
       "      <td>0.000000</td>\n",
       "      <td>0.000000</td>\n",
       "    </tr>\n",
       "    <tr>\n",
       "      <th>2</th>\n",
       "      <td>9.0</td>\n",
       "      <td>480.561975</td>\n",
       "      <td>0.077823</td>\n",
       "      <td>0.073846</td>\n",
       "    </tr>\n",
       "    <tr>\n",
       "      <th>3</th>\n",
       "      <td>14.0</td>\n",
       "      <td>483.743708</td>\n",
       "      <td>0.058655</td>\n",
       "      <td>0.090022</td>\n",
       "    </tr>\n",
       "  </tbody>\n",
       "</table>\n",
       "</div>"
      ],
      "text/plain": [
       "   NUM_VAR  T_EJECUCION  RENDIMIENTO_VALIDACION  RENDIMIENTO_VALIDACION_STD\n",
       "0      3.0   421.581218                0.000073                    0.000146\n",
       "1      6.0   446.871727                0.000000                    0.000000\n",
       "2      9.0   480.561975                0.077823                    0.073846\n",
       "3     14.0   483.743708                0.058655                    0.090022"
      ]
     },
     "execution_count": 13,
     "metadata": {},
     "output_type": "execute_result"
    }
   ],
   "source": [
    "resultados = pd.read_csv(\"/kaggle/input/ann-pca/resultados_pca_ann.csv\")\n",
    "resultados=resultados.drop([\"Unnamed: 0\"],axis=1)\n",
    "resultados"
   ]
  },
  {
   "cell_type": "markdown",
   "id": "2d36815f",
   "metadata": {
    "papermill": {
     "duration": 0.007614,
     "end_time": "2022-10-29T18:46:38.736212",
     "exception": false,
     "start_time": "2022-10-29T18:46:38.728598",
     "status": "completed"
    },
    "tags": []
   },
   "source": [
    "# Gráficas de rendimiento"
   ]
  },
  {
   "cell_type": "markdown",
   "id": "1a36ede5",
   "metadata": {
    "papermill": {
     "duration": 0.007605,
     "end_time": "2022-10-29T18:46:38.751556",
     "exception": false,
     "start_time": "2022-10-29T18:46:38.743951",
     "status": "completed"
    },
    "tags": []
   },
   "source": [
    "## Se grafica el número de variable respecto al rendimiento que tuvieron"
   ]
  },
  {
   "cell_type": "code",
   "execution_count": 14,
   "id": "6487fc92",
   "metadata": {
    "execution": {
     "iopub.execute_input": "2022-10-29T18:46:38.768447Z",
     "iopub.status.busy": "2022-10-29T18:46:38.767669Z",
     "iopub.status.idle": "2022-10-29T18:46:38.991125Z",
     "shell.execute_reply": "2022-10-29T18:46:38.990283Z"
    },
    "papermill": {
     "duration": 0.233977,
     "end_time": "2022-10-29T18:46:38.993217",
     "exception": false,
     "start_time": "2022-10-29T18:46:38.759240",
     "status": "completed"
    },
    "tags": []
   },
   "outputs": [
    {
     "data": {
      "image/png": "[encoded data removed]",
      "text/plain": [
       "<Figure size 432x288 with 1 Axes>"
      ]
     },
     "metadata": {
      "needs_background": "light"
     },
     "output_type": "display_data"
    }
   ],
   "source": [
    "sns.lineplot(data=resultados,x=\"NUM_VAR\",y=\"RENDIMIENTO_VALIDACION\")\n",
    "plt.show()"
   ]
  },
  {
   "cell_type": "markdown",
   "id": "266314e6",
   "metadata": {
    "papermill": {
     "duration": 0.007938,
     "end_time": "2022-10-29T18:46:39.009148",
     "exception": false,
     "start_time": "2022-10-29T18:46:39.001210",
     "status": "completed"
    },
    "tags": []
   },
   "source": [
    "## Se grafica el número de variable respecto al tiempo de ejecución que tuvieron"
   ]
  },
  {
   "cell_type": "code",
   "execution_count": 15,
   "id": "fd556636",
   "metadata": {
    "execution": {
     "iopub.execute_input": "2022-10-29T18:46:39.025977Z",
     "iopub.status.busy": "2022-10-29T18:46:39.025686Z",
     "iopub.status.idle": "2022-10-29T18:46:39.215908Z",
     "shell.execute_reply": "2022-10-29T18:46:39.214872Z"
    },
    "papermill": {
     "duration": 0.201007,
     "end_time": "2022-10-29T18:46:39.217961",
     "exception": false,
     "start_time": "2022-10-29T18:46:39.016954",
     "status": "completed"
    },
    "tags": []
   },
   "outputs": [
    {
     "data": {
      "image/png": "[encoded data removed]",
      "text/plain": [
       "<Figure size 432x288 with 1 Axes>"
      ]
     },
     "metadata": {
      "needs_background": "light"
     },
     "output_type": "display_data"
    }
   ],
   "source": [
    "sns.lineplot(data=resultados,x=\"NUM_VAR\",y=\"T_EJECUCION\")\n",
    "plt.show()"
   ]
  },
  {
   "cell_type": "markdown",
   "id": "de6981b2",
   "metadata": {
    "papermill": {
     "duration": 0.008361,
     "end_time": "2022-10-29T18:46:39.234984",
     "exception": false,
     "start_time": "2022-10-29T18:46:39.226623",
     "status": "completed"
    },
    "tags": []
   },
   "source": [
    "# Ordenar los resultados"
   ]
  },
  {
   "cell_type": "markdown",
   "id": "114f8c45",
   "metadata": {
    "papermill": {
     "duration": 0.008314,
     "end_time": "2022-10-29T18:46:39.251806",
     "exception": false,
     "start_time": "2022-10-29T18:46:39.243492",
     "status": "completed"
    },
    "tags": []
   },
   "source": [
    "## Se ordenan los resultados de forma descendente para ver cuál fue el número de componentes con mejor rendimiento"
   ]
  },
  {
   "cell_type": "code",
   "execution_count": 16,
   "id": "a5d0c6e3",
   "metadata": {
    "execution": {
     "iopub.execute_input": "2022-10-29T18:46:39.269935Z",
     "iopub.status.busy": "2022-10-29T18:46:39.269097Z",
     "iopub.status.idle": "2022-10-29T18:46:39.279439Z",
     "shell.execute_reply": "2022-10-29T18:46:39.278481Z"
    },
    "papermill": {
     "duration": 0.021199,
     "end_time": "2022-10-29T18:46:39.281371",
     "exception": false,
     "start_time": "2022-10-29T18:46:39.260172",
     "status": "completed"
    },
    "tags": []
   },
   "outputs": [
    {
     "data": {
      "text/html": [
       "<div>\n",
       "<style scoped>\n",
       "    .dataframe tbody tr th:only-of-type {\n",
       "        vertical-align: middle;\n",
       "    }\n",
       "\n",
       "    .dataframe tbody tr th {\n",
       "        vertical-align: top;\n",
       "    }\n",
       "\n",
       "    .dataframe thead th {\n",
       "        text-align: right;\n",
       "    }\n",
       "</style>\n",
       "<table border=\"1\" class=\"dataframe\">\n",
       "  <thead>\n",
       "    <tr style=\"text-align: right;\">\n",
       "      <th></th>\n",
       "      <th>NUM_VAR</th>\n",
       "      <th>T_EJECUCION</th>\n",
       "      <th>RENDIMIENTO_VALIDACION</th>\n",
       "      <th>RENDIMIENTO_VALIDACION_STD</th>\n",
       "    </tr>\n",
       "  </thead>\n",
       "  <tbody>\n",
       "    <tr>\n",
       "      <th>2</th>\n",
       "      <td>9.0</td>\n",
       "      <td>480.561975</td>\n",
       "      <td>0.077823</td>\n",
       "      <td>0.073846</td>\n",
       "    </tr>\n",
       "    <tr>\n",
       "      <th>3</th>\n",
       "      <td>14.0</td>\n",
       "      <td>483.743708</td>\n",
       "      <td>0.058655</td>\n",
       "      <td>0.090022</td>\n",
       "    </tr>\n",
       "    <tr>\n",
       "      <th>0</th>\n",
       "      <td>3.0</td>\n",
       "      <td>421.581218</td>\n",
       "      <td>0.000073</td>\n",
       "      <td>0.000146</td>\n",
       "    </tr>\n",
       "    <tr>\n",
       "      <th>1</th>\n",
       "      <td>6.0</td>\n",
       "      <td>446.871727</td>\n",
       "      <td>0.000000</td>\n",
       "      <td>0.000000</td>\n",
       "    </tr>\n",
       "  </tbody>\n",
       "</table>\n",
       "</div>"
      ],
      "text/plain": [
       "   NUM_VAR  T_EJECUCION  RENDIMIENTO_VALIDACION  RENDIMIENTO_VALIDACION_STD\n",
       "2      9.0   480.561975                0.077823                    0.073846\n",
       "3     14.0   483.743708                0.058655                    0.090022\n",
       "0      3.0   421.581218                0.000073                    0.000146\n",
       "1      6.0   446.871727                0.000000                    0.000000"
      ]
     },
     "execution_count": 16,
     "metadata": {},
     "output_type": "execute_result"
    }
   ],
   "source": [
    "resultados.sort_values(by ='RENDIMIENTO_VALIDACION', ascending =False)"
   ]
  },
  {
   "cell_type": "markdown",
   "id": "85358252",
   "metadata": {
    "papermill": {
     "duration": 0.008049,
     "end_time": "2022-10-29T18:46:39.297617",
     "exception": false,
     "start_time": "2022-10-29T18:46:39.289568",
     "status": "completed"
    },
    "tags": []
   },
   "source": [
    "## Se ordenan los resultados de forma ascendente para ver cuál fue el número de componentes con menor tiempo de ejecución"
   ]
  },
  {
   "cell_type": "code",
   "execution_count": 17,
   "id": "a0dece53",
   "metadata": {
    "execution": {
     "iopub.execute_input": "2022-10-29T18:46:39.315753Z",
     "iopub.status.busy": "2022-10-29T18:46:39.314863Z",
     "iopub.status.idle": "2022-10-29T18:46:39.325581Z",
     "shell.execute_reply": "2022-10-29T18:46:39.324637Z"
    },
    "papermill": {
     "duration": 0.021661,
     "end_time": "2022-10-29T18:46:39.327537",
     "exception": false,
     "start_time": "2022-10-29T18:46:39.305876",
     "status": "completed"
    },
    "tags": []
   },
   "outputs": [
    {
     "data": {
      "text/html": [
       "<div>\n",
       "<style scoped>\n",
       "    .dataframe tbody tr th:only-of-type {\n",
       "        vertical-align: middle;\n",
       "    }\n",
       "\n",
       "    .dataframe tbody tr th {\n",
       "        vertical-align: top;\n",
       "    }\n",
       "\n",
       "    .dataframe thead th {\n",
       "        text-align: right;\n",
       "    }\n",
       "</style>\n",
       "<table border=\"1\" class=\"dataframe\">\n",
       "  <thead>\n",
       "    <tr style=\"text-align: right;\">\n",
       "      <th></th>\n",
       "      <th>NUM_VAR</th>\n",
       "      <th>T_EJECUCION</th>\n",
       "      <th>RENDIMIENTO_VALIDACION</th>\n",
       "      <th>RENDIMIENTO_VALIDACION_STD</th>\n",
       "    </tr>\n",
       "  </thead>\n",
       "  <tbody>\n",
       "    <tr>\n",
       "      <th>0</th>\n",
       "      <td>3.0</td>\n",
       "      <td>421.581218</td>\n",
       "      <td>0.000073</td>\n",
       "      <td>0.000146</td>\n",
       "    </tr>\n",
       "    <tr>\n",
       "      <th>1</th>\n",
       "      <td>6.0</td>\n",
       "      <td>446.871727</td>\n",
       "      <td>0.000000</td>\n",
       "      <td>0.000000</td>\n",
       "    </tr>\n",
       "    <tr>\n",
       "      <th>2</th>\n",
       "      <td>9.0</td>\n",
       "      <td>480.561975</td>\n",
       "      <td>0.077823</td>\n",
       "      <td>0.073846</td>\n",
       "    </tr>\n",
       "    <tr>\n",
       "      <th>3</th>\n",
       "      <td>14.0</td>\n",
       "      <td>483.743708</td>\n",
       "      <td>0.058655</td>\n",
       "      <td>0.090022</td>\n",
       "    </tr>\n",
       "  </tbody>\n",
       "</table>\n",
       "</div>"
      ],
      "text/plain": [
       "   NUM_VAR  T_EJECUCION  RENDIMIENTO_VALIDACION  RENDIMIENTO_VALIDACION_STD\n",
       "0      3.0   421.581218                0.000073                    0.000146\n",
       "1      6.0   446.871727                0.000000                    0.000000\n",
       "2      9.0   480.561975                0.077823                    0.073846\n",
       "3     14.0   483.743708                0.058655                    0.090022"
      ]
     },
     "execution_count": 17,
     "metadata": {},
     "output_type": "execute_result"
    }
   ],
   "source": [
    "resultados.sort_values(by ='T_EJECUCION', ascending =True)"
   ]
  },
  {
   "cell_type": "markdown",
   "id": "2d07654e",
   "metadata": {
    "papermill": {
     "duration": 0.008201,
     "end_time": "2022-10-29T18:46:39.344215",
     "exception": false,
     "start_time": "2022-10-29T18:46:39.336014",
     "status": "completed"
    },
    "tags": []
   },
   "source": [
    "# Función con el número de componentes seleccionada"
   ]
  },
  {
   "cell_type": "markdown",
   "id": "a5e18745",
   "metadata": {
    "papermill": {
     "duration": 0.008212,
     "end_time": "2022-10-29T18:46:39.361014",
     "exception": false,
     "start_time": "2022-10-29T18:46:39.352802",
     "status": "completed"
    },
    "tags": []
   },
   "source": [
    "Se obtiene el rendimiento de entrenamiento y prueba con el número de componente seleccionada"
   ]
  },
  {
   "cell_type": "code",
   "execution_count": 18,
   "id": "415fbf47",
   "metadata": {
    "execution": {
     "iopub.execute_input": "2022-10-29T18:46:39.379388Z",
     "iopub.status.busy": "2022-10-29T18:46:39.378631Z",
     "iopub.status.idle": "2022-10-29T18:46:39.388060Z",
     "shell.execute_reply": "2022-10-29T18:46:39.387217Z"
    },
    "papermill": {
     "duration": 0.020446,
     "end_time": "2022-10-29T18:46:39.389930",
     "exception": false,
     "start_time": "2022-10-29T18:46:39.369484",
     "status": "completed"
    },
    "tags": []
   },
   "outputs": [],
   "source": [
    "def entrenamiento_num_caracteristica_seleccionada(model, n_comp, X, Y, Xreal, Yreal):\n",
    "    X_train, X_test, y_train, y_test = train_test_split(X,\n",
    "                                               Y,\n",
    "                                               test_size=0.3,\n",
    "                                               random_state=50) \n",
    "\n",
    "    \n",
    "    pca =PCA(n_components=n_comp)\n",
    "    Xreal = pca.fit_transform(Xreal)\n",
    "    # definimos un clasificador.\n",
    "    clf = model\n",
    "    # ¿es necesario estandarizacion de datos?\n",
    "    definicion_pipeline = [\n",
    "       ('pca',pca),\n",
    "       ('Model', clf)\n",
    "    ]\n",
    "    pipeline = Pipeline(definicion_pipeline)\n",
    "    # para calcular costo computacional\n",
    "    pipeline=pipeline.fit(X=X_train, y=y_train)\n",
    "    Ypred=pipeline.predict(X_test)\n",
    "    ## Rendimiento del entrenamiento del modelo\n",
    "    print(\"#####################Rendimiento después del entrenamiento#########################\")\n",
    "    print(f'Model: {str(model)}')\n",
    "    print(f'Accuracy Score: {accuracy_score(y_test,Ypred)}')\n",
    "    print(f'Precission Score: {precision_score(y_test,Ypred)}')\n",
    "    print(f'Recall Score: {recall_score(y_test,Ypred)}')\n",
    "    print(f'F1-Score: {f1_score(y_test,Ypred)}')\n",
    "    cm = confusion_matrix(y_test, Ypred, labels=pipeline.classes_)\n",
    "    disp = ConfusionMatrixDisplay(confusion_matrix=cm,display_labels=model.classes_)\n",
    "    disp.plot()\n",
    "    print(\"Pipeline\", pipeline.classes_)\n",
    "    \n",
    "    print(\"==============================================\")\n",
    "    y_pred=model.predict(Xreal)\n",
    "    print(\"Accuracy:\",accuracy_score(Yreal, y_pred))\n",
    "    print(f'Precission Score: {precision_score(Yreal,y_pred)}')\n",
    "    print(f'Recall Score: {recall_score(Yreal,y_pred)}')\n",
    "    print(f'F1-Score: {f1_score(Yreal,y_pred)}')\n",
    "    cm = confusion_matrix(Yreal, y_pred, labels=pipeline.classes_)\n",
    "    disp = ConfusionMatrixDisplay(confusion_matrix=cm,display_labels=pipeline.classes_)\n",
    "    disp.plot()"
   ]
  },
  {
   "cell_type": "markdown",
   "id": "f71c5027",
   "metadata": {
    "papermill": {
     "duration": 0.008166,
     "end_time": "2022-10-29T18:46:39.406440",
     "exception": false,
     "start_time": "2022-10-29T18:46:39.398274",
     "status": "completed"
    },
    "tags": []
   },
   "source": [
    "# Se carga la data a probar"
   ]
  },
  {
   "cell_type": "code",
   "execution_count": 19,
   "id": "13ea8c3d",
   "metadata": {
    "execution": {
     "iopub.execute_input": "2022-10-29T18:46:39.424715Z",
     "iopub.status.busy": "2022-10-29T18:46:39.424001Z",
     "iopub.status.idle": "2022-10-29T18:46:39.450550Z",
     "shell.execute_reply": "2022-10-29T18:46:39.449612Z"
    },
    "papermill": {
     "duration": 0.037608,
     "end_time": "2022-10-29T18:46:39.452483",
     "exception": false,
     "start_time": "2022-10-29T18:46:39.414875",
     "status": "completed"
    },
    "tags": []
   },
   "outputs": [
    {
     "data": {
      "text/html": [
       "<div>\n",
       "<style scoped>\n",
       "    .dataframe tbody tr th:only-of-type {\n",
       "        vertical-align: middle;\n",
       "    }\n",
       "\n",
       "    .dataframe tbody tr th {\n",
       "        vertical-align: top;\n",
       "    }\n",
       "\n",
       "    .dataframe thead th {\n",
       "        text-align: right;\n",
       "    }\n",
       "</style>\n",
       "<table border=\"1\" class=\"dataframe\">\n",
       "  <thead>\n",
       "    <tr style=\"text-align: right;\">\n",
       "      <th></th>\n",
       "      <th>HeartDisease</th>\n",
       "      <th>BMI</th>\n",
       "      <th>Smoking</th>\n",
       "      <th>AlcoholDrinking</th>\n",
       "      <th>Stroke</th>\n",
       "      <th>PhysicalHealth</th>\n",
       "      <th>MentalHealth</th>\n",
       "      <th>DiffWalking</th>\n",
       "      <th>Sex</th>\n",
       "      <th>AgeCategory</th>\n",
       "      <th>Diabetic</th>\n",
       "      <th>PhysicalActivity</th>\n",
       "      <th>GenHealth</th>\n",
       "      <th>SleepTime</th>\n",
       "      <th>Asthma</th>\n",
       "      <th>KidneyDisease</th>\n",
       "      <th>SkinCancer</th>\n",
       "    </tr>\n",
       "  </thead>\n",
       "  <tbody>\n",
       "    <tr>\n",
       "      <th>0</th>\n",
       "      <td>0</td>\n",
       "      <td>19,7</td>\n",
       "      <td>0</td>\n",
       "      <td>0</td>\n",
       "      <td>0</td>\n",
       "      <td>0</td>\n",
       "      <td>0</td>\n",
       "      <td>0</td>\n",
       "      <td>8</td>\n",
       "      <td>10</td>\n",
       "      <td>0</td>\n",
       "      <td>0</td>\n",
       "      <td>5</td>\n",
       "      <td>6</td>\n",
       "      <td>0</td>\n",
       "      <td>0</td>\n",
       "      <td>0</td>\n",
       "    </tr>\n",
       "    <tr>\n",
       "      <th>1</th>\n",
       "      <td>0</td>\n",
       "      <td>22,8</td>\n",
       "      <td>0</td>\n",
       "      <td>0</td>\n",
       "      <td>0</td>\n",
       "      <td>0</td>\n",
       "      <td>0</td>\n",
       "      <td>0</td>\n",
       "      <td>8</td>\n",
       "      <td>10</td>\n",
       "      <td>0</td>\n",
       "      <td>1</td>\n",
       "      <td>5</td>\n",
       "      <td>6</td>\n",
       "      <td>1</td>\n",
       "      <td>0</td>\n",
       "      <td>0</td>\n",
       "    </tr>\n",
       "    <tr>\n",
       "      <th>2</th>\n",
       "      <td>1</td>\n",
       "      <td>28,8</td>\n",
       "      <td>1</td>\n",
       "      <td>0</td>\n",
       "      <td>1</td>\n",
       "      <td>25</td>\n",
       "      <td>28</td>\n",
       "      <td>1</td>\n",
       "      <td>9</td>\n",
       "      <td>20</td>\n",
       "      <td>1</td>\n",
       "      <td>0</td>\n",
       "      <td>3</td>\n",
       "      <td>9</td>\n",
       "      <td>0</td>\n",
       "      <td>1</td>\n",
       "      <td>0</td>\n",
       "    </tr>\n",
       "    <tr>\n",
       "      <th>3</th>\n",
       "      <td>0</td>\n",
       "      <td>23</td>\n",
       "      <td>0</td>\n",
       "      <td>0</td>\n",
       "      <td>0</td>\n",
       "      <td>0</td>\n",
       "      <td>0</td>\n",
       "      <td>0</td>\n",
       "      <td>9</td>\n",
       "      <td>10</td>\n",
       "      <td>0</td>\n",
       "      <td>0</td>\n",
       "      <td>6</td>\n",
       "      <td>6</td>\n",
       "      <td>0</td>\n",
       "      <td>0</td>\n",
       "      <td>0</td>\n",
       "    </tr>\n",
       "    <tr>\n",
       "      <th>4</th>\n",
       "      <td>1</td>\n",
       "      <td>32,4</td>\n",
       "      <td>0</td>\n",
       "      <td>1</td>\n",
       "      <td>1</td>\n",
       "      <td>30</td>\n",
       "      <td>15</td>\n",
       "      <td>1</td>\n",
       "      <td>8</td>\n",
       "      <td>18</td>\n",
       "      <td>1</td>\n",
       "      <td>0</td>\n",
       "      <td>4</td>\n",
       "      <td>4</td>\n",
       "      <td>1</td>\n",
       "      <td>1</td>\n",
       "      <td>1</td>\n",
       "    </tr>\n",
       "    <tr>\n",
       "      <th>5</th>\n",
       "      <td>0</td>\n",
       "      <td>22,4</td>\n",
       "      <td>0</td>\n",
       "      <td>1</td>\n",
       "      <td>0</td>\n",
       "      <td>10</td>\n",
       "      <td>7</td>\n",
       "      <td>0</td>\n",
       "      <td>8</td>\n",
       "      <td>15</td>\n",
       "      <td>1</td>\n",
       "      <td>1</td>\n",
       "      <td>4</td>\n",
       "      <td>8</td>\n",
       "      <td>0</td>\n",
       "      <td>0</td>\n",
       "      <td>0</td>\n",
       "    </tr>\n",
       "    <tr>\n",
       "      <th>6</th>\n",
       "      <td>0</td>\n",
       "      <td>21,6</td>\n",
       "      <td>0</td>\n",
       "      <td>0</td>\n",
       "      <td>0</td>\n",
       "      <td>20</td>\n",
       "      <td>8</td>\n",
       "      <td>0</td>\n",
       "      <td>8</td>\n",
       "      <td>10</td>\n",
       "      <td>0</td>\n",
       "      <td>0</td>\n",
       "      <td>3</td>\n",
       "      <td>5</td>\n",
       "      <td>1</td>\n",
       "      <td>0</td>\n",
       "      <td>0</td>\n",
       "    </tr>\n",
       "    <tr>\n",
       "      <th>7</th>\n",
       "      <td>0</td>\n",
       "      <td>29,7</td>\n",
       "      <td>0</td>\n",
       "      <td>0</td>\n",
       "      <td>0</td>\n",
       "      <td>7</td>\n",
       "      <td>0</td>\n",
       "      <td>0</td>\n",
       "      <td>8</td>\n",
       "      <td>10</td>\n",
       "      <td>0</td>\n",
       "      <td>0</td>\n",
       "      <td>3</td>\n",
       "      <td>6</td>\n",
       "      <td>1</td>\n",
       "      <td>0</td>\n",
       "      <td>0</td>\n",
       "    </tr>\n",
       "    <tr>\n",
       "      <th>8</th>\n",
       "      <td>1</td>\n",
       "      <td>30,5</td>\n",
       "      <td>1</td>\n",
       "      <td>1</td>\n",
       "      <td>1</td>\n",
       "      <td>20</td>\n",
       "      <td>0</td>\n",
       "      <td>1</td>\n",
       "      <td>9</td>\n",
       "      <td>12</td>\n",
       "      <td>1</td>\n",
       "      <td>0</td>\n",
       "      <td>2</td>\n",
       "      <td>4</td>\n",
       "      <td>0</td>\n",
       "      <td>1</td>\n",
       "      <td>0</td>\n",
       "    </tr>\n",
       "    <tr>\n",
       "      <th>9</th>\n",
       "      <td>1</td>\n",
       "      <td>34,8</td>\n",
       "      <td>0</td>\n",
       "      <td>1</td>\n",
       "      <td>0</td>\n",
       "      <td>5</td>\n",
       "      <td>3</td>\n",
       "      <td>1</td>\n",
       "      <td>8</td>\n",
       "      <td>21</td>\n",
       "      <td>0</td>\n",
       "      <td>0</td>\n",
       "      <td>3</td>\n",
       "      <td>8</td>\n",
       "      <td>1</td>\n",
       "      <td>0</td>\n",
       "      <td>1</td>\n",
       "    </tr>\n",
       "    <tr>\n",
       "      <th>10</th>\n",
       "      <td>0</td>\n",
       "      <td>23,7</td>\n",
       "      <td>0</td>\n",
       "      <td>0</td>\n",
       "      <td>0</td>\n",
       "      <td>0</td>\n",
       "      <td>5</td>\n",
       "      <td>0</td>\n",
       "      <td>9</td>\n",
       "      <td>10</td>\n",
       "      <td>0</td>\n",
       "      <td>1</td>\n",
       "      <td>5</td>\n",
       "      <td>6</td>\n",
       "      <td>0</td>\n",
       "      <td>0</td>\n",
       "      <td>0</td>\n",
       "    </tr>\n",
       "    <tr>\n",
       "      <th>11</th>\n",
       "      <td>0</td>\n",
       "      <td>18,4</td>\n",
       "      <td>0</td>\n",
       "      <td>0</td>\n",
       "      <td>0</td>\n",
       "      <td>0</td>\n",
       "      <td>10</td>\n",
       "      <td>0</td>\n",
       "      <td>9</td>\n",
       "      <td>10</td>\n",
       "      <td>0</td>\n",
       "      <td>1</td>\n",
       "      <td>5</td>\n",
       "      <td>6</td>\n",
       "      <td>0</td>\n",
       "      <td>0</td>\n",
       "      <td>0</td>\n",
       "    </tr>\n",
       "    <tr>\n",
       "      <th>12</th>\n",
       "      <td>1</td>\n",
       "      <td>29,8</td>\n",
       "      <td>0</td>\n",
       "      <td>0</td>\n",
       "      <td>1</td>\n",
       "      <td>23</td>\n",
       "      <td>24</td>\n",
       "      <td>1</td>\n",
       "      <td>8</td>\n",
       "      <td>20</td>\n",
       "      <td>1</td>\n",
       "      <td>0</td>\n",
       "      <td>2</td>\n",
       "      <td>9</td>\n",
       "      <td>1</td>\n",
       "      <td>1</td>\n",
       "      <td>0</td>\n",
       "    </tr>\n",
       "    <tr>\n",
       "      <th>13</th>\n",
       "      <td>1</td>\n",
       "      <td>28,5</td>\n",
       "      <td>1</td>\n",
       "      <td>1</td>\n",
       "      <td>1</td>\n",
       "      <td>28</td>\n",
       "      <td>26</td>\n",
       "      <td>1</td>\n",
       "      <td>9</td>\n",
       "      <td>21</td>\n",
       "      <td>1</td>\n",
       "      <td>0</td>\n",
       "      <td>3</td>\n",
       "      <td>8</td>\n",
       "      <td>1</td>\n",
       "      <td>0</td>\n",
       "      <td>1</td>\n",
       "    </tr>\n",
       "    <tr>\n",
       "      <th>14</th>\n",
       "      <td>1</td>\n",
       "      <td>33,5</td>\n",
       "      <td>0</td>\n",
       "      <td>0</td>\n",
       "      <td>1</td>\n",
       "      <td>27</td>\n",
       "      <td>30</td>\n",
       "      <td>1</td>\n",
       "      <td>8</td>\n",
       "      <td>21</td>\n",
       "      <td>1</td>\n",
       "      <td>0</td>\n",
       "      <td>2</td>\n",
       "      <td>10</td>\n",
       "      <td>1</td>\n",
       "      <td>1</td>\n",
       "      <td>0</td>\n",
       "    </tr>\n",
       "  </tbody>\n",
       "</table>\n",
       "</div>"
      ],
      "text/plain": [
       "    HeartDisease   BMI  Smoking  AlcoholDrinking  Stroke  PhysicalHealth  \\\n",
       "0              0  19,7        0                0       0               0   \n",
       "1              0  22,8        0                0       0               0   \n",
       "2              1  28,8        1                0       1              25   \n",
       "3              0    23        0                0       0               0   \n",
       "4              1  32,4        0                1       1              30   \n",
       "5              0  22,4        0                1       0              10   \n",
       "6              0  21,6        0                0       0              20   \n",
       "7              0  29,7        0                0       0               7   \n",
       "8              1  30,5        1                1       1              20   \n",
       "9              1  34,8        0                1       0               5   \n",
       "10             0  23,7        0                0       0               0   \n",
       "11             0  18,4        0                0       0               0   \n",
       "12             1  29,8        0                0       1              23   \n",
       "13             1  28,5        1                1       1              28   \n",
       "14             1  33,5        0                0       1              27   \n",
       "\n",
       "    MentalHealth  DiffWalking  Sex  AgeCategory  Diabetic  PhysicalActivity  \\\n",
       "0              0            0    8           10         0                 0   \n",
       "1              0            0    8           10         0                 1   \n",
       "2             28            1    9           20         1                 0   \n",
       "3              0            0    9           10         0                 0   \n",
       "4             15            1    8           18         1                 0   \n",
       "5              7            0    8           15         1                 1   \n",
       "6              8            0    8           10         0                 0   \n",
       "7              0            0    8           10         0                 0   \n",
       "8              0            1    9           12         1                 0   \n",
       "9              3            1    8           21         0                 0   \n",
       "10             5            0    9           10         0                 1   \n",
       "11            10            0    9           10         0                 1   \n",
       "12            24            1    8           20         1                 0   \n",
       "13            26            1    9           21         1                 0   \n",
       "14            30            1    8           21         1                 0   \n",
       "\n",
       "    GenHealth  SleepTime  Asthma  KidneyDisease  SkinCancer  \n",
       "0           5          6       0              0           0  \n",
       "1           5          6       1              0           0  \n",
       "2           3          9       0              1           0  \n",
       "3           6          6       0              0           0  \n",
       "4           4          4       1              1           1  \n",
       "5           4          8       0              0           0  \n",
       "6           3          5       1              0           0  \n",
       "7           3          6       1              0           0  \n",
       "8           2          4       0              1           0  \n",
       "9           3          8       1              0           1  \n",
       "10          5          6       0              0           0  \n",
       "11          5          6       0              0           0  \n",
       "12          2          9       1              1           0  \n",
       "13          3          8       1              0           1  \n",
       "14          2         10       1              1           0  "
      ]
     },
     "execution_count": 19,
     "metadata": {},
     "output_type": "execute_result"
    }
   ],
   "source": [
    "data_real=pd.read_csv('/kaggle/input/datosreales/DatosReales.csv')\n",
    "data_real"
   ]
  },
  {
   "cell_type": "markdown",
   "id": "87277950",
   "metadata": {
    "papermill": {
     "duration": 0.008645,
     "end_time": "2022-10-29T18:46:39.470160",
     "exception": false,
     "start_time": "2022-10-29T18:46:39.461515",
     "status": "completed"
    },
    "tags": []
   },
   "source": [
    "# Se divide la data real"
   ]
  },
  {
   "cell_type": "code",
   "execution_count": 20,
   "id": "00b43517",
   "metadata": {
    "execution": {
     "iopub.execute_input": "2022-10-29T18:46:39.490163Z",
     "iopub.status.busy": "2022-10-29T18:46:39.488743Z",
     "iopub.status.idle": "2022-10-29T18:46:39.494544Z",
     "shell.execute_reply": "2022-10-29T18:46:39.493707Z"
    },
    "papermill": {
     "duration": 0.017278,
     "end_time": "2022-10-29T18:46:39.496481",
     "exception": false,
     "start_time": "2022-10-29T18:46:39.479203",
     "status": "completed"
    },
    "tags": []
   },
   "outputs": [],
   "source": [
    "X_real=data_real.iloc[:,1:]\n",
    "Y_real=data_real.iloc[:,0]\n",
    "X_real[\"BMI\"] = encoder.fit_transform(X_real[\"BMI\"])"
   ]
  },
  {
   "cell_type": "markdown",
   "id": "a50091f1",
   "metadata": {
    "papermill": {
     "duration": 0.008654,
     "end_time": "2022-10-29T18:46:39.514037",
     "exception": false,
     "start_time": "2022-10-29T18:46:39.505383",
     "status": "completed"
    },
    "tags": []
   },
   "source": [
    "# Se realiza el entrenamiento y validación con el número de componente seleccionado"
   ]
  },
  {
   "cell_type": "code",
   "execution_count": 21,
   "id": "f9ecad28",
   "metadata": {
    "execution": {
     "iopub.execute_input": "2022-10-29T18:46:39.533303Z",
     "iopub.status.busy": "2022-10-29T18:46:39.532492Z",
     "iopub.status.idle": "2022-10-29T18:52:43.189751Z",
     "shell.execute_reply": "2022-10-29T18:52:43.188758Z"
    },
    "papermill": {
     "duration": 363.668874,
     "end_time": "2022-10-29T18:52:43.191729",
     "exception": false,
     "start_time": "2022-10-29T18:46:39.522855",
     "status": "completed"
    },
    "tags": []
   },
   "outputs": [
    {
     "name": "stdout",
     "output_type": "stream",
     "text": [
      "#####################Rendimiento después del entrenamiento#########################\n",
      "Model: MLPClassifier(activation='tanh',\n",
      "              hidden_layer_sizes=(100, 100, 100, 100, 100, 100, 100, 100, 100,\n",
      "                                  100),\n",
      "              max_iter=350, random_state=1)\n",
      "Accuracy Score: 0.9151439977485694\n",
      "Precission Score: 0.0\n",
      "Recall Score: 0.0\n",
      "F1-Score: 0.0\n",
      "Pipeline [0 1]\n",
      "==============================================\n",
      "Accuracy: 0.5333333333333333\n",
      "Precission Score: 0.0\n",
      "Recall Score: 0.0\n",
      "F1-Score: 0.0\n"
     ]
    },
    {
     "name": "stderr",
     "output_type": "stream",
     "text": [
      "/opt/conda/lib/python3.7/site-packages/sklearn/metrics/_classification.py:1318: UndefinedMetricWarning: Precision is ill-defined and being set to 0.0 due to no predicted samples. Use `zero_division` parameter to control this behavior.\n",
      "  _warn_prf(average, modifier, msg_start, len(result))\n",
      "/opt/conda/lib/python3.7/site-packages/sklearn/metrics/_classification.py:1318: UndefinedMetricWarning: Precision is ill-defined and being set to 0.0 due to no predicted samples. Use `zero_division` parameter to control this behavior.\n",
      "  _warn_prf(average, modifier, msg_start, len(result))\n"
     ]
    },
    {
     "data": {
      "image/png": "[encoded data removed]",
      "text/plain": [
       "<Figure size 432x288 with 2 Axes>"
      ]
     },
     "metadata": {
      "needs_background": "light"
     },
     "output_type": "display_data"
    },
    {
     "data": {
      "image/png": "[encoded data removed]",
      "text/plain": [
       "<Figure size 432x288 with 2 Axes>"
      ]
     },
     "metadata": {
      "needs_background": "light"
     },
     "output_type": "display_data"
    }
   ],
   "source": [
    "entrenamiento_num_caracteristica_seleccionada(model, n_comp=9, X= array_data_x, Y = array_data_y, Xreal=X_real, Yreal=Y_real)"
   ]
  },
  {
   "cell_type": "code",
   "execution_count": null,
   "id": "2f80642a",
   "metadata": {
    "papermill": {
     "duration": 0.009195,
     "end_time": "2022-10-29T18:52:43.214139",
     "exception": false,
     "start_time": "2022-10-29T18:52:43.204944",
     "status": "completed"
    },
    "tags": []
   },
   "outputs": [],
   "source": []
  }
 ],
 "metadata": {
  "kernelspec": {
   "display_name": "Python 3",
   "language": "python",
   "name": "python3"
  },
  "language_info": {
   "codemirror_mode": {
    "name": "ipython",
    "version": 3
   },
   "file_extension": ".py",
   "mimetype": "text/x-python",
   "name": "python",
   "nbconvert_exporter": "python",
   "pygments_lexer": "ipython3",
   "version": "3.7.12"
  },
  "papermill": {
   "default_parameters": {},
   "duration": 9252.987297,
   "end_time": "2022-10-29T18:52:43.757835",
   "environment_variables": {},
   "exception": null,
   "input_path": "__notebook__.ipynb",
   "output_path": "__notebook__.ipynb",
   "parameters": {},
   "start_time": "2022-10-29T16:18:30.770538",
   "version": "2.3.4"
  }
 },
 "nbformat": 4,
 "nbformat_minor": 5
}
