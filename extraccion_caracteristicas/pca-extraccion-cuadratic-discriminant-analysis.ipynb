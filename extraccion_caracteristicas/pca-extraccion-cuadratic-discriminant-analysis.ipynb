{
 "cells": [
  {
   "cell_type": "code",
   "execution_count": 1,
   "id": "28d12500",
   "metadata": {
    "_cell_guid": "b1076dfc-b9ad-4769-8c92-a6c4dae69d19",
    "_uuid": "8f2839f25d086af736a60e9eeb907d3b93b6e0e5",
    "execution": {
     "iopub.execute_input": "2022-10-29T16:02:25.287217Z",
     "iopub.status.busy": "2022-10-29T16:02:25.286723Z",
     "iopub.status.idle": "2022-10-29T16:02:26.851675Z",
     "shell.execute_reply": "2022-10-29T16:02:26.850076Z"
    },
    "papermill": {
     "duration": 1.578559,
     "end_time": "2022-10-29T16:02:26.854832",
     "exception": false,
     "start_time": "2022-10-29T16:02:25.276273",
     "status": "completed"
    },
    "tags": []
   },
   "outputs": [
    {
     "name": "stdout",
     "output_type": "stream",
     "text": [
      "/kaggle/input/datosreales/DatosReales.csv\n",
      "/kaggle/input/datasetpca/dataset-modificado.csv\n"
     ]
    }
   ],
   "source": [
    "# This Python 3 environment comes with many helpful analytics libraries installed\n",
    "# It is defined by the kaggle/python Docker image: https://github.com/kaggle/docker-python\n",
    "# For example, here's several helpful packages to load\n",
    "\n",
    "import numpy as np # linear algebra\n",
    "import pandas as pd # data processing, CSV file I/O (e.g. pd.read_csv)\n",
    "from sklearn.preprocessing import StandardScaler\n",
    "from sklearn.decomposition import PCA\n",
    "import matplotlib.pyplot as plt\n",
    "from sklearn.pipeline import Pipeline\n",
    "import time\n",
    "from sklearn.model_selection import train_test_split,StratifiedKFold\n",
    "from sklearn.metrics import f1_score\n",
    "from sklearn.discriminant_analysis import QuadraticDiscriminantAnalysis\n",
    "from sklearn.metrics import precision_score,recall_score,accuracy_score,f1_score,confusion_matrix,ConfusionMatrixDisplay\n",
    "import seaborn as sns\n",
    "import matplotlib.pyplot as plt\n",
    "from sklearn.preprocessing import LabelEncoder\n",
    "encoder = LabelEncoder()\n",
    "import seaborn as sns\n",
    "import matplotlib.pyplot as plt\n",
    "import joblib\n",
    "from joblib import dump, load\n",
    "\n",
    "# Input data files are available in the read-only \"../input/\" directory\n",
    "# For example, running this (by clicking run or pressing Shift+Enter) will list all files under the input directory\n",
    "\n",
    "import os\n",
    "for dirname, _, filenames in os.walk('/kaggle/input'):\n",
    "    for filename in filenames:\n",
    "        print(os.path.join(dirname, filename))\n",
    "\n",
    "# You can write up to 20GB to the current directory (/kaggle/working/) that gets preserved as output when you create a version using \"Save & Run All\" \n",
    "# You can also write temporary files to /kaggle/temp/, but they won't be saved outside of the current session"
   ]
  },
  {
   "cell_type": "markdown",
   "id": "600d5c6a",
   "metadata": {
    "papermill": {
     "duration": 0.007121,
     "end_time": "2022-10-29T16:02:26.870033",
     "exception": false,
     "start_time": "2022-10-29T16:02:26.862912",
     "status": "completed"
    },
    "tags": []
   },
   "source": [
    "## Visualización de los datos"
   ]
  },
  {
   "cell_type": "code",
   "execution_count": 2,
   "id": "8ab34844",
   "metadata": {
    "execution": {
     "iopub.execute_input": "2022-10-29T16:02:26.888596Z",
     "iopub.status.busy": "2022-10-29T16:02:26.888047Z",
     "iopub.status.idle": "2022-10-29T16:02:27.618393Z",
     "shell.execute_reply": "2022-10-29T16:02:27.617209Z"
    },
    "papermill": {
     "duration": 0.743352,
     "end_time": "2022-10-29T16:02:27.620877",
     "exception": false,
     "start_time": "2022-10-29T16:02:26.877525",
     "status": "completed"
    },
    "tags": []
   },
   "outputs": [
    {
     "data": {
      "text/html": [
       "<div>\n",
       "<style scoped>\n",
       "    .dataframe tbody tr th:only-of-type {\n",
       "        vertical-align: middle;\n",
       "    }\n",
       "\n",
       "    .dataframe tbody tr th {\n",
       "        vertical-align: top;\n",
       "    }\n",
       "\n",
       "    .dataframe thead th {\n",
       "        text-align: right;\n",
       "    }\n",
       "</style>\n",
       "<table border=\"1\" class=\"dataframe\">\n",
       "  <thead>\n",
       "    <tr style=\"text-align: right;\">\n",
       "      <th></th>\n",
       "      <th>HeartDisease</th>\n",
       "      <th>BMI</th>\n",
       "      <th>Smoking</th>\n",
       "      <th>AlcoholDrinking</th>\n",
       "      <th>Stroke</th>\n",
       "      <th>PhysicalHealth</th>\n",
       "      <th>MentalHealth</th>\n",
       "      <th>DiffWalking</th>\n",
       "      <th>Sex</th>\n",
       "      <th>AgeCategory</th>\n",
       "      <th>Diabetic</th>\n",
       "      <th>PhysicalActivity</th>\n",
       "      <th>GenHealth</th>\n",
       "      <th>SleepTime</th>\n",
       "      <th>Asthma</th>\n",
       "      <th>KidneyDisease</th>\n",
       "      <th>SkinCancer</th>\n",
       "    </tr>\n",
       "  </thead>\n",
       "  <tbody>\n",
       "    <tr>\n",
       "      <th>0</th>\n",
       "      <td>0</td>\n",
       "      <td>16.60</td>\n",
       "      <td>1</td>\n",
       "      <td>0</td>\n",
       "      <td>0</td>\n",
       "      <td>3.0</td>\n",
       "      <td>30.0</td>\n",
       "      <td>0</td>\n",
       "      <td>8</td>\n",
       "      <td>17</td>\n",
       "      <td>1</td>\n",
       "      <td>1</td>\n",
       "      <td>5</td>\n",
       "      <td>5.0</td>\n",
       "      <td>1</td>\n",
       "      <td>0</td>\n",
       "      <td>1</td>\n",
       "    </tr>\n",
       "    <tr>\n",
       "      <th>1</th>\n",
       "      <td>0</td>\n",
       "      <td>20.34</td>\n",
       "      <td>0</td>\n",
       "      <td>0</td>\n",
       "      <td>1</td>\n",
       "      <td>0.0</td>\n",
       "      <td>0.0</td>\n",
       "      <td>0</td>\n",
       "      <td>8</td>\n",
       "      <td>22</td>\n",
       "      <td>0</td>\n",
       "      <td>1</td>\n",
       "      <td>5</td>\n",
       "      <td>7.0</td>\n",
       "      <td>0</td>\n",
       "      <td>0</td>\n",
       "      <td>0</td>\n",
       "    </tr>\n",
       "    <tr>\n",
       "      <th>2</th>\n",
       "      <td>0</td>\n",
       "      <td>26.58</td>\n",
       "      <td>1</td>\n",
       "      <td>0</td>\n",
       "      <td>0</td>\n",
       "      <td>20.0</td>\n",
       "      <td>30.0</td>\n",
       "      <td>0</td>\n",
       "      <td>9</td>\n",
       "      <td>19</td>\n",
       "      <td>1</td>\n",
       "      <td>1</td>\n",
       "      <td>3</td>\n",
       "      <td>8.0</td>\n",
       "      <td>1</td>\n",
       "      <td>0</td>\n",
       "      <td>0</td>\n",
       "    </tr>\n",
       "    <tr>\n",
       "      <th>3</th>\n",
       "      <td>0</td>\n",
       "      <td>24.21</td>\n",
       "      <td>0</td>\n",
       "      <td>0</td>\n",
       "      <td>0</td>\n",
       "      <td>0.0</td>\n",
       "      <td>0.0</td>\n",
       "      <td>0</td>\n",
       "      <td>8</td>\n",
       "      <td>21</td>\n",
       "      <td>0</td>\n",
       "      <td>0</td>\n",
       "      <td>4</td>\n",
       "      <td>6.0</td>\n",
       "      <td>0</td>\n",
       "      <td>0</td>\n",
       "      <td>1</td>\n",
       "    </tr>\n",
       "    <tr>\n",
       "      <th>4</th>\n",
       "      <td>0</td>\n",
       "      <td>23.71</td>\n",
       "      <td>0</td>\n",
       "      <td>0</td>\n",
       "      <td>0</td>\n",
       "      <td>28.0</td>\n",
       "      <td>0.0</td>\n",
       "      <td>1</td>\n",
       "      <td>8</td>\n",
       "      <td>14</td>\n",
       "      <td>0</td>\n",
       "      <td>1</td>\n",
       "      <td>5</td>\n",
       "      <td>8.0</td>\n",
       "      <td>0</td>\n",
       "      <td>0</td>\n",
       "      <td>0</td>\n",
       "    </tr>\n",
       "  </tbody>\n",
       "</table>\n",
       "</div>"
      ],
      "text/plain": [
       "   HeartDisease    BMI  Smoking  AlcoholDrinking  Stroke  PhysicalHealth  \\\n",
       "0             0  16.60        1                0       0             3.0   \n",
       "1             0  20.34        0                0       1             0.0   \n",
       "2             0  26.58        1                0       0            20.0   \n",
       "3             0  24.21        0                0       0             0.0   \n",
       "4             0  23.71        0                0       0            28.0   \n",
       "\n",
       "   MentalHealth  DiffWalking  Sex  AgeCategory  Diabetic  PhysicalActivity  \\\n",
       "0          30.0            0    8           17         1                 1   \n",
       "1           0.0            0    8           22         0                 1   \n",
       "2          30.0            0    9           19         1                 1   \n",
       "3           0.0            0    8           21         0                 0   \n",
       "4           0.0            1    8           14         0                 1   \n",
       "\n",
       "   GenHealth  SleepTime  Asthma  KidneyDisease  SkinCancer  \n",
       "0          5        5.0       1              0           1  \n",
       "1          5        7.0       0              0           0  \n",
       "2          3        8.0       1              0           0  \n",
       "3          4        6.0       0              0           1  \n",
       "4          5        8.0       0              0           0  "
      ]
     },
     "execution_count": 2,
     "metadata": {},
     "output_type": "execute_result"
    }
   ],
   "source": [
    "data=pd.read_csv(\"/kaggle/input/datasetpca/dataset-modificado.csv\")\n",
    "df=data.copy()\n",
    "df=df.drop([\"Unnamed: 0\"],axis=1)\n",
    "df.head()"
   ]
  },
  {
   "cell_type": "markdown",
   "id": "129b0a2d",
   "metadata": {
    "papermill": {
     "duration": 0.0082,
     "end_time": "2022-10-29T16:02:27.636930",
     "exception": false,
     "start_time": "2022-10-29T16:02:27.628730",
     "status": "completed"
    },
    "tags": []
   },
   "source": [
    "## Separación de los datos"
   ]
  },
  {
   "cell_type": "code",
   "execution_count": 3,
   "id": "c02232cb",
   "metadata": {
    "execution": {
     "iopub.execute_input": "2022-10-29T16:02:27.654520Z",
     "iopub.status.busy": "2022-10-29T16:02:27.654054Z",
     "iopub.status.idle": "2022-10-29T16:02:27.674458Z",
     "shell.execute_reply": "2022-10-29T16:02:27.673111Z"
    },
    "papermill": {
     "duration": 0.032157,
     "end_time": "2022-10-29T16:02:27.676916",
     "exception": false,
     "start_time": "2022-10-29T16:02:27.644759",
     "status": "completed"
    },
    "tags": []
   },
   "outputs": [],
   "source": [
    "X=df.iloc[:,1:17]\n",
    "Y=df.iloc[:,0]"
   ]
  },
  {
   "cell_type": "markdown",
   "id": "3745f575",
   "metadata": {
    "papermill": {
     "duration": 0.007543,
     "end_time": "2022-10-29T16:02:27.693697",
     "exception": false,
     "start_time": "2022-10-29T16:02:27.686154",
     "status": "completed"
    },
    "tags": []
   },
   "source": [
    "# Conversión del dataset\n",
    "Transformamos el dataset a array para luego realizar la extracciónde características"
   ]
  },
  {
   "cell_type": "code",
   "execution_count": 4,
   "id": "99b2f991",
   "metadata": {
    "execution": {
     "iopub.execute_input": "2022-10-29T16:02:27.711224Z",
     "iopub.status.busy": "2022-10-29T16:02:27.710782Z",
     "iopub.status.idle": "2022-10-29T16:02:27.756251Z",
     "shell.execute_reply": "2022-10-29T16:02:27.754923Z"
    },
    "papermill": {
     "duration": 0.057514,
     "end_time": "2022-10-29T16:02:27.758994",
     "exception": false,
     "start_time": "2022-10-29T16:02:27.701480",
     "status": "completed"
    },
    "tags": []
   },
   "outputs": [],
   "source": [
    "array_data_x =  np.array(X)\n",
    "array_data_y = np.array(Y)"
   ]
  },
  {
   "cell_type": "markdown",
   "id": "83b18e57",
   "metadata": {
    "papermill": {
     "duration": 0.00866,
     "end_time": "2022-10-29T16:02:27.775853",
     "exception": false,
     "start_time": "2022-10-29T16:02:27.767193",
     "status": "completed"
    },
    "tags": []
   },
   "source": [
    "# Función para extraer las características\n",
    "Esta función realiza la reducción de la dimensionalidad sobre el conjunto de datos de entrenamiento, de acuerdo con las particiones especificadas usando PCA"
   ]
  },
  {
   "cell_type": "code",
   "execution_count": 5,
   "id": "98ebaa83",
   "metadata": {
    "execution": {
     "iopub.execute_input": "2022-10-29T16:02:27.794092Z",
     "iopub.status.busy": "2022-10-29T16:02:27.793669Z",
     "iopub.status.idle": "2022-10-29T16:02:27.804925Z",
     "shell.execute_reply": "2022-10-29T16:02:27.803513Z"
    },
    "papermill": {
     "duration": 0.023594,
     "end_time": "2022-10-29T16:02:27.807462",
     "exception": false,
     "start_time": "2022-10-29T16:02:27.783868",
     "status": "completed"
    },
    "tags": []
   },
   "outputs": [],
   "source": [
    "def entrenamiento_pca_ext_caracteristicas(model, n_comp, n_sets, X, Y):\n",
    "    \"\"\"\n",
    "    \n",
    "    Argumentos:\n",
    "        model: modelo a evaluar\n",
    "        n_comp, int, Número de componentes para reducción\n",
    "        n_sets,int, Número de particiones\n",
    "        X: numpy Array de características\n",
    "        Y: numpy Array  Vector de etiquetas\n",
    "\n",
    "    Retorna: \n",
    "        El valor medio de la medida de rendimiento.\n",
    "        La desviación estandar de la medida de rendimiento.\n",
    "        El  valor medio del tiempo de ejecución.\n",
    "    \"\"\"  \n",
    "    #Implemetamos la metodología de validación \n",
    "    rendimiento = np.ones(n_sets)\n",
    "    tiempos = np.ones(n_sets)\n",
    "    j = 0\n",
    "    kf = StratifiedKFold(n_splits=n_sets)\n",
    "    for train_index, test_index in kf.split(X, Y):  \n",
    "        X_train, X_test = X[train_index], X[test_index]\n",
    "        y_train, y_test = Y[train_index], Y[test_index]\n",
    "        pca =PCA(n_components=n_comp)\n",
    "        clf = model\n",
    "        definicion_pipeline = [\n",
    "           ('scaler', StandardScaler()), \n",
    "           ('pca',pca),\n",
    "           ('Model', clf)\n",
    "        ]\n",
    "        pipeline = Pipeline(definicion_pipeline)\n",
    "        # para calcular costo computacional\n",
    "        tiempo_i = time.time()\n",
    "        pipeline=pipeline.fit(X=X_train, y=y_train)\n",
    "        tiempo_o = time.time()-tiempo_i\n",
    "        y_pred=pipeline.predict(X=X_test)\n",
    "        rendimiento[j] =f1_score(y_true=y_test, y_pred=y_pred)\n",
    "        tiempos[j] = tiempo_o\n",
    "        j+=1\n",
    "\n",
    "\n",
    "    return np.mean(rendimiento), np.std(rendimiento), np.mean(tiempos)"
   ]
  },
  {
   "cell_type": "markdown",
   "id": "bb3505d0",
   "metadata": {
    "papermill": {
     "duration": 0.008252,
     "end_time": "2022-10-29T16:02:27.823489",
     "exception": false,
     "start_time": "2022-10-29T16:02:27.815237",
     "status": "completed"
    },
    "tags": []
   },
   "source": [
    "# Realizar experimentos\n",
    "Se realizan diferentes evaluaciones para validar la efectividad del PCA"
   ]
  },
  {
   "cell_type": "code",
   "execution_count": 6,
   "id": "0118aef9",
   "metadata": {
    "execution": {
     "iopub.execute_input": "2022-10-29T16:02:27.840632Z",
     "iopub.status.busy": "2022-10-29T16:02:27.840195Z",
     "iopub.status.idle": "2022-10-29T16:02:27.847900Z",
     "shell.execute_reply": "2022-10-29T16:02:27.846991Z"
    },
    "papermill": {
     "duration": 0.018659,
     "end_time": "2022-10-29T16:02:27.849954",
     "exception": false,
     "start_time": "2022-10-29T16:02:27.831295",
     "status": "completed"
    },
    "tags": []
   },
   "outputs": [],
   "source": [
    "def experimentar_PCA(model, n_feats, X, Y):\n",
    "    \"\"\"\n",
    "    Esta función realiza la comparación del desempeño de RFE utilizando diferente \n",
    "    número de feats y particionando el conjunto de datos en diferente número de \n",
    "    subconjuntos\n",
    "\n",
    "    Parámetros:\n",
    "        model: modelo a evaluar\n",
    "        X (numpy.array), El arreglo numpy de características\n",
    "        Y (numpy.array), El vector de etiquetas\n",
    "        n_feats, Vector de números enteros que indica el número de características\n",
    "                que debe utilizar el modelo\n",
    "        n_sets, Vector de números enteros que indica el número de particiones\n",
    "\n",
    "    Retorna:  \n",
    "        - DataFrame con las columnas\n",
    "    \"\"\"\n",
    "    df = pd.DataFrame()\n",
    "    idx = 0\n",
    "    split_number = 5\n",
    "    #Con selección de características\n",
    "    \n",
    "    for f in n_feats:\n",
    "        #Implemetamos la metodología de validación \n",
    "        rendimiento,rendimiento_std,t_ex = entrenamiento_pca_ext_caracteristicas(model, n_comp=f, n_sets=split_number, X=X ,Y=Y)\n",
    "        df.loc[idx,'NUM_VAR'] = f\n",
    "        df.loc[idx,'T_EJECUCION'] = t_ex\n",
    "        df.loc[idx,'RENDIMIENTO_VALIDACION'] =rendimiento\n",
    "        df.loc[idx, 'RENDIMIENTO_VALIDACION_STD'] = rendimiento_std\n",
    "        idx+=1\n",
    "    return df"
   ]
  },
  {
   "cell_type": "markdown",
   "id": "986c3537",
   "metadata": {
    "papermill": {
     "duration": 0.007327,
     "end_time": "2022-10-29T16:02:27.865101",
     "exception": false,
     "start_time": "2022-10-29T16:02:27.857774",
     "status": "completed"
    },
    "tags": []
   },
   "source": [
    "# Probando con diferente número de características\n",
    "Se utiliza el modelo QuadraticDiscriminantAnalysis() para evaluar con 3, 6, 9 y 14 características con la función anterior, además se usan los array creados a partir del dataset"
   ]
  },
  {
   "cell_type": "code",
   "execution_count": 7,
   "id": "98656ce2",
   "metadata": {
    "execution": {
     "iopub.execute_input": "2022-10-29T16:02:27.882670Z",
     "iopub.status.busy": "2022-10-29T16:02:27.881683Z",
     "iopub.status.idle": "2022-10-29T16:02:55.557811Z",
     "shell.execute_reply": "2022-10-29T16:02:55.556531Z"
    },
    "papermill": {
     "duration": 27.688897,
     "end_time": "2022-10-29T16:02:55.561694",
     "exception": false,
     "start_time": "2022-10-29T16:02:27.872797",
     "status": "completed"
    },
    "tags": []
   },
   "outputs": [
    {
     "data": {
      "text/html": [
       "<div>\n",
       "<style scoped>\n",
       "    .dataframe tbody tr th:only-of-type {\n",
       "        vertical-align: middle;\n",
       "    }\n",
       "\n",
       "    .dataframe tbody tr th {\n",
       "        vertical-align: top;\n",
       "    }\n",
       "\n",
       "    .dataframe thead th {\n",
       "        text-align: right;\n",
       "    }\n",
       "</style>\n",
       "<table border=\"1\" class=\"dataframe\">\n",
       "  <thead>\n",
       "    <tr style=\"text-align: right;\">\n",
       "      <th></th>\n",
       "      <th>NUM_VAR</th>\n",
       "      <th>T_EJECUCION</th>\n",
       "      <th>RENDIMIENTO_VALIDACION</th>\n",
       "      <th>RENDIMIENTO_VALIDACION_STD</th>\n",
       "    </tr>\n",
       "  </thead>\n",
       "  <tbody>\n",
       "    <tr>\n",
       "      <th>0</th>\n",
       "      <td>3.0</td>\n",
       "      <td>1.364014</td>\n",
       "      <td>0.275731</td>\n",
       "      <td>0.012559</td>\n",
       "    </tr>\n",
       "    <tr>\n",
       "      <th>1</th>\n",
       "      <td>6.0</td>\n",
       "      <td>1.520310</td>\n",
       "      <td>0.305799</td>\n",
       "      <td>0.012148</td>\n",
       "    </tr>\n",
       "    <tr>\n",
       "      <th>2</th>\n",
       "      <td>9.0</td>\n",
       "      <td>1.638704</td>\n",
       "      <td>0.309963</td>\n",
       "      <td>0.008966</td>\n",
       "    </tr>\n",
       "    <tr>\n",
       "      <th>3</th>\n",
       "      <td>14.0</td>\n",
       "      <td>0.538694</td>\n",
       "      <td>0.335447</td>\n",
       "      <td>0.007098</td>\n",
       "    </tr>\n",
       "  </tbody>\n",
       "</table>\n",
       "</div>"
      ],
      "text/plain": [
       "   NUM_VAR  T_EJECUCION  RENDIMIENTO_VALIDACION  RENDIMIENTO_VALIDACION_STD\n",
       "0      3.0     1.364014                0.275731                    0.012559\n",
       "1      6.0     1.520310                0.305799                    0.012148\n",
       "2      9.0     1.638704                0.309963                    0.008966\n",
       "3     14.0     0.538694                0.335447                    0.007098"
      ]
     },
     "execution_count": 7,
     "metadata": {},
     "output_type": "execute_result"
    }
   ],
   "source": [
    "resultados = experimentar_PCA(QuadraticDiscriminantAnalysis(), n_feats=[3,6,9,14], X= array_data_x, Y = array_data_y)\n",
    "resultados"
   ]
  },
  {
   "cell_type": "markdown",
   "id": "acbdaeb2",
   "metadata": {
    "papermill": {
     "duration": 0.012507,
     "end_time": "2022-10-29T16:02:55.588463",
     "exception": false,
     "start_time": "2022-10-29T16:02:55.575956",
     "status": "completed"
    },
    "tags": []
   },
   "source": [
    "# Se exporta los resultado a un archivo .csv"
   ]
  },
  {
   "cell_type": "code",
   "execution_count": 8,
   "id": "7c7389a5",
   "metadata": {
    "execution": {
     "iopub.execute_input": "2022-10-29T16:02:55.615415Z",
     "iopub.status.busy": "2022-10-29T16:02:55.615042Z",
     "iopub.status.idle": "2022-10-29T16:02:55.622853Z",
     "shell.execute_reply": "2022-10-29T16:02:55.621980Z"
    },
    "papermill": {
     "duration": 0.023425,
     "end_time": "2022-10-29T16:02:55.625260",
     "exception": false,
     "start_time": "2022-10-29T16:02:55.601835",
     "status": "completed"
    },
    "tags": []
   },
   "outputs": [],
   "source": [
    "resultados.to_csv(\"resultados_pca.csv\", encoding=\"utf-8\")"
   ]
  },
  {
   "cell_type": "markdown",
   "id": "6a767ece",
   "metadata": {
    "papermill": {
     "duration": 0.007741,
     "end_time": "2022-10-29T16:02:55.641173",
     "exception": false,
     "start_time": "2022-10-29T16:02:55.633432",
     "status": "completed"
    },
    "tags": []
   },
   "source": [
    "# Gráficas de rendimiento"
   ]
  },
  {
   "cell_type": "markdown",
   "id": "7fc6a07c",
   "metadata": {
    "papermill": {
     "duration": 0.008198,
     "end_time": "2022-10-29T16:02:55.657526",
     "exception": false,
     "start_time": "2022-10-29T16:02:55.649328",
     "status": "completed"
    },
    "tags": []
   },
   "source": [
    "## Se grafica el número de variable respecto al rendimiento que tuvieron"
   ]
  },
  {
   "cell_type": "code",
   "execution_count": 9,
   "id": "a9550ed9",
   "metadata": {
    "execution": {
     "iopub.execute_input": "2022-10-29T16:02:55.675939Z",
     "iopub.status.busy": "2022-10-29T16:02:55.675142Z",
     "iopub.status.idle": "2022-10-29T16:02:55.905542Z",
     "shell.execute_reply": "2022-10-29T16:02:55.904220Z"
    },
    "papermill": {
     "duration": 0.24254,
     "end_time": "2022-10-29T16:02:55.908086",
     "exception": false,
     "start_time": "2022-10-29T16:02:55.665546",
     "status": "completed"
    },
    "tags": []
   },
   "outputs": [
    {
     "data": {
      "image/png": "[encoded data removed]",
      "text/plain": [
       "<Figure size 432x288 with 1 Axes>"
      ]
     },
     "metadata": {
      "needs_background": "light"
     },
     "output_type": "display_data"
    }
   ],
   "source": [
    "sns.lineplot(data=resultados,x=\"NUM_VAR\",y=\"RENDIMIENTO_VALIDACION\")\n",
    "plt.show()"
   ]
  },
  {
   "cell_type": "markdown",
   "id": "355168a9",
   "metadata": {
    "papermill": {
     "duration": 0.008104,
     "end_time": "2022-10-29T16:02:55.924977",
     "exception": false,
     "start_time": "2022-10-29T16:02:55.916873",
     "status": "completed"
    },
    "tags": []
   },
   "source": [
    "## Se grafica el número de variable respecto al tiempo de ejecución que tuvieron"
   ]
  },
  {
   "cell_type": "code",
   "execution_count": 10,
   "id": "d7c81aaa",
   "metadata": {
    "execution": {
     "iopub.execute_input": "2022-10-29T16:02:55.943430Z",
     "iopub.status.busy": "2022-10-29T16:02:55.943014Z",
     "iopub.status.idle": "2022-10-29T16:02:56.143302Z",
     "shell.execute_reply": "2022-10-29T16:02:56.142055Z"
    },
    "papermill": {
     "duration": 0.212542,
     "end_time": "2022-10-29T16:02:56.145890",
     "exception": false,
     "start_time": "2022-10-29T16:02:55.933348",
     "status": "completed"
    },
    "tags": []
   },
   "outputs": [
    {
     "data": {
      "image/png": "[encoded data removed]",
      "text/plain": [
       "<Figure size 432x288 with 1 Axes>"
      ]
     },
     "metadata": {
      "needs_background": "light"
     },
     "output_type": "display_data"
    }
   ],
   "source": [
    "sns.lineplot(data=resultados,x=\"NUM_VAR\",y=\"T_EJECUCION\")\n",
    "plt.show()"
   ]
  },
  {
   "cell_type": "markdown",
   "id": "81d5b22c",
   "metadata": {
    "papermill": {
     "duration": 0.008458,
     "end_time": "2022-10-29T16:02:56.163493",
     "exception": false,
     "start_time": "2022-10-29T16:02:56.155035",
     "status": "completed"
    },
    "tags": []
   },
   "source": [
    "# Ordenar los resultados"
   ]
  },
  {
   "cell_type": "markdown",
   "id": "8d790cfa",
   "metadata": {
    "papermill": {
     "duration": 0.008354,
     "end_time": "2022-10-29T16:02:56.180833",
     "exception": false,
     "start_time": "2022-10-29T16:02:56.172479",
     "status": "completed"
    },
    "tags": []
   },
   "source": [
    "## Se ordenan los resultados de forma descendente para ver cuál fue el número de componentes con mejor rendimiento"
   ]
  },
  {
   "cell_type": "code",
   "execution_count": 11,
   "id": "a7d42f32",
   "metadata": {
    "execution": {
     "iopub.execute_input": "2022-10-29T16:02:56.200029Z",
     "iopub.status.busy": "2022-10-29T16:02:56.199620Z",
     "iopub.status.idle": "2022-10-29T16:02:56.213357Z",
     "shell.execute_reply": "2022-10-29T16:02:56.212080Z"
    },
    "papermill": {
     "duration": 0.026393,
     "end_time": "2022-10-29T16:02:56.215965",
     "exception": false,
     "start_time": "2022-10-29T16:02:56.189572",
     "status": "completed"
    },
    "tags": []
   },
   "outputs": [
    {
     "data": {
      "text/html": [
       "<div>\n",
       "<style scoped>\n",
       "    .dataframe tbody tr th:only-of-type {\n",
       "        vertical-align: middle;\n",
       "    }\n",
       "\n",
       "    .dataframe tbody tr th {\n",
       "        vertical-align: top;\n",
       "    }\n",
       "\n",
       "    .dataframe thead th {\n",
       "        text-align: right;\n",
       "    }\n",
       "</style>\n",
       "<table border=\"1\" class=\"dataframe\">\n",
       "  <thead>\n",
       "    <tr style=\"text-align: right;\">\n",
       "      <th></th>\n",
       "      <th>NUM_VAR</th>\n",
       "      <th>T_EJECUCION</th>\n",
       "      <th>RENDIMIENTO_VALIDACION</th>\n",
       "      <th>RENDIMIENTO_VALIDACION_STD</th>\n",
       "    </tr>\n",
       "  </thead>\n",
       "  <tbody>\n",
       "    <tr>\n",
       "      <th>3</th>\n",
       "      <td>14.0</td>\n",
       "      <td>0.538694</td>\n",
       "      <td>0.335447</td>\n",
       "      <td>0.007098</td>\n",
       "    </tr>\n",
       "    <tr>\n",
       "      <th>2</th>\n",
       "      <td>9.0</td>\n",
       "      <td>1.638704</td>\n",
       "      <td>0.309963</td>\n",
       "      <td>0.008966</td>\n",
       "    </tr>\n",
       "    <tr>\n",
       "      <th>1</th>\n",
       "      <td>6.0</td>\n",
       "      <td>1.520310</td>\n",
       "      <td>0.305799</td>\n",
       "      <td>0.012148</td>\n",
       "    </tr>\n",
       "    <tr>\n",
       "      <th>0</th>\n",
       "      <td>3.0</td>\n",
       "      <td>1.364014</td>\n",
       "      <td>0.275731</td>\n",
       "      <td>0.012559</td>\n",
       "    </tr>\n",
       "  </tbody>\n",
       "</table>\n",
       "</div>"
      ],
      "text/plain": [
       "   NUM_VAR  T_EJECUCION  RENDIMIENTO_VALIDACION  RENDIMIENTO_VALIDACION_STD\n",
       "3     14.0     0.538694                0.335447                    0.007098\n",
       "2      9.0     1.638704                0.309963                    0.008966\n",
       "1      6.0     1.520310                0.305799                    0.012148\n",
       "0      3.0     1.364014                0.275731                    0.012559"
      ]
     },
     "execution_count": 11,
     "metadata": {},
     "output_type": "execute_result"
    }
   ],
   "source": [
    "resultados.sort_values(by ='RENDIMIENTO_VALIDACION', ascending =False)"
   ]
  },
  {
   "cell_type": "markdown",
   "id": "f7d12bba",
   "metadata": {
    "papermill": {
     "duration": 0.009016,
     "end_time": "2022-10-29T16:02:56.235285",
     "exception": false,
     "start_time": "2022-10-29T16:02:56.226269",
     "status": "completed"
    },
    "tags": []
   },
   "source": [
    "## Se ordenan los resultados de forma ascendente para ver cuál fue el número de componentes con menor tiempo de ejecución"
   ]
  },
  {
   "cell_type": "code",
   "execution_count": 12,
   "id": "1dec574f",
   "metadata": {
    "execution": {
     "iopub.execute_input": "2022-10-29T16:02:56.255058Z",
     "iopub.status.busy": "2022-10-29T16:02:56.254652Z",
     "iopub.status.idle": "2022-10-29T16:02:56.269086Z",
     "shell.execute_reply": "2022-10-29T16:02:56.267874Z"
    },
    "papermill": {
     "duration": 0.027131,
     "end_time": "2022-10-29T16:02:56.271666",
     "exception": false,
     "start_time": "2022-10-29T16:02:56.244535",
     "status": "completed"
    },
    "tags": []
   },
   "outputs": [
    {
     "data": {
      "text/html": [
       "<div>\n",
       "<style scoped>\n",
       "    .dataframe tbody tr th:only-of-type {\n",
       "        vertical-align: middle;\n",
       "    }\n",
       "\n",
       "    .dataframe tbody tr th {\n",
       "        vertical-align: top;\n",
       "    }\n",
       "\n",
       "    .dataframe thead th {\n",
       "        text-align: right;\n",
       "    }\n",
       "</style>\n",
       "<table border=\"1\" class=\"dataframe\">\n",
       "  <thead>\n",
       "    <tr style=\"text-align: right;\">\n",
       "      <th></th>\n",
       "      <th>NUM_VAR</th>\n",
       "      <th>T_EJECUCION</th>\n",
       "      <th>RENDIMIENTO_VALIDACION</th>\n",
       "      <th>RENDIMIENTO_VALIDACION_STD</th>\n",
       "    </tr>\n",
       "  </thead>\n",
       "  <tbody>\n",
       "    <tr>\n",
       "      <th>3</th>\n",
       "      <td>14.0</td>\n",
       "      <td>0.538694</td>\n",
       "      <td>0.335447</td>\n",
       "      <td>0.007098</td>\n",
       "    </tr>\n",
       "    <tr>\n",
       "      <th>0</th>\n",
       "      <td>3.0</td>\n",
       "      <td>1.364014</td>\n",
       "      <td>0.275731</td>\n",
       "      <td>0.012559</td>\n",
       "    </tr>\n",
       "    <tr>\n",
       "      <th>1</th>\n",
       "      <td>6.0</td>\n",
       "      <td>1.520310</td>\n",
       "      <td>0.305799</td>\n",
       "      <td>0.012148</td>\n",
       "    </tr>\n",
       "    <tr>\n",
       "      <th>2</th>\n",
       "      <td>9.0</td>\n",
       "      <td>1.638704</td>\n",
       "      <td>0.309963</td>\n",
       "      <td>0.008966</td>\n",
       "    </tr>\n",
       "  </tbody>\n",
       "</table>\n",
       "</div>"
      ],
      "text/plain": [
       "   NUM_VAR  T_EJECUCION  RENDIMIENTO_VALIDACION  RENDIMIENTO_VALIDACION_STD\n",
       "3     14.0     0.538694                0.335447                    0.007098\n",
       "0      3.0     1.364014                0.275731                    0.012559\n",
       "1      6.0     1.520310                0.305799                    0.012148\n",
       "2      9.0     1.638704                0.309963                    0.008966"
      ]
     },
     "execution_count": 12,
     "metadata": {},
     "output_type": "execute_result"
    }
   ],
   "source": [
    "resultados.sort_values(by ='T_EJECUCION', ascending =True)"
   ]
  },
  {
   "cell_type": "markdown",
   "id": "7d12e228",
   "metadata": {
    "papermill": {
     "duration": 0.009014,
     "end_time": "2022-10-29T16:02:56.290491",
     "exception": false,
     "start_time": "2022-10-29T16:02:56.281477",
     "status": "completed"
    },
    "tags": []
   },
   "source": [
    "# Función con el número de componentes seleccionada\n"
   ]
  },
  {
   "cell_type": "markdown",
   "id": "5c703fb6",
   "metadata": {
    "papermill": {
     "duration": 0.008738,
     "end_time": "2022-10-29T16:02:56.308430",
     "exception": false,
     "start_time": "2022-10-29T16:02:56.299692",
     "status": "completed"
    },
    "tags": []
   },
   "source": [
    "Se obtiene el rendimiento de entrenamiento y prueba con el número de componente seleccionada"
   ]
  },
  {
   "cell_type": "code",
   "execution_count": 13,
   "id": "e24bff9a",
   "metadata": {
    "execution": {
     "iopub.execute_input": "2022-10-29T16:02:56.329167Z",
     "iopub.status.busy": "2022-10-29T16:02:56.328745Z",
     "iopub.status.idle": "2022-10-29T16:02:56.340872Z",
     "shell.execute_reply": "2022-10-29T16:02:56.339655Z"
    },
    "papermill": {
     "duration": 0.025074,
     "end_time": "2022-10-29T16:02:56.343239",
     "exception": false,
     "start_time": "2022-10-29T16:02:56.318165",
     "status": "completed"
    },
    "tags": []
   },
   "outputs": [],
   "source": [
    "def entrenamiento_num_caracteristica_seleccionada(model, n_comp, X, Y, Xreal, Yreal):\n",
    "    X_train, X_test, y_train, y_test = train_test_split(X,\n",
    "                                               Y,\n",
    "                                               test_size=0.3,\n",
    "                                               random_state=50) \n",
    "\n",
    "    \n",
    "    pca =PCA(n_components=n_comp)\n",
    "    Xreal = pca.fit_transform(Xreal)\n",
    "    clf = model\n",
    "    definicion_pipeline = [\n",
    "       ('pca',pca),\n",
    "       ('Model', clf)\n",
    "    ]\n",
    "    pipeline = Pipeline(definicion_pipeline)\n",
    "    pipeline=pipeline.fit(X=X_train, y=y_train)\n",
    "    Ypred=pipeline.predict(X_test)\n",
    "    print(\"#####################Rendimiento después del entrenamiento#########################\")\n",
    "    print(f'Model: {str(model)}')\n",
    "    print(f'Accuracy Score: {accuracy_score(y_test,Ypred)}')\n",
    "    print(f'Precission Score: {precision_score(y_test,Ypred)}')\n",
    "    print(f'Recall Score: {recall_score(y_test,Ypred)}')\n",
    "    print(f'F1-Score: {f1_score(y_test,Ypred)}')\n",
    "    cm = confusion_matrix(y_test, Ypred, labels=pipeline.classes_)\n",
    "    disp = ConfusionMatrixDisplay(confusion_matrix=cm,display_labels=model.classes_)\n",
    "    disp.plot()\n",
    "    print(\"Pipeline\", pipeline.classes_)\n",
    "    \n",
    "    print#####################Rendimiento después del test#########################\n",
    "    y_pred=model.predict(Xreal)\n",
    "    print(\"Accuracy:\",accuracy_score(Yreal, y_pred))\n",
    "    print(f'Precission Score: {precision_score(Yreal,y_pred)}')\n",
    "    print(f'Recall Score: {recall_score(Yreal,y_pred)}')\n",
    "    print(f'F1-Score: {f1_score(Yreal,y_pred)}')\n",
    "    cm = confusion_matrix(Yreal, y_pred, labels=pipeline.classes_)\n",
    "    disp = ConfusionMatrixDisplay(confusion_matrix=cm,display_labels=pipeline.classes_)\n",
    "    disp.plot()"
   ]
  },
  {
   "cell_type": "markdown",
   "id": "0375a757",
   "metadata": {
    "papermill": {
     "duration": 0.009521,
     "end_time": "2022-10-29T16:02:56.362606",
     "exception": false,
     "start_time": "2022-10-29T16:02:56.353085",
     "status": "completed"
    },
    "tags": []
   },
   "source": [
    "# Se carga la data a probar"
   ]
  },
  {
   "cell_type": "code",
   "execution_count": 14,
   "id": "30bbd6bb",
   "metadata": {
    "execution": {
     "iopub.execute_input": "2022-10-29T16:02:56.383754Z",
     "iopub.status.busy": "2022-10-29T16:02:56.383331Z",
     "iopub.status.idle": "2022-10-29T16:02:56.409126Z",
     "shell.execute_reply": "2022-10-29T16:02:56.407493Z"
    },
    "papermill": {
     "duration": 0.039821,
     "end_time": "2022-10-29T16:02:56.411683",
     "exception": false,
     "start_time": "2022-10-29T16:02:56.371862",
     "status": "completed"
    },
    "tags": []
   },
   "outputs": [
    {
     "data": {
      "text/html": [
       "<div>\n",
       "<style scoped>\n",
       "    .dataframe tbody tr th:only-of-type {\n",
       "        vertical-align: middle;\n",
       "    }\n",
       "\n",
       "    .dataframe tbody tr th {\n",
       "        vertical-align: top;\n",
       "    }\n",
       "\n",
       "    .dataframe thead th {\n",
       "        text-align: right;\n",
       "    }\n",
       "</style>\n",
       "<table border=\"1\" class=\"dataframe\">\n",
       "  <thead>\n",
       "    <tr style=\"text-align: right;\">\n",
       "      <th></th>\n",
       "      <th>HeartDisease</th>\n",
       "      <th>BMI</th>\n",
       "      <th>Smoking</th>\n",
       "      <th>AlcoholDrinking</th>\n",
       "      <th>Stroke</th>\n",
       "      <th>PhysicalHealth</th>\n",
       "      <th>MentalHealth</th>\n",
       "      <th>DiffWalking</th>\n",
       "      <th>Sex</th>\n",
       "      <th>AgeCategory</th>\n",
       "      <th>Diabetic</th>\n",
       "      <th>PhysicalActivity</th>\n",
       "      <th>GenHealth</th>\n",
       "      <th>SleepTime</th>\n",
       "      <th>Asthma</th>\n",
       "      <th>KidneyDisease</th>\n",
       "      <th>SkinCancer</th>\n",
       "    </tr>\n",
       "  </thead>\n",
       "  <tbody>\n",
       "    <tr>\n",
       "      <th>0</th>\n",
       "      <td>0</td>\n",
       "      <td>19,7</td>\n",
       "      <td>0</td>\n",
       "      <td>0</td>\n",
       "      <td>0</td>\n",
       "      <td>0</td>\n",
       "      <td>0</td>\n",
       "      <td>0</td>\n",
       "      <td>8</td>\n",
       "      <td>10</td>\n",
       "      <td>0</td>\n",
       "      <td>0</td>\n",
       "      <td>5</td>\n",
       "      <td>6</td>\n",
       "      <td>0</td>\n",
       "      <td>0</td>\n",
       "      <td>0</td>\n",
       "    </tr>\n",
       "    <tr>\n",
       "      <th>1</th>\n",
       "      <td>0</td>\n",
       "      <td>22,8</td>\n",
       "      <td>0</td>\n",
       "      <td>0</td>\n",
       "      <td>0</td>\n",
       "      <td>0</td>\n",
       "      <td>0</td>\n",
       "      <td>0</td>\n",
       "      <td>8</td>\n",
       "      <td>10</td>\n",
       "      <td>0</td>\n",
       "      <td>1</td>\n",
       "      <td>5</td>\n",
       "      <td>6</td>\n",
       "      <td>1</td>\n",
       "      <td>0</td>\n",
       "      <td>0</td>\n",
       "    </tr>\n",
       "    <tr>\n",
       "      <th>2</th>\n",
       "      <td>1</td>\n",
       "      <td>28,8</td>\n",
       "      <td>1</td>\n",
       "      <td>0</td>\n",
       "      <td>1</td>\n",
       "      <td>25</td>\n",
       "      <td>28</td>\n",
       "      <td>1</td>\n",
       "      <td>9</td>\n",
       "      <td>20</td>\n",
       "      <td>1</td>\n",
       "      <td>0</td>\n",
       "      <td>3</td>\n",
       "      <td>9</td>\n",
       "      <td>0</td>\n",
       "      <td>1</td>\n",
       "      <td>0</td>\n",
       "    </tr>\n",
       "    <tr>\n",
       "      <th>3</th>\n",
       "      <td>0</td>\n",
       "      <td>23</td>\n",
       "      <td>0</td>\n",
       "      <td>0</td>\n",
       "      <td>0</td>\n",
       "      <td>0</td>\n",
       "      <td>0</td>\n",
       "      <td>0</td>\n",
       "      <td>9</td>\n",
       "      <td>10</td>\n",
       "      <td>0</td>\n",
       "      <td>0</td>\n",
       "      <td>6</td>\n",
       "      <td>6</td>\n",
       "      <td>0</td>\n",
       "      <td>0</td>\n",
       "      <td>0</td>\n",
       "    </tr>\n",
       "    <tr>\n",
       "      <th>4</th>\n",
       "      <td>1</td>\n",
       "      <td>32,4</td>\n",
       "      <td>0</td>\n",
       "      <td>1</td>\n",
       "      <td>1</td>\n",
       "      <td>30</td>\n",
       "      <td>15</td>\n",
       "      <td>1</td>\n",
       "      <td>8</td>\n",
       "      <td>18</td>\n",
       "      <td>1</td>\n",
       "      <td>0</td>\n",
       "      <td>4</td>\n",
       "      <td>4</td>\n",
       "      <td>1</td>\n",
       "      <td>1</td>\n",
       "      <td>1</td>\n",
       "    </tr>\n",
       "    <tr>\n",
       "      <th>5</th>\n",
       "      <td>0</td>\n",
       "      <td>22,4</td>\n",
       "      <td>0</td>\n",
       "      <td>1</td>\n",
       "      <td>0</td>\n",
       "      <td>10</td>\n",
       "      <td>7</td>\n",
       "      <td>0</td>\n",
       "      <td>8</td>\n",
       "      <td>15</td>\n",
       "      <td>1</td>\n",
       "      <td>1</td>\n",
       "      <td>4</td>\n",
       "      <td>8</td>\n",
       "      <td>0</td>\n",
       "      <td>0</td>\n",
       "      <td>0</td>\n",
       "    </tr>\n",
       "    <tr>\n",
       "      <th>6</th>\n",
       "      <td>0</td>\n",
       "      <td>21,6</td>\n",
       "      <td>0</td>\n",
       "      <td>0</td>\n",
       "      <td>0</td>\n",
       "      <td>20</td>\n",
       "      <td>8</td>\n",
       "      <td>0</td>\n",
       "      <td>8</td>\n",
       "      <td>10</td>\n",
       "      <td>0</td>\n",
       "      <td>0</td>\n",
       "      <td>3</td>\n",
       "      <td>5</td>\n",
       "      <td>1</td>\n",
       "      <td>0</td>\n",
       "      <td>0</td>\n",
       "    </tr>\n",
       "    <tr>\n",
       "      <th>7</th>\n",
       "      <td>0</td>\n",
       "      <td>29,7</td>\n",
       "      <td>0</td>\n",
       "      <td>0</td>\n",
       "      <td>0</td>\n",
       "      <td>7</td>\n",
       "      <td>0</td>\n",
       "      <td>0</td>\n",
       "      <td>8</td>\n",
       "      <td>10</td>\n",
       "      <td>0</td>\n",
       "      <td>0</td>\n",
       "      <td>3</td>\n",
       "      <td>6</td>\n",
       "      <td>1</td>\n",
       "      <td>0</td>\n",
       "      <td>0</td>\n",
       "    </tr>\n",
       "    <tr>\n",
       "      <th>8</th>\n",
       "      <td>1</td>\n",
       "      <td>30,5</td>\n",
       "      <td>1</td>\n",
       "      <td>1</td>\n",
       "      <td>1</td>\n",
       "      <td>20</td>\n",
       "      <td>0</td>\n",
       "      <td>1</td>\n",
       "      <td>9</td>\n",
       "      <td>12</td>\n",
       "      <td>1</td>\n",
       "      <td>0</td>\n",
       "      <td>2</td>\n",
       "      <td>4</td>\n",
       "      <td>0</td>\n",
       "      <td>1</td>\n",
       "      <td>0</td>\n",
       "    </tr>\n",
       "    <tr>\n",
       "      <th>9</th>\n",
       "      <td>1</td>\n",
       "      <td>34,8</td>\n",
       "      <td>0</td>\n",
       "      <td>1</td>\n",
       "      <td>0</td>\n",
       "      <td>5</td>\n",
       "      <td>3</td>\n",
       "      <td>1</td>\n",
       "      <td>8</td>\n",
       "      <td>21</td>\n",
       "      <td>0</td>\n",
       "      <td>0</td>\n",
       "      <td>3</td>\n",
       "      <td>8</td>\n",
       "      <td>1</td>\n",
       "      <td>0</td>\n",
       "      <td>1</td>\n",
       "    </tr>\n",
       "    <tr>\n",
       "      <th>10</th>\n",
       "      <td>0</td>\n",
       "      <td>23,7</td>\n",
       "      <td>0</td>\n",
       "      <td>0</td>\n",
       "      <td>0</td>\n",
       "      <td>0</td>\n",
       "      <td>5</td>\n",
       "      <td>0</td>\n",
       "      <td>9</td>\n",
       "      <td>10</td>\n",
       "      <td>0</td>\n",
       "      <td>1</td>\n",
       "      <td>5</td>\n",
       "      <td>6</td>\n",
       "      <td>0</td>\n",
       "      <td>0</td>\n",
       "      <td>0</td>\n",
       "    </tr>\n",
       "    <tr>\n",
       "      <th>11</th>\n",
       "      <td>0</td>\n",
       "      <td>18,4</td>\n",
       "      <td>0</td>\n",
       "      <td>0</td>\n",
       "      <td>0</td>\n",
       "      <td>0</td>\n",
       "      <td>10</td>\n",
       "      <td>0</td>\n",
       "      <td>9</td>\n",
       "      <td>10</td>\n",
       "      <td>0</td>\n",
       "      <td>1</td>\n",
       "      <td>5</td>\n",
       "      <td>6</td>\n",
       "      <td>0</td>\n",
       "      <td>0</td>\n",
       "      <td>0</td>\n",
       "    </tr>\n",
       "    <tr>\n",
       "      <th>12</th>\n",
       "      <td>1</td>\n",
       "      <td>29,8</td>\n",
       "      <td>0</td>\n",
       "      <td>0</td>\n",
       "      <td>1</td>\n",
       "      <td>23</td>\n",
       "      <td>24</td>\n",
       "      <td>1</td>\n",
       "      <td>8</td>\n",
       "      <td>20</td>\n",
       "      <td>1</td>\n",
       "      <td>0</td>\n",
       "      <td>2</td>\n",
       "      <td>9</td>\n",
       "      <td>1</td>\n",
       "      <td>1</td>\n",
       "      <td>0</td>\n",
       "    </tr>\n",
       "    <tr>\n",
       "      <th>13</th>\n",
       "      <td>1</td>\n",
       "      <td>28,5</td>\n",
       "      <td>1</td>\n",
       "      <td>1</td>\n",
       "      <td>1</td>\n",
       "      <td>28</td>\n",
       "      <td>26</td>\n",
       "      <td>1</td>\n",
       "      <td>9</td>\n",
       "      <td>21</td>\n",
       "      <td>1</td>\n",
       "      <td>0</td>\n",
       "      <td>3</td>\n",
       "      <td>8</td>\n",
       "      <td>1</td>\n",
       "      <td>0</td>\n",
       "      <td>1</td>\n",
       "    </tr>\n",
       "    <tr>\n",
       "      <th>14</th>\n",
       "      <td>1</td>\n",
       "      <td>33,5</td>\n",
       "      <td>0</td>\n",
       "      <td>0</td>\n",
       "      <td>1</td>\n",
       "      <td>27</td>\n",
       "      <td>30</td>\n",
       "      <td>1</td>\n",
       "      <td>8</td>\n",
       "      <td>21</td>\n",
       "      <td>1</td>\n",
       "      <td>0</td>\n",
       "      <td>2</td>\n",
       "      <td>10</td>\n",
       "      <td>1</td>\n",
       "      <td>1</td>\n",
       "      <td>0</td>\n",
       "    </tr>\n",
       "  </tbody>\n",
       "</table>\n",
       "</div>"
      ],
      "text/plain": [
       "    HeartDisease   BMI  Smoking  AlcoholDrinking  Stroke  PhysicalHealth  \\\n",
       "0              0  19,7        0                0       0               0   \n",
       "1              0  22,8        0                0       0               0   \n",
       "2              1  28,8        1                0       1              25   \n",
       "3              0    23        0                0       0               0   \n",
       "4              1  32,4        0                1       1              30   \n",
       "5              0  22,4        0                1       0              10   \n",
       "6              0  21,6        0                0       0              20   \n",
       "7              0  29,7        0                0       0               7   \n",
       "8              1  30,5        1                1       1              20   \n",
       "9              1  34,8        0                1       0               5   \n",
       "10             0  23,7        0                0       0               0   \n",
       "11             0  18,4        0                0       0               0   \n",
       "12             1  29,8        0                0       1              23   \n",
       "13             1  28,5        1                1       1              28   \n",
       "14             1  33,5        0                0       1              27   \n",
       "\n",
       "    MentalHealth  DiffWalking  Sex  AgeCategory  Diabetic  PhysicalActivity  \\\n",
       "0              0            0    8           10         0                 0   \n",
       "1              0            0    8           10         0                 1   \n",
       "2             28            1    9           20         1                 0   \n",
       "3              0            0    9           10         0                 0   \n",
       "4             15            1    8           18         1                 0   \n",
       "5              7            0    8           15         1                 1   \n",
       "6              8            0    8           10         0                 0   \n",
       "7              0            0    8           10         0                 0   \n",
       "8              0            1    9           12         1                 0   \n",
       "9              3            1    8           21         0                 0   \n",
       "10             5            0    9           10         0                 1   \n",
       "11            10            0    9           10         0                 1   \n",
       "12            24            1    8           20         1                 0   \n",
       "13            26            1    9           21         1                 0   \n",
       "14            30            1    8           21         1                 0   \n",
       "\n",
       "    GenHealth  SleepTime  Asthma  KidneyDisease  SkinCancer  \n",
       "0           5          6       0              0           0  \n",
       "1           5          6       1              0           0  \n",
       "2           3          9       0              1           0  \n",
       "3           6          6       0              0           0  \n",
       "4           4          4       1              1           1  \n",
       "5           4          8       0              0           0  \n",
       "6           3          5       1              0           0  \n",
       "7           3          6       1              0           0  \n",
       "8           2          4       0              1           0  \n",
       "9           3          8       1              0           1  \n",
       "10          5          6       0              0           0  \n",
       "11          5          6       0              0           0  \n",
       "12          2          9       1              1           0  \n",
       "13          3          8       1              0           1  \n",
       "14          2         10       1              1           0  "
      ]
     },
     "execution_count": 14,
     "metadata": {},
     "output_type": "execute_result"
    }
   ],
   "source": [
    "data_real=pd.read_csv('/kaggle/input/datosreales/DatosReales.csv')\n",
    "data_real"
   ]
  },
  {
   "cell_type": "markdown",
   "id": "28b7d8c3",
   "metadata": {
    "papermill": {
     "duration": 0.00912,
     "end_time": "2022-10-29T16:02:56.430433",
     "exception": false,
     "start_time": "2022-10-29T16:02:56.421313",
     "status": "completed"
    },
    "tags": []
   },
   "source": [
    "# Se dividen la data real"
   ]
  },
  {
   "cell_type": "code",
   "execution_count": 15,
   "id": "d4cde0d1",
   "metadata": {
    "execution": {
     "iopub.execute_input": "2022-10-29T16:02:56.450968Z",
     "iopub.status.busy": "2022-10-29T16:02:56.450546Z",
     "iopub.status.idle": "2022-10-29T16:02:56.458079Z",
     "shell.execute_reply": "2022-10-29T16:02:56.456824Z"
    },
    "papermill": {
     "duration": 0.020508,
     "end_time": "2022-10-29T16:02:56.460336",
     "exception": false,
     "start_time": "2022-10-29T16:02:56.439828",
     "status": "completed"
    },
    "tags": []
   },
   "outputs": [],
   "source": [
    "X_real=data_real.iloc[:,1:]\n",
    "Y_real=data_real.iloc[:,0]\n",
    "X_real[\"BMI\"] = encoder.fit_transform(X_real[\"BMI\"])"
   ]
  },
  {
   "cell_type": "markdown",
   "id": "894cc028",
   "metadata": {
    "papermill": {
     "duration": 0.010017,
     "end_time": "2022-10-29T16:02:56.480047",
     "exception": false,
     "start_time": "2022-10-29T16:02:56.470030",
     "status": "completed"
    },
    "tags": []
   },
   "source": [
    "# Se realiza el entrenamiento y validación con el número de componente seleccionado"
   ]
  },
  {
   "cell_type": "code",
   "execution_count": 16,
   "id": "82c5808b",
   "metadata": {
    "execution": {
     "iopub.execute_input": "2022-10-29T16:02:56.501123Z",
     "iopub.status.busy": "2022-10-29T16:02:56.500735Z",
     "iopub.status.idle": "2022-10-29T16:02:57.708309Z",
     "shell.execute_reply": "2022-10-29T16:02:57.707174Z"
    },
    "papermill": {
     "duration": 1.220812,
     "end_time": "2022-10-29T16:02:57.710574",
     "exception": false,
     "start_time": "2022-10-29T16:02:56.489762",
     "status": "completed"
    },
    "tags": []
   },
   "outputs": [
    {
     "name": "stdout",
     "output_type": "stream",
     "text": [
      "#####################Rendimiento después del entrenamiento#########################\n",
      "Model: QuadraticDiscriminantAnalysis()\n",
      "Accuracy Score: 0.8415972649287569\n",
      "Precission Score: 0.2593451568894952\n",
      "Recall Score: 0.46701879375998034\n",
      "F1-Score: 0.3334941449936406\n",
      "Pipeline [0 1]\n",
      "Accuracy: 0.5333333333333333\n",
      "Precission Score: 0.0\n",
      "Recall Score: 0.0\n",
      "F1-Score: 0.0\n"
     ]
    },
    {
     "name": "stderr",
     "output_type": "stream",
     "text": [
      "/opt/conda/lib/python3.7/site-packages/sklearn/metrics/_classification.py:1318: UndefinedMetricWarning: Precision is ill-defined and being set to 0.0 due to no predicted samples. Use `zero_division` parameter to control this behavior.\n",
      "  _warn_prf(average, modifier, msg_start, len(result))\n"
     ]
    },
    {
     "data": {
      "image/png": "[encoded data removed]",
      "text/plain": [
       "<Figure size 432x288 with 2 Axes>"
      ]
     },
     "metadata": {
      "needs_background": "light"
     },
     "output_type": "display_data"
    },
    {
     "data": {
      "image/png": "[encoded data removed]",
      "text/plain": [
       "<Figure size 432x288 with 2 Axes>"
      ]
     },
     "metadata": {
      "needs_background": "light"
     },
     "output_type": "display_data"
    }
   ],
   "source": [
    "entrenamiento_num_caracteristica_seleccionada(QuadraticDiscriminantAnalysis(), n_comp=14, X= array_data_x, Y = array_data_y, Xreal=X_real, Yreal=Y_real)"
   ]
  },
  {
   "cell_type": "code",
   "execution_count": null,
   "id": "0bca542f",
   "metadata": {
    "papermill": {
     "duration": 0.009806,
     "end_time": "2022-10-29T16:02:57.730758",
     "exception": false,
     "start_time": "2022-10-29T16:02:57.720952",
     "status": "completed"
    },
    "tags": []
   },
   "outputs": [],
   "source": []
  }
 ],
 "metadata": {
  "kernelspec": {
   "display_name": "Python 3",
   "language": "python",
   "name": "python3"
  },
  "language_info": {
   "codemirror_mode": {
    "name": "ipython",
    "version": 3
   },
   "file_extension": ".py",
   "mimetype": "text/x-python",
   "name": "python",
   "nbconvert_exporter": "python",
   "pygments_lexer": "ipython3",
   "version": "3.7.12"
  },
  "papermill": {
   "default_parameters": {},
   "duration": 42.107397,
   "end_time": "2022-10-29T16:02:58.464188",
   "environment_variables": {},
   "exception": null,
   "input_path": "__notebook__.ipynb",
   "output_path": "__notebook__.ipynb",
   "parameters": {},
   "start_time": "2022-10-29T16:02:16.356791",
   "version": "2.3.4"
  }
 },
 "nbformat": 4,
 "nbformat_minor": 5
}
